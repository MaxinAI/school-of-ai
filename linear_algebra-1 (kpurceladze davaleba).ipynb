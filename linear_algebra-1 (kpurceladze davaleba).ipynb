{
 "cells": [
  {
   "cell_type": "code",
   "execution_count": 4,
   "metadata": {},
   "outputs": [],
   "source": [
    "%load_ext autoreload\n",
    "%autoreload 2\n",
    "\n",
    "%matplotlib inline\n",
    "\n",
    "import numpy as np"
   ]
  },
  {
   "cell_type": "markdown",
   "metadata": {},
   "source": [
    "## Basic setup"
   ]
  },
  {
   "cell_type": "markdown",
   "metadata": {},
   "source": [
    "Create anaconda environment\n",
    "<br>\n",
    "```bash\n",
    "conda create -n ml python=3.7.4 jupyter\n",
    "```\n",
    "Install fastai library\n",
    "<br>\n",
    "```bash\n",
    "conda install -c pytorch -c fastai fastai\n",
    "```"
   ]
  },
  {
   "cell_type": "markdown",
   "metadata": {},
   "source": [
    "# Set theory basics"
   ]
  },
  {
   "cell_type": "markdown",
   "metadata": {},
   "source": [
    "Set (small) collection of mathematical (unique) elements $\\{x, y, z, ...\\}$, for instance, set of integers $\\{1, 2, 3, ...\\}$, set of real numbers $\\mathbb{R}$. We can describe a set with its properties, e.g. set of real numbers between $1$ and $5$ will be $\\{x | x \\in \\mathbb{R}, 1\\leq x \\leq 5 \\}$."
   ]
  },
  {
   "cell_type": "code",
   "execution_count": 7,
   "metadata": {},
   "outputs": [
    {
     "data": {
      "text/plain": [
       "(set, set, set, {1, 2, 3, 4})"
      ]
     },
     "execution_count": 7,
     "metadata": {},
     "output_type": "execute_result"
    }
   ],
   "source": [
    "S = set([2, 4])\n",
    "A = {1, 2, 3, 4, 4}\n",
    "B = {2, 4}\n",
    "C = {1, 2, 18, 28}\n",
    "type(S), type(A), type(B), A"
   ]
  },
  {
   "cell_type": "markdown",
   "metadata": {},
   "source": [
    "We say that element $a \\in A$ if element $a$ belongs to set $A$ and $a \\notin A$ in the other case"
   ]
  },
  {
   "cell_type": "code",
   "execution_count": 8,
   "metadata": {},
   "outputs": [
    {
     "data": {
      "text/plain": [
       "(True, True, False)"
      ]
     },
     "execution_count": 8,
     "metadata": {},
     "output_type": "execute_result"
    }
   ],
   "source": [
    "1 in A, 2 in B, 3 in C"
   ]
  },
  {
   "cell_type": "markdown",
   "metadata": {},
   "source": [
    "Note: sometimes we write $a, b \\in A$ (or $a, b, c \\in A$, $a,b,c,d \\in A$, $a_1, a_2, ..., a_n \\in A$) instead of $a \\in A$ and $b \\in A$ (or $a \\in A$ and $b \\in A$ and $c \\in A$, $a \\in A$ and $b \\in A$ and $c \\in A$ and $d \\in A$, $a_1 \\in A$ and $a_2 \\in A$ and ... $a_n \\in A$)"
   ]
  },
  {
   "cell_type": "markdown",
   "metadata": {},
   "source": [
    "Set (category) of all \"small\" sets $Set$"
   ]
  },
  {
   "cell_type": "markdown",
   "metadata": {},
   "source": [
    "Subset $B \\subseteq A$ if for every $x$ element of $B$, $x \\in A$ "
   ]
  },
  {
   "cell_type": "code",
   "execution_count": 9,
   "metadata": {},
   "outputs": [
    {
     "data": {
      "text/plain": [
       "(True, False)"
      ]
     },
     "execution_count": 9,
     "metadata": {},
     "output_type": "execute_result"
    }
   ],
   "source": [
    "B.issubset(A), A.issubset(B)"
   ]
  },
  {
   "cell_type": "markdown",
   "metadata": {},
   "source": [
    "Prove that $A \\subseteq A$"
   ]
  },
  {
   "cell_type": "markdown",
   "metadata": {},
   "source": [
    "Proper subset $B \\subset A$ if for every element $b \\in B$: $A \\in A$ and there exists $a \\in a$ such that: $a \\notin B$, or in other words $B \\subseteq A$ and $B \\neq A$"
   ]
  },
  {
   "cell_type": "markdown",
   "metadata": {},
   "source": [
    "If $A \\subseteq B$ and $B \\subseteq A$ $\\to$ $A = B$"
   ]
  },
  {
   "cell_type": "markdown",
   "metadata": {},
   "source": [
    "Empty set a $\\emptyset$ is a set without elements at all and which is contained in any set $\\emptyset \\subseteq A$ for any $A \\in Set$ so $\\emptyset$ is the \"smallest\" set (Proof it)"
   ]
  },
  {
   "cell_type": "code",
   "execution_count": 10,
   "metadata": {},
   "outputs": [
    {
     "data": {
      "text/plain": [
       "dict"
      ]
     },
     "execution_count": 10,
     "metadata": {},
     "output_type": "execute_result"
    }
   ],
   "source": [
    "#O = set() \n",
    "O = {}\n",
    "type(O)"
   ]
  },
  {
   "cell_type": "markdown",
   "metadata": {},
   "source": [
    "Intersection of two sets $A$ and $B$ $A \\cap B$ is a \"biggest\" subset of $A$ and $B$, that means for every set $C$ such that, $C \\subseteq A$ and $C \\subseteq B$ $\\to$ (implies) $C \\subseteq A\\cap B$"
   ]
  },
  {
   "cell_type": "code",
   "execution_count": 11,
   "metadata": {},
   "outputs": [
    {
     "data": {
      "text/plain": [
       "({2, 4}, {1, 2}, {1, 2, 3, 4}, {2, 4}, {1, 2, 18, 28})"
      ]
     },
     "execution_count": 11,
     "metadata": {},
     "output_type": "execute_result"
    }
   ],
   "source": [
    "A.intersection(B), A.intersection(C), A, B, C"
   ]
  },
  {
   "cell_type": "markdown",
   "metadata": {},
   "source": [
    "Give an exmaples of two sets $A$ and $B$ for which $A \\cap B = \\emptyset$"
   ]
  },
  {
   "cell_type": "markdown",
   "metadata": {},
   "source": [
    "Prove that if $B \\subset A$ then $A \\cap B = B$"
   ]
  },
  {
   "cell_type": "markdown",
   "metadata": {},
   "source": [
    "Prove that $A \\cap B = B \\cap A$"
   ]
  },
  {
   "cell_type": "markdown",
   "metadata": {},
   "source": [
    "Union of two sets $A$ and $B$ $A \\cup B$ is a \"smallest\" set that contains both - $A$ and $B$, that means:\n",
    "for every set $D$ such that $A \\subseteq D$ and $B \\subseteq D$ $\\to$ (implies) $A \\cup B \\subseteq D$"
   ]
  },
  {
   "cell_type": "code",
   "execution_count": 12,
   "metadata": {},
   "outputs": [
    {
     "data": {
      "text/plain": [
       "({1, 2, 3, 4}, {1, 2, 18, 28}, {1, 2, 3, 4, 18, 28}, {1, 2, 3, 4})"
      ]
     },
     "execution_count": 12,
     "metadata": {},
     "output_type": "execute_result"
    }
   ],
   "source": [
    "A, C, A.union(C), A.union(B) "
   ]
  },
  {
   "cell_type": "markdown",
   "metadata": {},
   "source": [
    "Prove that if $B \\subset A$ then $A \\cup B = A$"
   ]
  },
  {
   "cell_type": "markdown",
   "metadata": {},
   "source": [
    "Prove that $A \\cup B = B \\cup A$"
   ]
  },
  {
   "cell_type": "markdown",
   "metadata": {},
   "source": [
    "Difference between two sets $A$ snd $B$ is the set $A - B$ or $A \\ B$ for which $a \\in A - B$ if $a \\in A$ and $a \\notin B$"
   ]
  },
  {
   "cell_type": "code",
   "execution_count": 13,
   "metadata": {},
   "outputs": [
    {
     "data": {
      "text/plain": [
       "({1, 3}, {3, 4}, {18, 28}, {1, 2, 3, 4}, {2, 4}, {1, 2, 18, 28})"
      ]
     },
     "execution_count": 13,
     "metadata": {},
     "output_type": "execute_result"
    }
   ],
   "source": [
    "A - B, A - C, C - A, A, B, C"
   ]
  },
  {
   "cell_type": "markdown",
   "metadata": {},
   "source": [
    "For set $A$ and subset $B$ we denote $A - B$ with $\\overline{B}$ or $B^{C}$"
   ]
  },
  {
   "cell_type": "markdown",
   "metadata": {},
   "source": [
    "Set of subsets (powerset) of the set $X$ will be $2^X = \\{A | A \\subseteq X\\}$"
   ]
  },
  {
   "cell_type": "code",
   "execution_count": 14,
   "metadata": {},
   "outputs": [
    {
     "data": {
      "text/plain": [
       "({1, 2, 3, 4},\n",
       " {(),\n",
       "  (1,),\n",
       "  (1, 2),\n",
       "  (1, 2, 3),\n",
       "  (1, 2, 3, 4),\n",
       "  (1, 2, 4),\n",
       "  (1, 3),\n",
       "  (1, 3, 4),\n",
       "  (1, 4),\n",
       "  (2,),\n",
       "  (2, 3),\n",
       "  (2, 3, 4),\n",
       "  (2, 4),\n",
       "  (3,),\n",
       "  (3, 4),\n",
       "  (4,)},\n",
       " 4,\n",
       " 16,\n",
       " 16,\n",
       " True)"
      ]
     },
     "execution_count": 14,
     "metadata": {},
     "output_type": "execute_result"
    }
   ],
   "source": [
    "from itertools import combinations, chain\n",
    "pset = chain.from_iterable(set(combinations(A, r)) for r in range(len(A)+1))\n",
    "P_A = set(pset)\n",
    "A, P_A, len(A), len(P_A), 2**(len(A)), len(P_A) == 2**(len(A))"
   ]
  },
  {
   "cell_type": "markdown",
   "metadata": {},
   "source": [
    "Cartesian product of sets $A$ and $B$ in set of ordered pairs := $A\\times B = \\{(a, b) | a \\in A \\textrm{ and } b\\in B\\}$"
   ]
  },
  {
   "cell_type": "code",
   "execution_count": 15,
   "metadata": {},
   "outputs": [
    {
     "data": {
      "text/plain": [
       "({(1, 2), (1, 4), (2, 2), (2, 4), (3, 2), (3, 4), (4, 2), (4, 4)}, 4, 2, 8)"
      ]
     },
     "execution_count": 15,
     "metadata": {},
     "output_type": "execute_result"
    }
   ],
   "source": [
    "AxB = {(a, b) for a in A for b in B}\n",
    "AxB, len(A), len(B), len(AxB)"
   ]
  },
  {
   "cell_type": "code",
   "execution_count": 17,
   "metadata": {},
   "outputs": [
    {
     "name": "stdout",
     "output_type": "stream",
     "text": [
      "AxBxC= {(4, 2, 2), (4, 4, 1), (1, 4, 18), (1, 2, 28), (4, 2, 18), (3, 4, 1), (1, 4, 2), (2, 4, 1), (3, 4, 2), (2, 4, 18), (4, 2, 28), (3, 2, 28), (4, 4, 28), (1, 4, 1), (3, 4, 18), (2, 4, 2), (3, 2, 2), (1, 2, 18), (3, 4, 28), (1, 4, 28), (1, 2, 1), (3, 2, 18), (2, 2, 28), (3, 2, 1), (1, 2, 2), (2, 2, 18), (2, 2, 2), (2, 2, 1), (4, 4, 18), (4, 2, 1), (2, 4, 28), (4, 4, 2)}\n"
     ]
    }
   ],
   "source": [
    "#AxBxC = ?\n",
    "\n",
    "\n",
    "AxBxC= {(a,b,c) for a in A\n",
    "       for b in B\n",
    "       for c in C}\n",
    "print('AxBxC=', AxBxC)"
   ]
  },
  {
   "cell_type": "markdown",
   "metadata": {},
   "source": [
    "Exclusively for mathematicians $(a, b) = \\{a, \\{a, b\\}\\}$ and $A \\times B = \\{\\{a, \\{a, b\\}\\} | a \\in A \\textrm{ and } b\\in B\\}$"
   ]
  },
  {
   "cell_type": "markdown",
   "metadata": {},
   "source": [
    "Every subset $R$ of $AxB$ is called relation. We write $aRb$ if and only if $(a, b) \\in R$"
   ]
  },
  {
   "cell_type": "markdown",
   "metadata": {},
   "source": [
    "Special cases of relations:"
   ]
  },
  {
   "cell_type": "markdown",
   "metadata": {},
   "source": [
    "For every set $A$ the diagonal $\\Delta \\subseteq A \\times A$ is $\\{(a, a) | a \\in A\\}$"
   ]
  },
  {
   "cell_type": "code",
   "execution_count": null,
   "metadata": {},
   "outputs": [],
   "source": [
    "#delta = ? # Use comprehension"
   ]
  },
  {
   "cell_type": "markdown",
   "metadata": {},
   "source": [
    "Equivalence relation on the set $A$: $E \\subset A \\times A$ with properties:\n",
    "- For each $a \\in A$ $aEa$, which means that diagonal $\\Delta \\subseteq E$ (reflexive property)\n",
    "- For each $a, b \\in A$ iff $aEb$ then $bEa$ (symmetric property)\n",
    "- For each $a, b, c \\in A$ if $aEb$ and $bEc$ then $aEc$\n"
   ]
  },
  {
   "cell_type": "markdown",
   "metadata": {},
   "source": [
    "Partial order relation $\\leq$\n",
    "- For each $a \\in A$ $a \\leq a$, which means that diagonal $\\Delta \\subseteq E$ (reflexive property)\n",
    "- For each $a, b \\in A$ if $a \\leq b$ and $b\\leq a$ then $a = b$ (anti-symmetric property)\n",
    "- For each $a, b, c \\in A$ if $a \\leq b$ and $b \\leq c$ then $a \\leq c$"
   ]
  },
  {
   "cell_type": "markdown",
   "metadata": {},
   "source": [
    "Function, map $f$ between two sets $A$ and $B$ is the special relation such that for every $a\\in A$ and every $b^{'}, b^{''} \\in B$ if $af{b^{'}}$ and $af{b^{''}}$ $\\to$ $b^{'}={b^{''}}$.\n"
   ]
  },
  {
   "cell_type": "markdown",
   "metadata": {},
   "source": [
    "We write : $f:A \\to B$ or $A \\xrightarrow{f} B$ instead of $f \\subseteq A \\times B $ and $f(a)=b$ or $f:a \\mapsto b$ instead of $afb$"
   ]
  },
  {
   "cell_type": "markdown",
   "metadata": {},
   "source": [
    "We write $f, g :A \\to B$ or $f_1, f_2, ..., f_n : A \\to B$ instead of $f: A\\to B$ and $g:A \\to B$ or  $f_1: A \\to B$ and $f_2 : A \\to B$ ... $f_n : A \\to B$"
   ]
  },
  {
   "cell_type": "code",
   "execution_count": null,
   "metadata": {},
   "outputs": [],
   "source": [
    "f = lambda x: x**2\n",
    "A, set(map(f, A)), A"
   ]
  },
  {
   "cell_type": "markdown",
   "metadata": {},
   "source": [
    "Composition of $f:A \\to B$ and $g:B \\to C$ is $g \\circ f : A \\to C$ where $a \\mapsto g(f(a))$ for each $a \\in A$"
   ]
  },
  {
   "cell_type": "markdown",
   "metadata": {},
   "source": [
    "or $A \\xrightarrow{f} B \\xrightarrow{g} C$ than $g \\circ f:A \\to C$"
   ]
  },
  {
   "cell_type": "markdown",
   "metadata": {},
   "source": [
    "Identity map $1_A:A \\to A$ is defined as $1_A(a) = a$ for each $a \\ int A$\n",
    "<br>\n",
    "If set is given we sometimes write $1:A \\to A$ for simplicity"
   ]
  },
  {
   "cell_type": "code",
   "execution_count": null,
   "metadata": {},
   "outputs": [],
   "source": [
    "g = lambda y: y + 12\n",
    "gf = lambda x : g(f(x))\n",
    "A, set(map(g, set(map(f, A)))), set(map(gf, A)), A"
   ]
  },
  {
   "cell_type": "markdown",
   "metadata": {},
   "source": [
    "Injection (monomorphism): $m:A \\to B$ is called injection if for eqch pair of elements $a^{'}, a^{''} \\in A$ if $f(a^{'}) = f(a^{''})$ $\\to$ $a^{'} = a^{''}$."
   ]
  },
  {
   "cell_type": "markdown",
   "metadata": {},
   "source": [
    "Surjection (epimorphism): $p:A \\to B$ is called injection if for ech pair of elements $a^{'}, a^{''} \\in A$ if $f(a^{'}) = f(a^{''})$ $\\to$ $a^{'} = a^{''}$."
   ]
  },
  {
   "cell_type": "markdown",
   "metadata": {},
   "source": [
    "Prove that:\n",
    "- for every injection $m:A \\to B$ and pair of functions $f, g :C \\to A$: if $m \\circ f = m \\circ g$ then $f = g$ and vice-versa\n",
    "- for every surjection $e:A \\to B$ and every pair of functions $f, g :B \\to C$: if $f \\circ e = g \\circ e$ then $f = g$ and vice-versa"
   ]
  },
  {
   "cell_type": "markdown",
   "metadata": {},
   "source": [
    "Bijection: $f: A \\to B$ is called bijection if $f$ is injection and surjection simultaneously"
   ]
  },
  {
   "cell_type": "markdown",
   "metadata": {},
   "source": [
    "Prove that \n",
    "- composition of injections is injection itself\n",
    "- composition of surjections is surjection itself\n",
    "- composition of bijections is bijection itself\n",
    "<br>\n",
    "or give a counterexamples"
   ]
  },
  {
   "cell_type": "markdown",
   "metadata": {},
   "source": [
    "If there exists a bijection between two sets $A$ and $B$, we call these two sets equivalent sets and write $A \\equiv B$ or $A \\cong B$"
   ]
  },
  {
   "cell_type": "markdown",
   "metadata": {},
   "source": [
    "Prove that for each set $A$:\n",
    "- $A \\cong A$\n",
    "- if $B \\cong A$ then $B \\cong A$ for every pair of sets $A$ and $B$\n",
    "- if $A \\cong B$ and $B \\cong C$ then $A \\cong C$ for every triplet $A$, $B$ and $C$"
   ]
  },
  {
   "cell_type": "markdown",
   "metadata": {},
   "source": [
    "Prove that there exists a bijection between set of natural and even numbers"
   ]
  },
  {
   "cell_type": "markdown",
   "metadata": {},
   "source": [
    "Prove thet if we have a bijection between two finite sets than they have an equal number of elements"
   ]
  },
  {
   "cell_type": "markdown",
   "metadata": {},
   "source": [
    "Prove that $A \\times B \\cong B \\times A$"
   ]
  },
  {
   "cell_type": "markdown",
   "metadata": {},
   "source": [
    "Suppose we have a set $I$ and $A$ and bijection $i:I \\to C \\subseteq 2^A$ than $I$ is called index set."
   ]
  },
  {
   "cell_type": "markdown",
   "metadata": {},
   "source": [
    "Let $I = \\mathbb{N}$ the we have a sequence of sets $(A_1, A_2, ...)$, or if $I$ is finite then we have a finite sequence of sets"
   ]
  },
  {
   "cell_type": "markdown",
   "metadata": {},
   "source": [
    "We can generalize intersections and unions for as many sets as we want"
   ]
  },
  {
   "cell_type": "markdown",
   "metadata": {},
   "source": [
    "$\\cap_{i\\in I}A_i$ and $\\cup_{i\\in I}A_i$"
   ]
  },
  {
   "cell_type": "code",
   "execution_count": 3,
   "metadata": {},
   "outputs": [
    {
     "name": "stdout",
     "output_type": "stream",
     "text": [
      "მოცემული სიმრავლეების თანაკვეთაა\n",
      "მოცემულ სიმრავლეთა გაერთიანებაა\n",
      "{2, 3, 4, 5, 6, 7, 8, 9, 10, 12, 14, 15, 16, 18, 20, 21, 22, 24, 25, 26, 27, 28, 30, 32, 33, 34, 35, 36, 38, 39, 40, 42, 44, 45, 46, 48, 49, 50, 51, 52, 54, 55, 56, 57, 58, 60, 62, 63, 64, 65, 66, 68, 69, 70, 72, 74, 75, 76, 77, 78, 80, 81, 82, 84, 85, 86, 87, 88, 90, 91, 92, 93, 94, 95, 96, 98, 99, 100}\n",
      "1-დან n**2-მდე(n**2=100) მარტივ რიცხვთა სიმრავლეა\n",
      "{2, 3, 5, 7, 11, 13, 17, 19, 23, 29, 31, 37, 41, 43, 47, 53, 59, 61, 67, 71, 73, 79, 83, 89, 97}\n"
     ]
    }
   ],
   "source": [
    "# Inplement in python\n",
    "\n",
    "#თანაკვეთები\n",
    "\n",
    "#B1={2,4,6,...,2n}\n",
    "#B2={3,6,9,...,3n}\n",
    "#................\n",
    "#Bk={k,2k,3k,...,kn}\n",
    "# C არის B1,B2,...,Bk სიმრავლეთა თანაკვეთა\n",
    "\n",
    "k=12\n",
    "n=100000\n",
    "\n",
    "for j in range (2,k+1):\n",
    "    B=set()\n",
    "    \n",
    "    for i in range (1,n):\n",
    "        B.add(j*i)\n",
    "        if j==2:\n",
    "            C=B\n",
    "    C=C.intersection(B)\n",
    "    \n",
    "print('მოცემული სიმრავლეების თანაკვეთაა')\n",
    "C\n",
    "\n",
    "#გაერთიანებები\n",
    "\n",
    "#მოცემული სიმრავლეებია:\n",
    "#A1={2,4,6,...,100}\n",
    "#A2={3,6,9,...,99}\n",
    "#..................\n",
    "#A(n-1)={n,2n,3n,...,}\n",
    "#   უნდა ვიპოვოთ ამ სიმრავლეების გაერთიანება\n",
    "# ვპოულობთ მარტივ რიცხვთა სიმრავლესაც,რისთვისაც გვჭირდება B={2,3,4,...,100} სიმრავლის შემოტანაც.\n",
    "\n",
    "\n",
    "A=set()\n",
    "B=set()\n",
    "C=set()\n",
    "\n",
    "n=10\n",
    "\n",
    "for k in range(2,n**2+1):\n",
    "    B.add(k)\n",
    "    \n",
    "    \n",
    "for j in range(2,n+1):\n",
    "    A=set()\n",
    "    for i in range(1, n**2//j+1):\n",
    "        A.add(i*j)\n",
    "        C=A.union(C)\n",
    "      \n",
    "       \n",
    "\n",
    "\n",
    "P=C-{2,3,5,7}\n",
    "P=B-P\n",
    "print('მოცემულ სიმრავლეთა გაერთიანებაა')\n",
    "print(C)\n",
    "\n",
    "print('1-დან n**2-მდე(n**2=100) მარტივ რიცხვთა სიმრავლეა')\n",
    "print(P)"
   ]
  },
  {
   "cell_type": "markdown",
   "metadata": {},
   "source": [
    "We can also define cartesian product of any \"number\" of sets $\\prod_{i \\in I}{A_i}$"
   ]
  },
  {
   "cell_type": "code",
   "execution_count": 23,
   "metadata": {},
   "outputs": [
    {
     "name": "stdout",
     "output_type": "stream",
     "text": [
      "AxBxC= {(1, 101, 10001), (3, 101, 10002), (2, 101, 10002), (1, 102, 10001), (3, 103, 10001), (2, 103, 10002), (3, 101, 10001), (1, 103, 10002), (2, 103, 10001), (3, 102, 10001), (1, 102, 10002), (2, 102, 10002), (3, 103, 10002), (1, 103, 10001), (1, 101, 10002), (2, 102, 10001), (3, 102, 10002), (2, 101, 10001)}\n"
     ]
    }
   ],
   "source": [
    "# Inplement in python \n",
    "A={1,2,3}\n",
    "B={101,102,103}\n",
    "C={10001,10002}\n",
    "\n",
    "            \n",
    "AxBxC= {(a,b,c) for a in A\n",
    "       for b in B\n",
    "       for c in C}\n",
    "print('AxBxC=', AxBxC)"
   ]
  },
  {
   "cell_type": "markdown",
   "metadata": {},
   "source": [
    "- $\\overline{\\cap_{i\\in I}A_i} = \\cup_{i\\in I}\\overline{A_i}$\n",
    "- $\\overline{\\cup_{i\\in I}A_i} = \\cap_{i\\in I}\\overline{A_i}$\n",
    "<br>\n",
    "or\n",
    "<br>\n",
    "- $\\overline{A \\cap B} = \\overline{A} \\cup \\overline{B}$\n",
    "- $\\overline{A \\cup B} = \\overline{A} \\cap \\overline{B}$"
   ]
  },
  {
   "cell_type": "markdown",
   "metadata": {},
   "source": [
    "Prove that:\n",
    "$$A \\cap (B \\cup C)=(A \\cap B) \\cup (A\\cap C)$$\n",
    "$$A \\cup (B \\cap C)=(A \\cup B) \\cap (A\\cup C)$$"
   ]
  },
  {
   "cell_type": "markdown",
   "metadata": {},
   "source": [
    "# Linear Algebra"
   ]
  },
  {
   "cell_type": "markdown",
   "metadata": {},
   "source": [
    "Branch of mathematics widely used in many fields. We'll introduce you to the essentials used in ML and DL.\n",
    "Many notions are simplified (sorry to mathematicians) for better understanding and implementation.\n",
    "We'll implement some basics of LA in NumPy library and have a glance of its use in CS fields."
   ]
  },
  {
   "cell_type": "markdown",
   "metadata": {},
   "source": [
    "## Scalars"
   ]
  },
  {
   "cell_type": "markdown",
   "metadata": {},
   "source": [
    "Real set of numbers $\\mathbb{R}$. Scalars as elements of the set of real numbers $x \\in \\mathbb{R}$ with sum, multiplication, etc.\n",
    "We define subset of numbers: natural numbers $\\mathbb{N}$, integers $\\mathbb{Z}$, rational numbers $\\mathbb{Q}$ and irrational numbers $\\mathbb{R}\\setminus\\mathbb{Q}$"
   ]
  },
  {
   "cell_type": "code",
   "execution_count": 24,
   "metadata": {},
   "outputs": [
    {
     "data": {
      "text/plain": [
       "(int, float, float, 105.0)"
      ]
     },
     "execution_count": 24,
     "metadata": {},
     "output_type": "execute_result"
    }
   ],
   "source": [
    "m = 100 \n",
    "n = 5.0\n",
    "type(m), type(n), type(m + n), m + n"
   ]
  },
  {
   "cell_type": "markdown",
   "metadata": {},
   "source": [
    "Take $a \\in \\mathbb{R}$ then for each $b \\in \\mathbb{R}$ there exists $\\alpha \\in \\mathbb{R}$ such that $b = \\alpha a$"
   ]
  },
  {
   "cell_type": "markdown",
   "metadata": {},
   "source": [
    "## Vectors"
   ]
  },
  {
   "cell_type": "markdown",
   "metadata": {},
   "source": [
    "Vectors can be considered as a subset of cartesian product of $\\mathbb{R}$ ($\\mathbb{N}$, $\\mathbb{Z}$, $\\mathbb{Q}$, etc)\n",
    "<br>\n",
    "For instance vector $x = (x_1, x_2, \\dots, x_n)$ we can write $x \\in \\mathbb{R}^{n}$\n",
    "<br>"
   ]
  },
  {
   "cell_type": "code",
   "execution_count": 25,
   "metadata": {},
   "outputs": [],
   "source": [
    "import numpy as np"
   ]
  },
  {
   "cell_type": "code",
   "execution_count": 26,
   "metadata": {},
   "outputs": [
    {
     "data": {
      "text/plain": [
       "([1, 2, 3, 4], array([1, 2, 3, 4, 5]))"
      ]
     },
     "execution_count": 26,
     "metadata": {},
     "output_type": "execute_result"
    }
   ],
   "source": [
    "la = [1, 2, 3, 4]\n",
    "na = np.array([1, 2, 3, 4, 5])\n",
    "la, na"
   ]
  },
  {
   "cell_type": "markdown",
   "metadata": {},
   "source": [
    "In many cases we'll work with collumn vectors like $\\begin{align}\n",
    "    x &= \\begin{bmatrix}\n",
    "           x_{1} \\\\\n",
    "           x_{2} \\\\\n",
    "           \\vdots \\\\\n",
    "           x_{m}\n",
    "         \\end{bmatrix}\n",
    "  \\end{align}$"
   ]
  },
  {
   "cell_type": "markdown",
   "metadata": {},
   "source": [
    "What is the difference between set $\\{a_1, a_2, \\dots, a_n\\}$ and vector $(a_1, a_2, \\dots, a_n)$?"
   ]
  },
  {
   "cell_type": "markdown",
   "metadata": {},
   "source": [
    "Indexing the vectors"
   ]
  },
  {
   "cell_type": "code",
   "execution_count": 27,
   "metadata": {},
   "outputs": [
    {
     "data": {
      "text/plain": [
       "(4, 3, [3, 4], [1, 2, 3], [3, 4])"
      ]
     },
     "execution_count": 27,
     "metadata": {},
     "output_type": "execute_result"
    }
   ],
   "source": [
    "la[-1], la[2], la[2:], la[:-1], la[2:4]"
   ]
  },
  {
   "cell_type": "code",
   "execution_count": 28,
   "metadata": {},
   "outputs": [
    {
     "data": {
      "text/plain": [
       "(5, 3, array([3, 4, 5]), array([1, 2, 3, 4]), array([3, 4]))"
      ]
     },
     "execution_count": 28,
     "metadata": {},
     "output_type": "execute_result"
    }
   ],
   "source": [
    "na[-1], na[2], na[2:], na[:-1], na[2:4]"
   ]
  },
  {
   "cell_type": "code",
   "execution_count": 36,
   "metadata": {},
   "outputs": [
    {
     "data": {
      "text/plain": [
       "array([1, 5])"
      ]
     },
     "execution_count": 36,
     "metadata": {},
     "output_type": "execute_result"
    }
   ],
   "source": [
    "lid = [0, 4]\n",
    "na[lid]"
   ]
  },
  {
   "cell_type": "code",
   "execution_count": 39,
   "metadata": {},
   "outputs": [
    {
     "data": {
      "text/plain": [
       "array([0, 4])"
      ]
     },
     "execution_count": 39,
     "metadata": {},
     "output_type": "execute_result"
    }
   ],
   "source": [
    "nid = np.array(lid)\n",
    "nid"
   ]
  },
  {
   "cell_type": "code",
   "execution_count": 38,
   "metadata": {},
   "outputs": [
    {
     "data": {
      "text/plain": [
       "array([1, 5])"
      ]
     },
     "execution_count": 38,
     "metadata": {},
     "output_type": "execute_result"
    }
   ],
   "source": [
    "na[lid]"
   ]
  },
  {
   "cell_type": "markdown",
   "metadata": {},
   "source": [
    "## Matrices"
   ]
  },
  {
   "cell_type": "markdown",
   "metadata": {},
   "source": [
    "Matrix $X$ can be considered as mulitidimensional array \n",
    "$\\begin{align}\n",
    "    X &= \\begin{matrix}\n",
    "        x_{11} & x_{12} & \\dots x_{1m} \\\\\n",
    "        x_{21} & x_{22} & \\dots x_{2m} \\\\\n",
    "        \\vdots & \\vdots & \\vdots \\\\\n",
    "        x_{n1} & x_{n2} & \\dots x_{nm} \\\\\n",
    "    \\end{matrix}\n",
    "\\end{align}$\n",
    "or \n",
    "$\\begin{align}\n",
    "    X &= \\begin{pmatrix}\n",
    "        x_{11} & x_{12} & \\dots x_{1m} \\\\\n",
    "        x_{21} & x_{22} & \\dots x_{2m} \\\\\n",
    "        \\vdots & \\vdots & \\vdots \\\\\n",
    "        x_{n1} & x_{n2} & \\dots x_{nm} \\\\\n",
    "    \\end{pmatrix}\n",
    "\\end{align}$\n",
    "or\n",
    "$\\begin{align}\n",
    "    X &= \\begin{bmatrix}\n",
    "        x_{11} & x_{12} & \\dots x_{1m} \\\\\n",
    "        x_{21} & x_{22} & \\dots x_{2m} \\\\\n",
    "        \\vdots & \\vdots & \\vdots \\\\\n",
    "        x_{n1} & x_{n2} & \\dots x_{nm} \\\\\n",
    "    \\end{bmatrix}\n",
    "\\end{align}$\n",
    "<br>\n",
    "Matrix also can be defined by indices $A_{i, j}$ if we don't need concrete demensions"
   ]
  },
  {
   "cell_type": "markdown",
   "metadata": {},
   "source": [
    "We say that $X$ has $n \\times m$ dimension\n",
    "<br>\n",
    "or $X \\in \\mathbb{R}^{n \\times m}$"
   ]
  },
  {
   "cell_type": "markdown",
   "metadata": {},
   "source": [
    "e.g. $\\begin{align}\n",
    "    X &= \\begin{pmatrix}\n",
    "        1 & 2 & 3 \\\\\n",
    "        4 & 5 & 6 \\\\\n",
    "        7 & 8 & 9 \\\\\n",
    "    \\end{pmatrix}\n",
    "\\end{align}$\n",
    "<br>\n",
    "Then $X_{23} = 6$"
   ]
  },
  {
   "cell_type": "markdown",
   "metadata": {},
   "source": [
    "Main diagonal of matrix $X$ are elements $x_{i,j}$ where $i = j$\n",
    "<br>\n",
    "$\\begin{align}\n",
    "    X &= \\begin{pmatrix}\n",
    "        x_{11} &  & \\dots \\\\\n",
    "         & x_{22} & \\dots \\\\\n",
    "        \\vdots & \\vdots & \\vdots \\\\\n",
    "         &  & \\dots x_{nm} \\\\\n",
    "    \\end{pmatrix}\n",
    "\\end{align}$\n"
   ]
  },
  {
   "cell_type": "code",
   "execution_count": 40,
   "metadata": {},
   "outputs": [
    {
     "name": "stdout",
     "output_type": "stream",
     "text": [
      "[[1, 2, 3], [4, 5, 6], [7, 8, 9]]\n",
      "[[1 2 3]\n",
      " [4 5 6]\n",
      " [7 8 9]]\n"
     ]
    }
   ],
   "source": [
    "lm = [[1, 2, 3], [4, 5, 6], [7, 8, 9]]\n",
    "nm = np.array(lm) # np.array([[1, 2, 3], [4, 5, 6]])\n",
    "print(lm)\n",
    "print(nm)"
   ]
  },
  {
   "cell_type": "code",
   "execution_count": 41,
   "metadata": {},
   "outputs": [
    {
     "data": {
      "text/plain": [
       "(6, 6)"
      ]
     },
     "execution_count": 41,
     "metadata": {},
     "output_type": "execute_result"
    }
   ],
   "source": [
    "lm[1][2], nm[1][2]"
   ]
  },
  {
   "cell_type": "code",
   "execution_count": 42,
   "metadata": {},
   "outputs": [
    {
     "data": {
      "text/plain": [
       "([[4, 5, 6], [7, 8, 9]], array([[4, 5, 6],\n",
       "        [7, 8, 9]]))"
      ]
     },
     "execution_count": 42,
     "metadata": {},
     "output_type": "execute_result"
    }
   ],
   "source": [
    "lm[1:], nm[1:]"
   ]
  },
  {
   "cell_type": "code",
   "execution_count": 43,
   "metadata": {},
   "outputs": [
    {
     "name": "stdout",
     "output_type": "stream",
     "text": [
      "[[4, 5, 6]]\n",
      "[[4 5 6]\n",
      " [7 8 9]]\n",
      "[1 2 3]\n"
     ]
    },
    {
     "data": {
      "text/plain": [
       "(array([[12,  2,  3],\n",
       "        [ 4,  5,  6],\n",
       "        [ 7,  8,  9]]), array([12,  2,  3]))"
      ]
     },
     "execution_count": 43,
     "metadata": {},
     "output_type": "execute_result"
    }
   ],
   "source": [
    "print(lm[1:2]) \n",
    "print(nm[1:, :]) \n",
    "nc_1 = nm[0, :]\n",
    "print(nc_1)\n",
    "nc_1[0] = 12\n",
    "nm, nc_1"
   ]
  },
  {
   "cell_type": "code",
   "execution_count": 44,
   "metadata": {},
   "outputs": [
    {
     "data": {
      "text/plain": [
       "array([12,  5,  9])"
      ]
     },
     "execution_count": 44,
     "metadata": {},
     "output_type": "execute_result"
    }
   ],
   "source": [
    "np.diag(nm, k=0)"
   ]
  },
  {
   "cell_type": "markdown",
   "metadata": {},
   "source": [
    "## Tensors"
   ]
  },
  {
   "cell_type": "markdown",
   "metadata": {},
   "source": [
    "Let's go to the higher dimesions and define tensor $X$ as part of $\\mathbb{R}^{n \\times m \\times k}$\n",
    "<br>\n",
    "Then we have a three indices instead of two, and $x_{i, j, k}$ is the element of tensor $X$ across the $i, j$ and $k$ indices"
   ]
  },
  {
   "cell_type": "markdown",
   "metadata": {},
   "source": [
    "In similar manner we can define more than three dimensional tensors $X \\in \\mathbb{R}^{n_1 \\times n_2 \\times \\dots \\times n_p}$"
   ]
  },
  {
   "cell_type": "code",
   "execution_count": 45,
   "metadata": {},
   "outputs": [
    {
     "name": "stdout",
     "output_type": "stream",
     "text": [
      "[[[ 1  2  3]\n",
      "  [ 4  5  6]\n",
      "  [ 7  8  9]]\n",
      "\n",
      " [[10 11 12]\n",
      "  [13 14 15]\n",
      "  [16 17 18]]]\n",
      "[[[1, 2, 3], [4, 5, 6], [7, 8, 9]], [[10, 11, 12], [13, 14, 15], [16, 17, 18]]]\n"
     ]
    }
   ],
   "source": [
    "lt = [[[1, 2, 3], [4, 5, 6], [7, 8, 9]], [[10, 11, 12], [13, 14, 15], [16, 17, 18]]]\n",
    "mt = np.array(lt) # or np.array([[[1, 2, 3], [4, 5, 6], [7, 8, 9]], [[10, 11, 12], [13, 14, 15], [16, 17, 18]]])\n",
    "print(mt)\n",
    "print(lt)"
   ]
  },
  {
   "cell_type": "code",
   "execution_count": 49,
   "metadata": {},
   "outputs": [],
   "source": [
    "mt = np.random.randint(0,100, size=(3, 3, 3))"
   ]
  },
  {
   "cell_type": "code",
   "execution_count": 50,
   "metadata": {},
   "outputs": [
    {
     "data": {
      "text/plain": [
       "array([[[42, 50, 47],\n",
       "        [19, 76, 29],\n",
       "        [43, 81, 12]],\n",
       "\n",
       "       [[ 0, 20, 90],\n",
       "        [ 4, 39, 48],\n",
       "        [51, 23, 16]],\n",
       "\n",
       "       [[35, 21, 62],\n",
       "        [39,  3, 64],\n",
       "        [56, 92, 29]]])"
      ]
     },
     "execution_count": 50,
     "metadata": {},
     "output_type": "execute_result"
    }
   ],
   "source": [
    "mt"
   ]
  },
  {
   "cell_type": "code",
   "execution_count": 51,
   "metadata": {},
   "outputs": [],
   "source": [
    "md = np.random.randint(0,100, size=(2, 3, 4))"
   ]
  },
  {
   "cell_type": "code",
   "execution_count": 52,
   "metadata": {},
   "outputs": [
    {
     "data": {
      "text/plain": [
       "array([[[16, 68, 27,  8],\n",
       "        [50, 76, 26, 10],\n",
       "        [89, 65, 85, 71]],\n",
       "\n",
       "       [[74, 82, 56, 11],\n",
       "        [16, 35, 73, 96],\n",
       "        [ 8, 52, 37, 38]]])"
      ]
     },
     "execution_count": 52,
     "metadata": {},
     "output_type": "execute_result"
    }
   ],
   "source": [
    "md"
   ]
  },
  {
   "cell_type": "code",
   "execution_count": 53,
   "metadata": {},
   "outputs": [],
   "source": [
    "mmd = np.random.randint(0, 100, size=(2, 3, 4, 5, 6))"
   ]
  },
  {
   "cell_type": "code",
   "execution_count": 54,
   "metadata": {
    "scrolled": true
   },
   "outputs": [
    {
     "data": {
      "text/plain": [
       "array([[[[[30, 85, 70, 19, 28, 68],\n",
       "          [38, 78, 49, 29, 36, 18],\n",
       "          [16, 18, 61, 25, 23, 85],\n",
       "          [21, 78, 10, 93, 87, 64],\n",
       "          [98, 10, 98, 42, 67, 71]],\n",
       "\n",
       "         [[57, 84, 33, 26, 74, 91],\n",
       "          [86, 73, 38, 46, 66, 53],\n",
       "          [ 0, 73, 34, 99, 87, 13],\n",
       "          [14, 10, 13, 27, 32, 44],\n",
       "          [37, 57, 10, 90, 29, 34]],\n",
       "\n",
       "         [[79, 28, 94, 30, 12, 99],\n",
       "          [91, 40, 35, 82, 80, 49],\n",
       "          [21, 61, 10, 82, 53, 78],\n",
       "          [19, 36, 77, 76, 12, 38],\n",
       "          [82, 22, 48, 98,  8, 50]],\n",
       "\n",
       "         [[39, 17, 50, 45, 13, 10],\n",
       "          [64, 36, 68,  1, 52, 94],\n",
       "          [20, 47, 86, 71, 43, 70],\n",
       "          [25, 74, 48, 26, 78, 69],\n",
       "          [65, 93, 76, 22, 64, 73]]],\n",
       "\n",
       "\n",
       "        [[[39, 88, 65, 39,  6, 98],\n",
       "          [66, 22, 37, 40, 54, 64],\n",
       "          [87, 46, 28, 91,  9, 11],\n",
       "          [50, 87, 24, 16, 57, 97],\n",
       "          [35, 11, 77, 35, 78, 57]],\n",
       "\n",
       "         [[27,  7, 85, 57, 46, 71],\n",
       "          [92, 69, 98, 96, 12, 59],\n",
       "          [25, 13, 96, 75, 85, 51],\n",
       "          [95, 12, 32, 81, 21, 97],\n",
       "          [23, 89,  8, 48, 83, 39]],\n",
       "\n",
       "         [[71, 28, 55, 96, 58, 12],\n",
       "          [66, 15, 33, 69, 43, 84],\n",
       "          [98, 39, 31, 75, 54, 57],\n",
       "          [10, 49, 56,  6, 17,  3],\n",
       "          [ 8, 62,  1, 16, 71, 91]],\n",
       "\n",
       "         [[92, 16, 79, 44, 35, 36],\n",
       "          [93, 99, 19, 95, 33, 14],\n",
       "          [26, 96, 22, 28, 57, 55],\n",
       "          [85, 16,  5,  4,  2, 87],\n",
       "          [10, 26, 75, 77, 39, 16]]],\n",
       "\n",
       "\n",
       "        [[[56, 70, 80, 35, 22, 53],\n",
       "          [30, 33, 29, 88, 64, 29],\n",
       "          [91, 36, 13, 94, 40, 78],\n",
       "          [84, 89, 95,  5, 52, 72],\n",
       "          [49, 48, 95, 25, 67, 11]],\n",
       "\n",
       "         [[89,  0, 34, 56, 99, 73],\n",
       "          [18, 80,  5, 11, 72,  3],\n",
       "          [61, 38, 88,  0, 96, 16],\n",
       "          [16, 13, 26,  2, 45, 56],\n",
       "          [87, 42, 40, 38, 67, 78]],\n",
       "\n",
       "         [[66,  4, 38, 73, 11, 85],\n",
       "          [80, 55, 48, 19, 50, 72],\n",
       "          [69, 82, 61, 21, 96, 85],\n",
       "          [92, 67, 88, 84,  3, 90],\n",
       "          [25, 99, 17, 79, 92, 61]],\n",
       "\n",
       "         [[13,  0, 76, 23, 26, 27],\n",
       "          [ 0, 53,  4, 85, 51, 10],\n",
       "          [66, 37, 82, 92, 23, 67],\n",
       "          [44, 34,  8, 82, 89, 85],\n",
       "          [97, 61, 64, 42, 44, 89]]]],\n",
       "\n",
       "\n",
       "\n",
       "       [[[[13, 55, 31, 92, 22, 95],\n",
       "          [85, 81, 32, 57,  4, 12],\n",
       "          [36, 60, 46, 20, 76, 21],\n",
       "          [95,  8,  2, 88,  7, 46],\n",
       "          [58,  2, 68, 96, 54, 23]],\n",
       "\n",
       "         [[48, 99, 99, 82, 45, 11],\n",
       "          [59, 13, 51, 18, 47, 38],\n",
       "          [52, 68, 62, 59, 37, 82],\n",
       "          [34, 86, 16, 75, 25, 36],\n",
       "          [25, 64, 90, 72, 66, 79]],\n",
       "\n",
       "         [[85, 93, 82,  4,  7, 79],\n",
       "          [92, 43,  7, 31, 28, 51],\n",
       "          [27, 99, 26, 39, 71, 62],\n",
       "          [89, 43, 45, 96, 59, 35],\n",
       "          [50, 19,  3, 45, 85, 58]],\n",
       "\n",
       "         [[77, 36, 60, 82, 56, 55],\n",
       "          [22, 92, 36, 76,  6, 41],\n",
       "          [ 5, 98, 36, 51, 99, 66],\n",
       "          [26, 36, 61, 39, 38, 42],\n",
       "          [90, 75, 28, 19, 63, 44]]],\n",
       "\n",
       "\n",
       "        [[[29, 56, 26,  8, 11, 68],\n",
       "          [67, 12, 20, 55, 82, 12],\n",
       "          [80, 36, 56, 69, 21, 75],\n",
       "          [65,  5, 65, 18, 28, 90],\n",
       "          [25, 72, 57, 19, 31, 28]],\n",
       "\n",
       "         [[63, 14, 17, 80, 87, 17],\n",
       "          [53, 80, 70,  6,  2, 56],\n",
       "          [92, 38,  9, 51, 61, 13],\n",
       "          [18, 22, 62, 45, 84, 84],\n",
       "          [85, 78, 20, 55, 22, 54]],\n",
       "\n",
       "         [[53, 45, 56, 68,  5, 92],\n",
       "          [34, 95, 21, 17,  4, 98],\n",
       "          [63, 69, 63, 65, 48, 67],\n",
       "          [ 8, 77, 83, 68, 35, 23],\n",
       "          [85, 62, 28, 11, 63, 78]],\n",
       "\n",
       "         [[31,  1, 16, 65, 54, 69],\n",
       "          [12, 95, 72, 15, 54, 68],\n",
       "          [18, 94, 99, 62, 48, 46],\n",
       "          [58, 15, 82, 64, 83,  3],\n",
       "          [13, 95, 12, 52, 68, 18]]],\n",
       "\n",
       "\n",
       "        [[[10, 50, 12, 71, 67, 27],\n",
       "          [69,  0, 35, 20,  7, 57],\n",
       "          [35, 96, 36, 98, 83, 97],\n",
       "          [24,  6, 25, 13,  9, 95],\n",
       "          [54, 47,  1, 56, 28, 89]],\n",
       "\n",
       "         [[55, 57, 86, 33, 60,  1],\n",
       "          [30, 70, 85, 16, 84, 91],\n",
       "          [94, 62, 22, 25, 80, 85],\n",
       "          [77, 94, 73, 69,  5, 52],\n",
       "          [88, 73, 99, 15, 94, 59]],\n",
       "\n",
       "         [[83, 22, 15, 21, 41,  0],\n",
       "          [36, 75, 83, 97, 83, 54],\n",
       "          [13, 48, 39, 93, 30, 70],\n",
       "          [ 0, 22, 18, 30, 74, 50],\n",
       "          [66,  0,  8, 66, 19, 55]],\n",
       "\n",
       "         [[24, 22, 48, 66, 83, 38],\n",
       "          [86, 96, 13, 20, 35, 83],\n",
       "          [29, 67, 41, 86, 83,  1],\n",
       "          [74, 37, 85, 85, 38, 22],\n",
       "          [16, 71, 84, 76,  4, 93]]]]])"
      ]
     },
     "execution_count": 54,
     "metadata": {},
     "output_type": "execute_result"
    }
   ],
   "source": [
    "mmd"
   ]
  },
  {
   "cell_type": "markdown",
   "metadata": {},
   "source": [
    "Transpose of matrix $X$ denoted by $X^T$ defined by elements $(X^{T})_{i, j} = X_{j, i}$ or $X \\in \\mathbb{R}^{n \\times m}$ then $T^{T} \\in \\mathbb{R}^{m \\times n}$\n",
    "<br>\n",
    "e.g.\n",
    "<br>\n",
    "$\\begin{align}\n",
    "    X &= \\begin{pmatrix}\n",
    "        x_{11} & x_{12} & \\dots x_{1m} \\\\\n",
    "        x_{21} & x_{22} & \\dots x_{2m} \\\\\n",
    "        \\vdots & \\vdots & \\vdots \\\\\n",
    "        x_{n1} & x_{n2} & \\dots x_{nm} \\\\\n",
    "    \\end{pmatrix}\n",
    "\\end{align}$ then $\\begin{align}\n",
    "    X^{T} &= \\begin{pmatrix}\n",
    "        x_{11} & x_{21} & \\dots x_{m1} \\\\\n",
    "        x_{12} & x_{22} & \\dots x_{m2} \\\\\n",
    "        \\vdots & \\vdots & \\vdots \\\\\n",
    "        x_{1n} & x_{2n} & \\dots x_{mn} \\\\\n",
    "    \\end{pmatrix}\n",
    "\\end{align}$"
   ]
  },
  {
   "cell_type": "markdown",
   "metadata": {},
   "source": [
    "Transpose can be thought as mirror along with the main diagonal"
   ]
  },
  {
   "cell_type": "markdown",
   "metadata": {},
   "source": [
    "Visualisation of transpose matrix $X \\in \\mathbb{R}^{4 \\times 4}$"
   ]
  },
  {
   "cell_type": "markdown",
   "metadata": {},
   "source": [
    "![SegmentLocal](images/la1/transpose1.gif \"segment\")"
   ]
  },
  {
   "cell_type": "markdown",
   "metadata": {},
   "source": [
    "Transpose matrix $X \\in \\mathbb{R}^{2 \\times 3}$"
   ]
  },
  {
   "cell_type": "markdown",
   "metadata": {},
   "source": [
    "![SegmentLocal](images/la1/transpose2.gif \"segment\")"
   ]
  },
  {
   "cell_type": "markdown",
   "metadata": {},
   "source": [
    "We can consider scalar as one dimensional vector and vector as $v = (v_1, v_2, \\dots, v_n)$ as matrix with $1 \\times n$ dimensions and \n",
    "$\\begin{align}\n",
    "    u &= \\begin{bmatrix}\n",
    "           u_{1} \\\\\n",
    "           u_{2} \\\\\n",
    "           \\vdots \\\\\n",
    "           u_{m}\n",
    "         \\end{bmatrix}\n",
    " \\end{align}$ as matrix with $m \\times 1$ dimensions\n",
    "<br>\n",
    "then \n",
    "$\\begin{align}\n",
    "    v^{T} &= \\begin{bmatrix}\n",
    "           v_{1} \\\\\n",
    "           v_{2} \\\\\n",
    "           \\vdots \\\\\n",
    "           v_{n}\n",
    "         \\end{bmatrix}\n",
    " \\end{align}$ and $u^{T} = (u_1, u_2, \\dots, u_m)$"
   ]
  },
  {
   "cell_type": "code",
   "execution_count": 55,
   "metadata": {},
   "outputs": [
    {
     "name": "stdout",
     "output_type": "stream",
     "text": [
      "[[12  2  3]\n",
      " [ 4  5  6]\n",
      " [ 7  8  9]]\n"
     ]
    }
   ],
   "source": [
    "print(nm)"
   ]
  },
  {
   "cell_type": "code",
   "execution_count": 56,
   "metadata": {},
   "outputs": [
    {
     "name": "stdout",
     "output_type": "stream",
     "text": [
      "[[12  4  7]\n",
      " [ 2  5  8]\n",
      " [ 3  6  9]]\n"
     ]
    }
   ],
   "source": [
    "print(nm.T)"
   ]
  },
  {
   "cell_type": "markdown",
   "metadata": {},
   "source": [
    "For scalar $a \\in \\mathbb{R}$ we have $a^{T} = a$"
   ]
  },
  {
   "cell_type": "markdown",
   "metadata": {},
   "source": [
    "# Operations on Matrices"
   ]
  },
  {
   "cell_type": "markdown",
   "metadata": {},
   "source": [
    "We can add two $A, B \\in \\mathbb{R}^{n \\times m}$ matrices $C = A + B$ as \n",
    "$\\begin{align}\n",
    "    C &= \\begin{pmatrix}\n",
    "        {a_{11} + b_{11}} & {a_{12} + b_{12}} & \\dots {a_{1m} + b_{1m}} \\\\\n",
    "        {a_{21} + b_{21}} & {a_{22} + b_{22}} & \\dots {a_{2m} + b_{2m}} \\\\\n",
    "        \\vdots & \\vdots & \\vdots \\\\\n",
    "        {a_{n1} + b_{n1}} & {a_{n2} + b_{n2}} & \\dots {a_{nm} + b_{nm}} \\\\\n",
    "    \\end{pmatrix}\n",
    "\\end{align}$ or we could write $c_{i, j} = a_{i, j} + b_{i, j}$"
   ]
  },
  {
   "cell_type": "code",
   "execution_count": 57,
   "metadata": {},
   "outputs": [
    {
     "name": "stdout",
     "output_type": "stream",
     "text": [
      "[[ 2  4  6]\n",
      " [12 14 16]\n",
      " [22 24 26]]\n",
      "[[ 1  3  4]\n",
      " [11 13 14]\n",
      " [42 44 44]]\n",
      "[[ 3  7 10]\n",
      " [23 27 30]\n",
      " [64 68 70]]\n"
     ]
    }
   ],
   "source": [
    "m1 = np.array([[2, 4, 6], [12, 14, 16], [22, 24, 26]])\n",
    "m2 = np.array([[1, 3, 4], [11, 13, 14], [42, 44, 44]])\n",
    "print(m1)\n",
    "print(m2)\n",
    "print(m1 + m2)"
   ]
  },
  {
   "cell_type": "markdown",
   "metadata": {},
   "source": [
    "Add scalar $a \\in \\mathbb{R}$ and matrix $X \\in \\mathbb{R}^{n \\times m}$ as \n",
    "$\\begin{align}\n",
    "    X + a &= \\begin{pmatrix}\n",
    "        {x_{11} + a} & {x_{12} + a} & \\dots {x_{1m} + a} \\\\\n",
    "        {x_{21} + a} & {x_{22} + a} & \\dots {x_{2m} + a} \\\\\n",
    "        \\vdots & \\vdots & \\vdots \\\\\n",
    "        {x_{n1} + a} & {x_{n2} + a} & \\dots {x_{nm} + a} \\\\\n",
    "    \\end{pmatrix}\n",
    "\\end{align}$ or we could write ${(X + a)}_{i, j} = x_{i, j} + a$\n",
    "<br>\n",
    "In the same way we can define ${(a + X)}_{i, j} = a + x_{i, j}$\n",
    "<br>\n",
    "Multiplication of scalar and matrix\n",
    "$\\begin{align}\n",
    "    Xa &= \\begin{pmatrix}\n",
    "        {x_{11}a} & {x_{12}a} & \\dots {x_{1m}a} \\\\\n",
    "        {x_{21}a} & {x_{22}a} & \\dots {x_{2m}a} \\\\\n",
    "        \\vdots & \\vdots & \\vdots \\\\\n",
    "        {x_{n1}a} & {x_{n2}a} & \\dots {x_{nm}a} \\\\\n",
    "    \\end{pmatrix}\n",
    "\\end{align}$ or we could write ${(X + a)}_{i, j} = x_{i, j} + a$\n",
    "<br>\n",
    "In the same way we can define ${(aX)}_{i, j} = ax_{i, j}$\n",
    "<br>\n",
    "Thus, we have $C = aX + b$ for $a \\in \\mathbb{R}$ and matrix $X \\in \\mathbb{R}^{n \\times m}$\n"
   ]
  },
  {
   "cell_type": "markdown",
   "metadata": {},
   "source": [
    "Prove that $a + X = X + a$ and $aX = Xa$ for every scalar $a \\in \\mathbb{R}$ and matrix $X \\in \\mathbb{R}^{n \\times m}$"
   ]
  },
  {
   "cell_type": "code",
   "execution_count": 58,
   "metadata": {},
   "outputs": [
    {
     "data": {
      "text/plain": [
       "(array([[ 2,  4,  6],\n",
       "        [12, 14, 16],\n",
       "        [22, 24, 26]]), array([[ 12,  22,  32],\n",
       "        [ 62,  72,  82],\n",
       "        [112, 122, 132]]))"
      ]
     },
     "execution_count": 58,
     "metadata": {},
     "output_type": "execute_result"
    }
   ],
   "source": [
    "m1, m1*5 + 2"
   ]
  },
  {
   "cell_type": "markdown",
   "metadata": {},
   "source": [
    "Add matrix and vector $A + b$ where $A \\in \\mathbb{R}^{n \\times m}$ $b \\in \\mathbb{R}^{1 \\times m}$ can be done by broadcasting\n",
    "<br>\n",
    "$C_{i, j} = A_{i, j} + b_{j}$"
   ]
  },
  {
   "cell_type": "code",
   "execution_count": 59,
   "metadata": {},
   "outputs": [],
   "source": [
    "v1 = np.array([[2], [4], [6]])\n"
   ]
  },
  {
   "cell_type": "code",
   "execution_count": 60,
   "metadata": {},
   "outputs": [
    {
     "name": "stdout",
     "output_type": "stream",
     "text": [
      "[[ 2  4  6]\n",
      " [12 14 16]\n",
      " [22 24 26]]\n",
      "[[2]\n",
      " [4]\n",
      " [6]]\n",
      "[[2 4 6]]\n",
      "[[ 4  6  8]\n",
      " [16 18 20]\n",
      " [28 30 32]]\n",
      "[[ 4  8 12]\n",
      " [14 18 22]\n",
      " [24 28 32]]\n"
     ]
    }
   ],
   "source": [
    "print(m1)\n",
    "print(v1)\n",
    "print(v1.T)\n",
    "print(m1 + v1)\n",
    "print(m1 + v1.T)"
   ]
  },
  {
   "cell_type": "markdown",
   "metadata": {},
   "source": [
    "For matrix $A \\in \\mathbb{R}^{n \\times m}$ and $B \\in \\mathbb{R}^{m \\times l}$ let's define $C = AB$ as $C_{i, j} = \\sum_{k = 1}^{n}{A_{i, k}B_{k, j}}$ it is clear that $C \\in \\mathbb{R}^{n \\times l}$"
   ]
  },
  {
   "cell_type": "markdown",
   "metadata": {},
   "source": [
    "Let's visualize"
   ]
  },
  {
   "cell_type": "markdown",
   "metadata": {},
   "source": [
    "![SegmentLocal](images/la1/mult1.gif \"segment\")"
   ]
  },
  {
   "cell_type": "code",
   "execution_count": 61,
   "metadata": {},
   "outputs": [],
   "source": [
    "m1 = np.array([[1, 2, 1], [0, 1, 0], [2, 3, 4]])\n",
    "m2 = np.array([[2, 5], [6, 7], [1, 8]])"
   ]
  },
  {
   "cell_type": "code",
   "execution_count": 62,
   "metadata": {},
   "outputs": [
    {
     "name": "stdout",
     "output_type": "stream",
     "text": [
      "[[1 2 1]\n",
      " [0 1 0]\n",
      " [2 3 4]]\n",
      "[[2 5]\n",
      " [6 7]\n",
      " [1 8]]\n"
     ]
    }
   ],
   "source": [
    "print(m1)\n",
    "print(m2)"
   ]
  },
  {
   "cell_type": "code",
   "execution_count": 63,
   "metadata": {},
   "outputs": [],
   "source": [
    "# m3 = np.dot(m1, m2)\n",
    "m3 = m1 @ m2"
   ]
  },
  {
   "cell_type": "code",
   "execution_count": 64,
   "metadata": {},
   "outputs": [
    {
     "name": "stdout",
     "output_type": "stream",
     "text": [
      "[[15 27]\n",
      " [ 6  7]\n",
      " [26 63]]\n"
     ]
    }
   ],
   "source": [
    "print(m3)"
   ]
  },
  {
   "cell_type": "markdown",
   "metadata": {},
   "source": [
    "Or slower version"
   ]
  },
  {
   "cell_type": "markdown",
   "metadata": {},
   "source": [
    "![SegmentLocal](images/la1/mult2.gif \"segment\")"
   ]
  },
  {
   "cell_type": "code",
   "execution_count": 65,
   "metadata": {},
   "outputs": [],
   "source": [
    "n1 = np.array([[8, 1, 2], [-5, 6, 7]])\n",
    "n2 = np.array([[-5, 1], [0, 2], [-11, 7]])"
   ]
  },
  {
   "cell_type": "code",
   "execution_count": 66,
   "metadata": {},
   "outputs": [
    {
     "name": "stdout",
     "output_type": "stream",
     "text": [
      "[[ 8  1  2]\n",
      " [-5  6  7]]\n",
      "[[ -5   1]\n",
      " [  0   2]\n",
      " [-11   7]]\n"
     ]
    }
   ],
   "source": [
    "print(n1)\n",
    "print(n2)"
   ]
  },
  {
   "cell_type": "code",
   "execution_count": 67,
   "metadata": {},
   "outputs": [],
   "source": [
    "#n3 = np.dot(n1, n2)\n",
    "n3 = n1 @ n2"
   ]
  },
  {
   "cell_type": "code",
   "execution_count": 68,
   "metadata": {},
   "outputs": [
    {
     "name": "stdout",
     "output_type": "stream",
     "text": [
      "[[-62  24]\n",
      " [-52  56]]\n"
     ]
    }
   ],
   "source": [
    "print(n3) #, n3"
   ]
  },
  {
   "cell_type": "markdown",
   "metadata": {},
   "source": [
    "Hadamard product of $A \\in \\mathbb{R^{n \\times m}}$ and $B \\in \\mathbb{R^{n \\times m}}$ define $C = A \\odot B$ if $C_{i, j} = A_{i, j}B_{i, j}$ (elementwise product)"
   ]
  },
  {
   "cell_type": "code",
   "execution_count": 69,
   "metadata": {},
   "outputs": [],
   "source": [
    "a1 = np.random.random(size=(2, 3))\n",
    "a2 = np.random.random(size=(2, 3))"
   ]
  },
  {
   "cell_type": "code",
   "execution_count": 70,
   "metadata": {},
   "outputs": [
    {
     "name": "stdout",
     "output_type": "stream",
     "text": [
      "[[0.3603049  0.69563575 0.8975243 ]\n",
      " [0.29750195 0.80421649 0.53609569]]\n",
      "[[0.15793883 0.64441818 0.50957146]\n",
      " [0.72849599 0.70662677 0.9692016 ]]\n",
      "[[0.05690614 0.44828032 0.45735277]\n",
      " [0.21672897 0.5682809  0.5195848 ]]\n"
     ]
    }
   ],
   "source": [
    "print(a1)\n",
    "\n",
    "print(a2)\n",
    "\n",
    "print(a1 * a2)"
   ]
  },
  {
   "cell_type": "code",
   "execution_count": 71,
   "metadata": {},
   "outputs": [],
   "source": [
    "a1 = np.array([[1, 2], [4, 8], [3., 4.]])\n",
    "a2 = np.array([[2, 4.], [4., 4], [3., 2.]])\n"
   ]
  },
  {
   "cell_type": "code",
   "execution_count": 72,
   "metadata": {},
   "outputs": [
    {
     "data": {
      "text/plain": [
       "array([[1., 2.],\n",
       "       [4., 8.],\n",
       "       [3., 4.]])"
      ]
     },
     "execution_count": 72,
     "metadata": {},
     "output_type": "execute_result"
    }
   ],
   "source": [
    "a1"
   ]
  },
  {
   "cell_type": "code",
   "execution_count": 73,
   "metadata": {},
   "outputs": [
    {
     "data": {
      "text/plain": [
       "array([[2., 4.],\n",
       "       [4., 4.],\n",
       "       [3., 2.]])"
      ]
     },
     "execution_count": 73,
     "metadata": {},
     "output_type": "execute_result"
    }
   ],
   "source": [
    "a2"
   ]
  },
  {
   "cell_type": "code",
   "execution_count": 74,
   "metadata": {},
   "outputs": [
    {
     "data": {
      "text/plain": [
       "array([[ 2.,  8.],\n",
       "       [16., 32.],\n",
       "       [ 9.,  8.]])"
      ]
     },
     "execution_count": 74,
     "metadata": {},
     "output_type": "execute_result"
    }
   ],
   "source": [
    "a1 * a2"
   ]
  },
  {
   "cell_type": "code",
   "execution_count": 75,
   "metadata": {},
   "outputs": [
    {
     "data": {
      "text/plain": [
       "75.0"
      ]
     },
     "execution_count": 75,
     "metadata": {},
     "output_type": "execute_result"
    }
   ],
   "source": [
    "np.sum(a1 * a2)"
   ]
  },
  {
   "cell_type": "code",
   "execution_count": 76,
   "metadata": {},
   "outputs": [
    {
     "data": {
      "text/plain": [
       "array([[ 2.,  8.],\n",
       "       [16., 32.],\n",
       "       [ 9.,  8.]])"
      ]
     },
     "execution_count": 76,
     "metadata": {},
     "output_type": "execute_result"
    }
   ],
   "source": [
    "np.multiply(a1, a2)"
   ]
  },
  {
   "cell_type": "code",
   "execution_count": 77,
   "metadata": {},
   "outputs": [
    {
     "data": {
      "text/plain": [
       "75.0"
      ]
     },
     "execution_count": 77,
     "metadata": {},
     "output_type": "execute_result"
    }
   ],
   "source": [
    "np.sum(np.multiply(a1, a2))"
   ]
  },
  {
   "cell_type": "code",
   "execution_count": 78,
   "metadata": {},
   "outputs": [],
   "source": [
    "a1 = np.arange(3*2).reshape((3, 2))\n",
    "a1 = np.arange(3*2).reshape((2, 3))"
   ]
  },
  {
   "cell_type": "code",
   "execution_count": 79,
   "metadata": {},
   "outputs": [
    {
     "data": {
      "text/plain": [
       "array([[0, 1, 2],\n",
       "       [3, 4, 5]])"
      ]
     },
     "execution_count": 79,
     "metadata": {},
     "output_type": "execute_result"
    }
   ],
   "source": [
    "a1"
   ]
  },
  {
   "cell_type": "code",
   "execution_count": 80,
   "metadata": {},
   "outputs": [
    {
     "data": {
      "text/plain": [
       "array([[2., 4.],\n",
       "       [4., 4.],\n",
       "       [3., 2.]])"
      ]
     },
     "execution_count": 80,
     "metadata": {},
     "output_type": "execute_result"
    }
   ],
   "source": [
    "a2"
   ]
  },
  {
   "cell_type": "code",
   "execution_count": 81,
   "metadata": {},
   "outputs": [
    {
     "data": {
      "text/plain": [
       "array([[10.,  8.],\n",
       "       [37., 38.]])"
      ]
     },
     "execution_count": 81,
     "metadata": {},
     "output_type": "execute_result"
    }
   ],
   "source": [
    "a1 @ a2"
   ]
  },
  {
   "cell_type": "markdown",
   "metadata": {},
   "source": [
    "Dot product of vectors $v, u \\in \\mathbb{R}^{n} \\equiv \\mathbb{R}^{1 \\times n}$ define as $v^{T}u$"
   ]
  },
  {
   "cell_type": "markdown",
   "metadata": {},
   "source": [
    "Prove that $uv^{T} = vu^{T}$ for each $v, u \\in \\mathbb{R}^{n}$"
   ]
  },
  {
   "cell_type": "markdown",
   "metadata": {},
   "source": [
    "For each pair of matrices $A, B \\in \\mathbb{R}^{n \\times m}$ holds:\n",
    "- $A + B = B + A$\n",
    "- $(A + B) + C = B + (A + C)$\n",
    "- $A(B + C) = AB + AC$\n",
    "- $A(BC) = (AB)C$"
   ]
  },
  {
   "cell_type": "markdown",
   "metadata": {},
   "source": [
    "Prove that $(AB)^{T} = B^{T}A^{T}$ for each pair of matrices $A, B \\in \\mathbb{R}^{n \\times m}$"
   ]
  },
  {
   "cell_type": "markdown",
   "metadata": {},
   "source": [
    "For instance $Ax=b$"
   ]
  },
  {
   "cell_type": "markdown",
   "metadata": {},
   "source": [
    "Vectorization vs loops"
   ]
  },
  {
   "cell_type": "code",
   "execution_count": 88,
   "metadata": {},
   "outputs": [
    {
     "data": {
      "text/plain": [
       "(array([[-0.3910322 , -0.72388124, -0.7968466 , -0.26358368],\n",
       "        [ 0.15357156,  1.82408455, -0.04977895,  0.34586942],\n",
       "        [ 0.67032   ,  0.02673603, -0.51513745,  0.28786977]]),\n",
       " array([[ 0.89173757, -0.59566871, -0.77060002, -0.76634721, -1.04632201,\n",
       "          0.2833425 ],\n",
       "        [ 0.49453972,  0.02295584, -0.20555987,  0.73367923, -1.36328953,\n",
       "         -1.87962548],\n",
       "        [-0.28703531, -1.03281305,  0.03504245, -1.3792749 , -0.30581535,\n",
       "          0.18905864],\n",
       "        [-0.17731078,  0.46717368,  0.20398776, -0.16198327, -0.79710677,\n",
       "          0.51952096]]))"
      ]
     },
     "execution_count": 88,
     "metadata": {},
     "output_type": "execute_result"
    }
   ],
   "source": [
    "\n",
    "l1 = np.random.randn(3, 4)\n",
    "l2 = np.random.randn(4, 6)\n",
    "l1, l2\n"
   ]
  },
  {
   "cell_type": "code",
   "execution_count": 89,
   "metadata": {},
   "outputs": [],
   "source": [
    "def dot_prod(mx1, mx2, verbose = False):\n",
    "    mx3 = np.zeros((mx1.shape[0], mx2.shape[1]))\n",
    "    if verbose: print(f'mx3.shape = {mx3.shape}')\n",
    "    for i in range(mx1.shape[0]):\n",
    "        if verbose: print(f'i = {i}')\n",
    "        for k in range(mx2.shape[1]):\n",
    "            if verbose: print(f'\\tk = {k}')\n",
    "            for j in range(mx1.shape[1]):\n",
    "                if verbose: print(f'\\t\\tj = {j}')\n",
    "                mx3[i, k] += mx1[i, j] * mx2[j, k]\n",
    "    \n",
    "    return mx3\n",
    "            "
   ]
  },
  {
   "cell_type": "code",
   "execution_count": 90,
   "metadata": {
    "scrolled": true
   },
   "outputs": [
    {
     "name": "stdout",
     "output_type": "stream",
     "text": [
      "Wall time: 0 ns\n"
     ]
    }
   ],
   "source": [
    "%time l3_loop = dot_prod(l1, l2)"
   ]
  },
  {
   "cell_type": "code",
   "execution_count": 91,
   "metadata": {},
   "outputs": [
    {
     "data": {
      "text/plain": [
       "array([[-0.43122679,  0.91616255,  0.36843905,  0.91033646,  1.84979758,\n",
       "         0.96224161],\n",
       "       [ 0.99198973,  0.16338906, -0.42449208,  1.23323761, -2.90791237,\n",
       "        -3.21480717],\n",
       "       [ 0.70779178,  0.26785095, -0.48137423,  0.16980387, -0.80974552,\n",
       "         0.19183962]])"
      ]
     },
     "execution_count": 91,
     "metadata": {},
     "output_type": "execute_result"
    }
   ],
   "source": [
    "l3_loop"
   ]
  },
  {
   "cell_type": "code",
   "execution_count": 92,
   "metadata": {},
   "outputs": [
    {
     "name": "stdout",
     "output_type": "stream",
     "text": [
      "Wall time: 0 ns\n"
     ]
    },
    {
     "data": {
      "text/plain": [
       "array([[-0.43122679,  0.91616255,  0.36843905,  0.91033646,  1.84979758,\n",
       "         0.96224161],\n",
       "       [ 0.99198973,  0.16338906, -0.42449208,  1.23323761, -2.90791237,\n",
       "        -3.21480717],\n",
       "       [ 0.70779178,  0.26785095, -0.48137423,  0.16980387, -0.80974552,\n",
       "         0.19183962]])"
      ]
     },
     "execution_count": 92,
     "metadata": {},
     "output_type": "execute_result"
    }
   ],
   "source": [
    "%time l1 @ l2"
   ]
  },
  {
   "cell_type": "code",
   "execution_count": 93,
   "metadata": {
    "scrolled": true
   },
   "outputs": [
    {
     "data": {
      "text/plain": [
       "(array([[-1.41440312,  0.06344355, -0.02954684, ...,  1.22666621,\n",
       "         -2.87853841, -1.02464263],\n",
       "        [-0.01925994, -1.10014112, -0.49955034, ...,  1.87515459,\n",
       "         -0.76051832, -0.76034793],\n",
       "        [ 0.36314897,  1.06312855, -1.64968789, ...,  0.9465153 ,\n",
       "         -0.05399553, -0.48953729],\n",
       "        ...,\n",
       "        [ 1.57086525,  0.68194136,  0.65702741, ...,  0.49749983,\n",
       "         -1.04276529,  0.09023831],\n",
       "        [-1.2605878 ,  1.85065668,  0.46088154, ..., -0.30636705,\n",
       "         -0.36055186, -1.30538812],\n",
       "        [ 0.38155677, -1.23963453,  0.16137928, ..., -1.1227673 ,\n",
       "         -1.36835056,  0.57115665]]),\n",
       " array([[-1.33863018,  0.55182039,  0.76858754, ...,  0.23195126,\n",
       "         -1.26483832, -1.20525792],\n",
       "        [ 0.88690452,  0.05273346,  0.56353554, ...,  1.12129706,\n",
       "          2.06758023,  1.11846431],\n",
       "        [-0.45035137,  1.25779661, -0.24803048, ..., -0.77044343,\n",
       "          0.24163567,  0.48243553],\n",
       "        ...,\n",
       "        [-1.31514375, -0.16631866,  1.60454634, ..., -0.13269904,\n",
       "          1.09745997, -1.36842982],\n",
       "        [ 1.3710012 , -0.93398107,  1.80369914, ..., -0.38210437,\n",
       "          0.25326864,  0.84782272],\n",
       "        [-2.3034992 , -1.58828239, -0.56157115, ..., -0.71616762,\n",
       "         -0.9353499 , -0.09562058]]))"
      ]
     },
     "execution_count": 93,
     "metadata": {},
     "output_type": "execute_result"
    }
   ],
   "source": [
    "b1 = np.random.randn(50, 100)\n",
    "b2 = np.random.randn(100, 80)\n",
    "b1, b2"
   ]
  },
  {
   "cell_type": "code",
   "execution_count": 94,
   "metadata": {},
   "outputs": [
    {
     "name": "stdout",
     "output_type": "stream",
     "text": [
      "Wall time: 503 ms\n"
     ]
    }
   ],
   "source": [
    "%time b3_loop = dot_prod(b1, b2)"
   ]
  },
  {
   "cell_type": "code",
   "execution_count": 95,
   "metadata": {},
   "outputs": [],
   "source": [
    "def dot_prod_2(mx1, mx2, verbose = False):\n",
    "    mx3 = np.zeros((mx1.shape[0], mx2.shape[1]))\n",
    "    if verbose: print(f'mx3.shape = {mx3.shape}')\n",
    "    for i in range(mx1.shape[0]):\n",
    "        if verbose: print(f'i = {i}')\n",
    "        for k in range(mx2.shape[1]):\n",
    "            mx3[i, k] = mx1[i, :] @ mx2[:, k]\n",
    "            if verbose: \n",
    "                print(f'\\tk = {mx1[i:]}') \n",
    "                print(f'\\tk = {mx2[:, k]}')\n",
    "            \n",
    "            #mx3[i, k] = s\n",
    "    \n",
    "    return mx3"
   ]
  },
  {
   "cell_type": "code",
   "execution_count": 96,
   "metadata": {
    "scrolled": true
   },
   "outputs": [
    {
     "name": "stdout",
     "output_type": "stream",
     "text": [
      "Wall time: 1e+03 µs\n"
     ]
    }
   ],
   "source": [
    "%time l3_loop = dot_prod_2(l1, l2)"
   ]
  },
  {
   "cell_type": "code",
   "execution_count": 97,
   "metadata": {},
   "outputs": [
    {
     "data": {
      "text/plain": [
       "array([[-0.43122679,  0.91616255,  0.36843905,  0.91033646,  1.84979758,\n",
       "         0.96224161],\n",
       "       [ 0.99198973,  0.16338906, -0.42449208,  1.23323761, -2.90791237,\n",
       "        -3.21480717],\n",
       "       [ 0.70779178,  0.26785095, -0.48137423,  0.16980387, -0.80974552,\n",
       "         0.19183962]])"
      ]
     },
     "execution_count": 97,
     "metadata": {},
     "output_type": "execute_result"
    }
   ],
   "source": [
    "l3_loop"
   ]
  },
  {
   "cell_type": "code",
   "execution_count": 98,
   "metadata": {
    "scrolled": true
   },
   "outputs": [
    {
     "name": "stdout",
     "output_type": "stream",
     "text": [
      "Wall time: 27 ms\n"
     ]
    }
   ],
   "source": [
    "%time b3_loop = dot_prod_2(b1, b2)"
   ]
  },
  {
   "cell_type": "markdown",
   "metadata": {},
   "source": [
    "Matrix vector multiplication"
   ]
  },
  {
   "cell_type": "code",
   "execution_count": 99,
   "metadata": {},
   "outputs": [],
   "source": [
    "def dot_prod_3(mx1, mx2, verbose = False):\n",
    "    mx3 = np.zeros((mx1.shape[0], mx2.shape[1]))\n",
    "    if verbose: print(f'mx3.shape = {mx3.shape}')\n",
    "    for i in range(mx1.shape[0]):\n",
    "        if verbose: print(f'i = {i}')\n",
    "        mx3[i, :] = mx1[i, :] @ mx2\n",
    "        if verbose: \n",
    "            print(f'\\tk = {mx2[:, k]}')\n",
    "            \n",
    "            #mx3[i, k] = s\n",
    "    \n",
    "    return mx3"
   ]
  },
  {
   "cell_type": "code",
   "execution_count": 100,
   "metadata": {},
   "outputs": [
    {
     "name": "stdout",
     "output_type": "stream",
     "text": [
      "Wall time: 59 ms\n"
     ]
    }
   ],
   "source": [
    "%time l3_loop = dot_prod_3(l1, l2)"
   ]
  },
  {
   "cell_type": "code",
   "execution_count": 101,
   "metadata": {},
   "outputs": [
    {
     "data": {
      "text/plain": [
       "array([[-0.43122679,  0.91616255,  0.36843905,  0.91033646,  1.84979758,\n",
       "         0.96224161],\n",
       "       [ 0.99198973,  0.16338906, -0.42449208,  1.23323761, -2.90791237,\n",
       "        -3.21480717],\n",
       "       [ 0.70779178,  0.26785095, -0.48137423,  0.16980387, -0.80974552,\n",
       "         0.19183962]])"
      ]
     },
     "execution_count": 101,
     "metadata": {},
     "output_type": "execute_result"
    }
   ],
   "source": [
    "l3_loop"
   ]
  },
  {
   "cell_type": "code",
   "execution_count": 102,
   "metadata": {},
   "outputs": [
    {
     "name": "stdout",
     "output_type": "stream",
     "text": [
      "Wall time: 1 ms\n"
     ]
    }
   ],
   "source": [
    "%time b3_loop = dot_prod_3(b1, b2)"
   ]
  },
  {
   "cell_type": "markdown",
   "metadata": {},
   "source": [
    "## Vectorize version"
   ]
  },
  {
   "cell_type": "code",
   "execution_count": 103,
   "metadata": {},
   "outputs": [
    {
     "name": "stdout",
     "output_type": "stream",
     "text": [
      "Wall time: 0 ns\n"
     ]
    }
   ],
   "source": [
    "%time l3_vec = l1 @ l2"
   ]
  },
  {
   "cell_type": "code",
   "execution_count": 104,
   "metadata": {},
   "outputs": [
    {
     "data": {
      "text/plain": [
       "array([[-0.43122679,  0.91616255,  0.36843905,  0.91033646,  1.84979758,\n",
       "         0.96224161],\n",
       "       [ 0.99198973,  0.16338906, -0.42449208,  1.23323761, -2.90791237,\n",
       "        -3.21480717],\n",
       "       [ 0.70779178,  0.26785095, -0.48137423,  0.16980387, -0.80974552,\n",
       "         0.19183962]])"
      ]
     },
     "execution_count": 104,
     "metadata": {},
     "output_type": "execute_result"
    }
   ],
   "source": [
    "l3_vec"
   ]
  },
  {
   "cell_type": "code",
   "execution_count": 105,
   "metadata": {},
   "outputs": [
    {
     "name": "stdout",
     "output_type": "stream",
     "text": [
      "Wall time: 355 ms\n"
     ]
    }
   ],
   "source": [
    "%time b3_vec = b1 @ b2"
   ]
  },
  {
   "cell_type": "code",
   "execution_count": 106,
   "metadata": {
    "scrolled": true
   },
   "outputs": [
    {
     "data": {
      "text/plain": [
       "array([[ -2.03818668,   1.88091447,  -0.65118717, ..., -13.49362703,\n",
       "         11.07985449, -13.97394561],\n",
       "       [  0.33527699,  -6.87207166,   4.36340475, ...,   4.32743045,\n",
       "          2.23990363,  -7.32634529],\n",
       "       [ -7.11941362,  -8.49618389,   2.31381525, ...,  17.3832104 ,\n",
       "          0.5288576 , -28.01012827],\n",
       "       ...,\n",
       "       [  5.32676604,  -4.79325183,   9.88656941, ...,   2.48278328,\n",
       "        -13.95411462,   2.99706856],\n",
       "       [  5.05748295,  15.13309443,  -3.45391711, ...,  14.18974219,\n",
       "         -6.1668337 ,   4.09125609],\n",
       "       [  0.21934489,  -4.61291611,  -0.81284827, ...,   5.14730374,\n",
       "         -0.26487711,  -0.61030825]])"
      ]
     },
     "execution_count": 106,
     "metadata": {},
     "output_type": "execute_result"
    }
   ],
   "source": [
    "b3_vec"
   ]
  },
  {
   "cell_type": "code",
   "execution_count": 107,
   "metadata": {},
   "outputs": [
    {
     "name": "stdout",
     "output_type": "stream",
     "text": [
      "Wall time: 1e+03 µs\n"
     ]
    }
   ],
   "source": [
    "%time l3 = l1 @ l2"
   ]
  },
  {
   "cell_type": "code",
   "execution_count": 108,
   "metadata": {},
   "outputs": [
    {
     "name": "stdout",
     "output_type": "stream",
     "text": [
      "Wall time: 7 ms\n"
     ]
    }
   ],
   "source": [
    "%time b3 = b1 @ b2"
   ]
  },
  {
   "cell_type": "code",
   "execution_count": 109,
   "metadata": {},
   "outputs": [
    {
     "name": "stdout",
     "output_type": "stream",
     "text": [
      "Wall time: 6 ms\n"
     ]
    }
   ],
   "source": [
    "%time b3_vec = b1 @ b2"
   ]
  },
  {
   "cell_type": "markdown",
   "metadata": {},
   "source": [
    "## Functions on tensors"
   ]
  },
  {
   "cell_type": "markdown",
   "metadata": {},
   "source": [
    "We can define function $f:A \\to B$ where $A, B \\in \\mathbb{R}^{n1 \\times n2 \\dots \\times n_{k}}$ where function is defined elementwise $B_{i, j} = f(A_{i, j})$"
   ]
  },
  {
   "cell_type": "markdown",
   "metadata": {},
   "source": [
    "For instance function $f(x) = x + 5$ on matrix $A \\in \\mathbb{R}^{n \\times m}$ will give us $A + 5$"
   ]
  },
  {
   "cell_type": "code",
   "execution_count": 110,
   "metadata": {},
   "outputs": [
    {
     "name": "stdout",
     "output_type": "stream",
     "text": [
      "[[ 1.  2.]\n",
      " [-1. -2.]\n",
      " [ 0.  4.]]\n",
      "[[6. 7.]\n",
      " [4. 3.]\n",
      " [5. 9.]]\n",
      "[[6. 7.]\n",
      " [4. 3.]\n",
      " [5. 9.]]\n"
     ]
    }
   ],
   "source": [
    "mt = np.array([[1, 2], [-1, -2], [0., 4.]])\n",
    "f = lambda x: x + 5\n",
    "print(mt) \n",
    "print(f(mt))\n",
    "print(mt + 5)"
   ]
  },
  {
   "cell_type": "code",
   "execution_count": 111,
   "metadata": {},
   "outputs": [],
   "source": [
    "import math"
   ]
  },
  {
   "cell_type": "code",
   "execution_count": 112,
   "metadata": {},
   "outputs": [],
   "source": [
    "f = lambda x: x**2"
   ]
  },
  {
   "cell_type": "code",
   "execution_count": 113,
   "metadata": {},
   "outputs": [
    {
     "data": {
      "text/plain": [
       "1"
      ]
     },
     "execution_count": 113,
     "metadata": {},
     "output_type": "execute_result"
    }
   ],
   "source": [
    "f(-1)"
   ]
  },
  {
   "cell_type": "code",
   "execution_count": 114,
   "metadata": {},
   "outputs": [],
   "source": [
    "x = np.linspace(-5, 5, 1000)"
   ]
  },
  {
   "cell_type": "code",
   "execution_count": 115,
   "metadata": {},
   "outputs": [
    {
     "data": {
      "text/plain": [
       "array([-5.        , -4.98998999, -4.97997998, -4.96996997, -4.95995996,\n",
       "       -4.94994995, -4.93993994, -4.92992993, -4.91991992, -4.90990991,\n",
       "       -4.8998999 , -4.88988989, -4.87987988, -4.86986987, -4.85985986,\n",
       "       -4.84984985, -4.83983984, -4.82982983, -4.81981982, -4.80980981,\n",
       "       -4.7997998 , -4.78978979, -4.77977978, -4.76976977, -4.75975976,\n",
       "       -4.74974975, -4.73973974, -4.72972973, -4.71971972, -4.70970971,\n",
       "       -4.6996997 , -4.68968969, -4.67967968, -4.66966967, -4.65965966,\n",
       "       -4.64964965, -4.63963964, -4.62962963, -4.61961962, -4.60960961,\n",
       "       -4.5995996 , -4.58958959, -4.57957958, -4.56956957, -4.55955956,\n",
       "       -4.54954955, -4.53953954, -4.52952953, -4.51951952, -4.50950951,\n",
       "       -4.4994995 , -4.48948949, -4.47947948, -4.46946947, -4.45945946,\n",
       "       -4.44944945, -4.43943944, -4.42942943, -4.41941942, -4.40940941,\n",
       "       -4.3993994 , -4.38938939, -4.37937938, -4.36936937, -4.35935936,\n",
       "       -4.34934935, -4.33933934, -4.32932933, -4.31931932, -4.30930931,\n",
       "       -4.2992993 , -4.28928929, -4.27927928, -4.26926927, -4.25925926,\n",
       "       -4.24924925, -4.23923924, -4.22922923, -4.21921922, -4.20920921,\n",
       "       -4.1991992 , -4.18918919, -4.17917918, -4.16916917, -4.15915916,\n",
       "       -4.14914915, -4.13913914, -4.12912913, -4.11911912, -4.10910911,\n",
       "       -4.0990991 , -4.08908909, -4.07907908, -4.06906907, -4.05905906,\n",
       "       -4.04904905, -4.03903904, -4.02902903, -4.01901902, -4.00900901,\n",
       "       -3.998999  , -3.98898899, -3.97897898, -3.96896897, -3.95895896,\n",
       "       -3.94894895, -3.93893894, -3.92892893, -3.91891892, -3.90890891,\n",
       "       -3.8988989 , -3.88888889, -3.87887888, -3.86886887, -3.85885886,\n",
       "       -3.84884885, -3.83883884, -3.82882883, -3.81881882, -3.80880881,\n",
       "       -3.7987988 , -3.78878879, -3.77877878, -3.76876877, -3.75875876,\n",
       "       -3.74874875, -3.73873874, -3.72872873, -3.71871872, -3.70870871,\n",
       "       -3.6986987 , -3.68868869, -3.67867868, -3.66866867, -3.65865866,\n",
       "       -3.64864865, -3.63863864, -3.62862863, -3.61861862, -3.60860861,\n",
       "       -3.5985986 , -3.58858859, -3.57857858, -3.56856857, -3.55855856,\n",
       "       -3.54854855, -3.53853854, -3.52852853, -3.51851852, -3.50850851,\n",
       "       -3.4984985 , -3.48848849, -3.47847848, -3.46846847, -3.45845846,\n",
       "       -3.44844845, -3.43843844, -3.42842843, -3.41841842, -3.40840841,\n",
       "       -3.3983984 , -3.38838839, -3.37837838, -3.36836837, -3.35835836,\n",
       "       -3.34834835, -3.33833834, -3.32832833, -3.31831832, -3.30830831,\n",
       "       -3.2982983 , -3.28828829, -3.27827828, -3.26826827, -3.25825826,\n",
       "       -3.24824825, -3.23823824, -3.22822823, -3.21821822, -3.20820821,\n",
       "       -3.1981982 , -3.18818819, -3.17817818, -3.16816817, -3.15815816,\n",
       "       -3.14814815, -3.13813814, -3.12812813, -3.11811812, -3.10810811,\n",
       "       -3.0980981 , -3.08808809, -3.07807808, -3.06806807, -3.05805806,\n",
       "       -3.04804805, -3.03803804, -3.02802803, -3.01801802, -3.00800801,\n",
       "       -2.997998  , -2.98798799, -2.97797798, -2.96796797, -2.95795796,\n",
       "       -2.94794795, -2.93793794, -2.92792793, -2.91791792, -2.90790791,\n",
       "       -2.8978979 , -2.88788789, -2.87787788, -2.86786787, -2.85785786,\n",
       "       -2.84784785, -2.83783784, -2.82782783, -2.81781782, -2.80780781,\n",
       "       -2.7977978 , -2.78778779, -2.77777778, -2.76776777, -2.75775776,\n",
       "       -2.74774775, -2.73773774, -2.72772773, -2.71771772, -2.70770771,\n",
       "       -2.6976977 , -2.68768769, -2.67767768, -2.66766767, -2.65765766,\n",
       "       -2.64764765, -2.63763764, -2.62762763, -2.61761762, -2.60760761,\n",
       "       -2.5975976 , -2.58758759, -2.57757758, -2.56756757, -2.55755756,\n",
       "       -2.54754755, -2.53753754, -2.52752753, -2.51751752, -2.50750751,\n",
       "       -2.4974975 , -2.48748749, -2.47747748, -2.46746747, -2.45745746,\n",
       "       -2.44744745, -2.43743744, -2.42742743, -2.41741742, -2.40740741,\n",
       "       -2.3973974 , -2.38738739, -2.37737738, -2.36736737, -2.35735736,\n",
       "       -2.34734735, -2.33733734, -2.32732733, -2.31731732, -2.30730731,\n",
       "       -2.2972973 , -2.28728729, -2.27727728, -2.26726727, -2.25725726,\n",
       "       -2.24724725, -2.23723724, -2.22722723, -2.21721722, -2.20720721,\n",
       "       -2.1971972 , -2.18718719, -2.17717718, -2.16716717, -2.15715716,\n",
       "       -2.14714715, -2.13713714, -2.12712713, -2.11711712, -2.10710711,\n",
       "       -2.0970971 , -2.08708709, -2.07707708, -2.06706707, -2.05705706,\n",
       "       -2.04704705, -2.03703704, -2.02702703, -2.01701702, -2.00700701,\n",
       "       -1.996997  , -1.98698699, -1.97697698, -1.96696697, -1.95695696,\n",
       "       -1.94694695, -1.93693694, -1.92692693, -1.91691692, -1.90690691,\n",
       "       -1.8968969 , -1.88688689, -1.87687688, -1.86686687, -1.85685686,\n",
       "       -1.84684685, -1.83683684, -1.82682683, -1.81681682, -1.80680681,\n",
       "       -1.7967968 , -1.78678679, -1.77677678, -1.76676677, -1.75675676,\n",
       "       -1.74674675, -1.73673674, -1.72672673, -1.71671672, -1.70670671,\n",
       "       -1.6966967 , -1.68668669, -1.67667668, -1.66666667, -1.65665666,\n",
       "       -1.64664665, -1.63663664, -1.62662663, -1.61661662, -1.60660661,\n",
       "       -1.5965966 , -1.58658659, -1.57657658, -1.56656657, -1.55655656,\n",
       "       -1.54654655, -1.53653654, -1.52652653, -1.51651652, -1.50650651,\n",
       "       -1.4964965 , -1.48648649, -1.47647648, -1.46646647, -1.45645646,\n",
       "       -1.44644645, -1.43643644, -1.42642643, -1.41641642, -1.40640641,\n",
       "       -1.3963964 , -1.38638639, -1.37637638, -1.36636637, -1.35635636,\n",
       "       -1.34634635, -1.33633634, -1.32632633, -1.31631632, -1.30630631,\n",
       "       -1.2962963 , -1.28628629, -1.27627628, -1.26626627, -1.25625626,\n",
       "       -1.24624625, -1.23623624, -1.22622623, -1.21621622, -1.20620621,\n",
       "       -1.1961962 , -1.18618619, -1.17617618, -1.16616617, -1.15615616,\n",
       "       -1.14614615, -1.13613614, -1.12612613, -1.11611612, -1.10610611,\n",
       "       -1.0960961 , -1.08608609, -1.07607608, -1.06606607, -1.05605606,\n",
       "       -1.04604605, -1.03603604, -1.02602603, -1.01601602, -1.00600601,\n",
       "       -0.995996  , -0.98598599, -0.97597598, -0.96596597, -0.95595596,\n",
       "       -0.94594595, -0.93593594, -0.92592593, -0.91591592, -0.90590591,\n",
       "       -0.8958959 , -0.88588589, -0.87587588, -0.86586587, -0.85585586,\n",
       "       -0.84584585, -0.83583584, -0.82582583, -0.81581582, -0.80580581,\n",
       "       -0.7957958 , -0.78578579, -0.77577578, -0.76576577, -0.75575576,\n",
       "       -0.74574575, -0.73573574, -0.72572573, -0.71571572, -0.70570571,\n",
       "       -0.6956957 , -0.68568569, -0.67567568, -0.66566567, -0.65565566,\n",
       "       -0.64564565, -0.63563564, -0.62562563, -0.61561562, -0.60560561,\n",
       "       -0.5955956 , -0.58558559, -0.57557558, -0.56556557, -0.55555556,\n",
       "       -0.54554555, -0.53553554, -0.52552553, -0.51551552, -0.50550551,\n",
       "       -0.4954955 , -0.48548549, -0.47547548, -0.46546547, -0.45545546,\n",
       "       -0.44544545, -0.43543544, -0.42542543, -0.41541542, -0.40540541,\n",
       "       -0.3953954 , -0.38538539, -0.37537538, -0.36536537, -0.35535536,\n",
       "       -0.34534535, -0.33533534, -0.32532533, -0.31531532, -0.30530531,\n",
       "       -0.2952953 , -0.28528529, -0.27527528, -0.26526527, -0.25525526,\n",
       "       -0.24524525, -0.23523524, -0.22522523, -0.21521522, -0.20520521,\n",
       "       -0.1951952 , -0.18518519, -0.17517518, -0.16516517, -0.15515516,\n",
       "       -0.14514515, -0.13513514, -0.12512513, -0.11511512, -0.10510511,\n",
       "       -0.0950951 , -0.08508509, -0.07507508, -0.06506507, -0.05505506,\n",
       "       -0.04504505, -0.03503504, -0.02502503, -0.01501502, -0.00500501,\n",
       "        0.00500501,  0.01501502,  0.02502503,  0.03503504,  0.04504505,\n",
       "        0.05505506,  0.06506507,  0.07507508,  0.08508509,  0.0950951 ,\n",
       "        0.10510511,  0.11511512,  0.12512513,  0.13513514,  0.14514515,\n",
       "        0.15515516,  0.16516517,  0.17517518,  0.18518519,  0.1951952 ,\n",
       "        0.20520521,  0.21521522,  0.22522523,  0.23523524,  0.24524525,\n",
       "        0.25525526,  0.26526527,  0.27527528,  0.28528529,  0.2952953 ,\n",
       "        0.30530531,  0.31531532,  0.32532533,  0.33533534,  0.34534535,\n",
       "        0.35535536,  0.36536537,  0.37537538,  0.38538539,  0.3953954 ,\n",
       "        0.40540541,  0.41541542,  0.42542543,  0.43543544,  0.44544545,\n",
       "        0.45545546,  0.46546547,  0.47547548,  0.48548549,  0.4954955 ,\n",
       "        0.50550551,  0.51551552,  0.52552553,  0.53553554,  0.54554555,\n",
       "        0.55555556,  0.56556557,  0.57557558,  0.58558559,  0.5955956 ,\n",
       "        0.60560561,  0.61561562,  0.62562563,  0.63563564,  0.64564565,\n",
       "        0.65565566,  0.66566567,  0.67567568,  0.68568569,  0.6956957 ,\n",
       "        0.70570571,  0.71571572,  0.72572573,  0.73573574,  0.74574575,\n",
       "        0.75575576,  0.76576577,  0.77577578,  0.78578579,  0.7957958 ,\n",
       "        0.80580581,  0.81581582,  0.82582583,  0.83583584,  0.84584585,\n",
       "        0.85585586,  0.86586587,  0.87587588,  0.88588589,  0.8958959 ,\n",
       "        0.90590591,  0.91591592,  0.92592593,  0.93593594,  0.94594595,\n",
       "        0.95595596,  0.96596597,  0.97597598,  0.98598599,  0.995996  ,\n",
       "        1.00600601,  1.01601602,  1.02602603,  1.03603604,  1.04604605,\n",
       "        1.05605606,  1.06606607,  1.07607608,  1.08608609,  1.0960961 ,\n",
       "        1.10610611,  1.11611612,  1.12612613,  1.13613614,  1.14614615,\n",
       "        1.15615616,  1.16616617,  1.17617618,  1.18618619,  1.1961962 ,\n",
       "        1.20620621,  1.21621622,  1.22622623,  1.23623624,  1.24624625,\n",
       "        1.25625626,  1.26626627,  1.27627628,  1.28628629,  1.2962963 ,\n",
       "        1.30630631,  1.31631632,  1.32632633,  1.33633634,  1.34634635,\n",
       "        1.35635636,  1.36636637,  1.37637638,  1.38638639,  1.3963964 ,\n",
       "        1.40640641,  1.41641642,  1.42642643,  1.43643644,  1.44644645,\n",
       "        1.45645646,  1.46646647,  1.47647648,  1.48648649,  1.4964965 ,\n",
       "        1.50650651,  1.51651652,  1.52652653,  1.53653654,  1.54654655,\n",
       "        1.55655656,  1.56656657,  1.57657658,  1.58658659,  1.5965966 ,\n",
       "        1.60660661,  1.61661662,  1.62662663,  1.63663664,  1.64664665,\n",
       "        1.65665666,  1.66666667,  1.67667668,  1.68668669,  1.6966967 ,\n",
       "        1.70670671,  1.71671672,  1.72672673,  1.73673674,  1.74674675,\n",
       "        1.75675676,  1.76676677,  1.77677678,  1.78678679,  1.7967968 ,\n",
       "        1.80680681,  1.81681682,  1.82682683,  1.83683684,  1.84684685,\n",
       "        1.85685686,  1.86686687,  1.87687688,  1.88688689,  1.8968969 ,\n",
       "        1.90690691,  1.91691692,  1.92692693,  1.93693694,  1.94694695,\n",
       "        1.95695696,  1.96696697,  1.97697698,  1.98698699,  1.996997  ,\n",
       "        2.00700701,  2.01701702,  2.02702703,  2.03703704,  2.04704705,\n",
       "        2.05705706,  2.06706707,  2.07707708,  2.08708709,  2.0970971 ,\n",
       "        2.10710711,  2.11711712,  2.12712713,  2.13713714,  2.14714715,\n",
       "        2.15715716,  2.16716717,  2.17717718,  2.18718719,  2.1971972 ,\n",
       "        2.20720721,  2.21721722,  2.22722723,  2.23723724,  2.24724725,\n",
       "        2.25725726,  2.26726727,  2.27727728,  2.28728729,  2.2972973 ,\n",
       "        2.30730731,  2.31731732,  2.32732733,  2.33733734,  2.34734735,\n",
       "        2.35735736,  2.36736737,  2.37737738,  2.38738739,  2.3973974 ,\n",
       "        2.40740741,  2.41741742,  2.42742743,  2.43743744,  2.44744745,\n",
       "        2.45745746,  2.46746747,  2.47747748,  2.48748749,  2.4974975 ,\n",
       "        2.50750751,  2.51751752,  2.52752753,  2.53753754,  2.54754755,\n",
       "        2.55755756,  2.56756757,  2.57757758,  2.58758759,  2.5975976 ,\n",
       "        2.60760761,  2.61761762,  2.62762763,  2.63763764,  2.64764765,\n",
       "        2.65765766,  2.66766767,  2.67767768,  2.68768769,  2.6976977 ,\n",
       "        2.70770771,  2.71771772,  2.72772773,  2.73773774,  2.74774775,\n",
       "        2.75775776,  2.76776777,  2.77777778,  2.78778779,  2.7977978 ,\n",
       "        2.80780781,  2.81781782,  2.82782783,  2.83783784,  2.84784785,\n",
       "        2.85785786,  2.86786787,  2.87787788,  2.88788789,  2.8978979 ,\n",
       "        2.90790791,  2.91791792,  2.92792793,  2.93793794,  2.94794795,\n",
       "        2.95795796,  2.96796797,  2.97797798,  2.98798799,  2.997998  ,\n",
       "        3.00800801,  3.01801802,  3.02802803,  3.03803804,  3.04804805,\n",
       "        3.05805806,  3.06806807,  3.07807808,  3.08808809,  3.0980981 ,\n",
       "        3.10810811,  3.11811812,  3.12812813,  3.13813814,  3.14814815,\n",
       "        3.15815816,  3.16816817,  3.17817818,  3.18818819,  3.1981982 ,\n",
       "        3.20820821,  3.21821822,  3.22822823,  3.23823824,  3.24824825,\n",
       "        3.25825826,  3.26826827,  3.27827828,  3.28828829,  3.2982983 ,\n",
       "        3.30830831,  3.31831832,  3.32832833,  3.33833834,  3.34834835,\n",
       "        3.35835836,  3.36836837,  3.37837838,  3.38838839,  3.3983984 ,\n",
       "        3.40840841,  3.41841842,  3.42842843,  3.43843844,  3.44844845,\n",
       "        3.45845846,  3.46846847,  3.47847848,  3.48848849,  3.4984985 ,\n",
       "        3.50850851,  3.51851852,  3.52852853,  3.53853854,  3.54854855,\n",
       "        3.55855856,  3.56856857,  3.57857858,  3.58858859,  3.5985986 ,\n",
       "        3.60860861,  3.61861862,  3.62862863,  3.63863864,  3.64864865,\n",
       "        3.65865866,  3.66866867,  3.67867868,  3.68868869,  3.6986987 ,\n",
       "        3.70870871,  3.71871872,  3.72872873,  3.73873874,  3.74874875,\n",
       "        3.75875876,  3.76876877,  3.77877878,  3.78878879,  3.7987988 ,\n",
       "        3.80880881,  3.81881882,  3.82882883,  3.83883884,  3.84884885,\n",
       "        3.85885886,  3.86886887,  3.87887888,  3.88888889,  3.8988989 ,\n",
       "        3.90890891,  3.91891892,  3.92892893,  3.93893894,  3.94894895,\n",
       "        3.95895896,  3.96896897,  3.97897898,  3.98898899,  3.998999  ,\n",
       "        4.00900901,  4.01901902,  4.02902903,  4.03903904,  4.04904905,\n",
       "        4.05905906,  4.06906907,  4.07907908,  4.08908909,  4.0990991 ,\n",
       "        4.10910911,  4.11911912,  4.12912913,  4.13913914,  4.14914915,\n",
       "        4.15915916,  4.16916917,  4.17917918,  4.18918919,  4.1991992 ,\n",
       "        4.20920921,  4.21921922,  4.22922923,  4.23923924,  4.24924925,\n",
       "        4.25925926,  4.26926927,  4.27927928,  4.28928929,  4.2992993 ,\n",
       "        4.30930931,  4.31931932,  4.32932933,  4.33933934,  4.34934935,\n",
       "        4.35935936,  4.36936937,  4.37937938,  4.38938939,  4.3993994 ,\n",
       "        4.40940941,  4.41941942,  4.42942943,  4.43943944,  4.44944945,\n",
       "        4.45945946,  4.46946947,  4.47947948,  4.48948949,  4.4994995 ,\n",
       "        4.50950951,  4.51951952,  4.52952953,  4.53953954,  4.54954955,\n",
       "        4.55955956,  4.56956957,  4.57957958,  4.58958959,  4.5995996 ,\n",
       "        4.60960961,  4.61961962,  4.62962963,  4.63963964,  4.64964965,\n",
       "        4.65965966,  4.66966967,  4.67967968,  4.68968969,  4.6996997 ,\n",
       "        4.70970971,  4.71971972,  4.72972973,  4.73973974,  4.74974975,\n",
       "        4.75975976,  4.76976977,  4.77977978,  4.78978979,  4.7997998 ,\n",
       "        4.80980981,  4.81981982,  4.82982983,  4.83983984,  4.84984985,\n",
       "        4.85985986,  4.86986987,  4.87987988,  4.88988989,  4.8998999 ,\n",
       "        4.90990991,  4.91991992,  4.92992993,  4.93993994,  4.94994995,\n",
       "        4.95995996,  4.96996997,  4.97997998,  4.98998999,  5.        ])"
      ]
     },
     "execution_count": 115,
     "metadata": {},
     "output_type": "execute_result"
    }
   ],
   "source": [
    "x"
   ]
  },
  {
   "cell_type": "code",
   "execution_count": 116,
   "metadata": {},
   "outputs": [],
   "source": [
    "fv = f #np.vectorize(f)"
   ]
  },
  {
   "cell_type": "code",
   "execution_count": 117,
   "metadata": {},
   "outputs": [],
   "source": [
    "fx = fv(x)"
   ]
  },
  {
   "cell_type": "code",
   "execution_count": 118,
   "metadata": {},
   "outputs": [
    {
     "data": {
      "text/plain": [
       "((1000,), (1000,))"
      ]
     },
     "execution_count": 118,
     "metadata": {},
     "output_type": "execute_result"
    }
   ],
   "source": [
    "x.shape, fx.shape"
   ]
  },
  {
   "cell_type": "code",
   "execution_count": 119,
   "metadata": {},
   "outputs": [],
   "source": [
    "import matplotlib.pyplot as plt"
   ]
  },
  {
   "cell_type": "code",
   "execution_count": 120,
   "metadata": {},
   "outputs": [
    {
     "data": {
      "text/plain": [
       "[<matplotlib.lines.Line2D at 0x872a908>]"
      ]
     },
     "execution_count": 120,
     "metadata": {},
     "output_type": "execute_result"
    },
    {
     "data": {
      "image/png": "[encoded data removed]",
      "text/plain": [
       "<Figure size 432x288 with 1 Axes>"
      ]
     },
     "metadata": {
      "needs_background": "light"
     },
     "output_type": "display_data"
    }
   ],
   "source": [
    "plt.plot(x, fx)"
   ]
  },
  {
   "cell_type": "code",
   "execution_count": 121,
   "metadata": {},
   "outputs": [],
   "source": [
    "sig = np.vectorize(lambda x: 1 / (1 + math.exp(-x)))"
   ]
  },
  {
   "cell_type": "code",
   "execution_count": 122,
   "metadata": {},
   "outputs": [
    {
     "data": {
      "text/plain": [
       "[<matplotlib.lines.Line2D at 0x87bdbe0>]"
      ]
     },
     "execution_count": 122,
     "metadata": {},
     "output_type": "execute_result"
    },
    {
     "data": {
      "image/png": "[encoded data removed]",
      "text/plain": [
       "<Figure size 432x288 with 1 Axes>"
      ]
     },
     "metadata": {
      "needs_background": "light"
     },
     "output_type": "display_data"
    }
   ],
   "source": [
    "plt.plot(x, sig(x))"
   ]
  },
  {
   "cell_type": "code",
   "execution_count": 123,
   "metadata": {},
   "outputs": [
    {
     "data": {
      "image/png": "[encoded data removed]",
      "text/plain": [
       "<Figure size 432x288 with 1 Axes>"
      ]
     },
     "metadata": {
      "needs_background": "light"
     },
     "output_type": "display_data"
    }
   ],
   "source": [
    "plt.plot(x, sig(x))\n",
    "plt.grid()"
   ]
  },
  {
   "cell_type": "markdown",
   "metadata": {},
   "source": [
    "## Images as tensors and matrices"
   ]
  },
  {
   "cell_type": "code",
   "execution_count": 124,
   "metadata": {},
   "outputs": [],
   "source": [
    "import cv2"
   ]
  },
  {
   "cell_type": "code",
   "execution_count": 125,
   "metadata": {},
   "outputs": [
    {
     "name": "stdout",
     "output_type": "stream",
     "text": [
      "Requirement already satisfied: opencv-python in c:\\programdata\\anaconda3\\lib\\site-packages (4.1.1.26)\n",
      "Requirement already satisfied: numpy>=1.14.5 in c:\\programdata\\anaconda3\\lib\\site-packages (from opencv-python) (1.16.4)\n"
     ]
    }
   ],
   "source": [
    "! pip install opencv-python"
   ]
  },
  {
   "cell_type": "code",
   "execution_count": 126,
   "metadata": {},
   "outputs": [],
   "source": [
    "from pathlib import Path"
   ]
  },
  {
   "cell_type": "code",
   "execution_count": 127,
   "metadata": {},
   "outputs": [],
   "source": [
    "path = Path('images')"
   ]
  },
  {
   "cell_type": "code",
   "execution_count": 128,
   "metadata": {},
   "outputs": [],
   "source": [
    "ls = ! ls {path}\n",
    "la1 = path / ls[0]"
   ]
  },
  {
   "cell_type": "code",
   "execution_count": 129,
   "metadata": {},
   "outputs": [
    {
     "data": {
      "text/plain": [
       "['\"ls\" не является внутренней или внешней',\n",
       " 'командой, исполняемой программой или пакетным файлом.']"
      ]
     },
     "execution_count": 129,
     "metadata": {},
     "output_type": "execute_result"
    }
   ],
   "source": [
    "ls"
   ]
  },
  {
   "cell_type": "code",
   "execution_count": null,
   "metadata": {},
   "outputs": [],
   "source": [
    "img_brg = cv2.imread(str(la1 / 'tbilisi1.jpg'), cv2.IMREAD_ANYCOLOR)"
   ]
  },
  {
   "cell_type": "code",
   "execution_count": null,
   "metadata": {},
   "outputs": [],
   "source": [
    "type(img_brg), img_brg.shape"
   ]
  },
  {
   "cell_type": "code",
   "execution_count": null,
   "metadata": {
    "scrolled": true
   },
   "outputs": [],
   "source": [
    "plt.figure(figsize=(50, 50))\n",
    "plt.imshow(img_brg, cmap=None)\n",
    "plt.show()"
   ]
  },
  {
   "cell_type": "code",
   "execution_count": null,
   "metadata": {},
   "outputs": [],
   "source": [
    "img = cv2.cvtColor(img_brg, cv2.COLOR_RGB2BGR)"
   ]
  },
  {
   "cell_type": "code",
   "execution_count": null,
   "metadata": {},
   "outputs": [],
   "source": [
    "import matplotlib.pyplot as plt"
   ]
  },
  {
   "cell_type": "code",
   "execution_count": null,
   "metadata": {},
   "outputs": [],
   "source": [
    "def show_img(im, figsize=(50, 50), cmap=None):\n",
    "    plt.figure(figsize=figsize)\n",
    "    plt.imshow(im, cmap=cmap)\n",
    "    plt.show()"
   ]
  },
  {
   "cell_type": "code",
   "execution_count": null,
   "metadata": {},
   "outputs": [],
   "source": [
    "show_img(img)"
   ]
  },
  {
   "cell_type": "code",
   "execution_count": null,
   "metadata": {},
   "outputs": [],
   "source": [
    "gray = cv2.cvtColor(img, cv2.COLOR_RGB2GRAY)"
   ]
  },
  {
   "cell_type": "code",
   "execution_count": null,
   "metadata": {
    "scrolled": true
   },
   "outputs": [],
   "source": [
    "show_img(gray, cmap='gray')"
   ]
  },
  {
   "cell_type": "code",
   "execution_count": null,
   "metadata": {},
   "outputs": [],
   "source": [
    "gray_t = gray.T"
   ]
  },
  {
   "cell_type": "code",
   "execution_count": null,
   "metadata": {
    "scrolled": true
   },
   "outputs": [],
   "source": [
    "gray_t.shape\n",
    "show_img(gray_t, cmap='gray')"
   ]
  },
  {
   "cell_type": "code",
   "execution_count": null,
   "metadata": {
    "scrolled": true
   },
   "outputs": [],
   "source": [
    "show_img(gray - 100, cmap='gray')"
   ]
  },
  {
   "cell_type": "markdown",
   "metadata": {},
   "source": [
    "## Example 1"
   ]
  },
  {
   "cell_type": "code",
   "execution_count": 130,
   "metadata": {},
   "outputs": [],
   "source": [
    "X = np.random.rand(10)\n",
    "A = np.random.rand(10)\n",
    "b = np.random.rand(1)"
   ]
  },
  {
   "cell_type": "code",
   "execution_count": 131,
   "metadata": {},
   "outputs": [
    {
     "data": {
      "text/plain": [
       "array([2.76873267])"
      ]
     },
     "execution_count": 131,
     "metadata": {},
     "output_type": "execute_result"
    }
   ],
   "source": [
    "A @ X + b"
   ]
  },
  {
   "cell_type": "code",
   "execution_count": 132,
   "metadata": {},
   "outputs": [
    {
     "data": {
      "text/plain": [
       "array([0.94096262])"
      ]
     },
     "execution_count": 132,
     "metadata": {},
     "output_type": "execute_result"
    }
   ],
   "source": [
    "sig(A @ X + b)"
   ]
  },
  {
   "cell_type": "markdown",
   "metadata": {},
   "source": [
    "## Example 2"
   ]
  },
  {
   "cell_type": "code",
   "execution_count": 133,
   "metadata": {},
   "outputs": [],
   "source": [
    "W = np.array([20, 20]) # Weights\n",
    "b = np.array([-30]) # bias"
   ]
  },
  {
   "cell_type": "code",
   "execution_count": 134,
   "metadata": {},
   "outputs": [],
   "source": [
    "X = np.array([1, 0])"
   ]
  },
  {
   "cell_type": "code",
   "execution_count": 135,
   "metadata": {},
   "outputs": [],
   "source": [
    "d = sig(W @ X + b)"
   ]
  },
  {
   "cell_type": "code",
   "execution_count": 136,
   "metadata": {},
   "outputs": [
    {
     "data": {
      "text/plain": [
       "array([0.])"
      ]
     },
     "execution_count": 136,
     "metadata": {},
     "output_type": "execute_result"
    }
   ],
   "source": [
    "np.around(d, decimals=1)"
   ]
  },
  {
   "cell_type": "code",
   "execution_count": 137,
   "metadata": {},
   "outputs": [],
   "source": [
    "ff = lambda _X, _W, _b: sig(np.dot(_W.T, _X) + _b)"
   ]
  },
  {
   "cell_type": "code",
   "execution_count": 138,
   "metadata": {},
   "outputs": [],
   "source": [
    "BA = [[0, 0], [0, 1], [1, 0], [1, 1]]"
   ]
  },
  {
   "cell_type": "code",
   "execution_count": 139,
   "metadata": {},
   "outputs": [
    {
     "name": "stdout",
     "output_type": "stream",
     "text": [
      "[0, 0] [0.]\n",
      "[0, 1] [0.]\n",
      "[1, 0] [0.]\n",
      "[1, 1] [1.]\n"
     ]
    }
   ],
   "source": [
    "for ba in BA:\n",
    "    print(ba, np.around(ff(ba, W, b), decimals=1))"
   ]
  },
  {
   "cell_type": "markdown",
   "metadata": {},
   "source": [
    "Change bias"
   ]
  },
  {
   "cell_type": "code",
   "execution_count": null,
   "metadata": {},
   "outputs": [],
   "source": [
    "b = np.array([-10])"
   ]
  },
  {
   "cell_type": "code",
   "execution_count": null,
   "metadata": {},
   "outputs": [],
   "source": [
    "for ba in BA:\n",
    "    print(ba, np.around(ff(ba, W, b), decimals=1))"
   ]
  },
  {
   "cell_type": "markdown",
   "metadata": {},
   "source": [
    "Write combination for $XOR$ calculation"
   ]
  },
  {
   "cell_type": "code",
   "execution_count": 7,
   "metadata": {},
   "outputs": [
    {
     "name": "stdout",
     "output_type": "stream",
     "text": [
      "[[0 1 1 1 0 0 0 0 1 0 0 1 1 1 1 0 1 1 1 0 1 1 0 0 1 1 1 0 0 0 1 1 0 0 1]]\n",
      "[[0 0 1 1 1 1 1 0 0 0 1 0 0 0 1 1 1 1 0 1 1 1 0 0 0 0 1 1 0 0 0 1 1 0 0]]\n",
      "[[0 1 0 0 1 1 1 0 1 0 1 1 1 1 0 1 0 0 1 1 0 0 0 0 1 1 0 1 0 0 1 0 1 0 1]]\n"
     ]
    }
   ],
   "source": [
    "def XOR_calc(A,B):\n",
    "    \n",
    "    if A.shape != B.shape:\n",
    "        \n",
    "        return 'შეცდომა: მატრიცების განზომილებები ერთმანეთს არ ემთხვევა'\n",
    "    \n",
    "    for i in range(A.shape[0]):\n",
    "        \n",
    "        for j in range(A.shape[1]):\n",
    "            \n",
    "            if (A[i,j] !=0 and A[i,j] !=1) or (B[i,j] !=0 and B[i,j] !=1):\n",
    "                \n",
    "                return 'შეცდომა: რომელიღაც მატრიცა შეიცავს 0-სგან და 1-სგან განსხვავებულ ელემენტ(ებ)ს'\n",
    "            \n",
    "            C[i,j]=0\n",
    "            \n",
    "            if A[i,j]==1 and B[i,j]==0:\n",
    "                C[i,j]=1\n",
    "            \n",
    "            if A[i,j]==0 and B[i,j]==1:\n",
    "                C[i,j]=1\n",
    "                \n",
    "    return C\n",
    "\n",
    "n=1\n",
    "m=35\n",
    "A=np.random.randint(0,2, size=(n, m))\n",
    "B=np.random.randint(0,2, size=(n, m))\n",
    "C=np.random.randint(0,2, size=(n, m))\n",
    "\n",
    "\n",
    "\n",
    "\n",
    "print (A)\n",
    "print (B)\n",
    "print(XOR_calc(A,B))\n",
    " "
   ]
  },
  {
   "cell_type": "code",
   "execution_count": null,
   "metadata": {},
   "outputs": [],
   "source": []
  }
 ],
 "metadata": {
  "kernelspec": {
   "display_name": "Python 3",
   "language": "python",
   "name": "python3"
  },
  "language_info": {
   "codemirror_mode": {
    "name": "ipython",
    "version": 3
   },
   "file_extension": ".py",
   "mimetype": "text/x-python",
   "name": "python",
   "nbconvert_exporter": "python",
   "pygments_lexer": "ipython3",
   "version": "3.7.3"
  }
 },
 "nbformat": 4,
 "nbformat_minor": 4
}
