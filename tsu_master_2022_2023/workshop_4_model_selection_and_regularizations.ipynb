{
 "cells": [
  {
   "cell_type": "code",
   "execution_count": 1,
   "id": "71ce37e9",
   "metadata": {},
   "outputs": [],
   "source": [
    "%load_ext autoreload\n",
    "%autoreload 2\n",
    "\n",
    "%matplotlib inline"
   ]
  },
  {
   "cell_type": "markdown",
   "id": "5b560092",
   "metadata": {},
   "source": [
    "## Install libraries"
   ]
  },
  {
   "cell_type": "markdown",
   "id": "89885fa7",
   "metadata": {},
   "source": [
    "```bash\n",
    "conda create -n edu4 python=3.11 jupyter matplotlib\n",
    "```"
   ]
  },
  {
   "cell_type": "markdown",
   "id": "cd23589d",
   "metadata": {},
   "source": [
    "```bash \n",
    "! pip install -U -r requirements.txt\n",
    "```"
   ]
  },
  {
   "cell_type": "markdown",
   "id": "9d16321f",
   "metadata": {},
   "source": [
    "```bash\n",
    "! pip install -U numpy\n",
    "! pip install -U scikit-learn\n",
    "```"
   ]
  },
  {
   "cell_type": "code",
   "execution_count": 2,
   "id": "cf179611",
   "metadata": {},
   "outputs": [
    {
     "name": "stdout",
     "output_type": "stream",
     "text": [
      "additional_workshop_representation_learning_and_search_images.ipynb\r\n",
      "\u001b[34mdata\u001b[m\u001b[m\r\n",
      "final_exam_sm.ipynb\r\n",
      "first_example_of_notebook_use.ipynb\r\n",
      "\u001b[34mimages\u001b[m\u001b[m\r\n",
      "mid_terms.ipynb\r\n",
      "mid_terms_sm.ipynb\r\n",
      "requirements.txt\r\n",
      "workshop_1_linear_regression.ipynb\r\n",
      "workshop_2_logistic_regression_lda_qda_nb.ipynb\r\n",
      "workshop_3_resampling_methods.ipynb\r\n",
      "workshop_4_model_selection_and_regularizations.ipynb\r\n",
      "workshop_5_beyond_linearity.ipynb\r\n",
      "workshop_6_trees_boosting_bagging.ipynb\r\n",
      "workshop_7_support_vector_machines.ipynb\r\n",
      "workshop_8_pca_clustering.ipynb\r\n"
     ]
    }
   ],
   "source": [
    "! ls"
   ]
  },
  {
   "cell_type": "code",
   "execution_count": 3,
   "id": "d0126ab9",
   "metadata": {
    "scrolled": true
   },
   "outputs": [
    {
     "name": "stdout",
     "output_type": "stream",
     "text": [
      "Requirement already satisfied: jupyter in /Users/levan/anaconda3/envs/edu4/lib/python3.10/site-packages (from -r requirements.txt (line 1)) (1.0.0)\n",
      "Requirement already satisfied: matplotlib in /Users/levan/anaconda3/envs/edu4/lib/python3.10/site-packages (from -r requirements.txt (line 2)) (3.8.2)\n",
      "Requirement already satisfied: seaborn in /Users/levan/anaconda3/envs/edu4/lib/python3.10/site-packages (from -r requirements.txt (line 3)) (0.13.0)\n",
      "Requirement already satisfied: numpy in /Users/levan/anaconda3/envs/edu4/lib/python3.10/site-packages (from -r requirements.txt (line 4)) (1.26.2)\n",
      "Requirement already satisfied: scipy in /Users/levan/anaconda3/envs/edu4/lib/python3.10/site-packages (from -r requirements.txt (line 5)) (1.11.4)\n",
      "Requirement already satisfied: pandas in /Users/levan/anaconda3/envs/edu4/lib/python3.10/site-packages (from -r requirements.txt (line 6)) (2.1.4)\n",
      "Requirement already satisfied: openpyxl in /Users/levan/anaconda3/envs/edu4/lib/python3.10/site-packages (from -r requirements.txt (line 7)) (3.1.2)\n",
      "Requirement already satisfied: scikit-learn in /Users/levan/anaconda3/envs/edu4/lib/python3.10/site-packages (from -r requirements.txt (line 9)) (1.3.2)\n",
      "Requirement already satisfied: xgboost in /Users/levan/anaconda3/envs/edu4/lib/python3.10/site-packages (from -r requirements.txt (line 10)) (2.0.3)\n",
      "Requirement already satisfied: graphviz in /Users/levan/anaconda3/envs/edu4/lib/python3.10/site-packages (from -r requirements.txt (line 11)) (0.20.1)\n",
      "Requirement already satisfied: scikit-image in /Users/levan/anaconda3/envs/edu4/lib/python3.10/site-packages (from -r requirements.txt (line 12)) (0.22.0)\n",
      "Requirement already satisfied: nbconvert in /Users/levan/anaconda3/envs/edu4/lib/python3.10/site-packages (from jupyter->-r requirements.txt (line 1)) (6.5.4)\n",
      "Requirement already satisfied: jupyter-console in /Users/levan/anaconda3/envs/edu4/lib/python3.10/site-packages (from jupyter->-r requirements.txt (line 1)) (6.4.4)\n",
      "Requirement already satisfied: qtconsole in /Users/levan/anaconda3/envs/edu4/lib/python3.10/site-packages (from jupyter->-r requirements.txt (line 1)) (5.4.0)\n",
      "Requirement already satisfied: ipykernel in /Users/levan/anaconda3/envs/edu4/lib/python3.10/site-packages (from jupyter->-r requirements.txt (line 1)) (6.19.2)\n",
      "Requirement already satisfied: notebook in /Users/levan/anaconda3/envs/edu4/lib/python3.10/site-packages (from jupyter->-r requirements.txt (line 1)) (6.5.2)\n",
      "Requirement already satisfied: ipywidgets in /Users/levan/anaconda3/envs/edu4/lib/python3.10/site-packages (from jupyter->-r requirements.txt (line 1)) (7.6.5)\n",
      "Requirement already satisfied: fonttools>=4.22.0 in /Users/levan/anaconda3/envs/edu4/lib/python3.10/site-packages (from matplotlib->-r requirements.txt (line 2)) (4.25.0)\n",
      "Requirement already satisfied: pyparsing>=2.3.1 in /Users/levan/anaconda3/envs/edu4/lib/python3.10/site-packages (from matplotlib->-r requirements.txt (line 2)) (3.0.9)\n",
      "Requirement already satisfied: pillow>=8 in /Users/levan/anaconda3/envs/edu4/lib/python3.10/site-packages (from matplotlib->-r requirements.txt (line 2)) (9.3.0)\n",
      "Requirement already satisfied: python-dateutil>=2.7 in /Users/levan/anaconda3/envs/edu4/lib/python3.10/site-packages (from matplotlib->-r requirements.txt (line 2)) (2.8.2)\n",
      "Requirement already satisfied: cycler>=0.10 in /Users/levan/anaconda3/envs/edu4/lib/python3.10/site-packages (from matplotlib->-r requirements.txt (line 2)) (0.11.0)\n",
      "Requirement already satisfied: packaging>=20.0 in /Users/levan/anaconda3/envs/edu4/lib/python3.10/site-packages (from matplotlib->-r requirements.txt (line 2)) (22.0)\n",
      "Requirement already satisfied: kiwisolver>=1.3.1 in /Users/levan/anaconda3/envs/edu4/lib/python3.10/site-packages (from matplotlib->-r requirements.txt (line 2)) (1.4.4)\n",
      "Requirement already satisfied: contourpy>=1.0.1 in /Users/levan/anaconda3/envs/edu4/lib/python3.10/site-packages (from matplotlib->-r requirements.txt (line 2)) (1.0.6)\n",
      "Requirement already satisfied: pytz>=2020.1 in /Users/levan/anaconda3/envs/edu4/lib/python3.10/site-packages (from pandas->-r requirements.txt (line 6)) (2022.7)\n",
      "Requirement already satisfied: tzdata>=2022.1 in /Users/levan/anaconda3/envs/edu4/lib/python3.10/site-packages (from pandas->-r requirements.txt (line 6)) (2023.3)\n",
      "Requirement already satisfied: et-xmlfile in /Users/levan/anaconda3/envs/edu4/lib/python3.10/site-packages (from openpyxl->-r requirements.txt (line 7)) (1.1.0)\n",
      "Requirement already satisfied: joblib>=1.1.1 in /Users/levan/anaconda3/envs/edu4/lib/python3.10/site-packages (from scikit-learn->-r requirements.txt (line 9)) (1.2.0)\n",
      "Requirement already satisfied: threadpoolctl>=2.0.0 in /Users/levan/anaconda3/envs/edu4/lib/python3.10/site-packages (from scikit-learn->-r requirements.txt (line 9)) (3.1.0)\n",
      "Requirement already satisfied: imageio>=2.27 in /Users/levan/anaconda3/envs/edu4/lib/python3.10/site-packages (from scikit-image->-r requirements.txt (line 12)) (2.31.6)\n",
      "Requirement already satisfied: networkx>=2.8 in /Users/levan/anaconda3/envs/edu4/lib/python3.10/site-packages (from scikit-image->-r requirements.txt (line 12)) (3.0)\n",
      "Requirement already satisfied: lazy_loader>=0.3 in /Users/levan/anaconda3/envs/edu4/lib/python3.10/site-packages (from scikit-image->-r requirements.txt (line 12)) (0.3)\n",
      "Requirement already satisfied: tifffile>=2022.8.12 in /Users/levan/anaconda3/envs/edu4/lib/python3.10/site-packages (from scikit-image->-r requirements.txt (line 12)) (2022.10.10)\n",
      "Requirement already satisfied: six>=1.5 in /Users/levan/anaconda3/envs/edu4/lib/python3.10/site-packages (from python-dateutil>=2.7->matplotlib->-r requirements.txt (line 2)) (1.16.0)\n",
      "Requirement already satisfied: matplotlib-inline>=0.1 in /Users/levan/anaconda3/envs/edu4/lib/python3.10/site-packages (from ipykernel->jupyter->-r requirements.txt (line 1)) (0.1.6)\n",
      "Requirement already satisfied: psutil in /Users/levan/anaconda3/envs/edu4/lib/python3.10/site-packages (from ipykernel->jupyter->-r requirements.txt (line 1)) (5.9.0)\n",
      "Requirement already satisfied: nest-asyncio in /Users/levan/anaconda3/envs/edu4/lib/python3.10/site-packages (from ipykernel->jupyter->-r requirements.txt (line 1)) (1.5.6)\n",
      "Requirement already satisfied: traitlets>=5.4.0 in /Users/levan/anaconda3/envs/edu4/lib/python3.10/site-packages (from ipykernel->jupyter->-r requirements.txt (line 1)) (5.7.1)\n",
      "Requirement already satisfied: jupyter-client>=6.1.12 in /Users/levan/anaconda3/envs/edu4/lib/python3.10/site-packages (from ipykernel->jupyter->-r requirements.txt (line 1)) (7.4.9)\n",
      "Requirement already satisfied: appnope in /Users/levan/anaconda3/envs/edu4/lib/python3.10/site-packages (from ipykernel->jupyter->-r requirements.txt (line 1)) (0.1.2)\n",
      "Requirement already satisfied: pyzmq>=17 in /Users/levan/anaconda3/envs/edu4/lib/python3.10/site-packages (from ipykernel->jupyter->-r requirements.txt (line 1)) (23.2.0)\n",
      "Requirement already satisfied: ipython>=7.23.1 in /Users/levan/anaconda3/envs/edu4/lib/python3.10/site-packages (from ipykernel->jupyter->-r requirements.txt (line 1)) (8.10.0)\n",
      "Requirement already satisfied: comm>=0.1.1 in /Users/levan/anaconda3/envs/edu4/lib/python3.10/site-packages (from ipykernel->jupyter->-r requirements.txt (line 1)) (0.1.2)\n",
      "Requirement already satisfied: tornado>=6.1 in /Users/levan/anaconda3/envs/edu4/lib/python3.10/site-packages (from ipykernel->jupyter->-r requirements.txt (line 1)) (6.2)\n",
      "Requirement already satisfied: debugpy>=1.0 in /Users/levan/anaconda3/envs/edu4/lib/python3.10/site-packages (from ipykernel->jupyter->-r requirements.txt (line 1)) (1.5.1)\n",
      "Requirement already satisfied: ipython-genutils~=0.2.0 in /Users/levan/anaconda3/envs/edu4/lib/python3.10/site-packages (from ipywidgets->jupyter->-r requirements.txt (line 1)) (0.2.0)\n",
      "Requirement already satisfied: widgetsnbextension~=3.5.0 in /Users/levan/anaconda3/envs/edu4/lib/python3.10/site-packages (from ipywidgets->jupyter->-r requirements.txt (line 1)) (3.5.2)\n",
      "Requirement already satisfied: jupyterlab-widgets>=1.0.0 in /Users/levan/anaconda3/envs/edu4/lib/python3.10/site-packages (from ipywidgets->jupyter->-r requirements.txt (line 1)) (1.0.0)\n",
      "Requirement already satisfied: nbformat>=4.2.0 in /Users/levan/anaconda3/envs/edu4/lib/python3.10/site-packages (from ipywidgets->jupyter->-r requirements.txt (line 1)) (5.7.0)\n",
      "Requirement already satisfied: prompt-toolkit!=3.0.0,!=3.0.1,<3.1.0,>=2.0.0 in /Users/levan/anaconda3/envs/edu4/lib/python3.10/site-packages (from jupyter-console->jupyter->-r requirements.txt (line 1)) (3.0.36)\n",
      "Requirement already satisfied: pygments in /Users/levan/anaconda3/envs/edu4/lib/python3.10/site-packages (from jupyter-console->jupyter->-r requirements.txt (line 1)) (2.11.2)\n"
     ]
    },
    {
     "name": "stdout",
     "output_type": "stream",
     "text": [
      "Requirement already satisfied: entrypoints>=0.2.2 in /Users/levan/anaconda3/envs/edu4/lib/python3.10/site-packages (from nbconvert->jupyter->-r requirements.txt (line 1)) (0.4)\n",
      "Requirement already satisfied: lxml in /Users/levan/anaconda3/envs/edu4/lib/python3.10/site-packages (from nbconvert->jupyter->-r requirements.txt (line 1)) (4.9.1)\n",
      "Requirement already satisfied: mistune<2,>=0.8.1 in /Users/levan/anaconda3/envs/edu4/lib/python3.10/site-packages (from nbconvert->jupyter->-r requirements.txt (line 1)) (0.8.4)\n",
      "Requirement already satisfied: nbclient>=0.5.0 in /Users/levan/anaconda3/envs/edu4/lib/python3.10/site-packages (from nbconvert->jupyter->-r requirements.txt (line 1)) (0.5.13)\n",
      "Requirement already satisfied: jupyterlab-pygments in /Users/levan/anaconda3/envs/edu4/lib/python3.10/site-packages (from nbconvert->jupyter->-r requirements.txt (line 1)) (0.1.2)\n",
      "Requirement already satisfied: tinycss2 in /Users/levan/anaconda3/envs/edu4/lib/python3.10/site-packages (from nbconvert->jupyter->-r requirements.txt (line 1)) (1.2.1)\n",
      "Requirement already satisfied: jinja2>=3.0 in /Users/levan/anaconda3/envs/edu4/lib/python3.10/site-packages (from nbconvert->jupyter->-r requirements.txt (line 1)) (3.1.2)\n",
      "Requirement already satisfied: defusedxml in /Users/levan/anaconda3/envs/edu4/lib/python3.10/site-packages (from nbconvert->jupyter->-r requirements.txt (line 1)) (0.7.1)\n",
      "Requirement already satisfied: MarkupSafe>=2.0 in /Users/levan/anaconda3/envs/edu4/lib/python3.10/site-packages (from nbconvert->jupyter->-r requirements.txt (line 1)) (2.1.1)\n",
      "Requirement already satisfied: pandocfilters>=1.4.1 in /Users/levan/anaconda3/envs/edu4/lib/python3.10/site-packages (from nbconvert->jupyter->-r requirements.txt (line 1)) (1.5.0)\n",
      "Requirement already satisfied: jupyter-core>=4.7 in /Users/levan/anaconda3/envs/edu4/lib/python3.10/site-packages (from nbconvert->jupyter->-r requirements.txt (line 1)) (5.2.0)\n",
      "Requirement already satisfied: beautifulsoup4 in /Users/levan/anaconda3/envs/edu4/lib/python3.10/site-packages (from nbconvert->jupyter->-r requirements.txt (line 1)) (4.11.1)\n",
      "Requirement already satisfied: bleach in /Users/levan/anaconda3/envs/edu4/lib/python3.10/site-packages (from nbconvert->jupyter->-r requirements.txt (line 1)) (4.1.0)\n",
      "Requirement already satisfied: argon2-cffi in /Users/levan/anaconda3/envs/edu4/lib/python3.10/site-packages (from notebook->jupyter->-r requirements.txt (line 1)) (21.3.0)\n",
      "Requirement already satisfied: nbclassic>=0.4.7 in /Users/levan/anaconda3/envs/edu4/lib/python3.10/site-packages (from notebook->jupyter->-r requirements.txt (line 1)) (0.5.2)\n",
      "Requirement already satisfied: terminado>=0.8.3 in /Users/levan/anaconda3/envs/edu4/lib/python3.10/site-packages (from notebook->jupyter->-r requirements.txt (line 1)) (0.17.1)\n",
      "Requirement already satisfied: Send2Trash>=1.8.0 in /Users/levan/anaconda3/envs/edu4/lib/python3.10/site-packages (from notebook->jupyter->-r requirements.txt (line 1)) (1.8.0)\n",
      "Requirement already satisfied: prometheus-client in /Users/levan/anaconda3/envs/edu4/lib/python3.10/site-packages (from notebook->jupyter->-r requirements.txt (line 1)) (0.14.1)\n",
      "Requirement already satisfied: qtpy>=2.0.1 in /Users/levan/anaconda3/envs/edu4/lib/python3.10/site-packages (from qtconsole->jupyter->-r requirements.txt (line 1)) (2.2.0)\n",
      "Requirement already satisfied: decorator in /Users/levan/anaconda3/envs/edu4/lib/python3.10/site-packages (from ipython>=7.23.1->ipykernel->jupyter->-r requirements.txt (line 1)) (5.1.1)\n",
      "Requirement already satisfied: pexpect>4.3 in /Users/levan/anaconda3/envs/edu4/lib/python3.10/site-packages (from ipython>=7.23.1->ipykernel->jupyter->-r requirements.txt (line 1)) (4.8.0)\n",
      "Requirement already satisfied: stack-data in /Users/levan/anaconda3/envs/edu4/lib/python3.10/site-packages (from ipython>=7.23.1->ipykernel->jupyter->-r requirements.txt (line 1)) (0.2.0)\n",
      "Requirement already satisfied: backcall in /Users/levan/anaconda3/envs/edu4/lib/python3.10/site-packages (from ipython>=7.23.1->ipykernel->jupyter->-r requirements.txt (line 1)) (0.2.0)\n",
      "Requirement already satisfied: jedi>=0.16 in /Users/levan/anaconda3/envs/edu4/lib/python3.10/site-packages (from ipython>=7.23.1->ipykernel->jupyter->-r requirements.txt (line 1)) (0.18.1)\n",
      "Requirement already satisfied: pickleshare in /Users/levan/anaconda3/envs/edu4/lib/python3.10/site-packages (from ipython>=7.23.1->ipykernel->jupyter->-r requirements.txt (line 1)) (0.7.5)\n",
      "Requirement already satisfied: platformdirs>=2.5 in /Users/levan/anaconda3/envs/edu4/lib/python3.10/site-packages (from jupyter-core>=4.7->nbconvert->jupyter->-r requirements.txt (line 1)) (2.5.2)\n",
      "Requirement already satisfied: jupyter-server>=1.8 in /Users/levan/anaconda3/envs/edu4/lib/python3.10/site-packages (from nbclassic>=0.4.7->notebook->jupyter->-r requirements.txt (line 1)) (1.23.4)\n",
      "Requirement already satisfied: notebook-shim>=0.1.0 in /Users/levan/anaconda3/envs/edu4/lib/python3.10/site-packages (from nbclassic>=0.4.7->notebook->jupyter->-r requirements.txt (line 1)) (0.2.2)\n",
      "Requirement already satisfied: jsonschema>=2.6 in /Users/levan/anaconda3/envs/edu4/lib/python3.10/site-packages (from nbformat>=4.2.0->ipywidgets->jupyter->-r requirements.txt (line 1)) (4.17.3)\n",
      "Requirement already satisfied: fastjsonschema in /Users/levan/anaconda3/envs/edu4/lib/python3.10/site-packages (from nbformat>=4.2.0->ipywidgets->jupyter->-r requirements.txt (line 1)) (2.16.2)\n",
      "Requirement already satisfied: wcwidth in /Users/levan/anaconda3/envs/edu4/lib/python3.10/site-packages (from prompt-toolkit!=3.0.0,!=3.0.1,<3.1.0,>=2.0.0->jupyter-console->jupyter->-r requirements.txt (line 1)) (0.2.5)\n",
      "Requirement already satisfied: ptyprocess in /Users/levan/anaconda3/envs/edu4/lib/python3.10/site-packages (from terminado>=0.8.3->notebook->jupyter->-r requirements.txt (line 1)) (0.7.0)\n",
      "Requirement already satisfied: argon2-cffi-bindings in /Users/levan/anaconda3/envs/edu4/lib/python3.10/site-packages (from argon2-cffi->notebook->jupyter->-r requirements.txt (line 1)) (21.2.0)\n",
      "Requirement already satisfied: soupsieve>1.2 in /Users/levan/anaconda3/envs/edu4/lib/python3.10/site-packages (from beautifulsoup4->nbconvert->jupyter->-r requirements.txt (line 1)) (2.3.2.post1)\n",
      "Requirement already satisfied: webencodings in /Users/levan/anaconda3/envs/edu4/lib/python3.10/site-packages (from bleach->nbconvert->jupyter->-r requirements.txt (line 1)) (0.5.1)\n",
      "Requirement already satisfied: parso<0.9.0,>=0.8.0 in /Users/levan/anaconda3/envs/edu4/lib/python3.10/site-packages (from jedi>=0.16->ipython>=7.23.1->ipykernel->jupyter->-r requirements.txt (line 1)) (0.8.3)\n",
      "Requirement already satisfied: attrs>=17.4.0 in /Users/levan/anaconda3/envs/edu4/lib/python3.10/site-packages (from jsonschema>=2.6->nbformat>=4.2.0->ipywidgets->jupyter->-r requirements.txt (line 1)) (22.1.0)\n",
      "Requirement already satisfied: pyrsistent!=0.17.0,!=0.17.1,!=0.17.2,>=0.14.0 in /Users/levan/anaconda3/envs/edu4/lib/python3.10/site-packages (from jsonschema>=2.6->nbformat>=4.2.0->ipywidgets->jupyter->-r requirements.txt (line 1)) (0.18.0)\n",
      "Requirement already satisfied: websocket-client in /Users/levan/anaconda3/envs/edu4/lib/python3.10/site-packages (from jupyter-server>=1.8->nbclassic>=0.4.7->notebook->jupyter->-r requirements.txt (line 1)) (0.58.0)\n",
      "Requirement already satisfied: anyio<4,>=3.1.0 in /Users/levan/anaconda3/envs/edu4/lib/python3.10/site-packages (from jupyter-server>=1.8->nbclassic>=0.4.7->notebook->jupyter->-r requirements.txt (line 1)) (3.5.0)\n",
      "Requirement already satisfied: cffi>=1.0.1 in /Users/levan/anaconda3/envs/edu4/lib/python3.10/site-packages (from argon2-cffi-bindings->argon2-cffi->notebook->jupyter->-r requirements.txt (line 1)) (1.15.1)\n",
      "Requirement already satisfied: asttokens in /Users/levan/anaconda3/envs/edu4/lib/python3.10/site-packages (from stack-data->ipython>=7.23.1->ipykernel->jupyter->-r requirements.txt (line 1)) (2.0.5)\n",
      "Requirement already satisfied: pure-eval in /Users/levan/anaconda3/envs/edu4/lib/python3.10/site-packages (from stack-data->ipython>=7.23.1->ipykernel->jupyter->-r requirements.txt (line 1)) (0.2.2)\n",
      "Requirement already satisfied: executing in /Users/levan/anaconda3/envs/edu4/lib/python3.10/site-packages (from stack-data->ipython>=7.23.1->ipykernel->jupyter->-r requirements.txt (line 1)) (0.8.3)\n",
      "Requirement already satisfied: sniffio>=1.1 in /Users/levan/anaconda3/envs/edu4/lib/python3.10/site-packages (from anyio<4,>=3.1.0->jupyter-server>=1.8->nbclassic>=0.4.7->notebook->jupyter->-r requirements.txt (line 1)) (1.2.0)\n",
      "Requirement already satisfied: idna>=2.8 in /Users/levan/anaconda3/envs/edu4/lib/python3.10/site-packages (from anyio<4,>=3.1.0->jupyter-server>=1.8->nbclassic>=0.4.7->notebook->jupyter->-r requirements.txt (line 1)) (3.4)\n"
     ]
    },
    {
     "name": "stdout",
     "output_type": "stream",
     "text": [
      "Requirement already satisfied: pycparser in /Users/levan/anaconda3/envs/edu4/lib/python3.10/site-packages (from cffi>=1.0.1->argon2-cffi-bindings->argon2-cffi->notebook->jupyter->-r requirements.txt (line 1)) (2.21)\r\n"
     ]
    }
   ],
   "source": [
    "! pip install -U -r requirements.txt"
   ]
  },
  {
   "cell_type": "markdown",
   "id": "b4cab43a",
   "metadata": {},
   "source": [
    "## Update repository"
   ]
  },
  {
   "cell_type": "code",
   "execution_count": 4,
   "id": "46bcb5dc",
   "metadata": {},
   "outputs": [
    {
     "name": "stdout",
     "output_type": "stream",
     "text": [
      "Already up to date.\r\n"
     ]
    }
   ],
   "source": [
    "! git pull"
   ]
  },
  {
   "cell_type": "markdown",
   "id": "bad216da",
   "metadata": {},
   "source": [
    "## Add import path"
   ]
  },
  {
   "cell_type": "code",
   "execution_count": 5,
   "id": "baafb705",
   "metadata": {},
   "outputs": [],
   "source": [
    "import os\n",
    "import sys\n",
    "import gc"
   ]
  },
  {
   "cell_type": "code",
   "execution_count": 6,
   "id": "b2930983",
   "metadata": {},
   "outputs": [],
   "source": [
    "module_path = os.path.abspath(os.path.join('..'))\n",
    "if module_path not in sys.path:\n",
    "    sys.path.append(module_path)"
   ]
  },
  {
   "cell_type": "code",
   "execution_count": 7,
   "id": "7984d32f",
   "metadata": {},
   "outputs": [],
   "source": [
    "del module_path"
   ]
  },
  {
   "cell_type": "markdown",
   "id": "07a1e9c8",
   "metadata": {},
   "source": [
    "## Organize imports"
   ]
  },
  {
   "cell_type": "code",
   "execution_count": 8,
   "id": "ae177357",
   "metadata": {},
   "outputs": [],
   "source": [
    "import multiprocessing\n",
    "from pathlib import Path"
   ]
  },
  {
   "cell_type": "code",
   "execution_count": 9,
   "id": "a523557a",
   "metadata": {},
   "outputs": [],
   "source": [
    "import seaborn as sns"
   ]
  },
  {
   "cell_type": "code",
   "execution_count": 86,
   "id": "25750a3d",
   "metadata": {},
   "outputs": [],
   "source": [
    "import matplotlib.pyplot as plt\n",
    "import numpy as np\n",
    "import pandas as pd\n",
    "import sklearn\n",
    "from sklearn.model_selection import train_test_split\n",
    "from sklearn.preprocessing import MaxAbsScaler, StandardScaler\n",
    "from sklearn.feature_selection import SequentialFeatureSelector as SFS\n",
    "from sklearn.discriminant_analysis import (LinearDiscriminantAnalysis, \n",
    "                                           QuadraticDiscriminantAnalysis)\n",
    "from sklearn.linear_model import LinearRegression, Ridge, Lasso, LogisticRegression\n",
    "from sklearn.metrics import (mean_absolute_error, mean_squared_error, \n",
    "                             classification_report, confusion_matrix)"
   ]
  },
  {
   "cell_type": "markdown",
   "id": "65f31e93",
   "metadata": {},
   "source": [
    "#### Number of CPU cores"
   ]
  },
  {
   "cell_type": "code",
   "execution_count": 11,
   "id": "b41c30f2",
   "metadata": {
    "scrolled": false
   },
   "outputs": [
    {
     "data": {
      "text/plain": [
       "8"
      ]
     },
     "execution_count": 11,
     "metadata": {},
     "output_type": "execute_result"
    }
   ],
   "source": [
    "workers = multiprocessing.cpu_count()\n",
    "workers"
   ]
  },
  {
   "cell_type": "markdown",
   "id": "3423f1a9",
   "metadata": {},
   "source": [
    "## Initialize path"
   ]
  },
  {
   "cell_type": "code",
   "execution_count": 12,
   "id": "ccfb1c16",
   "metadata": {},
   "outputs": [],
   "source": [
    "DATA = Path('data')\n",
    "PATH = DATA / 'log_regr_lda_qda_np'\n",
    "LR_PATH = DATA / 'linear_regression'\n",
    "PUMPKIN_DIR = PATH / 'Pumpkin_Seeds_Dataset'\n",
    "IRIS_DIR = PATH / 'iris'\n",
    "PUMPKIN_DIR.mkdir(exist_ok=True, parents=True)\n",
    "IRIS_DIR.mkdir(exist_ok=True, parents=True)"
   ]
  },
  {
   "cell_type": "code",
   "execution_count": 13,
   "id": "8f8156f5",
   "metadata": {},
   "outputs": [
    {
     "name": "stdout",
     "output_type": "stream",
     "text": [
      "additional_workshop_representation_learning_and_search_images.ipynb\r\n",
      "\u001b[34mdata\u001b[m\u001b[m\r\n",
      "final_exam_sm.ipynb\r\n",
      "first_example_of_notebook_use.ipynb\r\n",
      "\u001b[34mimages\u001b[m\u001b[m\r\n",
      "mid_terms.ipynb\r\n",
      "mid_terms_sm.ipynb\r\n",
      "requirements.txt\r\n",
      "workshop_1_linear_regression.ipynb\r\n",
      "workshop_2_logistic_regression_lda_qda_nb.ipynb\r\n",
      "workshop_3_resampling_methods.ipynb\r\n",
      "workshop_4_model_selection_and_regularizations.ipynb\r\n",
      "workshop_5_beyond_linearity.ipynb\r\n",
      "workshop_6_trees_boosting_bagging.ipynb\r\n",
      "workshop_7_support_vector_machines.ipynb\r\n",
      "workshop_8_pca_clustering.ipynb\r\n"
     ]
    }
   ],
   "source": [
    "! ls"
   ]
  },
  {
   "cell_type": "markdown",
   "id": "0b803688",
   "metadata": {},
   "source": [
    "## Load IRIS dataset"
   ]
  },
  {
   "cell_type": "code",
   "execution_count": 14,
   "id": "af4f5f24",
   "metadata": {},
   "outputs": [],
   "source": [
    "SEED = 2022"
   ]
  },
  {
   "cell_type": "code",
   "execution_count": 15,
   "id": "543fde41",
   "metadata": {},
   "outputs": [],
   "source": [
    "iris_url = 'https://www.kaggle.com/datasets/uciml/iris/download?datasetVersionNumber=2'"
   ]
  },
  {
   "cell_type": "markdown",
   "id": "9cd4a02a",
   "metadata": {},
   "source": [
    "#### Load dataset"
   ]
  },
  {
   "cell_type": "code",
   "execution_count": 16,
   "id": "fd6ea5ca",
   "metadata": {},
   "outputs": [
    {
     "name": "stdout",
     "output_type": "stream",
     "text": [
      "Iris.csv        database.sqlite\r\n"
     ]
    }
   ],
   "source": [
    "! ls {IRIS_DIR}"
   ]
  },
  {
   "cell_type": "code",
   "execution_count": 17,
   "id": "bfbc6afa",
   "metadata": {},
   "outputs": [],
   "source": [
    "df = pd.read_csv(IRIS_DIR / 'Iris.csv')"
   ]
  },
  {
   "cell_type": "code",
   "execution_count": 18,
   "id": "9ed249b3",
   "metadata": {},
   "outputs": [
    {
     "data": {
      "text/html": [
       "<div>\n",
       "<style scoped>\n",
       "    .dataframe tbody tr th:only-of-type {\n",
       "        vertical-align: middle;\n",
       "    }\n",
       "\n",
       "    .dataframe tbody tr th {\n",
       "        vertical-align: top;\n",
       "    }\n",
       "\n",
       "    .dataframe thead th {\n",
       "        text-align: right;\n",
       "    }\n",
       "</style>\n",
       "<table border=\"1\" class=\"dataframe\">\n",
       "  <thead>\n",
       "    <tr style=\"text-align: right;\">\n",
       "      <th></th>\n",
       "      <th>Id</th>\n",
       "      <th>SepalLengthCm</th>\n",
       "      <th>SepalWidthCm</th>\n",
       "      <th>PetalLengthCm</th>\n",
       "      <th>PetalWidthCm</th>\n",
       "      <th>Species</th>\n",
       "    </tr>\n",
       "  </thead>\n",
       "  <tbody>\n",
       "    <tr>\n",
       "      <th>0</th>\n",
       "      <td>1</td>\n",
       "      <td>5.1</td>\n",
       "      <td>3.5</td>\n",
       "      <td>1.4</td>\n",
       "      <td>0.2</td>\n",
       "      <td>Iris-setosa</td>\n",
       "    </tr>\n",
       "    <tr>\n",
       "      <th>1</th>\n",
       "      <td>2</td>\n",
       "      <td>4.9</td>\n",
       "      <td>3.0</td>\n",
       "      <td>1.4</td>\n",
       "      <td>0.2</td>\n",
       "      <td>Iris-setosa</td>\n",
       "    </tr>\n",
       "    <tr>\n",
       "      <th>2</th>\n",
       "      <td>3</td>\n",
       "      <td>4.7</td>\n",
       "      <td>3.2</td>\n",
       "      <td>1.3</td>\n",
       "      <td>0.2</td>\n",
       "      <td>Iris-setosa</td>\n",
       "    </tr>\n",
       "    <tr>\n",
       "      <th>3</th>\n",
       "      <td>4</td>\n",
       "      <td>4.6</td>\n",
       "      <td>3.1</td>\n",
       "      <td>1.5</td>\n",
       "      <td>0.2</td>\n",
       "      <td>Iris-setosa</td>\n",
       "    </tr>\n",
       "    <tr>\n",
       "      <th>4</th>\n",
       "      <td>5</td>\n",
       "      <td>5.0</td>\n",
       "      <td>3.6</td>\n",
       "      <td>1.4</td>\n",
       "      <td>0.2</td>\n",
       "      <td>Iris-setosa</td>\n",
       "    </tr>\n",
       "    <tr>\n",
       "      <th>...</th>\n",
       "      <td>...</td>\n",
       "      <td>...</td>\n",
       "      <td>...</td>\n",
       "      <td>...</td>\n",
       "      <td>...</td>\n",
       "      <td>...</td>\n",
       "    </tr>\n",
       "    <tr>\n",
       "      <th>145</th>\n",
       "      <td>146</td>\n",
       "      <td>6.7</td>\n",
       "      <td>3.0</td>\n",
       "      <td>5.2</td>\n",
       "      <td>2.3</td>\n",
       "      <td>Iris-virginica</td>\n",
       "    </tr>\n",
       "    <tr>\n",
       "      <th>146</th>\n",
       "      <td>147</td>\n",
       "      <td>6.3</td>\n",
       "      <td>2.5</td>\n",
       "      <td>5.0</td>\n",
       "      <td>1.9</td>\n",
       "      <td>Iris-virginica</td>\n",
       "    </tr>\n",
       "    <tr>\n",
       "      <th>147</th>\n",
       "      <td>148</td>\n",
       "      <td>6.5</td>\n",
       "      <td>3.0</td>\n",
       "      <td>5.2</td>\n",
       "      <td>2.0</td>\n",
       "      <td>Iris-virginica</td>\n",
       "    </tr>\n",
       "    <tr>\n",
       "      <th>148</th>\n",
       "      <td>149</td>\n",
       "      <td>6.2</td>\n",
       "      <td>3.4</td>\n",
       "      <td>5.4</td>\n",
       "      <td>2.3</td>\n",
       "      <td>Iris-virginica</td>\n",
       "    </tr>\n",
       "    <tr>\n",
       "      <th>149</th>\n",
       "      <td>150</td>\n",
       "      <td>5.9</td>\n",
       "      <td>3.0</td>\n",
       "      <td>5.1</td>\n",
       "      <td>1.8</td>\n",
       "      <td>Iris-virginica</td>\n",
       "    </tr>\n",
       "  </tbody>\n",
       "</table>\n",
       "<p>150 rows × 6 columns</p>\n",
       "</div>"
      ],
      "text/plain": [
       "      Id  SepalLengthCm  SepalWidthCm  PetalLengthCm  PetalWidthCm  \\\n",
       "0      1            5.1           3.5            1.4           0.2   \n",
       "1      2            4.9           3.0            1.4           0.2   \n",
       "2      3            4.7           3.2            1.3           0.2   \n",
       "3      4            4.6           3.1            1.5           0.2   \n",
       "4      5            5.0           3.6            1.4           0.2   \n",
       "..   ...            ...           ...            ...           ...   \n",
       "145  146            6.7           3.0            5.2           2.3   \n",
       "146  147            6.3           2.5            5.0           1.9   \n",
       "147  148            6.5           3.0            5.2           2.0   \n",
       "148  149            6.2           3.4            5.4           2.3   \n",
       "149  150            5.9           3.0            5.1           1.8   \n",
       "\n",
       "            Species  \n",
       "0       Iris-setosa  \n",
       "1       Iris-setosa  \n",
       "2       Iris-setosa  \n",
       "3       Iris-setosa  \n",
       "4       Iris-setosa  \n",
       "..              ...  \n",
       "145  Iris-virginica  \n",
       "146  Iris-virginica  \n",
       "147  Iris-virginica  \n",
       "148  Iris-virginica  \n",
       "149  Iris-virginica  \n",
       "\n",
       "[150 rows x 6 columns]"
      ]
     },
     "execution_count": 18,
     "metadata": {},
     "output_type": "execute_result"
    }
   ],
   "source": [
    "df"
   ]
  },
  {
   "cell_type": "code",
   "execution_count": 19,
   "id": "06f5b76c",
   "metadata": {},
   "outputs": [
    {
     "data": {
      "text/plain": [
       "Species\n",
       "Iris-setosa        50\n",
       "Iris-versicolor    50\n",
       "Iris-virginica     50\n",
       "Name: count, dtype: int64"
      ]
     },
     "execution_count": 19,
     "metadata": {},
     "output_type": "execute_result"
    }
   ],
   "source": [
    "df['Species'].value_counts()"
   ]
  },
  {
   "cell_type": "code",
   "execution_count": 20,
   "id": "ddca9a2f",
   "metadata": {},
   "outputs": [
    {
     "data": {
      "text/plain": [
       "((150, 4),\n",
       " (150,),\n",
       " Species\n",
       " Iris-setosa        50\n",
       " Iris-versicolor    50\n",
       " Iris-virginica     50\n",
       " Name: count, dtype: int64)"
      ]
     },
     "execution_count": 20,
     "metadata": {},
     "output_type": "execute_result"
    }
   ],
   "source": [
    "y = df['Species']\n",
    "X = df.drop(columns=['Id', 'Species'], axis=1)\n",
    "X.shape, y.shape, df['Species'].value_counts()"
   ]
  },
  {
   "cell_type": "markdown",
   "id": "d91ec449",
   "metadata": {},
   "source": [
    "```python\n",
    "# #define predictor and response variables\n",
    "X = df[['s_length', 's_width', 'p_length', 'p_width']]\n",
    "y = df['species']\n",
    "X.shape, y.shape\n",
    "```"
   ]
  },
  {
   "cell_type": "code",
   "execution_count": 21,
   "id": "5325e934",
   "metadata": {},
   "outputs": [],
   "source": [
    "X_train, X_test, y_train, y_test = train_test_split(\n",
    "    X, y, test_size=0.2, random_state=SEED)"
   ]
  },
  {
   "cell_type": "markdown",
   "id": "cbbcaccc",
   "metadata": {},
   "source": [
    "## Initialize the model"
   ]
  },
  {
   "cell_type": "code",
   "execution_count": 22,
   "id": "f315dc3b",
   "metadata": {},
   "outputs": [],
   "source": [
    "lda = LinearDiscriminantAnalysis()"
   ]
  },
  {
   "cell_type": "markdown",
   "id": "88976c0a",
   "metadata": {},
   "source": [
    "#### Forward selection"
   ]
  },
  {
   "cell_type": "code",
   "execution_count": 23,
   "id": "f6a2b9be",
   "metadata": {},
   "outputs": [
    {
     "data": {
      "text/plain": [
       "(120, 4)"
      ]
     },
     "execution_count": 23,
     "metadata": {},
     "output_type": "execute_result"
    }
   ],
   "source": [
    "X_train.shape"
   ]
  },
  {
   "cell_type": "code",
   "execution_count": 24,
   "id": "f292d56b",
   "metadata": {},
   "outputs": [
    {
     "data": {
      "text/html": [
       "<style>#sk-container-id-1 {color: black;}#sk-container-id-1 pre{padding: 0;}#sk-container-id-1 div.sk-toggleable {background-color: white;}#sk-container-id-1 label.sk-toggleable__label {cursor: pointer;display: block;width: 100%;margin-bottom: 0;padding: 0.3em;box-sizing: border-box;text-align: center;}#sk-container-id-1 label.sk-toggleable__label-arrow:before {content: \"▸\";float: left;margin-right: 0.25em;color: #696969;}#sk-container-id-1 label.sk-toggleable__label-arrow:hover:before {color: black;}#sk-container-id-1 div.sk-estimator:hover label.sk-toggleable__label-arrow:before {color: black;}#sk-container-id-1 div.sk-toggleable__content {max-height: 0;max-width: 0;overflow: hidden;text-align: left;background-color: #f0f8ff;}#sk-container-id-1 div.sk-toggleable__content pre {margin: 0.2em;color: black;border-radius: 0.25em;background-color: #f0f8ff;}#sk-container-id-1 input.sk-toggleable__control:checked~div.sk-toggleable__content {max-height: 200px;max-width: 100%;overflow: auto;}#sk-container-id-1 input.sk-toggleable__control:checked~label.sk-toggleable__label-arrow:before {content: \"▾\";}#sk-container-id-1 div.sk-estimator input.sk-toggleable__control:checked~label.sk-toggleable__label {background-color: #d4ebff;}#sk-container-id-1 div.sk-label input.sk-toggleable__control:checked~label.sk-toggleable__label {background-color: #d4ebff;}#sk-container-id-1 input.sk-hidden--visually {border: 0;clip: rect(1px 1px 1px 1px);clip: rect(1px, 1px, 1px, 1px);height: 1px;margin: -1px;overflow: hidden;padding: 0;position: absolute;width: 1px;}#sk-container-id-1 div.sk-estimator {font-family: monospace;background-color: #f0f8ff;border: 1px dotted black;border-radius: 0.25em;box-sizing: border-box;margin-bottom: 0.5em;}#sk-container-id-1 div.sk-estimator:hover {background-color: #d4ebff;}#sk-container-id-1 div.sk-parallel-item::after {content: \"\";width: 100%;border-bottom: 1px solid gray;flex-grow: 1;}#sk-container-id-1 div.sk-label:hover label.sk-toggleable__label {background-color: #d4ebff;}#sk-container-id-1 div.sk-serial::before {content: \"\";position: absolute;border-left: 1px solid gray;box-sizing: border-box;top: 0;bottom: 0;left: 50%;z-index: 0;}#sk-container-id-1 div.sk-serial {display: flex;flex-direction: column;align-items: center;background-color: white;padding-right: 0.2em;padding-left: 0.2em;position: relative;}#sk-container-id-1 div.sk-item {position: relative;z-index: 1;}#sk-container-id-1 div.sk-parallel {display: flex;align-items: stretch;justify-content: center;background-color: white;position: relative;}#sk-container-id-1 div.sk-item::before, #sk-container-id-1 div.sk-parallel-item::before {content: \"\";position: absolute;border-left: 1px solid gray;box-sizing: border-box;top: 0;bottom: 0;left: 50%;z-index: -1;}#sk-container-id-1 div.sk-parallel-item {display: flex;flex-direction: column;z-index: 1;position: relative;background-color: white;}#sk-container-id-1 div.sk-parallel-item:first-child::after {align-self: flex-end;width: 50%;}#sk-container-id-1 div.sk-parallel-item:last-child::after {align-self: flex-start;width: 50%;}#sk-container-id-1 div.sk-parallel-item:only-child::after {width: 0;}#sk-container-id-1 div.sk-dashed-wrapped {border: 1px dashed gray;margin: 0 0.4em 0.5em 0.4em;box-sizing: border-box;padding-bottom: 0.4em;background-color: white;}#sk-container-id-1 div.sk-label label {font-family: monospace;font-weight: bold;display: inline-block;line-height: 1.2em;}#sk-container-id-1 div.sk-label-container {text-align: center;}#sk-container-id-1 div.sk-container {/* jupyter's `normalize.less` sets `[hidden] { display: none; }` but bootstrap.min.css set `[hidden] { display: none !important; }` so we also need the `!important` here to be able to override the default hidden behavior on the sphinx rendered scikit-learn.org. See: https://github.com/scikit-learn/scikit-learn/issues/21755 */display: inline-block !important;position: relative;}#sk-container-id-1 div.sk-text-repr-fallback {display: none;}</style><div id=\"sk-container-id-1\" class=\"sk-top-container\"><div class=\"sk-text-repr-fallback\"><pre>SequentialFeatureSelector(cv=10, estimator=LinearDiscriminantAnalysis(),\n",
       "                          n_features_to_select=2, n_jobs=8)</pre><b>In a Jupyter environment, please rerun this cell to show the HTML representation or trust the notebook. <br />On GitHub, the HTML representation is unable to render, please try loading this page with nbviewer.org.</b></div><div class=\"sk-container\" hidden><div class=\"sk-item sk-dashed-wrapped\"><div class=\"sk-label-container\"><div class=\"sk-label sk-toggleable\"><input class=\"sk-toggleable__control sk-hidden--visually\" id=\"sk-estimator-id-1\" type=\"checkbox\" ><label for=\"sk-estimator-id-1\" class=\"sk-toggleable__label sk-toggleable__label-arrow\">SequentialFeatureSelector</label><div class=\"sk-toggleable__content\"><pre>SequentialFeatureSelector(cv=10, estimator=LinearDiscriminantAnalysis(),\n",
       "                          n_features_to_select=2, n_jobs=8)</pre></div></div></div><div class=\"sk-parallel\"><div class=\"sk-parallel-item\"><div class=\"sk-item\"><div class=\"sk-label-container\"><div class=\"sk-label sk-toggleable\"><input class=\"sk-toggleable__control sk-hidden--visually\" id=\"sk-estimator-id-2\" type=\"checkbox\" ><label for=\"sk-estimator-id-2\" class=\"sk-toggleable__label sk-toggleable__label-arrow\">estimator: LinearDiscriminantAnalysis</label><div class=\"sk-toggleable__content\"><pre>LinearDiscriminantAnalysis()</pre></div></div></div><div class=\"sk-serial\"><div class=\"sk-item\"><div class=\"sk-estimator sk-toggleable\"><input class=\"sk-toggleable__control sk-hidden--visually\" id=\"sk-estimator-id-3\" type=\"checkbox\" ><label for=\"sk-estimator-id-3\" class=\"sk-toggleable__label sk-toggleable__label-arrow\">LinearDiscriminantAnalysis</label><div class=\"sk-toggleable__content\"><pre>LinearDiscriminantAnalysis()</pre></div></div></div></div></div></div></div></div></div></div>"
      ],
      "text/plain": [
       "SequentialFeatureSelector(cv=10, estimator=LinearDiscriminantAnalysis(),\n",
       "                          n_features_to_select=2, n_jobs=8)"
      ]
     },
     "execution_count": 24,
     "metadata": {},
     "output_type": "execute_result"
    }
   ],
   "source": [
    "sfs_forward = SFS(lda, \n",
    "                  n_features_to_select=2, \n",
    "                  direction='forward',\n",
    "                  cv=10,\n",
    "                  n_jobs=workers)\n",
    "\n",
    "sfs_forward = sfs_forward.fit(X_train, y_train)\n",
    "sfs_forward"
   ]
  },
  {
   "cell_type": "code",
   "execution_count": 25,
   "id": "d9d9e729",
   "metadata": {},
   "outputs": [
    {
     "data": {
      "text/plain": [
       "(120, 2)"
      ]
     },
     "execution_count": 25,
     "metadata": {},
     "output_type": "execute_result"
    }
   ],
   "source": [
    "X_train_fw = sfs_forward.transform(X_train)\n",
    "X_test_fw = sfs_forward.transform(X_test)\n",
    "X_train_fw.shape"
   ]
  },
  {
   "cell_type": "code",
   "execution_count": 26,
   "id": "5bdc5926",
   "metadata": {},
   "outputs": [
    {
     "data": {
      "text/plain": [
       "Index(['SepalLengthCm', 'SepalWidthCm', 'PetalLengthCm', 'PetalWidthCm'], dtype='object')"
      ]
     },
     "execution_count": 26,
     "metadata": {},
     "output_type": "execute_result"
    }
   ],
   "source": [
    "X_train.columns"
   ]
  },
  {
   "cell_type": "code",
   "execution_count": 27,
   "id": "2f974e1f",
   "metadata": {},
   "outputs": [
    {
     "data": {
      "text/plain": [
       "array(['SepalWidthCm', 'PetalWidthCm'], dtype=object)"
      ]
     },
     "execution_count": 27,
     "metadata": {},
     "output_type": "execute_result"
    }
   ],
   "source": [
    "sfs_forward.get_feature_names_out(X_train.columns)"
   ]
  },
  {
   "cell_type": "code",
   "execution_count": 28,
   "id": "e6a9a20a",
   "metadata": {},
   "outputs": [],
   "source": [
    "lda_fw = LinearDiscriminantAnalysis()"
   ]
  },
  {
   "cell_type": "code",
   "execution_count": 29,
   "id": "f3cfba48",
   "metadata": {},
   "outputs": [],
   "source": [
    "lda_fw = lda_fw.fit(X_train_fw, y_train)"
   ]
  },
  {
   "cell_type": "code",
   "execution_count": 30,
   "id": "70586074",
   "metadata": {},
   "outputs": [],
   "source": [
    "y_pred_fw = lda_fw.predict(X_test_fw)"
   ]
  },
  {
   "cell_type": "code",
   "execution_count": 31,
   "id": "5b21f166",
   "metadata": {},
   "outputs": [
    {
     "name": "stdout",
     "output_type": "stream",
     "text": [
      "                 precision    recall  f1-score   support\n",
      "\n",
      "    Iris-setosa       1.00      1.00      1.00         9\n",
      "Iris-versicolor       0.80      1.00      0.89         8\n",
      " Iris-virginica       1.00      0.85      0.92        13\n",
      "\n",
      "       accuracy                           0.93        30\n",
      "      macro avg       0.93      0.95      0.94        30\n",
      "   weighted avg       0.95      0.93      0.93        30\n",
      "\n"
     ]
    }
   ],
   "source": [
    "cr = classification_report(y_test, y_pred_fw)\n",
    "print(cr)"
   ]
  },
  {
   "cell_type": "markdown",
   "id": "5a47f113",
   "metadata": {},
   "source": [
    "#### Backward selection\\"
   ]
  },
  {
   "cell_type": "code",
   "execution_count": 32,
   "id": "84a90889",
   "metadata": {},
   "outputs": [],
   "source": [
    "lda = LinearDiscriminantAnalysis()"
   ]
  },
  {
   "cell_type": "code",
   "execution_count": 33,
   "id": "b7d9172e",
   "metadata": {},
   "outputs": [
    {
     "data": {
      "text/plain": [
       "(120, 4)"
      ]
     },
     "execution_count": 33,
     "metadata": {},
     "output_type": "execute_result"
    }
   ],
   "source": [
    "X_train.shape"
   ]
  },
  {
   "cell_type": "code",
   "execution_count": 34,
   "id": "694e8053",
   "metadata": {},
   "outputs": [
    {
     "data": {
      "text/html": [
       "<style>#sk-container-id-2 {color: black;}#sk-container-id-2 pre{padding: 0;}#sk-container-id-2 div.sk-toggleable {background-color: white;}#sk-container-id-2 label.sk-toggleable__label {cursor: pointer;display: block;width: 100%;margin-bottom: 0;padding: 0.3em;box-sizing: border-box;text-align: center;}#sk-container-id-2 label.sk-toggleable__label-arrow:before {content: \"▸\";float: left;margin-right: 0.25em;color: #696969;}#sk-container-id-2 label.sk-toggleable__label-arrow:hover:before {color: black;}#sk-container-id-2 div.sk-estimator:hover label.sk-toggleable__label-arrow:before {color: black;}#sk-container-id-2 div.sk-toggleable__content {max-height: 0;max-width: 0;overflow: hidden;text-align: left;background-color: #f0f8ff;}#sk-container-id-2 div.sk-toggleable__content pre {margin: 0.2em;color: black;border-radius: 0.25em;background-color: #f0f8ff;}#sk-container-id-2 input.sk-toggleable__control:checked~div.sk-toggleable__content {max-height: 200px;max-width: 100%;overflow: auto;}#sk-container-id-2 input.sk-toggleable__control:checked~label.sk-toggleable__label-arrow:before {content: \"▾\";}#sk-container-id-2 div.sk-estimator input.sk-toggleable__control:checked~label.sk-toggleable__label {background-color: #d4ebff;}#sk-container-id-2 div.sk-label input.sk-toggleable__control:checked~label.sk-toggleable__label {background-color: #d4ebff;}#sk-container-id-2 input.sk-hidden--visually {border: 0;clip: rect(1px 1px 1px 1px);clip: rect(1px, 1px, 1px, 1px);height: 1px;margin: -1px;overflow: hidden;padding: 0;position: absolute;width: 1px;}#sk-container-id-2 div.sk-estimator {font-family: monospace;background-color: #f0f8ff;border: 1px dotted black;border-radius: 0.25em;box-sizing: border-box;margin-bottom: 0.5em;}#sk-container-id-2 div.sk-estimator:hover {background-color: #d4ebff;}#sk-container-id-2 div.sk-parallel-item::after {content: \"\";width: 100%;border-bottom: 1px solid gray;flex-grow: 1;}#sk-container-id-2 div.sk-label:hover label.sk-toggleable__label {background-color: #d4ebff;}#sk-container-id-2 div.sk-serial::before {content: \"\";position: absolute;border-left: 1px solid gray;box-sizing: border-box;top: 0;bottom: 0;left: 50%;z-index: 0;}#sk-container-id-2 div.sk-serial {display: flex;flex-direction: column;align-items: center;background-color: white;padding-right: 0.2em;padding-left: 0.2em;position: relative;}#sk-container-id-2 div.sk-item {position: relative;z-index: 1;}#sk-container-id-2 div.sk-parallel {display: flex;align-items: stretch;justify-content: center;background-color: white;position: relative;}#sk-container-id-2 div.sk-item::before, #sk-container-id-2 div.sk-parallel-item::before {content: \"\";position: absolute;border-left: 1px solid gray;box-sizing: border-box;top: 0;bottom: 0;left: 50%;z-index: -1;}#sk-container-id-2 div.sk-parallel-item {display: flex;flex-direction: column;z-index: 1;position: relative;background-color: white;}#sk-container-id-2 div.sk-parallel-item:first-child::after {align-self: flex-end;width: 50%;}#sk-container-id-2 div.sk-parallel-item:last-child::after {align-self: flex-start;width: 50%;}#sk-container-id-2 div.sk-parallel-item:only-child::after {width: 0;}#sk-container-id-2 div.sk-dashed-wrapped {border: 1px dashed gray;margin: 0 0.4em 0.5em 0.4em;box-sizing: border-box;padding-bottom: 0.4em;background-color: white;}#sk-container-id-2 div.sk-label label {font-family: monospace;font-weight: bold;display: inline-block;line-height: 1.2em;}#sk-container-id-2 div.sk-label-container {text-align: center;}#sk-container-id-2 div.sk-container {/* jupyter's `normalize.less` sets `[hidden] { display: none; }` but bootstrap.min.css set `[hidden] { display: none !important; }` so we also need the `!important` here to be able to override the default hidden behavior on the sphinx rendered scikit-learn.org. See: https://github.com/scikit-learn/scikit-learn/issues/21755 */display: inline-block !important;position: relative;}#sk-container-id-2 div.sk-text-repr-fallback {display: none;}</style><div id=\"sk-container-id-2\" class=\"sk-top-container\"><div class=\"sk-text-repr-fallback\"><pre>SequentialFeatureSelector(cv=10, direction=&#x27;backward&#x27;,\n",
       "                          estimator=LinearDiscriminantAnalysis(),\n",
       "                          n_features_to_select=2, n_jobs=8)</pre><b>In a Jupyter environment, please rerun this cell to show the HTML representation or trust the notebook. <br />On GitHub, the HTML representation is unable to render, please try loading this page with nbviewer.org.</b></div><div class=\"sk-container\" hidden><div class=\"sk-item sk-dashed-wrapped\"><div class=\"sk-label-container\"><div class=\"sk-label sk-toggleable\"><input class=\"sk-toggleable__control sk-hidden--visually\" id=\"sk-estimator-id-4\" type=\"checkbox\" ><label for=\"sk-estimator-id-4\" class=\"sk-toggleable__label sk-toggleable__label-arrow\">SequentialFeatureSelector</label><div class=\"sk-toggleable__content\"><pre>SequentialFeatureSelector(cv=10, direction=&#x27;backward&#x27;,\n",
       "                          estimator=LinearDiscriminantAnalysis(),\n",
       "                          n_features_to_select=2, n_jobs=8)</pre></div></div></div><div class=\"sk-parallel\"><div class=\"sk-parallel-item\"><div class=\"sk-item\"><div class=\"sk-label-container\"><div class=\"sk-label sk-toggleable\"><input class=\"sk-toggleable__control sk-hidden--visually\" id=\"sk-estimator-id-5\" type=\"checkbox\" ><label for=\"sk-estimator-id-5\" class=\"sk-toggleable__label sk-toggleable__label-arrow\">estimator: LinearDiscriminantAnalysis</label><div class=\"sk-toggleable__content\"><pre>LinearDiscriminantAnalysis()</pre></div></div></div><div class=\"sk-serial\"><div class=\"sk-item\"><div class=\"sk-estimator sk-toggleable\"><input class=\"sk-toggleable__control sk-hidden--visually\" id=\"sk-estimator-id-6\" type=\"checkbox\" ><label for=\"sk-estimator-id-6\" class=\"sk-toggleable__label sk-toggleable__label-arrow\">LinearDiscriminantAnalysis</label><div class=\"sk-toggleable__content\"><pre>LinearDiscriminantAnalysis()</pre></div></div></div></div></div></div></div></div></div></div>"
      ],
      "text/plain": [
       "SequentialFeatureSelector(cv=10, direction='backward',\n",
       "                          estimator=LinearDiscriminantAnalysis(),\n",
       "                          n_features_to_select=2, n_jobs=8)"
      ]
     },
     "execution_count": 34,
     "metadata": {},
     "output_type": "execute_result"
    }
   ],
   "source": [
    "sfs_backward = SFS(lda, \n",
    "                  n_features_to_select=2, \n",
    "                  direction='backward',\n",
    "                  cv=10,\n",
    "                  n_jobs=workers)\n",
    "\n",
    "sfs_backward = sfs_backward.fit(X_train, y_train)\n",
    "sfs_backward"
   ]
  },
  {
   "cell_type": "code",
   "execution_count": 35,
   "id": "837fa19e",
   "metadata": {},
   "outputs": [
    {
     "data": {
      "text/plain": [
       "(120, 2)"
      ]
     },
     "execution_count": 35,
     "metadata": {},
     "output_type": "execute_result"
    }
   ],
   "source": [
    "X_train_bw = sfs_backward.transform(X_train)\n",
    "X_test_bw = sfs_backward.transform(X_test)\n",
    "X_train_bw.shape"
   ]
  },
  {
   "cell_type": "code",
   "execution_count": 36,
   "id": "e9a31533",
   "metadata": {},
   "outputs": [
    {
     "data": {
      "text/plain": [
       "array(['SepalWidthCm', 'PetalWidthCm'], dtype=object)"
      ]
     },
     "execution_count": 36,
     "metadata": {},
     "output_type": "execute_result"
    }
   ],
   "source": [
    "sfs_backward.get_feature_names_out(X_train.columns)"
   ]
  },
  {
   "cell_type": "code",
   "execution_count": 37,
   "id": "d6225fcb",
   "metadata": {},
   "outputs": [],
   "source": [
    "lda_bw = LinearDiscriminantAnalysis()"
   ]
  },
  {
   "cell_type": "code",
   "execution_count": 38,
   "id": "211e39eb",
   "metadata": {},
   "outputs": [],
   "source": [
    "lda_bw = lda_fw.fit(X_train_bw, y_train)"
   ]
  },
  {
   "cell_type": "code",
   "execution_count": 39,
   "id": "59b57af9",
   "metadata": {},
   "outputs": [],
   "source": [
    "y_pred_bw = lda_fw.predict(X_test_bw)"
   ]
  },
  {
   "cell_type": "code",
   "execution_count": 40,
   "id": "8f382357",
   "metadata": {
    "scrolled": true
   },
   "outputs": [
    {
     "name": "stdout",
     "output_type": "stream",
     "text": [
      "                 precision    recall  f1-score   support\n",
      "\n",
      "    Iris-setosa       1.00      1.00      1.00         9\n",
      "Iris-versicolor       0.80      1.00      0.89         8\n",
      " Iris-virginica       1.00      0.85      0.92        13\n",
      "\n",
      "       accuracy                           0.93        30\n",
      "      macro avg       0.93      0.95      0.94        30\n",
      "   weighted avg       0.95      0.93      0.93        30\n",
      "\n"
     ]
    }
   ],
   "source": [
    "cr = classification_report(y_test, y_pred_bw)\n",
    "print(cr)"
   ]
  },
  {
   "cell_type": "markdown",
   "id": "96eafea9",
   "metadata": {},
   "source": [
    "## Ridge and Lasso regression"
   ]
  },
  {
   "cell_type": "code",
   "execution_count": 41,
   "id": "5ace429c",
   "metadata": {},
   "outputs": [],
   "source": [
    "pertol_consumption_path = LR_PATH / 'petrol_consumption.csv'"
   ]
  },
  {
   "cell_type": "code",
   "execution_count": 42,
   "id": "ab6c7d0c",
   "metadata": {},
   "outputs": [
    {
     "data": {
      "text/html": [
       "<div>\n",
       "<style scoped>\n",
       "    .dataframe tbody tr th:only-of-type {\n",
       "        vertical-align: middle;\n",
       "    }\n",
       "\n",
       "    .dataframe tbody tr th {\n",
       "        vertical-align: top;\n",
       "    }\n",
       "\n",
       "    .dataframe thead th {\n",
       "        text-align: right;\n",
       "    }\n",
       "</style>\n",
       "<table border=\"1\" class=\"dataframe\">\n",
       "  <thead>\n",
       "    <tr style=\"text-align: right;\">\n",
       "      <th></th>\n",
       "      <th>Petrol_tax</th>\n",
       "      <th>Average_income</th>\n",
       "      <th>Paved_Highways</th>\n",
       "      <th>Population_Driver_licence(%)</th>\n",
       "      <th>Petrol_Consumption</th>\n",
       "    </tr>\n",
       "  </thead>\n",
       "  <tbody>\n",
       "    <tr>\n",
       "      <th>0</th>\n",
       "      <td>9.00</td>\n",
       "      <td>3571</td>\n",
       "      <td>1976</td>\n",
       "      <td>0.525</td>\n",
       "      <td>541</td>\n",
       "    </tr>\n",
       "    <tr>\n",
       "      <th>1</th>\n",
       "      <td>9.00</td>\n",
       "      <td>4092</td>\n",
       "      <td>1250</td>\n",
       "      <td>0.572</td>\n",
       "      <td>524</td>\n",
       "    </tr>\n",
       "    <tr>\n",
       "      <th>2</th>\n",
       "      <td>9.00</td>\n",
       "      <td>3865</td>\n",
       "      <td>1586</td>\n",
       "      <td>0.580</td>\n",
       "      <td>561</td>\n",
       "    </tr>\n",
       "    <tr>\n",
       "      <th>3</th>\n",
       "      <td>7.50</td>\n",
       "      <td>4870</td>\n",
       "      <td>2351</td>\n",
       "      <td>0.529</td>\n",
       "      <td>414</td>\n",
       "    </tr>\n",
       "    <tr>\n",
       "      <th>4</th>\n",
       "      <td>8.00</td>\n",
       "      <td>4399</td>\n",
       "      <td>431</td>\n",
       "      <td>0.544</td>\n",
       "      <td>410</td>\n",
       "    </tr>\n",
       "    <tr>\n",
       "      <th>5</th>\n",
       "      <td>10.00</td>\n",
       "      <td>5342</td>\n",
       "      <td>1333</td>\n",
       "      <td>0.571</td>\n",
       "      <td>457</td>\n",
       "    </tr>\n",
       "    <tr>\n",
       "      <th>6</th>\n",
       "      <td>8.00</td>\n",
       "      <td>5319</td>\n",
       "      <td>11868</td>\n",
       "      <td>0.451</td>\n",
       "      <td>344</td>\n",
       "    </tr>\n",
       "    <tr>\n",
       "      <th>7</th>\n",
       "      <td>8.00</td>\n",
       "      <td>5126</td>\n",
       "      <td>2138</td>\n",
       "      <td>0.553</td>\n",
       "      <td>467</td>\n",
       "    </tr>\n",
       "    <tr>\n",
       "      <th>8</th>\n",
       "      <td>8.00</td>\n",
       "      <td>4447</td>\n",
       "      <td>8577</td>\n",
       "      <td>0.529</td>\n",
       "      <td>464</td>\n",
       "    </tr>\n",
       "    <tr>\n",
       "      <th>9</th>\n",
       "      <td>7.00</td>\n",
       "      <td>4512</td>\n",
       "      <td>8507</td>\n",
       "      <td>0.552</td>\n",
       "      <td>498</td>\n",
       "    </tr>\n",
       "    <tr>\n",
       "      <th>10</th>\n",
       "      <td>8.00</td>\n",
       "      <td>4391</td>\n",
       "      <td>5939</td>\n",
       "      <td>0.530</td>\n",
       "      <td>580</td>\n",
       "    </tr>\n",
       "    <tr>\n",
       "      <th>11</th>\n",
       "      <td>7.50</td>\n",
       "      <td>5126</td>\n",
       "      <td>14186</td>\n",
       "      <td>0.525</td>\n",
       "      <td>471</td>\n",
       "    </tr>\n",
       "    <tr>\n",
       "      <th>12</th>\n",
       "      <td>7.00</td>\n",
       "      <td>4817</td>\n",
       "      <td>6930</td>\n",
       "      <td>0.574</td>\n",
       "      <td>525</td>\n",
       "    </tr>\n",
       "    <tr>\n",
       "      <th>13</th>\n",
       "      <td>7.00</td>\n",
       "      <td>4207</td>\n",
       "      <td>6580</td>\n",
       "      <td>0.545</td>\n",
       "      <td>508</td>\n",
       "    </tr>\n",
       "    <tr>\n",
       "      <th>14</th>\n",
       "      <td>7.00</td>\n",
       "      <td>4332</td>\n",
       "      <td>8159</td>\n",
       "      <td>0.608</td>\n",
       "      <td>566</td>\n",
       "    </tr>\n",
       "    <tr>\n",
       "      <th>15</th>\n",
       "      <td>7.00</td>\n",
       "      <td>4318</td>\n",
       "      <td>10340</td>\n",
       "      <td>0.586</td>\n",
       "      <td>635</td>\n",
       "    </tr>\n",
       "    <tr>\n",
       "      <th>16</th>\n",
       "      <td>7.00</td>\n",
       "      <td>4206</td>\n",
       "      <td>8508</td>\n",
       "      <td>0.572</td>\n",
       "      <td>603</td>\n",
       "    </tr>\n",
       "    <tr>\n",
       "      <th>17</th>\n",
       "      <td>7.00</td>\n",
       "      <td>3718</td>\n",
       "      <td>4725</td>\n",
       "      <td>0.540</td>\n",
       "      <td>714</td>\n",
       "    </tr>\n",
       "    <tr>\n",
       "      <th>18</th>\n",
       "      <td>7.00</td>\n",
       "      <td>4716</td>\n",
       "      <td>5915</td>\n",
       "      <td>0.724</td>\n",
       "      <td>865</td>\n",
       "    </tr>\n",
       "    <tr>\n",
       "      <th>19</th>\n",
       "      <td>8.50</td>\n",
       "      <td>4341</td>\n",
       "      <td>6010</td>\n",
       "      <td>0.677</td>\n",
       "      <td>640</td>\n",
       "    </tr>\n",
       "    <tr>\n",
       "      <th>20</th>\n",
       "      <td>7.00</td>\n",
       "      <td>4593</td>\n",
       "      <td>7834</td>\n",
       "      <td>0.663</td>\n",
       "      <td>649</td>\n",
       "    </tr>\n",
       "    <tr>\n",
       "      <th>21</th>\n",
       "      <td>8.00</td>\n",
       "      <td>4983</td>\n",
       "      <td>602</td>\n",
       "      <td>0.602</td>\n",
       "      <td>540</td>\n",
       "    </tr>\n",
       "    <tr>\n",
       "      <th>22</th>\n",
       "      <td>9.00</td>\n",
       "      <td>4897</td>\n",
       "      <td>2449</td>\n",
       "      <td>0.511</td>\n",
       "      <td>464</td>\n",
       "    </tr>\n",
       "    <tr>\n",
       "      <th>23</th>\n",
       "      <td>9.00</td>\n",
       "      <td>4258</td>\n",
       "      <td>4686</td>\n",
       "      <td>0.517</td>\n",
       "      <td>547</td>\n",
       "    </tr>\n",
       "    <tr>\n",
       "      <th>24</th>\n",
       "      <td>8.50</td>\n",
       "      <td>4574</td>\n",
       "      <td>2619</td>\n",
       "      <td>0.551</td>\n",
       "      <td>460</td>\n",
       "    </tr>\n",
       "    <tr>\n",
       "      <th>25</th>\n",
       "      <td>9.00</td>\n",
       "      <td>3721</td>\n",
       "      <td>4746</td>\n",
       "      <td>0.544</td>\n",
       "      <td>566</td>\n",
       "    </tr>\n",
       "    <tr>\n",
       "      <th>26</th>\n",
       "      <td>8.00</td>\n",
       "      <td>3448</td>\n",
       "      <td>5399</td>\n",
       "      <td>0.548</td>\n",
       "      <td>577</td>\n",
       "    </tr>\n",
       "    <tr>\n",
       "      <th>27</th>\n",
       "      <td>7.50</td>\n",
       "      <td>3846</td>\n",
       "      <td>9061</td>\n",
       "      <td>0.579</td>\n",
       "      <td>631</td>\n",
       "    </tr>\n",
       "    <tr>\n",
       "      <th>28</th>\n",
       "      <td>8.00</td>\n",
       "      <td>4188</td>\n",
       "      <td>5975</td>\n",
       "      <td>0.563</td>\n",
       "      <td>574</td>\n",
       "    </tr>\n",
       "    <tr>\n",
       "      <th>29</th>\n",
       "      <td>9.00</td>\n",
       "      <td>3601</td>\n",
       "      <td>4650</td>\n",
       "      <td>0.493</td>\n",
       "      <td>534</td>\n",
       "    </tr>\n",
       "    <tr>\n",
       "      <th>30</th>\n",
       "      <td>7.00</td>\n",
       "      <td>3640</td>\n",
       "      <td>6905</td>\n",
       "      <td>0.518</td>\n",
       "      <td>571</td>\n",
       "    </tr>\n",
       "    <tr>\n",
       "      <th>31</th>\n",
       "      <td>7.00</td>\n",
       "      <td>3333</td>\n",
       "      <td>6594</td>\n",
       "      <td>0.513</td>\n",
       "      <td>554</td>\n",
       "    </tr>\n",
       "    <tr>\n",
       "      <th>32</th>\n",
       "      <td>8.00</td>\n",
       "      <td>3063</td>\n",
       "      <td>6524</td>\n",
       "      <td>0.578</td>\n",
       "      <td>577</td>\n",
       "    </tr>\n",
       "    <tr>\n",
       "      <th>33</th>\n",
       "      <td>7.50</td>\n",
       "      <td>3357</td>\n",
       "      <td>4121</td>\n",
       "      <td>0.547</td>\n",
       "      <td>628</td>\n",
       "    </tr>\n",
       "    <tr>\n",
       "      <th>34</th>\n",
       "      <td>8.00</td>\n",
       "      <td>3528</td>\n",
       "      <td>3495</td>\n",
       "      <td>0.487</td>\n",
       "      <td>487</td>\n",
       "    </tr>\n",
       "    <tr>\n",
       "      <th>35</th>\n",
       "      <td>6.58</td>\n",
       "      <td>3802</td>\n",
       "      <td>7834</td>\n",
       "      <td>0.629</td>\n",
       "      <td>644</td>\n",
       "    </tr>\n",
       "    <tr>\n",
       "      <th>36</th>\n",
       "      <td>5.00</td>\n",
       "      <td>4045</td>\n",
       "      <td>17782</td>\n",
       "      <td>0.566</td>\n",
       "      <td>640</td>\n",
       "    </tr>\n",
       "    <tr>\n",
       "      <th>37</th>\n",
       "      <td>7.00</td>\n",
       "      <td>3897</td>\n",
       "      <td>6385</td>\n",
       "      <td>0.586</td>\n",
       "      <td>704</td>\n",
       "    </tr>\n",
       "    <tr>\n",
       "      <th>38</th>\n",
       "      <td>8.50</td>\n",
       "      <td>3635</td>\n",
       "      <td>3274</td>\n",
       "      <td>0.663</td>\n",
       "      <td>648</td>\n",
       "    </tr>\n",
       "    <tr>\n",
       "      <th>39</th>\n",
       "      <td>7.00</td>\n",
       "      <td>4345</td>\n",
       "      <td>3905</td>\n",
       "      <td>0.672</td>\n",
       "      <td>968</td>\n",
       "    </tr>\n",
       "    <tr>\n",
       "      <th>40</th>\n",
       "      <td>7.00</td>\n",
       "      <td>4449</td>\n",
       "      <td>4639</td>\n",
       "      <td>0.626</td>\n",
       "      <td>587</td>\n",
       "    </tr>\n",
       "    <tr>\n",
       "      <th>41</th>\n",
       "      <td>7.00</td>\n",
       "      <td>3656</td>\n",
       "      <td>3985</td>\n",
       "      <td>0.563</td>\n",
       "      <td>699</td>\n",
       "    </tr>\n",
       "    <tr>\n",
       "      <th>42</th>\n",
       "      <td>7.00</td>\n",
       "      <td>4300</td>\n",
       "      <td>3635</td>\n",
       "      <td>0.603</td>\n",
       "      <td>632</td>\n",
       "    </tr>\n",
       "    <tr>\n",
       "      <th>43</th>\n",
       "      <td>7.00</td>\n",
       "      <td>3745</td>\n",
       "      <td>2611</td>\n",
       "      <td>0.508</td>\n",
       "      <td>591</td>\n",
       "    </tr>\n",
       "    <tr>\n",
       "      <th>44</th>\n",
       "      <td>6.00</td>\n",
       "      <td>5215</td>\n",
       "      <td>2302</td>\n",
       "      <td>0.672</td>\n",
       "      <td>782</td>\n",
       "    </tr>\n",
       "    <tr>\n",
       "      <th>45</th>\n",
       "      <td>9.00</td>\n",
       "      <td>4476</td>\n",
       "      <td>3942</td>\n",
       "      <td>0.571</td>\n",
       "      <td>510</td>\n",
       "    </tr>\n",
       "    <tr>\n",
       "      <th>46</th>\n",
       "      <td>7.00</td>\n",
       "      <td>4296</td>\n",
       "      <td>4083</td>\n",
       "      <td>0.623</td>\n",
       "      <td>610</td>\n",
       "    </tr>\n",
       "    <tr>\n",
       "      <th>47</th>\n",
       "      <td>7.00</td>\n",
       "      <td>5002</td>\n",
       "      <td>9794</td>\n",
       "      <td>0.593</td>\n",
       "      <td>524</td>\n",
       "    </tr>\n",
       "  </tbody>\n",
       "</table>\n",
       "</div>"
      ],
      "text/plain": [
       "    Petrol_tax  Average_income  Paved_Highways  Population_Driver_licence(%)  \\\n",
       "0         9.00            3571            1976                         0.525   \n",
       "1         9.00            4092            1250                         0.572   \n",
       "2         9.00            3865            1586                         0.580   \n",
       "3         7.50            4870            2351                         0.529   \n",
       "4         8.00            4399             431                         0.544   \n",
       "5        10.00            5342            1333                         0.571   \n",
       "6         8.00            5319           11868                         0.451   \n",
       "7         8.00            5126            2138                         0.553   \n",
       "8         8.00            4447            8577                         0.529   \n",
       "9         7.00            4512            8507                         0.552   \n",
       "10        8.00            4391            5939                         0.530   \n",
       "11        7.50            5126           14186                         0.525   \n",
       "12        7.00            4817            6930                         0.574   \n",
       "13        7.00            4207            6580                         0.545   \n",
       "14        7.00            4332            8159                         0.608   \n",
       "15        7.00            4318           10340                         0.586   \n",
       "16        7.00            4206            8508                         0.572   \n",
       "17        7.00            3718            4725                         0.540   \n",
       "18        7.00            4716            5915                         0.724   \n",
       "19        8.50            4341            6010                         0.677   \n",
       "20        7.00            4593            7834                         0.663   \n",
       "21        8.00            4983             602                         0.602   \n",
       "22        9.00            4897            2449                         0.511   \n",
       "23        9.00            4258            4686                         0.517   \n",
       "24        8.50            4574            2619                         0.551   \n",
       "25        9.00            3721            4746                         0.544   \n",
       "26        8.00            3448            5399                         0.548   \n",
       "27        7.50            3846            9061                         0.579   \n",
       "28        8.00            4188            5975                         0.563   \n",
       "29        9.00            3601            4650                         0.493   \n",
       "30        7.00            3640            6905                         0.518   \n",
       "31        7.00            3333            6594                         0.513   \n",
       "32        8.00            3063            6524                         0.578   \n",
       "33        7.50            3357            4121                         0.547   \n",
       "34        8.00            3528            3495                         0.487   \n",
       "35        6.58            3802            7834                         0.629   \n",
       "36        5.00            4045           17782                         0.566   \n",
       "37        7.00            3897            6385                         0.586   \n",
       "38        8.50            3635            3274                         0.663   \n",
       "39        7.00            4345            3905                         0.672   \n",
       "40        7.00            4449            4639                         0.626   \n",
       "41        7.00            3656            3985                         0.563   \n",
       "42        7.00            4300            3635                         0.603   \n",
       "43        7.00            3745            2611                         0.508   \n",
       "44        6.00            5215            2302                         0.672   \n",
       "45        9.00            4476            3942                         0.571   \n",
       "46        7.00            4296            4083                         0.623   \n",
       "47        7.00            5002            9794                         0.593   \n",
       "\n",
       "    Petrol_Consumption  \n",
       "0                  541  \n",
       "1                  524  \n",
       "2                  561  \n",
       "3                  414  \n",
       "4                  410  \n",
       "5                  457  \n",
       "6                  344  \n",
       "7                  467  \n",
       "8                  464  \n",
       "9                  498  \n",
       "10                 580  \n",
       "11                 471  \n",
       "12                 525  \n",
       "13                 508  \n",
       "14                 566  \n",
       "15                 635  \n",
       "16                 603  \n",
       "17                 714  \n",
       "18                 865  \n",
       "19                 640  \n",
       "20                 649  \n",
       "21                 540  \n",
       "22                 464  \n",
       "23                 547  \n",
       "24                 460  \n",
       "25                 566  \n",
       "26                 577  \n",
       "27                 631  \n",
       "28                 574  \n",
       "29                 534  \n",
       "30                 571  \n",
       "31                 554  \n",
       "32                 577  \n",
       "33                 628  \n",
       "34                 487  \n",
       "35                 644  \n",
       "36                 640  \n",
       "37                 704  \n",
       "38                 648  \n",
       "39                 968  \n",
       "40                 587  \n",
       "41                 699  \n",
       "42                 632  \n",
       "43                 591  \n",
       "44                 782  \n",
       "45                 510  \n",
       "46                 610  \n",
       "47                 524  "
      ]
     },
     "execution_count": 42,
     "metadata": {},
     "output_type": "execute_result"
    }
   ],
   "source": [
    "df = pd.read_csv(pertol_consumption_path)\n",
    "df"
   ]
  },
  {
   "cell_type": "code",
   "execution_count": 43,
   "id": "4fed031a",
   "metadata": {},
   "outputs": [
    {
     "data": {
      "text/plain": [
       "(48, 5)"
      ]
     },
     "execution_count": 43,
     "metadata": {},
     "output_type": "execute_result"
    }
   ],
   "source": [
    "df.shape"
   ]
  },
  {
   "cell_type": "code",
   "execution_count": 44,
   "id": "8c0dfd57",
   "metadata": {},
   "outputs": [
    {
     "name": "stdout",
     "output_type": "stream",
     "text": [
      "                              count     mean      std      min      25%  \\\n",
      "Petrol_tax                     48.0     7.67     0.95     5.00     7.00   \n",
      "Average_income                 48.0  4241.83   573.62  3063.00  3739.00   \n",
      "Paved_Highways                 48.0  5565.42  3491.51   431.00  3110.25   \n",
      "Population_Driver_licence(%)   48.0     0.57     0.06     0.45     0.53   \n",
      "Petrol_Consumption             48.0   576.77   111.89   344.00   509.50   \n",
      "\n",
      "                                  50%      75%       max  \n",
      "Petrol_tax                       7.50     8.12     10.00  \n",
      "Average_income                4298.00  4578.75   5342.00  \n",
      "Paved_Highways                4735.50  7156.00  17782.00  \n",
      "Population_Driver_licence(%)     0.56     0.60      0.72  \n",
      "Petrol_Consumption             568.50   632.75    968.00  \n"
     ]
    }
   ],
   "source": [
    "print(df.describe().round(2).T)"
   ]
  },
  {
   "cell_type": "markdown",
   "id": "ab94640f",
   "metadata": {},
   "source": [
    "#### Prepare dataset"
   ]
  },
  {
   "cell_type": "code",
   "execution_count": 45,
   "id": "7de21c50",
   "metadata": {},
   "outputs": [],
   "source": [
    "y = df['Petrol_Consumption']\n",
    "X = df[['Average_income', 'Paved_Highways',\n",
    "       'Population_Driver_licence(%)', 'Petrol_tax']]"
   ]
  },
  {
   "cell_type": "code",
   "execution_count": 118,
   "id": "4c61c11f",
   "metadata": {},
   "outputs": [],
   "source": [
    "X_train, X_test, y_train, y_test = train_test_split(X, y, \n",
    "                                                    test_size=0.2, \n",
    "                                                    random_state=SEED)"
   ]
  },
  {
   "cell_type": "code",
   "execution_count": 119,
   "id": "1454fdcf",
   "metadata": {},
   "outputs": [
    {
     "data": {
      "text/html": [
       "<div>\n",
       "<style scoped>\n",
       "    .dataframe tbody tr th:only-of-type {\n",
       "        vertical-align: middle;\n",
       "    }\n",
       "\n",
       "    .dataframe tbody tr th {\n",
       "        vertical-align: top;\n",
       "    }\n",
       "\n",
       "    .dataframe thead th {\n",
       "        text-align: right;\n",
       "    }\n",
       "</style>\n",
       "<table border=\"1\" class=\"dataframe\">\n",
       "  <thead>\n",
       "    <tr style=\"text-align: right;\">\n",
       "      <th></th>\n",
       "      <th>Average_income</th>\n",
       "      <th>Paved_Highways</th>\n",
       "      <th>Population_Driver_licence(%)</th>\n",
       "      <th>Petrol_tax</th>\n",
       "    </tr>\n",
       "  </thead>\n",
       "  <tbody>\n",
       "    <tr>\n",
       "      <th>32</th>\n",
       "      <td>3063</td>\n",
       "      <td>6524</td>\n",
       "      <td>0.578</td>\n",
       "      <td>8.0</td>\n",
       "    </tr>\n",
       "    <tr>\n",
       "      <th>4</th>\n",
       "      <td>4399</td>\n",
       "      <td>431</td>\n",
       "      <td>0.544</td>\n",
       "      <td>8.0</td>\n",
       "    </tr>\n",
       "    <tr>\n",
       "      <th>0</th>\n",
       "      <td>3571</td>\n",
       "      <td>1976</td>\n",
       "      <td>0.525</td>\n",
       "      <td>9.0</td>\n",
       "    </tr>\n",
       "    <tr>\n",
       "      <th>20</th>\n",
       "      <td>4593</td>\n",
       "      <td>7834</td>\n",
       "      <td>0.663</td>\n",
       "      <td>7.0</td>\n",
       "    </tr>\n",
       "    <tr>\n",
       "      <th>10</th>\n",
       "      <td>4391</td>\n",
       "      <td>5939</td>\n",
       "      <td>0.530</td>\n",
       "      <td>8.0</td>\n",
       "    </tr>\n",
       "  </tbody>\n",
       "</table>\n",
       "</div>"
      ],
      "text/plain": [
       "    Average_income  Paved_Highways  Population_Driver_licence(%)  Petrol_tax\n",
       "32            3063            6524                         0.578         8.0\n",
       "4             4399             431                         0.544         8.0\n",
       "0             3571            1976                         0.525         9.0\n",
       "20            4593            7834                         0.663         7.0\n",
       "10            4391            5939                         0.530         8.0"
      ]
     },
     "execution_count": 119,
     "metadata": {},
     "output_type": "execute_result"
    }
   ],
   "source": [
    "X_train.head()"
   ]
  },
  {
   "cell_type": "code",
   "execution_count": 120,
   "id": "89d7333d",
   "metadata": {},
   "outputs": [],
   "source": [
    "k = 10"
   ]
  },
  {
   "cell_type": "code",
   "execution_count": 121,
   "id": "fab5dcb5",
   "metadata": {},
   "outputs": [
    {
     "name": "stdout",
     "output_type": "stream",
     "text": [
      "    Average_income  Paved_Highways  Population_Driver_licence(%)  Petrol_tax\n",
      "32            3063            6524                         0.578         8.0\n",
      "4             4399             431                         0.544         8.0\n",
      "0             3571            1976                         0.525         9.0\n",
      "20            4593            7834                         0.663         7.0\n",
      "10            4391            5939                         0.530         8.0\n",
      "47            5002            9794                         0.593         7.0\n",
      "13            4207            6580                         0.545         7.0\n",
      "12            4817            6930                         0.574         7.0\n",
      "44            5215            2302                         0.672         6.0\n",
      "23            4258            4686                         0.517         9.0\n",
      "[[0.57338076 0.36688786 0.79834254 0.8       ]\n",
      " [0.82347435 0.02423799 0.75138122 0.8       ]\n",
      " [0.66847623 0.11112361 0.72513812 0.9       ]\n",
      " [0.85979034 0.44055787 0.91574586 0.7       ]\n",
      " [0.82197679 0.33398943 0.7320442  0.8       ]\n",
      " [0.93635343 0.55078169 0.81906077 0.7       ]\n",
      " [0.78753276 0.37003712 0.75276243 0.7       ]\n",
      " [0.9017222  0.38971994 0.79281768 0.7       ]\n",
      " [0.97622613 0.12945675 0.9281768  0.6       ]\n",
      " [0.79707975 0.26352491 0.7140884  0.9       ]]\n",
      "[[-2.04899238  0.20489611  0.01090278  0.35898181]\n",
      " [ 0.38703509 -1.52140265 -0.6598777   0.35898181]\n",
      " [-1.12271846 -1.08366564 -1.03472562  1.37547278]\n",
      " [ 0.74076962  0.57605176  1.68785398 -0.65750916]\n",
      " [ 0.3724481   0.03915103 -0.93608143  0.35898181]\n",
      " [ 1.48652953  1.13136861  0.30683534 -0.65750916]\n",
      " [ 0.03694731  0.22076231 -0.64014887 -0.65750916]\n",
      " [ 1.14920537  0.31992603 -0.06801257 -0.65750916]\n",
      " [ 1.87490816 -0.99130171  1.86541352 -1.67400013]\n",
      " [ 0.12993938 -0.3158551  -1.19255632  1.37547278]]\n",
      "    Average_income  Paved_Highways  Population_Driver_licence(%)  Petrol_tax\n",
      "22            4897            2449                         0.511         9.0\n",
      "39            4345            3905                         0.672         7.0\n",
      "25            3721            4746                         0.544         9.0\n",
      "3             4870            2351                         0.529         7.5\n",
      "40            4449            4639                         0.626         7.0\n",
      "6             5319           11868                         0.451         8.0\n",
      "7             5126            2138                         0.553         8.0\n",
      "9             4512            8507                         0.552         7.0\n",
      "43            3745            2611                         0.508         7.0\n",
      "34            3528            3495                         0.487         8.0\n",
      "[[0.91669787 0.13772354 0.7058011  0.9       ]\n",
      " [0.81336578 0.21960409 0.9281768  0.7       ]\n",
      " [0.6965556  0.26689911 0.75138122 0.9       ]\n",
      " [0.91164358 0.13221235 0.73066298 0.75      ]\n",
      " [0.83283414 0.26088179 0.86464088 0.7       ]\n",
      " [0.9956945  0.66741649 0.62292818 0.8       ]\n",
      " [0.95956571 0.12023394 0.76381215 0.8       ]\n",
      " [0.84462748 0.47840513 0.76243094 0.7       ]\n",
      " [0.7010483  0.14683388 0.70165746 0.7       ]\n",
      " [0.66042681 0.19654707 0.67265193 0.8       ]]\n",
      "[[ 1.29507528 -0.94965295 -1.31092935  1.37547278]\n",
      " [ 0.28857291 -0.53713186  1.86541352 -0.65750916]\n",
      " [-0.84921238 -0.2988556  -0.6598777   1.37547278]\n",
      " [ 1.24584418 -0.97741879 -0.95581027 -0.14926367]\n",
      " [ 0.47820379 -0.32917137  0.95788699 -0.65750916]\n",
      " [ 2.06453904  1.7189845  -2.49465961  0.35898181]\n",
      " [ 1.71262789 -1.037767   -0.48231816  0.35898181]\n",
      " [ 0.59307634  0.76672943 -0.502047   -0.65750916]\n",
      " [-0.80545141 -0.90375431 -1.37011586 -0.65750916]\n",
      " [-1.20112354 -0.65329508 -1.78442145  0.35898181]]\n"
     ]
    }
   ],
   "source": [
    "abs_scaler = MaxAbsScaler()\n",
    "std_scaler = StandardScaler()\n",
    "print(X_train.head(k))\n",
    "X_train = abs_scaler.fit_transform(X_train)\n",
    "print(X_train[:k])\n",
    "X_train = std_scaler.fit_transform(X_train)\n",
    "print(X_train[:k])\n",
    "print(X_test.head(k))\n",
    "X_test = abs_scaler.transform(X_test)\n",
    "print(X_test[:k])\n",
    "X_test = std_scaler.transform(X_test)\n",
    "print(X_test[:k])"
   ]
  },
  {
   "cell_type": "code",
   "execution_count": 126,
   "id": "a556e787",
   "metadata": {},
   "outputs": [
    {
     "data": {
      "text/plain": [
       "(array([-3.68552921e-01, -3.58815861e-01, -4.66409236e-01,  5.86791552e-01,\n",
       "        -4.13751216e-02,  5.66806082e-01, -2.59987101e-01,  1.85902417e-01,\n",
       "         2.68754961e-01, -7.49815157e-04, -6.38947536e-01,  7.76349435e-01,\n",
       "         2.59157538e-01,  2.05577009e-01,  5.49486190e-02, -8.87439188e-02,\n",
       "        -4.85244211e-02, -4.82073010e-02, -8.15233354e-01, -4.20704604e-01,\n",
       "        -1.40123487e-01, -4.21161922e-01,  2.19565039e-01,  1.66072690e-01,\n",
       "        -2.12890079e-01,  2.08287213e-01, -6.28599850e-01,  7.92957879e-01,\n",
       "         7.26092567e-01,  4.59421832e-02, -6.84702253e-01, -6.06184125e-01,\n",
       "         9.28932298e-03, -1.15702809e-02,  8.07799941e-01,  3.75223151e-02,\n",
       "         3.12264933e-01,  3.14014902e-02]),\n",
       " array([0.9565035 , 0.62844335, 1.13181503, 0.69611183, 0.28462979,\n",
       "        0.68278867, 0.1554592 , 0.4304327 , 2.62277171, 0.85769059,\n",
       "        0.04212655, 2.34160004, 0.47584598, 1.11800594, 4.71688838,\n",
       "        0.90828438, 0.89658602, 0.75627687, 0.46607425, 0.39644191,\n",
       "        0.25677822, 1.30127646, 0.27984217, 0.44400127, 0.1464987 ,\n",
       "        1.23800208, 0.32974578, 0.54427694, 1.89032259, 0.31349579,\n",
       "        0.25582052, 0.06122581, 0.25826631, 0.37900347, 1.77855109,\n",
       "        0.58249871, 0.51840349, 0.05215163]))"
      ]
     },
     "execution_count": 126,
     "metadata": {},
     "output_type": "execute_result"
    }
   ],
   "source": [
    "np.mean(X_train, axis=1), np.var(X_train, axis=1)"
   ]
  },
  {
   "cell_type": "code",
   "execution_count": 127,
   "id": "ec0157ac",
   "metadata": {},
   "outputs": [
    {
     "data": {
      "text/plain": [
       "(array([ 0.10249144,  0.23983635, -0.10811823, -0.20916214,  0.11235256,\n",
       "         0.41196144,  0.13788113,  0.0500624 , -0.93420769, -0.81996457]),\n",
       " array([1.53687596, 1.01344624, 0.77277052, 0.81708323, 0.40910151,\n",
       "        3.22264369, 1.07387714, 0.40348952, 0.0710209 , 0.62328813]))"
      ]
     },
     "execution_count": 127,
     "metadata": {},
     "output_type": "execute_result"
    }
   ],
   "source": [
    "np.mean(X_test, axis=1), np.var(X_test, axis=1)"
   ]
  },
  {
   "cell_type": "code",
   "execution_count": 128,
   "id": "a79b4291",
   "metadata": {},
   "outputs": [
    {
     "name": "stdout",
     "output_type": "stream",
     "text": [
      "abs_scaler.scale_ = array([5.3420e+03, 1.7782e+04, 7.2400e-01, 1.0000e+01])\n",
      "\n"
     ]
    }
   ],
   "source": [
    "print(f'{abs_scaler.scale_ = }\\n')"
   ]
  },
  {
   "cell_type": "code",
   "execution_count": 129,
   "id": "93f18698",
   "metadata": {},
   "outputs": [
    {
     "name": "stdout",
     "output_type": "stream",
     "text": [
      "std_scaler.mean_ = array([0.78373958, 0.32621841, 0.79757924, 0.76468421])\n",
      ", std_scaler.var_ = array([0.01054   , 0.03939755, 0.0049014 , 0.00967816])\n",
      ", std_scaler.scale_ = array([0.10266452, 0.19848816, 0.07000998, 0.09837766])\n",
      "\n"
     ]
    }
   ],
   "source": [
    "print(f'{std_scaler.mean_ = }\\n, {std_scaler.var_ = }\\n, {std_scaler.scale_ = }\\n')"
   ]
  },
  {
   "cell_type": "markdown",
   "id": "a51f4f29",
   "metadata": {},
   "source": [
    "#### Ridge"
   ]
  },
  {
   "cell_type": "code",
   "execution_count": 196,
   "id": "5cdbb646",
   "metadata": {},
   "outputs": [
    {
     "data": {
      "text/html": [
       "<style>#sk-container-id-14 {color: black;}#sk-container-id-14 pre{padding: 0;}#sk-container-id-14 div.sk-toggleable {background-color: white;}#sk-container-id-14 label.sk-toggleable__label {cursor: pointer;display: block;width: 100%;margin-bottom: 0;padding: 0.3em;box-sizing: border-box;text-align: center;}#sk-container-id-14 label.sk-toggleable__label-arrow:before {content: \"▸\";float: left;margin-right: 0.25em;color: #696969;}#sk-container-id-14 label.sk-toggleable__label-arrow:hover:before {color: black;}#sk-container-id-14 div.sk-estimator:hover label.sk-toggleable__label-arrow:before {color: black;}#sk-container-id-14 div.sk-toggleable__content {max-height: 0;max-width: 0;overflow: hidden;text-align: left;background-color: #f0f8ff;}#sk-container-id-14 div.sk-toggleable__content pre {margin: 0.2em;color: black;border-radius: 0.25em;background-color: #f0f8ff;}#sk-container-id-14 input.sk-toggleable__control:checked~div.sk-toggleable__content {max-height: 200px;max-width: 100%;overflow: auto;}#sk-container-id-14 input.sk-toggleable__control:checked~label.sk-toggleable__label-arrow:before {content: \"▾\";}#sk-container-id-14 div.sk-estimator input.sk-toggleable__control:checked~label.sk-toggleable__label {background-color: #d4ebff;}#sk-container-id-14 div.sk-label input.sk-toggleable__control:checked~label.sk-toggleable__label {background-color: #d4ebff;}#sk-container-id-14 input.sk-hidden--visually {border: 0;clip: rect(1px 1px 1px 1px);clip: rect(1px, 1px, 1px, 1px);height: 1px;margin: -1px;overflow: hidden;padding: 0;position: absolute;width: 1px;}#sk-container-id-14 div.sk-estimator {font-family: monospace;background-color: #f0f8ff;border: 1px dotted black;border-radius: 0.25em;box-sizing: border-box;margin-bottom: 0.5em;}#sk-container-id-14 div.sk-estimator:hover {background-color: #d4ebff;}#sk-container-id-14 div.sk-parallel-item::after {content: \"\";width: 100%;border-bottom: 1px solid gray;flex-grow: 1;}#sk-container-id-14 div.sk-label:hover label.sk-toggleable__label {background-color: #d4ebff;}#sk-container-id-14 div.sk-serial::before {content: \"\";position: absolute;border-left: 1px solid gray;box-sizing: border-box;top: 0;bottom: 0;left: 50%;z-index: 0;}#sk-container-id-14 div.sk-serial {display: flex;flex-direction: column;align-items: center;background-color: white;padding-right: 0.2em;padding-left: 0.2em;position: relative;}#sk-container-id-14 div.sk-item {position: relative;z-index: 1;}#sk-container-id-14 div.sk-parallel {display: flex;align-items: stretch;justify-content: center;background-color: white;position: relative;}#sk-container-id-14 div.sk-item::before, #sk-container-id-14 div.sk-parallel-item::before {content: \"\";position: absolute;border-left: 1px solid gray;box-sizing: border-box;top: 0;bottom: 0;left: 50%;z-index: -1;}#sk-container-id-14 div.sk-parallel-item {display: flex;flex-direction: column;z-index: 1;position: relative;background-color: white;}#sk-container-id-14 div.sk-parallel-item:first-child::after {align-self: flex-end;width: 50%;}#sk-container-id-14 div.sk-parallel-item:last-child::after {align-self: flex-start;width: 50%;}#sk-container-id-14 div.sk-parallel-item:only-child::after {width: 0;}#sk-container-id-14 div.sk-dashed-wrapped {border: 1px dashed gray;margin: 0 0.4em 0.5em 0.4em;box-sizing: border-box;padding-bottom: 0.4em;background-color: white;}#sk-container-id-14 div.sk-label label {font-family: monospace;font-weight: bold;display: inline-block;line-height: 1.2em;}#sk-container-id-14 div.sk-label-container {text-align: center;}#sk-container-id-14 div.sk-container {/* jupyter's `normalize.less` sets `[hidden] { display: none; }` but bootstrap.min.css set `[hidden] { display: none !important; }` so we also need the `!important` here to be able to override the default hidden behavior on the sphinx rendered scikit-learn.org. See: https://github.com/scikit-learn/scikit-learn/issues/21755 */display: inline-block !important;position: relative;}#sk-container-id-14 div.sk-text-repr-fallback {display: none;}</style><div id=\"sk-container-id-14\" class=\"sk-top-container\"><div class=\"sk-text-repr-fallback\"><pre>Ridge(alpha=0.8)</pre><b>In a Jupyter environment, please rerun this cell to show the HTML representation or trust the notebook. <br />On GitHub, the HTML representation is unable to render, please try loading this page with nbviewer.org.</b></div><div class=\"sk-container\" hidden><div class=\"sk-item\"><div class=\"sk-estimator sk-toggleable\"><input class=\"sk-toggleable__control sk-hidden--visually\" id=\"sk-estimator-id-18\" type=\"checkbox\" checked><label for=\"sk-estimator-id-18\" class=\"sk-toggleable__label sk-toggleable__label-arrow\">Ridge</label><div class=\"sk-toggleable__content\"><pre>Ridge(alpha=0.8)</pre></div></div></div></div></div>"
      ],
      "text/plain": [
       "Ridge(alpha=0.8)"
      ]
     },
     "execution_count": 196,
     "metadata": {},
     "output_type": "execute_result"
    }
   ],
   "source": [
    "ridge_rg = Ridge(alpha=0.8)\n",
    "ridge_rg.fit(X_train, y_train)"
   ]
  },
  {
   "cell_type": "code",
   "execution_count": 197,
   "id": "2b1bbc3c",
   "metadata": {},
   "outputs": [
    {
     "data": {
      "text/plain": [
       "586.8157894736842"
      ]
     },
     "execution_count": 197,
     "metadata": {},
     "output_type": "execute_result"
    }
   ],
   "source": [
    "ridge_rg.intercept_"
   ]
  },
  {
   "cell_type": "code",
   "execution_count": 198,
   "id": "a3920ae9",
   "metadata": {},
   "outputs": [
    {
     "data": {
      "text/plain": [
       "array([-30.39448402,  -9.45974861,  55.3170188 , -37.75178753])"
      ]
     },
     "execution_count": 198,
     "metadata": {},
     "output_type": "execute_result"
    }
   ],
   "source": [
    "ridge_rg.coef_"
   ]
  },
  {
   "cell_type": "code",
   "execution_count": 199,
   "id": "1905934d",
   "metadata": {},
   "outputs": [
    {
     "data": {
      "text/plain": [
       "Index(['Average_income', 'Paved_Highways', 'Population_Driver_licence(%)',\n",
       "       'Petrol_tax'],\n",
       "      dtype='object')"
      ]
     },
     "execution_count": 199,
     "metadata": {},
     "output_type": "execute_result"
    }
   ],
   "source": [
    "feature_names = X.columns\n",
    "feature_names"
   ]
  },
  {
   "cell_type": "code",
   "execution_count": 200,
   "id": "58b1ec65",
   "metadata": {},
   "outputs": [
    {
     "name": "stdout",
     "output_type": "stream",
     "text": [
      "                              Coefficient value\n",
      "Average_income                       -30.394484\n",
      "Paved_Highways                        -9.459749\n",
      "Population_Driver_licence(%)          55.317019\n",
      "Petrol_tax                           -37.751788\n"
     ]
    }
   ],
   "source": [
    "feature_names = X.columns\n",
    "model_coefficients = ridge_rg.coef_\n",
    "\n",
    "coefficients_df = pd.DataFrame(data = model_coefficients, \n",
    "                              index = feature_names, \n",
    "                              columns = ['Coefficient value'])\n",
    "print(coefficients_df)"
   ]
  },
  {
   "cell_type": "markdown",
   "id": "80f418b1",
   "metadata": {},
   "source": [
    "#### Inference with the model"
   ]
  },
  {
   "cell_type": "code",
   "execution_count": 201,
   "id": "f32f4cc0",
   "metadata": {},
   "outputs": [
    {
     "data": {
      "text/plain": [
       "array([431.9928635 , 711.13715818, 527.0252372 , 510.95753041,\n",
       "       653.20450907, 356.25469177, 504.34575546, 558.58687507,\n",
       "       568.87777939, 517.24224693])"
      ]
     },
     "execution_count": 201,
     "metadata": {},
     "output_type": "execute_result"
    }
   ],
   "source": [
    "y_pred = ridge_rg.predict(X_test)\n",
    "y_pred"
   ]
  },
  {
   "cell_type": "code",
   "execution_count": 202,
   "id": "57a73e5a",
   "metadata": {},
   "outputs": [
    {
     "name": "stdout",
     "output_type": "stream",
     "text": [
      "    Actual   Predicted\n",
      "22     464  431.992863\n",
      "39     968  711.137158\n",
      "25     566  527.025237\n",
      "3      414  510.957530\n",
      "40     587  653.204509\n",
      "6      344  356.254692\n",
      "7      467  504.345755\n",
      "9      498  558.586875\n",
      "43     591  568.877779\n",
      "34     487  517.242247\n"
     ]
    }
   ],
   "source": [
    "results = pd.DataFrame({'Actual': y_test, 'Predicted': y_pred})\n",
    "print(results)"
   ]
  },
  {
   "cell_type": "markdown",
   "id": "6355df4e",
   "metadata": {},
   "source": [
    "#### Evaluate the model"
   ]
  },
  {
   "cell_type": "code",
   "execution_count": 203,
   "id": "2d8f6542",
   "metadata": {},
   "outputs": [
    {
     "name": "stdout",
     "output_type": "stream",
     "text": [
      "Mean absolute error: 65.36\n",
      "Mean squared error: 8892.54\n",
      "Root mean squared error: 94.30\n"
     ]
    }
   ],
   "source": [
    "mae = mean_absolute_error(y_test, y_pred)\n",
    "mse = mean_squared_error(y_test, y_pred)\n",
    "rmse = np.sqrt(mse)\n",
    "\n",
    "print(f'Mean absolute error: {mae:.2f}')\n",
    "print(f'Mean squared error: {mse:.2f}')\n",
    "print(f'Root mean squared error: {rmse:.2f}')"
   ]
  },
  {
   "cell_type": "code",
   "execution_count": 204,
   "id": "058f8a57",
   "metadata": {},
   "outputs": [
    {
     "name": "stdout",
     "output_type": "stream",
     "text": [
      "R²: 0.6561545545120848\n"
     ]
    }
   ],
   "source": [
    "actual_minus_predicted = sum((y_test - y_pred)**2)\n",
    "actual_minus_actual_mean = sum((y_test - y_test.mean())**2)\n",
    "r2 = 1 - actual_minus_predicted/actual_minus_actual_mean\n",
    "print('R²:', r2)"
   ]
  },
  {
   "cell_type": "code",
   "execution_count": 205,
   "id": "68bf9663",
   "metadata": {},
   "outputs": [
    {
     "data": {
      "text/plain": [
       "0.6561545545120848"
      ]
     },
     "execution_count": 205,
     "metadata": {},
     "output_type": "execute_result"
    }
   ],
   "source": [
    "ridge_rg.score(X_test, y_test)"
   ]
  },
  {
   "cell_type": "code",
   "execution_count": 206,
   "id": "cef59cce",
   "metadata": {},
   "outputs": [
    {
     "data": {
      "text/plain": [
       "0.6513320693694356"
      ]
     },
     "execution_count": 206,
     "metadata": {},
     "output_type": "execute_result"
    }
   ],
   "source": [
    "ridge_rg.score(X_train, y_train)"
   ]
  },
  {
   "cell_type": "markdown",
   "id": "84869b48",
   "metadata": {},
   "source": [
    "#### Lasso"
   ]
  },
  {
   "cell_type": "code",
   "execution_count": 218,
   "id": "c2182708",
   "metadata": {},
   "outputs": [
    {
     "data": {
      "text/html": [
       "<style>#sk-container-id-16 {color: black;}#sk-container-id-16 pre{padding: 0;}#sk-container-id-16 div.sk-toggleable {background-color: white;}#sk-container-id-16 label.sk-toggleable__label {cursor: pointer;display: block;width: 100%;margin-bottom: 0;padding: 0.3em;box-sizing: border-box;text-align: center;}#sk-container-id-16 label.sk-toggleable__label-arrow:before {content: \"▸\";float: left;margin-right: 0.25em;color: #696969;}#sk-container-id-16 label.sk-toggleable__label-arrow:hover:before {color: black;}#sk-container-id-16 div.sk-estimator:hover label.sk-toggleable__label-arrow:before {color: black;}#sk-container-id-16 div.sk-toggleable__content {max-height: 0;max-width: 0;overflow: hidden;text-align: left;background-color: #f0f8ff;}#sk-container-id-16 div.sk-toggleable__content pre {margin: 0.2em;color: black;border-radius: 0.25em;background-color: #f0f8ff;}#sk-container-id-16 input.sk-toggleable__control:checked~div.sk-toggleable__content {max-height: 200px;max-width: 100%;overflow: auto;}#sk-container-id-16 input.sk-toggleable__control:checked~label.sk-toggleable__label-arrow:before {content: \"▾\";}#sk-container-id-16 div.sk-estimator input.sk-toggleable__control:checked~label.sk-toggleable__label {background-color: #d4ebff;}#sk-container-id-16 div.sk-label input.sk-toggleable__control:checked~label.sk-toggleable__label {background-color: #d4ebff;}#sk-container-id-16 input.sk-hidden--visually {border: 0;clip: rect(1px 1px 1px 1px);clip: rect(1px, 1px, 1px, 1px);height: 1px;margin: -1px;overflow: hidden;padding: 0;position: absolute;width: 1px;}#sk-container-id-16 div.sk-estimator {font-family: monospace;background-color: #f0f8ff;border: 1px dotted black;border-radius: 0.25em;box-sizing: border-box;margin-bottom: 0.5em;}#sk-container-id-16 div.sk-estimator:hover {background-color: #d4ebff;}#sk-container-id-16 div.sk-parallel-item::after {content: \"\";width: 100%;border-bottom: 1px solid gray;flex-grow: 1;}#sk-container-id-16 div.sk-label:hover label.sk-toggleable__label {background-color: #d4ebff;}#sk-container-id-16 div.sk-serial::before {content: \"\";position: absolute;border-left: 1px solid gray;box-sizing: border-box;top: 0;bottom: 0;left: 50%;z-index: 0;}#sk-container-id-16 div.sk-serial {display: flex;flex-direction: column;align-items: center;background-color: white;padding-right: 0.2em;padding-left: 0.2em;position: relative;}#sk-container-id-16 div.sk-item {position: relative;z-index: 1;}#sk-container-id-16 div.sk-parallel {display: flex;align-items: stretch;justify-content: center;background-color: white;position: relative;}#sk-container-id-16 div.sk-item::before, #sk-container-id-16 div.sk-parallel-item::before {content: \"\";position: absolute;border-left: 1px solid gray;box-sizing: border-box;top: 0;bottom: 0;left: 50%;z-index: -1;}#sk-container-id-16 div.sk-parallel-item {display: flex;flex-direction: column;z-index: 1;position: relative;background-color: white;}#sk-container-id-16 div.sk-parallel-item:first-child::after {align-self: flex-end;width: 50%;}#sk-container-id-16 div.sk-parallel-item:last-child::after {align-self: flex-start;width: 50%;}#sk-container-id-16 div.sk-parallel-item:only-child::after {width: 0;}#sk-container-id-16 div.sk-dashed-wrapped {border: 1px dashed gray;margin: 0 0.4em 0.5em 0.4em;box-sizing: border-box;padding-bottom: 0.4em;background-color: white;}#sk-container-id-16 div.sk-label label {font-family: monospace;font-weight: bold;display: inline-block;line-height: 1.2em;}#sk-container-id-16 div.sk-label-container {text-align: center;}#sk-container-id-16 div.sk-container {/* jupyter's `normalize.less` sets `[hidden] { display: none; }` but bootstrap.min.css set `[hidden] { display: none !important; }` so we also need the `!important` here to be able to override the default hidden behavior on the sphinx rendered scikit-learn.org. See: https://github.com/scikit-learn/scikit-learn/issues/21755 */display: inline-block !important;position: relative;}#sk-container-id-16 div.sk-text-repr-fallback {display: none;}</style><div id=\"sk-container-id-16\" class=\"sk-top-container\"><div class=\"sk-text-repr-fallback\"><pre>Lasso(alpha=2.8)</pre><b>In a Jupyter environment, please rerun this cell to show the HTML representation or trust the notebook. <br />On GitHub, the HTML representation is unable to render, please try loading this page with nbviewer.org.</b></div><div class=\"sk-container\" hidden><div class=\"sk-item\"><div class=\"sk-estimator sk-toggleable\"><input class=\"sk-toggleable__control sk-hidden--visually\" id=\"sk-estimator-id-20\" type=\"checkbox\" checked><label for=\"sk-estimator-id-20\" class=\"sk-toggleable__label sk-toggleable__label-arrow\">Lasso</label><div class=\"sk-toggleable__content\"><pre>Lasso(alpha=2.8)</pre></div></div></div></div></div>"
      ],
      "text/plain": [
       "Lasso(alpha=2.8)"
      ]
     },
     "execution_count": 218,
     "metadata": {},
     "output_type": "execute_result"
    }
   ],
   "source": [
    "lasso_rg = Lasso(alpha=2.8)\n",
    "lasso_rg.fit(X_train, y_train)"
   ]
  },
  {
   "cell_type": "code",
   "execution_count": 219,
   "id": "2b4d6b24",
   "metadata": {},
   "outputs": [
    {
     "data": {
      "text/plain": [
       "586.8157894736842"
      ]
     },
     "execution_count": 219,
     "metadata": {},
     "output_type": "execute_result"
    }
   ],
   "source": [
    "lasso_rg.intercept_"
   ]
  },
  {
   "cell_type": "code",
   "execution_count": 220,
   "id": "9c5d4fc8",
   "metadata": {},
   "outputs": [
    {
     "data": {
      "text/plain": [
       "array([-28.08064038,  -3.8901699 ,  54.54649613, -32.60660716])"
      ]
     },
     "execution_count": 220,
     "metadata": {},
     "output_type": "execute_result"
    }
   ],
   "source": [
    "lasso_rg.coef_"
   ]
  },
  {
   "cell_type": "code",
   "execution_count": 221,
   "id": "28fa6945",
   "metadata": {},
   "outputs": [
    {
     "data": {
      "text/plain": [
       "Index(['Average_income', 'Paved_Highways', 'Population_Driver_licence(%)',\n",
       "       'Petrol_tax'],\n",
       "      dtype='object')"
      ]
     },
     "execution_count": 221,
     "metadata": {},
     "output_type": "execute_result"
    }
   ],
   "source": [
    "feature_names = X.columns\n",
    "feature_names"
   ]
  },
  {
   "cell_type": "code",
   "execution_count": 222,
   "id": "628017ef",
   "metadata": {},
   "outputs": [
    {
     "name": "stdout",
     "output_type": "stream",
     "text": [
      "                              Coefficient value\n",
      "Average_income                       -28.080640\n",
      "Paved_Highways                        -3.890170\n",
      "Population_Driver_licence(%)          54.546496\n",
      "Petrol_tax                           -32.606607\n"
     ]
    }
   ],
   "source": [
    "feature_names = X.columns\n",
    "model_coefficients = lasso_rg.coef_\n",
    "\n",
    "coefficients_df = pd.DataFrame(data = model_coefficients, \n",
    "                              index = feature_names, \n",
    "                              columns = ['Coefficient value'])\n",
    "print(coefficients_df)"
   ]
  },
  {
   "cell_type": "markdown",
   "id": "34042a87",
   "metadata": {},
   "source": [
    "#### Inference with the model"
   ]
  },
  {
   "cell_type": "code",
   "execution_count": 223,
   "id": "6a465105",
   "metadata": {},
   "outputs": [
    {
     "data": {
      "text/plain": [
       "array([437.78745463, 703.99292596, 530.98129898, 508.36489309,\n",
       "       648.35657516, 374.37494972, 504.74724684, 561.2333563 ,\n",
       "       559.65326209, 514.04641982])"
      ]
     },
     "execution_count": 223,
     "metadata": {},
     "output_type": "execute_result"
    }
   ],
   "source": [
    "y_pred = lasso_rg.predict(X_test)\n",
    "y_pred"
   ]
  },
  {
   "cell_type": "code",
   "execution_count": 224,
   "id": "4b700460",
   "metadata": {},
   "outputs": [
    {
     "name": "stdout",
     "output_type": "stream",
     "text": [
      "    Actual   Predicted\n",
      "22     464  437.787455\n",
      "39     968  703.992926\n",
      "25     566  530.981299\n",
      "3      414  508.364893\n",
      "40     587  648.356575\n",
      "6      344  374.374950\n",
      "7      467  504.747247\n",
      "9      498  561.233356\n",
      "43     591  559.653262\n",
      "34     487  514.046420\n"
     ]
    }
   ],
   "source": [
    "results = pd.DataFrame({'Actual': y_test, 'Predicted': y_pred})\n",
    "print(results)"
   ]
  },
  {
   "cell_type": "markdown",
   "id": "1e1fa656",
   "metadata": {},
   "source": [
    "#### Evaluate the model"
   ]
  },
  {
   "cell_type": "code",
   "execution_count": 225,
   "id": "7acdfabc",
   "metadata": {},
   "outputs": [
    {
     "name": "stdout",
     "output_type": "stream",
     "text": [
      "Mean absolute error: 67.07\n",
      "Mean squared error: 9234.26\n",
      "Root mean squared error: 96.10\n"
     ]
    }
   ],
   "source": [
    "mae = mean_absolute_error(y_test, y_pred)\n",
    "mse = mean_squared_error(y_test, y_pred)\n",
    "rmse = np.sqrt(mse)\n",
    "\n",
    "print(f'Mean absolute error: {mae:.2f}')\n",
    "print(f'Mean squared error: {mse:.2f}')\n",
    "print(f'Root mean squared error: {rmse:.2f}')"
   ]
  },
  {
   "cell_type": "code",
   "execution_count": 226,
   "id": "4b72ed5a",
   "metadata": {},
   "outputs": [
    {
     "name": "stdout",
     "output_type": "stream",
     "text": [
      "R²: 0.6429416209025577\n"
     ]
    }
   ],
   "source": [
    "actual_minus_predicted = sum((y_test - y_pred)**2)\n",
    "actual_minus_actual_mean = sum((y_test - y_test.mean())**2)\n",
    "r2 = 1 - actual_minus_predicted/actual_minus_actual_mean\n",
    "print('R²:', r2)"
   ]
  },
  {
   "cell_type": "code",
   "execution_count": 227,
   "id": "73cd476e",
   "metadata": {},
   "outputs": [
    {
     "data": {
      "text/plain": [
       "0.6429416209025577"
      ]
     },
     "execution_count": 227,
     "metadata": {},
     "output_type": "execute_result"
    }
   ],
   "source": [
    "lasso_rg.score(X_test, y_test)"
   ]
  },
  {
   "cell_type": "code",
   "execution_count": 228,
   "id": "6038db74",
   "metadata": {},
   "outputs": [
    {
     "data": {
      "text/plain": [
       "0.645690900240431"
      ]
     },
     "execution_count": 228,
     "metadata": {},
     "output_type": "execute_result"
    }
   ],
   "source": [
    "lasso_rg.score(X_train, y_train)"
   ]
  },
  {
   "cell_type": "code",
   "execution_count": null,
   "id": "c50b5bf3",
   "metadata": {},
   "outputs": [],
   "source": []
  }
 ],
 "metadata": {
  "kernelspec": {
   "display_name": "Python 3 (ipykernel)",
   "language": "python",
   "name": "python3"
  },
  "language_info": {
   "codemirror_mode": {
    "name": "ipython",
    "version": 3
   },
   "file_extension": ".py",
   "mimetype": "text/x-python",
   "name": "python",
   "nbconvert_exporter": "python",
   "pygments_lexer": "ipython3",
   "version": "3.10.9"
  }
 },
 "nbformat": 4,
 "nbformat_minor": 5
}
