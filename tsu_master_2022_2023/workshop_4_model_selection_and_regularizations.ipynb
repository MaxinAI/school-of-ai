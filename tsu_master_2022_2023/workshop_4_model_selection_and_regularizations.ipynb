{
 "cells": [
  {
   "cell_type": "code",
   "execution_count": 1,
   "id": "71ce37e9",
   "metadata": {},
   "outputs": [],
   "source": [
    "%load_ext autoreload\n",
    "%autoreload 2\n",
    "\n",
    "%matplotlib inline"
   ]
  },
  {
   "cell_type": "markdown",
   "id": "5b560092",
   "metadata": {},
   "source": [
    "## Install libraries"
   ]
  },
  {
   "cell_type": "markdown",
   "id": "89885fa7",
   "metadata": {},
   "source": [
    "```bash\n",
    "conda create -n edu4 python=3.10 jupyter matplotlib\n",
    "```"
   ]
  },
  {
   "cell_type": "markdown",
   "id": "cd23589d",
   "metadata": {},
   "source": [
    "```bash \n",
    "! pip install -U -r requirements.txt\n",
    "```"
   ]
  },
  {
   "cell_type": "markdown",
   "id": "9d16321f",
   "metadata": {},
   "source": [
    "```bash\n",
    "! pip install -U numpy\n",
    "! pip install -U scikit-learn\n",
    "```"
   ]
  },
  {
   "cell_type": "code",
   "execution_count": 2,
   "id": "cf179611",
   "metadata": {},
   "outputs": [
    {
     "name": "stdout",
     "output_type": "stream",
     "text": [
      "\u001b[34mdata\u001b[m\u001b[m\r\n",
      "\u001b[34mimages\u001b[m\u001b[m\r\n",
      "mid_terms.ipynb\r\n",
      "mid_terms_sm.ipynb\r\n",
      "requirements.txt\r\n",
      "workshop_1_linear_regression.ipynb\r\n",
      "workshop_2_logistic_regression_lda_qda_nb.ipynb\r\n",
      "workshop_3_resampling_methods.ipynb\r\n",
      "workshop_4_model_selection_and_regularizations.ipynb\r\n"
     ]
    }
   ],
   "source": [
    "! ls"
   ]
  },
  {
   "cell_type": "code",
   "execution_count": 3,
   "id": "d0126ab9",
   "metadata": {
    "scrolled": true
   },
   "outputs": [
    {
     "name": "stdout",
     "output_type": "stream",
     "text": [
      "Requirement already satisfied: jupyter in /Users/levan/anaconda3/envs/edu4/lib/python3.10/site-packages (from -r requirements.txt (line 1)) (1.0.0)\n",
      "Requirement already satisfied: matplotlib in /Users/levan/anaconda3/envs/edu4/lib/python3.10/site-packages (from -r requirements.txt (line 2)) (3.6.2)\n",
      "Requirement already satisfied: seaborn in /Users/levan/anaconda3/envs/edu4/lib/python3.10/site-packages (from -r requirements.txt (line 3)) (0.12.1)\n",
      "Requirement already satisfied: numpy in /Users/levan/anaconda3/envs/edu4/lib/python3.10/site-packages (from -r requirements.txt (line 4)) (1.23.5)\n",
      "Requirement already satisfied: scipy in /Users/levan/anaconda3/envs/edu4/lib/python3.10/site-packages (from -r requirements.txt (line 5)) (1.9.3)\n",
      "Requirement already satisfied: pandas in /Users/levan/anaconda3/envs/edu4/lib/python3.10/site-packages (from -r requirements.txt (line 6)) (1.5.2)\n",
      "Requirement already satisfied: openpyxl in /Users/levan/anaconda3/envs/edu4/lib/python3.10/site-packages (from -r requirements.txt (line 7)) (3.0.10)\n",
      "Requirement already satisfied: scikit-learn in /Users/levan/anaconda3/envs/edu4/lib/python3.10/site-packages (from -r requirements.txt (line 8)) (1.1.3)\n",
      "Collecting scikit-learn\n",
      "  Downloading scikit_learn-1.2.0-cp310-cp310-macosx_10_9_x86_64.whl (9.0 MB)\n",
      "\u001b[2K     \u001b[38;2;114;156;31m━━━━━━━━━━━━━━━━━━━━━━━━━━━━━━━━━━━━━━━━\u001b[0m \u001b[32m9.0/9.0 MB\u001b[0m \u001b[31m3.8 MB/s\u001b[0m eta \u001b[36m0:00:00\u001b[0mm eta \u001b[36m0:00:01\u001b[0m[36m0:00:01\u001b[0m\n",
      "\u001b[?25hRequirement already satisfied: nbconvert in /Users/levan/anaconda3/envs/edu4/lib/python3.10/site-packages (from jupyter->-r requirements.txt (line 1)) (6.4.4)\n",
      "Requirement already satisfied: jupyter-console in /Users/levan/anaconda3/envs/edu4/lib/python3.10/site-packages (from jupyter->-r requirements.txt (line 1)) (6.4.3)\n",
      "Requirement already satisfied: qtconsole in /Users/levan/anaconda3/envs/edu4/lib/python3.10/site-packages (from jupyter->-r requirements.txt (line 1)) (5.3.2)\n",
      "Requirement already satisfied: notebook in /Users/levan/anaconda3/envs/edu4/lib/python3.10/site-packages (from jupyter->-r requirements.txt (line 1)) (6.4.12)\n",
      "Requirement already satisfied: ipywidgets in /Users/levan/anaconda3/envs/edu4/lib/python3.10/site-packages (from jupyter->-r requirements.txt (line 1)) (7.6.5)\n",
      "Requirement already satisfied: ipykernel in /Users/levan/anaconda3/envs/edu4/lib/python3.10/site-packages (from jupyter->-r requirements.txt (line 1)) (6.15.2)\n",
      "Requirement already satisfied: pyparsing>=2.2.1 in /Users/levan/anaconda3/envs/edu4/lib/python3.10/site-packages (from matplotlib->-r requirements.txt (line 2)) (3.0.9)\n",
      "Requirement already satisfied: python-dateutil>=2.7 in /Users/levan/anaconda3/envs/edu4/lib/python3.10/site-packages (from matplotlib->-r requirements.txt (line 2)) (2.8.2)\n",
      "Requirement already satisfied: packaging>=20.0 in /Users/levan/anaconda3/envs/edu4/lib/python3.10/site-packages (from matplotlib->-r requirements.txt (line 2)) (21.3)\n",
      "Requirement already satisfied: pillow>=6.2.0 in /Users/levan/anaconda3/envs/edu4/lib/python3.10/site-packages (from matplotlib->-r requirements.txt (line 2)) (9.2.0)\n",
      "Requirement already satisfied: kiwisolver>=1.0.1 in /Users/levan/anaconda3/envs/edu4/lib/python3.10/site-packages (from matplotlib->-r requirements.txt (line 2)) (1.4.2)\n",
      "Requirement already satisfied: fonttools>=4.22.0 in /Users/levan/anaconda3/envs/edu4/lib/python3.10/site-packages (from matplotlib->-r requirements.txt (line 2)) (4.25.0)\n",
      "Requirement already satisfied: contourpy>=1.0.1 in /Users/levan/anaconda3/envs/edu4/lib/python3.10/site-packages (from matplotlib->-r requirements.txt (line 2)) (1.0.6)\n",
      "Requirement already satisfied: cycler>=0.10 in /Users/levan/anaconda3/envs/edu4/lib/python3.10/site-packages (from matplotlib->-r requirements.txt (line 2)) (0.11.0)\n",
      "Requirement already satisfied: pytz>=2020.1 in /Users/levan/anaconda3/envs/edu4/lib/python3.10/site-packages (from pandas->-r requirements.txt (line 6)) (2022.1)\n",
      "Requirement already satisfied: et-xmlfile in /Users/levan/anaconda3/envs/edu4/lib/python3.10/site-packages (from openpyxl->-r requirements.txt (line 7)) (1.1.0)\n",
      "Requirement already satisfied: joblib>=1.1.1 in /Users/levan/anaconda3/envs/edu4/lib/python3.10/site-packages (from scikit-learn->-r requirements.txt (line 8)) (1.2.0)\n",
      "Requirement already satisfied: threadpoolctl>=2.0.0 in /Users/levan/anaconda3/envs/edu4/lib/python3.10/site-packages (from scikit-learn->-r requirements.txt (line 8)) (3.1.0)\n",
      "Requirement already satisfied: six>=1.5 in /Users/levan/anaconda3/envs/edu4/lib/python3.10/site-packages (from python-dateutil>=2.7->matplotlib->-r requirements.txt (line 2)) (1.16.0)\n",
      "Requirement already satisfied: debugpy>=1.0 in /Users/levan/anaconda3/envs/edu4/lib/python3.10/site-packages (from ipykernel->jupyter->-r requirements.txt (line 1)) (1.5.1)\n",
      "Requirement already satisfied: matplotlib-inline>=0.1 in /Users/levan/anaconda3/envs/edu4/lib/python3.10/site-packages (from ipykernel->jupyter->-r requirements.txt (line 1)) (0.1.6)\n",
      "Requirement already satisfied: appnope in /Users/levan/anaconda3/envs/edu4/lib/python3.10/site-packages (from ipykernel->jupyter->-r requirements.txt (line 1)) (0.1.2)\n",
      "Requirement already satisfied: nest-asyncio in /Users/levan/anaconda3/envs/edu4/lib/python3.10/site-packages (from ipykernel->jupyter->-r requirements.txt (line 1)) (1.5.5)\n",
      "Requirement already satisfied: psutil in /Users/levan/anaconda3/envs/edu4/lib/python3.10/site-packages (from ipykernel->jupyter->-r requirements.txt (line 1)) (5.9.0)\n",
      "Requirement already satisfied: tornado>=6.1 in /Users/levan/anaconda3/envs/edu4/lib/python3.10/site-packages (from ipykernel->jupyter->-r requirements.txt (line 1)) (6.2)\n",
      "Requirement already satisfied: ipython>=7.23.1 in /Users/levan/anaconda3/envs/edu4/lib/python3.10/site-packages (from ipykernel->jupyter->-r requirements.txt (line 1)) (8.4.0)\n",
      "Requirement already satisfied: jupyter-client>=6.1.12 in /Users/levan/anaconda3/envs/edu4/lib/python3.10/site-packages (from ipykernel->jupyter->-r requirements.txt (line 1)) (7.3.5)\n",
      "Requirement already satisfied: pyzmq>=17 in /Users/levan/anaconda3/envs/edu4/lib/python3.10/site-packages (from ipykernel->jupyter->-r requirements.txt (line 1)) (23.2.0)\n",
      "Requirement already satisfied: traitlets>=5.1.0 in /Users/levan/anaconda3/envs/edu4/lib/python3.10/site-packages (from ipykernel->jupyter->-r requirements.txt (line 1)) (5.1.1)\n",
      "Requirement already satisfied: nbformat>=4.2.0 in /Users/levan/anaconda3/envs/edu4/lib/python3.10/site-packages (from ipywidgets->jupyter->-r requirements.txt (line 1)) (5.5.0)\n",
      "Requirement already satisfied: widgetsnbextension~=3.5.0 in /Users/levan/anaconda3/envs/edu4/lib/python3.10/site-packages (from ipywidgets->jupyter->-r requirements.txt (line 1)) (3.5.2)\n",
      "Requirement already satisfied: ipython-genutils~=0.2.0 in /Users/levan/anaconda3/envs/edu4/lib/python3.10/site-packages (from ipywidgets->jupyter->-r requirements.txt (line 1)) (0.2.0)\n",
      "Requirement already satisfied: jupyterlab-widgets>=1.0.0 in /Users/levan/anaconda3/envs/edu4/lib/python3.10/site-packages (from ipywidgets->jupyter->-r requirements.txt (line 1)) (1.0.0)\n",
      "Requirement already satisfied: prompt-toolkit!=3.0.0,!=3.0.1,<3.1.0,>=2.0.0 in /Users/levan/anaconda3/envs/edu4/lib/python3.10/site-packages (from jupyter-console->jupyter->-r requirements.txt (line 1)) (3.0.20)\n",
      "Requirement already satisfied: pygments in /Users/levan/anaconda3/envs/edu4/lib/python3.10/site-packages (from jupyter-console->jupyter->-r requirements.txt (line 1)) (2.11.2)\n",
      "Requirement already satisfied: bleach in /Users/levan/anaconda3/envs/edu4/lib/python3.10/site-packages (from nbconvert->jupyter->-r requirements.txt (line 1)) (4.1.0)\n",
      "Requirement already satisfied: mistune<2,>=0.8.1 in /Users/levan/anaconda3/envs/edu4/lib/python3.10/site-packages (from nbconvert->jupyter->-r requirements.txt (line 1)) (0.8.4)\n",
      "Requirement already satisfied: defusedxml in /Users/levan/anaconda3/envs/edu4/lib/python3.10/site-packages (from nbconvert->jupyter->-r requirements.txt (line 1)) (0.7.1)\n",
      "Requirement already satisfied: jupyterlab-pygments in /Users/levan/anaconda3/envs/edu4/lib/python3.10/site-packages (from nbconvert->jupyter->-r requirements.txt (line 1)) (0.1.2)\n",
      "Requirement already satisfied: entrypoints>=0.2.2 in /Users/levan/anaconda3/envs/edu4/lib/python3.10/site-packages (from nbconvert->jupyter->-r requirements.txt (line 1)) (0.4)\n",
      "Requirement already satisfied: jinja2>=2.4 in /Users/levan/anaconda3/envs/edu4/lib/python3.10/site-packages (from nbconvert->jupyter->-r requirements.txt (line 1)) (3.1.2)\n",
      "Requirement already satisfied: pandocfilters>=1.4.1 in /Users/levan/anaconda3/envs/edu4/lib/python3.10/site-packages (from nbconvert->jupyter->-r requirements.txt (line 1)) (1.5.0)\n",
      "Requirement already satisfied: beautifulsoup4 in /Users/levan/anaconda3/envs/edu4/lib/python3.10/site-packages (from nbconvert->jupyter->-r requirements.txt (line 1)) (4.11.1)\n",
      "Requirement already satisfied: jupyter-core in /Users/levan/anaconda3/envs/edu4/lib/python3.10/site-packages (from nbconvert->jupyter->-r requirements.txt (line 1)) (4.11.1)\n",
      "Requirement already satisfied: testpath in /Users/levan/anaconda3/envs/edu4/lib/python3.10/site-packages (from nbconvert->jupyter->-r requirements.txt (line 1)) (0.6.0)\n"
     ]
    },
    {
     "name": "stdout",
     "output_type": "stream",
     "text": [
      "Requirement already satisfied: nbclient<0.6.0,>=0.5.0 in /Users/levan/anaconda3/envs/edu4/lib/python3.10/site-packages (from nbconvert->jupyter->-r requirements.txt (line 1)) (0.5.13)\n",
      "Requirement already satisfied: terminado>=0.8.3 in /Users/levan/anaconda3/envs/edu4/lib/python3.10/site-packages (from notebook->jupyter->-r requirements.txt (line 1)) (0.13.1)\n",
      "Requirement already satisfied: argon2-cffi in /Users/levan/anaconda3/envs/edu4/lib/python3.10/site-packages (from notebook->jupyter->-r requirements.txt (line 1)) (21.3.0)\n",
      "Requirement already satisfied: Send2Trash>=1.8.0 in /Users/levan/anaconda3/envs/edu4/lib/python3.10/site-packages (from notebook->jupyter->-r requirements.txt (line 1)) (1.8.0)\n",
      "Requirement already satisfied: prometheus-client in /Users/levan/anaconda3/envs/edu4/lib/python3.10/site-packages (from notebook->jupyter->-r requirements.txt (line 1)) (0.14.1)\n",
      "Requirement already satisfied: qtpy>=2.0.1 in /Users/levan/anaconda3/envs/edu4/lib/python3.10/site-packages (from qtconsole->jupyter->-r requirements.txt (line 1)) (2.2.0)\n",
      "Requirement already satisfied: stack-data in /Users/levan/anaconda3/envs/edu4/lib/python3.10/site-packages (from ipython>=7.23.1->ipykernel->jupyter->-r requirements.txt (line 1)) (0.2.0)\n",
      "Requirement already satisfied: pexpect>4.3 in /Users/levan/anaconda3/envs/edu4/lib/python3.10/site-packages (from ipython>=7.23.1->ipykernel->jupyter->-r requirements.txt (line 1)) (4.8.0)\n",
      "Requirement already satisfied: backcall in /Users/levan/anaconda3/envs/edu4/lib/python3.10/site-packages (from ipython>=7.23.1->ipykernel->jupyter->-r requirements.txt (line 1)) (0.2.0)\n",
      "Requirement already satisfied: setuptools>=18.5 in /Users/levan/anaconda3/envs/edu4/lib/python3.10/site-packages (from ipython>=7.23.1->ipykernel->jupyter->-r requirements.txt (line 1)) (65.5.0)\n",
      "Requirement already satisfied: jedi>=0.16 in /Users/levan/anaconda3/envs/edu4/lib/python3.10/site-packages (from ipython>=7.23.1->ipykernel->jupyter->-r requirements.txt (line 1)) (0.18.1)\n",
      "Requirement already satisfied: decorator in /Users/levan/anaconda3/envs/edu4/lib/python3.10/site-packages (from ipython>=7.23.1->ipykernel->jupyter->-r requirements.txt (line 1)) (5.1.1)\n",
      "Requirement already satisfied: pickleshare in /Users/levan/anaconda3/envs/edu4/lib/python3.10/site-packages (from ipython>=7.23.1->ipykernel->jupyter->-r requirements.txt (line 1)) (0.7.5)\n",
      "Requirement already satisfied: MarkupSafe>=2.0 in /Users/levan/anaconda3/envs/edu4/lib/python3.10/site-packages (from jinja2>=2.4->nbconvert->jupyter->-r requirements.txt (line 1)) (2.1.1)\n",
      "Requirement already satisfied: fastjsonschema in /Users/levan/anaconda3/envs/edu4/lib/python3.10/site-packages (from nbformat>=4.2.0->ipywidgets->jupyter->-r requirements.txt (line 1)) (2.16.2)\n",
      "Requirement already satisfied: jsonschema>=2.6 in /Users/levan/anaconda3/envs/edu4/lib/python3.10/site-packages (from nbformat>=4.2.0->ipywidgets->jupyter->-r requirements.txt (line 1)) (4.16.0)\n",
      "Requirement already satisfied: wcwidth in /Users/levan/anaconda3/envs/edu4/lib/python3.10/site-packages (from prompt-toolkit!=3.0.0,!=3.0.1,<3.1.0,>=2.0.0->jupyter-console->jupyter->-r requirements.txt (line 1)) (0.2.5)\n",
      "Requirement already satisfied: ptyprocess in /Users/levan/anaconda3/envs/edu4/lib/python3.10/site-packages (from terminado>=0.8.3->notebook->jupyter->-r requirements.txt (line 1)) (0.7.0)\n",
      "Requirement already satisfied: argon2-cffi-bindings in /Users/levan/anaconda3/envs/edu4/lib/python3.10/site-packages (from argon2-cffi->notebook->jupyter->-r requirements.txt (line 1)) (21.2.0)\n",
      "Requirement already satisfied: soupsieve>1.2 in /Users/levan/anaconda3/envs/edu4/lib/python3.10/site-packages (from beautifulsoup4->nbconvert->jupyter->-r requirements.txt (line 1)) (2.3.2.post1)\n",
      "Requirement already satisfied: webencodings in /Users/levan/anaconda3/envs/edu4/lib/python3.10/site-packages (from bleach->nbconvert->jupyter->-r requirements.txt (line 1)) (0.5.1)\n",
      "Requirement already satisfied: parso<0.9.0,>=0.8.0 in /Users/levan/anaconda3/envs/edu4/lib/python3.10/site-packages (from jedi>=0.16->ipython>=7.23.1->ipykernel->jupyter->-r requirements.txt (line 1)) (0.8.3)\n",
      "Requirement already satisfied: pyrsistent!=0.17.0,!=0.17.1,!=0.17.2,>=0.14.0 in /Users/levan/anaconda3/envs/edu4/lib/python3.10/site-packages (from jsonschema>=2.6->nbformat>=4.2.0->ipywidgets->jupyter->-r requirements.txt (line 1)) (0.18.0)\n",
      "Requirement already satisfied: attrs>=17.4.0 in /Users/levan/anaconda3/envs/edu4/lib/python3.10/site-packages (from jsonschema>=2.6->nbformat>=4.2.0->ipywidgets->jupyter->-r requirements.txt (line 1)) (21.4.0)\n",
      "Requirement already satisfied: cffi>=1.0.1 in /Users/levan/anaconda3/envs/edu4/lib/python3.10/site-packages (from argon2-cffi-bindings->argon2-cffi->notebook->jupyter->-r requirements.txt (line 1)) (1.15.1)\n",
      "Requirement already satisfied: pure-eval in /Users/levan/anaconda3/envs/edu4/lib/python3.10/site-packages (from stack-data->ipython>=7.23.1->ipykernel->jupyter->-r requirements.txt (line 1)) (0.2.2)\n",
      "Requirement already satisfied: executing in /Users/levan/anaconda3/envs/edu4/lib/python3.10/site-packages (from stack-data->ipython>=7.23.1->ipykernel->jupyter->-r requirements.txt (line 1)) (0.8.3)\n",
      "Requirement already satisfied: asttokens in /Users/levan/anaconda3/envs/edu4/lib/python3.10/site-packages (from stack-data->ipython>=7.23.1->ipykernel->jupyter->-r requirements.txt (line 1)) (2.0.5)\n",
      "Requirement already satisfied: pycparser in /Users/levan/anaconda3/envs/edu4/lib/python3.10/site-packages (from cffi>=1.0.1->argon2-cffi-bindings->argon2-cffi->notebook->jupyter->-r requirements.txt (line 1)) (2.21)\n",
      "Installing collected packages: scikit-learn\n",
      "  Attempting uninstall: scikit-learn\n",
      "    Found existing installation: scikit-learn 1.1.3\n",
      "    Uninstalling scikit-learn-1.1.3:\n",
      "      Successfully uninstalled scikit-learn-1.1.3\n",
      "Successfully installed scikit-learn-1.2.0\n"
     ]
    }
   ],
   "source": [
    "! pip install -U -r requirements.txt"
   ]
  },
  {
   "cell_type": "markdown",
   "id": "b4cab43a",
   "metadata": {},
   "source": [
    "## Update repository"
   ]
  },
  {
   "cell_type": "code",
   "execution_count": 4,
   "id": "46bcb5dc",
   "metadata": {},
   "outputs": [
    {
     "name": "stdout",
     "output_type": "stream",
     "text": [
      "Already up to date.\r\n"
     ]
    }
   ],
   "source": [
    "! git pull"
   ]
  },
  {
   "cell_type": "markdown",
   "id": "bad216da",
   "metadata": {},
   "source": [
    "## Add import path"
   ]
  },
  {
   "cell_type": "code",
   "execution_count": 5,
   "id": "baafb705",
   "metadata": {},
   "outputs": [],
   "source": [
    "import os\n",
    "import sys\n",
    "import gc"
   ]
  },
  {
   "cell_type": "code",
   "execution_count": 6,
   "id": "b2930983",
   "metadata": {},
   "outputs": [],
   "source": [
    "module_path = os.path.abspath(os.path.join('..'))\n",
    "if module_path not in sys.path:\n",
    "    sys.path.append(module_path)"
   ]
  },
  {
   "cell_type": "code",
   "execution_count": 7,
   "id": "7984d32f",
   "metadata": {},
   "outputs": [],
   "source": [
    "del module_path"
   ]
  },
  {
   "cell_type": "markdown",
   "id": "07a1e9c8",
   "metadata": {},
   "source": [
    "## Organize imports"
   ]
  },
  {
   "cell_type": "code",
   "execution_count": 8,
   "id": "ae177357",
   "metadata": {},
   "outputs": [],
   "source": [
    "import multiprocessing\n",
    "from pathlib import Path"
   ]
  },
  {
   "cell_type": "code",
   "execution_count": 9,
   "id": "a523557a",
   "metadata": {},
   "outputs": [],
   "source": [
    "import seaborn as sns"
   ]
  },
  {
   "cell_type": "code",
   "execution_count": 60,
   "id": "25750a3d",
   "metadata": {},
   "outputs": [],
   "source": [
    "import matplotlib.pyplot as plt\n",
    "import numpy as np\n",
    "import pandas as pd\n",
    "import sklearn\n",
    "from sklearn.model_selection import train_test_split\n",
    "from sklearn.feature_selection import SequentialFeatureSelector as SFS\n",
    "from sklearn.discriminant_analysis import (LinearDiscriminantAnalysis, \n",
    "                                           QuadraticDiscriminantAnalysis)\n",
    "from sklearn.linear_model import LinearRegression, Ridge, Lasso\n",
    "from sklearn.metrics import (mean_absolute_error, mean_squared_error, \n",
    "                             classification_report, confusion_matrix)"
   ]
  },
  {
   "cell_type": "markdown",
   "id": "65f31e93",
   "metadata": {},
   "source": [
    "#### Number of CPU cores"
   ]
  },
  {
   "cell_type": "code",
   "execution_count": 17,
   "id": "b49764e1",
   "metadata": {
    "scrolled": false
   },
   "outputs": [
    {
     "data": {
      "text/plain": [
       "8"
      ]
     },
     "execution_count": 17,
     "metadata": {},
     "output_type": "execute_result"
    }
   ],
   "source": [
    "workers = multiprocessing.cpu_count()\n",
    "workers"
   ]
  },
  {
   "cell_type": "markdown",
   "id": "f86a9880",
   "metadata": {},
   "source": [
    "## Initialize path"
   ]
  },
  {
   "cell_type": "code",
   "execution_count": 80,
   "id": "ccfb1c16",
   "metadata": {},
   "outputs": [],
   "source": [
    "DATA = Path('data')\n",
    "PATH = DATA / 'log_regr_lda_qda_np'\n",
    "LR_PATH = DATA / 'linear_regression'\n",
    "PUMPKIN_DIR = PATH / 'Pumpkin_Seeds_Dataset'\n",
    "IRIS_DIR = PATH / 'iris'\n",
    "PUMPKIN_DIR.mkdir(exist_ok=True, parents=True)\n",
    "IRIS_DIR.mkdir(exist_ok=True, parents=True)"
   ]
  },
  {
   "cell_type": "code",
   "execution_count": 19,
   "id": "8f8156f5",
   "metadata": {},
   "outputs": [
    {
     "name": "stdout",
     "output_type": "stream",
     "text": [
      "\u001b[34mdata\u001b[m\u001b[m\r\n",
      "\u001b[34mimages\u001b[m\u001b[m\r\n",
      "mid_terms.ipynb\r\n",
      "mid_terms_sm.ipynb\r\n",
      "requirements.txt\r\n",
      "workshop_1_linear_regression.ipynb\r\n",
      "workshop_2_logistic_regression_lda_qda_nb.ipynb\r\n",
      "workshop_3_resampling_methods.ipynb\r\n",
      "workshop_4_model_selection_and_regularizations.ipynb\r\n"
     ]
    }
   ],
   "source": [
    "! ls"
   ]
  },
  {
   "cell_type": "markdown",
   "id": "550d2013",
   "metadata": {},
   "source": [
    "## Load IRIS dataset"
   ]
  },
  {
   "cell_type": "code",
   "execution_count": 26,
   "id": "36e05ba2",
   "metadata": {},
   "outputs": [],
   "source": [
    "SEED = 2022"
   ]
  },
  {
   "cell_type": "code",
   "execution_count": 27,
   "id": "543fde41",
   "metadata": {},
   "outputs": [],
   "source": [
    "iris_url = 'https://www.kaggle.com/datasets/uciml/iris/download?datasetVersionNumber=2'"
   ]
  },
  {
   "cell_type": "markdown",
   "id": "9cd4a02a",
   "metadata": {},
   "source": [
    "#### Load dataset"
   ]
  },
  {
   "cell_type": "code",
   "execution_count": 28,
   "id": "fd6ea5ca",
   "metadata": {},
   "outputs": [
    {
     "name": "stdout",
     "output_type": "stream",
     "text": [
      "Iris.csv        database.sqlite\r\n"
     ]
    }
   ],
   "source": [
    "! ls {IRIS_DIR}"
   ]
  },
  {
   "cell_type": "code",
   "execution_count": 29,
   "id": "bfbc6afa",
   "metadata": {},
   "outputs": [],
   "source": [
    "df = pd.read_csv(IRIS_DIR / 'Iris.csv')"
   ]
  },
  {
   "cell_type": "code",
   "execution_count": 30,
   "id": "9ed249b3",
   "metadata": {},
   "outputs": [
    {
     "data": {
      "text/html": [
       "<div>\n",
       "<style scoped>\n",
       "    .dataframe tbody tr th:only-of-type {\n",
       "        vertical-align: middle;\n",
       "    }\n",
       "\n",
       "    .dataframe tbody tr th {\n",
       "        vertical-align: top;\n",
       "    }\n",
       "\n",
       "    .dataframe thead th {\n",
       "        text-align: right;\n",
       "    }\n",
       "</style>\n",
       "<table border=\"1\" class=\"dataframe\">\n",
       "  <thead>\n",
       "    <tr style=\"text-align: right;\">\n",
       "      <th></th>\n",
       "      <th>Id</th>\n",
       "      <th>SepalLengthCm</th>\n",
       "      <th>SepalWidthCm</th>\n",
       "      <th>PetalLengthCm</th>\n",
       "      <th>PetalWidthCm</th>\n",
       "      <th>Species</th>\n",
       "    </tr>\n",
       "  </thead>\n",
       "  <tbody>\n",
       "    <tr>\n",
       "      <th>0</th>\n",
       "      <td>1</td>\n",
       "      <td>5.1</td>\n",
       "      <td>3.5</td>\n",
       "      <td>1.4</td>\n",
       "      <td>0.2</td>\n",
       "      <td>Iris-setosa</td>\n",
       "    </tr>\n",
       "    <tr>\n",
       "      <th>1</th>\n",
       "      <td>2</td>\n",
       "      <td>4.9</td>\n",
       "      <td>3.0</td>\n",
       "      <td>1.4</td>\n",
       "      <td>0.2</td>\n",
       "      <td>Iris-setosa</td>\n",
       "    </tr>\n",
       "    <tr>\n",
       "      <th>2</th>\n",
       "      <td>3</td>\n",
       "      <td>4.7</td>\n",
       "      <td>3.2</td>\n",
       "      <td>1.3</td>\n",
       "      <td>0.2</td>\n",
       "      <td>Iris-setosa</td>\n",
       "    </tr>\n",
       "    <tr>\n",
       "      <th>3</th>\n",
       "      <td>4</td>\n",
       "      <td>4.6</td>\n",
       "      <td>3.1</td>\n",
       "      <td>1.5</td>\n",
       "      <td>0.2</td>\n",
       "      <td>Iris-setosa</td>\n",
       "    </tr>\n",
       "    <tr>\n",
       "      <th>4</th>\n",
       "      <td>5</td>\n",
       "      <td>5.0</td>\n",
       "      <td>3.6</td>\n",
       "      <td>1.4</td>\n",
       "      <td>0.2</td>\n",
       "      <td>Iris-setosa</td>\n",
       "    </tr>\n",
       "    <tr>\n",
       "      <th>...</th>\n",
       "      <td>...</td>\n",
       "      <td>...</td>\n",
       "      <td>...</td>\n",
       "      <td>...</td>\n",
       "      <td>...</td>\n",
       "      <td>...</td>\n",
       "    </tr>\n",
       "    <tr>\n",
       "      <th>145</th>\n",
       "      <td>146</td>\n",
       "      <td>6.7</td>\n",
       "      <td>3.0</td>\n",
       "      <td>5.2</td>\n",
       "      <td>2.3</td>\n",
       "      <td>Iris-virginica</td>\n",
       "    </tr>\n",
       "    <tr>\n",
       "      <th>146</th>\n",
       "      <td>147</td>\n",
       "      <td>6.3</td>\n",
       "      <td>2.5</td>\n",
       "      <td>5.0</td>\n",
       "      <td>1.9</td>\n",
       "      <td>Iris-virginica</td>\n",
       "    </tr>\n",
       "    <tr>\n",
       "      <th>147</th>\n",
       "      <td>148</td>\n",
       "      <td>6.5</td>\n",
       "      <td>3.0</td>\n",
       "      <td>5.2</td>\n",
       "      <td>2.0</td>\n",
       "      <td>Iris-virginica</td>\n",
       "    </tr>\n",
       "    <tr>\n",
       "      <th>148</th>\n",
       "      <td>149</td>\n",
       "      <td>6.2</td>\n",
       "      <td>3.4</td>\n",
       "      <td>5.4</td>\n",
       "      <td>2.3</td>\n",
       "      <td>Iris-virginica</td>\n",
       "    </tr>\n",
       "    <tr>\n",
       "      <th>149</th>\n",
       "      <td>150</td>\n",
       "      <td>5.9</td>\n",
       "      <td>3.0</td>\n",
       "      <td>5.1</td>\n",
       "      <td>1.8</td>\n",
       "      <td>Iris-virginica</td>\n",
       "    </tr>\n",
       "  </tbody>\n",
       "</table>\n",
       "<p>150 rows × 6 columns</p>\n",
       "</div>"
      ],
      "text/plain": [
       "      Id  SepalLengthCm  SepalWidthCm  PetalLengthCm  PetalWidthCm  \\\n",
       "0      1            5.1           3.5            1.4           0.2   \n",
       "1      2            4.9           3.0            1.4           0.2   \n",
       "2      3            4.7           3.2            1.3           0.2   \n",
       "3      4            4.6           3.1            1.5           0.2   \n",
       "4      5            5.0           3.6            1.4           0.2   \n",
       "..   ...            ...           ...            ...           ...   \n",
       "145  146            6.7           3.0            5.2           2.3   \n",
       "146  147            6.3           2.5            5.0           1.9   \n",
       "147  148            6.5           3.0            5.2           2.0   \n",
       "148  149            6.2           3.4            5.4           2.3   \n",
       "149  150            5.9           3.0            5.1           1.8   \n",
       "\n",
       "            Species  \n",
       "0       Iris-setosa  \n",
       "1       Iris-setosa  \n",
       "2       Iris-setosa  \n",
       "3       Iris-setosa  \n",
       "4       Iris-setosa  \n",
       "..              ...  \n",
       "145  Iris-virginica  \n",
       "146  Iris-virginica  \n",
       "147  Iris-virginica  \n",
       "148  Iris-virginica  \n",
       "149  Iris-virginica  \n",
       "\n",
       "[150 rows x 6 columns]"
      ]
     },
     "execution_count": 30,
     "metadata": {},
     "output_type": "execute_result"
    }
   ],
   "source": [
    "df"
   ]
  },
  {
   "cell_type": "code",
   "execution_count": 31,
   "id": "06f5b76c",
   "metadata": {},
   "outputs": [
    {
     "data": {
      "text/plain": [
       "Iris-setosa        50\n",
       "Iris-versicolor    50\n",
       "Iris-virginica     50\n",
       "Name: Species, dtype: int64"
      ]
     },
     "execution_count": 31,
     "metadata": {},
     "output_type": "execute_result"
    }
   ],
   "source": [
    "df['Species'].value_counts()"
   ]
  },
  {
   "cell_type": "code",
   "execution_count": 32,
   "id": "ddca9a2f",
   "metadata": {},
   "outputs": [
    {
     "data": {
      "text/plain": [
       "((150, 4),\n",
       " (150,),\n",
       " Iris-setosa        50\n",
       " Iris-versicolor    50\n",
       " Iris-virginica     50\n",
       " Name: Species, dtype: int64)"
      ]
     },
     "execution_count": 32,
     "metadata": {},
     "output_type": "execute_result"
    }
   ],
   "source": [
    "y = df['Species']\n",
    "X = df.drop(columns=['Id', 'Species'], axis=1)\n",
    "X.shape, y.shape, df['Species'].value_counts()"
   ]
  },
  {
   "cell_type": "markdown",
   "id": "d91ec449",
   "metadata": {},
   "source": [
    "```python\n",
    "# #define predictor and response variables\n",
    "X = df[['s_length', 's_width', 'p_length', 'p_width']]\n",
    "y = df['species']\n",
    "X.shape, y.shape\n",
    "```"
   ]
  },
  {
   "cell_type": "code",
   "execution_count": 34,
   "id": "5325e934",
   "metadata": {},
   "outputs": [],
   "source": [
    "X_train, X_test, y_train, y_test = train_test_split(\n",
    "    X, y, test_size=0.2, random_state=SEED)"
   ]
  },
  {
   "cell_type": "markdown",
   "id": "eb08baa9",
   "metadata": {},
   "source": [
    "## Initialize the model"
   ]
  },
  {
   "cell_type": "code",
   "execution_count": 62,
   "id": "ea29508d",
   "metadata": {},
   "outputs": [],
   "source": [
    "lda = LinearDiscriminantAnalysis()"
   ]
  },
  {
   "cell_type": "markdown",
   "id": "0d2bc3a2",
   "metadata": {},
   "source": [
    "#### Forward selection"
   ]
  },
  {
   "cell_type": "code",
   "execution_count": 49,
   "id": "e701b091",
   "metadata": {},
   "outputs": [
    {
     "data": {
      "text/plain": [
       "(120, 4)"
      ]
     },
     "execution_count": 49,
     "metadata": {},
     "output_type": "execute_result"
    }
   ],
   "source": [
    "X_train.shape"
   ]
  },
  {
   "cell_type": "code",
   "execution_count": 50,
   "id": "f4f68e68",
   "metadata": {},
   "outputs": [
    {
     "data": {
      "text/html": [
       "<style>#sk-container-id-2 {color: black;background-color: white;}#sk-container-id-2 pre{padding: 0;}#sk-container-id-2 div.sk-toggleable {background-color: white;}#sk-container-id-2 label.sk-toggleable__label {cursor: pointer;display: block;width: 100%;margin-bottom: 0;padding: 0.3em;box-sizing: border-box;text-align: center;}#sk-container-id-2 label.sk-toggleable__label-arrow:before {content: \"▸\";float: left;margin-right: 0.25em;color: #696969;}#sk-container-id-2 label.sk-toggleable__label-arrow:hover:before {color: black;}#sk-container-id-2 div.sk-estimator:hover label.sk-toggleable__label-arrow:before {color: black;}#sk-container-id-2 div.sk-toggleable__content {max-height: 0;max-width: 0;overflow: hidden;text-align: left;background-color: #f0f8ff;}#sk-container-id-2 div.sk-toggleable__content pre {margin: 0.2em;color: black;border-radius: 0.25em;background-color: #f0f8ff;}#sk-container-id-2 input.sk-toggleable__control:checked~div.sk-toggleable__content {max-height: 200px;max-width: 100%;overflow: auto;}#sk-container-id-2 input.sk-toggleable__control:checked~label.sk-toggleable__label-arrow:before {content: \"▾\";}#sk-container-id-2 div.sk-estimator input.sk-toggleable__control:checked~label.sk-toggleable__label {background-color: #d4ebff;}#sk-container-id-2 div.sk-label input.sk-toggleable__control:checked~label.sk-toggleable__label {background-color: #d4ebff;}#sk-container-id-2 input.sk-hidden--visually {border: 0;clip: rect(1px 1px 1px 1px);clip: rect(1px, 1px, 1px, 1px);height: 1px;margin: -1px;overflow: hidden;padding: 0;position: absolute;width: 1px;}#sk-container-id-2 div.sk-estimator {font-family: monospace;background-color: #f0f8ff;border: 1px dotted black;border-radius: 0.25em;box-sizing: border-box;margin-bottom: 0.5em;}#sk-container-id-2 div.sk-estimator:hover {background-color: #d4ebff;}#sk-container-id-2 div.sk-parallel-item::after {content: \"\";width: 100%;border-bottom: 1px solid gray;flex-grow: 1;}#sk-container-id-2 div.sk-label:hover label.sk-toggleable__label {background-color: #d4ebff;}#sk-container-id-2 div.sk-serial::before {content: \"\";position: absolute;border-left: 1px solid gray;box-sizing: border-box;top: 0;bottom: 0;left: 50%;z-index: 0;}#sk-container-id-2 div.sk-serial {display: flex;flex-direction: column;align-items: center;background-color: white;padding-right: 0.2em;padding-left: 0.2em;position: relative;}#sk-container-id-2 div.sk-item {position: relative;z-index: 1;}#sk-container-id-2 div.sk-parallel {display: flex;align-items: stretch;justify-content: center;background-color: white;position: relative;}#sk-container-id-2 div.sk-item::before, #sk-container-id-2 div.sk-parallel-item::before {content: \"\";position: absolute;border-left: 1px solid gray;box-sizing: border-box;top: 0;bottom: 0;left: 50%;z-index: -1;}#sk-container-id-2 div.sk-parallel-item {display: flex;flex-direction: column;z-index: 1;position: relative;background-color: white;}#sk-container-id-2 div.sk-parallel-item:first-child::after {align-self: flex-end;width: 50%;}#sk-container-id-2 div.sk-parallel-item:last-child::after {align-self: flex-start;width: 50%;}#sk-container-id-2 div.sk-parallel-item:only-child::after {width: 0;}#sk-container-id-2 div.sk-dashed-wrapped {border: 1px dashed gray;margin: 0 0.4em 0.5em 0.4em;box-sizing: border-box;padding-bottom: 0.4em;background-color: white;}#sk-container-id-2 div.sk-label label {font-family: monospace;font-weight: bold;display: inline-block;line-height: 1.2em;}#sk-container-id-2 div.sk-label-container {text-align: center;}#sk-container-id-2 div.sk-container {/* jupyter's `normalize.less` sets `[hidden] { display: none; }` but bootstrap.min.css set `[hidden] { display: none !important; }` so we also need the `!important` here to be able to override the default hidden behavior on the sphinx rendered scikit-learn.org. See: https://github.com/scikit-learn/scikit-learn/issues/21755 */display: inline-block !important;position: relative;}#sk-container-id-2 div.sk-text-repr-fallback {display: none;}</style><div id=\"sk-container-id-2\" class=\"sk-top-container\"><div class=\"sk-text-repr-fallback\"><pre>SequentialFeatureSelector(cv=10, estimator=LinearDiscriminantAnalysis(),\n",
       "                          n_features_to_select=2, n_jobs=8)</pre><b>In a Jupyter environment, please rerun this cell to show the HTML representation or trust the notebook. <br />On GitHub, the HTML representation is unable to render, please try loading this page with nbviewer.org.</b></div><div class=\"sk-container\" hidden><div class=\"sk-item sk-dashed-wrapped\"><div class=\"sk-label-container\"><div class=\"sk-label sk-toggleable\"><input class=\"sk-toggleable__control sk-hidden--visually\" id=\"sk-estimator-id-4\" type=\"checkbox\" ><label for=\"sk-estimator-id-4\" class=\"sk-toggleable__label sk-toggleable__label-arrow\">SequentialFeatureSelector</label><div class=\"sk-toggleable__content\"><pre>SequentialFeatureSelector(cv=10, estimator=LinearDiscriminantAnalysis(),\n",
       "                          n_features_to_select=2, n_jobs=8)</pre></div></div></div><div class=\"sk-parallel\"><div class=\"sk-parallel-item\"><div class=\"sk-item\"><div class=\"sk-label-container\"><div class=\"sk-label sk-toggleable\"><input class=\"sk-toggleable__control sk-hidden--visually\" id=\"sk-estimator-id-5\" type=\"checkbox\" ><label for=\"sk-estimator-id-5\" class=\"sk-toggleable__label sk-toggleable__label-arrow\">estimator: LinearDiscriminantAnalysis</label><div class=\"sk-toggleable__content\"><pre>LinearDiscriminantAnalysis()</pre></div></div></div><div class=\"sk-serial\"><div class=\"sk-item\"><div class=\"sk-estimator sk-toggleable\"><input class=\"sk-toggleable__control sk-hidden--visually\" id=\"sk-estimator-id-6\" type=\"checkbox\" ><label for=\"sk-estimator-id-6\" class=\"sk-toggleable__label sk-toggleable__label-arrow\">LinearDiscriminantAnalysis</label><div class=\"sk-toggleable__content\"><pre>LinearDiscriminantAnalysis()</pre></div></div></div></div></div></div></div></div></div></div>"
      ],
      "text/plain": [
       "SequentialFeatureSelector(cv=10, estimator=LinearDiscriminantAnalysis(),\n",
       "                          n_features_to_select=2, n_jobs=8)"
      ]
     },
     "execution_count": 50,
     "metadata": {},
     "output_type": "execute_result"
    }
   ],
   "source": [
    "sfs_forward = SFS(lda, \n",
    "                  n_features_to_select=2, \n",
    "                  direction='forward',\n",
    "                  cv=10,\n",
    "                  n_jobs=workers)\n",
    "\n",
    "sfs_forward = sfs_forward.fit(X_train, y_train)\n",
    "sfs_forward"
   ]
  },
  {
   "cell_type": "code",
   "execution_count": 53,
   "id": "274ed0e1",
   "metadata": {},
   "outputs": [
    {
     "data": {
      "text/plain": [
       "(120, 2)"
      ]
     },
     "execution_count": 53,
     "metadata": {},
     "output_type": "execute_result"
    }
   ],
   "source": [
    "X_train_fw = sfs_forward.transform(X_train)\n",
    "X_test_fw = sfs_forward.transform(X_test)\n",
    "X_train_fw.shape"
   ]
  },
  {
   "cell_type": "code",
   "execution_count": 54,
   "id": "0838ef6d",
   "metadata": {},
   "outputs": [],
   "source": [
    "lda_fw = LinearDiscriminantAnalysis()"
   ]
  },
  {
   "cell_type": "code",
   "execution_count": 56,
   "id": "e7344ad8",
   "metadata": {},
   "outputs": [],
   "source": [
    "lda_fw = lda_fw.fit(X_train_fw, y_train)"
   ]
  },
  {
   "cell_type": "code",
   "execution_count": 58,
   "id": "e62ca028",
   "metadata": {},
   "outputs": [],
   "source": [
    "y_pred_fw = lda_fw.predict(X_test_fw)"
   ]
  },
  {
   "cell_type": "code",
   "execution_count": 61,
   "id": "5f12cc46",
   "metadata": {},
   "outputs": [
    {
     "name": "stdout",
     "output_type": "stream",
     "text": [
      "                 precision    recall  f1-score   support\n",
      "\n",
      "    Iris-setosa       1.00      1.00      1.00         9\n",
      "Iris-versicolor       0.80      1.00      0.89         8\n",
      " Iris-virginica       1.00      0.85      0.92        13\n",
      "\n",
      "       accuracy                           0.93        30\n",
      "      macro avg       0.93      0.95      0.94        30\n",
      "   weighted avg       0.95      0.93      0.93        30\n",
      "\n"
     ]
    }
   ],
   "source": [
    "cr = classification_report(y_test, y_pred_fw)\n",
    "print(cr)"
   ]
  },
  {
   "cell_type": "markdown",
   "id": "c0678059",
   "metadata": {},
   "source": [
    "#### Backward selection\\"
   ]
  },
  {
   "cell_type": "code",
   "execution_count": 63,
   "id": "09513374",
   "metadata": {},
   "outputs": [],
   "source": [
    "lda = LinearDiscriminantAnalysis()"
   ]
  },
  {
   "cell_type": "code",
   "execution_count": 64,
   "id": "c1382e90",
   "metadata": {},
   "outputs": [
    {
     "data": {
      "text/plain": [
       "(120, 4)"
      ]
     },
     "execution_count": 64,
     "metadata": {},
     "output_type": "execute_result"
    }
   ],
   "source": [
    "X_train.shape"
   ]
  },
  {
   "cell_type": "code",
   "execution_count": 72,
   "id": "d9fdc76d",
   "metadata": {},
   "outputs": [
    {
     "data": {
      "text/html": [
       "<style>#sk-container-id-5 {color: black;background-color: white;}#sk-container-id-5 pre{padding: 0;}#sk-container-id-5 div.sk-toggleable {background-color: white;}#sk-container-id-5 label.sk-toggleable__label {cursor: pointer;display: block;width: 100%;margin-bottom: 0;padding: 0.3em;box-sizing: border-box;text-align: center;}#sk-container-id-5 label.sk-toggleable__label-arrow:before {content: \"▸\";float: left;margin-right: 0.25em;color: #696969;}#sk-container-id-5 label.sk-toggleable__label-arrow:hover:before {color: black;}#sk-container-id-5 div.sk-estimator:hover label.sk-toggleable__label-arrow:before {color: black;}#sk-container-id-5 div.sk-toggleable__content {max-height: 0;max-width: 0;overflow: hidden;text-align: left;background-color: #f0f8ff;}#sk-container-id-5 div.sk-toggleable__content pre {margin: 0.2em;color: black;border-radius: 0.25em;background-color: #f0f8ff;}#sk-container-id-5 input.sk-toggleable__control:checked~div.sk-toggleable__content {max-height: 200px;max-width: 100%;overflow: auto;}#sk-container-id-5 input.sk-toggleable__control:checked~label.sk-toggleable__label-arrow:before {content: \"▾\";}#sk-container-id-5 div.sk-estimator input.sk-toggleable__control:checked~label.sk-toggleable__label {background-color: #d4ebff;}#sk-container-id-5 div.sk-label input.sk-toggleable__control:checked~label.sk-toggleable__label {background-color: #d4ebff;}#sk-container-id-5 input.sk-hidden--visually {border: 0;clip: rect(1px 1px 1px 1px);clip: rect(1px, 1px, 1px, 1px);height: 1px;margin: -1px;overflow: hidden;padding: 0;position: absolute;width: 1px;}#sk-container-id-5 div.sk-estimator {font-family: monospace;background-color: #f0f8ff;border: 1px dotted black;border-radius: 0.25em;box-sizing: border-box;margin-bottom: 0.5em;}#sk-container-id-5 div.sk-estimator:hover {background-color: #d4ebff;}#sk-container-id-5 div.sk-parallel-item::after {content: \"\";width: 100%;border-bottom: 1px solid gray;flex-grow: 1;}#sk-container-id-5 div.sk-label:hover label.sk-toggleable__label {background-color: #d4ebff;}#sk-container-id-5 div.sk-serial::before {content: \"\";position: absolute;border-left: 1px solid gray;box-sizing: border-box;top: 0;bottom: 0;left: 50%;z-index: 0;}#sk-container-id-5 div.sk-serial {display: flex;flex-direction: column;align-items: center;background-color: white;padding-right: 0.2em;padding-left: 0.2em;position: relative;}#sk-container-id-5 div.sk-item {position: relative;z-index: 1;}#sk-container-id-5 div.sk-parallel {display: flex;align-items: stretch;justify-content: center;background-color: white;position: relative;}#sk-container-id-5 div.sk-item::before, #sk-container-id-5 div.sk-parallel-item::before {content: \"\";position: absolute;border-left: 1px solid gray;box-sizing: border-box;top: 0;bottom: 0;left: 50%;z-index: -1;}#sk-container-id-5 div.sk-parallel-item {display: flex;flex-direction: column;z-index: 1;position: relative;background-color: white;}#sk-container-id-5 div.sk-parallel-item:first-child::after {align-self: flex-end;width: 50%;}#sk-container-id-5 div.sk-parallel-item:last-child::after {align-self: flex-start;width: 50%;}#sk-container-id-5 div.sk-parallel-item:only-child::after {width: 0;}#sk-container-id-5 div.sk-dashed-wrapped {border: 1px dashed gray;margin: 0 0.4em 0.5em 0.4em;box-sizing: border-box;padding-bottom: 0.4em;background-color: white;}#sk-container-id-5 div.sk-label label {font-family: monospace;font-weight: bold;display: inline-block;line-height: 1.2em;}#sk-container-id-5 div.sk-label-container {text-align: center;}#sk-container-id-5 div.sk-container {/* jupyter's `normalize.less` sets `[hidden] { display: none; }` but bootstrap.min.css set `[hidden] { display: none !important; }` so we also need the `!important` here to be able to override the default hidden behavior on the sphinx rendered scikit-learn.org. See: https://github.com/scikit-learn/scikit-learn/issues/21755 */display: inline-block !important;position: relative;}#sk-container-id-5 div.sk-text-repr-fallback {display: none;}</style><div id=\"sk-container-id-5\" class=\"sk-top-container\"><div class=\"sk-text-repr-fallback\"><pre>SequentialFeatureSelector(cv=10, direction=&#x27;backward&#x27;,\n",
       "                          estimator=LinearDiscriminantAnalysis(),\n",
       "                          n_features_to_select=2, n_jobs=8)</pre><b>In a Jupyter environment, please rerun this cell to show the HTML representation or trust the notebook. <br />On GitHub, the HTML representation is unable to render, please try loading this page with nbviewer.org.</b></div><div class=\"sk-container\" hidden><div class=\"sk-item sk-dashed-wrapped\"><div class=\"sk-label-container\"><div class=\"sk-label sk-toggleable\"><input class=\"sk-toggleable__control sk-hidden--visually\" id=\"sk-estimator-id-11\" type=\"checkbox\" ><label for=\"sk-estimator-id-11\" class=\"sk-toggleable__label sk-toggleable__label-arrow\">SequentialFeatureSelector</label><div class=\"sk-toggleable__content\"><pre>SequentialFeatureSelector(cv=10, direction=&#x27;backward&#x27;,\n",
       "                          estimator=LinearDiscriminantAnalysis(),\n",
       "                          n_features_to_select=2, n_jobs=8)</pre></div></div></div><div class=\"sk-parallel\"><div class=\"sk-parallel-item\"><div class=\"sk-item\"><div class=\"sk-label-container\"><div class=\"sk-label sk-toggleable\"><input class=\"sk-toggleable__control sk-hidden--visually\" id=\"sk-estimator-id-12\" type=\"checkbox\" ><label for=\"sk-estimator-id-12\" class=\"sk-toggleable__label sk-toggleable__label-arrow\">estimator: LinearDiscriminantAnalysis</label><div class=\"sk-toggleable__content\"><pre>LinearDiscriminantAnalysis()</pre></div></div></div><div class=\"sk-serial\"><div class=\"sk-item\"><div class=\"sk-estimator sk-toggleable\"><input class=\"sk-toggleable__control sk-hidden--visually\" id=\"sk-estimator-id-13\" type=\"checkbox\" ><label for=\"sk-estimator-id-13\" class=\"sk-toggleable__label sk-toggleable__label-arrow\">LinearDiscriminantAnalysis</label><div class=\"sk-toggleable__content\"><pre>LinearDiscriminantAnalysis()</pre></div></div></div></div></div></div></div></div></div></div>"
      ],
      "text/plain": [
       "SequentialFeatureSelector(cv=10, direction='backward',\n",
       "                          estimator=LinearDiscriminantAnalysis(),\n",
       "                          n_features_to_select=2, n_jobs=8)"
      ]
     },
     "execution_count": 72,
     "metadata": {},
     "output_type": "execute_result"
    }
   ],
   "source": [
    "sfs_forward = SFS(lda, \n",
    "                  n_features_to_select=2, \n",
    "                  direction='backward',\n",
    "                  cv=10,\n",
    "                  n_jobs=workers)\n",
    "\n",
    "sfs_forward = sfs_forward.fit(X_train, y_train)\n",
    "sfs_forward"
   ]
  },
  {
   "cell_type": "code",
   "execution_count": 73,
   "id": "f6df7b3f",
   "metadata": {},
   "outputs": [
    {
     "data": {
      "text/plain": [
       "(120, 2)"
      ]
     },
     "execution_count": 73,
     "metadata": {},
     "output_type": "execute_result"
    }
   ],
   "source": [
    "X_train_bw = sfs_forward.transform(X_train)\n",
    "X_test_bw = sfs_forward.transform(X_test)\n",
    "X_train_bw.shape"
   ]
  },
  {
   "cell_type": "code",
   "execution_count": 74,
   "id": "777f91a8",
   "metadata": {},
   "outputs": [],
   "source": [
    "lda_bw = LinearDiscriminantAnalysis()"
   ]
  },
  {
   "cell_type": "code",
   "execution_count": 75,
   "id": "048f03b7",
   "metadata": {},
   "outputs": [],
   "source": [
    "lda_bw = lda_fw.fit(X_train_bw, y_train)"
   ]
  },
  {
   "cell_type": "code",
   "execution_count": 76,
   "id": "4d7fd851",
   "metadata": {},
   "outputs": [],
   "source": [
    "y_pred_bw = lda_fw.predict(X_test_bw)"
   ]
  },
  {
   "cell_type": "code",
   "execution_count": 77,
   "id": "311d0253",
   "metadata": {
    "scrolled": true
   },
   "outputs": [
    {
     "name": "stdout",
     "output_type": "stream",
     "text": [
      "                 precision    recall  f1-score   support\n",
      "\n",
      "    Iris-setosa       1.00      1.00      1.00         9\n",
      "Iris-versicolor       0.80      1.00      0.89         8\n",
      " Iris-virginica       1.00      0.85      0.92        13\n",
      "\n",
      "       accuracy                           0.93        30\n",
      "      macro avg       0.93      0.95      0.94        30\n",
      "   weighted avg       0.95      0.93      0.93        30\n",
      "\n"
     ]
    }
   ],
   "source": [
    "cr = classification_report(y_test, y_pred_bw)\n",
    "print(cr)"
   ]
  },
  {
   "cell_type": "markdown",
   "id": "96eafea9",
   "metadata": {},
   "source": [
    "## Ridge and Lasso regression"
   ]
  },
  {
   "cell_type": "code",
   "execution_count": 81,
   "id": "5ace429c",
   "metadata": {},
   "outputs": [],
   "source": [
    "pertol_consumption_path = LR_PATH / 'petrol_consumption.csv'"
   ]
  },
  {
   "cell_type": "code",
   "execution_count": 82,
   "id": "ab6c7d0c",
   "metadata": {},
   "outputs": [
    {
     "data": {
      "text/html": [
       "<div>\n",
       "<style scoped>\n",
       "    .dataframe tbody tr th:only-of-type {\n",
       "        vertical-align: middle;\n",
       "    }\n",
       "\n",
       "    .dataframe tbody tr th {\n",
       "        vertical-align: top;\n",
       "    }\n",
       "\n",
       "    .dataframe thead th {\n",
       "        text-align: right;\n",
       "    }\n",
       "</style>\n",
       "<table border=\"1\" class=\"dataframe\">\n",
       "  <thead>\n",
       "    <tr style=\"text-align: right;\">\n",
       "      <th></th>\n",
       "      <th>Petrol_tax</th>\n",
       "      <th>Average_income</th>\n",
       "      <th>Paved_Highways</th>\n",
       "      <th>Population_Driver_licence(%)</th>\n",
       "      <th>Petrol_Consumption</th>\n",
       "    </tr>\n",
       "  </thead>\n",
       "  <tbody>\n",
       "    <tr>\n",
       "      <th>0</th>\n",
       "      <td>9.00</td>\n",
       "      <td>3571</td>\n",
       "      <td>1976</td>\n",
       "      <td>0.525</td>\n",
       "      <td>541</td>\n",
       "    </tr>\n",
       "    <tr>\n",
       "      <th>1</th>\n",
       "      <td>9.00</td>\n",
       "      <td>4092</td>\n",
       "      <td>1250</td>\n",
       "      <td>0.572</td>\n",
       "      <td>524</td>\n",
       "    </tr>\n",
       "    <tr>\n",
       "      <th>2</th>\n",
       "      <td>9.00</td>\n",
       "      <td>3865</td>\n",
       "      <td>1586</td>\n",
       "      <td>0.580</td>\n",
       "      <td>561</td>\n",
       "    </tr>\n",
       "    <tr>\n",
       "      <th>3</th>\n",
       "      <td>7.50</td>\n",
       "      <td>4870</td>\n",
       "      <td>2351</td>\n",
       "      <td>0.529</td>\n",
       "      <td>414</td>\n",
       "    </tr>\n",
       "    <tr>\n",
       "      <th>4</th>\n",
       "      <td>8.00</td>\n",
       "      <td>4399</td>\n",
       "      <td>431</td>\n",
       "      <td>0.544</td>\n",
       "      <td>410</td>\n",
       "    </tr>\n",
       "    <tr>\n",
       "      <th>5</th>\n",
       "      <td>10.00</td>\n",
       "      <td>5342</td>\n",
       "      <td>1333</td>\n",
       "      <td>0.571</td>\n",
       "      <td>457</td>\n",
       "    </tr>\n",
       "    <tr>\n",
       "      <th>6</th>\n",
       "      <td>8.00</td>\n",
       "      <td>5319</td>\n",
       "      <td>11868</td>\n",
       "      <td>0.451</td>\n",
       "      <td>344</td>\n",
       "    </tr>\n",
       "    <tr>\n",
       "      <th>7</th>\n",
       "      <td>8.00</td>\n",
       "      <td>5126</td>\n",
       "      <td>2138</td>\n",
       "      <td>0.553</td>\n",
       "      <td>467</td>\n",
       "    </tr>\n",
       "    <tr>\n",
       "      <th>8</th>\n",
       "      <td>8.00</td>\n",
       "      <td>4447</td>\n",
       "      <td>8577</td>\n",
       "      <td>0.529</td>\n",
       "      <td>464</td>\n",
       "    </tr>\n",
       "    <tr>\n",
       "      <th>9</th>\n",
       "      <td>7.00</td>\n",
       "      <td>4512</td>\n",
       "      <td>8507</td>\n",
       "      <td>0.552</td>\n",
       "      <td>498</td>\n",
       "    </tr>\n",
       "    <tr>\n",
       "      <th>10</th>\n",
       "      <td>8.00</td>\n",
       "      <td>4391</td>\n",
       "      <td>5939</td>\n",
       "      <td>0.530</td>\n",
       "      <td>580</td>\n",
       "    </tr>\n",
       "    <tr>\n",
       "      <th>11</th>\n",
       "      <td>7.50</td>\n",
       "      <td>5126</td>\n",
       "      <td>14186</td>\n",
       "      <td>0.525</td>\n",
       "      <td>471</td>\n",
       "    </tr>\n",
       "    <tr>\n",
       "      <th>12</th>\n",
       "      <td>7.00</td>\n",
       "      <td>4817</td>\n",
       "      <td>6930</td>\n",
       "      <td>0.574</td>\n",
       "      <td>525</td>\n",
       "    </tr>\n",
       "    <tr>\n",
       "      <th>13</th>\n",
       "      <td>7.00</td>\n",
       "      <td>4207</td>\n",
       "      <td>6580</td>\n",
       "      <td>0.545</td>\n",
       "      <td>508</td>\n",
       "    </tr>\n",
       "    <tr>\n",
       "      <th>14</th>\n",
       "      <td>7.00</td>\n",
       "      <td>4332</td>\n",
       "      <td>8159</td>\n",
       "      <td>0.608</td>\n",
       "      <td>566</td>\n",
       "    </tr>\n",
       "    <tr>\n",
       "      <th>15</th>\n",
       "      <td>7.00</td>\n",
       "      <td>4318</td>\n",
       "      <td>10340</td>\n",
       "      <td>0.586</td>\n",
       "      <td>635</td>\n",
       "    </tr>\n",
       "    <tr>\n",
       "      <th>16</th>\n",
       "      <td>7.00</td>\n",
       "      <td>4206</td>\n",
       "      <td>8508</td>\n",
       "      <td>0.572</td>\n",
       "      <td>603</td>\n",
       "    </tr>\n",
       "    <tr>\n",
       "      <th>17</th>\n",
       "      <td>7.00</td>\n",
       "      <td>3718</td>\n",
       "      <td>4725</td>\n",
       "      <td>0.540</td>\n",
       "      <td>714</td>\n",
       "    </tr>\n",
       "    <tr>\n",
       "      <th>18</th>\n",
       "      <td>7.00</td>\n",
       "      <td>4716</td>\n",
       "      <td>5915</td>\n",
       "      <td>0.724</td>\n",
       "      <td>865</td>\n",
       "    </tr>\n",
       "    <tr>\n",
       "      <th>19</th>\n",
       "      <td>8.50</td>\n",
       "      <td>4341</td>\n",
       "      <td>6010</td>\n",
       "      <td>0.677</td>\n",
       "      <td>640</td>\n",
       "    </tr>\n",
       "    <tr>\n",
       "      <th>20</th>\n",
       "      <td>7.00</td>\n",
       "      <td>4593</td>\n",
       "      <td>7834</td>\n",
       "      <td>0.663</td>\n",
       "      <td>649</td>\n",
       "    </tr>\n",
       "    <tr>\n",
       "      <th>21</th>\n",
       "      <td>8.00</td>\n",
       "      <td>4983</td>\n",
       "      <td>602</td>\n",
       "      <td>0.602</td>\n",
       "      <td>540</td>\n",
       "    </tr>\n",
       "    <tr>\n",
       "      <th>22</th>\n",
       "      <td>9.00</td>\n",
       "      <td>4897</td>\n",
       "      <td>2449</td>\n",
       "      <td>0.511</td>\n",
       "      <td>464</td>\n",
       "    </tr>\n",
       "    <tr>\n",
       "      <th>23</th>\n",
       "      <td>9.00</td>\n",
       "      <td>4258</td>\n",
       "      <td>4686</td>\n",
       "      <td>0.517</td>\n",
       "      <td>547</td>\n",
       "    </tr>\n",
       "    <tr>\n",
       "      <th>24</th>\n",
       "      <td>8.50</td>\n",
       "      <td>4574</td>\n",
       "      <td>2619</td>\n",
       "      <td>0.551</td>\n",
       "      <td>460</td>\n",
       "    </tr>\n",
       "    <tr>\n",
       "      <th>25</th>\n",
       "      <td>9.00</td>\n",
       "      <td>3721</td>\n",
       "      <td>4746</td>\n",
       "      <td>0.544</td>\n",
       "      <td>566</td>\n",
       "    </tr>\n",
       "    <tr>\n",
       "      <th>26</th>\n",
       "      <td>8.00</td>\n",
       "      <td>3448</td>\n",
       "      <td>5399</td>\n",
       "      <td>0.548</td>\n",
       "      <td>577</td>\n",
       "    </tr>\n",
       "    <tr>\n",
       "      <th>27</th>\n",
       "      <td>7.50</td>\n",
       "      <td>3846</td>\n",
       "      <td>9061</td>\n",
       "      <td>0.579</td>\n",
       "      <td>631</td>\n",
       "    </tr>\n",
       "    <tr>\n",
       "      <th>28</th>\n",
       "      <td>8.00</td>\n",
       "      <td>4188</td>\n",
       "      <td>5975</td>\n",
       "      <td>0.563</td>\n",
       "      <td>574</td>\n",
       "    </tr>\n",
       "    <tr>\n",
       "      <th>29</th>\n",
       "      <td>9.00</td>\n",
       "      <td>3601</td>\n",
       "      <td>4650</td>\n",
       "      <td>0.493</td>\n",
       "      <td>534</td>\n",
       "    </tr>\n",
       "    <tr>\n",
       "      <th>30</th>\n",
       "      <td>7.00</td>\n",
       "      <td>3640</td>\n",
       "      <td>6905</td>\n",
       "      <td>0.518</td>\n",
       "      <td>571</td>\n",
       "    </tr>\n",
       "    <tr>\n",
       "      <th>31</th>\n",
       "      <td>7.00</td>\n",
       "      <td>3333</td>\n",
       "      <td>6594</td>\n",
       "      <td>0.513</td>\n",
       "      <td>554</td>\n",
       "    </tr>\n",
       "    <tr>\n",
       "      <th>32</th>\n",
       "      <td>8.00</td>\n",
       "      <td>3063</td>\n",
       "      <td>6524</td>\n",
       "      <td>0.578</td>\n",
       "      <td>577</td>\n",
       "    </tr>\n",
       "    <tr>\n",
       "      <th>33</th>\n",
       "      <td>7.50</td>\n",
       "      <td>3357</td>\n",
       "      <td>4121</td>\n",
       "      <td>0.547</td>\n",
       "      <td>628</td>\n",
       "    </tr>\n",
       "    <tr>\n",
       "      <th>34</th>\n",
       "      <td>8.00</td>\n",
       "      <td>3528</td>\n",
       "      <td>3495</td>\n",
       "      <td>0.487</td>\n",
       "      <td>487</td>\n",
       "    </tr>\n",
       "    <tr>\n",
       "      <th>35</th>\n",
       "      <td>6.58</td>\n",
       "      <td>3802</td>\n",
       "      <td>7834</td>\n",
       "      <td>0.629</td>\n",
       "      <td>644</td>\n",
       "    </tr>\n",
       "    <tr>\n",
       "      <th>36</th>\n",
       "      <td>5.00</td>\n",
       "      <td>4045</td>\n",
       "      <td>17782</td>\n",
       "      <td>0.566</td>\n",
       "      <td>640</td>\n",
       "    </tr>\n",
       "    <tr>\n",
       "      <th>37</th>\n",
       "      <td>7.00</td>\n",
       "      <td>3897</td>\n",
       "      <td>6385</td>\n",
       "      <td>0.586</td>\n",
       "      <td>704</td>\n",
       "    </tr>\n",
       "    <tr>\n",
       "      <th>38</th>\n",
       "      <td>8.50</td>\n",
       "      <td>3635</td>\n",
       "      <td>3274</td>\n",
       "      <td>0.663</td>\n",
       "      <td>648</td>\n",
       "    </tr>\n",
       "    <tr>\n",
       "      <th>39</th>\n",
       "      <td>7.00</td>\n",
       "      <td>4345</td>\n",
       "      <td>3905</td>\n",
       "      <td>0.672</td>\n",
       "      <td>968</td>\n",
       "    </tr>\n",
       "    <tr>\n",
       "      <th>40</th>\n",
       "      <td>7.00</td>\n",
       "      <td>4449</td>\n",
       "      <td>4639</td>\n",
       "      <td>0.626</td>\n",
       "      <td>587</td>\n",
       "    </tr>\n",
       "    <tr>\n",
       "      <th>41</th>\n",
       "      <td>7.00</td>\n",
       "      <td>3656</td>\n",
       "      <td>3985</td>\n",
       "      <td>0.563</td>\n",
       "      <td>699</td>\n",
       "    </tr>\n",
       "    <tr>\n",
       "      <th>42</th>\n",
       "      <td>7.00</td>\n",
       "      <td>4300</td>\n",
       "      <td>3635</td>\n",
       "      <td>0.603</td>\n",
       "      <td>632</td>\n",
       "    </tr>\n",
       "    <tr>\n",
       "      <th>43</th>\n",
       "      <td>7.00</td>\n",
       "      <td>3745</td>\n",
       "      <td>2611</td>\n",
       "      <td>0.508</td>\n",
       "      <td>591</td>\n",
       "    </tr>\n",
       "    <tr>\n",
       "      <th>44</th>\n",
       "      <td>6.00</td>\n",
       "      <td>5215</td>\n",
       "      <td>2302</td>\n",
       "      <td>0.672</td>\n",
       "      <td>782</td>\n",
       "    </tr>\n",
       "    <tr>\n",
       "      <th>45</th>\n",
       "      <td>9.00</td>\n",
       "      <td>4476</td>\n",
       "      <td>3942</td>\n",
       "      <td>0.571</td>\n",
       "      <td>510</td>\n",
       "    </tr>\n",
       "    <tr>\n",
       "      <th>46</th>\n",
       "      <td>7.00</td>\n",
       "      <td>4296</td>\n",
       "      <td>4083</td>\n",
       "      <td>0.623</td>\n",
       "      <td>610</td>\n",
       "    </tr>\n",
       "    <tr>\n",
       "      <th>47</th>\n",
       "      <td>7.00</td>\n",
       "      <td>5002</td>\n",
       "      <td>9794</td>\n",
       "      <td>0.593</td>\n",
       "      <td>524</td>\n",
       "    </tr>\n",
       "  </tbody>\n",
       "</table>\n",
       "</div>"
      ],
      "text/plain": [
       "    Petrol_tax  Average_income  Paved_Highways  Population_Driver_licence(%)  \\\n",
       "0         9.00            3571            1976                         0.525   \n",
       "1         9.00            4092            1250                         0.572   \n",
       "2         9.00            3865            1586                         0.580   \n",
       "3         7.50            4870            2351                         0.529   \n",
       "4         8.00            4399             431                         0.544   \n",
       "5        10.00            5342            1333                         0.571   \n",
       "6         8.00            5319           11868                         0.451   \n",
       "7         8.00            5126            2138                         0.553   \n",
       "8         8.00            4447            8577                         0.529   \n",
       "9         7.00            4512            8507                         0.552   \n",
       "10        8.00            4391            5939                         0.530   \n",
       "11        7.50            5126           14186                         0.525   \n",
       "12        7.00            4817            6930                         0.574   \n",
       "13        7.00            4207            6580                         0.545   \n",
       "14        7.00            4332            8159                         0.608   \n",
       "15        7.00            4318           10340                         0.586   \n",
       "16        7.00            4206            8508                         0.572   \n",
       "17        7.00            3718            4725                         0.540   \n",
       "18        7.00            4716            5915                         0.724   \n",
       "19        8.50            4341            6010                         0.677   \n",
       "20        7.00            4593            7834                         0.663   \n",
       "21        8.00            4983             602                         0.602   \n",
       "22        9.00            4897            2449                         0.511   \n",
       "23        9.00            4258            4686                         0.517   \n",
       "24        8.50            4574            2619                         0.551   \n",
       "25        9.00            3721            4746                         0.544   \n",
       "26        8.00            3448            5399                         0.548   \n",
       "27        7.50            3846            9061                         0.579   \n",
       "28        8.00            4188            5975                         0.563   \n",
       "29        9.00            3601            4650                         0.493   \n",
       "30        7.00            3640            6905                         0.518   \n",
       "31        7.00            3333            6594                         0.513   \n",
       "32        8.00            3063            6524                         0.578   \n",
       "33        7.50            3357            4121                         0.547   \n",
       "34        8.00            3528            3495                         0.487   \n",
       "35        6.58            3802            7834                         0.629   \n",
       "36        5.00            4045           17782                         0.566   \n",
       "37        7.00            3897            6385                         0.586   \n",
       "38        8.50            3635            3274                         0.663   \n",
       "39        7.00            4345            3905                         0.672   \n",
       "40        7.00            4449            4639                         0.626   \n",
       "41        7.00            3656            3985                         0.563   \n",
       "42        7.00            4300            3635                         0.603   \n",
       "43        7.00            3745            2611                         0.508   \n",
       "44        6.00            5215            2302                         0.672   \n",
       "45        9.00            4476            3942                         0.571   \n",
       "46        7.00            4296            4083                         0.623   \n",
       "47        7.00            5002            9794                         0.593   \n",
       "\n",
       "    Petrol_Consumption  \n",
       "0                  541  \n",
       "1                  524  \n",
       "2                  561  \n",
       "3                  414  \n",
       "4                  410  \n",
       "5                  457  \n",
       "6                  344  \n",
       "7                  467  \n",
       "8                  464  \n",
       "9                  498  \n",
       "10                 580  \n",
       "11                 471  \n",
       "12                 525  \n",
       "13                 508  \n",
       "14                 566  \n",
       "15                 635  \n",
       "16                 603  \n",
       "17                 714  \n",
       "18                 865  \n",
       "19                 640  \n",
       "20                 649  \n",
       "21                 540  \n",
       "22                 464  \n",
       "23                 547  \n",
       "24                 460  \n",
       "25                 566  \n",
       "26                 577  \n",
       "27                 631  \n",
       "28                 574  \n",
       "29                 534  \n",
       "30                 571  \n",
       "31                 554  \n",
       "32                 577  \n",
       "33                 628  \n",
       "34                 487  \n",
       "35                 644  \n",
       "36                 640  \n",
       "37                 704  \n",
       "38                 648  \n",
       "39                 968  \n",
       "40                 587  \n",
       "41                 699  \n",
       "42                 632  \n",
       "43                 591  \n",
       "44                 782  \n",
       "45                 510  \n",
       "46                 610  \n",
       "47                 524  "
      ]
     },
     "execution_count": 82,
     "metadata": {},
     "output_type": "execute_result"
    }
   ],
   "source": [
    "df = pd.read_csv(pertol_consumption_path)\n",
    "df"
   ]
  },
  {
   "cell_type": "code",
   "execution_count": 84,
   "id": "4fed031a",
   "metadata": {},
   "outputs": [
    {
     "data": {
      "text/plain": [
       "(48, 5)"
      ]
     },
     "execution_count": 84,
     "metadata": {},
     "output_type": "execute_result"
    }
   ],
   "source": [
    "df.shape"
   ]
  },
  {
   "cell_type": "code",
   "execution_count": 85,
   "id": "e2b2a8f9",
   "metadata": {},
   "outputs": [
    {
     "name": "stdout",
     "output_type": "stream",
     "text": [
      "                              count     mean      std      min      25%  \\\n",
      "Petrol_tax                     48.0     7.67     0.95     5.00     7.00   \n",
      "Average_income                 48.0  4241.83   573.62  3063.00  3739.00   \n",
      "Paved_Highways                 48.0  5565.42  3491.51   431.00  3110.25   \n",
      "Population_Driver_licence(%)   48.0     0.57     0.06     0.45     0.53   \n",
      "Petrol_Consumption             48.0   576.77   111.89   344.00   509.50   \n",
      "\n",
      "                                  50%      75%       max  \n",
      "Petrol_tax                       7.50     8.12     10.00  \n",
      "Average_income                4298.00  4578.75   5342.00  \n",
      "Paved_Highways                4735.50  7156.00  17782.00  \n",
      "Population_Driver_licence(%)     0.56     0.60      0.72  \n",
      "Petrol_Consumption             568.50   632.75    968.00  \n"
     ]
    }
   ],
   "source": [
    "print(df.describe().round(2).T)"
   ]
  },
  {
   "cell_type": "markdown",
   "id": "ab94640f",
   "metadata": {},
   "source": [
    "#### Prepare dataset"
   ]
  },
  {
   "cell_type": "code",
   "execution_count": 86,
   "id": "7de21c50",
   "metadata": {},
   "outputs": [],
   "source": [
    "y = df['Petrol_Consumption']\n",
    "X = df[['Average_income', 'Paved_Highways',\n",
    "       'Population_Driver_licence(%)', 'Petrol_tax']]"
   ]
  },
  {
   "cell_type": "code",
   "execution_count": 87,
   "id": "4c61c11f",
   "metadata": {},
   "outputs": [],
   "source": [
    "X_train, X_test, y_train, y_test = train_test_split(X, y, \n",
    "                                                    test_size=0.2, \n",
    "                                                    random_state=SEED)"
   ]
  },
  {
   "cell_type": "code",
   "execution_count": 110,
   "id": "a556e787",
   "metadata": {},
   "outputs": [
    {
     "data": {
      "text/plain": [
       "(48, 4)"
      ]
     },
     "execution_count": 110,
     "metadata": {},
     "output_type": "execute_result"
    }
   ],
   "source": [
    "X.shape"
   ]
  },
  {
   "cell_type": "markdown",
   "id": "d95db8bb",
   "metadata": {},
   "source": [
    "#### Ridge"
   ]
  },
  {
   "cell_type": "code",
   "execution_count": 97,
   "id": "5cdbb646",
   "metadata": {},
   "outputs": [
    {
     "data": {
      "text/html": [
       "<style>#sk-container-id-9 {color: black;background-color: white;}#sk-container-id-9 pre{padding: 0;}#sk-container-id-9 div.sk-toggleable {background-color: white;}#sk-container-id-9 label.sk-toggleable__label {cursor: pointer;display: block;width: 100%;margin-bottom: 0;padding: 0.3em;box-sizing: border-box;text-align: center;}#sk-container-id-9 label.sk-toggleable__label-arrow:before {content: \"▸\";float: left;margin-right: 0.25em;color: #696969;}#sk-container-id-9 label.sk-toggleable__label-arrow:hover:before {color: black;}#sk-container-id-9 div.sk-estimator:hover label.sk-toggleable__label-arrow:before {color: black;}#sk-container-id-9 div.sk-toggleable__content {max-height: 0;max-width: 0;overflow: hidden;text-align: left;background-color: #f0f8ff;}#sk-container-id-9 div.sk-toggleable__content pre {margin: 0.2em;color: black;border-radius: 0.25em;background-color: #f0f8ff;}#sk-container-id-9 input.sk-toggleable__control:checked~div.sk-toggleable__content {max-height: 200px;max-width: 100%;overflow: auto;}#sk-container-id-9 input.sk-toggleable__control:checked~label.sk-toggleable__label-arrow:before {content: \"▾\";}#sk-container-id-9 div.sk-estimator input.sk-toggleable__control:checked~label.sk-toggleable__label {background-color: #d4ebff;}#sk-container-id-9 div.sk-label input.sk-toggleable__control:checked~label.sk-toggleable__label {background-color: #d4ebff;}#sk-container-id-9 input.sk-hidden--visually {border: 0;clip: rect(1px 1px 1px 1px);clip: rect(1px, 1px, 1px, 1px);height: 1px;margin: -1px;overflow: hidden;padding: 0;position: absolute;width: 1px;}#sk-container-id-9 div.sk-estimator {font-family: monospace;background-color: #f0f8ff;border: 1px dotted black;border-radius: 0.25em;box-sizing: border-box;margin-bottom: 0.5em;}#sk-container-id-9 div.sk-estimator:hover {background-color: #d4ebff;}#sk-container-id-9 div.sk-parallel-item::after {content: \"\";width: 100%;border-bottom: 1px solid gray;flex-grow: 1;}#sk-container-id-9 div.sk-label:hover label.sk-toggleable__label {background-color: #d4ebff;}#sk-container-id-9 div.sk-serial::before {content: \"\";position: absolute;border-left: 1px solid gray;box-sizing: border-box;top: 0;bottom: 0;left: 50%;z-index: 0;}#sk-container-id-9 div.sk-serial {display: flex;flex-direction: column;align-items: center;background-color: white;padding-right: 0.2em;padding-left: 0.2em;position: relative;}#sk-container-id-9 div.sk-item {position: relative;z-index: 1;}#sk-container-id-9 div.sk-parallel {display: flex;align-items: stretch;justify-content: center;background-color: white;position: relative;}#sk-container-id-9 div.sk-item::before, #sk-container-id-9 div.sk-parallel-item::before {content: \"\";position: absolute;border-left: 1px solid gray;box-sizing: border-box;top: 0;bottom: 0;left: 50%;z-index: -1;}#sk-container-id-9 div.sk-parallel-item {display: flex;flex-direction: column;z-index: 1;position: relative;background-color: white;}#sk-container-id-9 div.sk-parallel-item:first-child::after {align-self: flex-end;width: 50%;}#sk-container-id-9 div.sk-parallel-item:last-child::after {align-self: flex-start;width: 50%;}#sk-container-id-9 div.sk-parallel-item:only-child::after {width: 0;}#sk-container-id-9 div.sk-dashed-wrapped {border: 1px dashed gray;margin: 0 0.4em 0.5em 0.4em;box-sizing: border-box;padding-bottom: 0.4em;background-color: white;}#sk-container-id-9 div.sk-label label {font-family: monospace;font-weight: bold;display: inline-block;line-height: 1.2em;}#sk-container-id-9 div.sk-label-container {text-align: center;}#sk-container-id-9 div.sk-container {/* jupyter's `normalize.less` sets `[hidden] { display: none; }` but bootstrap.min.css set `[hidden] { display: none !important; }` so we also need the `!important` here to be able to override the default hidden behavior on the sphinx rendered scikit-learn.org. See: https://github.com/scikit-learn/scikit-learn/issues/21755 */display: inline-block !important;position: relative;}#sk-container-id-9 div.sk-text-repr-fallback {display: none;}</style><div id=\"sk-container-id-9\" class=\"sk-top-container\"><div class=\"sk-text-repr-fallback\"><pre>Ridge(alpha=100.8)</pre><b>In a Jupyter environment, please rerun this cell to show the HTML representation or trust the notebook. <br />On GitHub, the HTML representation is unable to render, please try loading this page with nbviewer.org.</b></div><div class=\"sk-container\" hidden><div class=\"sk-item\"><div class=\"sk-estimator sk-toggleable\"><input class=\"sk-toggleable__control sk-hidden--visually\" id=\"sk-estimator-id-17\" type=\"checkbox\" checked><label for=\"sk-estimator-id-17\" class=\"sk-toggleable__label sk-toggleable__label-arrow\">Ridge</label><div class=\"sk-toggleable__content\"><pre>Ridge(alpha=100.8)</pre></div></div></div></div></div>"
      ],
      "text/plain": [
       "Ridge(alpha=100.8)"
      ]
     },
     "execution_count": 97,
     "metadata": {},
     "output_type": "execute_result"
    }
   ],
   "source": [
    "ridge_rg = Ridge(alpha=100.8)\n",
    "ridge_rg.fit(X_train, y_train)"
   ]
  },
  {
   "cell_type": "code",
   "execution_count": 98,
   "id": "2b1bbc3c",
   "metadata": {},
   "outputs": [
    {
     "data": {
      "text/plain": [
       "779.8862818815674"
      ]
     },
     "execution_count": 98,
     "metadata": {},
     "output_type": "execute_result"
    }
   ],
   "source": [
    "ridge_rg.intercept_"
   ]
  },
  {
   "cell_type": "code",
   "execution_count": 99,
   "id": "a3920ae9",
   "metadata": {},
   "outputs": [
    {
     "data": {
      "text/plain": [
       "array([-2.45650550e-02,  6.05822864e-04,  1.11037060e+00, -1.23421561e+01])"
      ]
     },
     "execution_count": 99,
     "metadata": {},
     "output_type": "execute_result"
    }
   ],
   "source": [
    "ridge_rg.coef_"
   ]
  },
  {
   "cell_type": "code",
   "execution_count": 102,
   "id": "1905934d",
   "metadata": {},
   "outputs": [
    {
     "data": {
      "text/plain": [
       "Index(['Average_income', 'Paved_Highways', 'Population_Driver_licence(%)',\n",
       "       'Petrol_tax'],\n",
       "      dtype='object')"
      ]
     },
     "execution_count": 102,
     "metadata": {},
     "output_type": "execute_result"
    }
   ],
   "source": [
    "feature_names = X.columns\n",
    "feature_names"
   ]
  },
  {
   "cell_type": "code",
   "execution_count": 103,
   "id": "58b1ec65",
   "metadata": {},
   "outputs": [
    {
     "name": "stdout",
     "output_type": "stream",
     "text": [
      "                              Coefficient value\n",
      "Average_income                        -0.024565\n",
      "Paved_Highways                         0.000606\n",
      "Population_Driver_licence(%)           1.110371\n",
      "Petrol_tax                           -12.342156\n"
     ]
    }
   ],
   "source": [
    "feature_names = X.columns\n",
    "model_coefficients = ridge_rg.coef_\n",
    "\n",
    "coefficients_df = pd.DataFrame(data = model_coefficients, \n",
    "                              index = feature_names, \n",
    "                              columns = ['Coefficient value'])\n",
    "print(coefficients_df)"
   ]
  },
  {
   "cell_type": "markdown",
   "id": "80f418b1",
   "metadata": {},
   "source": [
    "#### Inference with the model"
   ]
  },
  {
   "cell_type": "code",
   "execution_count": 104,
   "id": "f32f4cc0",
   "metadata": {},
   "outputs": [
    {
     "data": {
      "text/plain": [
       "array([550.56286211, 589.86793246, 580.87958411, 569.69996881,\n",
       "       587.70676368, 558.17818835, 557.1378453 , 588.42032063,\n",
       "       603.64092988, 597.14162032])"
      ]
     },
     "execution_count": 104,
     "metadata": {},
     "output_type": "execute_result"
    }
   ],
   "source": [
    "y_pred = ridge_rg.predict(X_test)\n",
    "y_pred"
   ]
  },
  {
   "cell_type": "code",
   "execution_count": 105,
   "id": "57a73e5a",
   "metadata": {},
   "outputs": [
    {
     "name": "stdout",
     "output_type": "stream",
     "text": [
      "    Actual   Predicted\n",
      "22     464  550.562862\n",
      "39     968  589.867932\n",
      "25     566  580.879584\n",
      "3      414  569.699969\n",
      "40     587  587.706764\n",
      "6      344  558.178188\n",
      "7      467  557.137845\n",
      "9      498  588.420321\n",
      "43     591  603.640930\n",
      "34     487  597.141620\n"
     ]
    }
   ],
   "source": [
    "results = pd.DataFrame({'Actual': y_test, 'Predicted': y_pred})\n",
    "print(results)"
   ]
  },
  {
   "cell_type": "markdown",
   "id": "6355df4e",
   "metadata": {},
   "source": [
    "#### Evaluate the model"
   ]
  },
  {
   "cell_type": "code",
   "execution_count": 106,
   "id": "2d8f6542",
   "metadata": {},
   "outputs": [
    {
     "name": "stdout",
     "output_type": "stream",
     "text": [
      "Mean absolute error: 115.35\n",
      "Mean squared error: 24940.53\n",
      "Root mean squared error: 157.93\n"
     ]
    }
   ],
   "source": [
    "mae = mean_absolute_error(y_test, y_pred)\n",
    "mse = mean_squared_error(y_test, y_pred)\n",
    "rmse = np.sqrt(mse)\n",
    "\n",
    "print(f'Mean absolute error: {mae:.2f}')\n",
    "print(f'Mean squared error: {mse:.2f}')\n",
    "print(f'Root mean squared error: {rmse:.2f}')"
   ]
  },
  {
   "cell_type": "code",
   "execution_count": 107,
   "id": "058f8a57",
   "metadata": {},
   "outputs": [
    {
     "name": "stdout",
     "output_type": "stream",
     "text": [
      "R²: 0.035631748456249834\n"
     ]
    }
   ],
   "source": [
    "actual_minus_predicted = sum((y_test - y_pred)**2)\n",
    "actual_minus_actual_mean = sum((y_test - y_test.mean())**2)\n",
    "r2 = 1 - actual_minus_predicted/actual_minus_actual_mean\n",
    "print('R²:', r2)"
   ]
  },
  {
   "cell_type": "code",
   "execution_count": 108,
   "id": "68bf9663",
   "metadata": {},
   "outputs": [
    {
     "data": {
      "text/plain": [
       "0.035631748456249834"
      ]
     },
     "execution_count": 108,
     "metadata": {},
     "output_type": "execute_result"
    }
   ],
   "source": [
    "ridge_rg.score(X_test, y_test)"
   ]
  },
  {
   "cell_type": "code",
   "execution_count": 109,
   "id": "cef59cce",
   "metadata": {},
   "outputs": [
    {
     "data": {
      "text/plain": [
       "0.14343663767753"
      ]
     },
     "execution_count": 109,
     "metadata": {},
     "output_type": "execute_result"
    }
   ],
   "source": [
    "ridge_rg.score(X_train, y_train)"
   ]
  },
  {
   "cell_type": "markdown",
   "id": "03944e92",
   "metadata": {},
   "source": [
    "#### Lasso"
   ]
  },
  {
   "cell_type": "code",
   "execution_count": 112,
   "id": "70a95fc7",
   "metadata": {},
   "outputs": [
    {
     "data": {
      "text/html": [
       "<style>#sk-container-id-10 {color: black;background-color: white;}#sk-container-id-10 pre{padding: 0;}#sk-container-id-10 div.sk-toggleable {background-color: white;}#sk-container-id-10 label.sk-toggleable__label {cursor: pointer;display: block;width: 100%;margin-bottom: 0;padding: 0.3em;box-sizing: border-box;text-align: center;}#sk-container-id-10 label.sk-toggleable__label-arrow:before {content: \"▸\";float: left;margin-right: 0.25em;color: #696969;}#sk-container-id-10 label.sk-toggleable__label-arrow:hover:before {color: black;}#sk-container-id-10 div.sk-estimator:hover label.sk-toggleable__label-arrow:before {color: black;}#sk-container-id-10 div.sk-toggleable__content {max-height: 0;max-width: 0;overflow: hidden;text-align: left;background-color: #f0f8ff;}#sk-container-id-10 div.sk-toggleable__content pre {margin: 0.2em;color: black;border-radius: 0.25em;background-color: #f0f8ff;}#sk-container-id-10 input.sk-toggleable__control:checked~div.sk-toggleable__content {max-height: 200px;max-width: 100%;overflow: auto;}#sk-container-id-10 input.sk-toggleable__control:checked~label.sk-toggleable__label-arrow:before {content: \"▾\";}#sk-container-id-10 div.sk-estimator input.sk-toggleable__control:checked~label.sk-toggleable__label {background-color: #d4ebff;}#sk-container-id-10 div.sk-label input.sk-toggleable__control:checked~label.sk-toggleable__label {background-color: #d4ebff;}#sk-container-id-10 input.sk-hidden--visually {border: 0;clip: rect(1px 1px 1px 1px);clip: rect(1px, 1px, 1px, 1px);height: 1px;margin: -1px;overflow: hidden;padding: 0;position: absolute;width: 1px;}#sk-container-id-10 div.sk-estimator {font-family: monospace;background-color: #f0f8ff;border: 1px dotted black;border-radius: 0.25em;box-sizing: border-box;margin-bottom: 0.5em;}#sk-container-id-10 div.sk-estimator:hover {background-color: #d4ebff;}#sk-container-id-10 div.sk-parallel-item::after {content: \"\";width: 100%;border-bottom: 1px solid gray;flex-grow: 1;}#sk-container-id-10 div.sk-label:hover label.sk-toggleable__label {background-color: #d4ebff;}#sk-container-id-10 div.sk-serial::before {content: \"\";position: absolute;border-left: 1px solid gray;box-sizing: border-box;top: 0;bottom: 0;left: 50%;z-index: 0;}#sk-container-id-10 div.sk-serial {display: flex;flex-direction: column;align-items: center;background-color: white;padding-right: 0.2em;padding-left: 0.2em;position: relative;}#sk-container-id-10 div.sk-item {position: relative;z-index: 1;}#sk-container-id-10 div.sk-parallel {display: flex;align-items: stretch;justify-content: center;background-color: white;position: relative;}#sk-container-id-10 div.sk-item::before, #sk-container-id-10 div.sk-parallel-item::before {content: \"\";position: absolute;border-left: 1px solid gray;box-sizing: border-box;top: 0;bottom: 0;left: 50%;z-index: -1;}#sk-container-id-10 div.sk-parallel-item {display: flex;flex-direction: column;z-index: 1;position: relative;background-color: white;}#sk-container-id-10 div.sk-parallel-item:first-child::after {align-self: flex-end;width: 50%;}#sk-container-id-10 div.sk-parallel-item:last-child::after {align-self: flex-start;width: 50%;}#sk-container-id-10 div.sk-parallel-item:only-child::after {width: 0;}#sk-container-id-10 div.sk-dashed-wrapped {border: 1px dashed gray;margin: 0 0.4em 0.5em 0.4em;box-sizing: border-box;padding-bottom: 0.4em;background-color: white;}#sk-container-id-10 div.sk-label label {font-family: monospace;font-weight: bold;display: inline-block;line-height: 1.2em;}#sk-container-id-10 div.sk-label-container {text-align: center;}#sk-container-id-10 div.sk-container {/* jupyter's `normalize.less` sets `[hidden] { display: none; }` but bootstrap.min.css set `[hidden] { display: none !important; }` so we also need the `!important` here to be able to override the default hidden behavior on the sphinx rendered scikit-learn.org. See: https://github.com/scikit-learn/scikit-learn/issues/21755 */display: inline-block !important;position: relative;}#sk-container-id-10 div.sk-text-repr-fallback {display: none;}</style><div id=\"sk-container-id-10\" class=\"sk-top-container\"><div class=\"sk-text-repr-fallback\"><pre>Lasso(alpha=100.8)</pre><b>In a Jupyter environment, please rerun this cell to show the HTML representation or trust the notebook. <br />On GitHub, the HTML representation is unable to render, please try loading this page with nbviewer.org.</b></div><div class=\"sk-container\" hidden><div class=\"sk-item\"><div class=\"sk-estimator sk-toggleable\"><input class=\"sk-toggleable__control sk-hidden--visually\" id=\"sk-estimator-id-18\" type=\"checkbox\" checked><label for=\"sk-estimator-id-18\" class=\"sk-toggleable__label sk-toggleable__label-arrow\">Lasso</label><div class=\"sk-toggleable__content\"><pre>Lasso(alpha=100.8)</pre></div></div></div></div></div>"
      ],
      "text/plain": [
       "Lasso(alpha=100.8)"
      ]
     },
     "execution_count": 112,
     "metadata": {},
     "output_type": "execute_result"
    }
   ],
   "source": [
    "lasso_rg = Lasso(alpha=100.8)\n",
    "lasso_rg.fit(X_train, y_train)"
   ]
  },
  {
   "cell_type": "code",
   "execution_count": 113,
   "id": "e4a71a1a",
   "metadata": {},
   "outputs": [
    {
     "data": {
      "text/plain": [
       "673.3778641168543"
      ]
     },
     "execution_count": 113,
     "metadata": {},
     "output_type": "execute_result"
    }
   ],
   "source": [
    "lasso_rg.intercept_"
   ]
  },
  {
   "cell_type": "code",
   "execution_count": 114,
   "id": "7b153958",
   "metadata": {},
   "outputs": [
    {
     "data": {
      "text/plain": [
       "array([-0.02433956,  0.00264467,  0.        , -0.        ])"
      ]
     },
     "execution_count": 114,
     "metadata": {},
     "output_type": "execute_result"
    }
   ],
   "source": [
    "lasso_rg.coef_"
   ]
  },
  {
   "cell_type": "code",
   "execution_count": 115,
   "id": "7e10427a",
   "metadata": {},
   "outputs": [
    {
     "data": {
      "text/plain": [
       "Index(['Average_income', 'Paved_Highways', 'Population_Driver_licence(%)',\n",
       "       'Petrol_tax'],\n",
       "      dtype='object')"
      ]
     },
     "execution_count": 115,
     "metadata": {},
     "output_type": "execute_result"
    }
   ],
   "source": [
    "feature_names = X.columns\n",
    "feature_names"
   ]
  },
  {
   "cell_type": "code",
   "execution_count": 116,
   "id": "53a82bf2",
   "metadata": {},
   "outputs": [
    {
     "name": "stdout",
     "output_type": "stream",
     "text": [
      "                              Coefficient value\n",
      "Average_income                        -0.024340\n",
      "Paved_Highways                         0.002645\n",
      "Population_Driver_licence(%)           0.000000\n",
      "Petrol_tax                            -0.000000\n"
     ]
    }
   ],
   "source": [
    "feature_names = X.columns\n",
    "model_coefficients = lasso_rg.coef_\n",
    "\n",
    "coefficients_df = pd.DataFrame(data = model_coefficients, \n",
    "                              index = feature_names, \n",
    "                              columns = ['Coefficient value'])\n",
    "print(coefficients_df)"
   ]
  },
  {
   "cell_type": "markdown",
   "id": "6196604f",
   "metadata": {},
   "source": [
    "#### Inference with the model"
   ]
  },
  {
   "cell_type": "code",
   "execution_count": 117,
   "id": "73f264a4",
   "metadata": {},
   "outputs": [
    {
     "data": {
      "text/plain": [
       "array([560.66383477, 577.94991859, 595.36197633, 561.06182489,\n",
       "       577.3597949 , 575.30272479, 554.26758137, 586.05600187,\n",
       "       589.13144765, 596.75102455])"
      ]
     },
     "execution_count": 117,
     "metadata": {},
     "output_type": "execute_result"
    }
   ],
   "source": [
    "y_pred = lasso_rg.predict(X_test)\n",
    "y_pred"
   ]
  },
  {
   "cell_type": "code",
   "execution_count": 118,
   "id": "a865b475",
   "metadata": {},
   "outputs": [
    {
     "name": "stdout",
     "output_type": "stream",
     "text": [
      "    Actual   Predicted\n",
      "22     464  560.663835\n",
      "39     968  577.949919\n",
      "25     566  595.361976\n",
      "3      414  561.061825\n",
      "40     587  577.359795\n",
      "6      344  575.302725\n",
      "7      467  554.267581\n",
      "9      498  586.056002\n",
      "43     591  589.131448\n",
      "34     487  596.751025\n"
     ]
    }
   ],
   "source": [
    "results = pd.DataFrame({'Actual': y_test, 'Predicted': y_pred})\n",
    "print(results)"
   ]
  },
  {
   "cell_type": "markdown",
   "id": "fd754bbb",
   "metadata": {},
   "source": [
    "#### Evaluate the model"
   ]
  },
  {
   "cell_type": "code",
   "execution_count": 119,
   "id": "ced1a1a5",
   "metadata": {},
   "outputs": [
    {
     "name": "stdout",
     "output_type": "stream",
     "text": [
      "Mean absolute error: 119.10\n",
      "Mean squared error: 26498.44\n",
      "Root mean squared error: 162.78\n"
     ]
    }
   ],
   "source": [
    "mae = mean_absolute_error(y_test, y_pred)\n",
    "mse = mean_squared_error(y_test, y_pred)\n",
    "rmse = np.sqrt(mse)\n",
    "\n",
    "print(f'Mean absolute error: {mae:.2f}')\n",
    "print(f'Mean squared error: {mse:.2f}')\n",
    "print(f'Root mean squared error: {rmse:.2f}')"
   ]
  },
  {
   "cell_type": "code",
   "execution_count": 120,
   "id": "257228bd",
   "metadata": {},
   "outputs": [
    {
     "name": "stdout",
     "output_type": "stream",
     "text": [
      "R²: -0.02460757968572924\n"
     ]
    }
   ],
   "source": [
    "actual_minus_predicted = sum((y_test - y_pred)**2)\n",
    "actual_minus_actual_mean = sum((y_test - y_test.mean())**2)\n",
    "r2 = 1 - actual_minus_predicted/actual_minus_actual_mean\n",
    "print('R²:', r2)"
   ]
  },
  {
   "cell_type": "code",
   "execution_count": 121,
   "id": "7c63849d",
   "metadata": {},
   "outputs": [
    {
     "data": {
      "text/plain": [
       "-0.02460757968572924"
      ]
     },
     "execution_count": 121,
     "metadata": {},
     "output_type": "execute_result"
    }
   ],
   "source": [
    "lasso_rg.score(X_test, y_test)"
   ]
  },
  {
   "cell_type": "code",
   "execution_count": 122,
   "id": "c9786dfd",
   "metadata": {},
   "outputs": [
    {
     "data": {
      "text/plain": [
       "0.03233822475188153"
      ]
     },
     "execution_count": 122,
     "metadata": {},
     "output_type": "execute_result"
    }
   ],
   "source": [
    "lasso_rg.score(X_train, y_train)"
   ]
  },
  {
   "cell_type": "code",
   "execution_count": null,
   "id": "3b4b6c90",
   "metadata": {},
   "outputs": [],
   "source": []
  }
 ],
 "metadata": {
  "kernelspec": {
   "display_name": "Python 3 (ipykernel)",
   "language": "python",
   "name": "python3"
  },
  "language_info": {
   "codemirror_mode": {
    "name": "ipython",
    "version": 3
   },
   "file_extension": ".py",
   "mimetype": "text/x-python",
   "name": "python",
   "nbconvert_exporter": "python",
   "pygments_lexer": "ipython3",
   "version": "3.10.6"
  }
 },
 "nbformat": 4,
 "nbformat_minor": 5
}
