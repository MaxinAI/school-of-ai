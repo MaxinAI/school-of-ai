{
 "cells": [
  {
   "cell_type": "code",
   "execution_count": 1,
   "id": "71ce37e9",
   "metadata": {},
   "outputs": [],
   "source": [
    "%load_ext autoreload\n",
    "%autoreload 2\n",
    "\n",
    "%matplotlib inline"
   ]
  },
  {
   "cell_type": "markdown",
   "id": "5b560092",
   "metadata": {},
   "source": [
    "## Install libraries"
   ]
  },
  {
   "cell_type": "markdown",
   "id": "89885fa7",
   "metadata": {},
   "source": [
    "```bash\n",
    "conda create -n edu4 python=3.11 jupyter matplotlib\n",
    "```"
   ]
  },
  {
   "cell_type": "markdown",
   "id": "cd23589d",
   "metadata": {},
   "source": [
    "```bash \n",
    "! pip install -U -r requirements.txt\n",
    "```"
   ]
  },
  {
   "cell_type": "markdown",
   "id": "9d16321f",
   "metadata": {},
   "source": [
    "```bash\n",
    "! pip install -U numpy\n",
    "! pip install -U scikit-learn\n",
    "```"
   ]
  },
  {
   "cell_type": "code",
   "execution_count": 2,
   "id": "cf179611",
   "metadata": {},
   "outputs": [
    {
     "name": "stdout",
     "output_type": "stream",
     "text": [
      "\u001b[34mdata\u001b[m\u001b[m\r\n",
      "\u001b[34mimages\u001b[m\u001b[m\r\n",
      "mid_terms.ipynb\r\n",
      "mid_terms_sm.ipynb\r\n",
      "requirements.txt\r\n",
      "workshop_1_linear_regression.ipynb\r\n",
      "workshop_2_logistic_regression_lda_qda_nb.ipynb\r\n",
      "workshop_3_resampling_methods.ipynb\r\n",
      "workshop_4_model_selection_and_regularizations.ipynb\r\n",
      "workshop_5_beyond_linearity.ipynb\r\n"
     ]
    }
   ],
   "source": [
    "! ls"
   ]
  },
  {
   "cell_type": "code",
   "execution_count": 3,
   "id": "d0126ab9",
   "metadata": {
    "scrolled": true
   },
   "outputs": [
    {
     "name": "stdout",
     "output_type": "stream",
     "text": [
      "Requirement already satisfied: jupyter in /Users/levan/anaconda3/envs/edu4/lib/python3.10/site-packages (from -r requirements.txt (line 1)) (1.0.0)\n",
      "Requirement already satisfied: matplotlib in /Users/levan/anaconda3/envs/edu4/lib/python3.10/site-packages (from -r requirements.txt (line 2)) (3.6.2)\n",
      "Requirement already satisfied: seaborn in /Users/levan/anaconda3/envs/edu4/lib/python3.10/site-packages (from -r requirements.txt (line 3)) (0.12.1)\n",
      "Requirement already satisfied: numpy in /Users/levan/anaconda3/envs/edu4/lib/python3.10/site-packages (from -r requirements.txt (line 4)) (1.23.5)\n",
      "Requirement already satisfied: scipy in /Users/levan/anaconda3/envs/edu4/lib/python3.10/site-packages (from -r requirements.txt (line 5)) (1.9.3)\n",
      "Requirement already satisfied: pandas in /Users/levan/anaconda3/envs/edu4/lib/python3.10/site-packages (from -r requirements.txt (line 6)) (1.5.2)\n",
      "Requirement already satisfied: openpyxl in /Users/levan/anaconda3/envs/edu4/lib/python3.10/site-packages (from -r requirements.txt (line 7)) (3.0.10)\n",
      "Requirement already satisfied: scikit-learn in /Users/levan/anaconda3/envs/edu4/lib/python3.10/site-packages (from -r requirements.txt (line 9)) (1.2.0)\n",
      "Requirement already satisfied: nbconvert in /Users/levan/anaconda3/envs/edu4/lib/python3.10/site-packages (from jupyter->-r requirements.txt (line 1)) (6.4.4)\n",
      "Requirement already satisfied: ipykernel in /Users/levan/anaconda3/envs/edu4/lib/python3.10/site-packages (from jupyter->-r requirements.txt (line 1)) (6.15.2)\n",
      "Requirement already satisfied: ipywidgets in /Users/levan/anaconda3/envs/edu4/lib/python3.10/site-packages (from jupyter->-r requirements.txt (line 1)) (7.6.5)\n",
      "Requirement already satisfied: qtconsole in /Users/levan/anaconda3/envs/edu4/lib/python3.10/site-packages (from jupyter->-r requirements.txt (line 1)) (5.3.2)\n",
      "Requirement already satisfied: notebook in /Users/levan/anaconda3/envs/edu4/lib/python3.10/site-packages (from jupyter->-r requirements.txt (line 1)) (6.4.12)\n",
      "Requirement already satisfied: jupyter-console in /Users/levan/anaconda3/envs/edu4/lib/python3.10/site-packages (from jupyter->-r requirements.txt (line 1)) (6.4.3)\n",
      "Requirement already satisfied: cycler>=0.10 in /Users/levan/anaconda3/envs/edu4/lib/python3.10/site-packages (from matplotlib->-r requirements.txt (line 2)) (0.11.0)\n",
      "Requirement already satisfied: contourpy>=1.0.1 in /Users/levan/anaconda3/envs/edu4/lib/python3.10/site-packages (from matplotlib->-r requirements.txt (line 2)) (1.0.6)\n",
      "Requirement already satisfied: fonttools>=4.22.0 in /Users/levan/anaconda3/envs/edu4/lib/python3.10/site-packages (from matplotlib->-r requirements.txt (line 2)) (4.25.0)\n",
      "Requirement already satisfied: pillow>=6.2.0 in /Users/levan/anaconda3/envs/edu4/lib/python3.10/site-packages (from matplotlib->-r requirements.txt (line 2)) (9.2.0)\n",
      "Requirement already satisfied: python-dateutil>=2.7 in /Users/levan/anaconda3/envs/edu4/lib/python3.10/site-packages (from matplotlib->-r requirements.txt (line 2)) (2.8.2)\n",
      "Requirement already satisfied: pyparsing>=2.2.1 in /Users/levan/anaconda3/envs/edu4/lib/python3.10/site-packages (from matplotlib->-r requirements.txt (line 2)) (3.0.9)\n",
      "Requirement already satisfied: kiwisolver>=1.0.1 in /Users/levan/anaconda3/envs/edu4/lib/python3.10/site-packages (from matplotlib->-r requirements.txt (line 2)) (1.4.2)\n",
      "Requirement already satisfied: packaging>=20.0 in /Users/levan/anaconda3/envs/edu4/lib/python3.10/site-packages (from matplotlib->-r requirements.txt (line 2)) (21.3)\n",
      "Requirement already satisfied: pytz>=2020.1 in /Users/levan/anaconda3/envs/edu4/lib/python3.10/site-packages (from pandas->-r requirements.txt (line 6)) (2022.1)\n",
      "Requirement already satisfied: et-xmlfile in /Users/levan/anaconda3/envs/edu4/lib/python3.10/site-packages (from openpyxl->-r requirements.txt (line 7)) (1.1.0)\n",
      "Requirement already satisfied: joblib>=1.1.1 in /Users/levan/anaconda3/envs/edu4/lib/python3.10/site-packages (from scikit-learn->-r requirements.txt (line 9)) (1.2.0)\n",
      "Requirement already satisfied: threadpoolctl>=2.0.0 in /Users/levan/anaconda3/envs/edu4/lib/python3.10/site-packages (from scikit-learn->-r requirements.txt (line 9)) (3.1.0)\n",
      "Requirement already satisfied: six>=1.5 in /Users/levan/anaconda3/envs/edu4/lib/python3.10/site-packages (from python-dateutil>=2.7->matplotlib->-r requirements.txt (line 2)) (1.16.0)\n",
      "Requirement already satisfied: matplotlib-inline>=0.1 in /Users/levan/anaconda3/envs/edu4/lib/python3.10/site-packages (from ipykernel->jupyter->-r requirements.txt (line 1)) (0.1.6)\n",
      "Requirement already satisfied: jupyter-client>=6.1.12 in /Users/levan/anaconda3/envs/edu4/lib/python3.10/site-packages (from ipykernel->jupyter->-r requirements.txt (line 1)) (7.3.5)\n",
      "Requirement already satisfied: traitlets>=5.1.0 in /Users/levan/anaconda3/envs/edu4/lib/python3.10/site-packages (from ipykernel->jupyter->-r requirements.txt (line 1)) (5.1.1)\n",
      "Requirement already satisfied: appnope in /Users/levan/anaconda3/envs/edu4/lib/python3.10/site-packages (from ipykernel->jupyter->-r requirements.txt (line 1)) (0.1.2)\n",
      "Requirement already satisfied: nest-asyncio in /Users/levan/anaconda3/envs/edu4/lib/python3.10/site-packages (from ipykernel->jupyter->-r requirements.txt (line 1)) (1.5.5)\n",
      "Requirement already satisfied: pyzmq>=17 in /Users/levan/anaconda3/envs/edu4/lib/python3.10/site-packages (from ipykernel->jupyter->-r requirements.txt (line 1)) (23.2.0)\n",
      "Requirement already satisfied: tornado>=6.1 in /Users/levan/anaconda3/envs/edu4/lib/python3.10/site-packages (from ipykernel->jupyter->-r requirements.txt (line 1)) (6.2)\n",
      "Requirement already satisfied: psutil in /Users/levan/anaconda3/envs/edu4/lib/python3.10/site-packages (from ipykernel->jupyter->-r requirements.txt (line 1)) (5.9.0)\n",
      "Requirement already satisfied: ipython>=7.23.1 in /Users/levan/anaconda3/envs/edu4/lib/python3.10/site-packages (from ipykernel->jupyter->-r requirements.txt (line 1)) (8.4.0)\n",
      "Requirement already satisfied: debugpy>=1.0 in /Users/levan/anaconda3/envs/edu4/lib/python3.10/site-packages (from ipykernel->jupyter->-r requirements.txt (line 1)) (1.5.1)\n",
      "Requirement already satisfied: ipython-genutils~=0.2.0 in /Users/levan/anaconda3/envs/edu4/lib/python3.10/site-packages (from ipywidgets->jupyter->-r requirements.txt (line 1)) (0.2.0)\n",
      "Requirement already satisfied: nbformat>=4.2.0 in /Users/levan/anaconda3/envs/edu4/lib/python3.10/site-packages (from ipywidgets->jupyter->-r requirements.txt (line 1)) (5.5.0)\n",
      "Requirement already satisfied: widgetsnbextension~=3.5.0 in /Users/levan/anaconda3/envs/edu4/lib/python3.10/site-packages (from ipywidgets->jupyter->-r requirements.txt (line 1)) (3.5.2)\n",
      "Requirement already satisfied: jupyterlab-widgets>=1.0.0 in /Users/levan/anaconda3/envs/edu4/lib/python3.10/site-packages (from ipywidgets->jupyter->-r requirements.txt (line 1)) (1.0.0)\n",
      "Requirement already satisfied: pygments in /Users/levan/anaconda3/envs/edu4/lib/python3.10/site-packages (from jupyter-console->jupyter->-r requirements.txt (line 1)) (2.11.2)\n",
      "Requirement already satisfied: prompt-toolkit!=3.0.0,!=3.0.1,<3.1.0,>=2.0.0 in /Users/levan/anaconda3/envs/edu4/lib/python3.10/site-packages (from jupyter-console->jupyter->-r requirements.txt (line 1)) (3.0.20)\n",
      "Requirement already satisfied: jupyterlab-pygments in /Users/levan/anaconda3/envs/edu4/lib/python3.10/site-packages (from nbconvert->jupyter->-r requirements.txt (line 1)) (0.1.2)\n",
      "Requirement already satisfied: pandocfilters>=1.4.1 in /Users/levan/anaconda3/envs/edu4/lib/python3.10/site-packages (from nbconvert->jupyter->-r requirements.txt (line 1)) (1.5.0)\n",
      "Requirement already satisfied: testpath in /Users/levan/anaconda3/envs/edu4/lib/python3.10/site-packages (from nbconvert->jupyter->-r requirements.txt (line 1)) (0.6.0)\n",
      "Requirement already satisfied: entrypoints>=0.2.2 in /Users/levan/anaconda3/envs/edu4/lib/python3.10/site-packages (from nbconvert->jupyter->-r requirements.txt (line 1)) (0.4)\n",
      "Requirement already satisfied: bleach in /Users/levan/anaconda3/envs/edu4/lib/python3.10/site-packages (from nbconvert->jupyter->-r requirements.txt (line 1)) (4.1.0)\n",
      "Requirement already satisfied: mistune<2,>=0.8.1 in /Users/levan/anaconda3/envs/edu4/lib/python3.10/site-packages (from nbconvert->jupyter->-r requirements.txt (line 1)) (0.8.4)\n",
      "Requirement already satisfied: jinja2>=2.4 in /Users/levan/anaconda3/envs/edu4/lib/python3.10/site-packages (from nbconvert->jupyter->-r requirements.txt (line 1)) (3.1.2)\n",
      "Requirement already satisfied: defusedxml in /Users/levan/anaconda3/envs/edu4/lib/python3.10/site-packages (from nbconvert->jupyter->-r requirements.txt (line 1)) (0.7.1)\n",
      "Requirement already satisfied: beautifulsoup4 in /Users/levan/anaconda3/envs/edu4/lib/python3.10/site-packages (from nbconvert->jupyter->-r requirements.txt (line 1)) (4.11.1)\n",
      "Requirement already satisfied: nbclient<0.6.0,>=0.5.0 in /Users/levan/anaconda3/envs/edu4/lib/python3.10/site-packages (from nbconvert->jupyter->-r requirements.txt (line 1)) (0.5.13)\n",
      "Requirement already satisfied: jupyter-core in /Users/levan/anaconda3/envs/edu4/lib/python3.10/site-packages (from nbconvert->jupyter->-r requirements.txt (line 1)) (4.11.1)\n",
      "Requirement already satisfied: prometheus-client in /Users/levan/anaconda3/envs/edu4/lib/python3.10/site-packages (from notebook->jupyter->-r requirements.txt (line 1)) (0.14.1)\n",
      "Requirement already satisfied: argon2-cffi in /Users/levan/anaconda3/envs/edu4/lib/python3.10/site-packages (from notebook->jupyter->-r requirements.txt (line 1)) (21.3.0)\n",
      "Requirement already satisfied: terminado>=0.8.3 in /Users/levan/anaconda3/envs/edu4/lib/python3.10/site-packages (from notebook->jupyter->-r requirements.txt (line 1)) (0.13.1)\n"
     ]
    },
    {
     "name": "stdout",
     "output_type": "stream",
     "text": [
      "Requirement already satisfied: Send2Trash>=1.8.0 in /Users/levan/anaconda3/envs/edu4/lib/python3.10/site-packages (from notebook->jupyter->-r requirements.txt (line 1)) (1.8.0)\n",
      "Requirement already satisfied: qtpy>=2.0.1 in /Users/levan/anaconda3/envs/edu4/lib/python3.10/site-packages (from qtconsole->jupyter->-r requirements.txt (line 1)) (2.2.0)\n",
      "Requirement already satisfied: backcall in /Users/levan/anaconda3/envs/edu4/lib/python3.10/site-packages (from ipython>=7.23.1->ipykernel->jupyter->-r requirements.txt (line 1)) (0.2.0)\n",
      "Requirement already satisfied: pexpect>4.3 in /Users/levan/anaconda3/envs/edu4/lib/python3.10/site-packages (from ipython>=7.23.1->ipykernel->jupyter->-r requirements.txt (line 1)) (4.8.0)\n",
      "Requirement already satisfied: setuptools>=18.5 in /Users/levan/anaconda3/envs/edu4/lib/python3.10/site-packages (from ipython>=7.23.1->ipykernel->jupyter->-r requirements.txt (line 1)) (65.5.0)\n",
      "Requirement already satisfied: jedi>=0.16 in /Users/levan/anaconda3/envs/edu4/lib/python3.10/site-packages (from ipython>=7.23.1->ipykernel->jupyter->-r requirements.txt (line 1)) (0.18.1)\n",
      "Requirement already satisfied: stack-data in /Users/levan/anaconda3/envs/edu4/lib/python3.10/site-packages (from ipython>=7.23.1->ipykernel->jupyter->-r requirements.txt (line 1)) (0.2.0)\n",
      "Requirement already satisfied: pickleshare in /Users/levan/anaconda3/envs/edu4/lib/python3.10/site-packages (from ipython>=7.23.1->ipykernel->jupyter->-r requirements.txt (line 1)) (0.7.5)\n",
      "Requirement already satisfied: decorator in /Users/levan/anaconda3/envs/edu4/lib/python3.10/site-packages (from ipython>=7.23.1->ipykernel->jupyter->-r requirements.txt (line 1)) (5.1.1)\n",
      "Requirement already satisfied: MarkupSafe>=2.0 in /Users/levan/anaconda3/envs/edu4/lib/python3.10/site-packages (from jinja2>=2.4->nbconvert->jupyter->-r requirements.txt (line 1)) (2.1.1)\n",
      "Requirement already satisfied: fastjsonschema in /Users/levan/anaconda3/envs/edu4/lib/python3.10/site-packages (from nbformat>=4.2.0->ipywidgets->jupyter->-r requirements.txt (line 1)) (2.16.2)\n",
      "Requirement already satisfied: jsonschema>=2.6 in /Users/levan/anaconda3/envs/edu4/lib/python3.10/site-packages (from nbformat>=4.2.0->ipywidgets->jupyter->-r requirements.txt (line 1)) (4.16.0)\n",
      "Requirement already satisfied: wcwidth in /Users/levan/anaconda3/envs/edu4/lib/python3.10/site-packages (from prompt-toolkit!=3.0.0,!=3.0.1,<3.1.0,>=2.0.0->jupyter-console->jupyter->-r requirements.txt (line 1)) (0.2.5)\n",
      "Requirement already satisfied: ptyprocess in /Users/levan/anaconda3/envs/edu4/lib/python3.10/site-packages (from terminado>=0.8.3->notebook->jupyter->-r requirements.txt (line 1)) (0.7.0)\n",
      "Requirement already satisfied: argon2-cffi-bindings in /Users/levan/anaconda3/envs/edu4/lib/python3.10/site-packages (from argon2-cffi->notebook->jupyter->-r requirements.txt (line 1)) (21.2.0)\n",
      "Requirement already satisfied: soupsieve>1.2 in /Users/levan/anaconda3/envs/edu4/lib/python3.10/site-packages (from beautifulsoup4->nbconvert->jupyter->-r requirements.txt (line 1)) (2.3.2.post1)\n",
      "Requirement already satisfied: webencodings in /Users/levan/anaconda3/envs/edu4/lib/python3.10/site-packages (from bleach->nbconvert->jupyter->-r requirements.txt (line 1)) (0.5.1)\n",
      "Requirement already satisfied: parso<0.9.0,>=0.8.0 in /Users/levan/anaconda3/envs/edu4/lib/python3.10/site-packages (from jedi>=0.16->ipython>=7.23.1->ipykernel->jupyter->-r requirements.txt (line 1)) (0.8.3)\n",
      "Requirement already satisfied: pyrsistent!=0.17.0,!=0.17.1,!=0.17.2,>=0.14.0 in /Users/levan/anaconda3/envs/edu4/lib/python3.10/site-packages (from jsonschema>=2.6->nbformat>=4.2.0->ipywidgets->jupyter->-r requirements.txt (line 1)) (0.18.0)\n",
      "Requirement already satisfied: attrs>=17.4.0 in /Users/levan/anaconda3/envs/edu4/lib/python3.10/site-packages (from jsonschema>=2.6->nbformat>=4.2.0->ipywidgets->jupyter->-r requirements.txt (line 1)) (21.4.0)\n",
      "Requirement already satisfied: cffi>=1.0.1 in /Users/levan/anaconda3/envs/edu4/lib/python3.10/site-packages (from argon2-cffi-bindings->argon2-cffi->notebook->jupyter->-r requirements.txt (line 1)) (1.15.1)\n",
      "Requirement already satisfied: executing in /Users/levan/anaconda3/envs/edu4/lib/python3.10/site-packages (from stack-data->ipython>=7.23.1->ipykernel->jupyter->-r requirements.txt (line 1)) (0.8.3)\n",
      "Requirement already satisfied: asttokens in /Users/levan/anaconda3/envs/edu4/lib/python3.10/site-packages (from stack-data->ipython>=7.23.1->ipykernel->jupyter->-r requirements.txt (line 1)) (2.0.5)\n",
      "Requirement already satisfied: pure-eval in /Users/levan/anaconda3/envs/edu4/lib/python3.10/site-packages (from stack-data->ipython>=7.23.1->ipykernel->jupyter->-r requirements.txt (line 1)) (0.2.2)\n",
      "Requirement already satisfied: pycparser in /Users/levan/anaconda3/envs/edu4/lib/python3.10/site-packages (from cffi>=1.0.1->argon2-cffi-bindings->argon2-cffi->notebook->jupyter->-r requirements.txt (line 1)) (2.21)\n"
     ]
    }
   ],
   "source": [
    "! pip install -U -r requirements.txt"
   ]
  },
  {
   "cell_type": "markdown",
   "id": "b4cab43a",
   "metadata": {},
   "source": [
    "## Update repository"
   ]
  },
  {
   "cell_type": "code",
   "execution_count": 4,
   "id": "46bcb5dc",
   "metadata": {},
   "outputs": [
    {
     "name": "stdout",
     "output_type": "stream",
     "text": [
      "Already up to date.\r\n"
     ]
    }
   ],
   "source": [
    "! git pull"
   ]
  },
  {
   "cell_type": "markdown",
   "id": "bad216da",
   "metadata": {},
   "source": [
    "## Add import path"
   ]
  },
  {
   "cell_type": "code",
   "execution_count": 5,
   "id": "baafb705",
   "metadata": {},
   "outputs": [],
   "source": [
    "import os\n",
    "import sys\n",
    "import gc"
   ]
  },
  {
   "cell_type": "code",
   "execution_count": 6,
   "id": "b2930983",
   "metadata": {},
   "outputs": [],
   "source": [
    "module_path = os.path.abspath(os.path.join('..'))\n",
    "if module_path not in sys.path:\n",
    "    sys.path.append(module_path)"
   ]
  },
  {
   "cell_type": "code",
   "execution_count": 7,
   "id": "7984d32f",
   "metadata": {},
   "outputs": [],
   "source": [
    "del module_path"
   ]
  },
  {
   "cell_type": "markdown",
   "id": "07a1e9c8",
   "metadata": {},
   "source": [
    "## Organize imports"
   ]
  },
  {
   "cell_type": "code",
   "execution_count": 8,
   "id": "ae177357",
   "metadata": {},
   "outputs": [],
   "source": [
    "import multiprocessing\n",
    "from pathlib import Path"
   ]
  },
  {
   "cell_type": "code",
   "execution_count": 9,
   "id": "a523557a",
   "metadata": {},
   "outputs": [],
   "source": [
    "import seaborn as sns"
   ]
  },
  {
   "cell_type": "code",
   "execution_count": 10,
   "id": "25750a3d",
   "metadata": {},
   "outputs": [],
   "source": [
    "import matplotlib.pyplot as plt\n",
    "import numpy as np\n",
    "import pandas as pd\n",
    "import sklearn\n",
    "from sklearn.model_selection import train_test_split\n",
    "from sklearn.preprocessing import (StandardScaler, PolynomialFeatures, \n",
    "                                   SplineTransformer)\n",
    "from sklearn.feature_selection import SequentialFeatureSelector as SFS\n",
    "from sklearn.discriminant_analysis import (LinearDiscriminantAnalysis, \n",
    "                                           QuadraticDiscriminantAnalysis)\n",
    "from sklearn.linear_model import LinearRegression, Ridge, Lasso, LogisticRegression\n",
    "from sklearn.metrics import (mean_absolute_error, mean_squared_error, \n",
    "                             classification_report, confusion_matrix)"
   ]
  },
  {
   "cell_type": "markdown",
   "id": "65f31e93",
   "metadata": {},
   "source": [
    "#### Number of CPU cores"
   ]
  },
  {
   "cell_type": "code",
   "execution_count": 11,
   "id": "b41c30f2",
   "metadata": {
    "scrolled": false
   },
   "outputs": [
    {
     "data": {
      "text/plain": [
       "8"
      ]
     },
     "execution_count": 11,
     "metadata": {},
     "output_type": "execute_result"
    }
   ],
   "source": [
    "workers = multiprocessing.cpu_count()\n",
    "workers"
   ]
  },
  {
   "cell_type": "markdown",
   "id": "3423f1a9",
   "metadata": {},
   "source": [
    "## Initialize path"
   ]
  },
  {
   "cell_type": "code",
   "execution_count": 12,
   "id": "ccfb1c16",
   "metadata": {},
   "outputs": [],
   "source": [
    "DATA = Path('data')\n",
    "PATH = DATA / 'log_regr_lda_qda_np'\n",
    "LR_PATH = DATA / 'linear_regression'\n",
    "PUMPKIN_DIR = PATH / 'Pumpkin_Seeds_Dataset'\n",
    "IRIS_DIR = PATH / 'iris'\n",
    "PUMPKIN_DIR.mkdir(exist_ok=True, parents=True)\n",
    "IRIS_DIR.mkdir(exist_ok=True, parents=True)"
   ]
  },
  {
   "cell_type": "code",
   "execution_count": 13,
   "id": "8f8156f5",
   "metadata": {},
   "outputs": [
    {
     "name": "stdout",
     "output_type": "stream",
     "text": [
      "\u001b[34mdata\u001b[m\u001b[m\r\n",
      "\u001b[34mimages\u001b[m\u001b[m\r\n",
      "mid_terms.ipynb\r\n",
      "mid_terms_sm.ipynb\r\n",
      "requirements.txt\r\n",
      "workshop_1_linear_regression.ipynb\r\n",
      "workshop_2_logistic_regression_lda_qda_nb.ipynb\r\n",
      "workshop_3_resampling_methods.ipynb\r\n",
      "workshop_4_model_selection_and_regularizations.ipynb\r\n",
      "workshop_5_beyond_linearity.ipynb\r\n"
     ]
    }
   ],
   "source": [
    "! ls"
   ]
  },
  {
   "cell_type": "markdown",
   "id": "0b803688",
   "metadata": {},
   "source": [
    "## Load IRIS dataset"
   ]
  },
  {
   "cell_type": "code",
   "execution_count": 14,
   "id": "af4f5f24",
   "metadata": {},
   "outputs": [],
   "source": [
    "SEED = 2022"
   ]
  },
  {
   "cell_type": "code",
   "execution_count": 15,
   "id": "543fde41",
   "metadata": {},
   "outputs": [],
   "source": [
    "iris_url = 'https://www.kaggle.com/datasets/uciml/iris/download?datasetVersionNumber=2'"
   ]
  },
  {
   "cell_type": "markdown",
   "id": "9cd4a02a",
   "metadata": {},
   "source": [
    "#### Load dataset"
   ]
  },
  {
   "cell_type": "code",
   "execution_count": 16,
   "id": "fd6ea5ca",
   "metadata": {},
   "outputs": [
    {
     "name": "stdout",
     "output_type": "stream",
     "text": [
      "Iris.csv        database.sqlite\r\n"
     ]
    }
   ],
   "source": [
    "! ls {IRIS_DIR}"
   ]
  },
  {
   "cell_type": "code",
   "execution_count": 17,
   "id": "bfbc6afa",
   "metadata": {},
   "outputs": [],
   "source": [
    "df = pd.read_csv(IRIS_DIR / 'Iris.csv')"
   ]
  },
  {
   "cell_type": "code",
   "execution_count": 18,
   "id": "9ed249b3",
   "metadata": {},
   "outputs": [
    {
     "data": {
      "text/html": [
       "<div>\n",
       "<style scoped>\n",
       "    .dataframe tbody tr th:only-of-type {\n",
       "        vertical-align: middle;\n",
       "    }\n",
       "\n",
       "    .dataframe tbody tr th {\n",
       "        vertical-align: top;\n",
       "    }\n",
       "\n",
       "    .dataframe thead th {\n",
       "        text-align: right;\n",
       "    }\n",
       "</style>\n",
       "<table border=\"1\" class=\"dataframe\">\n",
       "  <thead>\n",
       "    <tr style=\"text-align: right;\">\n",
       "      <th></th>\n",
       "      <th>Id</th>\n",
       "      <th>SepalLengthCm</th>\n",
       "      <th>SepalWidthCm</th>\n",
       "      <th>PetalLengthCm</th>\n",
       "      <th>PetalWidthCm</th>\n",
       "      <th>Species</th>\n",
       "    </tr>\n",
       "  </thead>\n",
       "  <tbody>\n",
       "    <tr>\n",
       "      <th>0</th>\n",
       "      <td>1</td>\n",
       "      <td>5.1</td>\n",
       "      <td>3.5</td>\n",
       "      <td>1.4</td>\n",
       "      <td>0.2</td>\n",
       "      <td>Iris-setosa</td>\n",
       "    </tr>\n",
       "    <tr>\n",
       "      <th>1</th>\n",
       "      <td>2</td>\n",
       "      <td>4.9</td>\n",
       "      <td>3.0</td>\n",
       "      <td>1.4</td>\n",
       "      <td>0.2</td>\n",
       "      <td>Iris-setosa</td>\n",
       "    </tr>\n",
       "    <tr>\n",
       "      <th>2</th>\n",
       "      <td>3</td>\n",
       "      <td>4.7</td>\n",
       "      <td>3.2</td>\n",
       "      <td>1.3</td>\n",
       "      <td>0.2</td>\n",
       "      <td>Iris-setosa</td>\n",
       "    </tr>\n",
       "    <tr>\n",
       "      <th>3</th>\n",
       "      <td>4</td>\n",
       "      <td>4.6</td>\n",
       "      <td>3.1</td>\n",
       "      <td>1.5</td>\n",
       "      <td>0.2</td>\n",
       "      <td>Iris-setosa</td>\n",
       "    </tr>\n",
       "    <tr>\n",
       "      <th>4</th>\n",
       "      <td>5</td>\n",
       "      <td>5.0</td>\n",
       "      <td>3.6</td>\n",
       "      <td>1.4</td>\n",
       "      <td>0.2</td>\n",
       "      <td>Iris-setosa</td>\n",
       "    </tr>\n",
       "    <tr>\n",
       "      <th>...</th>\n",
       "      <td>...</td>\n",
       "      <td>...</td>\n",
       "      <td>...</td>\n",
       "      <td>...</td>\n",
       "      <td>...</td>\n",
       "      <td>...</td>\n",
       "    </tr>\n",
       "    <tr>\n",
       "      <th>145</th>\n",
       "      <td>146</td>\n",
       "      <td>6.7</td>\n",
       "      <td>3.0</td>\n",
       "      <td>5.2</td>\n",
       "      <td>2.3</td>\n",
       "      <td>Iris-virginica</td>\n",
       "    </tr>\n",
       "    <tr>\n",
       "      <th>146</th>\n",
       "      <td>147</td>\n",
       "      <td>6.3</td>\n",
       "      <td>2.5</td>\n",
       "      <td>5.0</td>\n",
       "      <td>1.9</td>\n",
       "      <td>Iris-virginica</td>\n",
       "    </tr>\n",
       "    <tr>\n",
       "      <th>147</th>\n",
       "      <td>148</td>\n",
       "      <td>6.5</td>\n",
       "      <td>3.0</td>\n",
       "      <td>5.2</td>\n",
       "      <td>2.0</td>\n",
       "      <td>Iris-virginica</td>\n",
       "    </tr>\n",
       "    <tr>\n",
       "      <th>148</th>\n",
       "      <td>149</td>\n",
       "      <td>6.2</td>\n",
       "      <td>3.4</td>\n",
       "      <td>5.4</td>\n",
       "      <td>2.3</td>\n",
       "      <td>Iris-virginica</td>\n",
       "    </tr>\n",
       "    <tr>\n",
       "      <th>149</th>\n",
       "      <td>150</td>\n",
       "      <td>5.9</td>\n",
       "      <td>3.0</td>\n",
       "      <td>5.1</td>\n",
       "      <td>1.8</td>\n",
       "      <td>Iris-virginica</td>\n",
       "    </tr>\n",
       "  </tbody>\n",
       "</table>\n",
       "<p>150 rows × 6 columns</p>\n",
       "</div>"
      ],
      "text/plain": [
       "      Id  SepalLengthCm  SepalWidthCm  PetalLengthCm  PetalWidthCm  \\\n",
       "0      1            5.1           3.5            1.4           0.2   \n",
       "1      2            4.9           3.0            1.4           0.2   \n",
       "2      3            4.7           3.2            1.3           0.2   \n",
       "3      4            4.6           3.1            1.5           0.2   \n",
       "4      5            5.0           3.6            1.4           0.2   \n",
       "..   ...            ...           ...            ...           ...   \n",
       "145  146            6.7           3.0            5.2           2.3   \n",
       "146  147            6.3           2.5            5.0           1.9   \n",
       "147  148            6.5           3.0            5.2           2.0   \n",
       "148  149            6.2           3.4            5.4           2.3   \n",
       "149  150            5.9           3.0            5.1           1.8   \n",
       "\n",
       "            Species  \n",
       "0       Iris-setosa  \n",
       "1       Iris-setosa  \n",
       "2       Iris-setosa  \n",
       "3       Iris-setosa  \n",
       "4       Iris-setosa  \n",
       "..              ...  \n",
       "145  Iris-virginica  \n",
       "146  Iris-virginica  \n",
       "147  Iris-virginica  \n",
       "148  Iris-virginica  \n",
       "149  Iris-virginica  \n",
       "\n",
       "[150 rows x 6 columns]"
      ]
     },
     "execution_count": 18,
     "metadata": {},
     "output_type": "execute_result"
    }
   ],
   "source": [
    "df"
   ]
  },
  {
   "cell_type": "code",
   "execution_count": 19,
   "id": "06f5b76c",
   "metadata": {},
   "outputs": [
    {
     "data": {
      "text/plain": [
       "Iris-setosa        50\n",
       "Iris-versicolor    50\n",
       "Iris-virginica     50\n",
       "Name: Species, dtype: int64"
      ]
     },
     "execution_count": 19,
     "metadata": {},
     "output_type": "execute_result"
    }
   ],
   "source": [
    "df['Species'].value_counts()"
   ]
  },
  {
   "cell_type": "code",
   "execution_count": 20,
   "id": "ddca9a2f",
   "metadata": {},
   "outputs": [
    {
     "data": {
      "text/plain": [
       "((150, 4),\n",
       " (150,),\n",
       " Iris-setosa        50\n",
       " Iris-versicolor    50\n",
       " Iris-virginica     50\n",
       " Name: Species, dtype: int64)"
      ]
     },
     "execution_count": 20,
     "metadata": {},
     "output_type": "execute_result"
    }
   ],
   "source": [
    "y = df['Species']\n",
    "X = df.drop(columns=['Id', 'Species'], axis=1)\n",
    "X.shape, y.shape, df['Species'].value_counts()"
   ]
  },
  {
   "cell_type": "markdown",
   "id": "d91ec449",
   "metadata": {},
   "source": [
    "```python\n",
    "# #define predictor and response variables\n",
    "X = df[['s_length', 's_width', 'p_length', 'p_width']]\n",
    "y = df['species']\n",
    "X.shape, y.shape\n",
    "```"
   ]
  },
  {
   "cell_type": "code",
   "execution_count": 21,
   "id": "5325e934",
   "metadata": {},
   "outputs": [],
   "source": [
    "X_train, X_test, y_train, y_test = train_test_split(\n",
    "    X, y, test_size=0.2, random_state=SEED)"
   ]
  },
  {
   "cell_type": "markdown",
   "id": "9bf348a2",
   "metadata": {},
   "source": [
    "## Generate polynomial features"
   ]
  },
  {
   "cell_type": "code",
   "execution_count": 22,
   "id": "0083af0d",
   "metadata": {},
   "outputs": [],
   "source": [
    "poly = PolynomialFeatures(degree=2)"
   ]
  },
  {
   "cell_type": "code",
   "execution_count": 23,
   "id": "f70fc82c",
   "metadata": {},
   "outputs": [],
   "source": [
    "X_train_pl = poly.fit_transform(X_train)\n",
    "X_test_pl = poly.transform(X_test)"
   ]
  },
  {
   "cell_type": "code",
   "execution_count": 24,
   "id": "cacf32e2",
   "metadata": {},
   "outputs": [
    {
     "data": {
      "text/plain": [
       "array(['1', 'SepalLengthCm', 'SepalWidthCm', 'PetalLengthCm',\n",
       "       'PetalWidthCm', 'SepalLengthCm^2', 'SepalLengthCm SepalWidthCm',\n",
       "       'SepalLengthCm PetalLengthCm', 'SepalLengthCm PetalWidthCm',\n",
       "       'SepalWidthCm^2', 'SepalWidthCm PetalLengthCm',\n",
       "       'SepalWidthCm PetalWidthCm', 'PetalLengthCm^2',\n",
       "       'PetalLengthCm PetalWidthCm', 'PetalWidthCm^2'], dtype=object)"
      ]
     },
     "execution_count": 24,
     "metadata": {},
     "output_type": "execute_result"
    }
   ],
   "source": [
    "feature_names_pl = poly.get_feature_names_out(input_features=X_train.columns)\n",
    "feature_names_pl"
   ]
  },
  {
   "cell_type": "code",
   "execution_count": 26,
   "id": "a5f6d451",
   "metadata": {},
   "outputs": [
    {
     "data": {
      "text/plain": [
       "((120, 4), (30, 4), (120, 15), (30, 15))"
      ]
     },
     "execution_count": 26,
     "metadata": {},
     "output_type": "execute_result"
    }
   ],
   "source": [
    "X_train.shape, X_test.shape, X_train_pl.shape, X_test_pl.shape"
   ]
  },
  {
   "cell_type": "markdown",
   "id": "cbbcaccc",
   "metadata": {},
   "source": [
    "## Initialize the model"
   ]
  },
  {
   "cell_type": "code",
   "execution_count": 27,
   "id": "f315dc3b",
   "metadata": {},
   "outputs": [],
   "source": [
    "lda = LinearDiscriminantAnalysis()"
   ]
  },
  {
   "cell_type": "markdown",
   "id": "6eb436cf",
   "metadata": {},
   "source": [
    "## Train model with polynomial features"
   ]
  },
  {
   "cell_type": "code",
   "execution_count": 28,
   "id": "138db93d",
   "metadata": {},
   "outputs": [],
   "source": [
    "lda_pl = lda.fit(X_train_pl, y_train)"
   ]
  },
  {
   "cell_type": "code",
   "execution_count": 29,
   "id": "77de4bf9",
   "metadata": {},
   "outputs": [],
   "source": [
    "y_pred_pl = lda_pl.predict(X_test_pl)"
   ]
  },
  {
   "cell_type": "code",
   "execution_count": 30,
   "id": "fb637210",
   "metadata": {},
   "outputs": [
    {
     "name": "stdout",
     "output_type": "stream",
     "text": [
      "                 precision    recall  f1-score   support\n",
      "\n",
      "    Iris-setosa       1.00      1.00      1.00         9\n",
      "Iris-versicolor       0.89      1.00      0.94         8\n",
      " Iris-virginica       1.00      0.92      0.96        13\n",
      "\n",
      "       accuracy                           0.97        30\n",
      "      macro avg       0.96      0.97      0.97        30\n",
      "   weighted avg       0.97      0.97      0.97        30\n",
      "\n"
     ]
    }
   ],
   "source": [
    "cr = classification_report(y_test, y_pred_pl)\n",
    "print(cr)"
   ]
  },
  {
   "cell_type": "markdown",
   "id": "88976c0a",
   "metadata": {},
   "source": [
    "#### Forward selection"
   ]
  },
  {
   "cell_type": "code",
   "execution_count": 31,
   "id": "f6a2b9be",
   "metadata": {},
   "outputs": [
    {
     "data": {
      "text/plain": [
       "(120, 15)"
      ]
     },
     "execution_count": 31,
     "metadata": {},
     "output_type": "execute_result"
    }
   ],
   "source": [
    "X_train_pl.shape"
   ]
  },
  {
   "cell_type": "code",
   "execution_count": null,
   "id": "f292d56b",
   "metadata": {},
   "outputs": [],
   "source": [
    "sfs_forward = SFS(lda, \n",
    "                  n_features_to_select=2, \n",
    "                  direction='forward',\n",
    "                  cv=10,\n",
    "                  n_jobs=workers)\n",
    "\n",
    "sfs_forward = sfs_forward.fit(X_train_pl, y_train)\n",
    "sfs_forward"
   ]
  },
  {
   "cell_type": "code",
   "execution_count": null,
   "id": "d9d9e729",
   "metadata": {},
   "outputs": [],
   "source": [
    "X_train_fw = sfs_forward.transform(X_train)\n",
    "X_test_fw = sfs_forward.transform(X_test)\n",
    "X_train_fw.shape"
   ]
  },
  {
   "cell_type": "code",
   "execution_count": 48,
   "id": "5bdc5926",
   "metadata": {},
   "outputs": [
    {
     "data": {
      "text/plain": [
       "Index(['SepalLengthCm', 'SepalWidthCm', 'PetalLengthCm', 'PetalWidthCm'], dtype='object')"
      ]
     },
     "execution_count": 48,
     "metadata": {},
     "output_type": "execute_result"
    }
   ],
   "source": [
    "X_train.columns"
   ]
  },
  {
   "cell_type": "code",
   "execution_count": 49,
   "id": "2f974e1f",
   "metadata": {},
   "outputs": [
    {
     "data": {
      "text/plain": [
       "array(['SepalWidthCm', 'PetalWidthCm'], dtype=object)"
      ]
     },
     "execution_count": 49,
     "metadata": {},
     "output_type": "execute_result"
    }
   ],
   "source": [
    "sfs_forward.get_feature_names_out(X_train.columns)"
   ]
  },
  {
   "cell_type": "code",
   "execution_count": 33,
   "id": "e6a9a20a",
   "metadata": {},
   "outputs": [],
   "source": [
    "lda_fw = LinearDiscriminantAnalysis()"
   ]
  },
  {
   "cell_type": "code",
   "execution_count": 34,
   "id": "f3cfba48",
   "metadata": {},
   "outputs": [],
   "source": [
    "lda_fw = lda_fw.fit(X_train_fw, y_train)"
   ]
  },
  {
   "cell_type": "code",
   "execution_count": 35,
   "id": "70586074",
   "metadata": {},
   "outputs": [],
   "source": [
    "y_pred_fw = lda_fw.predict(X_test_fw)"
   ]
  },
  {
   "cell_type": "code",
   "execution_count": 36,
   "id": "5b21f166",
   "metadata": {},
   "outputs": [
    {
     "name": "stdout",
     "output_type": "stream",
     "text": [
      "                 precision    recall  f1-score   support\n",
      "\n",
      "    Iris-setosa       1.00      1.00      1.00         9\n",
      "Iris-versicolor       0.80      1.00      0.89         8\n",
      " Iris-virginica       1.00      0.85      0.92        13\n",
      "\n",
      "       accuracy                           0.93        30\n",
      "      macro avg       0.93      0.95      0.94        30\n",
      "   weighted avg       0.95      0.93      0.93        30\n",
      "\n"
     ]
    }
   ],
   "source": [
    "cr = classification_report(y_test, y_pred_fw)\n",
    "print(cr)"
   ]
  },
  {
   "cell_type": "markdown",
   "id": "5a47f113",
   "metadata": {},
   "source": [
    "#### Backward selection\\"
   ]
  },
  {
   "cell_type": "code",
   "execution_count": 33,
   "id": "84a90889",
   "metadata": {},
   "outputs": [],
   "source": [
    "lda = LinearDiscriminantAnalysis()"
   ]
  },
  {
   "cell_type": "code",
   "execution_count": 34,
   "id": "b7d9172e",
   "metadata": {},
   "outputs": [
    {
     "data": {
      "text/plain": [
       "(120, 15)"
      ]
     },
     "execution_count": 34,
     "metadata": {},
     "output_type": "execute_result"
    }
   ],
   "source": [
    "X_train_pl.shape"
   ]
  },
  {
   "cell_type": "code",
   "execution_count": 35,
   "id": "694e8053",
   "metadata": {
    "scrolled": true
   },
   "outputs": [
    {
     "data": {
      "text/html": [
       "<style>#sk-container-id-1 {color: black;background-color: white;}#sk-container-id-1 pre{padding: 0;}#sk-container-id-1 div.sk-toggleable {background-color: white;}#sk-container-id-1 label.sk-toggleable__label {cursor: pointer;display: block;width: 100%;margin-bottom: 0;padding: 0.3em;box-sizing: border-box;text-align: center;}#sk-container-id-1 label.sk-toggleable__label-arrow:before {content: \"▸\";float: left;margin-right: 0.25em;color: #696969;}#sk-container-id-1 label.sk-toggleable__label-arrow:hover:before {color: black;}#sk-container-id-1 div.sk-estimator:hover label.sk-toggleable__label-arrow:before {color: black;}#sk-container-id-1 div.sk-toggleable__content {max-height: 0;max-width: 0;overflow: hidden;text-align: left;background-color: #f0f8ff;}#sk-container-id-1 div.sk-toggleable__content pre {margin: 0.2em;color: black;border-radius: 0.25em;background-color: #f0f8ff;}#sk-container-id-1 input.sk-toggleable__control:checked~div.sk-toggleable__content {max-height: 200px;max-width: 100%;overflow: auto;}#sk-container-id-1 input.sk-toggleable__control:checked~label.sk-toggleable__label-arrow:before {content: \"▾\";}#sk-container-id-1 div.sk-estimator input.sk-toggleable__control:checked~label.sk-toggleable__label {background-color: #d4ebff;}#sk-container-id-1 div.sk-label input.sk-toggleable__control:checked~label.sk-toggleable__label {background-color: #d4ebff;}#sk-container-id-1 input.sk-hidden--visually {border: 0;clip: rect(1px 1px 1px 1px);clip: rect(1px, 1px, 1px, 1px);height: 1px;margin: -1px;overflow: hidden;padding: 0;position: absolute;width: 1px;}#sk-container-id-1 div.sk-estimator {font-family: monospace;background-color: #f0f8ff;border: 1px dotted black;border-radius: 0.25em;box-sizing: border-box;margin-bottom: 0.5em;}#sk-container-id-1 div.sk-estimator:hover {background-color: #d4ebff;}#sk-container-id-1 div.sk-parallel-item::after {content: \"\";width: 100%;border-bottom: 1px solid gray;flex-grow: 1;}#sk-container-id-1 div.sk-label:hover label.sk-toggleable__label {background-color: #d4ebff;}#sk-container-id-1 div.sk-serial::before {content: \"\";position: absolute;border-left: 1px solid gray;box-sizing: border-box;top: 0;bottom: 0;left: 50%;z-index: 0;}#sk-container-id-1 div.sk-serial {display: flex;flex-direction: column;align-items: center;background-color: white;padding-right: 0.2em;padding-left: 0.2em;position: relative;}#sk-container-id-1 div.sk-item {position: relative;z-index: 1;}#sk-container-id-1 div.sk-parallel {display: flex;align-items: stretch;justify-content: center;background-color: white;position: relative;}#sk-container-id-1 div.sk-item::before, #sk-container-id-1 div.sk-parallel-item::before {content: \"\";position: absolute;border-left: 1px solid gray;box-sizing: border-box;top: 0;bottom: 0;left: 50%;z-index: -1;}#sk-container-id-1 div.sk-parallel-item {display: flex;flex-direction: column;z-index: 1;position: relative;background-color: white;}#sk-container-id-1 div.sk-parallel-item:first-child::after {align-self: flex-end;width: 50%;}#sk-container-id-1 div.sk-parallel-item:last-child::after {align-self: flex-start;width: 50%;}#sk-container-id-1 div.sk-parallel-item:only-child::after {width: 0;}#sk-container-id-1 div.sk-dashed-wrapped {border: 1px dashed gray;margin: 0 0.4em 0.5em 0.4em;box-sizing: border-box;padding-bottom: 0.4em;background-color: white;}#sk-container-id-1 div.sk-label label {font-family: monospace;font-weight: bold;display: inline-block;line-height: 1.2em;}#sk-container-id-1 div.sk-label-container {text-align: center;}#sk-container-id-1 div.sk-container {/* jupyter's `normalize.less` sets `[hidden] { display: none; }` but bootstrap.min.css set `[hidden] { display: none !important; }` so we also need the `!important` here to be able to override the default hidden behavior on the sphinx rendered scikit-learn.org. See: https://github.com/scikit-learn/scikit-learn/issues/21755 */display: inline-block !important;position: relative;}#sk-container-id-1 div.sk-text-repr-fallback {display: none;}</style><div id=\"sk-container-id-1\" class=\"sk-top-container\"><div class=\"sk-text-repr-fallback\"><pre>SequentialFeatureSelector(cv=10, direction=&#x27;backward&#x27;,\n",
       "                          estimator=LinearDiscriminantAnalysis(),\n",
       "                          n_features_to_select=2, n_jobs=8)</pre><b>In a Jupyter environment, please rerun this cell to show the HTML representation or trust the notebook. <br />On GitHub, the HTML representation is unable to render, please try loading this page with nbviewer.org.</b></div><div class=\"sk-container\" hidden><div class=\"sk-item sk-dashed-wrapped\"><div class=\"sk-label-container\"><div class=\"sk-label sk-toggleable\"><input class=\"sk-toggleable__control sk-hidden--visually\" id=\"sk-estimator-id-1\" type=\"checkbox\" ><label for=\"sk-estimator-id-1\" class=\"sk-toggleable__label sk-toggleable__label-arrow\">SequentialFeatureSelector</label><div class=\"sk-toggleable__content\"><pre>SequentialFeatureSelector(cv=10, direction=&#x27;backward&#x27;,\n",
       "                          estimator=LinearDiscriminantAnalysis(),\n",
       "                          n_features_to_select=2, n_jobs=8)</pre></div></div></div><div class=\"sk-parallel\"><div class=\"sk-parallel-item\"><div class=\"sk-item\"><div class=\"sk-label-container\"><div class=\"sk-label sk-toggleable\"><input class=\"sk-toggleable__control sk-hidden--visually\" id=\"sk-estimator-id-2\" type=\"checkbox\" ><label for=\"sk-estimator-id-2\" class=\"sk-toggleable__label sk-toggleable__label-arrow\">estimator: LinearDiscriminantAnalysis</label><div class=\"sk-toggleable__content\"><pre>LinearDiscriminantAnalysis()</pre></div></div></div><div class=\"sk-serial\"><div class=\"sk-item\"><div class=\"sk-estimator sk-toggleable\"><input class=\"sk-toggleable__control sk-hidden--visually\" id=\"sk-estimator-id-3\" type=\"checkbox\" ><label for=\"sk-estimator-id-3\" class=\"sk-toggleable__label sk-toggleable__label-arrow\">LinearDiscriminantAnalysis</label><div class=\"sk-toggleable__content\"><pre>LinearDiscriminantAnalysis()</pre></div></div></div></div></div></div></div></div></div></div>"
      ],
      "text/plain": [
       "SequentialFeatureSelector(cv=10, direction='backward',\n",
       "                          estimator=LinearDiscriminantAnalysis(),\n",
       "                          n_features_to_select=2, n_jobs=8)"
      ]
     },
     "execution_count": 35,
     "metadata": {},
     "output_type": "execute_result"
    }
   ],
   "source": [
    "sfs_backward = SFS(lda, \n",
    "                  n_features_to_select=2, \n",
    "                  direction='backward',\n",
    "                  cv=10,\n",
    "                  n_jobs=workers)\n",
    "\n",
    "sfs_backward = sfs_backward.fit(X_train_pl, y_train)\n",
    "sfs_backward"
   ]
  },
  {
   "cell_type": "code",
   "execution_count": 36,
   "id": "837fa19e",
   "metadata": {},
   "outputs": [
    {
     "data": {
      "text/plain": [
       "(120, 2)"
      ]
     },
     "execution_count": 36,
     "metadata": {},
     "output_type": "execute_result"
    }
   ],
   "source": [
    "X_train_bw = sfs_backward.transform(X_train_pl)\n",
    "X_test_bw = sfs_backward.transform(X_test_pl)\n",
    "X_train_bw.shape"
   ]
  },
  {
   "cell_type": "code",
   "execution_count": 37,
   "id": "e9a31533",
   "metadata": {},
   "outputs": [
    {
     "data": {
      "text/plain": [
       "array(['PetalWidthCm', 'SepalWidthCm PetalWidthCm'], dtype=object)"
      ]
     },
     "execution_count": 37,
     "metadata": {},
     "output_type": "execute_result"
    }
   ],
   "source": [
    "sfs_backward.get_feature_names_out(input_features=feature_names_pl)"
   ]
  },
  {
   "cell_type": "code",
   "execution_count": 38,
   "id": "d6225fcb",
   "metadata": {},
   "outputs": [],
   "source": [
    "lda_bw = LinearDiscriminantAnalysis()"
   ]
  },
  {
   "cell_type": "code",
   "execution_count": 39,
   "id": "211e39eb",
   "metadata": {},
   "outputs": [],
   "source": [
    "lda_bw = lda_bw.fit(X_train_bw, y_train)"
   ]
  },
  {
   "cell_type": "code",
   "execution_count": 40,
   "id": "59b57af9",
   "metadata": {},
   "outputs": [],
   "source": [
    "y_pred_bw = lda_bw.predict(X_test_bw)"
   ]
  },
  {
   "cell_type": "code",
   "execution_count": 41,
   "id": "8f382357",
   "metadata": {
    "scrolled": true
   },
   "outputs": [
    {
     "name": "stdout",
     "output_type": "stream",
     "text": [
      "                 precision    recall  f1-score   support\n",
      "\n",
      "    Iris-setosa       1.00      1.00      1.00         9\n",
      "Iris-versicolor       0.70      0.88      0.78         8\n",
      " Iris-virginica       0.91      0.77      0.83        13\n",
      "\n",
      "       accuracy                           0.87        30\n",
      "      macro avg       0.87      0.88      0.87        30\n",
      "   weighted avg       0.88      0.87      0.87        30\n",
      "\n"
     ]
    }
   ],
   "source": [
    "cr = classification_report(y_test, y_pred_bw)\n",
    "print(cr)"
   ]
  },
  {
   "cell_type": "markdown",
   "id": "96eafea9",
   "metadata": {},
   "source": [
    "## Ridge and Lasso regression"
   ]
  },
  {
   "cell_type": "code",
   "execution_count": 42,
   "id": "5ace429c",
   "metadata": {},
   "outputs": [],
   "source": [
    "pertol_consumption_path = LR_PATH / 'petrol_consumption.csv'"
   ]
  },
  {
   "cell_type": "code",
   "execution_count": 43,
   "id": "ab6c7d0c",
   "metadata": {},
   "outputs": [
    {
     "data": {
      "text/html": [
       "<div>\n",
       "<style scoped>\n",
       "    .dataframe tbody tr th:only-of-type {\n",
       "        vertical-align: middle;\n",
       "    }\n",
       "\n",
       "    .dataframe tbody tr th {\n",
       "        vertical-align: top;\n",
       "    }\n",
       "\n",
       "    .dataframe thead th {\n",
       "        text-align: right;\n",
       "    }\n",
       "</style>\n",
       "<table border=\"1\" class=\"dataframe\">\n",
       "  <thead>\n",
       "    <tr style=\"text-align: right;\">\n",
       "      <th></th>\n",
       "      <th>Petrol_tax</th>\n",
       "      <th>Average_income</th>\n",
       "      <th>Paved_Highways</th>\n",
       "      <th>Population_Driver_licence(%)</th>\n",
       "      <th>Petrol_Consumption</th>\n",
       "    </tr>\n",
       "  </thead>\n",
       "  <tbody>\n",
       "    <tr>\n",
       "      <th>0</th>\n",
       "      <td>9.00</td>\n",
       "      <td>3571</td>\n",
       "      <td>1976</td>\n",
       "      <td>0.525</td>\n",
       "      <td>541</td>\n",
       "    </tr>\n",
       "    <tr>\n",
       "      <th>1</th>\n",
       "      <td>9.00</td>\n",
       "      <td>4092</td>\n",
       "      <td>1250</td>\n",
       "      <td>0.572</td>\n",
       "      <td>524</td>\n",
       "    </tr>\n",
       "    <tr>\n",
       "      <th>2</th>\n",
       "      <td>9.00</td>\n",
       "      <td>3865</td>\n",
       "      <td>1586</td>\n",
       "      <td>0.580</td>\n",
       "      <td>561</td>\n",
       "    </tr>\n",
       "    <tr>\n",
       "      <th>3</th>\n",
       "      <td>7.50</td>\n",
       "      <td>4870</td>\n",
       "      <td>2351</td>\n",
       "      <td>0.529</td>\n",
       "      <td>414</td>\n",
       "    </tr>\n",
       "    <tr>\n",
       "      <th>4</th>\n",
       "      <td>8.00</td>\n",
       "      <td>4399</td>\n",
       "      <td>431</td>\n",
       "      <td>0.544</td>\n",
       "      <td>410</td>\n",
       "    </tr>\n",
       "    <tr>\n",
       "      <th>5</th>\n",
       "      <td>10.00</td>\n",
       "      <td>5342</td>\n",
       "      <td>1333</td>\n",
       "      <td>0.571</td>\n",
       "      <td>457</td>\n",
       "    </tr>\n",
       "    <tr>\n",
       "      <th>6</th>\n",
       "      <td>8.00</td>\n",
       "      <td>5319</td>\n",
       "      <td>11868</td>\n",
       "      <td>0.451</td>\n",
       "      <td>344</td>\n",
       "    </tr>\n",
       "    <tr>\n",
       "      <th>7</th>\n",
       "      <td>8.00</td>\n",
       "      <td>5126</td>\n",
       "      <td>2138</td>\n",
       "      <td>0.553</td>\n",
       "      <td>467</td>\n",
       "    </tr>\n",
       "    <tr>\n",
       "      <th>8</th>\n",
       "      <td>8.00</td>\n",
       "      <td>4447</td>\n",
       "      <td>8577</td>\n",
       "      <td>0.529</td>\n",
       "      <td>464</td>\n",
       "    </tr>\n",
       "    <tr>\n",
       "      <th>9</th>\n",
       "      <td>7.00</td>\n",
       "      <td>4512</td>\n",
       "      <td>8507</td>\n",
       "      <td>0.552</td>\n",
       "      <td>498</td>\n",
       "    </tr>\n",
       "    <tr>\n",
       "      <th>10</th>\n",
       "      <td>8.00</td>\n",
       "      <td>4391</td>\n",
       "      <td>5939</td>\n",
       "      <td>0.530</td>\n",
       "      <td>580</td>\n",
       "    </tr>\n",
       "    <tr>\n",
       "      <th>11</th>\n",
       "      <td>7.50</td>\n",
       "      <td>5126</td>\n",
       "      <td>14186</td>\n",
       "      <td>0.525</td>\n",
       "      <td>471</td>\n",
       "    </tr>\n",
       "    <tr>\n",
       "      <th>12</th>\n",
       "      <td>7.00</td>\n",
       "      <td>4817</td>\n",
       "      <td>6930</td>\n",
       "      <td>0.574</td>\n",
       "      <td>525</td>\n",
       "    </tr>\n",
       "    <tr>\n",
       "      <th>13</th>\n",
       "      <td>7.00</td>\n",
       "      <td>4207</td>\n",
       "      <td>6580</td>\n",
       "      <td>0.545</td>\n",
       "      <td>508</td>\n",
       "    </tr>\n",
       "    <tr>\n",
       "      <th>14</th>\n",
       "      <td>7.00</td>\n",
       "      <td>4332</td>\n",
       "      <td>8159</td>\n",
       "      <td>0.608</td>\n",
       "      <td>566</td>\n",
       "    </tr>\n",
       "    <tr>\n",
       "      <th>15</th>\n",
       "      <td>7.00</td>\n",
       "      <td>4318</td>\n",
       "      <td>10340</td>\n",
       "      <td>0.586</td>\n",
       "      <td>635</td>\n",
       "    </tr>\n",
       "    <tr>\n",
       "      <th>16</th>\n",
       "      <td>7.00</td>\n",
       "      <td>4206</td>\n",
       "      <td>8508</td>\n",
       "      <td>0.572</td>\n",
       "      <td>603</td>\n",
       "    </tr>\n",
       "    <tr>\n",
       "      <th>17</th>\n",
       "      <td>7.00</td>\n",
       "      <td>3718</td>\n",
       "      <td>4725</td>\n",
       "      <td>0.540</td>\n",
       "      <td>714</td>\n",
       "    </tr>\n",
       "    <tr>\n",
       "      <th>18</th>\n",
       "      <td>7.00</td>\n",
       "      <td>4716</td>\n",
       "      <td>5915</td>\n",
       "      <td>0.724</td>\n",
       "      <td>865</td>\n",
       "    </tr>\n",
       "    <tr>\n",
       "      <th>19</th>\n",
       "      <td>8.50</td>\n",
       "      <td>4341</td>\n",
       "      <td>6010</td>\n",
       "      <td>0.677</td>\n",
       "      <td>640</td>\n",
       "    </tr>\n",
       "    <tr>\n",
       "      <th>20</th>\n",
       "      <td>7.00</td>\n",
       "      <td>4593</td>\n",
       "      <td>7834</td>\n",
       "      <td>0.663</td>\n",
       "      <td>649</td>\n",
       "    </tr>\n",
       "    <tr>\n",
       "      <th>21</th>\n",
       "      <td>8.00</td>\n",
       "      <td>4983</td>\n",
       "      <td>602</td>\n",
       "      <td>0.602</td>\n",
       "      <td>540</td>\n",
       "    </tr>\n",
       "    <tr>\n",
       "      <th>22</th>\n",
       "      <td>9.00</td>\n",
       "      <td>4897</td>\n",
       "      <td>2449</td>\n",
       "      <td>0.511</td>\n",
       "      <td>464</td>\n",
       "    </tr>\n",
       "    <tr>\n",
       "      <th>23</th>\n",
       "      <td>9.00</td>\n",
       "      <td>4258</td>\n",
       "      <td>4686</td>\n",
       "      <td>0.517</td>\n",
       "      <td>547</td>\n",
       "    </tr>\n",
       "    <tr>\n",
       "      <th>24</th>\n",
       "      <td>8.50</td>\n",
       "      <td>4574</td>\n",
       "      <td>2619</td>\n",
       "      <td>0.551</td>\n",
       "      <td>460</td>\n",
       "    </tr>\n",
       "    <tr>\n",
       "      <th>25</th>\n",
       "      <td>9.00</td>\n",
       "      <td>3721</td>\n",
       "      <td>4746</td>\n",
       "      <td>0.544</td>\n",
       "      <td>566</td>\n",
       "    </tr>\n",
       "    <tr>\n",
       "      <th>26</th>\n",
       "      <td>8.00</td>\n",
       "      <td>3448</td>\n",
       "      <td>5399</td>\n",
       "      <td>0.548</td>\n",
       "      <td>577</td>\n",
       "    </tr>\n",
       "    <tr>\n",
       "      <th>27</th>\n",
       "      <td>7.50</td>\n",
       "      <td>3846</td>\n",
       "      <td>9061</td>\n",
       "      <td>0.579</td>\n",
       "      <td>631</td>\n",
       "    </tr>\n",
       "    <tr>\n",
       "      <th>28</th>\n",
       "      <td>8.00</td>\n",
       "      <td>4188</td>\n",
       "      <td>5975</td>\n",
       "      <td>0.563</td>\n",
       "      <td>574</td>\n",
       "    </tr>\n",
       "    <tr>\n",
       "      <th>29</th>\n",
       "      <td>9.00</td>\n",
       "      <td>3601</td>\n",
       "      <td>4650</td>\n",
       "      <td>0.493</td>\n",
       "      <td>534</td>\n",
       "    </tr>\n",
       "    <tr>\n",
       "      <th>30</th>\n",
       "      <td>7.00</td>\n",
       "      <td>3640</td>\n",
       "      <td>6905</td>\n",
       "      <td>0.518</td>\n",
       "      <td>571</td>\n",
       "    </tr>\n",
       "    <tr>\n",
       "      <th>31</th>\n",
       "      <td>7.00</td>\n",
       "      <td>3333</td>\n",
       "      <td>6594</td>\n",
       "      <td>0.513</td>\n",
       "      <td>554</td>\n",
       "    </tr>\n",
       "    <tr>\n",
       "      <th>32</th>\n",
       "      <td>8.00</td>\n",
       "      <td>3063</td>\n",
       "      <td>6524</td>\n",
       "      <td>0.578</td>\n",
       "      <td>577</td>\n",
       "    </tr>\n",
       "    <tr>\n",
       "      <th>33</th>\n",
       "      <td>7.50</td>\n",
       "      <td>3357</td>\n",
       "      <td>4121</td>\n",
       "      <td>0.547</td>\n",
       "      <td>628</td>\n",
       "    </tr>\n",
       "    <tr>\n",
       "      <th>34</th>\n",
       "      <td>8.00</td>\n",
       "      <td>3528</td>\n",
       "      <td>3495</td>\n",
       "      <td>0.487</td>\n",
       "      <td>487</td>\n",
       "    </tr>\n",
       "    <tr>\n",
       "      <th>35</th>\n",
       "      <td>6.58</td>\n",
       "      <td>3802</td>\n",
       "      <td>7834</td>\n",
       "      <td>0.629</td>\n",
       "      <td>644</td>\n",
       "    </tr>\n",
       "    <tr>\n",
       "      <th>36</th>\n",
       "      <td>5.00</td>\n",
       "      <td>4045</td>\n",
       "      <td>17782</td>\n",
       "      <td>0.566</td>\n",
       "      <td>640</td>\n",
       "    </tr>\n",
       "    <tr>\n",
       "      <th>37</th>\n",
       "      <td>7.00</td>\n",
       "      <td>3897</td>\n",
       "      <td>6385</td>\n",
       "      <td>0.586</td>\n",
       "      <td>704</td>\n",
       "    </tr>\n",
       "    <tr>\n",
       "      <th>38</th>\n",
       "      <td>8.50</td>\n",
       "      <td>3635</td>\n",
       "      <td>3274</td>\n",
       "      <td>0.663</td>\n",
       "      <td>648</td>\n",
       "    </tr>\n",
       "    <tr>\n",
       "      <th>39</th>\n",
       "      <td>7.00</td>\n",
       "      <td>4345</td>\n",
       "      <td>3905</td>\n",
       "      <td>0.672</td>\n",
       "      <td>968</td>\n",
       "    </tr>\n",
       "    <tr>\n",
       "      <th>40</th>\n",
       "      <td>7.00</td>\n",
       "      <td>4449</td>\n",
       "      <td>4639</td>\n",
       "      <td>0.626</td>\n",
       "      <td>587</td>\n",
       "    </tr>\n",
       "    <tr>\n",
       "      <th>41</th>\n",
       "      <td>7.00</td>\n",
       "      <td>3656</td>\n",
       "      <td>3985</td>\n",
       "      <td>0.563</td>\n",
       "      <td>699</td>\n",
       "    </tr>\n",
       "    <tr>\n",
       "      <th>42</th>\n",
       "      <td>7.00</td>\n",
       "      <td>4300</td>\n",
       "      <td>3635</td>\n",
       "      <td>0.603</td>\n",
       "      <td>632</td>\n",
       "    </tr>\n",
       "    <tr>\n",
       "      <th>43</th>\n",
       "      <td>7.00</td>\n",
       "      <td>3745</td>\n",
       "      <td>2611</td>\n",
       "      <td>0.508</td>\n",
       "      <td>591</td>\n",
       "    </tr>\n",
       "    <tr>\n",
       "      <th>44</th>\n",
       "      <td>6.00</td>\n",
       "      <td>5215</td>\n",
       "      <td>2302</td>\n",
       "      <td>0.672</td>\n",
       "      <td>782</td>\n",
       "    </tr>\n",
       "    <tr>\n",
       "      <th>45</th>\n",
       "      <td>9.00</td>\n",
       "      <td>4476</td>\n",
       "      <td>3942</td>\n",
       "      <td>0.571</td>\n",
       "      <td>510</td>\n",
       "    </tr>\n",
       "    <tr>\n",
       "      <th>46</th>\n",
       "      <td>7.00</td>\n",
       "      <td>4296</td>\n",
       "      <td>4083</td>\n",
       "      <td>0.623</td>\n",
       "      <td>610</td>\n",
       "    </tr>\n",
       "    <tr>\n",
       "      <th>47</th>\n",
       "      <td>7.00</td>\n",
       "      <td>5002</td>\n",
       "      <td>9794</td>\n",
       "      <td>0.593</td>\n",
       "      <td>524</td>\n",
       "    </tr>\n",
       "  </tbody>\n",
       "</table>\n",
       "</div>"
      ],
      "text/plain": [
       "    Petrol_tax  Average_income  Paved_Highways  Population_Driver_licence(%)  \\\n",
       "0         9.00            3571            1976                         0.525   \n",
       "1         9.00            4092            1250                         0.572   \n",
       "2         9.00            3865            1586                         0.580   \n",
       "3         7.50            4870            2351                         0.529   \n",
       "4         8.00            4399             431                         0.544   \n",
       "5        10.00            5342            1333                         0.571   \n",
       "6         8.00            5319           11868                         0.451   \n",
       "7         8.00            5126            2138                         0.553   \n",
       "8         8.00            4447            8577                         0.529   \n",
       "9         7.00            4512            8507                         0.552   \n",
       "10        8.00            4391            5939                         0.530   \n",
       "11        7.50            5126           14186                         0.525   \n",
       "12        7.00            4817            6930                         0.574   \n",
       "13        7.00            4207            6580                         0.545   \n",
       "14        7.00            4332            8159                         0.608   \n",
       "15        7.00            4318           10340                         0.586   \n",
       "16        7.00            4206            8508                         0.572   \n",
       "17        7.00            3718            4725                         0.540   \n",
       "18        7.00            4716            5915                         0.724   \n",
       "19        8.50            4341            6010                         0.677   \n",
       "20        7.00            4593            7834                         0.663   \n",
       "21        8.00            4983             602                         0.602   \n",
       "22        9.00            4897            2449                         0.511   \n",
       "23        9.00            4258            4686                         0.517   \n",
       "24        8.50            4574            2619                         0.551   \n",
       "25        9.00            3721            4746                         0.544   \n",
       "26        8.00            3448            5399                         0.548   \n",
       "27        7.50            3846            9061                         0.579   \n",
       "28        8.00            4188            5975                         0.563   \n",
       "29        9.00            3601            4650                         0.493   \n",
       "30        7.00            3640            6905                         0.518   \n",
       "31        7.00            3333            6594                         0.513   \n",
       "32        8.00            3063            6524                         0.578   \n",
       "33        7.50            3357            4121                         0.547   \n",
       "34        8.00            3528            3495                         0.487   \n",
       "35        6.58            3802            7834                         0.629   \n",
       "36        5.00            4045           17782                         0.566   \n",
       "37        7.00            3897            6385                         0.586   \n",
       "38        8.50            3635            3274                         0.663   \n",
       "39        7.00            4345            3905                         0.672   \n",
       "40        7.00            4449            4639                         0.626   \n",
       "41        7.00            3656            3985                         0.563   \n",
       "42        7.00            4300            3635                         0.603   \n",
       "43        7.00            3745            2611                         0.508   \n",
       "44        6.00            5215            2302                         0.672   \n",
       "45        9.00            4476            3942                         0.571   \n",
       "46        7.00            4296            4083                         0.623   \n",
       "47        7.00            5002            9794                         0.593   \n",
       "\n",
       "    Petrol_Consumption  \n",
       "0                  541  \n",
       "1                  524  \n",
       "2                  561  \n",
       "3                  414  \n",
       "4                  410  \n",
       "5                  457  \n",
       "6                  344  \n",
       "7                  467  \n",
       "8                  464  \n",
       "9                  498  \n",
       "10                 580  \n",
       "11                 471  \n",
       "12                 525  \n",
       "13                 508  \n",
       "14                 566  \n",
       "15                 635  \n",
       "16                 603  \n",
       "17                 714  \n",
       "18                 865  \n",
       "19                 640  \n",
       "20                 649  \n",
       "21                 540  \n",
       "22                 464  \n",
       "23                 547  \n",
       "24                 460  \n",
       "25                 566  \n",
       "26                 577  \n",
       "27                 631  \n",
       "28                 574  \n",
       "29                 534  \n",
       "30                 571  \n",
       "31                 554  \n",
       "32                 577  \n",
       "33                 628  \n",
       "34                 487  \n",
       "35                 644  \n",
       "36                 640  \n",
       "37                 704  \n",
       "38                 648  \n",
       "39                 968  \n",
       "40                 587  \n",
       "41                 699  \n",
       "42                 632  \n",
       "43                 591  \n",
       "44                 782  \n",
       "45                 510  \n",
       "46                 610  \n",
       "47                 524  "
      ]
     },
     "execution_count": 43,
     "metadata": {},
     "output_type": "execute_result"
    }
   ],
   "source": [
    "df = pd.read_csv(pertol_consumption_path)\n",
    "df"
   ]
  },
  {
   "cell_type": "code",
   "execution_count": 44,
   "id": "4fed031a",
   "metadata": {},
   "outputs": [
    {
     "data": {
      "text/plain": [
       "(48, 5)"
      ]
     },
     "execution_count": 44,
     "metadata": {},
     "output_type": "execute_result"
    }
   ],
   "source": [
    "df.shape"
   ]
  },
  {
   "cell_type": "code",
   "execution_count": 45,
   "id": "8c0dfd57",
   "metadata": {},
   "outputs": [
    {
     "name": "stdout",
     "output_type": "stream",
     "text": [
      "                              count     mean      std      min      25%  \\\n",
      "Petrol_tax                     48.0     7.67     0.95     5.00     7.00   \n",
      "Average_income                 48.0  4241.83   573.62  3063.00  3739.00   \n",
      "Paved_Highways                 48.0  5565.42  3491.51   431.00  3110.25   \n",
      "Population_Driver_licence(%)   48.0     0.57     0.06     0.45     0.53   \n",
      "Petrol_Consumption             48.0   576.77   111.89   344.00   509.50   \n",
      "\n",
      "                                  50%      75%       max  \n",
      "Petrol_tax                       7.50     8.12     10.00  \n",
      "Average_income                4298.00  4578.75   5342.00  \n",
      "Paved_Highways                4735.50  7156.00  17782.00  \n",
      "Population_Driver_licence(%)     0.56     0.60      0.72  \n",
      "Petrol_Consumption             568.50   632.75    968.00  \n"
     ]
    }
   ],
   "source": [
    "print(df.describe().round(2).T)"
   ]
  },
  {
   "cell_type": "markdown",
   "id": "ab94640f",
   "metadata": {},
   "source": [
    "#### Prepare dataset"
   ]
  },
  {
   "cell_type": "code",
   "execution_count": 46,
   "id": "7de21c50",
   "metadata": {},
   "outputs": [],
   "source": [
    "y = df['Petrol_Consumption']\n",
    "X = df[['Average_income', 'Paved_Highways',\n",
    "       'Population_Driver_licence(%)', 'Petrol_tax']]"
   ]
  },
  {
   "cell_type": "code",
   "execution_count": 47,
   "id": "4c61c11f",
   "metadata": {},
   "outputs": [],
   "source": [
    "X_train, X_test, y_train, y_test = train_test_split(X, y, \n",
    "                                                    test_size=0.2, \n",
    "                                                    random_state=SEED)"
   ]
  },
  {
   "cell_type": "markdown",
   "id": "45738d3b",
   "metadata": {},
   "source": [
    "## Generate Polynomial features"
   ]
  },
  {
   "cell_type": "code",
   "execution_count": 48,
   "id": "165e3806",
   "metadata": {},
   "outputs": [],
   "source": [
    "poly = PolynomialFeatures(degree=4)"
   ]
  },
  {
   "cell_type": "code",
   "execution_count": 49,
   "id": "19adefb3",
   "metadata": {},
   "outputs": [],
   "source": [
    "X_train_pl = poly.fit_transform(X_train)\n",
    "X_test_pl = poly.transform(X_test)"
   ]
  },
  {
   "cell_type": "code",
   "execution_count": 50,
   "id": "1e4533ea",
   "metadata": {},
   "outputs": [
    {
     "data": {
      "text/plain": [
       "array(['1', 'Average_income', 'Paved_Highways',\n",
       "       'Population_Driver_licence(%)', 'Petrol_tax', 'Average_income^2',\n",
       "       'Average_income Paved_Highways',\n",
       "       'Average_income Population_Driver_licence(%)',\n",
       "       'Average_income Petrol_tax', 'Paved_Highways^2',\n",
       "       'Paved_Highways Population_Driver_licence(%)',\n",
       "       'Paved_Highways Petrol_tax', 'Population_Driver_licence(%)^2',\n",
       "       'Population_Driver_licence(%) Petrol_tax', 'Petrol_tax^2',\n",
       "       'Average_income^3', 'Average_income^2 Paved_Highways',\n",
       "       'Average_income^2 Population_Driver_licence(%)',\n",
       "       'Average_income^2 Petrol_tax', 'Average_income Paved_Highways^2',\n",
       "       'Average_income Paved_Highways Population_Driver_licence(%)',\n",
       "       'Average_income Paved_Highways Petrol_tax',\n",
       "       'Average_income Population_Driver_licence(%)^2',\n",
       "       'Average_income Population_Driver_licence(%) Petrol_tax',\n",
       "       'Average_income Petrol_tax^2', 'Paved_Highways^3',\n",
       "       'Paved_Highways^2 Population_Driver_licence(%)',\n",
       "       'Paved_Highways^2 Petrol_tax',\n",
       "       'Paved_Highways Population_Driver_licence(%)^2',\n",
       "       'Paved_Highways Population_Driver_licence(%) Petrol_tax',\n",
       "       'Paved_Highways Petrol_tax^2', 'Population_Driver_licence(%)^3',\n",
       "       'Population_Driver_licence(%)^2 Petrol_tax',\n",
       "       'Population_Driver_licence(%) Petrol_tax^2', 'Petrol_tax^3',\n",
       "       'Average_income^4', 'Average_income^3 Paved_Highways',\n",
       "       'Average_income^3 Population_Driver_licence(%)',\n",
       "       'Average_income^3 Petrol_tax', 'Average_income^2 Paved_Highways^2',\n",
       "       'Average_income^2 Paved_Highways Population_Driver_licence(%)',\n",
       "       'Average_income^2 Paved_Highways Petrol_tax',\n",
       "       'Average_income^2 Population_Driver_licence(%)^2',\n",
       "       'Average_income^2 Population_Driver_licence(%) Petrol_tax',\n",
       "       'Average_income^2 Petrol_tax^2', 'Average_income Paved_Highways^3',\n",
       "       'Average_income Paved_Highways^2 Population_Driver_licence(%)',\n",
       "       'Average_income Paved_Highways^2 Petrol_tax',\n",
       "       'Average_income Paved_Highways Population_Driver_licence(%)^2',\n",
       "       'Average_income Paved_Highways Population_Driver_licence(%) Petrol_tax',\n",
       "       'Average_income Paved_Highways Petrol_tax^2',\n",
       "       'Average_income Population_Driver_licence(%)^3',\n",
       "       'Average_income Population_Driver_licence(%)^2 Petrol_tax',\n",
       "       'Average_income Population_Driver_licence(%) Petrol_tax^2',\n",
       "       'Average_income Petrol_tax^3', 'Paved_Highways^4',\n",
       "       'Paved_Highways^3 Population_Driver_licence(%)',\n",
       "       'Paved_Highways^3 Petrol_tax',\n",
       "       'Paved_Highways^2 Population_Driver_licence(%)^2',\n",
       "       'Paved_Highways^2 Population_Driver_licence(%) Petrol_tax',\n",
       "       'Paved_Highways^2 Petrol_tax^2',\n",
       "       'Paved_Highways Population_Driver_licence(%)^3',\n",
       "       'Paved_Highways Population_Driver_licence(%)^2 Petrol_tax',\n",
       "       'Paved_Highways Population_Driver_licence(%) Petrol_tax^2',\n",
       "       'Paved_Highways Petrol_tax^3', 'Population_Driver_licence(%)^4',\n",
       "       'Population_Driver_licence(%)^3 Petrol_tax',\n",
       "       'Population_Driver_licence(%)^2 Petrol_tax^2',\n",
       "       'Population_Driver_licence(%) Petrol_tax^3', 'Petrol_tax^4'],\n",
       "      dtype=object)"
      ]
     },
     "execution_count": 50,
     "metadata": {},
     "output_type": "execute_result"
    }
   ],
   "source": [
    "feature_names_pl = poly.get_feature_names_out(input_features=X_train.columns)\n",
    "feature_names_pl"
   ]
  },
  {
   "cell_type": "code",
   "execution_count": 51,
   "id": "d8de645e",
   "metadata": {},
   "outputs": [
    {
     "data": {
      "text/plain": [
       "((38, 4), (38, 70))"
      ]
     },
     "execution_count": 51,
     "metadata": {},
     "output_type": "execute_result"
    }
   ],
   "source": [
    "X_train.shape, X_train_pl.shape"
   ]
  },
  {
   "cell_type": "code",
   "execution_count": 52,
   "id": "fab5dcb5",
   "metadata": {},
   "outputs": [],
   "source": [
    "std_scaller = StandardScaler()\n",
    "X_train_pl = std_scaller.fit_transform(X_train_pl)\n",
    "X_test_pl = std_scaller.transform(X_test_pl)"
   ]
  },
  {
   "cell_type": "markdown",
   "id": "a51f4f29",
   "metadata": {},
   "source": [
    "#### Ridge"
   ]
  },
  {
   "cell_type": "code",
   "execution_count": 53,
   "id": "5cdbb646",
   "metadata": {},
   "outputs": [
    {
     "data": {
      "text/html": [
       "<style>#sk-container-id-2 {color: black;background-color: white;}#sk-container-id-2 pre{padding: 0;}#sk-container-id-2 div.sk-toggleable {background-color: white;}#sk-container-id-2 label.sk-toggleable__label {cursor: pointer;display: block;width: 100%;margin-bottom: 0;padding: 0.3em;box-sizing: border-box;text-align: center;}#sk-container-id-2 label.sk-toggleable__label-arrow:before {content: \"▸\";float: left;margin-right: 0.25em;color: #696969;}#sk-container-id-2 label.sk-toggleable__label-arrow:hover:before {color: black;}#sk-container-id-2 div.sk-estimator:hover label.sk-toggleable__label-arrow:before {color: black;}#sk-container-id-2 div.sk-toggleable__content {max-height: 0;max-width: 0;overflow: hidden;text-align: left;background-color: #f0f8ff;}#sk-container-id-2 div.sk-toggleable__content pre {margin: 0.2em;color: black;border-radius: 0.25em;background-color: #f0f8ff;}#sk-container-id-2 input.sk-toggleable__control:checked~div.sk-toggleable__content {max-height: 200px;max-width: 100%;overflow: auto;}#sk-container-id-2 input.sk-toggleable__control:checked~label.sk-toggleable__label-arrow:before {content: \"▾\";}#sk-container-id-2 div.sk-estimator input.sk-toggleable__control:checked~label.sk-toggleable__label {background-color: #d4ebff;}#sk-container-id-2 div.sk-label input.sk-toggleable__control:checked~label.sk-toggleable__label {background-color: #d4ebff;}#sk-container-id-2 input.sk-hidden--visually {border: 0;clip: rect(1px 1px 1px 1px);clip: rect(1px, 1px, 1px, 1px);height: 1px;margin: -1px;overflow: hidden;padding: 0;position: absolute;width: 1px;}#sk-container-id-2 div.sk-estimator {font-family: monospace;background-color: #f0f8ff;border: 1px dotted black;border-radius: 0.25em;box-sizing: border-box;margin-bottom: 0.5em;}#sk-container-id-2 div.sk-estimator:hover {background-color: #d4ebff;}#sk-container-id-2 div.sk-parallel-item::after {content: \"\";width: 100%;border-bottom: 1px solid gray;flex-grow: 1;}#sk-container-id-2 div.sk-label:hover label.sk-toggleable__label {background-color: #d4ebff;}#sk-container-id-2 div.sk-serial::before {content: \"\";position: absolute;border-left: 1px solid gray;box-sizing: border-box;top: 0;bottom: 0;left: 50%;z-index: 0;}#sk-container-id-2 div.sk-serial {display: flex;flex-direction: column;align-items: center;background-color: white;padding-right: 0.2em;padding-left: 0.2em;position: relative;}#sk-container-id-2 div.sk-item {position: relative;z-index: 1;}#sk-container-id-2 div.sk-parallel {display: flex;align-items: stretch;justify-content: center;background-color: white;position: relative;}#sk-container-id-2 div.sk-item::before, #sk-container-id-2 div.sk-parallel-item::before {content: \"\";position: absolute;border-left: 1px solid gray;box-sizing: border-box;top: 0;bottom: 0;left: 50%;z-index: -1;}#sk-container-id-2 div.sk-parallel-item {display: flex;flex-direction: column;z-index: 1;position: relative;background-color: white;}#sk-container-id-2 div.sk-parallel-item:first-child::after {align-self: flex-end;width: 50%;}#sk-container-id-2 div.sk-parallel-item:last-child::after {align-self: flex-start;width: 50%;}#sk-container-id-2 div.sk-parallel-item:only-child::after {width: 0;}#sk-container-id-2 div.sk-dashed-wrapped {border: 1px dashed gray;margin: 0 0.4em 0.5em 0.4em;box-sizing: border-box;padding-bottom: 0.4em;background-color: white;}#sk-container-id-2 div.sk-label label {font-family: monospace;font-weight: bold;display: inline-block;line-height: 1.2em;}#sk-container-id-2 div.sk-label-container {text-align: center;}#sk-container-id-2 div.sk-container {/* jupyter's `normalize.less` sets `[hidden] { display: none; }` but bootstrap.min.css set `[hidden] { display: none !important; }` so we also need the `!important` here to be able to override the default hidden behavior on the sphinx rendered scikit-learn.org. See: https://github.com/scikit-learn/scikit-learn/issues/21755 */display: inline-block !important;position: relative;}#sk-container-id-2 div.sk-text-repr-fallback {display: none;}</style><div id=\"sk-container-id-2\" class=\"sk-top-container\"><div class=\"sk-text-repr-fallback\"><pre>Ridge(alpha=100.08)</pre><b>In a Jupyter environment, please rerun this cell to show the HTML representation or trust the notebook. <br />On GitHub, the HTML representation is unable to render, please try loading this page with nbviewer.org.</b></div><div class=\"sk-container\" hidden><div class=\"sk-item\"><div class=\"sk-estimator sk-toggleable\"><input class=\"sk-toggleable__control sk-hidden--visually\" id=\"sk-estimator-id-4\" type=\"checkbox\" checked><label for=\"sk-estimator-id-4\" class=\"sk-toggleable__label sk-toggleable__label-arrow\">Ridge</label><div class=\"sk-toggleable__content\"><pre>Ridge(alpha=100.08)</pre></div></div></div></div></div>"
      ],
      "text/plain": [
       "Ridge(alpha=100.08)"
      ]
     },
     "execution_count": 53,
     "metadata": {},
     "output_type": "execute_result"
    }
   ],
   "source": [
    "ridge_rg = Ridge(alpha=100.08)\n",
    "ridge_rg.fit(X_train_pl, y_train)"
   ]
  },
  {
   "cell_type": "code",
   "execution_count": 54,
   "id": "2b1bbc3c",
   "metadata": {},
   "outputs": [
    {
     "data": {
      "text/plain": [
       "586.8157894736842"
      ]
     },
     "execution_count": 54,
     "metadata": {},
     "output_type": "execute_result"
    }
   ],
   "source": [
    "ridge_rg.intercept_"
   ]
  },
  {
   "cell_type": "code",
   "execution_count": 55,
   "id": "a3920ae9",
   "metadata": {},
   "outputs": [
    {
     "data": {
      "text/plain": [
       "array([ 0.        , -2.10250677,  0.28957979,  5.35046514, -3.48465873,\n",
       "       -1.97910479, -0.28735971,  1.60920851, -4.01930384, -0.51699779,\n",
       "        0.90701634, -0.12913344,  5.7223179 , -0.28180499, -3.17983511,\n",
       "       -1.79760899, -0.80321086,  0.49632535, -3.42995055, -0.86066365,\n",
       "        0.38360057, -0.75224681,  3.73326282, -1.26455031, -3.76987467,\n",
       "       -0.23295432, -0.29617984, -0.97896859,  1.64363065,  0.53693416,\n",
       "       -0.49961944,  6.08804461,  2.40806828, -1.85954463, -2.84266327,\n",
       "       -1.57045653, -1.21134692,  0.15158578, -2.93857089, -1.19891391,\n",
       "       -0.11045046, -1.2547003 ,  2.55523381, -1.40583406, -3.58838867,\n",
       "       -0.48969576, -0.62836311, -1.31645802,  1.19860937, -0.05513148,\n",
       "       -1.11537306,  4.98455866,  1.30441416, -2.357977  , -3.27855312,\n",
       "        0.15240799, -0.1401816 , -0.67620337, -0.01832285, -0.72682675,\n",
       "       -1.37259105,  2.45942718,  1.34238985,  0.14410685, -0.74239435,\n",
       "        6.44357751,  3.8755325 , -0.08222846, -2.14929811, -2.49330099])"
      ]
     },
     "execution_count": 55,
     "metadata": {},
     "output_type": "execute_result"
    }
   ],
   "source": [
    "ridge_rg.coef_"
   ]
  },
  {
   "cell_type": "code",
   "execution_count": 56,
   "id": "58b1ec65",
   "metadata": {},
   "outputs": [
    {
     "name": "stdout",
     "output_type": "stream",
     "text": [
      "                                             Coefficient value\n",
      "1                                                     0.000000\n",
      "Average_income                                       -2.102507\n",
      "Paved_Highways                                        0.289580\n",
      "Population_Driver_licence(%)                          5.350465\n",
      "Petrol_tax                                           -3.484659\n",
      "...                                                        ...\n",
      "Population_Driver_licence(%)^4                        6.443578\n",
      "Population_Driver_licence(%)^3 Petrol_tax             3.875533\n",
      "Population_Driver_licence(%)^2 Petrol_tax^2          -0.082228\n",
      "Population_Driver_licence(%) Petrol_tax^3            -2.149298\n",
      "Petrol_tax^4                                         -2.493301\n",
      "\n",
      "[70 rows x 1 columns]\n"
     ]
    }
   ],
   "source": [
    "model_coefficients = ridge_rg.coef_\n",
    "\n",
    "coefficients_df = pd.DataFrame(data = model_coefficients, \n",
    "                              index = feature_names_pl, \n",
    "                              columns = ['Coefficient value'])\n",
    "print(coefficients_df)"
   ]
  },
  {
   "cell_type": "markdown",
   "id": "80f418b1",
   "metadata": {},
   "source": [
    "#### Inference with the model"
   ]
  },
  {
   "cell_type": "code",
   "execution_count": 57,
   "id": "f32f4cc0",
   "metadata": {},
   "outputs": [
    {
     "data": {
      "text/plain": [
       "array([474.4851455 , 680.98317028, 539.37429978, 542.03010383,\n",
       "       638.81542413, 422.83703026, 530.44920839, 575.14415063,\n",
       "       578.59319234, 546.15030112])"
      ]
     },
     "execution_count": 57,
     "metadata": {},
     "output_type": "execute_result"
    }
   ],
   "source": [
    "y_pred_pl = ridge_rg.predict(X_test_pl)\n",
    "y_pred_pl"
   ]
  },
  {
   "cell_type": "code",
   "execution_count": 58,
   "id": "57a73e5a",
   "metadata": {},
   "outputs": [
    {
     "name": "stdout",
     "output_type": "stream",
     "text": [
      "    Actual   Predicted\n",
      "22     464  474.485146\n",
      "39     968  680.983170\n",
      "25     566  539.374300\n",
      "3      414  542.030104\n",
      "40     587  638.815424\n",
      "6      344  422.837030\n",
      "7      467  530.449208\n",
      "9      498  575.144151\n",
      "43     591  578.593192\n",
      "34     487  546.150301\n"
     ]
    }
   ],
   "source": [
    "results = pd.DataFrame({'Actual': y_test, 'Predicted': y_pred_pl})\n",
    "print(results)"
   ]
  },
  {
   "cell_type": "markdown",
   "id": "6355df4e",
   "metadata": {},
   "source": [
    "#### Evaluate the model"
   ]
  },
  {
   "cell_type": "code",
   "execution_count": 59,
   "id": "2d8f6542",
   "metadata": {},
   "outputs": [
    {
     "name": "stdout",
     "output_type": "stream",
     "text": [
      "Mean absolute error: 79.50\n",
      "Mean squared error: 12211.91\n",
      "Root mean squared error: 110.51\n"
     ]
    }
   ],
   "source": [
    "mae = mean_absolute_error(y_test, y_pred_pl)\n",
    "mse = mean_squared_error(y_test, y_pred_pl)\n",
    "rmse = np.sqrt(mse)\n",
    "\n",
    "print(f'Mean absolute error: {mae:.2f}')\n",
    "print(f'Mean squared error: {mse:.2f}')\n",
    "print(f'Root mean squared error: {rmse:.2f}')"
   ]
  },
  {
   "cell_type": "code",
   "execution_count": 60,
   "id": "058f8a57",
   "metadata": {},
   "outputs": [
    {
     "name": "stdout",
     "output_type": "stream",
     "text": [
      "R²: 0.5278057772858207\n"
     ]
    }
   ],
   "source": [
    "actual_minus_predicted = sum((y_test - y_pred_pl)**2)\n",
    "actual_minus_actual_mean = sum((y_test - y_test.mean())**2)\n",
    "r2 = 1 - actual_minus_predicted/actual_minus_actual_mean\n",
    "print('R²:', r2)"
   ]
  },
  {
   "cell_type": "code",
   "execution_count": 61,
   "id": "68bf9663",
   "metadata": {},
   "outputs": [
    {
     "data": {
      "text/plain": [
       "0.5278057772858207"
      ]
     },
     "execution_count": 61,
     "metadata": {},
     "output_type": "execute_result"
    }
   ],
   "source": [
    "ridge_rg.score(X_test_pl, y_test)"
   ]
  },
  {
   "cell_type": "code",
   "execution_count": 62,
   "id": "cef59cce",
   "metadata": {},
   "outputs": [
    {
     "data": {
      "text/plain": [
       "0.623788782003802"
      ]
     },
     "execution_count": 62,
     "metadata": {},
     "output_type": "execute_result"
    }
   ],
   "source": [
    "ridge_rg.score(X_train_pl, y_train)"
   ]
  },
  {
   "cell_type": "markdown",
   "id": "84869b48",
   "metadata": {},
   "source": [
    "#### Lasso"
   ]
  },
  {
   "cell_type": "code",
   "execution_count": 63,
   "id": "c2182708",
   "metadata": {},
   "outputs": [
    {
     "data": {
      "text/html": [
       "<style>#sk-container-id-3 {color: black;background-color: white;}#sk-container-id-3 pre{padding: 0;}#sk-container-id-3 div.sk-toggleable {background-color: white;}#sk-container-id-3 label.sk-toggleable__label {cursor: pointer;display: block;width: 100%;margin-bottom: 0;padding: 0.3em;box-sizing: border-box;text-align: center;}#sk-container-id-3 label.sk-toggleable__label-arrow:before {content: \"▸\";float: left;margin-right: 0.25em;color: #696969;}#sk-container-id-3 label.sk-toggleable__label-arrow:hover:before {color: black;}#sk-container-id-3 div.sk-estimator:hover label.sk-toggleable__label-arrow:before {color: black;}#sk-container-id-3 div.sk-toggleable__content {max-height: 0;max-width: 0;overflow: hidden;text-align: left;background-color: #f0f8ff;}#sk-container-id-3 div.sk-toggleable__content pre {margin: 0.2em;color: black;border-radius: 0.25em;background-color: #f0f8ff;}#sk-container-id-3 input.sk-toggleable__control:checked~div.sk-toggleable__content {max-height: 200px;max-width: 100%;overflow: auto;}#sk-container-id-3 input.sk-toggleable__control:checked~label.sk-toggleable__label-arrow:before {content: \"▾\";}#sk-container-id-3 div.sk-estimator input.sk-toggleable__control:checked~label.sk-toggleable__label {background-color: #d4ebff;}#sk-container-id-3 div.sk-label input.sk-toggleable__control:checked~label.sk-toggleable__label {background-color: #d4ebff;}#sk-container-id-3 input.sk-hidden--visually {border: 0;clip: rect(1px 1px 1px 1px);clip: rect(1px, 1px, 1px, 1px);height: 1px;margin: -1px;overflow: hidden;padding: 0;position: absolute;width: 1px;}#sk-container-id-3 div.sk-estimator {font-family: monospace;background-color: #f0f8ff;border: 1px dotted black;border-radius: 0.25em;box-sizing: border-box;margin-bottom: 0.5em;}#sk-container-id-3 div.sk-estimator:hover {background-color: #d4ebff;}#sk-container-id-3 div.sk-parallel-item::after {content: \"\";width: 100%;border-bottom: 1px solid gray;flex-grow: 1;}#sk-container-id-3 div.sk-label:hover label.sk-toggleable__label {background-color: #d4ebff;}#sk-container-id-3 div.sk-serial::before {content: \"\";position: absolute;border-left: 1px solid gray;box-sizing: border-box;top: 0;bottom: 0;left: 50%;z-index: 0;}#sk-container-id-3 div.sk-serial {display: flex;flex-direction: column;align-items: center;background-color: white;padding-right: 0.2em;padding-left: 0.2em;position: relative;}#sk-container-id-3 div.sk-item {position: relative;z-index: 1;}#sk-container-id-3 div.sk-parallel {display: flex;align-items: stretch;justify-content: center;background-color: white;position: relative;}#sk-container-id-3 div.sk-item::before, #sk-container-id-3 div.sk-parallel-item::before {content: \"\";position: absolute;border-left: 1px solid gray;box-sizing: border-box;top: 0;bottom: 0;left: 50%;z-index: -1;}#sk-container-id-3 div.sk-parallel-item {display: flex;flex-direction: column;z-index: 1;position: relative;background-color: white;}#sk-container-id-3 div.sk-parallel-item:first-child::after {align-self: flex-end;width: 50%;}#sk-container-id-3 div.sk-parallel-item:last-child::after {align-self: flex-start;width: 50%;}#sk-container-id-3 div.sk-parallel-item:only-child::after {width: 0;}#sk-container-id-3 div.sk-dashed-wrapped {border: 1px dashed gray;margin: 0 0.4em 0.5em 0.4em;box-sizing: border-box;padding-bottom: 0.4em;background-color: white;}#sk-container-id-3 div.sk-label label {font-family: monospace;font-weight: bold;display: inline-block;line-height: 1.2em;}#sk-container-id-3 div.sk-label-container {text-align: center;}#sk-container-id-3 div.sk-container {/* jupyter's `normalize.less` sets `[hidden] { display: none; }` but bootstrap.min.css set `[hidden] { display: none !important; }` so we also need the `!important` here to be able to override the default hidden behavior on the sphinx rendered scikit-learn.org. See: https://github.com/scikit-learn/scikit-learn/issues/21755 */display: inline-block !important;position: relative;}#sk-container-id-3 div.sk-text-repr-fallback {display: none;}</style><div id=\"sk-container-id-3\" class=\"sk-top-container\"><div class=\"sk-text-repr-fallback\"><pre>Lasso(alpha=1.8)</pre><b>In a Jupyter environment, please rerun this cell to show the HTML representation or trust the notebook. <br />On GitHub, the HTML representation is unable to render, please try loading this page with nbviewer.org.</b></div><div class=\"sk-container\" hidden><div class=\"sk-item\"><div class=\"sk-estimator sk-toggleable\"><input class=\"sk-toggleable__control sk-hidden--visually\" id=\"sk-estimator-id-5\" type=\"checkbox\" checked><label for=\"sk-estimator-id-5\" class=\"sk-toggleable__label sk-toggleable__label-arrow\">Lasso</label><div class=\"sk-toggleable__content\"><pre>Lasso(alpha=1.8)</pre></div></div></div></div></div>"
      ],
      "text/plain": [
       "Lasso(alpha=1.8)"
      ]
     },
     "execution_count": 63,
     "metadata": {},
     "output_type": "execute_result"
    }
   ],
   "source": [
    "lasso_rg = Lasso(alpha=1.8)\n",
    "lasso_rg.fit(X_train_pl, y_train)"
   ]
  },
  {
   "cell_type": "code",
   "execution_count": 64,
   "id": "2b4d6b24",
   "metadata": {},
   "outputs": [
    {
     "data": {
      "text/plain": [
       "586.8157894736842"
      ]
     },
     "execution_count": 64,
     "metadata": {},
     "output_type": "execute_result"
    }
   ],
   "source": [
    "lasso_rg.intercept_"
   ]
  },
  {
   "cell_type": "code",
   "execution_count": 65,
   "id": "9c5d4fc8",
   "metadata": {},
   "outputs": [
    {
     "data": {
      "text/plain": [
       "array([  0.        , -12.81279436,  -0.        ,   0.        ,\n",
       "        -0.        ,  -0.        ,  -0.        ,  -0.        ,\n",
       "       -21.01371796,  -0.        ,  -0.        ,   0.        ,\n",
       "         0.        , -24.14642479,  -0.        ,  -0.        ,\n",
       "        -0.        ,  -0.        ,  -0.        ,  -0.        ,\n",
       "        -0.        ,  -0.        ,   0.        ,  -0.        ,\n",
       "        -0.        ,  -0.        ,  -0.        ,  -0.        ,\n",
       "        -0.        ,  -0.        ,   0.        ,   0.        ,\n",
       "        -0.        ,  -0.        ,   0.        ,  -0.        ,\n",
       "        -0.        ,  -0.        ,  -0.        ,  -3.13934643,\n",
       "        -0.        ,  -0.        ,   0.        ,  -0.        ,\n",
       "        -0.        ,  -0.        ,  -0.        ,  -0.        ,\n",
       "        -0.        ,  -0.        ,   0.        ,   0.        ,\n",
       "        -0.        ,  -0.        ,   0.        ,  -0.        ,\n",
       "        -0.        ,  -0.        ,  -0.        ,  -6.11136048,\n",
       "        -0.        ,  -0.        ,  -0.        ,   0.        ,\n",
       "         0.        ,  71.58798915,  -0.        ,  -0.        ,\n",
       "        -0.        ,   0.        ])"
      ]
     },
     "execution_count": 65,
     "metadata": {},
     "output_type": "execute_result"
    }
   ],
   "source": [
    "lasso_rg.coef_"
   ]
  },
  {
   "cell_type": "code",
   "execution_count": 66,
   "id": "628017ef",
   "metadata": {},
   "outputs": [
    {
     "name": "stdout",
     "output_type": "stream",
     "text": [
      "                                             Coefficient value\n",
      "1                                                     0.000000\n",
      "Average_income                                      -12.812794\n",
      "Paved_Highways                                       -0.000000\n",
      "Population_Driver_licence(%)                          0.000000\n",
      "Petrol_tax                                           -0.000000\n",
      "...                                                        ...\n",
      "Population_Driver_licence(%)^4                       71.587989\n",
      "Population_Driver_licence(%)^3 Petrol_tax            -0.000000\n",
      "Population_Driver_licence(%)^2 Petrol_tax^2          -0.000000\n",
      "Population_Driver_licence(%) Petrol_tax^3            -0.000000\n",
      "Petrol_tax^4                                          0.000000\n",
      "\n",
      "[70 rows x 1 columns]\n"
     ]
    }
   ],
   "source": [
    "model_coefficients = lasso_rg.coef_\n",
    "\n",
    "coefficients_df = pd.DataFrame(data = model_coefficients, \n",
    "                              index = feature_names_pl, \n",
    "                              columns = ['Coefficient value'])\n",
    "print(coefficients_df)"
   ]
  },
  {
   "cell_type": "markdown",
   "id": "34042a87",
   "metadata": {},
   "source": [
    "#### Inference with the model"
   ]
  },
  {
   "cell_type": "code",
   "execution_count": 67,
   "id": "6a465105",
   "metadata": {},
   "outputs": [
    {
     "data": {
      "text/plain": [
       "array([450.86329313, 719.13725271, 530.69407242, 519.35676897,\n",
       "       646.71282854, 418.45917599, 503.43730106, 560.22651198,\n",
       "       579.65269472, 546.84686647])"
      ]
     },
     "execution_count": 67,
     "metadata": {},
     "output_type": "execute_result"
    }
   ],
   "source": [
    "y_pred = lasso_rg.predict(X_test_pl)\n",
    "y_pred"
   ]
  },
  {
   "cell_type": "code",
   "execution_count": 68,
   "id": "4b700460",
   "metadata": {},
   "outputs": [
    {
     "name": "stdout",
     "output_type": "stream",
     "text": [
      "    Actual   Predicted\n",
      "22     464  474.485146\n",
      "39     968  680.983170\n",
      "25     566  539.374300\n",
      "3      414  542.030104\n",
      "40     587  638.815424\n",
      "6      344  422.837030\n",
      "7      467  530.449208\n",
      "9      498  575.144151\n",
      "43     591  578.593192\n",
      "34     487  546.150301\n"
     ]
    }
   ],
   "source": [
    "results = pd.DataFrame({'Actual': y_test, 'Predicted': y_pred_pl})\n",
    "print(results)"
   ]
  },
  {
   "cell_type": "markdown",
   "id": "1e1fa656",
   "metadata": {},
   "source": [
    "#### Evaluate the model"
   ]
  },
  {
   "cell_type": "code",
   "execution_count": 69,
   "id": "7acdfabc",
   "metadata": {},
   "outputs": [
    {
     "name": "stdout",
     "output_type": "stream",
     "text": [
      "Mean absolute error: 79.50\n",
      "Mean squared error: 12211.91\n",
      "Root mean squared error: 110.51\n"
     ]
    }
   ],
   "source": [
    "mae = mean_absolute_error(y_test, y_pred_pl)\n",
    "mse = mean_squared_error(y_test, y_pred_pl)\n",
    "rmse = np.sqrt(mse)\n",
    "\n",
    "print(f'Mean absolute error: {mae:.2f}')\n",
    "print(f'Mean squared error: {mse:.2f}')\n",
    "print(f'Root mean squared error: {rmse:.2f}')"
   ]
  },
  {
   "cell_type": "code",
   "execution_count": 70,
   "id": "4b72ed5a",
   "metadata": {},
   "outputs": [
    {
     "name": "stdout",
     "output_type": "stream",
     "text": [
      "R²: 0.5278057772858207\n"
     ]
    }
   ],
   "source": [
    "actual_minus_predicted = sum((y_test - y_pred_pl)**2)\n",
    "actual_minus_actual_mean = sum((y_test - y_test.mean())**2)\n",
    "r2 = 1 - actual_minus_predicted/actual_minus_actual_mean\n",
    "print('R²:', r2)"
   ]
  },
  {
   "cell_type": "code",
   "execution_count": 71,
   "id": "73cd476e",
   "metadata": {},
   "outputs": [
    {
     "data": {
      "text/plain": [
       "0.6424419241829249"
      ]
     },
     "execution_count": 71,
     "metadata": {},
     "output_type": "execute_result"
    }
   ],
   "source": [
    "lasso_rg.score(X_test_pl, y_test)"
   ]
  },
  {
   "cell_type": "code",
   "execution_count": 72,
   "id": "6038db74",
   "metadata": {},
   "outputs": [
    {
     "data": {
      "text/plain": [
       "0.7104529011707852"
      ]
     },
     "execution_count": 72,
     "metadata": {},
     "output_type": "execute_result"
    }
   ],
   "source": [
    "lasso_rg.score(X_train_pl, y_train)"
   ]
  },
  {
   "cell_type": "markdown",
   "id": "cd6fb920",
   "metadata": {},
   "source": [
    "## Linear / polynomial splines"
   ]
  },
  {
   "cell_type": "code",
   "execution_count": 73,
   "id": "982db01e",
   "metadata": {},
   "outputs": [],
   "source": [
    "spline = SplineTransformer(n_knots=32, degree=1)"
   ]
  },
  {
   "cell_type": "code",
   "execution_count": 74,
   "id": "66731e56",
   "metadata": {},
   "outputs": [],
   "source": [
    "X_train_sp = spline.fit_transform(X_train)\n",
    "X_test_sp = spline.transform(X_test)"
   ]
  },
  {
   "cell_type": "code",
   "execution_count": 75,
   "id": "db5a85f1",
   "metadata": {
    "scrolled": true
   },
   "outputs": [
    {
     "data": {
      "text/plain": [
       "array(['Average_income_sp_0', 'Average_income_sp_1',\n",
       "       'Average_income_sp_2', 'Average_income_sp_3',\n",
       "       'Average_income_sp_4', 'Average_income_sp_5',\n",
       "       'Average_income_sp_6', 'Average_income_sp_7',\n",
       "       'Average_income_sp_8', 'Average_income_sp_9',\n",
       "       'Average_income_sp_10', 'Average_income_sp_11',\n",
       "       'Average_income_sp_12', 'Average_income_sp_13',\n",
       "       'Average_income_sp_14', 'Average_income_sp_15',\n",
       "       'Average_income_sp_16', 'Average_income_sp_17',\n",
       "       'Average_income_sp_18', 'Average_income_sp_19',\n",
       "       'Average_income_sp_20', 'Average_income_sp_21',\n",
       "       'Average_income_sp_22', 'Average_income_sp_23',\n",
       "       'Average_income_sp_24', 'Average_income_sp_25',\n",
       "       'Average_income_sp_26', 'Average_income_sp_27',\n",
       "       'Average_income_sp_28', 'Average_income_sp_29',\n",
       "       'Average_income_sp_30', 'Average_income_sp_31',\n",
       "       'Paved_Highways_sp_0', 'Paved_Highways_sp_1',\n",
       "       'Paved_Highways_sp_2', 'Paved_Highways_sp_3',\n",
       "       'Paved_Highways_sp_4', 'Paved_Highways_sp_5',\n",
       "       'Paved_Highways_sp_6', 'Paved_Highways_sp_7',\n",
       "       'Paved_Highways_sp_8', 'Paved_Highways_sp_9',\n",
       "       'Paved_Highways_sp_10', 'Paved_Highways_sp_11',\n",
       "       'Paved_Highways_sp_12', 'Paved_Highways_sp_13',\n",
       "       'Paved_Highways_sp_14', 'Paved_Highways_sp_15',\n",
       "       'Paved_Highways_sp_16', 'Paved_Highways_sp_17',\n",
       "       'Paved_Highways_sp_18', 'Paved_Highways_sp_19',\n",
       "       'Paved_Highways_sp_20', 'Paved_Highways_sp_21',\n",
       "       'Paved_Highways_sp_22', 'Paved_Highways_sp_23',\n",
       "       'Paved_Highways_sp_24', 'Paved_Highways_sp_25',\n",
       "       'Paved_Highways_sp_26', 'Paved_Highways_sp_27',\n",
       "       'Paved_Highways_sp_28', 'Paved_Highways_sp_29',\n",
       "       'Paved_Highways_sp_30', 'Paved_Highways_sp_31',\n",
       "       'Population_Driver_licence(%)_sp_0',\n",
       "       'Population_Driver_licence(%)_sp_1',\n",
       "       'Population_Driver_licence(%)_sp_2',\n",
       "       'Population_Driver_licence(%)_sp_3',\n",
       "       'Population_Driver_licence(%)_sp_4',\n",
       "       'Population_Driver_licence(%)_sp_5',\n",
       "       'Population_Driver_licence(%)_sp_6',\n",
       "       'Population_Driver_licence(%)_sp_7',\n",
       "       'Population_Driver_licence(%)_sp_8',\n",
       "       'Population_Driver_licence(%)_sp_9',\n",
       "       'Population_Driver_licence(%)_sp_10',\n",
       "       'Population_Driver_licence(%)_sp_11',\n",
       "       'Population_Driver_licence(%)_sp_12',\n",
       "       'Population_Driver_licence(%)_sp_13',\n",
       "       'Population_Driver_licence(%)_sp_14',\n",
       "       'Population_Driver_licence(%)_sp_15',\n",
       "       'Population_Driver_licence(%)_sp_16',\n",
       "       'Population_Driver_licence(%)_sp_17',\n",
       "       'Population_Driver_licence(%)_sp_18',\n",
       "       'Population_Driver_licence(%)_sp_19',\n",
       "       'Population_Driver_licence(%)_sp_20',\n",
       "       'Population_Driver_licence(%)_sp_21',\n",
       "       'Population_Driver_licence(%)_sp_22',\n",
       "       'Population_Driver_licence(%)_sp_23',\n",
       "       'Population_Driver_licence(%)_sp_24',\n",
       "       'Population_Driver_licence(%)_sp_25',\n",
       "       'Population_Driver_licence(%)_sp_26',\n",
       "       'Population_Driver_licence(%)_sp_27',\n",
       "       'Population_Driver_licence(%)_sp_28',\n",
       "       'Population_Driver_licence(%)_sp_29',\n",
       "       'Population_Driver_licence(%)_sp_30',\n",
       "       'Population_Driver_licence(%)_sp_31', 'Petrol_tax_sp_0',\n",
       "       'Petrol_tax_sp_1', 'Petrol_tax_sp_2', 'Petrol_tax_sp_3',\n",
       "       'Petrol_tax_sp_4', 'Petrol_tax_sp_5', 'Petrol_tax_sp_6',\n",
       "       'Petrol_tax_sp_7', 'Petrol_tax_sp_8', 'Petrol_tax_sp_9',\n",
       "       'Petrol_tax_sp_10', 'Petrol_tax_sp_11', 'Petrol_tax_sp_12',\n",
       "       'Petrol_tax_sp_13', 'Petrol_tax_sp_14', 'Petrol_tax_sp_15',\n",
       "       'Petrol_tax_sp_16', 'Petrol_tax_sp_17', 'Petrol_tax_sp_18',\n",
       "       'Petrol_tax_sp_19', 'Petrol_tax_sp_20', 'Petrol_tax_sp_21',\n",
       "       'Petrol_tax_sp_22', 'Petrol_tax_sp_23', 'Petrol_tax_sp_24',\n",
       "       'Petrol_tax_sp_25', 'Petrol_tax_sp_26', 'Petrol_tax_sp_27',\n",
       "       'Petrol_tax_sp_28', 'Petrol_tax_sp_29', 'Petrol_tax_sp_30',\n",
       "       'Petrol_tax_sp_31'], dtype=object)"
      ]
     },
     "execution_count": 75,
     "metadata": {},
     "output_type": "execute_result"
    }
   ],
   "source": [
    "feature_names_sp = spline.get_feature_names_out(input_features=X_train.columns)\n",
    "feature_names_sp"
   ]
  },
  {
   "cell_type": "code",
   "execution_count": 78,
   "id": "d8e0706a",
   "metadata": {},
   "outputs": [
    {
     "data": {
      "text/plain": [
       "((38, 4), (38, 128))"
      ]
     },
     "execution_count": 78,
     "metadata": {},
     "output_type": "execute_result"
    }
   ],
   "source": [
    "X_train.shape, X_train_sp.shape"
   ]
  },
  {
   "cell_type": "code",
   "execution_count": 79,
   "id": "0cda20e8",
   "metadata": {},
   "outputs": [],
   "source": [
    "std_scaller = StandardScaler()\n",
    "X_train_sp = std_scaller.fit_transform(X_train_sp)\n",
    "X_test_sp = std_scaller.transform(X_test_sp)"
   ]
  },
  {
   "cell_type": "markdown",
   "id": "11a84d51",
   "metadata": {},
   "source": [
    "#### Ridge"
   ]
  },
  {
   "cell_type": "code",
   "execution_count": 89,
   "id": "e052790e",
   "metadata": {},
   "outputs": [
    {
     "data": {
      "text/html": [
       "<style>#sk-container-id-5 {color: black;background-color: white;}#sk-container-id-5 pre{padding: 0;}#sk-container-id-5 div.sk-toggleable {background-color: white;}#sk-container-id-5 label.sk-toggleable__label {cursor: pointer;display: block;width: 100%;margin-bottom: 0;padding: 0.3em;box-sizing: border-box;text-align: center;}#sk-container-id-5 label.sk-toggleable__label-arrow:before {content: \"▸\";float: left;margin-right: 0.25em;color: #696969;}#sk-container-id-5 label.sk-toggleable__label-arrow:hover:before {color: black;}#sk-container-id-5 div.sk-estimator:hover label.sk-toggleable__label-arrow:before {color: black;}#sk-container-id-5 div.sk-toggleable__content {max-height: 0;max-width: 0;overflow: hidden;text-align: left;background-color: #f0f8ff;}#sk-container-id-5 div.sk-toggleable__content pre {margin: 0.2em;color: black;border-radius: 0.25em;background-color: #f0f8ff;}#sk-container-id-5 input.sk-toggleable__control:checked~div.sk-toggleable__content {max-height: 200px;max-width: 100%;overflow: auto;}#sk-container-id-5 input.sk-toggleable__control:checked~label.sk-toggleable__label-arrow:before {content: \"▾\";}#sk-container-id-5 div.sk-estimator input.sk-toggleable__control:checked~label.sk-toggleable__label {background-color: #d4ebff;}#sk-container-id-5 div.sk-label input.sk-toggleable__control:checked~label.sk-toggleable__label {background-color: #d4ebff;}#sk-container-id-5 input.sk-hidden--visually {border: 0;clip: rect(1px 1px 1px 1px);clip: rect(1px, 1px, 1px, 1px);height: 1px;margin: -1px;overflow: hidden;padding: 0;position: absolute;width: 1px;}#sk-container-id-5 div.sk-estimator {font-family: monospace;background-color: #f0f8ff;border: 1px dotted black;border-radius: 0.25em;box-sizing: border-box;margin-bottom: 0.5em;}#sk-container-id-5 div.sk-estimator:hover {background-color: #d4ebff;}#sk-container-id-5 div.sk-parallel-item::after {content: \"\";width: 100%;border-bottom: 1px solid gray;flex-grow: 1;}#sk-container-id-5 div.sk-label:hover label.sk-toggleable__label {background-color: #d4ebff;}#sk-container-id-5 div.sk-serial::before {content: \"\";position: absolute;border-left: 1px solid gray;box-sizing: border-box;top: 0;bottom: 0;left: 50%;z-index: 0;}#sk-container-id-5 div.sk-serial {display: flex;flex-direction: column;align-items: center;background-color: white;padding-right: 0.2em;padding-left: 0.2em;position: relative;}#sk-container-id-5 div.sk-item {position: relative;z-index: 1;}#sk-container-id-5 div.sk-parallel {display: flex;align-items: stretch;justify-content: center;background-color: white;position: relative;}#sk-container-id-5 div.sk-item::before, #sk-container-id-5 div.sk-parallel-item::before {content: \"\";position: absolute;border-left: 1px solid gray;box-sizing: border-box;top: 0;bottom: 0;left: 50%;z-index: -1;}#sk-container-id-5 div.sk-parallel-item {display: flex;flex-direction: column;z-index: 1;position: relative;background-color: white;}#sk-container-id-5 div.sk-parallel-item:first-child::after {align-self: flex-end;width: 50%;}#sk-container-id-5 div.sk-parallel-item:last-child::after {align-self: flex-start;width: 50%;}#sk-container-id-5 div.sk-parallel-item:only-child::after {width: 0;}#sk-container-id-5 div.sk-dashed-wrapped {border: 1px dashed gray;margin: 0 0.4em 0.5em 0.4em;box-sizing: border-box;padding-bottom: 0.4em;background-color: white;}#sk-container-id-5 div.sk-label label {font-family: monospace;font-weight: bold;display: inline-block;line-height: 1.2em;}#sk-container-id-5 div.sk-label-container {text-align: center;}#sk-container-id-5 div.sk-container {/* jupyter's `normalize.less` sets `[hidden] { display: none; }` but bootstrap.min.css set `[hidden] { display: none !important; }` so we also need the `!important` here to be able to override the default hidden behavior on the sphinx rendered scikit-learn.org. See: https://github.com/scikit-learn/scikit-learn/issues/21755 */display: inline-block !important;position: relative;}#sk-container-id-5 div.sk-text-repr-fallback {display: none;}</style><div id=\"sk-container-id-5\" class=\"sk-top-container\"><div class=\"sk-text-repr-fallback\"><pre>Ridge(alpha=36.08)</pre><b>In a Jupyter environment, please rerun this cell to show the HTML representation or trust the notebook. <br />On GitHub, the HTML representation is unable to render, please try loading this page with nbviewer.org.</b></div><div class=\"sk-container\" hidden><div class=\"sk-item\"><div class=\"sk-estimator sk-toggleable\"><input class=\"sk-toggleable__control sk-hidden--visually\" id=\"sk-estimator-id-7\" type=\"checkbox\" checked><label for=\"sk-estimator-id-7\" class=\"sk-toggleable__label sk-toggleable__label-arrow\">Ridge</label><div class=\"sk-toggleable__content\"><pre>Ridge(alpha=36.08)</pre></div></div></div></div></div>"
      ],
      "text/plain": [
       "Ridge(alpha=36.08)"
      ]
     },
     "execution_count": 89,
     "metadata": {},
     "output_type": "execute_result"
    }
   ],
   "source": [
    "ridge_rg = Ridge(alpha=36.08)\n",
    "ridge_rg.fit(X_train_sp, y_train)"
   ]
  },
  {
   "cell_type": "code",
   "execution_count": 90,
   "id": "f12cb3fb",
   "metadata": {},
   "outputs": [
    {
     "data": {
      "text/plain": [
       "586.8157894736842"
      ]
     },
     "execution_count": 90,
     "metadata": {},
     "output_type": "execute_result"
    }
   ],
   "source": [
    "ridge_rg.intercept_"
   ]
  },
  {
   "cell_type": "code",
   "execution_count": 91,
   "id": "529b9d50",
   "metadata": {
    "scrolled": true
   },
   "outputs": [
    {
     "data": {
      "text/plain": [
       "array([ 1.64016377,  0.        ,  0.        , -2.12693446,  2.61579471,\n",
       "        1.05530638,  1.00493399, -1.87256978,  4.3451856 ,  6.85374873,\n",
       "        2.07844391,  3.33458287,  5.79866499,  2.1005527 , -0.32371891,\n",
       "       -2.90221771, -2.49305369,  0.62481799, -4.86712044, -8.2352274 ,\n",
       "       -5.28767436, -0.92922589,  9.91990283,  8.21965093, -4.8755613 ,\n",
       "        0.        , -0.23924133, -3.9452208 , -4.35738529,  4.88349966,\n",
       "        5.26049189, -5.43875039, -7.52073011, -2.35985027, -4.394041  ,\n",
       "        2.84083615, -3.98657816,  2.27063506,  3.73923168,  3.6265515 ,\n",
       "        1.96535766,  3.81025813,  8.07977352, -3.53472883, -4.427518  ,\n",
       "        2.68002775, -1.49456431, -0.17643459, -0.60085051, -4.06786081,\n",
       "        1.94690898,  0.        ,  0.        ,  0.        ,  0.        ,\n",
       "        0.        , -4.35738529, -4.35738529,  0.        ,  0.        ,\n",
       "        0.        ,  0.        ,  0.        ,  2.10554684, -3.54911259,\n",
       "        0.        , -2.1389964 , -2.37072531, -4.40210558, -2.14582104,\n",
       "        3.52669444, -7.45077326, -3.75838071,  3.4739544 , -0.08456799,\n",
       "       -2.81069271,  4.45947872,  0.85056325, -1.03062723,  1.28193805,\n",
       "       -2.89542904, -1.2743928 ,  0.53537576,  1.37437573,  0.        ,\n",
       "        0.        ,  3.65216214,  3.65216214,  5.80040552,  2.62347028,\n",
       "        0.        ,  0.        ,  0.        ,  0.        ,  0.        ,\n",
       "        9.91990283,  2.10554684,  0.        ,  0.        ,  0.        ,\n",
       "        0.        ,  0.        ,  5.26049189,  5.26049189,  0.        ,\n",
       "        1.37437573,  1.37437573,  0.        ,  5.08656623,  5.08656623,\n",
       "        0.        ,  1.67703856,  1.67703856,  0.        , -4.27494579,\n",
       "       -4.27494579,  0.        , -1.05233372, -1.05233372,  0.        ,\n",
       "       -4.18502798, -4.18502798,  0.        ,  0.        ,  0.        ,\n",
       "        0.        ,  0.        , -5.43875039])"
      ]
     },
     "execution_count": 91,
     "metadata": {},
     "output_type": "execute_result"
    }
   ],
   "source": [
    "ridge_rg.coef_"
   ]
  },
  {
   "cell_type": "code",
   "execution_count": 92,
   "id": "1e39a188",
   "metadata": {},
   "outputs": [
    {
     "name": "stdout",
     "output_type": "stream",
     "text": [
      "                     Coefficient value\n",
      "Average_income_sp_0           1.640164\n",
      "Average_income_sp_1           0.000000\n",
      "Average_income_sp_2           0.000000\n",
      "Average_income_sp_3          -2.126934\n",
      "Average_income_sp_4           2.615795\n",
      "...                                ...\n",
      "Petrol_tax_sp_27              0.000000\n",
      "Petrol_tax_sp_28              0.000000\n",
      "Petrol_tax_sp_29              0.000000\n",
      "Petrol_tax_sp_30              0.000000\n",
      "Petrol_tax_sp_31             -5.438750\n",
      "\n",
      "[128 rows x 1 columns]\n"
     ]
    }
   ],
   "source": [
    "model_coefficients = ridge_rg.coef_\n",
    "\n",
    "coefficients_df = pd.DataFrame(data = model_coefficients, \n",
    "                              index = feature_names_sp, \n",
    "                              columns = ['Coefficient value'])\n",
    "print(coefficients_df)"
   ]
  },
  {
   "cell_type": "markdown",
   "id": "be43dec1",
   "metadata": {},
   "source": [
    "#### Inference with the model"
   ]
  },
  {
   "cell_type": "code",
   "execution_count": 93,
   "id": "74dd10d7",
   "metadata": {},
   "outputs": [
    {
     "data": {
      "text/plain": [
       "array([520.98464968, 650.27087078, 601.58319712, 567.91585837,\n",
       "       580.40465301, 554.46923419, 529.58223901, 514.68577948,\n",
       "       579.56664944, 570.00155061])"
      ]
     },
     "execution_count": 93,
     "metadata": {},
     "output_type": "execute_result"
    }
   ],
   "source": [
    "y_pred_sp = ridge_rg.predict(X_test_sp)\n",
    "y_pred_sp"
   ]
  },
  {
   "cell_type": "code",
   "execution_count": 94,
   "id": "aba5c719",
   "metadata": {},
   "outputs": [
    {
     "name": "stdout",
     "output_type": "stream",
     "text": [
      "    Actual   Predicted\n",
      "22     464  520.984650\n",
      "39     968  650.270871\n",
      "25     566  601.583197\n",
      "3      414  567.915858\n",
      "40     587  580.404653\n",
      "6      344  554.469234\n",
      "7      467  529.582239\n",
      "9      498  514.685779\n",
      "43     591  579.566649\n",
      "34     487  570.001551\n"
     ]
    }
   ],
   "source": [
    "results = pd.DataFrame({'Actual': y_test, 'Predicted': y_pred_sp})\n",
    "print(results)"
   ]
  },
  {
   "cell_type": "markdown",
   "id": "48bc5ec4",
   "metadata": {},
   "source": [
    "#### Evaluate the model"
   ]
  },
  {
   "cell_type": "code",
   "execution_count": 95,
   "id": "6a4ed8c6",
   "metadata": {},
   "outputs": [
    {
     "name": "stdout",
     "output_type": "stream",
     "text": [
      "Mean absolute error: 95.50\n",
      "Mean squared error: 18471.10\n",
      "Root mean squared error: 135.91\n"
     ]
    }
   ],
   "source": [
    "mae = mean_absolute_error(y_test, y_pred_sp)\n",
    "mse = mean_squared_error(y_test, y_pred_sp)\n",
    "rmse = np.sqrt(mse)\n",
    "\n",
    "print(f'Mean absolute error: {mae:.2f}')\n",
    "print(f'Mean squared error: {mse:.2f}')\n",
    "print(f'Root mean squared error: {rmse:.2f}')"
   ]
  },
  {
   "cell_type": "code",
   "execution_count": 96,
   "id": "f7f68a6e",
   "metadata": {},
   "outputs": [
    {
     "name": "stdout",
     "output_type": "stream",
     "text": [
      "R² (test): 0.2857832051952722\n"
     ]
    }
   ],
   "source": [
    "R_2_test = ridge_rg.score(X_test_sp, y_test)\n",
    "print(f'R² (test): {R_2_test}')"
   ]
  },
  {
   "cell_type": "code",
   "execution_count": 97,
   "id": "5ecf4f54",
   "metadata": {},
   "outputs": [
    {
     "name": "stdout",
     "output_type": "stream",
     "text": [
      "R² (train): 0.917918645499155\n"
     ]
    }
   ],
   "source": [
    "R_2_train = ridge_rg.score(X_train_sp, y_train)\n",
    "print(f'R² (train): {R_2_train}')"
   ]
  },
  {
   "cell_type": "code",
   "execution_count": null,
   "id": "8977a771",
   "metadata": {},
   "outputs": [],
   "source": []
  }
 ],
 "metadata": {
  "kernelspec": {
   "display_name": "Python 3 (ipykernel)",
   "language": "python",
   "name": "python3"
  },
  "language_info": {
   "codemirror_mode": {
    "name": "ipython",
    "version": 3
   },
   "file_extension": ".py",
   "mimetype": "text/x-python",
   "name": "python",
   "nbconvert_exporter": "python",
   "pygments_lexer": "ipython3",
   "version": "3.10.6"
  }
 },
 "nbformat": 4,
 "nbformat_minor": 5
}
