{
 "cells": [
  {
   "cell_type": "code",
   "execution_count": null,
   "id": "71ce37e9",
   "metadata": {},
   "outputs": [],
   "source": [
    "%load_ext autoreload\n",
    "%autoreload 2\n",
    "\n",
    "%matplotlib inline"
   ]
  },
  {
   "cell_type": "markdown",
   "id": "5b560092",
   "metadata": {},
   "source": [
    "## Install libraries"
   ]
  },
  {
   "cell_type": "markdown",
   "id": "89885fa7",
   "metadata": {},
   "source": [
    "```bash\n",
    "conda create -n edu4 python=3.11 jupyter matplotlib\n",
    "```"
   ]
  },
  {
   "cell_type": "markdown",
   "id": "cd23589d",
   "metadata": {},
   "source": [
    "```bash \n",
    "! pip install -U -r requirements.txt\n",
    "```"
   ]
  },
  {
   "cell_type": "markdown",
   "id": "9d16321f",
   "metadata": {},
   "source": [
    "```bash\n",
    "! pip install -U numpy\n",
    "! pip install -U scikit-learn\n",
    "```"
   ]
  },
  {
   "cell_type": "code",
   "execution_count": null,
   "id": "cf179611",
   "metadata": {},
   "outputs": [],
   "source": [
    "! ls"
   ]
  },
  {
   "cell_type": "code",
   "execution_count": null,
   "id": "d0126ab9",
   "metadata": {
    "scrolled": true
   },
   "outputs": [],
   "source": [
    "! pip install -U -r requirements.txt"
   ]
  },
  {
   "cell_type": "markdown",
   "id": "b4cab43a",
   "metadata": {},
   "source": [
    "## Update repository"
   ]
  },
  {
   "cell_type": "code",
   "execution_count": null,
   "id": "46bcb5dc",
   "metadata": {},
   "outputs": [],
   "source": [
    "! git pull"
   ]
  },
  {
   "cell_type": "markdown",
   "id": "bad216da",
   "metadata": {},
   "source": [
    "## Add import path"
   ]
  },
  {
   "cell_type": "code",
   "execution_count": null,
   "id": "baafb705",
   "metadata": {},
   "outputs": [],
   "source": [
    "import os\n",
    "import sys\n",
    "import gc"
   ]
  },
  {
   "cell_type": "code",
   "execution_count": null,
   "id": "b2930983",
   "metadata": {},
   "outputs": [],
   "source": [
    "module_path = os.path.abspath(os.path.join('..'))\n",
    "if module_path not in sys.path:\n",
    "    sys.path.append(module_path)"
   ]
  },
  {
   "cell_type": "code",
   "execution_count": null,
   "id": "7984d32f",
   "metadata": {},
   "outputs": [],
   "source": [
    "del module_path"
   ]
  },
  {
   "cell_type": "markdown",
   "id": "07a1e9c8",
   "metadata": {},
   "source": [
    "## Organize imports"
   ]
  },
  {
   "cell_type": "code",
   "execution_count": null,
   "id": "ae177357",
   "metadata": {},
   "outputs": [],
   "source": [
    "import multiprocessing\n",
    "from pathlib import Path"
   ]
  },
  {
   "cell_type": "code",
   "execution_count": null,
   "id": "a523557a",
   "metadata": {},
   "outputs": [],
   "source": [
    "import seaborn as sns"
   ]
  },
  {
   "cell_type": "code",
   "execution_count": null,
   "id": "25750a3d",
   "metadata": {},
   "outputs": [],
   "source": [
    "import matplotlib.pyplot as plt\n",
    "import numpy as np\n",
    "import pandas as pd\n",
    "import sklearn\n",
    "from sklearn.model_selection import train_test_split\n",
    "from sklearn.preprocessing import (StandardScaler, PolynomialFeatures, \n",
    "                                   SplineTransformer)\n",
    "from sklearn.feature_selection import SequentialFeatureSelector as SFS\n",
    "from sklearn.discriminant_analysis import (LinearDiscriminantAnalysis, \n",
    "                                           QuadraticDiscriminantAnalysis)\n",
    "from sklearn.linear_model import LinearRegression, Ridge, Lasso, LogisticRegression\n",
    "from sklearn.metrics import (mean_absolute_error, mean_squared_error, \n",
    "                             classification_report, confusion_matrix)"
   ]
  },
  {
   "cell_type": "markdown",
   "id": "65f31e93",
   "metadata": {},
   "source": [
    "#### Number of CPU cores"
   ]
  },
  {
   "cell_type": "code",
   "execution_count": null,
   "id": "b41c30f2",
   "metadata": {
    "scrolled": false
   },
   "outputs": [],
   "source": [
    "workers = multiprocessing.cpu_count()\n",
    "workers"
   ]
  },
  {
   "cell_type": "markdown",
   "id": "3423f1a9",
   "metadata": {},
   "source": [
    "## Initialize path"
   ]
  },
  {
   "cell_type": "code",
   "execution_count": null,
   "id": "ccfb1c16",
   "metadata": {},
   "outputs": [],
   "source": [
    "DATA = Path('data')\n",
    "PATH = DATA / 'log_regr_lda_qda_np'\n",
    "LR_PATH = DATA / 'linear_regression'\n",
    "PUMPKIN_DIR = PATH / 'Pumpkin_Seeds_Dataset'\n",
    "IRIS_DIR = PATH / 'iris'\n",
    "PUMPKIN_DIR.mkdir(exist_ok=True, parents=True)\n",
    "IRIS_DIR.mkdir(exist_ok=True, parents=True)"
   ]
  },
  {
   "cell_type": "code",
   "execution_count": null,
   "id": "8f8156f5",
   "metadata": {},
   "outputs": [],
   "source": [
    "! ls"
   ]
  },
  {
   "cell_type": "markdown",
   "id": "0b803688",
   "metadata": {},
   "source": [
    "## Load IRIS dataset"
   ]
  },
  {
   "cell_type": "code",
   "execution_count": null,
   "id": "af4f5f24",
   "metadata": {},
   "outputs": [],
   "source": [
    "SEED = 2022"
   ]
  },
  {
   "cell_type": "code",
   "execution_count": null,
   "id": "543fde41",
   "metadata": {},
   "outputs": [],
   "source": [
    "iris_url = 'https://www.kaggle.com/datasets/uciml/iris/download?datasetVersionNumber=2'"
   ]
  },
  {
   "cell_type": "markdown",
   "id": "9cd4a02a",
   "metadata": {},
   "source": [
    "#### Load dataset"
   ]
  },
  {
   "cell_type": "code",
   "execution_count": null,
   "id": "fd6ea5ca",
   "metadata": {},
   "outputs": [],
   "source": [
    "! ls {IRIS_DIR}"
   ]
  },
  {
   "cell_type": "code",
   "execution_count": null,
   "id": "bfbc6afa",
   "metadata": {},
   "outputs": [],
   "source": [
    "df = pd.read_csv(IRIS_DIR / 'Iris.csv')"
   ]
  },
  {
   "cell_type": "code",
   "execution_count": null,
   "id": "9ed249b3",
   "metadata": {},
   "outputs": [],
   "source": [
    "df"
   ]
  },
  {
   "cell_type": "code",
   "execution_count": null,
   "id": "06f5b76c",
   "metadata": {},
   "outputs": [],
   "source": [
    "df['Species'].value_counts()"
   ]
  },
  {
   "cell_type": "code",
   "execution_count": null,
   "id": "ddca9a2f",
   "metadata": {},
   "outputs": [],
   "source": [
    "y = df['Species']\n",
    "X = df.drop(columns=['Id', 'Species'], axis=1)\n",
    "X.shape, y.shape, df['Species'].value_counts()"
   ]
  },
  {
   "cell_type": "markdown",
   "id": "d91ec449",
   "metadata": {},
   "source": [
    "```python\n",
    "# #define predictor and response variables\n",
    "X = df[['s_length', 's_width', 'p_length', 'p_width']]\n",
    "y = df['species']\n",
    "X.shape, y.shape\n",
    "```"
   ]
  },
  {
   "cell_type": "code",
   "execution_count": null,
   "id": "5325e934",
   "metadata": {},
   "outputs": [],
   "source": [
    "X_train, X_test, y_train, y_test = train_test_split(\n",
    "    X, y, test_size=0.2, random_state=SEED)"
   ]
  },
  {
   "cell_type": "markdown",
   "id": "9bf348a2",
   "metadata": {},
   "source": [
    "## Generate polynomial features"
   ]
  },
  {
   "cell_type": "code",
   "execution_count": null,
   "id": "0083af0d",
   "metadata": {},
   "outputs": [],
   "source": [
    "poly = PolynomialFeatures(degree=2)"
   ]
  },
  {
   "cell_type": "code",
   "execution_count": null,
   "id": "f70fc82c",
   "metadata": {},
   "outputs": [],
   "source": [
    "X_train_pl = poly.fit_transform(X_train)\n",
    "X_test_pl = poly.transform(X_test)"
   ]
  },
  {
   "cell_type": "code",
   "execution_count": null,
   "id": "cacf32e2",
   "metadata": {},
   "outputs": [],
   "source": [
    "feature_names_pl = poly.get_feature_names_out(input_features=X_train.columns)\n",
    "feature_names_pl"
   ]
  },
  {
   "cell_type": "code",
   "execution_count": null,
   "id": "a5f6d451",
   "metadata": {},
   "outputs": [],
   "source": [
    "X_train.shape, X_test.shape, X_train_pl.shape, X_test_pl.shape"
   ]
  },
  {
   "cell_type": "markdown",
   "id": "cbbcaccc",
   "metadata": {},
   "source": [
    "## Initialize the model"
   ]
  },
  {
   "cell_type": "code",
   "execution_count": null,
   "id": "f315dc3b",
   "metadata": {},
   "outputs": [],
   "source": [
    "lda = LinearDiscriminantAnalysis()"
   ]
  },
  {
   "cell_type": "markdown",
   "id": "6eb436cf",
   "metadata": {},
   "source": [
    "## Train model with polynomial features"
   ]
  },
  {
   "cell_type": "code",
   "execution_count": null,
   "id": "138db93d",
   "metadata": {},
   "outputs": [],
   "source": [
    "lda_pl = lda.fit(X_train_pl, y_train)"
   ]
  },
  {
   "cell_type": "code",
   "execution_count": null,
   "id": "77de4bf9",
   "metadata": {},
   "outputs": [],
   "source": [
    "y_pred_pl = lda_pl.predict(X_test_pl)"
   ]
  },
  {
   "cell_type": "code",
   "execution_count": null,
   "id": "fb637210",
   "metadata": {},
   "outputs": [],
   "source": [
    "cr = classification_report(y_test, y_pred_pl)\n",
    "print(cr)"
   ]
  },
  {
   "cell_type": "markdown",
   "id": "88976c0a",
   "metadata": {},
   "source": [
    "#### Forward selection"
   ]
  },
  {
   "cell_type": "code",
   "execution_count": null,
   "id": "f6a2b9be",
   "metadata": {},
   "outputs": [],
   "source": [
    "X_train_pl.shape"
   ]
  },
  {
   "cell_type": "code",
   "execution_count": null,
   "id": "f292d56b",
   "metadata": {},
   "outputs": [],
   "source": [
    "sfs_forward = SFS(lda, \n",
    "                  n_features_to_select=2, \n",
    "                  direction='forward',\n",
    "                  cv=10,\n",
    "                  n_jobs=workers)\n",
    "\n",
    "sfs_forward = sfs_forward.fit(X_train_pl, y_train)\n",
    "sfs_forward"
   ]
  },
  {
   "cell_type": "code",
   "execution_count": null,
   "id": "d9d9e729",
   "metadata": {},
   "outputs": [],
   "source": [
    "X_train_fw = sfs_forward.transform(X_train)\n",
    "X_test_fw = sfs_forward.transform(X_test)\n",
    "X_train_fw.shape"
   ]
  },
  {
   "cell_type": "code",
   "execution_count": null,
   "id": "5bdc5926",
   "metadata": {},
   "outputs": [],
   "source": [
    "X_train.columns"
   ]
  },
  {
   "cell_type": "code",
   "execution_count": null,
   "id": "2f974e1f",
   "metadata": {},
   "outputs": [],
   "source": [
    "sfs_forward.get_feature_names_out(X_train.columns)"
   ]
  },
  {
   "cell_type": "code",
   "execution_count": null,
   "id": "e6a9a20a",
   "metadata": {},
   "outputs": [],
   "source": [
    "lda_fw = LinearDiscriminantAnalysis()"
   ]
  },
  {
   "cell_type": "code",
   "execution_count": null,
   "id": "f3cfba48",
   "metadata": {},
   "outputs": [],
   "source": [
    "lda_fw = lda_fw.fit(X_train_fw, y_train)"
   ]
  },
  {
   "cell_type": "code",
   "execution_count": null,
   "id": "70586074",
   "metadata": {},
   "outputs": [],
   "source": [
    "y_pred_fw = lda_fw.predict(X_test_fw)"
   ]
  },
  {
   "cell_type": "code",
   "execution_count": null,
   "id": "5b21f166",
   "metadata": {},
   "outputs": [],
   "source": [
    "cr = classification_report(y_test, y_pred_fw)\n",
    "print(cr)"
   ]
  },
  {
   "cell_type": "markdown",
   "id": "5a47f113",
   "metadata": {},
   "source": [
    "#### Backward selection\\"
   ]
  },
  {
   "cell_type": "code",
   "execution_count": null,
   "id": "84a90889",
   "metadata": {},
   "outputs": [],
   "source": [
    "lda = LinearDiscriminantAnalysis()"
   ]
  },
  {
   "cell_type": "code",
   "execution_count": null,
   "id": "b7d9172e",
   "metadata": {},
   "outputs": [],
   "source": [
    "X_train_pl.shape"
   ]
  },
  {
   "cell_type": "code",
   "execution_count": null,
   "id": "694e8053",
   "metadata": {
    "scrolled": true
   },
   "outputs": [],
   "source": [
    "sfs_backward = SFS(lda, \n",
    "                  n_features_to_select=2, \n",
    "                  direction='backward',\n",
    "                  cv=10,\n",
    "                  n_jobs=workers)\n",
    "\n",
    "sfs_backward = sfs_backward.fit(X_train_pl, y_train)\n",
    "sfs_backward"
   ]
  },
  {
   "cell_type": "code",
   "execution_count": null,
   "id": "837fa19e",
   "metadata": {},
   "outputs": [],
   "source": [
    "X_train_bw = sfs_backward.transform(X_train_pl)\n",
    "X_test_bw = sfs_backward.transform(X_test_pl)\n",
    "X_train_bw.shape"
   ]
  },
  {
   "cell_type": "code",
   "execution_count": null,
   "id": "e9a31533",
   "metadata": {},
   "outputs": [],
   "source": [
    "sfs_backward.get_feature_names_out(input_features=feature_names_pl)"
   ]
  },
  {
   "cell_type": "code",
   "execution_count": null,
   "id": "d6225fcb",
   "metadata": {},
   "outputs": [],
   "source": [
    "lda_bw = LinearDiscriminantAnalysis()"
   ]
  },
  {
   "cell_type": "code",
   "execution_count": null,
   "id": "211e39eb",
   "metadata": {},
   "outputs": [],
   "source": [
    "lda_bw = lda_bw.fit(X_train_bw, y_train)"
   ]
  },
  {
   "cell_type": "code",
   "execution_count": null,
   "id": "59b57af9",
   "metadata": {},
   "outputs": [],
   "source": [
    "y_pred_bw = lda_bw.predict(X_test_bw)"
   ]
  },
  {
   "cell_type": "code",
   "execution_count": null,
   "id": "8f382357",
   "metadata": {
    "scrolled": true
   },
   "outputs": [],
   "source": [
    "cr = classification_report(y_test, y_pred_bw)\n",
    "print(cr)"
   ]
  },
  {
   "cell_type": "markdown",
   "id": "96eafea9",
   "metadata": {},
   "source": [
    "## Ridge and Lasso regression"
   ]
  },
  {
   "cell_type": "code",
   "execution_count": null,
   "id": "5ace429c",
   "metadata": {},
   "outputs": [],
   "source": [
    "pertol_consumption_path = LR_PATH / 'petrol_consumption.csv'"
   ]
  },
  {
   "cell_type": "code",
   "execution_count": null,
   "id": "ab6c7d0c",
   "metadata": {},
   "outputs": [],
   "source": [
    "df = pd.read_csv(pertol_consumption_path)\n",
    "df"
   ]
  },
  {
   "cell_type": "code",
   "execution_count": null,
   "id": "4fed031a",
   "metadata": {},
   "outputs": [],
   "source": [
    "df.shape"
   ]
  },
  {
   "cell_type": "code",
   "execution_count": null,
   "id": "8c0dfd57",
   "metadata": {},
   "outputs": [],
   "source": [
    "print(df.describe().round(2).T)"
   ]
  },
  {
   "cell_type": "markdown",
   "id": "ab94640f",
   "metadata": {},
   "source": [
    "#### Prepare dataset"
   ]
  },
  {
   "cell_type": "code",
   "execution_count": null,
   "id": "7de21c50",
   "metadata": {},
   "outputs": [],
   "source": [
    "y = df['Petrol_Consumption']\n",
    "X = df[['Average_income', 'Paved_Highways',\n",
    "       'Population_Driver_licence(%)', 'Petrol_tax']]"
   ]
  },
  {
   "cell_type": "code",
   "execution_count": null,
   "id": "4c61c11f",
   "metadata": {},
   "outputs": [],
   "source": [
    "X_train, X_test, y_train, y_test = train_test_split(X, y, \n",
    "                                                    test_size=0.2, \n",
    "                                                    random_state=SEED)"
   ]
  },
  {
   "cell_type": "markdown",
   "id": "45738d3b",
   "metadata": {},
   "source": [
    "## Generate Polynomial features"
   ]
  },
  {
   "cell_type": "code",
   "execution_count": null,
   "id": "165e3806",
   "metadata": {},
   "outputs": [],
   "source": [
    "poly = PolynomialFeatures(degree=4)"
   ]
  },
  {
   "cell_type": "code",
   "execution_count": null,
   "id": "19adefb3",
   "metadata": {},
   "outputs": [],
   "source": [
    "X_train_pl = poly.fit_transform(X_train)\n",
    "X_test_pl = poly.transform(X_test)"
   ]
  },
  {
   "cell_type": "code",
   "execution_count": null,
   "id": "1e4533ea",
   "metadata": {},
   "outputs": [],
   "source": [
    "feature_names_pl = poly.get_feature_names_out(input_features=X_train.columns)\n",
    "feature_names_pl"
   ]
  },
  {
   "cell_type": "code",
   "execution_count": null,
   "id": "d8de645e",
   "metadata": {},
   "outputs": [],
   "source": [
    "X_train.shape, X_train_pl.shape"
   ]
  },
  {
   "cell_type": "code",
   "execution_count": null,
   "id": "fab5dcb5",
   "metadata": {},
   "outputs": [],
   "source": [
    "std_scaller = StandardScaler()\n",
    "X_train_pl = std_scaller.fit_transform(X_train_pl)\n",
    "X_test_pl = std_scaller.transform(X_test_pl)"
   ]
  },
  {
   "cell_type": "markdown",
   "id": "a51f4f29",
   "metadata": {},
   "source": [
    "#### Ridge"
   ]
  },
  {
   "cell_type": "code",
   "execution_count": null,
   "id": "5cdbb646",
   "metadata": {},
   "outputs": [],
   "source": [
    "ridge_rg = Ridge(alpha=100.08)\n",
    "ridge_rg.fit(X_train_pl, y_train)"
   ]
  },
  {
   "cell_type": "code",
   "execution_count": null,
   "id": "2b1bbc3c",
   "metadata": {},
   "outputs": [],
   "source": [
    "ridge_rg.intercept_"
   ]
  },
  {
   "cell_type": "code",
   "execution_count": null,
   "id": "a3920ae9",
   "metadata": {},
   "outputs": [],
   "source": [
    "ridge_rg.coef_"
   ]
  },
  {
   "cell_type": "code",
   "execution_count": null,
   "id": "58b1ec65",
   "metadata": {},
   "outputs": [],
   "source": [
    "model_coefficients = ridge_rg.coef_\n",
    "\n",
    "coefficients_df = pd.DataFrame(data = model_coefficients, \n",
    "                              index = feature_names_pl, \n",
    "                              columns = ['Coefficient value'])\n",
    "print(coefficients_df)"
   ]
  },
  {
   "cell_type": "markdown",
   "id": "80f418b1",
   "metadata": {},
   "source": [
    "#### Inference with the model"
   ]
  },
  {
   "cell_type": "code",
   "execution_count": null,
   "id": "f32f4cc0",
   "metadata": {},
   "outputs": [],
   "source": [
    "y_pred_pl = ridge_rg.predict(X_test_pl)\n",
    "y_pred_pl"
   ]
  },
  {
   "cell_type": "code",
   "execution_count": null,
   "id": "57a73e5a",
   "metadata": {},
   "outputs": [],
   "source": [
    "results = pd.DataFrame({'Actual': y_test, 'Predicted': y_pred_pl})\n",
    "print(results)"
   ]
  },
  {
   "cell_type": "markdown",
   "id": "6355df4e",
   "metadata": {},
   "source": [
    "#### Evaluate the model"
   ]
  },
  {
   "cell_type": "code",
   "execution_count": null,
   "id": "2d8f6542",
   "metadata": {},
   "outputs": [],
   "source": [
    "mae = mean_absolute_error(y_test, y_pred_pl)\n",
    "mse = mean_squared_error(y_test, y_pred_pl)\n",
    "rmse = np.sqrt(mse)\n",
    "\n",
    "print(f'Mean absolute error: {mae:.2f}')\n",
    "print(f'Mean squared error: {mse:.2f}')\n",
    "print(f'Root mean squared error: {rmse:.2f}')"
   ]
  },
  {
   "cell_type": "code",
   "execution_count": null,
   "id": "058f8a57",
   "metadata": {},
   "outputs": [],
   "source": [
    "actual_minus_predicted = sum((y_test - y_pred_pl)**2)\n",
    "actual_minus_actual_mean = sum((y_test - y_test.mean())**2)\n",
    "r2 = 1 - actual_minus_predicted/actual_minus_actual_mean\n",
    "print('R²:', r2)"
   ]
  },
  {
   "cell_type": "code",
   "execution_count": null,
   "id": "68bf9663",
   "metadata": {},
   "outputs": [],
   "source": [
    "ridge_rg.score(X_test_pl, y_test)"
   ]
  },
  {
   "cell_type": "code",
   "execution_count": null,
   "id": "cef59cce",
   "metadata": {},
   "outputs": [],
   "source": [
    "ridge_rg.score(X_train_pl, y_train)"
   ]
  },
  {
   "cell_type": "markdown",
   "id": "84869b48",
   "metadata": {},
   "source": [
    "#### Lasso"
   ]
  },
  {
   "cell_type": "code",
   "execution_count": null,
   "id": "c2182708",
   "metadata": {},
   "outputs": [],
   "source": [
    "lasso_rg = Lasso(alpha=1.8)\n",
    "lasso_rg.fit(X_train_pl, y_train)"
   ]
  },
  {
   "cell_type": "code",
   "execution_count": null,
   "id": "2b4d6b24",
   "metadata": {},
   "outputs": [],
   "source": [
    "lasso_rg.intercept_"
   ]
  },
  {
   "cell_type": "code",
   "execution_count": null,
   "id": "9c5d4fc8",
   "metadata": {},
   "outputs": [],
   "source": [
    "lasso_rg.coef_"
   ]
  },
  {
   "cell_type": "code",
   "execution_count": null,
   "id": "628017ef",
   "metadata": {},
   "outputs": [],
   "source": [
    "model_coefficients = lasso_rg.coef_\n",
    "\n",
    "coefficients_df = pd.DataFrame(data = model_coefficients, \n",
    "                              index = feature_names_pl, \n",
    "                              columns = ['Coefficient value'])\n",
    "print(coefficients_df)"
   ]
  },
  {
   "cell_type": "markdown",
   "id": "34042a87",
   "metadata": {},
   "source": [
    "#### Inference with the model"
   ]
  },
  {
   "cell_type": "code",
   "execution_count": null,
   "id": "6a465105",
   "metadata": {},
   "outputs": [],
   "source": [
    "y_pred = lasso_rg.predict(X_test_pl)\n",
    "y_pred"
   ]
  },
  {
   "cell_type": "code",
   "execution_count": null,
   "id": "4b700460",
   "metadata": {},
   "outputs": [],
   "source": [
    "results = pd.DataFrame({'Actual': y_test, 'Predicted': y_pred_pl})\n",
    "print(results)"
   ]
  },
  {
   "cell_type": "markdown",
   "id": "1e1fa656",
   "metadata": {},
   "source": [
    "#### Evaluate the model"
   ]
  },
  {
   "cell_type": "code",
   "execution_count": null,
   "id": "7acdfabc",
   "metadata": {},
   "outputs": [],
   "source": [
    "mae = mean_absolute_error(y_test, y_pred_pl)\n",
    "mse = mean_squared_error(y_test, y_pred_pl)\n",
    "rmse = np.sqrt(mse)\n",
    "\n",
    "print(f'Mean absolute error: {mae:.2f}')\n",
    "print(f'Mean squared error: {mse:.2f}')\n",
    "print(f'Root mean squared error: {rmse:.2f}')"
   ]
  },
  {
   "cell_type": "code",
   "execution_count": null,
   "id": "4b72ed5a",
   "metadata": {},
   "outputs": [],
   "source": [
    "actual_minus_predicted = sum((y_test - y_pred_pl)**2)\n",
    "actual_minus_actual_mean = sum((y_test - y_test.mean())**2)\n",
    "r2 = 1 - actual_minus_predicted/actual_minus_actual_mean\n",
    "print('R²:', r2)"
   ]
  },
  {
   "cell_type": "code",
   "execution_count": null,
   "id": "73cd476e",
   "metadata": {},
   "outputs": [],
   "source": [
    "lasso_rg.score(X_test_pl, y_test)"
   ]
  },
  {
   "cell_type": "code",
   "execution_count": null,
   "id": "6038db74",
   "metadata": {},
   "outputs": [],
   "source": [
    "lasso_rg.score(X_train_pl, y_train)"
   ]
  },
  {
   "cell_type": "markdown",
   "id": "cd6fb920",
   "metadata": {},
   "source": [
    "## Linear / polynomial splines"
   ]
  },
  {
   "cell_type": "code",
   "execution_count": null,
   "id": "982db01e",
   "metadata": {},
   "outputs": [],
   "source": [
    "spline = SplineTransformer(n_knots=32, degree=1)"
   ]
  },
  {
   "cell_type": "code",
   "execution_count": null,
   "id": "66731e56",
   "metadata": {},
   "outputs": [],
   "source": [
    "X_train_sp = spline.fit_transform(X_train)\n",
    "X_test_sp = spline.transform(X_test)"
   ]
  },
  {
   "cell_type": "code",
   "execution_count": null,
   "id": "db5a85f1",
   "metadata": {
    "scrolled": true
   },
   "outputs": [],
   "source": [
    "feature_names_sp = spline.get_feature_names_out(input_features=X_train.columns)\n",
    "feature_names_sp"
   ]
  },
  {
   "cell_type": "code",
   "execution_count": null,
   "id": "d8e0706a",
   "metadata": {},
   "outputs": [],
   "source": [
    "X_train.shape, X_train_sp.shape"
   ]
  },
  {
   "cell_type": "code",
   "execution_count": null,
   "id": "0cda20e8",
   "metadata": {},
   "outputs": [],
   "source": [
    "std_scaller = StandardScaler()\n",
    "X_train_sp = std_scaller.fit_transform(X_train_sp)\n",
    "X_test_sp = std_scaller.transform(X_test_sp)"
   ]
  },
  {
   "cell_type": "markdown",
   "id": "11a84d51",
   "metadata": {},
   "source": [
    "#### Ridge"
   ]
  },
  {
   "cell_type": "code",
   "execution_count": null,
   "id": "e052790e",
   "metadata": {},
   "outputs": [],
   "source": [
    "ridge_rg = Ridge(alpha=36.08)\n",
    "ridge_rg.fit(X_train_sp, y_train)"
   ]
  },
  {
   "cell_type": "code",
   "execution_count": null,
   "id": "f12cb3fb",
   "metadata": {},
   "outputs": [],
   "source": [
    "ridge_rg.intercept_"
   ]
  },
  {
   "cell_type": "code",
   "execution_count": null,
   "id": "529b9d50",
   "metadata": {
    "scrolled": true
   },
   "outputs": [],
   "source": [
    "ridge_rg.coef_"
   ]
  },
  {
   "cell_type": "code",
   "execution_count": null,
   "id": "1e39a188",
   "metadata": {},
   "outputs": [],
   "source": [
    "model_coefficients = ridge_rg.coef_\n",
    "\n",
    "coefficients_df = pd.DataFrame(data = model_coefficients, \n",
    "                              index = feature_names_sp, \n",
    "                              columns = ['Coefficient value'])\n",
    "print(coefficients_df)"
   ]
  },
  {
   "cell_type": "markdown",
   "id": "be43dec1",
   "metadata": {},
   "source": [
    "#### Inference with the model"
   ]
  },
  {
   "cell_type": "code",
   "execution_count": null,
   "id": "74dd10d7",
   "metadata": {},
   "outputs": [],
   "source": [
    "y_pred_sp = ridge_rg.predict(X_test_sp)\n",
    "y_pred_sp"
   ]
  },
  {
   "cell_type": "code",
   "execution_count": null,
   "id": "aba5c719",
   "metadata": {},
   "outputs": [],
   "source": [
    "results = pd.DataFrame({'Actual': y_test, 'Predicted': y_pred_sp})\n",
    "print(results)"
   ]
  },
  {
   "cell_type": "markdown",
   "id": "48bc5ec4",
   "metadata": {},
   "source": [
    "#### Evaluate the model"
   ]
  },
  {
   "cell_type": "code",
   "execution_count": null,
   "id": "6a4ed8c6",
   "metadata": {},
   "outputs": [],
   "source": [
    "mae = mean_absolute_error(y_test, y_pred_sp)\n",
    "mse = mean_squared_error(y_test, y_pred_sp)\n",
    "rmse = np.sqrt(mse)\n",
    "\n",
    "print(f'Mean absolute error: {mae:.2f}')\n",
    "print(f'Mean squared error: {mse:.2f}')\n",
    "print(f'Root mean squared error: {rmse:.2f}')"
   ]
  },
  {
   "cell_type": "code",
   "execution_count": null,
   "id": "f7f68a6e",
   "metadata": {},
   "outputs": [],
   "source": [
    "R_2_test = ridge_rg.score(X_test_sp, y_test)\n",
    "print(f'R² (test): {R_2_test}')"
   ]
  },
  {
   "cell_type": "code",
   "execution_count": null,
   "id": "5ecf4f54",
   "metadata": {},
   "outputs": [],
   "source": [
    "R_2_train = ridge_rg.score(X_train_sp, y_train)\n",
    "print(f'R² (train): {R_2_train}')"
   ]
  },
  {
   "cell_type": "code",
   "execution_count": null,
   "id": "8977a771",
   "metadata": {},
   "outputs": [],
   "source": []
  }
 ],
 "metadata": {
  "kernelspec": {
   "display_name": "Python 3 (ipykernel)",
   "language": "python",
   "name": "python3"
  },
  "language_info": {
   "codemirror_mode": {
    "name": "ipython",
    "version": 3
   },
   "file_extension": ".py",
   "mimetype": "text/x-python",
   "name": "python",
   "nbconvert_exporter": "python",
   "pygments_lexer": "ipython3",
   "version": "3.10.9"
  }
 },
 "nbformat": 4,
 "nbformat_minor": 5
}
