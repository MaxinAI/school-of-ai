{
 "cells": [
  {
   "cell_type": "code",
   "execution_count": 1,
   "metadata": {},
   "outputs": [],
   "source": [
    "%load_ext autoreload\n",
    "%autoreload 2\n",
    "\n",
    "%matplotlib inline"
   ]
  },
  {
   "cell_type": "markdown",
   "metadata": {},
   "source": [
    "## Basic setup"
   ]
  },
  {
   "cell_type": "markdown",
   "metadata": {},
   "source": [
    "Create anaconda environnement\n",
    "<br>\n",
    "```bash\n",
    "conda create -n ml python=3.7.4 jupyter\n",
    "```\n",
    "Install fastai library\n",
    "<br>\n",
    "```bash\n",
    "conda install -c pytorch -c fastai fastai\n",
    "```"
   ]
  },
  {
   "cell_type": "code",
   "execution_count": 2,
   "metadata": {},
   "outputs": [
    {
     "name": "stdout",
     "output_type": "stream",
     "text": [
      "Test\n"
     ]
    }
   ],
   "source": [
    "print(\"Test\")"
   ]
  },
  {
   "cell_type": "markdown",
   "metadata": {},
   "source": [
    "# Set theory basics"
   ]
  },
  {
   "cell_type": "markdown",
   "metadata": {},
   "source": [
    "Set (small) collection of mathematical (unique) elements $\\{x, y, z, ...\\}$, for instance set of integers $\\{1, 2, 3, ...\\}$, set of real numbers $\\mathbb{R}$ numbers. We can describe set with it's property, e.g. set of real numbers between $1$ and $5$ will be $\\{x | x \\in \\mathbb{R}, 1\\leq x \\leq 5 \\}$."
   ]
  },
  {
   "cell_type": "code",
   "execution_count": 13,
   "metadata": {},
   "outputs": [
    {
     "data": {
      "text/plain": [
       "(set, set, set, {1, 2, 3, 4})"
      ]
     },
     "execution_count": 13,
     "metadata": {},
     "output_type": "execute_result"
    }
   ],
   "source": [
    "S = set([2, 4])\n",
    "A = {1, 2, 3, 4, 4}\n",
    "B = {2, 4}\n",
    "C = {1, 2, 18, 28}\n",
    "type(S), type(A), type(B), A\n",
    "#print(A)\n",
    "#C\n",
    "#A\n",
    "#ჭ = {3, 5, 2, 2, 1}\n",
    "#ჭ\n"
   ]
  },
  {
   "cell_type": "markdown",
   "metadata": {},
   "source": [
    "We sey that element $a \\in A$ if element $a$ belongs to set $A$ and $a \\notin A$ in other case"
   ]
  },
  {
   "cell_type": "code",
   "execution_count": 8,
   "metadata": {},
   "outputs": [
    {
     "data": {
      "text/plain": [
       "(True, True, False)"
      ]
     },
     "execution_count": 8,
     "metadata": {},
     "output_type": "execute_result"
    }
   ],
   "source": [
    "1 in A, 2 in B, 3 in C"
   ]
  },
  {
   "cell_type": "markdown",
   "metadata": {},
   "source": [
    "Note: sometimes we write $a, b \\in A$ (or $a, b, c \\in A$, $a,b,c,d \\in A$, $a_1, a_2, ..., a_n \\in A$) instead of $a \\in A$ and $b \\in A$ (or $a \\in A$ and $b \\in A$ and $c \\in A$, $a \\in A$ and $b \\in A$ and $c \\in A$ and $d \\in A$, $a_1 \\in A$ and $a_2 \\in A$ and ... $a_n \\in A$)"
   ]
  },
  {
   "cell_type": "markdown",
   "metadata": {},
   "source": [
    "Set (category) of all \"small\" sets $Set$"
   ]
  },
  {
   "cell_type": "markdown",
   "metadata": {},
   "source": [
    "Subset $B \\subseteq A$ if for every $x$ element of $B$, $x \\in A$ "
   ]
  },
  {
   "cell_type": "code",
   "execution_count": 9,
   "metadata": {},
   "outputs": [
    {
     "data": {
      "text/plain": [
       "(True, False)"
      ]
     },
     "execution_count": 9,
     "metadata": {},
     "output_type": "execute_result"
    }
   ],
   "source": [
    "B.issubset(A), A.issubset(B)"
   ]
  },
  {
   "cell_type": "markdown",
   "metadata": {},
   "source": [
    "Prove that $A \\subseteq A$"
   ]
  },
  {
   "cell_type": "code",
   "execution_count": 14,
   "metadata": {},
   "outputs": [
    {
     "data": {
      "text/plain": [
       "True"
      ]
     },
     "execution_count": 14,
     "metadata": {},
     "output_type": "execute_result"
    }
   ],
   "source": [
    "A.issubset(A)"
   ]
  },
  {
   "cell_type": "markdown",
   "metadata": {},
   "source": [
    "Proper subset $B \\subset A$ if for every element $b \\in B$: $A \\in A$ and there exists $a \\in a$ such that: $a \\notin B$, or in other words $B \\subseteq A$ and $B \\neq A$"
   ]
  },
  {
   "cell_type": "markdown",
   "metadata": {},
   "source": [
    "If $A \\subseteq B$ and $B \\subseteq A$ $\\to$ $A = B$"
   ]
  },
  {
   "cell_type": "markdown",
   "metadata": {},
   "source": [
    "Empty set a $\\emptyset$ is a set without elements at all and which is contained in any set $\\emptyset \\subseteq A$ for any $A \\in Set$ so $\\emptyset$ is the \"smallest\" set (Proof it)"
   ]
  },
  {
   "cell_type": "code",
   "execution_count": 16,
   "metadata": {},
   "outputs": [
    {
     "data": {
      "text/plain": [
       "set"
      ]
     },
     "execution_count": 16,
     "metadata": {},
     "output_type": "execute_result"
    }
   ],
   "source": [
    "O = set() \n",
    "#O = {}\n",
    "type(O)"
   ]
  },
  {
   "cell_type": "markdown",
   "metadata": {},
   "source": [
    "Intersection of two sets $A$ and $B$ $A \\cap B$ is a \"biggest\" subset of $A$ and $B$, that means for every set $C$ such that, $C \\subseteq A$ and $C \\subseteq B$ $\\to$ (implies) $C \\subseteq A\\cap B$"
   ]
  },
  {
   "cell_type": "code",
   "execution_count": 19,
   "metadata": {},
   "outputs": [
    {
     "data": {
      "text/plain": [
       "({2, 4}, {1, 2}, {1, 2, 3, 4}, {2, 4}, {1, 2, 18, 28})"
      ]
     },
     "execution_count": 19,
     "metadata": {},
     "output_type": "execute_result"
    }
   ],
   "source": [
    "A.intersection(B), A.intersection(C), A, B, C\n",
    "#B.intersection(A)"
   ]
  },
  {
   "cell_type": "markdown",
   "metadata": {},
   "source": [
    "Give an exmaples of two sets $A$ and $B$ for which $A \\cap B = \\emptyset$"
   ]
  },
  {
   "cell_type": "code",
   "execution_count": 28,
   "metadata": {},
   "outputs": [
    {
     "data": {
      "text/plain": [
       "set()"
      ]
     },
     "execution_count": 28,
     "metadata": {},
     "output_type": "execute_result"
    }
   ],
   "source": [
    "odd = {1, 3, 5}\n",
    "even = {2,4,6}\n",
    "odd.intersection(even)"
   ]
  },
  {
   "cell_type": "markdown",
   "metadata": {},
   "source": [
    "Prove that if $B \\subset A$ then $A \\cap B = B$"
   ]
  },
  {
   "cell_type": "code",
   "execution_count": 29,
   "metadata": {},
   "outputs": [
    {
     "data": {
      "text/plain": [
       "True"
      ]
     },
     "execution_count": 29,
     "metadata": {},
     "output_type": "execute_result"
    }
   ],
   "source": [
    "A.intersection(B)==B"
   ]
  },
  {
   "cell_type": "markdown",
   "metadata": {},
   "source": [
    "Prove that $A \\cap B = B \\cap A$"
   ]
  },
  {
   "cell_type": "code",
   "execution_count": 30,
   "metadata": {},
   "outputs": [
    {
     "data": {
      "text/plain": [
       "True"
      ]
     },
     "execution_count": 30,
     "metadata": {},
     "output_type": "execute_result"
    }
   ],
   "source": [
    "A.intersection(B) == B.intersection(A)"
   ]
  },
  {
   "cell_type": "markdown",
   "metadata": {},
   "source": [
    "Union of two sets $A$ and $B$ $A \\cup B$ is a \"smallest\" set that contains both - $A$ and $B$, that means:\n",
    "for every set $D$ such that $A \\subseteq D$ and $B \\subseteq D$ $\\to$ (implies) $A \\cup B \\subseteq D$"
   ]
  },
  {
   "cell_type": "code",
   "execution_count": 32,
   "metadata": {},
   "outputs": [
    {
     "data": {
      "text/plain": [
       "({1, 2, 3, 4},\n",
       " {1, 2, 18, 28},\n",
       " {1, 2, 3, 4, 18, 28},\n",
       " {1, 2, 3, 4},\n",
       " {1, 2, 3, 4},\n",
       " {2, 4},\n",
       " {1, 2, 18, 28})"
      ]
     },
     "execution_count": 32,
     "metadata": {},
     "output_type": "execute_result"
    }
   ],
   "source": [
    "A, C, A.union(C), A.union(B) , A, B, C"
   ]
  },
  {
   "cell_type": "markdown",
   "metadata": {},
   "source": [
    "Prove that if $B \\subset A$ then $A \\cup B = A$"
   ]
  },
  {
   "cell_type": "code",
   "execution_count": 38,
   "metadata": {},
   "outputs": [
    {
     "name": "stdout",
     "output_type": "stream",
     "text": [
      "True\n"
     ]
    }
   ],
   "source": [
    "if(B.issubset(A)):\n",
    "    print(A.union(B) == A)"
   ]
  },
  {
   "cell_type": "markdown",
   "metadata": {},
   "source": [
    "Prove that $A \\cup B = B \\cup A$"
   ]
  },
  {
   "cell_type": "code",
   "execution_count": 37,
   "metadata": {},
   "outputs": [
    {
     "data": {
      "text/plain": [
       "True"
      ]
     },
     "execution_count": 37,
     "metadata": {},
     "output_type": "execute_result"
    }
   ],
   "source": [
    "A.union(B) == B.union(A)"
   ]
  },
  {
   "cell_type": "markdown",
   "metadata": {},
   "source": [
    "Difference between two sets $A$ snd $B$ is the set $A - B$ or $A \\ B$ for which $a \\in A - B$ if $a \\in A$ and $a \\notin B$"
   ]
  },
  {
   "cell_type": "code",
   "execution_count": 39,
   "metadata": {},
   "outputs": [
    {
     "data": {
      "text/plain": [
       "({1, 3}, {3, 4}, {18, 28}, {1, 2, 3, 4}, {2, 4}, {1, 2, 18, 28})"
      ]
     },
     "execution_count": 39,
     "metadata": {},
     "output_type": "execute_result"
    }
   ],
   "source": [
    "A - B, A - C, C - A, A, B, C"
   ]
  },
  {
   "cell_type": "markdown",
   "metadata": {},
   "source": [
    "For set $A$ and subset $B$ we denote $A - B$ with $\\overline{B}$ or $B^{C}$"
   ]
  },
  {
   "cell_type": "markdown",
   "metadata": {},
   "source": [
    "Set of subsets (powerset) of the set $X$ will be $2^X = \\{A | A \\subseteq X\\}$"
   ]
  },
  {
   "cell_type": "code",
   "execution_count": 41,
   "metadata": {},
   "outputs": [
    {
     "data": {
      "text/plain": [
       "({1, 2, 3, 4},\n",
       " {(),\n",
       "  (1,),\n",
       "  (1, 2),\n",
       "  (1, 2, 3),\n",
       "  (1, 2, 3, 4),\n",
       "  (1, 2, 4),\n",
       "  (1, 3),\n",
       "  (1, 3, 4),\n",
       "  (1, 4),\n",
       "  (2,),\n",
       "  (2, 3),\n",
       "  (2, 3, 4),\n",
       "  (2, 4),\n",
       "  (3,),\n",
       "  (3, 4),\n",
       "  (4,)},\n",
       " 4,\n",
       " 16,\n",
       " 16,\n",
       " True)"
      ]
     },
     "execution_count": 41,
     "metadata": {},
     "output_type": "execute_result"
    }
   ],
   "source": [
    "from itertools import combinations, chain\n",
    "pset = chain.from_iterable(set(combinations(A, r)) for r in range(len(A)+1))\n",
    "P_A = set(pset)\n",
    "A, P_A, len(A), len(P_A), 2**(len(A)), len(P_A) == 2**(len(A))"
   ]
  },
  {
   "cell_type": "markdown",
   "metadata": {},
   "source": [
    "Cartesian product of sets $A$ and $B$ in set of ordered pairs := $A\\times B = \\{(a, b) | a \\in A \\textrm{ and } b\\in B\\}$"
   ]
  },
  {
   "cell_type": "code",
   "execution_count": 42,
   "metadata": {},
   "outputs": [
    {
     "data": {
      "text/plain": [
       "({(1, 2), (1, 4), (2, 2), (2, 4), (3, 2), (3, 4), (4, 2), (4, 4)}, 4, 2, 8)"
      ]
     },
     "execution_count": 42,
     "metadata": {},
     "output_type": "execute_result"
    }
   ],
   "source": [
    "AxB = {(a, b) for a in A for b in B}\n",
    "AxB, len(A), len(B), len(AxB)"
   ]
  },
  {
   "cell_type": "code",
   "execution_count": 43,
   "metadata": {},
   "outputs": [],
   "source": [
    "#AxBxC = ?"
   ]
  },
  {
   "cell_type": "markdown",
   "metadata": {},
   "source": [
    "Exclusively for mathematicians $(a, b) = \\{a, \\{a, b\\}\\}$ and $A \\times B = \\{\\{a, \\{a, b\\}\\} | a \\in A \\textrm{ and } b\\in B\\}$"
   ]
  },
  {
   "cell_type": "markdown",
   "metadata": {},
   "source": [
    "Every subset $R$ of $AxB$ is called relation. We write $aRb$ iff $(a, b) \\in R$"
   ]
  },
  {
   "cell_type": "markdown",
   "metadata": {},
   "source": [
    "Special cases of relations:"
   ]
  },
  {
   "cell_type": "markdown",
   "metadata": {},
   "source": [
    "For every set $A$ the diagonal $\\Delta \\subseteq A \\times A$ is $\\{(a, a) | a \\in A\\}$"
   ]
  },
  {
   "cell_type": "code",
   "execution_count": 44,
   "metadata": {},
   "outputs": [],
   "source": [
    "#delta = ? # Use comprehension"
   ]
  },
  {
   "cell_type": "markdown",
   "metadata": {},
   "source": [
    "Equivalence relation on the set $A$: $E \\subset A \\times A$ with properties:\n",
    "- For each $a \\in A$ $aEa$, which means that diagonal $\\Delta \\subseteq E$ (reflexive property)\n",
    "- For each $a, b \\in A$ iff $aEb$ then $bEa$ (symmetric property)\n",
    "- For each $a, b, c \\in A$ if $aEb$ and $bEc$ then $aEc$\n"
   ]
  },
  {
   "cell_type": "markdown",
   "metadata": {},
   "source": [
    "Partial order relation $\\leq$\n",
    "- For each $a \\in A$ $a \\leq a$, which means that diagonal $\\Delta \\subseteq E$ (reflexive property)\n",
    "- For each $a, b \\in A$ if $a \\leq b$ and $b\\leq a$ then $a = b$ (anti-symmetric property)\n",
    "- For each $a, b, c \\in A$ if $a \\leq b$ and $b \\leq c$ then $a \\leq c$"
   ]
  },
  {
   "cell_type": "markdown",
   "metadata": {},
   "source": [
    "Function, map $f$ between two sets $A$ and $B$ is the special relation such thet for every $a\\in A$ and every $b^{'}, b^{''} \\in B$ if $af{b^{'}}$ and $af{b^{''}}$ $\\to$ $b^{'}={b^{''}}$.\n"
   ]
  },
  {
   "cell_type": "markdown",
   "metadata": {},
   "source": [
    "We write : $f:A \\to B$ or $A \\xrightarrow{f} B$ instead of $f \\subseteq A \\times B $ and $f(a)=b$ or $f:a \\mapsto b$ instead of $afb$"
   ]
  },
  {
   "cell_type": "markdown",
   "metadata": {},
   "source": [
    "We write $f, g :A \\to B$ or $f_1, f_2, ..., f_n : A \\to B$ instead of $f: A\\to B$ and $g:A \\to B$ or  $f_1: A \\to B$ and $f_2 : A \\to B$ ... $f_n : A \\to B$"
   ]
  },
  {
   "cell_type": "code",
   "execution_count": 45,
   "metadata": {},
   "outputs": [
    {
     "data": {
      "text/plain": [
       "({1, 2, 3, 4}, {1, 4, 9, 16}, {1, 2, 3, 4})"
      ]
     },
     "execution_count": 45,
     "metadata": {},
     "output_type": "execute_result"
    }
   ],
   "source": [
    "f = lambda x: x**2\n",
    "A, set(map(f, A)), A"
   ]
  },
  {
   "cell_type": "markdown",
   "metadata": {},
   "source": [
    "Composition of $f:A \\to B$ and $g:B \\to C$ is $g \\circ f : A \\to C$ where $a \\mapsto g(f(a))$ for each $a \\in A$"
   ]
  },
  {
   "cell_type": "markdown",
   "metadata": {},
   "source": [
    "or $A \\xrightarrow{f} B \\xrightarrow{g} C$ than $g \\circ f:A \\to C$"
   ]
  },
  {
   "cell_type": "markdown",
   "metadata": {},
   "source": [
    "Identity map $1_A:A \\to A$ is defined as $1_A(a) = a$ for each $a \\ int A$\n",
    "<br>\n",
    "If set is given we sometimes write $1:A \\to A$ for simplicity"
   ]
  },
  {
   "cell_type": "code",
   "execution_count": 46,
   "metadata": {},
   "outputs": [
    {
     "data": {
      "text/plain": [
       "({1, 2, 3, 4}, {13, 16, 21, 28}, {13, 16, 21, 28}, {1, 2, 3, 4})"
      ]
     },
     "execution_count": 46,
     "metadata": {},
     "output_type": "execute_result"
    }
   ],
   "source": [
    "g = lambda y: y + 12\n",
    "gf = lambda x : g(f(x))\n",
    "A, set(map(g, set(map(f, A)))), set(map(gf, A)), A"
   ]
  },
  {
   "cell_type": "markdown",
   "metadata": {},
   "source": [
    "Injection (monomorphism): $m:A \\to B$ is called injection if for eqch pair of elements $a^{'}, a^{''} \\in A$ if $f(a^{'}) = f(a^{''})$ $\\to$ $a^{'} = a^{''}$."
   ]
  },
  {
   "cell_type": "markdown",
   "metadata": {},
   "source": [
    "Surjection (epimorphism): $p:A \\to B$ is called injection if for ech pair of elements $a^{'}, a^{''} \\in A$ if $f(a^{'}) = f(a^{''})$ $\\to$ $a^{'} = a^{''}$."
   ]
  },
  {
   "cell_type": "markdown",
   "metadata": {},
   "source": [
    "Prove that:\n",
    "- for every injection $m:A \\to B$ and pair of functions $f, g :C \\to A$: if $m \\circ f = m \\circ g$ then $f = g$ and vice-versa\n",
    "- for every surjection $e:A \\to B$ and every pair of functions $f, g :B \\to C$: if $f \\circ e = g \\circ e$ then $f = g$ and vice-versa"
   ]
  },
  {
   "cell_type": "markdown",
   "metadata": {},
   "source": [
    "Bijection: $f: A \\to B$ is called bijection if $f$ is injection and surjection simultaneously"
   ]
  },
  {
   "cell_type": "markdown",
   "metadata": {},
   "source": [
    "Prooof that \n",
    "- composition of injections is injection itself\n",
    "- composition of surjections is surjection itself\n",
    "- composition of bijections is bijection itself\n",
    "<br>\n",
    "or give a counterexamples"
   ]
  },
  {
   "cell_type": "markdown",
   "metadata": {},
   "source": [
    "If there exists a biujection between two sets $A$ and $B$, we call this two sets equivalent sets and write $A \\equiv B$ or $A \\cong B$"
   ]
  },
  {
   "cell_type": "markdown",
   "metadata": {},
   "source": [
    "Proove that for each set $A$:\n",
    "- $A \\cong A$\n",
    "- iff $B \\cong A$ then $B \\cong A$ for every pair of sets $A$ and $B$\n",
    "- if $A \\cong B$ and $B \\cong C$ then $A \\cong C$ for every triplet $A$, $B$ and $C$"
   ]
  },
  {
   "cell_type": "markdown",
   "metadata": {},
   "source": [
    "Prooof that there exists bijection between set of natural and even numbers"
   ]
  },
  {
   "cell_type": "markdown",
   "metadata": {},
   "source": [
    "Proof thet if we have the bijection between two finity sets than they have an equal number of elements"
   ]
  },
  {
   "cell_type": "markdown",
   "metadata": {},
   "source": [
    "Prove that $A \\times B \\cong B \\times A$"
   ]
  },
  {
   "cell_type": "markdown",
   "metadata": {},
   "source": [
    "Suppose we have a set $I$ and $A$ and bijection $i:I \\to C \\subseteq 2^A$ than $I$ is called index set."
   ]
  },
  {
   "cell_type": "markdown",
   "metadata": {},
   "source": [
    "Let $I = \\mathbb{N}$ the we have a sequence of sets $(A_1, A_2, ...)$, or if $I$ is finit then we have a finity sequence of sets"
   ]
  },
  {
   "cell_type": "markdown",
   "metadata": {},
   "source": [
    "We can generalize intersections and unions for as many sets as we want"
   ]
  },
  {
   "cell_type": "markdown",
   "metadata": {},
   "source": [
    "$\\cap_{i\\in I}A_i$ and $\\cup_{i\\in I}A_i$"
   ]
  },
  {
   "cell_type": "code",
   "execution_count": 47,
   "metadata": {},
   "outputs": [],
   "source": [
    "# Inplement in python"
   ]
  },
  {
   "cell_type": "markdown",
   "metadata": {},
   "source": [
    "We can also define cartesian product of any \"number\" of sets $\\prod_{i \\in I}{A_i}$"
   ]
  },
  {
   "cell_type": "code",
   "execution_count": 48,
   "metadata": {},
   "outputs": [],
   "source": [
    "# Inplement in python"
   ]
  },
  {
   "cell_type": "markdown",
   "metadata": {},
   "source": [
    "- $\\overline{\\cap_{i\\in I}A_i} = \\cup_{i\\in I}\\overline{A_i}$\n",
    "- $\\overline{\\cup_{i\\in I}A_i} = \\cap_{i\\in I}\\overline{A_i}$\n",
    "<br>\n",
    "or\n",
    "<br>\n",
    "- $\\overline{A \\cap B} = \\overline{A} \\cup \\overline{B}$\n",
    "- $\\overline{A \\cup B} = \\overline{A} \\cap \\overline{B}$"
   ]
  },
  {
   "cell_type": "markdown",
   "metadata": {},
   "source": [
    "Prove that:\n",
    "$$A \\cap (B \\cup C)=(A \\cap B) \\cup (A\\cap C)$$\n",
    "$$A \\cup (B \\cap C)=(A \\cup B) \\cap (A\\cup C)$$"
   ]
  },
  {
   "cell_type": "markdown",
   "metadata": {},
   "source": [
    "# Linear Algebra"
   ]
  },
  {
   "cell_type": "markdown",
   "metadata": {},
   "source": [
    "Branch of mathematics widle used in many feilds. We'll introduce you to the essentials used in ML and DL.\n",
    "Many notions are simplified (sorry for mathematicians) for better ubderstanding and implementation.\n",
    "We'll implement some basics of LA in NumPy library and have a glance of it's use in CS fields."
   ]
  },
  {
   "cell_type": "markdown",
   "metadata": {},
   "source": [
    "## Scalars"
   ]
  },
  {
   "cell_type": "markdown",
   "metadata": {},
   "source": [
    "Real set of numbers $\\mathbb{R}$. Scalars as elements of the set of real numbers $x \\in \\mathbb{R}$ with sum, multiplication, etc.\n",
    "We define subset of numbers: natural numbers $\\mathbb{N}$, integers $\\mathbb{Z}$, rational numbers $\\mathbb{Q}$ and irrational numbers $\\mathbb{R}\\setminus\\mathbb{Q}$"
   ]
  },
  {
   "cell_type": "code",
   "execution_count": 49,
   "metadata": {},
   "outputs": [
    {
     "data": {
      "text/plain": [
       "(int, float, float, 105.0)"
      ]
     },
     "execution_count": 49,
     "metadata": {},
     "output_type": "execute_result"
    }
   ],
   "source": [
    "m = 100 \n",
    "n = 5.0\n",
    "type(m), type(n), type(m + n), m + n"
   ]
  },
  {
   "cell_type": "markdown",
   "metadata": {},
   "source": [
    "Take $a \\in \\mathbb{R}$ then for each $b \\in \\mathbb{R}$ there exists $\\alpha \\in \\mathbb{R}$ such that $b = \\alpha a$"
   ]
  },
  {
   "cell_type": "markdown",
   "metadata": {},
   "source": [
    "## Vectors"
   ]
  },
  {
   "cell_type": "markdown",
   "metadata": {},
   "source": [
    "vectors can be considered as subset of cartesian product of $\\mathbb{R}$ ($\\mathbb{N}$, $\\mathbb{Z}$, $\\mathbb{Q}$, etc)\n",
    "<br>\n",
    "For instance vector $x = (x_1, x_2, \\dots, x_n)$ we can write $x \\in \\mathbb{R}^{n}$\n",
    "<br>"
   ]
  },
  {
   "cell_type": "code",
   "execution_count": 50,
   "metadata": {},
   "outputs": [],
   "source": [
    "import numpy as np"
   ]
  },
  {
   "cell_type": "code",
   "execution_count": 51,
   "metadata": {},
   "outputs": [
    {
     "data": {
      "text/plain": [
       "([1, 2, 3, 4], array([1, 2, 3, 4, 5]))"
      ]
     },
     "execution_count": 51,
     "metadata": {},
     "output_type": "execute_result"
    }
   ],
   "source": [
    "la = [1, 2, 3, 4]\n",
    "na = np.array([1, 2, 3, 4, 5])\n",
    "la, na"
   ]
  },
  {
   "cell_type": "markdown",
   "metadata": {},
   "source": [
    "In many cases we'll work with collumn vectors like $\\begin{align}\n",
    "    x &= \\begin{bmatrix}\n",
    "           x_{1} \\\\\n",
    "           x_{2} \\\\\n",
    "           \\vdots \\\\\n",
    "           x_{m}\n",
    "         \\end{bmatrix}\n",
    "  \\end{align}$"
   ]
  },
  {
   "cell_type": "markdown",
   "metadata": {},
   "source": [
    "What is the difference between set $\\{a_1, a_2, \\dots, a_n\\}$ and vector $(a_1, a_2, \\dots, a_n)$?"
   ]
  },
  {
   "cell_type": "markdown",
   "metadata": {},
   "source": [
    "Indexing the vectors"
   ]
  },
  {
   "cell_type": "code",
   "execution_count": 52,
   "metadata": {},
   "outputs": [
    {
     "data": {
      "text/plain": [
       "(4, 3, [3, 4], [1, 2, 3], [3, 4])"
      ]
     },
     "execution_count": 52,
     "metadata": {},
     "output_type": "execute_result"
    }
   ],
   "source": [
    "la[-1], la[2], la[2:], la[:-1], la[2:4]"
   ]
  },
  {
   "cell_type": "code",
   "execution_count": 53,
   "metadata": {},
   "outputs": [
    {
     "data": {
      "text/plain": [
       "(5, 3, array([3, 4, 5]), array([1, 2, 3, 4]), array([3, 4]))"
      ]
     },
     "execution_count": 53,
     "metadata": {},
     "output_type": "execute_result"
    }
   ],
   "source": [
    "na[-1], na[2], na[2:], na[:-1], na[2:4]"
   ]
  },
  {
   "cell_type": "code",
   "execution_count": 54,
   "metadata": {},
   "outputs": [
    {
     "data": {
      "text/plain": [
       "array([2, 3])"
      ]
     },
     "execution_count": 54,
     "metadata": {},
     "output_type": "execute_result"
    }
   ],
   "source": [
    "lid = [1, 2]\n",
    "na[lid]"
   ]
  },
  {
   "cell_type": "code",
   "execution_count": 55,
   "metadata": {},
   "outputs": [],
   "source": [
    "nid = np.array(lid)"
   ]
  },
  {
   "cell_type": "code",
   "execution_count": 56,
   "metadata": {},
   "outputs": [
    {
     "data": {
      "text/plain": [
       "array([2, 3])"
      ]
     },
     "execution_count": 56,
     "metadata": {},
     "output_type": "execute_result"
    }
   ],
   "source": [
    "na[lid]"
   ]
  },
  {
   "cell_type": "markdown",
   "metadata": {},
   "source": [
    "## Matrices"
   ]
  },
  {
   "cell_type": "markdown",
   "metadata": {},
   "source": [
    "Matrix $X$ can be considered as mulitidimensional array \n",
    "$\\begin{align}\n",
    "    X &= \\begin{matrix}\n",
    "        x_{11} & x_{12} & \\dots x_{1m} \\\\\n",
    "        x_{21} & x_{22} & \\dots x_{2m} \\\\\n",
    "        \\vdots & \\vdots & \\vdots \\\\\n",
    "        x_{n1} & x_{n2} & \\dots x_{nm} \\\\\n",
    "    \\end{matrix}\n",
    "\\end{align}$\n",
    "or \n",
    "$\\begin{align}\n",
    "    X &= \\begin{pmatrix}\n",
    "        x_{11} & x_{12} & \\dots x_{1m} \\\\\n",
    "        x_{21} & x_{22} & \\dots x_{2m} \\\\\n",
    "        \\vdots & \\vdots & \\vdots \\\\\n",
    "        x_{n1} & x_{n2} & \\dots x_{nm} \\\\\n",
    "    \\end{pmatrix}\n",
    "\\end{align}$\n",
    "or\n",
    "$\\begin{align}\n",
    "    X &= \\begin{bmatrix}\n",
    "        x_{11} & x_{12} & \\dots x_{1m} \\\\\n",
    "        x_{21} & x_{22} & \\dots x_{2m} \\\\\n",
    "        \\vdots & \\vdots & \\vdots \\\\\n",
    "        x_{n1} & x_{n2} & \\dots x_{nm} \\\\\n",
    "    \\end{bmatrix}\n",
    "\\end{align}$\n",
    "<br>\n",
    "Matrix also can be defined by indices $A_{i, j}$ if we don't need concrete demensions"
   ]
  },
  {
   "cell_type": "markdown",
   "metadata": {},
   "source": [
    "We say that $X$ has $n \\times m$ dimension\n",
    "<br>\n",
    "or $X \\in \\mathbb{R}^{n \\times m}$"
   ]
  },
  {
   "cell_type": "markdown",
   "metadata": {},
   "source": [
    "e.g. $\\begin{align}\n",
    "    X &= \\begin{pmatrix}\n",
    "        1 & 2 & 3 \\\\\n",
    "        4 & 5 & 6 \\\\\n",
    "        7 & 8 & 9 \\\\\n",
    "    \\end{pmatrix}\n",
    "\\end{align}$\n",
    "<br>\n",
    "Then $X_{23} = 6$"
   ]
  },
  {
   "cell_type": "markdown",
   "metadata": {},
   "source": [
    "Main diagonal of matrix $X$ are elements $x_{i,j}$ where $i = j$\n",
    "<br>\n",
    "$\\begin{align}\n",
    "    X &= \\begin{pmatrix}\n",
    "        x_{11} &  & \\dots \\\\\n",
    "         & x_{22} & \\dots \\\\\n",
    "        \\vdots & \\vdots & \\vdots \\\\\n",
    "         &  & \\dots x_{nm} \\\\\n",
    "    \\end{pmatrix}\n",
    "\\end{align}$\n"
   ]
  },
  {
   "cell_type": "code",
   "execution_count": 57,
   "metadata": {},
   "outputs": [
    {
     "name": "stdout",
     "output_type": "stream",
     "text": [
      "[[1, 2, 3], [4, 5, 6], [7, 8, 9]]\n",
      "[[1 2 3]\n",
      " [4 5 6]\n",
      " [7 8 9]]\n"
     ]
    }
   ],
   "source": [
    "lm = [[1, 2, 3], [4, 5, 6], [7, 8, 9]]\n",
    "nm = np.array(lm) # np.array([[1, 2, 3], [4, 5, 6]])\n",
    "print(lm)\n",
    "print(nm)"
   ]
  },
  {
   "cell_type": "code",
   "execution_count": 58,
   "metadata": {},
   "outputs": [
    {
     "data": {
      "text/plain": [
       "(6, 6)"
      ]
     },
     "execution_count": 58,
     "metadata": {},
     "output_type": "execute_result"
    }
   ],
   "source": [
    "lm[1][2], nm[1][2]"
   ]
  },
  {
   "cell_type": "code",
   "execution_count": 59,
   "metadata": {},
   "outputs": [
    {
     "data": {
      "text/plain": [
       "([[4, 5, 6], [7, 8, 9]], array([[4, 5, 6],\n",
       "        [7, 8, 9]]))"
      ]
     },
     "execution_count": 59,
     "metadata": {},
     "output_type": "execute_result"
    }
   ],
   "source": [
    "lm[1:], nm[1:]"
   ]
  },
  {
   "cell_type": "code",
   "execution_count": 60,
   "metadata": {},
   "outputs": [
    {
     "name": "stdout",
     "output_type": "stream",
     "text": [
      "[[4, 5, 6]]\n",
      "[[4 5 6]\n",
      " [7 8 9]]\n",
      "[1 2 3]\n"
     ]
    },
    {
     "data": {
      "text/plain": [
       "(array([[12,  2,  3],\n",
       "        [ 4,  5,  6],\n",
       "        [ 7,  8,  9]]), array([12,  2,  3]))"
      ]
     },
     "execution_count": 60,
     "metadata": {},
     "output_type": "execute_result"
    }
   ],
   "source": [
    "print(lm[1:2]) \n",
    "print(nm[1:, :]) \n",
    "nc_1 = nm[0, :]\n",
    "print(nc_1)\n",
    "nc_1[0] = 12\n",
    "nm, nc_1"
   ]
  },
  {
   "cell_type": "code",
   "execution_count": 61,
   "metadata": {},
   "outputs": [
    {
     "data": {
      "text/plain": [
       "array([12,  5,  9])"
      ]
     },
     "execution_count": 61,
     "metadata": {},
     "output_type": "execute_result"
    }
   ],
   "source": [
    "np.diag(nm, k=0)"
   ]
  },
  {
   "cell_type": "markdown",
   "metadata": {},
   "source": [
    "## Tensors"
   ]
  },
  {
   "cell_type": "markdown",
   "metadata": {},
   "source": [
    "Let's go to the higher dimesions and define tensor $X$ as part of $\\mathbb{R}^{n \\times m \\times k}$\n",
    "<br>\n",
    "then we have a three indices instead of two, and $x_{i, j, k}$ is the element of tensor $X$ across the $i, j$ and $k$ indices"
   ]
  },
  {
   "cell_type": "markdown",
   "metadata": {},
   "source": [
    "In similar manner we can define more than three dimensional tensors $X \\in \\mathbb{R}^{n_1 \\times n_2 \\times \\dots \\times n_p}$"
   ]
  },
  {
   "cell_type": "code",
   "execution_count": 62,
   "metadata": {},
   "outputs": [
    {
     "name": "stdout",
     "output_type": "stream",
     "text": [
      "[[[ 1  2  3]\n",
      "  [ 4  5  6]\n",
      "  [ 7  8  9]]\n",
      "\n",
      " [[10 11 12]\n",
      "  [13 14 15]\n",
      "  [16 17 18]]]\n",
      "[[[1, 2, 3], [4, 5, 6], [7, 8, 9]], [[10, 11, 12], [13, 14, 15], [16, 17, 18]]]\n"
     ]
    }
   ],
   "source": [
    "lt = [[[1, 2, 3], [4, 5, 6], [7, 8, 9]], [[10, 11, 12], [13, 14, 15], [16, 17, 18]]]\n",
    "mt = np.array(lt) # or np.array([[[1, 2, 3], [4, 5, 6], [7, 8, 9]], [[10, 11, 12], [13, 14, 15], [16, 17, 18]]])\n",
    "print(mt)\n",
    "print(lt)"
   ]
  },
  {
   "cell_type": "code",
   "execution_count": 63,
   "metadata": {},
   "outputs": [],
   "source": [
    "mt = np.random.randint(0,100, size=(3, 3, 3))"
   ]
  },
  {
   "cell_type": "code",
   "execution_count": 64,
   "metadata": {},
   "outputs": [
    {
     "data": {
      "text/plain": [
       "array([[[54, 78, 53],\n",
       "        [26, 55, 99],\n",
       "        [39, 15, 29]],\n",
       "\n",
       "       [[ 0, 33, 33],\n",
       "        [97, 12, 94],\n",
       "        [72, 90, 17]],\n",
       "\n",
       "       [[63, 26, 27],\n",
       "        [22, 71, 61],\n",
       "        [24, 78, 59]]])"
      ]
     },
     "execution_count": 64,
     "metadata": {},
     "output_type": "execute_result"
    }
   ],
   "source": [
    "mt"
   ]
  },
  {
   "cell_type": "code",
   "execution_count": 65,
   "metadata": {},
   "outputs": [],
   "source": [
    "md = np.random.randint(0,100, size=(2, 3, 4))"
   ]
  },
  {
   "cell_type": "code",
   "execution_count": 66,
   "metadata": {
    "scrolled": false
   },
   "outputs": [
    {
     "data": {
      "text/plain": [
       "array([[[74, 29, 38, 88],\n",
       "        [44, 75, 50, 55],\n",
       "        [97, 30, 76,  3]],\n",
       "\n",
       "       [[89, 17, 14,  7],\n",
       "        [13, 89, 17, 76],\n",
       "        [92, 56, 89, 98]]])"
      ]
     },
     "execution_count": 66,
     "metadata": {},
     "output_type": "execute_result"
    }
   ],
   "source": [
    "md"
   ]
  },
  {
   "cell_type": "code",
   "execution_count": 67,
   "metadata": {},
   "outputs": [],
   "source": [
    "mmd = np.random.randint(0, 100, size=(2, 3, 4, 5, 6))"
   ]
  },
  {
   "cell_type": "code",
   "execution_count": 68,
   "metadata": {
    "scrolled": true
   },
   "outputs": [
    {
     "data": {
      "text/plain": [
       "array([[[[[48, 82, 18,  4, 88, 86],\n",
       "          [15, 65, 84, 31,  0,  3],\n",
       "          [ 2, 60, 85, 88, 63, 98],\n",
       "          [50, 18, 72,  5, 52, 66],\n",
       "          [ 4, 72,  3, 89, 10, 43]],\n",
       "\n",
       "         [[28, 23, 34,  6, 21, 68],\n",
       "          [62, 21, 20, 88, 91, 44],\n",
       "          [62, 72, 81, 16, 98, 82],\n",
       "          [97, 55, 44, 61, 88, 93],\n",
       "          [94,  6,  2, 10, 70, 71]],\n",
       "\n",
       "         [[ 7,  1, 36, 38, 12, 22],\n",
       "          [37, 74, 78, 41, 59, 41],\n",
       "          [27,  2,  7, 49, 41, 25],\n",
       "          [72, 78, 59, 89, 73, 21],\n",
       "          [40, 25, 20, 84, 72, 69]],\n",
       "\n",
       "         [[88, 84, 34, 36, 14,  9],\n",
       "          [15, 27, 45, 39, 37, 13],\n",
       "          [11, 83, 72, 76, 26, 46],\n",
       "          [90, 34, 69, 86, 29, 90],\n",
       "          [25, 35, 35, 94,  7, 52]]],\n",
       "\n",
       "\n",
       "        [[[84, 22,  9, 90, 50, 38],\n",
       "          [32, 27, 24, 16, 67, 86],\n",
       "          [49, 52, 77, 84, 71, 91],\n",
       "          [97, 85, 63, 31, 44, 86],\n",
       "          [76, 41, 13, 73, 85, 54]],\n",
       "\n",
       "         [[57, 97, 90, 97,  1, 26],\n",
       "          [95, 56, 36, 35, 51, 11],\n",
       "          [27, 68, 21, 40, 98, 27],\n",
       "          [14,  1, 24, 26, 58, 44],\n",
       "          [44, 97, 39, 96, 66, 33]],\n",
       "\n",
       "         [[72, 25, 49, 26, 20, 71],\n",
       "          [37, 82, 58, 76, 67,  3],\n",
       "          [73, 12, 43, 14, 12, 54],\n",
       "          [12, 32, 53, 71, 88, 56],\n",
       "          [11, 73, 87, 36,  9, 73]],\n",
       "\n",
       "         [[12, 70, 96, 45, 89, 36],\n",
       "          [28,  9, 74, 97,  4, 21],\n",
       "          [ 7, 72, 38, 61, 59, 74],\n",
       "          [78,  0, 96, 54, 80, 36],\n",
       "          [ 4, 85,  5, 97, 11, 80]]],\n",
       "\n",
       "\n",
       "        [[[96, 95, 93, 21, 16, 23],\n",
       "          [19, 16, 92, 95, 40, 46],\n",
       "          [51,  2, 84, 70, 13, 42],\n",
       "          [96, 28, 10, 13, 57, 67],\n",
       "          [72, 72, 36, 79, 29,  0]],\n",
       "\n",
       "         [[ 8, 21, 38, 89, 13, 33],\n",
       "          [16, 52, 14, 98, 43, 17],\n",
       "          [48, 63, 62, 81,  6, 38],\n",
       "          [19, 50, 46, 58, 30, 66],\n",
       "          [78, 74, 32, 97, 13, 91]],\n",
       "\n",
       "         [[20, 27, 29, 86, 95, 53],\n",
       "          [59, 67, 12,  0,  8, 71],\n",
       "          [35,  1, 79, 56, 53, 41],\n",
       "          [43, 87, 89, 58, 87, 29],\n",
       "          [85, 33, 66, 12, 69, 13]],\n",
       "\n",
       "         [[95, 31, 20,  0, 26, 22],\n",
       "          [89, 87, 31, 17, 59, 80],\n",
       "          [29, 39,  2, 34, 79, 73],\n",
       "          [45, 12, 44, 34, 18, 46],\n",
       "          [43, 28, 19, 69, 36, 12]]]],\n",
       "\n",
       "\n",
       "\n",
       "       [[[[43, 75, 23,  8, 36, 53],\n",
       "          [24, 94, 11, 22, 97,  7],\n",
       "          [95, 74, 25, 84, 92, 88],\n",
       "          [85, 36, 76, 56,  0, 84],\n",
       "          [25, 14, 70, 79, 25, 46]],\n",
       "\n",
       "         [[51, 82,  2, 27, 37,  0],\n",
       "          [67, 22, 55,  0,  9, 93],\n",
       "          [57, 79,  0, 26, 61,  3],\n",
       "          [23, 43, 51, 74, 67, 97],\n",
       "          [13, 19, 97,  8, 15, 68]],\n",
       "\n",
       "         [[57,  5, 91, 59, 29, 92],\n",
       "          [65, 71, 71, 94, 34, 68],\n",
       "          [91,  6, 20, 47, 92, 67],\n",
       "          [85, 43, 55, 41,  1, 77],\n",
       "          [78, 69, 24, 62, 54, 39]],\n",
       "\n",
       "         [[68,  5, 37, 47,  5, 96],\n",
       "          [41,  4, 25, 38, 36, 25],\n",
       "          [ 2, 17,  7, 74, 33, 58],\n",
       "          [82, 63, 97, 89, 59, 62],\n",
       "          [29, 31, 44,  3, 61, 97]]],\n",
       "\n",
       "\n",
       "        [[[79, 20, 37, 34, 68, 13],\n",
       "          [54, 51, 13, 45, 54, 36],\n",
       "          [22, 28, 87, 67, 94,  8],\n",
       "          [10, 65, 20,  5, 41, 40],\n",
       "          [94, 20, 12, 24, 60, 88]],\n",
       "\n",
       "         [[42, 78, 80, 38, 24, 49],\n",
       "          [80, 30, 12, 92, 46, 52],\n",
       "          [41,  2, 20, 17, 50, 91],\n",
       "          [79, 31, 55, 41, 61, 73],\n",
       "          [31, 58, 16, 48, 51, 66]],\n",
       "\n",
       "         [[64, 76, 47, 35, 90, 69],\n",
       "          [79, 42, 78, 37, 28, 74],\n",
       "          [11, 79, 47, 37, 77, 23],\n",
       "          [42, 22, 11, 80, 56, 59],\n",
       "          [ 6, 48, 58, 76, 55, 93]],\n",
       "\n",
       "         [[71, 43, 11, 85, 61, 87],\n",
       "          [56, 16, 46, 40, 50, 62],\n",
       "          [65, 97, 44,  5, 70, 88],\n",
       "          [66,  2, 97, 94, 56, 55],\n",
       "          [20, 83,  0, 90, 22, 53]]],\n",
       "\n",
       "\n",
       "        [[[71, 63,  4, 86, 69, 33],\n",
       "          [20, 55, 11, 59, 14,  4],\n",
       "          [91, 99, 19, 82, 27, 72],\n",
       "          [91, 22, 30, 28, 25, 48],\n",
       "          [64, 80, 62, 10, 87, 24]],\n",
       "\n",
       "         [[60, 85, 71, 49, 72, 13],\n",
       "          [75, 36, 32, 70, 88, 71],\n",
       "          [13, 63, 81, 37, 13,  5],\n",
       "          [44, 40,  7, 96, 64, 25],\n",
       "          [30, 34, 87, 12, 25, 70]],\n",
       "\n",
       "         [[86, 33, 37, 92, 16, 65],\n",
       "          [84,  9, 30, 95, 67, 67],\n",
       "          [68,  1, 77, 37, 43, 26],\n",
       "          [56, 78, 57, 16, 47, 47],\n",
       "          [72, 37, 31,  7, 13, 72]],\n",
       "\n",
       "         [[95, 70, 67, 73, 36, 22],\n",
       "          [ 8, 74, 57, 23, 66,  5],\n",
       "          [62, 31, 55, 28, 56, 35],\n",
       "          [59, 70, 70, 64, 72, 79],\n",
       "          [49, 62, 15, 27, 70, 79]]]]])"
      ]
     },
     "execution_count": 68,
     "metadata": {},
     "output_type": "execute_result"
    }
   ],
   "source": [
    "mmd"
   ]
  },
  {
   "cell_type": "markdown",
   "metadata": {},
   "source": [
    "Transpose of matrix $X$ denoted by $X^T$ defined by elements $(X^{T})_{i, j} = X_{j, i}$ or $X \\in \\mathbb{R}^{n \\times m}$ then $T^{T} \\in \\mathbb{R}^{m \\times n}$\n",
    "<br>\n",
    "e.g.\n",
    "<br>\n",
    "$\\begin{align}\n",
    "    X &= \\begin{pmatrix}\n",
    "        x_{11} & x_{12} & \\dots x_{1m} \\\\\n",
    "        x_{21} & x_{22} & \\dots x_{2m} \\\\\n",
    "        \\vdots & \\vdots & \\vdots \\\\\n",
    "        x_{n1} & x_{n2} & \\dots x_{nm} \\\\\n",
    "    \\end{pmatrix}\n",
    "\\end{align}$ then $\\begin{align}\n",
    "    X^{T} &= \\begin{pmatrix}\n",
    "        x_{11} & x_{21} & \\dots x_{m1} \\\\\n",
    "        x_{12} & x_{22} & \\dots x_{m2} \\\\\n",
    "        \\vdots & \\vdots & \\vdots \\\\\n",
    "        x_{1n} & x_{2n} & \\dots x_{mn} \\\\\n",
    "    \\end{pmatrix}\n",
    "\\end{align}$"
   ]
  },
  {
   "cell_type": "markdown",
   "metadata": {},
   "source": [
    "Transpose can be thought as mirror along with the main diagonal"
   ]
  },
  {
   "cell_type": "markdown",
   "metadata": {},
   "source": [
    "Visualisation of transpose matrix $X \\in \\mathbb{R}^{4 \\times 4}$"
   ]
  },
  {
   "cell_type": "markdown",
   "metadata": {},
   "source": [
    "![SegmentLocal](images/la1/transpose1.gif \"segment\")"
   ]
  },
  {
   "cell_type": "markdown",
   "metadata": {},
   "source": [
    "Transpose matrix $X \\in \\mathbb{R}^{2 \\times 3}$"
   ]
  },
  {
   "cell_type": "markdown",
   "metadata": {},
   "source": [
    "![SegmentLocal](images/la1/transpose2.gif \"segment\")"
   ]
  },
  {
   "cell_type": "markdown",
   "metadata": {},
   "source": [
    "We can consider scalar as one dimensional vector and vector as $v = (v_1, v_2, \\dots, v_n)$ as matrix with $1 \\times n$ dimensions and \n",
    "$\\begin{align}\n",
    "    u &= \\begin{bmatrix}\n",
    "           u_{1} \\\\\n",
    "           u_{2} \\\\\n",
    "           \\vdots \\\\\n",
    "           u_{m}\n",
    "         \\end{bmatrix}\n",
    " \\end{align}$ as matrix with $m \\times 1$ dimensions\n",
    "<br>\n",
    "then \n",
    "$\\begin{align}\n",
    "    v^{T} &= \\begin{bmatrix}\n",
    "           v_{1} \\\\\n",
    "           v_{2} \\\\\n",
    "           \\vdots \\\\\n",
    "           v_{n}\n",
    "         \\end{bmatrix}\n",
    " \\end{align}$ and $u^{T} = (u_1, u_2, \\dots, u_m)$"
   ]
  },
  {
   "cell_type": "code",
   "execution_count": 69,
   "metadata": {},
   "outputs": [
    {
     "name": "stdout",
     "output_type": "stream",
     "text": [
      "[[12  2  3]\n",
      " [ 4  5  6]\n",
      " [ 7  8  9]]\n"
     ]
    }
   ],
   "source": [
    "print(nm)"
   ]
  },
  {
   "cell_type": "code",
   "execution_count": 70,
   "metadata": {},
   "outputs": [
    {
     "name": "stdout",
     "output_type": "stream",
     "text": [
      "[[12  4  7]\n",
      " [ 2  5  8]\n",
      " [ 3  6  9]]\n"
     ]
    }
   ],
   "source": [
    "print(nm.T)"
   ]
  },
  {
   "cell_type": "markdown",
   "metadata": {},
   "source": [
    "For scalar $a \\in \\mathbb{R}$ we have $a^{T} = a$"
   ]
  },
  {
   "cell_type": "markdown",
   "metadata": {},
   "source": [
    "# Operations on Matrices"
   ]
  },
  {
   "cell_type": "markdown",
   "metadata": {},
   "source": [
    "We can add two $A, B \\in \\mathbb{R}^{n \\times m}$ matrices $C = A + B$ as \n",
    "$\\begin{align}\n",
    "    C &= \\begin{pmatrix}\n",
    "        {a_{11} + b_{11}} & {a_{12} + b_{12}} & \\dots {a_{1m} + b_{1m}} \\\\\n",
    "        {a_{21} + b_{21}} & {a_{22} + b_{22}} & \\dots {a_{2m} + b_{2m}} \\\\\n",
    "        \\vdots & \\vdots & \\vdots \\\\\n",
    "        {a_{n1} + b_{n1}} & {a_{n2} + b_{n2}} & \\dots {a_{nm} + b_{nm}} \\\\\n",
    "    \\end{pmatrix}\n",
    "\\end{align}$ or we could write $c_{i, j} = a_{i, j} + b_{i, j}$"
   ]
  },
  {
   "cell_type": "code",
   "execution_count": 71,
   "metadata": {},
   "outputs": [
    {
     "name": "stdout",
     "output_type": "stream",
     "text": [
      "[[ 2  4  6]\n",
      " [12 14 16]\n",
      " [22 24 26]]\n",
      "[[ 1  3  4]\n",
      " [11 13 14]\n",
      " [42 44 44]]\n",
      "[[ 3  7 10]\n",
      " [23 27 30]\n",
      " [64 68 70]]\n"
     ]
    }
   ],
   "source": [
    "m1 = np.array([[2, 4, 6], [12, 14, 16], [22, 24, 26]])\n",
    "m2 = np.array([[1, 3, 4], [11, 13, 14], [42, 44, 44]])\n",
    "print(m1)\n",
    "print(m2)\n",
    "print(m1 + m2)"
   ]
  },
  {
   "cell_type": "markdown",
   "metadata": {},
   "source": [
    "Add scalar $a \\in \\mathbb{R}$ and matrix $X \\in \\mathbb{R}^{n \\times m}$ as \n",
    "$\\begin{align}\n",
    "    X + a &= \\begin{pmatrix}\n",
    "        {x_{11} + a} & {x_{12} + a} & \\dots {x_{1m} + a} \\\\\n",
    "        {x_{21} + a} & {x_{22} + a} & \\dots {x_{2m} + a} \\\\\n",
    "        \\vdots & \\vdots & \\vdots \\\\\n",
    "        {x_{n1} + a} & {x_{n2} + a} & \\dots {x_{nm} + a} \\\\\n",
    "    \\end{pmatrix}\n",
    "\\end{align}$ or we could write ${(X + a)}_{i, j} = x_{i, j} + a$\n",
    "<br>\n",
    "In the same way we can define ${(a + X)}_{i, j} = a + x_{i, j}$\n",
    "<br>\n",
    "Multiplication of scalar and matrix\n",
    "$\\begin{align}\n",
    "    Xa &= \\begin{pmatrix}\n",
    "        {x_{11}a} & {x_{12}a} & \\dots {x_{1m}a} \\\\\n",
    "        {x_{21}a} & {x_{22}a} & \\dots {x_{2m}a} \\\\\n",
    "        \\vdots & \\vdots & \\vdots \\\\\n",
    "        {x_{n1}a} & {x_{n2}a} & \\dots {x_{nm}a} \\\\\n",
    "    \\end{pmatrix}\n",
    "\\end{align}$ or we could write ${(X + a)}_{i, j} = x_{i, j} + a$\n",
    "<br>\n",
    "In the same way we can define ${(aX)}_{i, j} = ax_{i, j}$\n",
    "<br>\n",
    "so we have $C = aX + b$ for $a \\in \\mathbb{R}$ and matrix $X \\in \\mathbb{R}^{n \\times m}$\n"
   ]
  },
  {
   "cell_type": "markdown",
   "metadata": {},
   "source": [
    "Prove that $a + X = X + a$ and $aX = Xa$ for every scalar $a \\in \\mathbb{R}$ and matrix $X \\in \\mathbb{R}^{n \\times m}$"
   ]
  },
  {
   "cell_type": "code",
   "execution_count": 72,
   "metadata": {},
   "outputs": [
    {
     "data": {
      "text/plain": [
       "(array([[ 2,  4,  6],\n",
       "        [12, 14, 16],\n",
       "        [22, 24, 26]]), array([[ 12,  22,  32],\n",
       "        [ 62,  72,  82],\n",
       "        [112, 122, 132]]))"
      ]
     },
     "execution_count": 72,
     "metadata": {},
     "output_type": "execute_result"
    }
   ],
   "source": [
    "m1, m1*5 + 2"
   ]
  },
  {
   "cell_type": "markdown",
   "metadata": {},
   "source": [
    "Add matrix and vector $A + b$ where $A \\in \\mathbb{R}^{n \\times m}$ $b \\in \\mathbb{R}^{1 \\times m}$ can be done by broadcasting\n",
    "<br>\n",
    "$C_{i, j} = A_{i, j} + b_{j}$"
   ]
  },
  {
   "cell_type": "code",
   "execution_count": 73,
   "metadata": {},
   "outputs": [],
   "source": [
    "v1 = np.array([[2], [4], [6]])\n"
   ]
  },
  {
   "cell_type": "code",
   "execution_count": 74,
   "metadata": {},
   "outputs": [
    {
     "name": "stdout",
     "output_type": "stream",
     "text": [
      "[[ 2  4  6]\n",
      " [12 14 16]\n",
      " [22 24 26]]\n",
      "[[2]\n",
      " [4]\n",
      " [6]]\n",
      "[[2 4 6]]\n",
      "[[ 4  6  8]\n",
      " [16 18 20]\n",
      " [28 30 32]]\n",
      "[[ 4  8 12]\n",
      " [14 18 22]\n",
      " [24 28 32]]\n"
     ]
    }
   ],
   "source": [
    "print(m1)\n",
    "print(v1)\n",
    "print(v1.T)\n",
    "print(m1 + v1)\n",
    "print(m1 + v1.T)"
   ]
  },
  {
   "cell_type": "markdown",
   "metadata": {},
   "source": [
    "For matrix $A \\in \\mathbb{R}^{n \\times m}$ and $B \\in \\mathbb{R}^{m \\times l}$ let's define $C = AB$ as $C_{i, j} = \\sum_{k = 1}^{n}{A_{i, k}B_{k, j}}$ it is clear that $C \\in \\mathbb{R}^{n \\times l}$"
   ]
  },
  {
   "cell_type": "markdown",
   "metadata": {},
   "source": [
    "Lets visualize"
   ]
  },
  {
   "cell_type": "markdown",
   "metadata": {},
   "source": [
    "![SegmentLocal](images/la1/mult1.gif \"segment\")"
   ]
  },
  {
   "cell_type": "code",
   "execution_count": 75,
   "metadata": {},
   "outputs": [],
   "source": [
    "m1 = np.array([[1, 2, 1], [0, 1, 0], [2, 3, 4]])\n",
    "m2 = np.array([[2, 5], [6, 7], [1, 8]])"
   ]
  },
  {
   "cell_type": "code",
   "execution_count": 76,
   "metadata": {},
   "outputs": [
    {
     "name": "stdout",
     "output_type": "stream",
     "text": [
      "[[1 2 1]\n",
      " [0 1 0]\n",
      " [2 3 4]]\n",
      "[[2 5]\n",
      " [6 7]\n",
      " [1 8]]\n"
     ]
    }
   ],
   "source": [
    "print(m1)\n",
    "print(m2)"
   ]
  },
  {
   "cell_type": "code",
   "execution_count": 77,
   "metadata": {},
   "outputs": [],
   "source": [
    "# m3 = np.dot(m1, m2)\n",
    "m3 = m1 @ m2"
   ]
  },
  {
   "cell_type": "code",
   "execution_count": 78,
   "metadata": {},
   "outputs": [
    {
     "name": "stdout",
     "output_type": "stream",
     "text": [
      "[[15 27]\n",
      " [ 6  7]\n",
      " [26 63]]\n"
     ]
    }
   ],
   "source": [
    "print(m3)"
   ]
  },
  {
   "cell_type": "markdown",
   "metadata": {},
   "source": [
    "Or slower version"
   ]
  },
  {
   "cell_type": "markdown",
   "metadata": {},
   "source": [
    "![SegmentLocal](images/la1/mult2.gif \"segment\")"
   ]
  },
  {
   "cell_type": "code",
   "execution_count": 79,
   "metadata": {},
   "outputs": [],
   "source": [
    "n1 = np.array([[8, 1, 2], [-5, 6, 7]])\n",
    "n2 = np.array([[-5, 1], [0, 2], [-11, 7]])"
   ]
  },
  {
   "cell_type": "code",
   "execution_count": 80,
   "metadata": {},
   "outputs": [
    {
     "name": "stdout",
     "output_type": "stream",
     "text": [
      "[[ 8  1  2]\n",
      " [-5  6  7]]\n",
      "[[ -5   1]\n",
      " [  0   2]\n",
      " [-11   7]]\n"
     ]
    }
   ],
   "source": [
    "print(n1)\n",
    "print(n2)"
   ]
  },
  {
   "cell_type": "code",
   "execution_count": 81,
   "metadata": {},
   "outputs": [],
   "source": [
    "#n3 = np.dot(n1, n2)\n",
    "n3 = n1 @ n2"
   ]
  },
  {
   "cell_type": "code",
   "execution_count": 82,
   "metadata": {},
   "outputs": [
    {
     "name": "stdout",
     "output_type": "stream",
     "text": [
      "[[-62  24]\n",
      " [-52  56]]\n"
     ]
    }
   ],
   "source": [
    "print(n3) #, n3"
   ]
  },
  {
   "cell_type": "markdown",
   "metadata": {},
   "source": [
    "Hadamard product of $A \\in \\mathbb{R^{n \\times m}}$ and $B \\in \\mathbb{R^{n \\times m}}$ define $C = A \\odot B$ if $C_{i, j} = A_{i, j}B_{i, j}$ (elementwise product)"
   ]
  },
  {
   "cell_type": "code",
   "execution_count": 83,
   "metadata": {},
   "outputs": [],
   "source": [
    "a1 = np.random.random(size=(2, 3))\n",
    "a2 = np.random.random(size=(2, 3))"
   ]
  },
  {
   "cell_type": "code",
   "execution_count": 84,
   "metadata": {},
   "outputs": [
    {
     "name": "stdout",
     "output_type": "stream",
     "text": [
      "[[0.85282364 0.00128722 0.15696818]\n",
      " [0.44008132 0.57543913 0.80597548]]\n",
      "[[0.69587181 0.32503995 0.32756616]\n",
      " [0.0816254  0.16324887 0.85778661]]\n",
      "[[5.93455926e-01 4.18398589e-04 5.14174648e-02]\n",
      " [3.59218138e-02 9.39397901e-02 6.91354981e-01]]\n"
     ]
    }
   ],
   "source": [
    "print(a1)\n",
    "\n",
    "print(a2)\n",
    "\n",
    "print(a1 * a2)"
   ]
  },
  {
   "cell_type": "code",
   "execution_count": 85,
   "metadata": {},
   "outputs": [],
   "source": [
    "a1 = np.array([[1, 2], [4, 8], [3., 4.]])\n",
    "a2 = np.array([[2, 4.], [4., 4], [3., 2.]])"
   ]
  },
  {
   "cell_type": "code",
   "execution_count": 86,
   "metadata": {},
   "outputs": [
    {
     "data": {
      "text/plain": [
       "array([[1., 2.],\n",
       "       [4., 8.],\n",
       "       [3., 4.]])"
      ]
     },
     "execution_count": 86,
     "metadata": {},
     "output_type": "execute_result"
    }
   ],
   "source": [
    "a1"
   ]
  },
  {
   "cell_type": "code",
   "execution_count": 87,
   "metadata": {},
   "outputs": [
    {
     "data": {
      "text/plain": [
       "array([[2., 4.],\n",
       "       [4., 4.],\n",
       "       [3., 2.]])"
      ]
     },
     "execution_count": 87,
     "metadata": {},
     "output_type": "execute_result"
    }
   ],
   "source": [
    "a2"
   ]
  },
  {
   "cell_type": "code",
   "execution_count": 88,
   "metadata": {},
   "outputs": [
    {
     "data": {
      "text/plain": [
       "array([[ 2.,  8.],\n",
       "       [16., 32.],\n",
       "       [ 9.,  8.]])"
      ]
     },
     "execution_count": 88,
     "metadata": {},
     "output_type": "execute_result"
    }
   ],
   "source": [
    "a1 * a2"
   ]
  },
  {
   "cell_type": "code",
   "execution_count": 89,
   "metadata": {},
   "outputs": [
    {
     "data": {
      "text/plain": [
       "75.0"
      ]
     },
     "execution_count": 89,
     "metadata": {},
     "output_type": "execute_result"
    }
   ],
   "source": [
    "np.sum(a1 * a2)"
   ]
  },
  {
   "cell_type": "code",
   "execution_count": 90,
   "metadata": {},
   "outputs": [
    {
     "data": {
      "text/plain": [
       "array([[ 2.,  8.],\n",
       "       [16., 32.],\n",
       "       [ 9.,  8.]])"
      ]
     },
     "execution_count": 90,
     "metadata": {},
     "output_type": "execute_result"
    }
   ],
   "source": [
    "np.multiply(a1, a2)"
   ]
  },
  {
   "cell_type": "code",
   "execution_count": 91,
   "metadata": {},
   "outputs": [
    {
     "data": {
      "text/plain": [
       "75.0"
      ]
     },
     "execution_count": 91,
     "metadata": {},
     "output_type": "execute_result"
    }
   ],
   "source": [
    "np.sum(np.multiply(a1, a2))"
   ]
  },
  {
   "cell_type": "code",
   "execution_count": 92,
   "metadata": {},
   "outputs": [],
   "source": [
    "a1 = np.arange(3*2).reshape((3, 2))\n",
    "a1 = np.arange(3*2).reshape((2, 3))"
   ]
  },
  {
   "cell_type": "code",
   "execution_count": 93,
   "metadata": {},
   "outputs": [
    {
     "data": {
      "text/plain": [
       "array([[0, 1, 2],\n",
       "       [3, 4, 5]])"
      ]
     },
     "execution_count": 93,
     "metadata": {},
     "output_type": "execute_result"
    }
   ],
   "source": [
    "a1"
   ]
  },
  {
   "cell_type": "code",
   "execution_count": 94,
   "metadata": {},
   "outputs": [
    {
     "data": {
      "text/plain": [
       "array([[2., 4.],\n",
       "       [4., 4.],\n",
       "       [3., 2.]])"
      ]
     },
     "execution_count": 94,
     "metadata": {},
     "output_type": "execute_result"
    }
   ],
   "source": [
    "a2"
   ]
  },
  {
   "cell_type": "code",
   "execution_count": 95,
   "metadata": {},
   "outputs": [
    {
     "data": {
      "text/plain": [
       "array([[10.,  8.],\n",
       "       [37., 38.]])"
      ]
     },
     "execution_count": 95,
     "metadata": {},
     "output_type": "execute_result"
    }
   ],
   "source": [
    "a1 @ a2"
   ]
  },
  {
   "cell_type": "markdown",
   "metadata": {},
   "source": [
    "Dot product of vectors $v, u \\in \\mathbb{R}^{n} \\equiv \\mathbb{R}^{1 \\times n}$ define as $v^{T}u$"
   ]
  },
  {
   "cell_type": "markdown",
   "metadata": {},
   "source": [
    "Prove that $uv^{T} = vu^{T}$ for each $v, u \\in \\mathbb{R}^{n}$"
   ]
  },
  {
   "cell_type": "markdown",
   "metadata": {},
   "source": [
    "For each pair of matrices $A, B \\in \\mathbb{R}^{n \\times m}$ holds:\n",
    "- $A + B = B + A$\n",
    "- $(A + B) + C = B + (A + C)$\n",
    "- $A(B + C) = AB + AC$\n",
    "- $A(BC) = (AB)C$"
   ]
  },
  {
   "cell_type": "markdown",
   "metadata": {},
   "source": [
    "Prove that $(AB)^{T} = B^{T}A^{T}$ for each pair of matrices $A, B \\in \\mathbb{R}^{n \\times m}$"
   ]
  },
  {
   "cell_type": "markdown",
   "metadata": {},
   "source": [
    "For instance $Ax=b$"
   ]
  },
  {
   "cell_type": "markdown",
   "metadata": {},
   "source": [
    "Vectorization vs loops"
   ]
  },
  {
   "cell_type": "code",
   "execution_count": 96,
   "metadata": {},
   "outputs": [
    {
     "data": {
      "text/plain": [
       "(array([[ 0.03450969,  0.23916517, -0.71159207,  0.32086738],\n",
       "        [ 0.65928182,  0.64524164,  1.45029461,  0.8055425 ],\n",
       "        [-0.20448095, -0.7320915 ,  0.34760406, -0.53387767]]),\n",
       " array([[ 9.63407599e-01,  2.65902094e-02, -2.28630747e-03,\n",
       "         -3.58318527e-01, -4.85167713e-01, -1.34723162e+00],\n",
       "        [-9.63858332e-01,  3.61605333e-02, -8.43866256e-01,\n",
       "         -2.72799591e+00,  2.45445876e-01, -3.16371161e-01],\n",
       "        [ 1.51239361e+00,  9.33525603e-01, -1.02622050e+00,\n",
       "          8.52764188e-01,  7.13601413e-01, -1.76015611e+00],\n",
       "        [-8.72121665e-01,  1.10824748e+00,  2.28725862e-01,\n",
       "         -1.20129646e+00, -1.78752457e+00, -3.84318150e-02]]))"
      ]
     },
     "execution_count": 96,
     "metadata": {},
     "output_type": "execute_result"
    }
   ],
   "source": [
    "l1 = np.random.randn(3, 4)\n",
    "l2 = np.random.randn(4, 6)\n",
    "l1, l2"
   ]
  },
  {
   "cell_type": "code",
   "execution_count": 97,
   "metadata": {},
   "outputs": [],
   "source": [
    "def dot_prod(mx1, mx2, verbose = False):\n",
    "    mx3 = np.zeros((mx1.shape[0], mx2.shape[1]))\n",
    "    if verbose: print(f'mx3.shape = {mx3.shape}')\n",
    "    for i in range(mx1.shape[0]):\n",
    "        if verbose: print(f'i = {i}')\n",
    "        for k in range(mx2.shape[1]):\n",
    "            if verbose: print(f'\\tk = {k}')\n",
    "            for j in range(mx1.shape[1]):\n",
    "                if verbose: print(f'\\t\\tj = {j}')\n",
    "                mx3[i, k] += mx1[i, j] * mx2[j, k]\n",
    "    \n",
    "    return mx3\n",
    "            "
   ]
  },
  {
   "cell_type": "code",
   "execution_count": 98,
   "metadata": {
    "scrolled": true
   },
   "outputs": [
    {
     "name": "stdout",
     "output_type": "stream",
     "text": [
      "Wall time: 0 ns\n"
     ]
    }
   ],
   "source": [
    "%time l3_loop = dot_prod(l1, l2)"
   ]
  },
  {
   "cell_type": "code",
   "execution_count": 99,
   "metadata": {},
   "outputs": [
    {
     "data": {
      "text/plain": [
       "array([[-1.55331714, -0.29912299,  0.60173872, -1.65708415, -1.03939231,\n",
       "         1.11802411],\n",
       "       [ 1.50412082,  2.28749032, -1.85007863, -1.7273855 , -0.56648508,\n",
       "        -3.67604454],\n",
       "       [ 1.49995443, -0.29908131,  0.13942478,  3.00818158,  1.12188891,\n",
       "        -0.08422367]])"
      ]
     },
     "execution_count": 99,
     "metadata": {},
     "output_type": "execute_result"
    }
   ],
   "source": [
    "l3_loop"
   ]
  },
  {
   "cell_type": "code",
   "execution_count": 100,
   "metadata": {},
   "outputs": [
    {
     "name": "stdout",
     "output_type": "stream",
     "text": [
      "Wall time: 0 ns\n"
     ]
    },
    {
     "data": {
      "text/plain": [
       "array([[-1.55331714, -0.29912299,  0.60173872, -1.65708415, -1.03939231,\n",
       "         1.11802411],\n",
       "       [ 1.50412082,  2.28749032, -1.85007863, -1.7273855 , -0.56648508,\n",
       "        -3.67604454],\n",
       "       [ 1.49995443, -0.29908131,  0.13942478,  3.00818158,  1.12188891,\n",
       "        -0.08422367]])"
      ]
     },
     "execution_count": 100,
     "metadata": {},
     "output_type": "execute_result"
    }
   ],
   "source": [
    "%time l1 @ l2"
   ]
  },
  {
   "cell_type": "code",
   "execution_count": 101,
   "metadata": {
    "scrolled": true
   },
   "outputs": [
    {
     "data": {
      "text/plain": [
       "(array([[-0.11820843, -0.22867167, -0.19368442, ...,  1.06493745,\n",
       "          0.88832106, -2.72941372],\n",
       "        [ 1.44439368, -0.16929574,  0.91074372, ..., -0.03725103,\n",
       "          1.48383758, -0.25857078],\n",
       "        [ 1.11556585, -2.27042498, -0.51321887, ..., -0.0946893 ,\n",
       "          0.44965552,  0.00599334],\n",
       "        ...,\n",
       "        [-1.09390846, -1.10795682, -1.46973703, ..., -0.03377093,\n",
       "          1.68976171, -0.62389608],\n",
       "        [-3.11202621,  1.07915332,  0.32189507, ..., -0.6229114 ,\n",
       "          0.21023782,  0.38431985],\n",
       "        [-1.74447313,  0.1149425 , -1.46434593, ...,  1.42121205,\n",
       "         -0.80980092, -0.55356546]]),\n",
       " array([[ 0.28911851,  0.86538285, -0.93641723, ..., -0.27478832,\n",
       "         -0.49636161,  1.76372756],\n",
       "        [ 1.32204968, -1.86245824, -0.60174931, ...,  1.20069388,\n",
       "         -0.75321402, -0.79570546],\n",
       "        [ 0.52360745,  0.82025498,  0.90979052, ..., -1.25254289,\n",
       "          0.2948199 , -0.35206216],\n",
       "        ...,\n",
       "        [ 0.92992799, -0.10490754, -0.44980544, ...,  0.91673557,\n",
       "         -1.19401141,  0.7644972 ],\n",
       "        [-0.38992209, -0.75875008,  0.1103282 , ...,  0.70157557,\n",
       "         -2.68765452,  0.84623578],\n",
       "        [ 0.01310727, -1.57890834,  1.22866904, ...,  0.65714068,\n",
       "         -0.34116796, -2.08310813]]))"
      ]
     },
     "execution_count": 101,
     "metadata": {},
     "output_type": "execute_result"
    }
   ],
   "source": [
    "b1 = np.random.randn(500, 10000)\n",
    "b2 = np.random.randn(10000, 800)\n",
    "b1, b2"
   ]
  },
  {
   "cell_type": "code",
   "execution_count": null,
   "metadata": {
    "scrolled": false
   },
   "outputs": [],
   "source": [
    "%time b3_loop = dot_prod(b1, b2)"
   ]
  },
  {
   "cell_type": "code",
   "execution_count": null,
   "metadata": {},
   "outputs": [],
   "source": [
    "def dot_prod_2(mx1, mx2, verbose = False):\n",
    "    mx3 = np.zeros((mx1.shape[0], mx2.shape[1]))\n",
    "    if verbose: print(f'mx3.shape = {mx3.shape}')\n",
    "    for i in range(mx1.shape[0]):\n",
    "        if verbose: print(f'i = {i}')\n",
    "        for k in range(mx2.shape[1]):\n",
    "            mx3[i, k] = mx1[i, :] @ mx2[:, k]\n",
    "            if verbose: \n",
    "                print(f'\\tk = {mx1[i:]}') \n",
    "                print(f'\\tk = {mx2[:, k]}')\n",
    "            \n",
    "            #mx3[i, k] = s\n",
    "    \n",
    "    return mx3"
   ]
  },
  {
   "cell_type": "code",
   "execution_count": null,
   "metadata": {
    "scrolled": true
   },
   "outputs": [],
   "source": [
    "%time l3_loop = dot_prod_2(l1, l2)"
   ]
  },
  {
   "cell_type": "code",
   "execution_count": null,
   "metadata": {},
   "outputs": [],
   "source": [
    "l3_loop"
   ]
  },
  {
   "cell_type": "code",
   "execution_count": null,
   "metadata": {
    "scrolled": true
   },
   "outputs": [],
   "source": [
    "%time b3_loop = dot_prod_2(b1, b2)"
   ]
  },
  {
   "cell_type": "markdown",
   "metadata": {},
   "source": [
    "Matrix vector multiplication"
   ]
  },
  {
   "cell_type": "code",
   "execution_count": null,
   "metadata": {},
   "outputs": [],
   "source": [
    "def dot_prod_3(mx1, mx2, verbose = False):\n",
    "    mx3 = np.zeros((mx1.shape[0], mx2.shape[1]))\n",
    "    if verbose: print(f'mx3.shape = {mx3.shape}')\n",
    "    for i in range(mx1.shape[0]):\n",
    "        if verbose: print(f'i = {i}')\n",
    "        mx3[i, :] = mx1[i, :] @ mx2\n",
    "        if verbose: \n",
    "            print(f'\\tk = {mx2[:, k]}')\n",
    "            \n",
    "            #mx3[i, k] = s\n",
    "    \n",
    "    return mx3"
   ]
  },
  {
   "cell_type": "code",
   "execution_count": null,
   "metadata": {},
   "outputs": [],
   "source": [
    "%time l3_loop = dot_prod_3(l1, l2)"
   ]
  },
  {
   "cell_type": "code",
   "execution_count": null,
   "metadata": {},
   "outputs": [],
   "source": [
    "l3_loop"
   ]
  },
  {
   "cell_type": "code",
   "execution_count": null,
   "metadata": {},
   "outputs": [],
   "source": [
    "%time b3_loop = dot_prod_3(b1, b2)"
   ]
  },
  {
   "cell_type": "markdown",
   "metadata": {},
   "source": [
    "## Vectorize version"
   ]
  },
  {
   "cell_type": "code",
   "execution_count": null,
   "metadata": {},
   "outputs": [],
   "source": [
    "%time l3_vec = l1 @ l2"
   ]
  },
  {
   "cell_type": "code",
   "execution_count": null,
   "metadata": {},
   "outputs": [],
   "source": [
    "l3_vec"
   ]
  },
  {
   "cell_type": "code",
   "execution_count": null,
   "metadata": {},
   "outputs": [],
   "source": [
    "%time b3_vec = b1 @ b2"
   ]
  },
  {
   "cell_type": "code",
   "execution_count": null,
   "metadata": {
    "scrolled": true
   },
   "outputs": [],
   "source": [
    "b3_vec"
   ]
  },
  {
   "cell_type": "code",
   "execution_count": null,
   "metadata": {},
   "outputs": [],
   "source": [
    "%time l3 = l1 @ l2"
   ]
  },
  {
   "cell_type": "code",
   "execution_count": null,
   "metadata": {},
   "outputs": [],
   "source": [
    "%time b3 = b1 @ b2"
   ]
  },
  {
   "cell_type": "code",
   "execution_count": null,
   "metadata": {},
   "outputs": [],
   "source": [
    "%time b3_vec = b1 @ b2"
   ]
  },
  {
   "cell_type": "markdown",
   "metadata": {},
   "source": [
    "## Functions on tensors"
   ]
  },
  {
   "cell_type": "markdown",
   "metadata": {},
   "source": [
    "We can define function $f:A \\to B$ where $A, B \\in \\mathbb{R}^{n1 \\times n2 \\dots \\times n_{k}}$ where function is defined elementwise $B_{i, j} = f(A_{i, j})$"
   ]
  },
  {
   "cell_type": "markdown",
   "metadata": {},
   "source": [
    "For instance function $f(x) = x + 5$ on matrix $A \\in \\mathbb{R}^{n \\times m}$ will give us $A + 5$"
   ]
  },
  {
   "cell_type": "code",
   "execution_count": null,
   "metadata": {},
   "outputs": [],
   "source": [
    "mt = np.array([[1, 2], [-1, -2], [0., 4.]])\n",
    "f = lambda x: x + 5\n",
    "print(mt) \n",
    "print(f(mt))\n",
    "print(mt + 5)"
   ]
  },
  {
   "cell_type": "code",
   "execution_count": null,
   "metadata": {},
   "outputs": [],
   "source": [
    "import math"
   ]
  },
  {
   "cell_type": "code",
   "execution_count": null,
   "metadata": {},
   "outputs": [],
   "source": [
    "f = lambda x: x**2"
   ]
  },
  {
   "cell_type": "code",
   "execution_count": null,
   "metadata": {},
   "outputs": [],
   "source": [
    "f(-1)"
   ]
  },
  {
   "cell_type": "code",
   "execution_count": null,
   "metadata": {},
   "outputs": [],
   "source": [
    "x = np.linspace(-5, 5, 1000)"
   ]
  },
  {
   "cell_type": "code",
   "execution_count": null,
   "metadata": {},
   "outputs": [],
   "source": [
    "x"
   ]
  },
  {
   "cell_type": "code",
   "execution_count": null,
   "metadata": {},
   "outputs": [],
   "source": [
    "fv = f #np.vectorize(f)"
   ]
  },
  {
   "cell_type": "code",
   "execution_count": null,
   "metadata": {},
   "outputs": [],
   "source": [
    "fx = fv(x)"
   ]
  },
  {
   "cell_type": "code",
   "execution_count": null,
   "metadata": {},
   "outputs": [],
   "source": [
    "x.shape, fx.shape"
   ]
  },
  {
   "cell_type": "code",
   "execution_count": null,
   "metadata": {},
   "outputs": [],
   "source": [
    "import matplotlib.pyplot as plt"
   ]
  },
  {
   "cell_type": "code",
   "execution_count": null,
   "metadata": {},
   "outputs": [],
   "source": [
    "plt.plot(x, fx)"
   ]
  },
  {
   "cell_type": "code",
   "execution_count": null,
   "metadata": {},
   "outputs": [],
   "source": [
    "sig = np.vectorize(lambda x: 1 / (1 + math.exp(-x)))"
   ]
  },
  {
   "cell_type": "code",
   "execution_count": null,
   "metadata": {},
   "outputs": [],
   "source": [
    "plt.plot(x, sig(x))"
   ]
  },
  {
   "cell_type": "code",
   "execution_count": null,
   "metadata": {},
   "outputs": [],
   "source": [
    "plt.plot(x, sig(x))\n",
    "plt.grid()"
   ]
  },
  {
   "cell_type": "markdown",
   "metadata": {},
   "source": [
    "## Images as tensors and matrices"
   ]
  },
  {
   "cell_type": "code",
   "execution_count": null,
   "metadata": {},
   "outputs": [],
   "source": [
    "import cv2"
   ]
  },
  {
   "cell_type": "code",
   "execution_count": null,
   "metadata": {},
   "outputs": [],
   "source": [
    "! pip install opencv-python"
   ]
  },
  {
   "cell_type": "code",
   "execution_count": null,
   "metadata": {},
   "outputs": [],
   "source": [
    "from pathlib import Path"
   ]
  },
  {
   "cell_type": "code",
   "execution_count": null,
   "metadata": {},
   "outputs": [],
   "source": [
    "path = Path('images')"
   ]
  },
  {
   "cell_type": "code",
   "execution_count": null,
   "metadata": {},
   "outputs": [],
   "source": [
    "ls = ! ls {path}\n",
    "la1 = path / ls[0]"
   ]
  },
  {
   "cell_type": "code",
   "execution_count": null,
   "metadata": {},
   "outputs": [],
   "source": [
    "ls"
   ]
  },
  {
   "cell_type": "code",
   "execution_count": null,
   "metadata": {},
   "outputs": [],
   "source": [
    "img_brg = cv2.imread(str(la1 / 'tbilisi1.jpg'), cv2.IMREAD_ANYCOLOR)"
   ]
  },
  {
   "cell_type": "code",
   "execution_count": null,
   "metadata": {},
   "outputs": [],
   "source": [
    "type(img_brg), img_brg.shape"
   ]
  },
  {
   "cell_type": "code",
   "execution_count": null,
   "metadata": {
    "scrolled": true
   },
   "outputs": [],
   "source": [
    "plt.figure(figsize=(50, 50))\n",
    "plt.imshow(img_brg, cmap=None)\n",
    "plt.show()"
   ]
  },
  {
   "cell_type": "code",
   "execution_count": null,
   "metadata": {},
   "outputs": [],
   "source": [
    "img = cv2.cvtColor(img_brg, cv2.COLOR_RGB2BGR)"
   ]
  },
  {
   "cell_type": "code",
   "execution_count": null,
   "metadata": {},
   "outputs": [],
   "source": [
    "import matplotlib.pyplot as plt"
   ]
  },
  {
   "cell_type": "code",
   "execution_count": null,
   "metadata": {},
   "outputs": [],
   "source": [
    "def show_img(im, figsize=(50, 50), cmap=None):\n",
    "    plt.figure(figsize=figsize)\n",
    "    plt.imshow(im, cmap=cmap)\n",
    "    plt.show()"
   ]
  },
  {
   "cell_type": "code",
   "execution_count": null,
   "metadata": {},
   "outputs": [],
   "source": [
    "show_img(img)"
   ]
  },
  {
   "cell_type": "code",
   "execution_count": null,
   "metadata": {},
   "outputs": [],
   "source": [
    "gray = cv2.cvtColor(img, cv2.COLOR_RGB2GRAY)"
   ]
  },
  {
   "cell_type": "code",
   "execution_count": null,
   "metadata": {
    "scrolled": true
   },
   "outputs": [],
   "source": [
    "show_img(gray, cmap='gray')"
   ]
  },
  {
   "cell_type": "code",
   "execution_count": null,
   "metadata": {},
   "outputs": [],
   "source": [
    "gray_t = gray.T"
   ]
  },
  {
   "cell_type": "code",
   "execution_count": null,
   "metadata": {
    "scrolled": true
   },
   "outputs": [],
   "source": [
    "gray_t.shape\n",
    "show_img(gray_t, cmap='gray')"
   ]
  },
  {
   "cell_type": "code",
   "execution_count": null,
   "metadata": {
    "scrolled": true
   },
   "outputs": [],
   "source": [
    "show_img(gray - 100, cmap='gray')"
   ]
  },
  {
   "cell_type": "markdown",
   "metadata": {},
   "source": [
    "## Example 1"
   ]
  },
  {
   "cell_type": "code",
   "execution_count": null,
   "metadata": {},
   "outputs": [],
   "source": [
    "X = np.random.rand(10)\n",
    "A = np.random.rand(10)\n",
    "b = np.random.rand(1)"
   ]
  },
  {
   "cell_type": "code",
   "execution_count": null,
   "metadata": {},
   "outputs": [],
   "source": [
    "A @ X + b"
   ]
  },
  {
   "cell_type": "code",
   "execution_count": null,
   "metadata": {},
   "outputs": [],
   "source": [
    "sig(A @ X + b)"
   ]
  },
  {
   "cell_type": "markdown",
   "metadata": {},
   "source": [
    "## Example 2"
   ]
  },
  {
   "cell_type": "code",
   "execution_count": null,
   "metadata": {},
   "outputs": [],
   "source": [
    "W = np.array([20, 20]) # Weights\n",
    "b = np.array([-30]) # bias"
   ]
  },
  {
   "cell_type": "code",
   "execution_count": null,
   "metadata": {},
   "outputs": [],
   "source": [
    "X = np.array([1, 0])"
   ]
  },
  {
   "cell_type": "code",
   "execution_count": null,
   "metadata": {},
   "outputs": [],
   "source": [
    "d = sig(W @ X + b)"
   ]
  },
  {
   "cell_type": "code",
   "execution_count": null,
   "metadata": {},
   "outputs": [],
   "source": [
    "np.around(d, decimals=1)"
   ]
  },
  {
   "cell_type": "code",
   "execution_count": null,
   "metadata": {},
   "outputs": [],
   "source": [
    "ff = lambda _X, _W, _b: sig(np.dot(_W.T, _X) + _b)"
   ]
  },
  {
   "cell_type": "code",
   "execution_count": null,
   "metadata": {},
   "outputs": [],
   "source": [
    "BA = [[0, 0], [0, 1], [1, 0], [1, 1]]"
   ]
  },
  {
   "cell_type": "code",
   "execution_count": null,
   "metadata": {},
   "outputs": [],
   "source": [
    "for ba in BA:\n",
    "    print(ba, np.around(ff(ba, W, b), decimals=1))"
   ]
  },
  {
   "cell_type": "markdown",
   "metadata": {},
   "source": [
    "Change bias"
   ]
  },
  {
   "cell_type": "code",
   "execution_count": null,
   "metadata": {},
   "outputs": [],
   "source": [
    "b = np.array([-10])"
   ]
  },
  {
   "cell_type": "code",
   "execution_count": null,
   "metadata": {},
   "outputs": [],
   "source": [
    "for ba in BA:\n",
    "    print(ba, np.around(ff(ba, W, b), decimals=1))"
   ]
  },
  {
   "cell_type": "markdown",
   "metadata": {},
   "source": [
    "Write combination for $XOR$ calculation"
   ]
  },
  {
   "cell_type": "code",
   "execution_count": null,
   "metadata": {},
   "outputs": [],
   "source": []
  }
 ],
 "metadata": {
  "kernelspec": {
   "display_name": "Python 3",
   "language": "python",
   "name": "python3"
  },
  "language_info": {
   "codemirror_mode": {
    "name": "ipython",
    "version": 3
   },
   "file_extension": ".py",
   "mimetype": "text/x-python",
   "name": "python",
   "nbconvert_exporter": "python",
   "pygments_lexer": "ipython3",
   "version": "3.7.3"
  }
 },
 "nbformat": 4,
 "nbformat_minor": 2
}
