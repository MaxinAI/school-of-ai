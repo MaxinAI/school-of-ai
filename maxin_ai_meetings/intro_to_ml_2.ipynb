{
 "cells": [
  {
   "cell_type": "code",
   "execution_count": 158,
   "id": "parallel-example",
   "metadata": {
    "slideshow": {
     "slide_type": "slide"
    }
   },
   "outputs": [],
   "source": [
    "%load_ext autoreload\n",
    "%autoreload 2\n",
    "\n",
    "%matplotlib inline"
   ]
  },
  {
   "cell_type": "markdown",
   "id": "hungry-classic",
   "metadata": {
    "slideshow": {
     "slide_type": "slide"
    }
   },
   "source": [
    "## Machine Learning (introduction)"
   ]
  },
  {
   "cell_type": "markdown",
   "id": "seventh-adolescent",
   "metadata": {
    "slideshow": {
     "slide_type": "slide"
    }
   },
   "source": [
    "- AI and Machine learning\n",
    "- Features and Labels\n",
    "- Error estimation (loss and cost)\n",
    "- Generalization (population and sample)\n",
    "- Approaches: supervised learning, unsupervised learning, self-supervised leatrning, dimensionality reduction, reinforecement learning\n",
    "- Representation learning and deep models\n",
    "- Learning types: regression, classification, clustering, etc. "
   ]
  },
  {
   "cell_type": "markdown",
   "id": "golden-logic",
   "metadata": {
    "slideshow": {
     "slide_type": "slide"
    }
   },
   "source": [
    "## Never ever forget !!!"
   ]
  },
  {
   "cell_type": "markdown",
   "id": "signal-basin",
   "metadata": {
    "slideshow": {
     "slide_type": "slide"
    }
   },
   "source": [
    "- Parametrized models\n",
    "<br>\n",
    "Machine learning models (more than 90%) are parametrized functions\n",
    "$$\n",
    "f: X \\to Y\n",
    "$$\n",
    "with parameters $\\mathcal{W} = (W^1, W^2, \\dots, W^L)$ and $\\mathcal{b} = (b^1, b^2, \\dots, b^L)$\n",
    "<br>\n",
    "We can consider this models as:\n",
    "$$\n",
    "f: \\mathcal{W} \\times \\mathcal{b} \\times X \\to Y\n",
    "$$\n",
    "<br>\n",
    "- Data sample (training / validation / test set) from population:\n",
    "Then we have sample of our data \n",
    "$$\n",
    "X = (X^1, X^2, \\dots, X^m)\n",
    "$$ \n",
    "from entire population along with labels $Y = (y^1, y^2, \\dots, y^m)$ and we train on this data\n",
    "- Training process:\n",
    "Define loss function:\n",
    "$$\n",
    "L(f(x), y)\n",
    "$$\n",
    "where $y$ adre labels\n",
    "<br>\n",
    "We fix our data sample as constants $X = (X^1, X^2, \\dots, X^m)$, define cost function as aggregation of loss functions over our data sample:\n",
    "$$\n",
    "C : \\mathcal{W} \\to \\mathbb{R}^1\n",
    "$$\n",
    "such that:\n",
    "$$\n",
    "C(W, b) = \\text{aggr}_{i=1}^m(L(f(X^i, W, b,  y)))\n",
    "$$\n",
    "For instance aggregate with mean:\n",
    "$$\n",
    "C(W, b) = \\frac{1}{m}\\sum_{i=1}^m(L(f(X^i, W, b, y)))\n",
    "$$\n",
    "<br>\n",
    "- Training:\n",
    "$$\n",
    "\\min_{W \\in \\mathcal{W}, b\\in \\mathcal{b}}C(W, b)\n",
    "$$\n",
    "Make the cost $C$ as small as possible for $W$ and $b$, or find $W$ and $b$ for which $C$ is as small as possible\n",
    "\n"
   ]
  },
  {
   "cell_type": "markdown",
   "id": "drawn-button",
   "metadata": {
    "slideshow": {
     "slide_type": "slide"
    }
   },
   "source": [
    "## Example - linear model"
   ]
  },
  {
   "cell_type": "markdown",
   "id": "viral-river",
   "metadata": {
    "slideshow": {
     "slide_type": "slide"
    }
   },
   "source": [
    "Consider linear function $f:\\mathbb{R}^1 \\to \\mathbb{R}^1$:\n",
    "$$\n",
    "f(x) = W \\cdot x + b\n",
    "$$\n",
    "lets consider we have data:\n",
    "$$\n",
    "X = (5, 15, 25, 35, 45, 55)\n",
    "$$\n",
    "and\n",
    "$$\n",
    "y = (5, 20, 14, 32, 22, 38)\n",
    "$$\n",
    "<br>\n",
    "We can create a loss function:\n",
    "$$\n",
    "L(W, b, x, y) = ||f(W, x) - y||^2 \n",
    "$$\n",
    "and cost:\n",
    "$$\n",
    "C(W, b) = \\frac{1}{m}\\sum_{i=1}^{m}||f(W, x^i) - y^i||^2 = \\frac{1}{m}\\sum_{i=1}^{m}|f(W, x^i) - y^i|\n",
    "$$\n",
    "or\n",
    "$$\n",
    "C(W, b) = \\frac{1}{m}\\sum_{i=1}^{m}||f(W, b, x^i) - y^i||^2 = \\frac{1}{m}\\sum_{i=1}^{m}|f(W, b, x^i) - y^i|\n",
    "$$"
   ]
  },
  {
   "cell_type": "code",
   "execution_count": 159,
   "id": "certified-listening",
   "metadata": {
    "slideshow": {
     "slide_type": "slide"
    }
   },
   "outputs": [
    {
     "name": "stdout",
     "output_type": "stream",
     "text": [
      "Requirement already satisfied: numpy in /Users/levan/anaconda3/envs/edu/lib/python3.9/site-packages (1.20.3)\n",
      "Requirement already satisfied: matplotlib in /Users/levan/anaconda3/envs/edu/lib/python3.9/site-packages (3.4.2)\n",
      "Requirement already satisfied: pyparsing>=2.2.1 in /Users/levan/anaconda3/envs/edu/lib/python3.9/site-packages (from matplotlib) (2.4.7)\n",
      "Requirement already satisfied: pillow>=6.2.0 in /Users/levan/anaconda3/envs/edu/lib/python3.9/site-packages (from matplotlib) (8.1.2)\n",
      "Requirement already satisfied: numpy>=1.16 in /Users/levan/anaconda3/envs/edu/lib/python3.9/site-packages (from matplotlib) (1.20.3)\n",
      "Requirement already satisfied: python-dateutil>=2.7 in /Users/levan/anaconda3/envs/edu/lib/python3.9/site-packages (from matplotlib) (2.8.1)\n",
      "Requirement already satisfied: cycler>=0.10 in /Users/levan/anaconda3/envs/edu/lib/python3.9/site-packages (from matplotlib) (0.10.0)\n",
      "Requirement already satisfied: kiwisolver>=1.0.1 in /Users/levan/anaconda3/envs/edu/lib/python3.9/site-packages (from matplotlib) (1.3.1)\n",
      "Requirement already satisfied: six in /Users/levan/anaconda3/envs/edu/lib/python3.9/site-packages (from cycler>=0.10->matplotlib) (1.15.0)\n"
     ]
    }
   ],
   "source": [
    "! pip install -U numpy\n",
    "! pip install -U matplotlib"
   ]
  },
  {
   "cell_type": "code",
   "execution_count": 160,
   "id": "handmade-university",
   "metadata": {
    "slideshow": {
     "slide_type": "slide"
    }
   },
   "outputs": [],
   "source": [
    "import numpy as np\n",
    "import matplotlib.pyplot as plt"
   ]
  },
  {
   "cell_type": "code",
   "execution_count": 162,
   "id": "treated-poster",
   "metadata": {
    "slideshow": {
     "slide_type": "slide"
    }
   },
   "outputs": [],
   "source": [
    "X = np.array([5, 15, 25, 35, 45, 55], dtype=float)\n",
    "y = np.array([5, 20, 14, 32, 22, 38], dtype=float)"
   ]
  },
  {
   "cell_type": "code",
   "execution_count": 163,
   "id": "verified-stations",
   "metadata": {
    "slideshow": {
     "slide_type": "slide"
    }
   },
   "outputs": [],
   "source": [
    "def plot_data(y_pr=None):\n",
    "    plt.subplots(figsize=(15, 5))\n",
    "    if y_pr is not None:\n",
    "        plt.plot(y_preds)\n",
    "    plt.plot(y, 'bo')\n",
    "    plt.xlabel('X')\n",
    "    plt.ylabel('y')\n",
    "    plt.show()\n",
    "    plt.close()"
   ]
  },
  {
   "cell_type": "code",
   "execution_count": 164,
   "id": "conditional-rating",
   "metadata": {
    "slideshow": {
     "slide_type": "slide"
    }
   },
   "outputs": [
    {
     "data": {
      "image/png": "[encoded data removed]",
      "text/plain": [
       "<Figure size 1080x360 with 1 Axes>"
      ]
     },
     "metadata": {
      "needs_background": "light"
     },
     "output_type": "display_data"
    }
   ],
   "source": [
    "plot_data()"
   ]
  },
  {
   "cell_type": "markdown",
   "id": "alpine-allergy",
   "metadata": {
    "slideshow": {
     "slide_type": "slide"
    }
   },
   "source": [
    "In order to achieve minimum, we need to implement gradient descent:\n",
    "$$\n",
    "\\frac{\\partial f(W, b)}{\\partial W} = \\frac{1}{m}\\sum_{i=1}^{m}2 \\cdot x^i \\cdot (y^i - (W \\cdot x^i + b)) = \\frac{2}{m}\\sum_{i=1}^{m} x^i \\cdot (y^i - (W \\cdot x^i + b)) = \\frac{2}{m}\\sum_{i=1}^{m} (x^i \\cdot y^i - W \\cdot (x^i)^2 - x^i \\cdot b)\n",
    "$$\n",
    "and\n",
    "$$\n",
    "\\frac{\\partial C(W, b)}{\\partial b} = \\frac{1}{m}\\sum_{i=1}^{m}2 \\cdot (y^i - (W \\cdot x^i + b)) = \\frac{2}{m}\\sum_{i=1}^{m} (y^i - (W \\cdot x^i + b)) = \\frac{2}{m}\\sum_{i=1}^{m} (y^i - W \\cdot x^i - b)\n",
    "$$\n",
    "and step by step descend to the exremum point:\n",
    "$$\n",
    "W = W - \\alpha \\cdot \\frac{\\partial C(y,x,w)}{\\partial W}\n",
    "$$\n",
    "and\n",
    "$$\n",
    "b = b - \\alpha \\cdot \\frac{\\partial C(y,x,w)}{\\partial b}\n",
    "$$\n",
    "<br>\n",
    "Where $\\alpha$ is the step and is called **learning rate** for training"
   ]
  },
  {
   "cell_type": "code",
   "execution_count": 189,
   "id": "proprietary-groove",
   "metadata": {
    "slideshow": {
     "slide_type": "slide"
    }
   },
   "outputs": [],
   "source": [
    "class Linear(object):\n",
    "    \"\"\"Linear regression model\"\"\"\n",
    "    \n",
    "    def __init__(self, W:float, b:float):\n",
    "        self.W = W\n",
    "        self.b = b\n",
    "        self.dl_W = None\n",
    "        self.dl_b = None\n",
    "        \n",
    "    def forward(self, X:np.ndarray) -> np.ndarray:\n",
    "        return self.W * X + self.b\n",
    "    \n",
    "    def cost(self, X:np.ndarray, y:np.ndarray):\n",
    "        y_pred = self.forward(X)\n",
    "        cs = (1.0 / len(y)) * np.sum((y - y_pred)**2)\n",
    "    \n",
    "        return cs\n",
    "    \n",
    "    def gradient(self, X:np.ndarray, y:np.ndarray):\n",
    "        y_pred = self.forward(X)\n",
    "        error = y - y_pred\n",
    "        coef = -(2.0 / len(X))\n",
    "        self.dl_W = coef * np.sum(X * error)\n",
    "        self.dl_b = coef * np.sum(error)\n",
    "    \n",
    "        return self.dl_W, self.dl_b\n",
    "    \n",
    "    def update(self, lr:float):\n",
    "        self.W = self.W - (lr * self.dl_W)\n",
    "        self.b = self.b - (lr * self.dl_b)\n",
    "    \n",
    "    def __call__(self, *args, **kwargs):\n",
    "        return self.forward(*args, **kwargs)\n",
    "    "
   ]
  },
  {
   "cell_type": "code",
   "execution_count": 177,
   "id": "bound-economics",
   "metadata": {
    "slideshow": {
     "slide_type": "slide"
    }
   },
   "outputs": [
    {
     "data": {
      "text/plain": [
       "(0.0, 0.0, array([0., 0.]))"
      ]
     },
     "execution_count": 177,
     "metadata": {},
     "output_type": "execute_result"
    }
   ],
   "source": [
    "# model = Linear(2.0, 1.0) \n",
    "# x_demo = np.array([1, 2])\n",
    "# model(x_demo) == model.W*x_demo + model.b, model.W, model.b\n",
    "model = Linear(0.0, 0.0)\n",
    "model.W, model.b"
   ]
  },
  {
   "cell_type": "markdown",
   "id": "broadband-beast",
   "metadata": {
    "slideshow": {
     "slide_type": "slide"
    }
   },
   "source": [
    "Broiadcasting in NumPy arrays which means for array: \n",
    "<br>\n",
    "```python\n",
    "X = np.array([5, 15, 25, 35, 45, 55])\n",
    "W*X = np.array([W*5, W*15, W*25, W*35, W*45, W*55])\n",
    "``` \n",
    "Standard vector scalar multiplication"
   ]
  },
  {
   "cell_type": "code",
   "execution_count": 181,
   "id": "rubber-above",
   "metadata": {
    "slideshow": {
     "slide_type": "slide"
    }
   },
   "outputs": [
    {
     "data": {
      "text/plain": [
       "(array([ 5., 15., 25., 35., 45., 55.]),\n",
       " 6,\n",
       " array([ 10.,  30.,  50.,  70.,  90., 110.]),\n",
       " array([ 10.,  30.,  50.,  70.,  90., 110.]),\n",
       " array([ 11.,  31.,  51.,  71.,  91., 111.]),\n",
       " array([ 11.,  31.,  51.,  71.,  91., 111.]))"
      ]
     },
     "execution_count": 181,
     "metadata": {},
     "output_type": "execute_result"
    }
   ],
   "source": [
    "model_test = Linear(2.0, 1.0)\n",
    "X, X.shape[0], model_test.W * X, X * model_test.W, model_test.W * X + model_test.b, model_test(X)"
   ]
  },
  {
   "cell_type": "code",
   "execution_count": 134,
   "id": "short-viking",
   "metadata": {
    "slideshow": {
     "slide_type": "slide"
    }
   },
   "outputs": [],
   "source": [
    "def cost(W:float, X:np.ndarray, b:float, y:float):\n",
    "    y_pred = f(X, W, b)\n",
    "    cs = (1.0 / X.shape[0]) * np.sum((y - y_pred)**2)\n",
    "    \n",
    "    return cs\n",
    "\n",
    "def der_cost_w_b(W:float, X:np.ndarray, b:float, y:float) -> float:\n",
    "    y_pred = f(X, W, b)\n",
    "    error = y - y_pred\n",
    "    coef = -(2.0 / X.shape[0])\n",
    "    dl_W = coef * np.sum(X * error)\n",
    "    dl_b = coef * np.sum(error)\n",
    "    \n",
    "    return dl_W, dl_b"
   ]
  },
  {
   "cell_type": "code",
   "execution_count": 198,
   "id": "creative-freeze",
   "metadata": {
    "slideshow": {
     "slide_type": "slide"
    }
   },
   "outputs": [],
   "source": [
    "class LinearRegression(object):\n",
    "    \"\"\"Linear regression model\"\"\"\n",
    "    \n",
    "    def __init__(self, model: callable, lr:float=0.001, n_iters:int=10, tl:int=10):\n",
    "        self.model = model\n",
    "        self.lr = lr\n",
    "        self.n_iters = n_iters\n",
    "        self.tl = tl\n",
    "\n",
    "    def fit(self, X, y):\n",
    "        for i in range(self.n_iters):\n",
    "            c = self.model.cost(X, y)\n",
    "            d_W, d_b = self.model.gradient(X, y)\n",
    "            self.model.update(self.lr)\n",
    "            if i % self.tl == 0:\n",
    "                print(f'Interation {i} cost = {c}')\n",
    "        self.y_preds = self.model(X)\n",
    "        print(f'{W=} {b=}')\n",
    "\n",
    "        return self.y_preds"
   ]
  },
  {
   "cell_type": "code",
   "execution_count": 199,
   "id": "temporal-light",
   "metadata": {
    "slideshow": {
     "slide_type": "slide"
    }
   },
   "outputs": [
    {
     "name": "stdout",
     "output_type": "stream",
     "text": [
      "Interation 0 cost = 595.5\n",
      "Interation 10000 cost = 36.657498872059136\n",
      "Interation 20000 cost = 34.846404149987364\n",
      "Interation 30000 cost = 34.16560858767596\n",
      "Interation 40000 cost = 33.90969563513161\n",
      "Interation 50000 cost = 33.81349724180245\n",
      "Interation 60000 cost = 33.77733599717962\n",
      "Interation 70000 cost = 33.76374288436952\n",
      "Interation 80000 cost = 33.758633195314424\n",
      "Interation 90000 cost = 33.75671244893318\n",
      "Interation 100000 cost = 33.75599043500606\n",
      "Interation 110000 cost = 33.755719027955124\n",
      "Interation 120000 cost = 33.75561700528694\n",
      "Interation 130000 cost = 33.755578654681145\n",
      "Interation 140000 cost = 33.75556423858136\n",
      "Interation 150000 cost = 33.755558819529185\n",
      "Interation 160000 cost = 33.75555678249235\n",
      "Interation 170000 cost = 33.755556016764515\n",
      "Interation 180000 cost = 33.75555572892529\n",
      "Interation 190000 cost = 33.755555620725715\n",
      "W=10.913399553681357 b=-2.055988493893648\n"
     ]
    }
   ],
   "source": [
    "\n",
    "model = Linear(0.0, 0.0)\n",
    "linear_regression = LinearRegression(model, lr=0.0001, n_iters=200000, tl=10000)\n",
    "y_preds = linear_regression.fit(X, y)"
   ]
  },
  {
   "cell_type": "code",
   "execution_count": 200,
   "id": "elegant-supplement",
   "metadata": {
    "slideshow": {
     "slide_type": "slide"
    }
   },
   "outputs": [
    {
     "data": {
      "image/png": "[encoded data removed]",
      "text/plain": [
       "<Figure size 1080x360 with 1 Axes>"
      ]
     },
     "metadata": {
      "needs_background": "light"
     },
     "output_type": "display_data"
    }
   ],
   "source": [
    "plot_data(y_pr=y_preds)"
   ]
  },
  {
   "cell_type": "markdown",
   "id": "designing-nudist",
   "metadata": {
    "slideshow": {
     "slide_type": "slide"
    }
   },
   "source": [
    "## Other data"
   ]
  },
  {
   "cell_type": "code",
   "execution_count": 202,
   "id": "abandoned-stereo",
   "metadata": {
    "slideshow": {
     "slide_type": "slide"
    }
   },
   "outputs": [],
   "source": [
    "X = np.linspace(1.0, 10.0, 100)[:, np.newaxis]\n",
    "y = np.sin(X) + 0.1*np.power(X, 2) + 0.5 * np.random.randn(100, 1)\n",
    "X /= np.max(X)"
   ]
  },
  {
   "cell_type": "code",
   "execution_count": 204,
   "id": "bulgarian-maine",
   "metadata": {
    "slideshow": {
     "slide_type": "slide"
    }
   },
   "outputs": [
    {
     "data": {
      "image/png": "[encoded data removed]",
      "text/plain": [
       "<Figure size 1080x360 with 1 Axes>"
      ]
     },
     "metadata": {
      "needs_background": "light"
     },
     "output_type": "display_data"
    }
   ],
   "source": [
    "plot_data(y_pr=None)"
   ]
  },
  {
   "cell_type": "code",
   "execution_count": 209,
   "id": "posted-solution",
   "metadata": {
    "scrolled": true,
    "slideshow": {
     "slide_type": "slide"
    }
   },
   "outputs": [
    {
     "name": "stdout",
     "output_type": "stream",
     "text": [
      "Interation 0 cost = 25.78372416201205\n",
      "Interation 10000 cost = 6.545239122633622\n",
      "Interation 20000 cost = 5.508834064585434\n",
      "Interation 30000 cost = 4.742169176647182\n",
      "Interation 40000 cost = 4.120363690714443\n",
      "Interation 50000 cost = 3.6157405051715537\n",
      "Interation 60000 cost = 3.2062144746556447\n",
      "Interation 70000 cost = 2.873864359744345\n",
      "Interation 80000 cost = 2.604146220560113\n",
      "Interation 90000 cost = 2.3852569488519\n",
      "Interation 100000 cost = 2.2076177533055286\n",
      "Interation 110000 cost = 2.0634549830240063\n",
      "Interation 120000 cost = 1.9464599455756306\n",
      "Interation 130000 cost = 1.8515128329416866\n",
      "Interation 140000 cost = 1.7744586741145747\n",
      "Interation 150000 cost = 1.7119255098314263\n",
      "Interation 160000 cost = 1.6611768326051057\n",
      "Interation 170000 cost = 1.6199918346964646\n",
      "Interation 180000 cost = 1.5865682235711882\n",
      "Interation 190000 cost = 1.5594433519581745\n",
      "Interation 200000 cost = 1.537430211090057\n",
      "Interation 210000 cost = 1.5195654861323449\n",
      "Interation 220000 cost = 1.5050674006602685\n",
      "Interation 230000 cost = 1.4933015054196042\n",
      "Interation 240000 cost = 1.4837529142569492\n",
      "Interation 250000 cost = 1.4760037722387156\n",
      "Interation 260000 cost = 1.4697149699435987\n",
      "Interation 270000 cost = 1.4646113037294644\n",
      "Interation 280000 cost = 1.4604694325745162\n",
      "Interation 290000 cost = 1.457108104473418\n",
      "Interation 300000 cost = 1.4543802246865898\n",
      "Interation 310000 cost = 1.4521664187421601\n",
      "Interation 320000 cost = 1.4503698085017598\n",
      "Interation 330000 cost = 1.448911772686097\n",
      "Interation 340000 cost = 1.4477285063370848\n",
      "Interation 350000 cost = 1.4467682286555168\n",
      "Interation 360000 cost = 1.4459889170267517\n",
      "Interation 370000 cost = 1.4453564680732955\n",
      "Interation 380000 cost = 1.444843205260374\n",
      "Interation 390000 cost = 1.4444266677458593\n",
      "Interation 400000 cost = 1.444088627473643\n",
      "Interation 410000 cost = 1.4438142914975134\n",
      "Interation 420000 cost = 1.4435916546285188\n",
      "Interation 430000 cost = 1.443410974077122\n",
      "Interation 440000 cost = 1.4432643430999614\n",
      "Interation 450000 cost = 1.4431453449936498\n",
      "Interation 460000 cost = 1.4430487722940757\n",
      "Interation 470000 cost = 1.4429703988930842\n",
      "Interation 480000 cost = 1.4429067951001904\n",
      "Interation 490000 cost = 1.4428551775562377\n",
      "Interation 500000 cost = 1.4428132874310975\n",
      "Interation 510000 cost = 1.4427792915752324\n",
      "Interation 520000 cost = 1.442751702299428\n",
      "Interation 530000 cost = 1.4427293122721725\n",
      "Interation 540000 cost = 1.4427111416857425\n",
      "Interation 550000 cost = 1.442696395378943\n",
      "Interation 560000 cost = 1.4426844280401292\n",
      "Interation 570000 cost = 1.4426747159677955\n",
      "Interation 580000 cost = 1.4426668341529265\n",
      "Interation 590000 cost = 1.4426604376802183\n",
      "Interation 600000 cost = 1.4426552466342737\n",
      "Interation 610000 cost = 1.4426510338502547\n",
      "Interation 620000 cost = 1.442647614972946\n",
      "Interation 630000 cost = 1.4426448403892038\n",
      "Interation 640000 cost = 1.4426425886807477\n",
      "Interation 650000 cost = 1.442640761310792\n",
      "Interation 660000 cost = 1.4426392783119848\n",
      "Interation 670000 cost = 1.442638074786965\n",
      "Interation 680000 cost = 1.4426370980683954\n",
      "Interation 690000 cost = 1.442636305414193\n",
      "Interation 700000 cost = 1.4426356621370982\n",
      "Interation 710000 cost = 1.442635140086726\n",
      "Interation 720000 cost = 1.4426347164176843\n",
      "Interation 730000 cost = 1.4426343725898343\n",
      "Interation 740000 cost = 1.4426340935569595\n",
      "Interation 750000 cost = 1.4426338671083303\n",
      "Interation 760000 cost = 1.442633683334352\n",
      "Interation 770000 cost = 1.4426335341929097\n",
      "Interation 780000 cost = 1.4426334131574408\n",
      "Interation 790000 cost = 1.4426333149313224\n",
      "Interation 800000 cost = 1.4426332352160922\n",
      "Interation 810000 cost = 1.4426331705233408\n",
      "Interation 820000 cost = 1.4426331180220542\n",
      "Interation 830000 cost = 1.4426330754147296\n",
      "Interation 840000 cost = 1.4426330408368315\n",
      "Interation 850000 cost = 1.4426330127752\n",
      "Interation 860000 cost = 1.4426329900018342\n",
      "Interation 870000 cost = 1.4426329715201498\n",
      "Interation 880000 cost = 1.4426329565213718\n",
      "Interation 890000 cost = 1.4426329443491404\n",
      "Interation 900000 cost = 1.4426329344707882\n",
      "Interation 910000 cost = 1.4426329264540283\n",
      "Interation 920000 cost = 1.4426329199480423\n",
      "Interation 930000 cost = 1.4426329146681203\n",
      "Interation 940000 cost = 1.4426329103832092\n",
      "Interation 950000 cost = 1.442632906905798\n",
      "Interation 960000 cost = 1.44263290408371\n",
      "Interation 970000 cost = 1.4426329017934503\n",
      "Interation 980000 cost = 1.4426328999347942\n",
      "Interation 990000 cost = 1.442632898426405\n",
      "Interation 1000000 cost = 1.4426328972022742\n",
      "Interation 1010000 cost = 1.4426328962088335\n",
      "Interation 1020000 cost = 1.4426328954026082\n",
      "Interation 1030000 cost = 1.4426328947483171\n",
      "Interation 1040000 cost = 1.4426328942173297\n",
      "Interation 1050000 cost = 1.4426328937864068\n",
      "Interation 1060000 cost = 1.442632893436692\n",
      "Interation 1070000 cost = 1.4426328931528816\n",
      "Interation 1080000 cost = 1.4426328929225563\n",
      "Interation 1090000 cost = 1.4426328927356356\n",
      "Interation 1100000 cost = 1.442632892583941\n",
      "Interation 1110000 cost = 1.4426328924608334\n",
      "Interation 1120000 cost = 1.4426328923609253\n",
      "Interation 1130000 cost = 1.4426328922798457\n",
      "Interation 1140000 cost = 1.4426328922140448\n",
      "Interation 1150000 cost = 1.442632892160645\n",
      "Interation 1160000 cost = 1.4426328921173077\n",
      "Interation 1170000 cost = 1.4426328920821379\n",
      "Interation 1180000 cost = 1.442632892053596\n",
      "Interation 1190000 cost = 1.4426328920304325\n",
      "Interation 1200000 cost = 1.4426328920116347\n",
      "Interation 1210000 cost = 1.4426328919963798\n",
      "Interation 1220000 cost = 1.4426328919839984\n",
      "Interation 1230000 cost = 1.4426328919739506\n",
      "Interation 1240000 cost = 1.4426328919657971\n",
      "Interation 1250000 cost = 1.4426328919591798\n",
      "Interation 1260000 cost = 1.4426328919538094\n",
      "Interation 1270000 cost = 1.4426328919494509\n",
      "Interation 1280000 cost = 1.4426328919459142\n",
      "Interation 1290000 cost = 1.4426328919430436\n",
      "Interation 1300000 cost = 1.4426328919407139\n",
      "Interation 1310000 cost = 1.4426328919388234\n",
      "Interation 1320000 cost = 1.4426328919372893\n",
      "Interation 1330000 cost = 1.442632891936044\n",
      "Interation 1340000 cost = 1.4426328919350337\n",
      "Interation 1350000 cost = 1.4426328919342137\n",
      "Interation 1360000 cost = 1.4426328919335485\n",
      "Interation 1370000 cost = 1.4426328919330085\n",
      "Interation 1380000 cost = 1.4426328919325702\n",
      "Interation 1390000 cost = 1.4426328919322142\n",
      "Interation 1400000 cost = 1.4426328919319256\n",
      "Interation 1410000 cost = 1.4426328919316915\n",
      "Interation 1420000 cost = 1.4426328919315015\n",
      "Interation 1430000 cost = 1.4426328919313465\n",
      "Interation 1440000 cost = 1.4426328919312221\n",
      "Interation 1450000 cost = 1.44263289193112\n",
      "Interation 1460000 cost = 1.4426328919310374\n",
      "Interation 1470000 cost = 1.4426328919309706\n",
      "Interation 1480000 cost = 1.4426328919309168\n",
      "Interation 1490000 cost = 1.4426328919308724\n",
      "Interation 1500000 cost = 1.4426328919308367\n",
      "Interation 1510000 cost = 1.4426328919308078\n",
      "Interation 1520000 cost = 1.4426328919307838\n",
      "Interation 1530000 cost = 1.4426328919307647\n",
      "Interation 1540000 cost = 1.4426328919307494\n",
      "Interation 1550000 cost = 1.442632891930737\n",
      "Interation 1560000 cost = 1.4426328919307267\n",
      "Interation 1570000 cost = 1.4426328919307185\n",
      "Interation 1580000 cost = 1.442632891930711\n",
      "Interation 1590000 cost = 1.4426328919307063\n",
      "Interation 1600000 cost = 1.4426328919307019\n",
      "Interation 1610000 cost = 1.4426328919306985\n",
      "Interation 1620000 cost = 1.4426328919306952\n",
      "Interation 1630000 cost = 1.4426328919306928\n",
      "Interation 1640000 cost = 1.4426328919306906\n",
      "Interation 1650000 cost = 1.4426328919306888\n",
      "Interation 1660000 cost = 1.4426328919306874\n",
      "Interation 1670000 cost = 1.4426328919306872\n",
      "Interation 1680000 cost = 1.4426328919306861\n",
      "Interation 1690000 cost = 1.4426328919306854\n",
      "Interation 1700000 cost = 1.442632891930685\n",
      "Interation 1710000 cost = 1.4426328919306843\n",
      "Interation 1720000 cost = 1.4426328919306841\n",
      "Interation 1730000 cost = 1.4426328919306841\n",
      "Interation 1740000 cost = 1.4426328919306837\n",
      "Interation 1750000 cost = 1.4426328919306832\n",
      "Interation 1760000 cost = 1.442632891930683\n",
      "Interation 1770000 cost = 1.4426328919306832\n",
      "Interation 1780000 cost = 1.4426328919306826\n",
      "Interation 1790000 cost = 1.4426328919306826\n",
      "Interation 1800000 cost = 1.442632891930683\n",
      "Interation 1810000 cost = 1.442632891930683\n",
      "Interation 1820000 cost = 1.4426328919306826\n",
      "Interation 1830000 cost = 1.4426328919306823\n",
      "Interation 1840000 cost = 1.4426328919306826\n",
      "Interation 1850000 cost = 1.4426328919306826\n"
     ]
    },
    {
     "name": "stdout",
     "output_type": "stream",
     "text": [
      "Interation 1860000 cost = 1.4426328919306826\n",
      "Interation 1870000 cost = 1.4426328919306821\n",
      "Interation 1880000 cost = 1.442632891930683\n",
      "Interation 1890000 cost = 1.442632891930683\n",
      "Interation 1900000 cost = 1.4426328919306826\n",
      "Interation 1910000 cost = 1.442632891930683\n",
      "Interation 1920000 cost = 1.4426328919306823\n",
      "Interation 1930000 cost = 1.4426328919306821\n",
      "Interation 1940000 cost = 1.4426328919306823\n",
      "Interation 1950000 cost = 1.4426328919306823\n",
      "Interation 1960000 cost = 1.442632891930683\n",
      "Interation 1970000 cost = 1.4426328919306832\n",
      "Interation 1980000 cost = 1.4426328919306823\n",
      "Interation 1990000 cost = 1.442632891930683\n",
      "W=10.913399553681357 b=-2.055988493893648\n"
     ]
    }
   ],
   "source": [
    "model = Linear(0.0, 0.0)\n",
    "linear_regression = LinearRegression(model, lr=0.0001, n_iters=2000000, tl=10000)\n",
    "y_preds = linear_regression.fit(X, y)"
   ]
  },
  {
   "cell_type": "code",
   "execution_count": 210,
   "id": "responsible-official",
   "metadata": {
    "slideshow": {
     "slide_type": "slide"
    }
   },
   "outputs": [
    {
     "data": {
      "image/png": "[encoded data removed]",
      "text/plain": [
       "<Figure size 1080x360 with 1 Axes>"
      ]
     },
     "metadata": {
      "needs_background": "light"
     },
     "output_type": "display_data"
    }
   ],
   "source": [
    "plot_data(y_pr=y_preds)"
   ]
  },
  {
   "cell_type": "markdown",
   "id": "underlying-david",
   "metadata": {
    "slideshow": {
     "slide_type": "slide"
    }
   },
   "source": [
    "Don't forget that we use all $X$ not for particular $X^i$"
   ]
  },
  {
   "cell_type": "markdown",
   "id": "exact-ferry",
   "metadata": {
    "slideshow": {
     "slide_type": "slide"
    }
   },
   "source": [
    "## Types of machine learning"
   ]
  },
  {
   "cell_type": "markdown",
   "id": "first-punishment",
   "metadata": {},
   "source": [
    "- **Classification** when $f:X \\to \\{y^1, y^2, \\dots y^k\\}$ in finity, predefined amount of elements\n",
    "<br>\n",
    "For instance classify images of cats and dogs\n",
    "- **Regression** when $f:X \\to Y$ in infinity, undefined amount of elements (interpolation, extrapolation)\n",
    "<br>\n",
    "House price prediction"
   ]
  },
  {
   "cell_type": "markdown",
   "id": "ideal-beatles",
   "metadata": {
    "slideshow": {
     "slide_type": "slide"
    }
   },
   "source": [
    "Clasification vs regression:\n",
    "<img src=\"images/intro1/regression_class_1.png\" height=\"800\" width=\"800\">"
   ]
  },
  {
   "cell_type": "markdown",
   "id": "ancient-tablet",
   "metadata": {
    "slideshow": {
     "slide_type": "slide"
    }
   },
   "source": [
    "#### Question:\n",
    "\n",
    "- Predicting sentiments\n",
    "- Predicting prices\n",
    "- Organize images (family, nature, buildings, space, satellite, graphs)\n",
    "- Localizing a single object on images"
   ]
  },
  {
   "cell_type": "markdown",
   "id": "apparent-divide",
   "metadata": {
    "slideshow": {
     "slide_type": "slide"
    }
   },
   "source": [
    "#### Mixed types"
   ]
  },
  {
   "attachments": {},
   "cell_type": "markdown",
   "id": "moral-handle",
   "metadata": {
    "slideshow": {
     "slide_type": "slide"
    }
   },
   "source": [
    "Object localization:\n",
    "<br>\n",
    "<img src=\"images/intro2/class_localize_1.png\" height=\"800\" width=\"800\">"
   ]
  },
  {
   "attachments": {},
   "cell_type": "markdown",
   "id": "still-summary",
   "metadata": {
    "slideshow": {
     "slide_type": "slide"
    }
   },
   "source": [
    "We have one loss for object classification (classification) and second for bounding box coordinates localization (regression):\n",
    "<br>\n",
    "<img src=\"images/intro2/class_localize_2.png\" height=\"1000\" width=\"1000\">"
   ]
  },
  {
   "cell_type": "markdown",
   "id": "capital-input",
   "metadata": {
    "slideshow": {
     "slide_type": "slide"
    }
   },
   "source": [
    "## Approaches"
   ]
  },
  {
   "cell_type": "markdown",
   "id": "developed-grant",
   "metadata": {},
   "source": [
    "- **Supervised learning** when we have true labels $y = (y^1, y^2, \\dots, y^m)$ provided\n",
    "- **Unsupervised learning** when we don't have any labels\n",
    "- **Self-supervised learning** when labels are generated from data\n",
    "- **Semi-supervised learning** when we have labels on limited amount of data"
   ]
  },
  {
   "cell_type": "markdown",
   "id": "exciting-rental",
   "metadata": {
    "slideshow": {
     "slide_type": "slide"
    }
   },
   "source": [
    "## Unsupervised learning"
   ]
  },
  {
   "cell_type": "markdown",
   "id": "dramatic-murray",
   "metadata": {
    "slideshow": {
     "slide_type": "slide"
    }
   },
   "source": [
    "- **Clustering** pull together similar data in clusters without prior knowladge of labels\n",
    "- **Dimensionality reduction** mapping $f:X \\to Z$ where $X \\subset \\mathbb{R}^d$ and $Z \\subset \\mathbb{R}^k$ and $k < d$ or any other linear spaces where $dim(Z) < dim(X)$\n",
    "- **Annomaly detection** detect out of distribution, out of variance points in data"
   ]
  },
  {
   "cell_type": "markdown",
   "id": "surface-invasion",
   "metadata": {
    "slideshow": {
     "slide_type": "slide"
    }
   },
   "source": [
    "## Self supervised learning"
   ]
  },
  {
   "cell_type": "markdown",
   "id": "chief-sequence",
   "metadata": {
    "slideshow": {
     "slide_type": "slide"
    }
   },
   "source": [
    "#### Autoecoders"
   ]
  },
  {
   "cell_type": "markdown",
   "id": "stretch-depth",
   "metadata": {
    "slideshow": {
     "slide_type": "slide"
    }
   },
   "source": [
    "Auto-encoders learn from the original images, they encode and reconstruct data\n",
    "<br>\n",
    "<img src=\"images/intro2/ae_1.png\" height=\"800\" width=\"800\">"
   ]
  },
  {
   "cell_type": "markdown",
   "id": "starting-gasoline",
   "metadata": {
    "slideshow": {
     "slide_type": "slide"
    }
   },
   "source": [
    "#### Denoising auto-encoders"
   ]
  },
  {
   "cell_type": "markdown",
   "id": "median-essay",
   "metadata": {
    "slideshow": {
     "slide_type": "slide"
    }
   },
   "source": [
    "If we add augmentation and make the model extract features from images:\n",
    "<br>\n",
    "<img src=\"images/intro2/dae_1.png\" height=\"800\" width=\"800\">"
   ]
  },
  {
   "cell_type": "markdown",
   "id": "communist-cooper",
   "metadata": {
    "slideshow": {
     "slide_type": "slide"
    }
   },
   "source": [
    "#### Colorization"
   ]
  },
  {
   "cell_type": "markdown",
   "id": "measured-intervention",
   "metadata": {
    "slideshow": {
     "slide_type": "slide"
    }
   },
   "source": [
    "DeOldify\n",
    "<img src=\"images/intro2/pv_10.jpg\" height=\"800\" width=\"800\">"
   ]
  },
  {
   "cell_type": "markdown",
   "id": "monetary-nepal",
   "metadata": {
    "slideshow": {
     "slide_type": "slide"
    }
   },
   "source": [
    "## Thank you"
   ]
  },
  {
   "cell_type": "markdown",
   "id": "occupational-lewis",
   "metadata": {
    "slideshow": {
     "slide_type": "slide"
    }
   },
   "source": [
    "## Questions\n",
    "\n",
    "<img src=\"images/intro2/questions_2.jpg\" height=\"800\" width=\"800\">"
   ]
  },
  {
   "cell_type": "markdown",
   "id": "touched-aspect",
   "metadata": {
    "slideshow": {
     "slide_type": "slide"
    }
   },
   "source": [
    "## Thank you"
   ]
  },
  {
   "cell_type": "code",
   "execution_count": null,
   "id": "asian-briefs",
   "metadata": {},
   "outputs": [],
   "source": []
  }
 ],
 "metadata": {
  "celltoolbar": "Slideshow",
  "kernelspec": {
   "display_name": "Python 3",
   "language": "python",
   "name": "python3"
  },
  "language_info": {
   "codemirror_mode": {
    "name": "ipython",
    "version": 3
   },
   "file_extension": ".py",
   "mimetype": "text/x-python",
   "name": "python",
   "nbconvert_exporter": "python",
   "pygments_lexer": "ipython3",
   "version": "3.9.2"
  }
 },
 "nbformat": 4,
 "nbformat_minor": 5
}
