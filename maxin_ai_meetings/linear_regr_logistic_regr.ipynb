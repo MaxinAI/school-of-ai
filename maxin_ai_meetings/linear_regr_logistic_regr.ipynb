{
 "cells": [
  {
   "cell_type": "code",
   "execution_count": 1,
   "id": "parallel-example",
   "metadata": {
    "slideshow": {
     "slide_type": "slide"
    }
   },
   "outputs": [],
   "source": [
    "%load_ext autoreload\n",
    "%autoreload 2\n",
    "\n",
    "%matplotlib inline"
   ]
  },
  {
   "cell_type": "markdown",
   "id": "hungry-classic",
   "metadata": {
    "slideshow": {
     "slide_type": "slide"
    }
   },
   "source": [
    "## Linear Regression (regression), Logistic Regression (classification)"
   ]
  },
  {
   "cell_type": "markdown",
   "id": "seventh-adolescent",
   "metadata": {
    "slideshow": {
     "slide_type": "slide"
    }
   },
   "source": [
    "- Linear regression (regression)\n",
    "- Logistic regression (classification)"
   ]
  },
  {
   "cell_type": "markdown",
   "id": "golden-logic",
   "metadata": {
    "slideshow": {
     "slide_type": "slide"
    }
   },
   "source": [
    "## Never ever forget !!!"
   ]
  },
  {
   "cell_type": "markdown",
   "id": "signal-basin",
   "metadata": {
    "slideshow": {
     "slide_type": "slide"
    }
   },
   "source": [
    "- Parametrized models\n",
    "<br>\n",
    "Machine learning models (more than 90%) are parametrized functions\n",
    "$$\n",
    "f: X \\to Y\n",
    "$$\n",
    "with parameters $\\mathcal{W} = (W^1, W^2, \\dots, W^L)$ and $\\mathcal{b} = (b^1, b^2, \\dots, b^L)$\n",
    "<br>\n",
    "We can consider this models as:\n",
    "$$\n",
    "f: \\mathcal{W} \\times \\mathcal{b} \\times X \\to Y\n",
    "$$\n",
    "<br>\n",
    "- Data sample (training / validation / test set) from population:\n",
    "Then we have sample of our data \n",
    "$$\n",
    "X = (X^1, X^2, \\dots, X^m)\n",
    "$$ \n",
    "from entire population along with labels $Y = (y^1, y^2, \\dots, y^m)$ and we train on this data\n",
    "- Training process:\n",
    "Define loss function:\n",
    "$$\n",
    "L(f(x), y)\n",
    "$$\n",
    "where $y$ adre labels\n",
    "<br>\n",
    "We fix our data sample as constants $X = (X^1, X^2, \\dots, X^m)$, define cost function as aggregation of loss functions over our data sample:\n",
    "$$\n",
    "C : \\mathcal{W} \\to \\mathbb{R}^1\n",
    "$$\n",
    "such that:\n",
    "$$\n",
    "C(W, b) = \\text{aggr}_{i=1}^m(L(f(X^i, W, b,  y)))\n",
    "$$\n",
    "For instance aggregate with mean:\n",
    "$$\n",
    "C(W, b) = \\frac{1}{m}\\sum_{i=1}^m(L(f(X^i, W, b, y)))\n",
    "$$\n",
    "<br>\n",
    "- Training:\n",
    "$$\n",
    "\\min_{W \\in \\mathcal{W}, b\\in \\mathcal{b}}C(W, b)\n",
    "$$\n",
    "Make the cost $C$ as small as possible for $W$ and $b$, or find $W$ and $b$ for which $C$ is as small as possible\n",
    "\n"
   ]
  },
  {
   "cell_type": "markdown",
   "id": "drawn-button",
   "metadata": {
    "slideshow": {
     "slide_type": "slide"
    }
   },
   "source": [
    "## Example - linear model"
   ]
  },
  {
   "cell_type": "markdown",
   "id": "viral-river",
   "metadata": {
    "slideshow": {
     "slide_type": "slide"
    }
   },
   "source": [
    "Consider linear function $f:\\mathbb{R}^n \\to \\mathbb{R}^1$:\n",
    "$$\n",
    "f(x) = \\sum_{i=1}^{n}{x_i \\cdot w_i} + b\n",
    "$$\n",
    "or:\n",
    "$$\n",
    "f(x) = W \\cdot X + b\n",
    "$$\n",
    "<br>\n",
    "\n",
    "where\n",
    "$$\n",
    "x = (x_1, x_2, \\dots, x_n)\n",
    "$$\n",
    "and\n",
    "$$\n",
    "W = (w_1, w_2, \\dots, w_n)\n",
    "$$\n",
    "<br>\n",
    "\n",
    "For labels $y = (y^{(1)}, y^{(2)}, \\dots, y^{(m)})$ we can create the loss function:\n",
    "$$\n",
    "L(W, b, X, y) = ||f(W, X) - y||^2 \n",
    "$$\n",
    "and cost for examples $(X^{(1)}, X^{(2)}, \\dots, X^{(m)})$ and $(y^{(1)}, y^{(2)}, \\dots, y^{(m)})$ where $X^{(k)} = (x_1^{(k)}, x_2^{(k)}, \\dots, x_n^{(k)})$ and $y^{(k)} \\in \\mathbb{R}^1$:\n",
    "$$\n",
    "C(W, b) = \\frac{1}{2 \\cdot m}\\sum_{i=1}^{m}||f(W, x^{(i)}) - y^{(i)}||^2 = \\frac{1}{2 \\cdot m}\\sum_{i=1}^{m}(f(W, x^{(i)}) - y^{(i)})^2\n",
    "$$"
   ]
  },
  {
   "cell_type": "markdown",
   "id": "minor-cancellation",
   "metadata": {
    "slideshow": {
     "slide_type": "slide"
    }
   },
   "source": [
    "On the ther hand we can consider $(X^{(1)}, X^{(2)}, \\dots, X^{(m)})$ as a matrix:\n",
    "$$\n",
    "X = \\begin{pmatrix}\n",
    "x_1^{(1)} & x_2^{(1)} & \\dots & x_n^{(1)}\\\\\n",
    "x_1^{(2)} & x_2^{(2)} & \\dots & x_n^{(2)}\\\\\n",
    "\\dots \\\\\n",
    "x_1^{m} & x_2^{m} & \\dots & x_n^{m}\\\\\n",
    "\\end{pmatrix}\n",
    "$$\n",
    "<br>\n",
    "\n",
    "or\n",
    "$$\n",
    "X^T = \\begin{pmatrix}\n",
    "x_1^{(1)} & x_1^{(2)} & \\dots & x_1^{(m)}\\\\\n",
    "x_2^{(1)} & x_2^{(2)} & \\dots & x_2^{(m)}\\\\\n",
    "\\dots \\\\\n",
    "x_n^{(1)} & x_n^{(2)} & \\dots & x_n^{(m)}\\\\\n",
    "\\end{pmatrix}\n",
    "$$"
   ]
  },
  {
   "cell_type": "markdown",
   "id": "stylish-fireplace",
   "metadata": {
    "slideshow": {
     "slide_type": "slide"
    }
   },
   "source": [
    "So We have $X \\in \\mathbb{R}^{m \\times n}$ and $W \\in \\mathbb{R}^n$ and we can map $W \\in \\mathbb{R}^{n \\times 1}$ and we can write:\n",
    "$$\n",
    "W^T \\in \\mathbb{R}^{n \\times 1}\n",
    "$$\n",
    "<br>\n",
    "\n",
    "and\n",
    "$$\n",
    "X \\cdot W^T \\in \\mathbb{R}^{m \\times 1}\n",
    "$$\n",
    "<br>\n",
    "\n",
    "We can write our model for multiply elements simultaneously:\n",
    "$$\n",
    "f(X) = X \\cdot W^T + (b, b, \\dots, b)^T\n",
    "$$\n",
    "<br>\n",
    "\n",
    "or in brief\n",
    "$$\n",
    "f(X) = X \\cdot W^T + b\n",
    "$$\n",
    "<br>\n",
    "\n",
    "Using broadcasting"
   ]
  },
  {
   "cell_type": "code",
   "execution_count": 2,
   "id": "certified-listening",
   "metadata": {
    "collapsed": true,
    "slideshow": {
     "slide_type": "slide"
    }
   },
   "outputs": [
    {
     "name": "stdout",
     "output_type": "stream",
     "text": [
      "Requirement already satisfied: numpy in /Users/levan/anaconda3/envs/edu/lib/python3.9/site-packages (1.20.3)\n",
      "Requirement already satisfied: pandas in /Users/levan/anaconda3/envs/edu/lib/python3.9/site-packages (1.2.4)\n",
      "Requirement already satisfied: python-dateutil>=2.7.3 in /Users/levan/anaconda3/envs/edu/lib/python3.9/site-packages (from pandas) (2.8.1)\n",
      "Requirement already satisfied: pytz>=2017.3 in /Users/levan/anaconda3/envs/edu/lib/python3.9/site-packages (from pandas) (2021.1)\n",
      "Requirement already satisfied: numpy>=1.16.5 in /Users/levan/anaconda3/envs/edu/lib/python3.9/site-packages (from pandas) (1.20.3)\n",
      "Requirement already satisfied: six>=1.5 in /Users/levan/anaconda3/envs/edu/lib/python3.9/site-packages (from python-dateutil>=2.7.3->pandas) (1.15.0)\n",
      "Requirement already satisfied: scikit-learn in /Users/levan/anaconda3/envs/edu/lib/python3.9/site-packages (0.24.2)\n",
      "Requirement already satisfied: threadpoolctl>=2.0.0 in /Users/levan/anaconda3/envs/edu/lib/python3.9/site-packages (from scikit-learn) (2.1.0)\n",
      "Requirement already satisfied: scipy>=0.19.1 in /Users/levan/anaconda3/envs/edu/lib/python3.9/site-packages (from scikit-learn) (1.6.1)\n",
      "Requirement already satisfied: joblib>=0.11 in /Users/levan/anaconda3/envs/edu/lib/python3.9/site-packages (from scikit-learn) (1.0.1)\n",
      "Requirement already satisfied: numpy>=1.13.3 in /Users/levan/anaconda3/envs/edu/lib/python3.9/site-packages (from scikit-learn) (1.20.3)\n",
      "Requirement already satisfied: matplotlib in /Users/levan/anaconda3/envs/edu/lib/python3.9/site-packages (3.4.2)\n",
      "Requirement already satisfied: python-dateutil>=2.7 in /Users/levan/anaconda3/envs/edu/lib/python3.9/site-packages (from matplotlib) (2.8.1)\n",
      "Requirement already satisfied: pillow>=6.2.0 in /Users/levan/anaconda3/envs/edu/lib/python3.9/site-packages (from matplotlib) (8.1.2)\n",
      "Requirement already satisfied: pyparsing>=2.2.1 in /Users/levan/anaconda3/envs/edu/lib/python3.9/site-packages (from matplotlib) (2.4.7)\n",
      "Requirement already satisfied: cycler>=0.10 in /Users/levan/anaconda3/envs/edu/lib/python3.9/site-packages (from matplotlib) (0.10.0)\n",
      "Requirement already satisfied: kiwisolver>=1.0.1 in /Users/levan/anaconda3/envs/edu/lib/python3.9/site-packages (from matplotlib) (1.3.1)\n",
      "Requirement already satisfied: numpy>=1.16 in /Users/levan/anaconda3/envs/edu/lib/python3.9/site-packages (from matplotlib) (1.20.3)\n",
      "Requirement already satisfied: six in /Users/levan/anaconda3/envs/edu/lib/python3.9/site-packages (from cycler>=0.10->matplotlib) (1.15.0)\n",
      "Requirement already satisfied: seaborn in /Users/levan/anaconda3/envs/edu/lib/python3.9/site-packages (0.11.1)\n",
      "Requirement already satisfied: matplotlib>=2.2 in /Users/levan/anaconda3/envs/edu/lib/python3.9/site-packages (from seaborn) (3.4.2)\n",
      "Requirement already satisfied: scipy>=1.0 in /Users/levan/anaconda3/envs/edu/lib/python3.9/site-packages (from seaborn) (1.6.1)\n",
      "Requirement already satisfied: numpy>=1.15 in /Users/levan/anaconda3/envs/edu/lib/python3.9/site-packages (from seaborn) (1.20.3)\n",
      "Requirement already satisfied: pandas>=0.23 in /Users/levan/anaconda3/envs/edu/lib/python3.9/site-packages (from seaborn) (1.2.4)\n",
      "Requirement already satisfied: python-dateutil>=2.7 in /Users/levan/anaconda3/envs/edu/lib/python3.9/site-packages (from matplotlib>=2.2->seaborn) (2.8.1)\n",
      "Requirement already satisfied: pyparsing>=2.2.1 in /Users/levan/anaconda3/envs/edu/lib/python3.9/site-packages (from matplotlib>=2.2->seaborn) (2.4.7)\n",
      "Requirement already satisfied: cycler>=0.10 in /Users/levan/anaconda3/envs/edu/lib/python3.9/site-packages (from matplotlib>=2.2->seaborn) (0.10.0)\n",
      "Requirement already satisfied: pillow>=6.2.0 in /Users/levan/anaconda3/envs/edu/lib/python3.9/site-packages (from matplotlib>=2.2->seaborn) (8.1.2)\n",
      "Requirement already satisfied: kiwisolver>=1.0.1 in /Users/levan/anaconda3/envs/edu/lib/python3.9/site-packages (from matplotlib>=2.2->seaborn) (1.3.1)\n",
      "Requirement already satisfied: six in /Users/levan/anaconda3/envs/edu/lib/python3.9/site-packages (from cycler>=0.10->matplotlib>=2.2->seaborn) (1.15.0)\n",
      "Requirement already satisfied: pytz>=2017.3 in /Users/levan/anaconda3/envs/edu/lib/python3.9/site-packages (from pandas>=0.23->seaborn) (2021.1)\n"
     ]
    }
   ],
   "source": [
    "! pip install -U numpy\n",
    "! pip install -U pandas\n",
    "! pip install -U scikit-learn\n",
    "! pip install -U matplotlib\n",
    "! pip install -U seaborn"
   ]
  },
  {
   "cell_type": "code",
   "execution_count": 3,
   "id": "handmade-university",
   "metadata": {
    "slideshow": {
     "slide_type": "slide"
    }
   },
   "outputs": [],
   "source": [
    "import numpy as np\n",
    "import pandas as pd\n",
    "import matplotlib.pyplot as plt\n",
    "import seaborn as sns"
   ]
  },
  {
   "cell_type": "code",
   "execution_count": 4,
   "id": "surprised-chest",
   "metadata": {
    "slideshow": {
     "slide_type": "slide"
    }
   },
   "outputs": [],
   "source": [
    "class Linear(object):\n",
    "    \"\"\"Linear regression model\"\"\"\n",
    "    \n",
    "    def __init__(self, W:np.ndarray, b:float):\n",
    "        self.W = W\n",
    "        self.b = b\n",
    "        self.dl_W = None\n",
    "        self.dl_b = None\n",
    "        \n",
    "    def forward(self, X:np.ndarray) -> np.ndarray:\n",
    "        return X @ self.W.T + self.b\n",
    "    \n",
    "    \n",
    "    def loss(self, X:np.ndarray, y:np.ndarray) -> np.ndarray:\n",
    "        y_pred = self.forward(X)\n",
    "        lss = y_pred - y\n",
    "        \n",
    "        return lss\n",
    "    \n",
    "    def cost(self, X:np.ndarray, y:np.ndarray) -> float:\n",
    "        lss = self.loss(X, y)\n",
    "        cs = (1.0 / (2.0 * len(X))) * np.sum(lss**2)\n",
    "    \n",
    "        return cs\n",
    "    \n",
    "    def gradient(self, X:np.ndarray, y:np.ndarray):\n",
    "        lss = self.loss(X, y)\n",
    "        coef = 1.0 / len(X)\n",
    "        self.dl_W = coef * np.sum(X * lss, axis=0)\n",
    "        self.dl_b = coef * np.sum(lss, axis=0)\n",
    "    \n",
    "        return self.dl_W, self.dl_b\n",
    "    \n",
    "    @property\n",
    "    def grad_W(self) -> np.ndarray:\n",
    "        return self.dl_W\n",
    "    \n",
    "    @property\n",
    "    def grad_b(self) -> np.ndarray:\n",
    "        return self.dl_b\n",
    "    \n",
    "    def update(self, lr:float):\n",
    "        self.W = self.W - (lr * self.dl_W)\n",
    "        self.b = self.b - (lr * self.dl_b)\n",
    "    \n",
    "    def __call__(self, *args, **kwargs):\n",
    "        return self.forward(*args, **kwargs)\n",
    "    "
   ]
  },
  {
   "cell_type": "code",
   "execution_count": 5,
   "id": "surrounded-arabic",
   "metadata": {
    "slideshow": {
     "slide_type": "slide"
    }
   },
   "outputs": [
    {
     "name": "stdout",
     "output_type": "stream",
     "text": [
      "X.shape=(4, 2) W.shape=(1, 2), (2, 1)\n"
     ]
    }
   ],
   "source": [
    "X = np.array([[1, 2], [3, 4], [5, 6], [7, 8]], dtype=float)\n",
    "W = np.array([[0.1, 0.2]], dtype=float)\n",
    "b = 4.0\n",
    "print(f'{X.shape=} {W.shape=}, {W.T.shape}')"
   ]
  },
  {
   "cell_type": "code",
   "execution_count": 6,
   "id": "adjacent-pantyhose",
   "metadata": {
    "slideshow": {
     "slide_type": "slide"
    }
   },
   "outputs": [
    {
     "name": "stdout",
     "output_type": "stream",
     "text": [
      "y_d.shape=(4, 1), y_l.shape=(4, 1)\n",
      "y_d=array([[4.5],\n",
      "       [5.1],\n",
      "       [5.7],\n",
      "       [6.3]])\n",
      "y_l=array([[4.5],\n",
      "       [5.1],\n",
      "       [5.7],\n",
      "       [6.3]])\n",
      "y_d==y_l=array([[ True],\n",
      "       [ True],\n",
      "       [ True],\n",
      "       [ True]])\n"
     ]
    }
   ],
   "source": [
    "y_d = X @ W.T + b\n",
    "linear = Linear(W, b)\n",
    "y_l = linear(X)\n",
    "print(f'{y_d.shape=}, {y_l.shape=}')\n",
    "print(f'{y_d=}')\n",
    "print(f'{y_l=}')\n",
    "print(f'{y_d==y_l=}')"
   ]
  },
  {
   "cell_type": "markdown",
   "id": "valid-johnston",
   "metadata": {
    "slideshow": {
     "slide_type": "slide"
    }
   },
   "source": [
    "Recall the chain rule for $f: \\mathbb{R}^1 \\to \\mathbb{R}^1$ and $g: \\mathbb{R}^1 \\to \\mathbb{R}^1$:\n",
    "<br>\n",
    "$$\n",
    "(g \\circ f)' = g'_f \\cdot f'\n",
    "$$\n",
    "<br>\n",
    "\n",
    "Or if we assign $f(x) = y$\n",
    "$$\n",
    "g(f(x))' = g(y)' \\cdot f(x)'\n",
    "$$"
   ]
  },
  {
   "cell_type": "markdown",
   "id": "technological-amino",
   "metadata": {
    "slideshow": {
     "slide_type": "slide"
    }
   },
   "source": [
    "In our case, derivative of our cost function:\n",
    "$$\n",
    "C(W, b) = \\frac{1}{2m}R(W, X^{(i)}, y)^2\n",
    "$$\n",
    "where\n",
    "$$\n",
    "R(W, X^{(i)}, y)^2 = ||f(W, x^{(i)}) - y^{(i)}||^2\n",
    "$$\n",
    "and herefore\n",
    "<br>\n",
    "$$\n",
    "\\frac{\\partial C(W, b)}{\\partial w_j} = \\frac{1}{m}\\sum_{i=1}^{m} \\cdot ((R(W, X^{(i)}, y) \\cdot X_j^{(i)}) = \\frac{1}{m}\\sum_{i=1}^{m} ( (f(X^{(i)}) - y^{(i)}) \\cdot X_j^{(i)}) = \\frac{1}{m}\\sum_{i=1}^{m} (W^T \\cdot X^{i} + b - y^{(i)}) \\cdot X_j^{(i)}\n",
    "$$\n",
    "<br>\n",
    "\n",
    "and\n",
    "$$\n",
    "\\frac{\\partial C(W, b)}{\\partial b} = \\frac{1}{m}\\sum_{i=1}^{m} \\cdot R(W, X^{(i)}, y) = \\frac{1}{m}\\sum_{i=1}^{m} (f(X^{(i)}) - y^{(i)}) = \\frac{1}{m}\\sum_{i=1}^{m} (W^T \\cdot X^{i} + b - y^{(i)})\n",
    "$$\n",
    "and step by step descend to the exremum point:\n",
    "$$\n",
    "W_j = W_j - \\alpha \\cdot \\frac{\\partial C(y,x,w)}{\\partial W_j}\n",
    "$$\n",
    "and\n",
    "$$\n",
    "b = b - \\alpha \\cdot \\frac{\\partial C(y,x,W)}{\\partial b}\n",
    "$$\n",
    "<br>\n",
    "\n",
    "Or in terms of vectors:\n",
    "$$\n",
    "W = W - \\alpha \\cdot \\frac{\\partial C(y,x,W)}{\\partial W}\n",
    "$$\n",
    "and\n",
    "$$\n",
    "b = b - \\alpha \\cdot \\frac{\\partial C(y,x,W)}{\\partial b}\n",
    "$$\n",
    "<br>\n",
    "Where $\\alpha$ is the step and is called **learning rate** for training and $\\nabla_{W}C(y,x,W) = \\frac{\\partial C(y,x,W)}{\\partial W}$ is gradient"
   ]
  },
  {
   "cell_type": "code",
   "execution_count": 7,
   "id": "liable-senior",
   "metadata": {
    "slideshow": {
     "slide_type": "slide"
    }
   },
   "outputs": [
    {
     "name": "stdout",
     "output_type": "stream",
     "text": [
      "y.shape=(4, 1)\n",
      "y=array([[3.9],\n",
      "       [4.1],\n",
      "       [3.7],\n",
      "       [5.8]])\n",
      "y_pred=array([[4.5],\n",
      "       [5.1],\n",
      "       [5.7],\n",
      "       [6.3]])\n",
      "lss=array([[0.6],\n",
      "       [1. ],\n",
      "       [2. ],\n",
      "       [0.5]])\n",
      "X=array([[1., 2.],\n",
      "       [3., 4.],\n",
      "       [5., 6.],\n",
      "       [7., 8.]])\n",
      "X * lss=array([[ 0.6,  1.2],\n",
      "       [ 3. ,  4. ],\n",
      "       [10. , 12. ],\n",
      "       [ 3.5,  4. ]])\n",
      "dl_W=array([4.275, 5.3  ])\n",
      "dl_b=array([1.025])\n"
     ]
    }
   ],
   "source": [
    "y = np.array([[3.9, 4.1, 3.7, 5.8]]).T\n",
    "print(f'{y.shape=}')\n",
    "print(f'{y=}')\n",
    "y_pred=linear(X)\n",
    "print(f'{y_pred=}')\n",
    "lss = linear(X) - y\n",
    "print(f'{lss=}')\n",
    "print(f'{X=}')\n",
    "print(f'{X * lss=}')\n",
    "coef = 1.0 / len(X)\n",
    "dl_W = coef * np.sum(X * lss, axis=0)\n",
    "print(f'{dl_W=}')\n",
    "dl_b = coef * np.sum(lss, axis=0)\n",
    "print(f'{dl_b=}')"
   ]
  },
  {
   "cell_type": "markdown",
   "id": "broadband-beast",
   "metadata": {
    "slideshow": {
     "slide_type": "slide"
    }
   },
   "source": [
    "Broiadcasting in NumPy arrays which means for array: \n",
    "<br>\n",
    "```python\n",
    "X = np.array([5, 15, 25, 35, 45, 55])\n",
    "W*X = np.array([W*5, W*15, W*25, W*35, W*45, W*55])\n",
    "``` \n",
    "Standard vector scalar multiplication"
   ]
  },
  {
   "cell_type": "code",
   "execution_count": 8,
   "id": "creative-freeze",
   "metadata": {
    "slideshow": {
     "slide_type": "slide"
    }
   },
   "outputs": [],
   "source": [
    "class Trainer(object):\n",
    "    \"\"\"Linear regression model\"\"\"\n",
    "    \n",
    "    def __init__(self, model: callable, lr:float=0.001, n_iters:int=10, tl:int=10):\n",
    "        self.model = model\n",
    "        self.lr = lr\n",
    "        self.n_iters = n_iters\n",
    "        self.tl = tl\n",
    "\n",
    "    def fit(self, X:np.ndarray, y:np.ndarray):\n",
    "        cs = list()\n",
    "        for i in range(self.n_iters):\n",
    "            c = self.model.cost(X, y)\n",
    "            cs.append(c)\n",
    "            d_W, d_b = self.model.gradient(X, y)\n",
    "            self.model.update(self.lr)\n",
    "            if i % self.tl == 0:\n",
    "                print(f'Gradients {self.model.grad_W=}, {self.model.grad_b=}')\n",
    "                print(f'Interation {i} cost = {c}')\n",
    "        self.y_preds = self.model(X)\n",
    "        print(f'Iteration {i}: {W=} {b=}')\n",
    "\n",
    "        return cs, self.y_preds\n",
    "    \n",
    "    def validate(self, X:np.ndarray, y:np.ndarray, mtype='classifier') -> float:\n",
    "        y_pred = self.model(X)\n",
    "        score = float(sum(y_pred == y)) / float(len(y))\n",
    "        \n",
    "        return score"
   ]
  },
  {
   "cell_type": "markdown",
   "id": "incorporate-realtor",
   "metadata": {
    "slideshow": {
     "slide_type": "slide"
    }
   },
   "source": [
    "## Prepare data"
   ]
  },
  {
   "cell_type": "code",
   "execution_count": 9,
   "id": "immune-arrest",
   "metadata": {
    "slideshow": {
     "slide_type": "slide"
    }
   },
   "outputs": [],
   "source": [
    "from sklearn.datasets import load_iris"
   ]
  },
  {
   "cell_type": "code",
   "execution_count": 10,
   "id": "anonymous-architect",
   "metadata": {
    "slideshow": {
     "slide_type": "slide"
    }
   },
   "outputs": [
    {
     "data": {
      "text/plain": [
       "{'data': array([[5.1, 3.5, 1.4, 0.2],\n",
       "        [4.9, 3. , 1.4, 0.2],\n",
       "        [4.7, 3.2, 1.3, 0.2],\n",
       "        [4.6, 3.1, 1.5, 0.2],\n",
       "        [5. , 3.6, 1.4, 0.2],\n",
       "        [5.4, 3.9, 1.7, 0.4],\n",
       "        [4.6, 3.4, 1.4, 0.3],\n",
       "        [5. , 3.4, 1.5, 0.2],\n",
       "        [4.4, 2.9, 1.4, 0.2],\n",
       "        [4.9, 3.1, 1.5, 0.1],\n",
       "        [5.4, 3.7, 1.5, 0.2],\n",
       "        [4.8, 3.4, 1.6, 0.2],\n",
       "        [4.8, 3. , 1.4, 0.1],\n",
       "        [4.3, 3. , 1.1, 0.1],\n",
       "        [5.8, 4. , 1.2, 0.2],\n",
       "        [5.7, 4.4, 1.5, 0.4],\n",
       "        [5.4, 3.9, 1.3, 0.4],\n",
       "        [5.1, 3.5, 1.4, 0.3],\n",
       "        [5.7, 3.8, 1.7, 0.3],\n",
       "        [5.1, 3.8, 1.5, 0.3],\n",
       "        [5.4, 3.4, 1.7, 0.2],\n",
       "        [5.1, 3.7, 1.5, 0.4],\n",
       "        [4.6, 3.6, 1. , 0.2],\n",
       "        [5.1, 3.3, 1.7, 0.5],\n",
       "        [4.8, 3.4, 1.9, 0.2],\n",
       "        [5. , 3. , 1.6, 0.2],\n",
       "        [5. , 3.4, 1.6, 0.4],\n",
       "        [5.2, 3.5, 1.5, 0.2],\n",
       "        [5.2, 3.4, 1.4, 0.2],\n",
       "        [4.7, 3.2, 1.6, 0.2],\n",
       "        [4.8, 3.1, 1.6, 0.2],\n",
       "        [5.4, 3.4, 1.5, 0.4],\n",
       "        [5.2, 4.1, 1.5, 0.1],\n",
       "        [5.5, 4.2, 1.4, 0.2],\n",
       "        [4.9, 3.1, 1.5, 0.2],\n",
       "        [5. , 3.2, 1.2, 0.2],\n",
       "        [5.5, 3.5, 1.3, 0.2],\n",
       "        [4.9, 3.6, 1.4, 0.1],\n",
       "        [4.4, 3. , 1.3, 0.2],\n",
       "        [5.1, 3.4, 1.5, 0.2],\n",
       "        [5. , 3.5, 1.3, 0.3],\n",
       "        [4.5, 2.3, 1.3, 0.3],\n",
       "        [4.4, 3.2, 1.3, 0.2],\n",
       "        [5. , 3.5, 1.6, 0.6],\n",
       "        [5.1, 3.8, 1.9, 0.4],\n",
       "        [4.8, 3. , 1.4, 0.3],\n",
       "        [5.1, 3.8, 1.6, 0.2],\n",
       "        [4.6, 3.2, 1.4, 0.2],\n",
       "        [5.3, 3.7, 1.5, 0.2],\n",
       "        [5. , 3.3, 1.4, 0.2],\n",
       "        [7. , 3.2, 4.7, 1.4],\n",
       "        [6.4, 3.2, 4.5, 1.5],\n",
       "        [6.9, 3.1, 4.9, 1.5],\n",
       "        [5.5, 2.3, 4. , 1.3],\n",
       "        [6.5, 2.8, 4.6, 1.5],\n",
       "        [5.7, 2.8, 4.5, 1.3],\n",
       "        [6.3, 3.3, 4.7, 1.6],\n",
       "        [4.9, 2.4, 3.3, 1. ],\n",
       "        [6.6, 2.9, 4.6, 1.3],\n",
       "        [5.2, 2.7, 3.9, 1.4],\n",
       "        [5. , 2. , 3.5, 1. ],\n",
       "        [5.9, 3. , 4.2, 1.5],\n",
       "        [6. , 2.2, 4. , 1. ],\n",
       "        [6.1, 2.9, 4.7, 1.4],\n",
       "        [5.6, 2.9, 3.6, 1.3],\n",
       "        [6.7, 3.1, 4.4, 1.4],\n",
       "        [5.6, 3. , 4.5, 1.5],\n",
       "        [5.8, 2.7, 4.1, 1. ],\n",
       "        [6.2, 2.2, 4.5, 1.5],\n",
       "        [5.6, 2.5, 3.9, 1.1],\n",
       "        [5.9, 3.2, 4.8, 1.8],\n",
       "        [6.1, 2.8, 4. , 1.3],\n",
       "        [6.3, 2.5, 4.9, 1.5],\n",
       "        [6.1, 2.8, 4.7, 1.2],\n",
       "        [6.4, 2.9, 4.3, 1.3],\n",
       "        [6.6, 3. , 4.4, 1.4],\n",
       "        [6.8, 2.8, 4.8, 1.4],\n",
       "        [6.7, 3. , 5. , 1.7],\n",
       "        [6. , 2.9, 4.5, 1.5],\n",
       "        [5.7, 2.6, 3.5, 1. ],\n",
       "        [5.5, 2.4, 3.8, 1.1],\n",
       "        [5.5, 2.4, 3.7, 1. ],\n",
       "        [5.8, 2.7, 3.9, 1.2],\n",
       "        [6. , 2.7, 5.1, 1.6],\n",
       "        [5.4, 3. , 4.5, 1.5],\n",
       "        [6. , 3.4, 4.5, 1.6],\n",
       "        [6.7, 3.1, 4.7, 1.5],\n",
       "        [6.3, 2.3, 4.4, 1.3],\n",
       "        [5.6, 3. , 4.1, 1.3],\n",
       "        [5.5, 2.5, 4. , 1.3],\n",
       "        [5.5, 2.6, 4.4, 1.2],\n",
       "        [6.1, 3. , 4.6, 1.4],\n",
       "        [5.8, 2.6, 4. , 1.2],\n",
       "        [5. , 2.3, 3.3, 1. ],\n",
       "        [5.6, 2.7, 4.2, 1.3],\n",
       "        [5.7, 3. , 4.2, 1.2],\n",
       "        [5.7, 2.9, 4.2, 1.3],\n",
       "        [6.2, 2.9, 4.3, 1.3],\n",
       "        [5.1, 2.5, 3. , 1.1],\n",
       "        [5.7, 2.8, 4.1, 1.3],\n",
       "        [6.3, 3.3, 6. , 2.5],\n",
       "        [5.8, 2.7, 5.1, 1.9],\n",
       "        [7.1, 3. , 5.9, 2.1],\n",
       "        [6.3, 2.9, 5.6, 1.8],\n",
       "        [6.5, 3. , 5.8, 2.2],\n",
       "        [7.6, 3. , 6.6, 2.1],\n",
       "        [4.9, 2.5, 4.5, 1.7],\n",
       "        [7.3, 2.9, 6.3, 1.8],\n",
       "        [6.7, 2.5, 5.8, 1.8],\n",
       "        [7.2, 3.6, 6.1, 2.5],\n",
       "        [6.5, 3.2, 5.1, 2. ],\n",
       "        [6.4, 2.7, 5.3, 1.9],\n",
       "        [6.8, 3. , 5.5, 2.1],\n",
       "        [5.7, 2.5, 5. , 2. ],\n",
       "        [5.8, 2.8, 5.1, 2.4],\n",
       "        [6.4, 3.2, 5.3, 2.3],\n",
       "        [6.5, 3. , 5.5, 1.8],\n",
       "        [7.7, 3.8, 6.7, 2.2],\n",
       "        [7.7, 2.6, 6.9, 2.3],\n",
       "        [6. , 2.2, 5. , 1.5],\n",
       "        [6.9, 3.2, 5.7, 2.3],\n",
       "        [5.6, 2.8, 4.9, 2. ],\n",
       "        [7.7, 2.8, 6.7, 2. ],\n",
       "        [6.3, 2.7, 4.9, 1.8],\n",
       "        [6.7, 3.3, 5.7, 2.1],\n",
       "        [7.2, 3.2, 6. , 1.8],\n",
       "        [6.2, 2.8, 4.8, 1.8],\n",
       "        [6.1, 3. , 4.9, 1.8],\n",
       "        [6.4, 2.8, 5.6, 2.1],\n",
       "        [7.2, 3. , 5.8, 1.6],\n",
       "        [7.4, 2.8, 6.1, 1.9],\n",
       "        [7.9, 3.8, 6.4, 2. ],\n",
       "        [6.4, 2.8, 5.6, 2.2],\n",
       "        [6.3, 2.8, 5.1, 1.5],\n",
       "        [6.1, 2.6, 5.6, 1.4],\n",
       "        [7.7, 3. , 6.1, 2.3],\n",
       "        [6.3, 3.4, 5.6, 2.4],\n",
       "        [6.4, 3.1, 5.5, 1.8],\n",
       "        [6. , 3. , 4.8, 1.8],\n",
       "        [6.9, 3.1, 5.4, 2.1],\n",
       "        [6.7, 3.1, 5.6, 2.4],\n",
       "        [6.9, 3.1, 5.1, 2.3],\n",
       "        [5.8, 2.7, 5.1, 1.9],\n",
       "        [6.8, 3.2, 5.9, 2.3],\n",
       "        [6.7, 3.3, 5.7, 2.5],\n",
       "        [6.7, 3. , 5.2, 2.3],\n",
       "        [6.3, 2.5, 5. , 1.9],\n",
       "        [6.5, 3. , 5.2, 2. ],\n",
       "        [6.2, 3.4, 5.4, 2.3],\n",
       "        [5.9, 3. , 5.1, 1.8]]),\n",
       " 'target': array([0, 0, 0, 0, 0, 0, 0, 0, 0, 0, 0, 0, 0, 0, 0, 0, 0, 0, 0, 0, 0, 0,\n",
       "        0, 0, 0, 0, 0, 0, 0, 0, 0, 0, 0, 0, 0, 0, 0, 0, 0, 0, 0, 0, 0, 0,\n",
       "        0, 0, 0, 0, 0, 0, 1, 1, 1, 1, 1, 1, 1, 1, 1, 1, 1, 1, 1, 1, 1, 1,\n",
       "        1, 1, 1, 1, 1, 1, 1, 1, 1, 1, 1, 1, 1, 1, 1, 1, 1, 1, 1, 1, 1, 1,\n",
       "        1, 1, 1, 1, 1, 1, 1, 1, 1, 1, 1, 1, 2, 2, 2, 2, 2, 2, 2, 2, 2, 2,\n",
       "        2, 2, 2, 2, 2, 2, 2, 2, 2, 2, 2, 2, 2, 2, 2, 2, 2, 2, 2, 2, 2, 2,\n",
       "        2, 2, 2, 2, 2, 2, 2, 2, 2, 2, 2, 2, 2, 2, 2, 2, 2, 2]),\n",
       " 'frame': None,\n",
       " 'target_names': array(['setosa', 'versicolor', 'virginica'], dtype='<U10'),\n",
       " 'DESCR': '.. _iris_dataset:\\n\\nIris plants dataset\\n--------------------\\n\\n**Data Set Characteristics:**\\n\\n    :Number of Instances: 150 (50 in each of three classes)\\n    :Number of Attributes: 4 numeric, predictive attributes and the class\\n    :Attribute Information:\\n        - sepal length in cm\\n        - sepal width in cm\\n        - petal length in cm\\n        - petal width in cm\\n        - class:\\n                - Iris-Setosa\\n                - Iris-Versicolour\\n                - Iris-Virginica\\n                \\n    :Summary Statistics:\\n\\n    ============== ==== ==== ======= ===== ====================\\n                    Min  Max   Mean    SD   Class Correlation\\n    ============== ==== ==== ======= ===== ====================\\n    sepal length:   4.3  7.9   5.84   0.83    0.7826\\n    sepal width:    2.0  4.4   3.05   0.43   -0.4194\\n    petal length:   1.0  6.9   3.76   1.76    0.9490  (high!)\\n    petal width:    0.1  2.5   1.20   0.76    0.9565  (high!)\\n    ============== ==== ==== ======= ===== ====================\\n\\n    :Missing Attribute Values: None\\n    :Class Distribution: 33.3% for each of 3 classes.\\n    :Creator: R.A. Fisher\\n    :Donor: Michael Marshall (MARSHALL%PLU@io.arc.nasa.gov)\\n    :Date: July, 1988\\n\\nThe famous Iris database, first used by Sir R.A. Fisher. The dataset is taken\\nfrom Fisher\\'s paper. Note that it\\'s the same as in R, but not as in the UCI\\nMachine Learning Repository, which has two wrong data points.\\n\\nThis is perhaps the best known database to be found in the\\npattern recognition literature.  Fisher\\'s paper is a classic in the field and\\nis referenced frequently to this day.  (See Duda & Hart, for example.)  The\\ndata set contains 3 classes of 50 instances each, where each class refers to a\\ntype of iris plant.  One class is linearly separable from the other 2; the\\nlatter are NOT linearly separable from each other.\\n\\n.. topic:: References\\n\\n   - Fisher, R.A. \"The use of multiple measurements in taxonomic problems\"\\n     Annual Eugenics, 7, Part II, 179-188 (1936); also in \"Contributions to\\n     Mathematical Statistics\" (John Wiley, NY, 1950).\\n   - Duda, R.O., & Hart, P.E. (1973) Pattern Classification and Scene Analysis.\\n     (Q327.D83) John Wiley & Sons.  ISBN 0-471-22361-1.  See page 218.\\n   - Dasarathy, B.V. (1980) \"Nosing Around the Neighborhood: A New System\\n     Structure and Classification Rule for Recognition in Partially Exposed\\n     Environments\".  IEEE Transactions on Pattern Analysis and Machine\\n     Intelligence, Vol. PAMI-2, No. 1, 67-71.\\n   - Gates, G.W. (1972) \"The Reduced Nearest Neighbor Rule\".  IEEE Transactions\\n     on Information Theory, May 1972, 431-433.\\n   - See also: 1988 MLC Proceedings, 54-64.  Cheeseman et al\"s AUTOCLASS II\\n     conceptual clustering system finds 3 classes in the data.\\n   - Many, many more ...',\n",
       " 'feature_names': ['sepal length (cm)',\n",
       "  'sepal width (cm)',\n",
       "  'petal length (cm)',\n",
       "  'petal width (cm)'],\n",
       " 'filename': '/Users/levan/anaconda3/envs/edu/lib/python3.9/site-packages/sklearn/datasets/data/iris.csv'}"
      ]
     },
     "execution_count": 10,
     "metadata": {},
     "output_type": "execute_result"
    }
   ],
   "source": [
    "iris = load_iris()\n",
    "iris"
   ]
  },
  {
   "cell_type": "code",
   "execution_count": 11,
   "id": "documentary-classification",
   "metadata": {
    "slideshow": {
     "slide_type": "slide"
    }
   },
   "outputs": [
    {
     "name": "stdout",
     "output_type": "stream",
     "text": [
      "X.shape=(150, 4), y.shape=(150,)\n",
      "X.shape=(150, 4), y.shape=(150, 1)\n"
     ]
    }
   ],
   "source": [
    "X = iris['data']\n",
    "y = iris['target']\n",
    "print(f'{X.shape=}, {y.shape=}')\n",
    "y = np.expand_dims(y, axis=1) if len(y.shape) < 2 else y\n",
    "print(f'{X.shape=}, {y.shape=}')"
   ]
  },
  {
   "cell_type": "markdown",
   "id": "nuclear-cache",
   "metadata": {
    "slideshow": {
     "slide_type": "slide"
    }
   },
   "source": [
    "#### Load as DataFrame in order to make it more understagable"
   ]
  },
  {
   "cell_type": "code",
   "execution_count": 12,
   "id": "considered-reasoning",
   "metadata": {
    "slideshow": {
     "slide_type": "slide"
    }
   },
   "outputs": [
    {
     "data": {
      "text/html": [
       "<div>\n",
       "<style scoped>\n",
       "    .dataframe tbody tr th:only-of-type {\n",
       "        vertical-align: middle;\n",
       "    }\n",
       "\n",
       "    .dataframe tbody tr th {\n",
       "        vertical-align: top;\n",
       "    }\n",
       "\n",
       "    .dataframe thead th {\n",
       "        text-align: right;\n",
       "    }\n",
       "</style>\n",
       "<table border=\"1\" class=\"dataframe\">\n",
       "  <thead>\n",
       "    <tr style=\"text-align: right;\">\n",
       "      <th></th>\n",
       "      <th>sepal length (cm)</th>\n",
       "      <th>sepal width (cm)</th>\n",
       "      <th>petal length (cm)</th>\n",
       "      <th>petal width (cm)</th>\n",
       "      <th>species</th>\n",
       "    </tr>\n",
       "  </thead>\n",
       "  <tbody>\n",
       "    <tr>\n",
       "      <th>0</th>\n",
       "      <td>5.1</td>\n",
       "      <td>3.5</td>\n",
       "      <td>1.4</td>\n",
       "      <td>0.2</td>\n",
       "      <td>setosa</td>\n",
       "    </tr>\n",
       "    <tr>\n",
       "      <th>1</th>\n",
       "      <td>4.9</td>\n",
       "      <td>3.0</td>\n",
       "      <td>1.4</td>\n",
       "      <td>0.2</td>\n",
       "      <td>setosa</td>\n",
       "    </tr>\n",
       "    <tr>\n",
       "      <th>2</th>\n",
       "      <td>4.7</td>\n",
       "      <td>3.2</td>\n",
       "      <td>1.3</td>\n",
       "      <td>0.2</td>\n",
       "      <td>setosa</td>\n",
       "    </tr>\n",
       "    <tr>\n",
       "      <th>3</th>\n",
       "      <td>4.6</td>\n",
       "      <td>3.1</td>\n",
       "      <td>1.5</td>\n",
       "      <td>0.2</td>\n",
       "      <td>setosa</td>\n",
       "    </tr>\n",
       "    <tr>\n",
       "      <th>4</th>\n",
       "      <td>5.0</td>\n",
       "      <td>3.6</td>\n",
       "      <td>1.4</td>\n",
       "      <td>0.2</td>\n",
       "      <td>setosa</td>\n",
       "    </tr>\n",
       "    <tr>\n",
       "      <th>...</th>\n",
       "      <td>...</td>\n",
       "      <td>...</td>\n",
       "      <td>...</td>\n",
       "      <td>...</td>\n",
       "      <td>...</td>\n",
       "    </tr>\n",
       "    <tr>\n",
       "      <th>81</th>\n",
       "      <td>5.5</td>\n",
       "      <td>2.4</td>\n",
       "      <td>3.7</td>\n",
       "      <td>1.0</td>\n",
       "      <td>versicolor</td>\n",
       "    </tr>\n",
       "    <tr>\n",
       "      <th>82</th>\n",
       "      <td>5.8</td>\n",
       "      <td>2.7</td>\n",
       "      <td>3.9</td>\n",
       "      <td>1.2</td>\n",
       "      <td>versicolor</td>\n",
       "    </tr>\n",
       "    <tr>\n",
       "      <th>83</th>\n",
       "      <td>6.0</td>\n",
       "      <td>2.7</td>\n",
       "      <td>5.1</td>\n",
       "      <td>1.6</td>\n",
       "      <td>versicolor</td>\n",
       "    </tr>\n",
       "    <tr>\n",
       "      <th>84</th>\n",
       "      <td>5.4</td>\n",
       "      <td>3.0</td>\n",
       "      <td>4.5</td>\n",
       "      <td>1.5</td>\n",
       "      <td>versicolor</td>\n",
       "    </tr>\n",
       "    <tr>\n",
       "      <th>85</th>\n",
       "      <td>6.0</td>\n",
       "      <td>3.4</td>\n",
       "      <td>4.5</td>\n",
       "      <td>1.6</td>\n",
       "      <td>versicolor</td>\n",
       "    </tr>\n",
       "  </tbody>\n",
       "</table>\n",
       "<p>86 rows × 5 columns</p>\n",
       "</div>"
      ],
      "text/plain": [
       "    sepal length (cm)  sepal width (cm)  petal length (cm)  petal width (cm)  \\\n",
       "0                 5.1               3.5                1.4               0.2   \n",
       "1                 4.9               3.0                1.4               0.2   \n",
       "2                 4.7               3.2                1.3               0.2   \n",
       "3                 4.6               3.1                1.5               0.2   \n",
       "4                 5.0               3.6                1.4               0.2   \n",
       "..                ...               ...                ...               ...   \n",
       "81                5.5               2.4                3.7               1.0   \n",
       "82                5.8               2.7                3.9               1.2   \n",
       "83                6.0               2.7                5.1               1.6   \n",
       "84                5.4               3.0                4.5               1.5   \n",
       "85                6.0               3.4                4.5               1.6   \n",
       "\n",
       "       species  \n",
       "0       setosa  \n",
       "1       setosa  \n",
       "2       setosa  \n",
       "3       setosa  \n",
       "4       setosa  \n",
       "..         ...  \n",
       "81  versicolor  \n",
       "82  versicolor  \n",
       "83  versicolor  \n",
       "84  versicolor  \n",
       "85  versicolor  \n",
       "\n",
       "[86 rows x 5 columns]"
      ]
     },
     "execution_count": 12,
     "metadata": {},
     "output_type": "execute_result"
    }
   ],
   "source": [
    "iris_df = pd.DataFrame(data= iris.data, columns= iris.feature_names)\n",
    "target_df = pd.DataFrame(data= iris.target, columns= ['species'])\n",
    "def converter(specie):\n",
    "    if specie == 0:\n",
    "        return 'setosa'\n",
    "    elif specie == 1:\n",
    "        return 'versicolor'\n",
    "    else:\n",
    "        return 'virginica'\n",
    "target_df['species'] = target_df['species'].apply(converter)\n",
    "# Concatenate the DataFrames\n",
    "iris_df = pd.concat([iris_df, target_df], axis= 1)\n",
    "iris_df.head(86)"
   ]
  },
  {
   "cell_type": "code",
   "execution_count": 13,
   "id": "august-findings",
   "metadata": {
    "slideshow": {
     "slide_type": "slide"
    }
   },
   "outputs": [
    {
     "data": {
      "text/html": [
       "<div>\n",
       "<style scoped>\n",
       "    .dataframe tbody tr th:only-of-type {\n",
       "        vertical-align: middle;\n",
       "    }\n",
       "\n",
       "    .dataframe tbody tr th {\n",
       "        vertical-align: top;\n",
       "    }\n",
       "\n",
       "    .dataframe thead th {\n",
       "        text-align: right;\n",
       "    }\n",
       "</style>\n",
       "<table border=\"1\" class=\"dataframe\">\n",
       "  <thead>\n",
       "    <tr style=\"text-align: right;\">\n",
       "      <th></th>\n",
       "      <th>sepal length (cm)</th>\n",
       "      <th>sepal width (cm)</th>\n",
       "      <th>petal length (cm)</th>\n",
       "      <th>petal width (cm)</th>\n",
       "      <th>species</th>\n",
       "    </tr>\n",
       "  </thead>\n",
       "  <tbody>\n",
       "    <tr>\n",
       "      <th>0</th>\n",
       "      <td>5.1</td>\n",
       "      <td>3.5</td>\n",
       "      <td>1.4</td>\n",
       "      <td>0.2</td>\n",
       "      <td>setosa</td>\n",
       "    </tr>\n",
       "    <tr>\n",
       "      <th>1</th>\n",
       "      <td>4.9</td>\n",
       "      <td>3.0</td>\n",
       "      <td>1.4</td>\n",
       "      <td>0.2</td>\n",
       "      <td>setosa</td>\n",
       "    </tr>\n",
       "    <tr>\n",
       "      <th>2</th>\n",
       "      <td>4.7</td>\n",
       "      <td>3.2</td>\n",
       "      <td>1.3</td>\n",
       "      <td>0.2</td>\n",
       "      <td>setosa</td>\n",
       "    </tr>\n",
       "    <tr>\n",
       "      <th>3</th>\n",
       "      <td>4.6</td>\n",
       "      <td>3.1</td>\n",
       "      <td>1.5</td>\n",
       "      <td>0.2</td>\n",
       "      <td>setosa</td>\n",
       "    </tr>\n",
       "    <tr>\n",
       "      <th>4</th>\n",
       "      <td>5.0</td>\n",
       "      <td>3.6</td>\n",
       "      <td>1.4</td>\n",
       "      <td>0.2</td>\n",
       "      <td>setosa</td>\n",
       "    </tr>\n",
       "    <tr>\n",
       "      <th>5</th>\n",
       "      <td>5.4</td>\n",
       "      <td>3.9</td>\n",
       "      <td>1.7</td>\n",
       "      <td>0.4</td>\n",
       "      <td>setosa</td>\n",
       "    </tr>\n",
       "    <tr>\n",
       "      <th>6</th>\n",
       "      <td>4.6</td>\n",
       "      <td>3.4</td>\n",
       "      <td>1.4</td>\n",
       "      <td>0.3</td>\n",
       "      <td>setosa</td>\n",
       "    </tr>\n",
       "    <tr>\n",
       "      <th>7</th>\n",
       "      <td>5.0</td>\n",
       "      <td>3.4</td>\n",
       "      <td>1.5</td>\n",
       "      <td>0.2</td>\n",
       "      <td>setosa</td>\n",
       "    </tr>\n",
       "    <tr>\n",
       "      <th>8</th>\n",
       "      <td>4.4</td>\n",
       "      <td>2.9</td>\n",
       "      <td>1.4</td>\n",
       "      <td>0.2</td>\n",
       "      <td>setosa</td>\n",
       "    </tr>\n",
       "    <tr>\n",
       "      <th>9</th>\n",
       "      <td>4.9</td>\n",
       "      <td>3.1</td>\n",
       "      <td>1.5</td>\n",
       "      <td>0.1</td>\n",
       "      <td>setosa</td>\n",
       "    </tr>\n",
       "    <tr>\n",
       "      <th>10</th>\n",
       "      <td>5.4</td>\n",
       "      <td>3.7</td>\n",
       "      <td>1.5</td>\n",
       "      <td>0.2</td>\n",
       "      <td>setosa</td>\n",
       "    </tr>\n",
       "    <tr>\n",
       "      <th>11</th>\n",
       "      <td>4.8</td>\n",
       "      <td>3.4</td>\n",
       "      <td>1.6</td>\n",
       "      <td>0.2</td>\n",
       "      <td>setosa</td>\n",
       "    </tr>\n",
       "    <tr>\n",
       "      <th>12</th>\n",
       "      <td>4.8</td>\n",
       "      <td>3.0</td>\n",
       "      <td>1.4</td>\n",
       "      <td>0.1</td>\n",
       "      <td>setosa</td>\n",
       "    </tr>\n",
       "    <tr>\n",
       "      <th>13</th>\n",
       "      <td>4.3</td>\n",
       "      <td>3.0</td>\n",
       "      <td>1.1</td>\n",
       "      <td>0.1</td>\n",
       "      <td>setosa</td>\n",
       "    </tr>\n",
       "    <tr>\n",
       "      <th>14</th>\n",
       "      <td>5.8</td>\n",
       "      <td>4.0</td>\n",
       "      <td>1.2</td>\n",
       "      <td>0.2</td>\n",
       "      <td>setosa</td>\n",
       "    </tr>\n",
       "    <tr>\n",
       "      <th>15</th>\n",
       "      <td>5.7</td>\n",
       "      <td>4.4</td>\n",
       "      <td>1.5</td>\n",
       "      <td>0.4</td>\n",
       "      <td>setosa</td>\n",
       "    </tr>\n",
       "    <tr>\n",
       "      <th>16</th>\n",
       "      <td>5.4</td>\n",
       "      <td>3.9</td>\n",
       "      <td>1.3</td>\n",
       "      <td>0.4</td>\n",
       "      <td>setosa</td>\n",
       "    </tr>\n",
       "    <tr>\n",
       "      <th>17</th>\n",
       "      <td>5.1</td>\n",
       "      <td>3.5</td>\n",
       "      <td>1.4</td>\n",
       "      <td>0.3</td>\n",
       "      <td>setosa</td>\n",
       "    </tr>\n",
       "    <tr>\n",
       "      <th>18</th>\n",
       "      <td>5.7</td>\n",
       "      <td>3.8</td>\n",
       "      <td>1.7</td>\n",
       "      <td>0.3</td>\n",
       "      <td>setosa</td>\n",
       "    </tr>\n",
       "    <tr>\n",
       "      <th>19</th>\n",
       "      <td>5.1</td>\n",
       "      <td>3.8</td>\n",
       "      <td>1.5</td>\n",
       "      <td>0.3</td>\n",
       "      <td>setosa</td>\n",
       "    </tr>\n",
       "    <tr>\n",
       "      <th>20</th>\n",
       "      <td>5.4</td>\n",
       "      <td>3.4</td>\n",
       "      <td>1.7</td>\n",
       "      <td>0.2</td>\n",
       "      <td>setosa</td>\n",
       "    </tr>\n",
       "    <tr>\n",
       "      <th>21</th>\n",
       "      <td>5.1</td>\n",
       "      <td>3.7</td>\n",
       "      <td>1.5</td>\n",
       "      <td>0.4</td>\n",
       "      <td>setosa</td>\n",
       "    </tr>\n",
       "    <tr>\n",
       "      <th>22</th>\n",
       "      <td>4.6</td>\n",
       "      <td>3.6</td>\n",
       "      <td>1.0</td>\n",
       "      <td>0.2</td>\n",
       "      <td>setosa</td>\n",
       "    </tr>\n",
       "    <tr>\n",
       "      <th>23</th>\n",
       "      <td>5.1</td>\n",
       "      <td>3.3</td>\n",
       "      <td>1.7</td>\n",
       "      <td>0.5</td>\n",
       "      <td>setosa</td>\n",
       "    </tr>\n",
       "    <tr>\n",
       "      <th>24</th>\n",
       "      <td>4.8</td>\n",
       "      <td>3.4</td>\n",
       "      <td>1.9</td>\n",
       "      <td>0.2</td>\n",
       "      <td>setosa</td>\n",
       "    </tr>\n",
       "    <tr>\n",
       "      <th>25</th>\n",
       "      <td>5.0</td>\n",
       "      <td>3.0</td>\n",
       "      <td>1.6</td>\n",
       "      <td>0.2</td>\n",
       "      <td>setosa</td>\n",
       "    </tr>\n",
       "    <tr>\n",
       "      <th>26</th>\n",
       "      <td>5.0</td>\n",
       "      <td>3.4</td>\n",
       "      <td>1.6</td>\n",
       "      <td>0.4</td>\n",
       "      <td>setosa</td>\n",
       "    </tr>\n",
       "    <tr>\n",
       "      <th>27</th>\n",
       "      <td>5.2</td>\n",
       "      <td>3.5</td>\n",
       "      <td>1.5</td>\n",
       "      <td>0.2</td>\n",
       "      <td>setosa</td>\n",
       "    </tr>\n",
       "    <tr>\n",
       "      <th>28</th>\n",
       "      <td>5.2</td>\n",
       "      <td>3.4</td>\n",
       "      <td>1.4</td>\n",
       "      <td>0.2</td>\n",
       "      <td>setosa</td>\n",
       "    </tr>\n",
       "    <tr>\n",
       "      <th>29</th>\n",
       "      <td>4.7</td>\n",
       "      <td>3.2</td>\n",
       "      <td>1.6</td>\n",
       "      <td>0.2</td>\n",
       "      <td>setosa</td>\n",
       "    </tr>\n",
       "    <tr>\n",
       "      <th>30</th>\n",
       "      <td>4.8</td>\n",
       "      <td>3.1</td>\n",
       "      <td>1.6</td>\n",
       "      <td>0.2</td>\n",
       "      <td>setosa</td>\n",
       "    </tr>\n",
       "    <tr>\n",
       "      <th>31</th>\n",
       "      <td>5.4</td>\n",
       "      <td>3.4</td>\n",
       "      <td>1.5</td>\n",
       "      <td>0.4</td>\n",
       "      <td>setosa</td>\n",
       "    </tr>\n",
       "    <tr>\n",
       "      <th>32</th>\n",
       "      <td>5.2</td>\n",
       "      <td>4.1</td>\n",
       "      <td>1.5</td>\n",
       "      <td>0.1</td>\n",
       "      <td>setosa</td>\n",
       "    </tr>\n",
       "    <tr>\n",
       "      <th>33</th>\n",
       "      <td>5.5</td>\n",
       "      <td>4.2</td>\n",
       "      <td>1.4</td>\n",
       "      <td>0.2</td>\n",
       "      <td>setosa</td>\n",
       "    </tr>\n",
       "    <tr>\n",
       "      <th>34</th>\n",
       "      <td>4.9</td>\n",
       "      <td>3.1</td>\n",
       "      <td>1.5</td>\n",
       "      <td>0.2</td>\n",
       "      <td>setosa</td>\n",
       "    </tr>\n",
       "    <tr>\n",
       "      <th>35</th>\n",
       "      <td>5.0</td>\n",
       "      <td>3.2</td>\n",
       "      <td>1.2</td>\n",
       "      <td>0.2</td>\n",
       "      <td>setosa</td>\n",
       "    </tr>\n",
       "    <tr>\n",
       "      <th>36</th>\n",
       "      <td>5.5</td>\n",
       "      <td>3.5</td>\n",
       "      <td>1.3</td>\n",
       "      <td>0.2</td>\n",
       "      <td>setosa</td>\n",
       "    </tr>\n",
       "    <tr>\n",
       "      <th>37</th>\n",
       "      <td>4.9</td>\n",
       "      <td>3.6</td>\n",
       "      <td>1.4</td>\n",
       "      <td>0.1</td>\n",
       "      <td>setosa</td>\n",
       "    </tr>\n",
       "    <tr>\n",
       "      <th>38</th>\n",
       "      <td>4.4</td>\n",
       "      <td>3.0</td>\n",
       "      <td>1.3</td>\n",
       "      <td>0.2</td>\n",
       "      <td>setosa</td>\n",
       "    </tr>\n",
       "    <tr>\n",
       "      <th>39</th>\n",
       "      <td>5.1</td>\n",
       "      <td>3.4</td>\n",
       "      <td>1.5</td>\n",
       "      <td>0.2</td>\n",
       "      <td>setosa</td>\n",
       "    </tr>\n",
       "    <tr>\n",
       "      <th>40</th>\n",
       "      <td>5.0</td>\n",
       "      <td>3.5</td>\n",
       "      <td>1.3</td>\n",
       "      <td>0.3</td>\n",
       "      <td>setosa</td>\n",
       "    </tr>\n",
       "    <tr>\n",
       "      <th>41</th>\n",
       "      <td>4.5</td>\n",
       "      <td>2.3</td>\n",
       "      <td>1.3</td>\n",
       "      <td>0.3</td>\n",
       "      <td>setosa</td>\n",
       "    </tr>\n",
       "    <tr>\n",
       "      <th>42</th>\n",
       "      <td>4.4</td>\n",
       "      <td>3.2</td>\n",
       "      <td>1.3</td>\n",
       "      <td>0.2</td>\n",
       "      <td>setosa</td>\n",
       "    </tr>\n",
       "    <tr>\n",
       "      <th>43</th>\n",
       "      <td>5.0</td>\n",
       "      <td>3.5</td>\n",
       "      <td>1.6</td>\n",
       "      <td>0.6</td>\n",
       "      <td>setosa</td>\n",
       "    </tr>\n",
       "    <tr>\n",
       "      <th>44</th>\n",
       "      <td>5.1</td>\n",
       "      <td>3.8</td>\n",
       "      <td>1.9</td>\n",
       "      <td>0.4</td>\n",
       "      <td>setosa</td>\n",
       "    </tr>\n",
       "    <tr>\n",
       "      <th>45</th>\n",
       "      <td>4.8</td>\n",
       "      <td>3.0</td>\n",
       "      <td>1.4</td>\n",
       "      <td>0.3</td>\n",
       "      <td>setosa</td>\n",
       "    </tr>\n",
       "    <tr>\n",
       "      <th>46</th>\n",
       "      <td>5.1</td>\n",
       "      <td>3.8</td>\n",
       "      <td>1.6</td>\n",
       "      <td>0.2</td>\n",
       "      <td>setosa</td>\n",
       "    </tr>\n",
       "    <tr>\n",
       "      <th>47</th>\n",
       "      <td>4.6</td>\n",
       "      <td>3.2</td>\n",
       "      <td>1.4</td>\n",
       "      <td>0.2</td>\n",
       "      <td>setosa</td>\n",
       "    </tr>\n",
       "    <tr>\n",
       "      <th>48</th>\n",
       "      <td>5.3</td>\n",
       "      <td>3.7</td>\n",
       "      <td>1.5</td>\n",
       "      <td>0.2</td>\n",
       "      <td>setosa</td>\n",
       "    </tr>\n",
       "    <tr>\n",
       "      <th>49</th>\n",
       "      <td>5.0</td>\n",
       "      <td>3.3</td>\n",
       "      <td>1.4</td>\n",
       "      <td>0.2</td>\n",
       "      <td>setosa</td>\n",
       "    </tr>\n",
       "    <tr>\n",
       "      <th>50</th>\n",
       "      <td>7.0</td>\n",
       "      <td>3.2</td>\n",
       "      <td>4.7</td>\n",
       "      <td>1.4</td>\n",
       "      <td>versicolor</td>\n",
       "    </tr>\n",
       "    <tr>\n",
       "      <th>51</th>\n",
       "      <td>6.4</td>\n",
       "      <td>3.2</td>\n",
       "      <td>4.5</td>\n",
       "      <td>1.5</td>\n",
       "      <td>versicolor</td>\n",
       "    </tr>\n",
       "    <tr>\n",
       "      <th>52</th>\n",
       "      <td>6.9</td>\n",
       "      <td>3.1</td>\n",
       "      <td>4.9</td>\n",
       "      <td>1.5</td>\n",
       "      <td>versicolor</td>\n",
       "    </tr>\n",
       "    <tr>\n",
       "      <th>53</th>\n",
       "      <td>5.5</td>\n",
       "      <td>2.3</td>\n",
       "      <td>4.0</td>\n",
       "      <td>1.3</td>\n",
       "      <td>versicolor</td>\n",
       "    </tr>\n",
       "    <tr>\n",
       "      <th>54</th>\n",
       "      <td>6.5</td>\n",
       "      <td>2.8</td>\n",
       "      <td>4.6</td>\n",
       "      <td>1.5</td>\n",
       "      <td>versicolor</td>\n",
       "    </tr>\n",
       "    <tr>\n",
       "      <th>55</th>\n",
       "      <td>5.7</td>\n",
       "      <td>2.8</td>\n",
       "      <td>4.5</td>\n",
       "      <td>1.3</td>\n",
       "      <td>versicolor</td>\n",
       "    </tr>\n",
       "    <tr>\n",
       "      <th>56</th>\n",
       "      <td>6.3</td>\n",
       "      <td>3.3</td>\n",
       "      <td>4.7</td>\n",
       "      <td>1.6</td>\n",
       "      <td>versicolor</td>\n",
       "    </tr>\n",
       "    <tr>\n",
       "      <th>57</th>\n",
       "      <td>4.9</td>\n",
       "      <td>2.4</td>\n",
       "      <td>3.3</td>\n",
       "      <td>1.0</td>\n",
       "      <td>versicolor</td>\n",
       "    </tr>\n",
       "    <tr>\n",
       "      <th>58</th>\n",
       "      <td>6.6</td>\n",
       "      <td>2.9</td>\n",
       "      <td>4.6</td>\n",
       "      <td>1.3</td>\n",
       "      <td>versicolor</td>\n",
       "    </tr>\n",
       "    <tr>\n",
       "      <th>59</th>\n",
       "      <td>5.2</td>\n",
       "      <td>2.7</td>\n",
       "      <td>3.9</td>\n",
       "      <td>1.4</td>\n",
       "      <td>versicolor</td>\n",
       "    </tr>\n",
       "  </tbody>\n",
       "</table>\n",
       "</div>"
      ],
      "text/plain": [
       "    sepal length (cm)  sepal width (cm)  petal length (cm)  petal width (cm)  \\\n",
       "0                 5.1               3.5                1.4               0.2   \n",
       "1                 4.9               3.0                1.4               0.2   \n",
       "2                 4.7               3.2                1.3               0.2   \n",
       "3                 4.6               3.1                1.5               0.2   \n",
       "4                 5.0               3.6                1.4               0.2   \n",
       "5                 5.4               3.9                1.7               0.4   \n",
       "6                 4.6               3.4                1.4               0.3   \n",
       "7                 5.0               3.4                1.5               0.2   \n",
       "8                 4.4               2.9                1.4               0.2   \n",
       "9                 4.9               3.1                1.5               0.1   \n",
       "10                5.4               3.7                1.5               0.2   \n",
       "11                4.8               3.4                1.6               0.2   \n",
       "12                4.8               3.0                1.4               0.1   \n",
       "13                4.3               3.0                1.1               0.1   \n",
       "14                5.8               4.0                1.2               0.2   \n",
       "15                5.7               4.4                1.5               0.4   \n",
       "16                5.4               3.9                1.3               0.4   \n",
       "17                5.1               3.5                1.4               0.3   \n",
       "18                5.7               3.8                1.7               0.3   \n",
       "19                5.1               3.8                1.5               0.3   \n",
       "20                5.4               3.4                1.7               0.2   \n",
       "21                5.1               3.7                1.5               0.4   \n",
       "22                4.6               3.6                1.0               0.2   \n",
       "23                5.1               3.3                1.7               0.5   \n",
       "24                4.8               3.4                1.9               0.2   \n",
       "25                5.0               3.0                1.6               0.2   \n",
       "26                5.0               3.4                1.6               0.4   \n",
       "27                5.2               3.5                1.5               0.2   \n",
       "28                5.2               3.4                1.4               0.2   \n",
       "29                4.7               3.2                1.6               0.2   \n",
       "30                4.8               3.1                1.6               0.2   \n",
       "31                5.4               3.4                1.5               0.4   \n",
       "32                5.2               4.1                1.5               0.1   \n",
       "33                5.5               4.2                1.4               0.2   \n",
       "34                4.9               3.1                1.5               0.2   \n",
       "35                5.0               3.2                1.2               0.2   \n",
       "36                5.5               3.5                1.3               0.2   \n",
       "37                4.9               3.6                1.4               0.1   \n",
       "38                4.4               3.0                1.3               0.2   \n",
       "39                5.1               3.4                1.5               0.2   \n",
       "40                5.0               3.5                1.3               0.3   \n",
       "41                4.5               2.3                1.3               0.3   \n",
       "42                4.4               3.2                1.3               0.2   \n",
       "43                5.0               3.5                1.6               0.6   \n",
       "44                5.1               3.8                1.9               0.4   \n",
       "45                4.8               3.0                1.4               0.3   \n",
       "46                5.1               3.8                1.6               0.2   \n",
       "47                4.6               3.2                1.4               0.2   \n",
       "48                5.3               3.7                1.5               0.2   \n",
       "49                5.0               3.3                1.4               0.2   \n",
       "50                7.0               3.2                4.7               1.4   \n",
       "51                6.4               3.2                4.5               1.5   \n",
       "52                6.9               3.1                4.9               1.5   \n",
       "53                5.5               2.3                4.0               1.3   \n",
       "54                6.5               2.8                4.6               1.5   \n",
       "55                5.7               2.8                4.5               1.3   \n",
       "56                6.3               3.3                4.7               1.6   \n",
       "57                4.9               2.4                3.3               1.0   \n",
       "58                6.6               2.9                4.6               1.3   \n",
       "59                5.2               2.7                3.9               1.4   \n",
       "\n",
       "       species  \n",
       "0       setosa  \n",
       "1       setosa  \n",
       "2       setosa  \n",
       "3       setosa  \n",
       "4       setosa  \n",
       "5       setosa  \n",
       "6       setosa  \n",
       "7       setosa  \n",
       "8       setosa  \n",
       "9       setosa  \n",
       "10      setosa  \n",
       "11      setosa  \n",
       "12      setosa  \n",
       "13      setosa  \n",
       "14      setosa  \n",
       "15      setosa  \n",
       "16      setosa  \n",
       "17      setosa  \n",
       "18      setosa  \n",
       "19      setosa  \n",
       "20      setosa  \n",
       "21      setosa  \n",
       "22      setosa  \n",
       "23      setosa  \n",
       "24      setosa  \n",
       "25      setosa  \n",
       "26      setosa  \n",
       "27      setosa  \n",
       "28      setosa  \n",
       "29      setosa  \n",
       "30      setosa  \n",
       "31      setosa  \n",
       "32      setosa  \n",
       "33      setosa  \n",
       "34      setosa  \n",
       "35      setosa  \n",
       "36      setosa  \n",
       "37      setosa  \n",
       "38      setosa  \n",
       "39      setosa  \n",
       "40      setosa  \n",
       "41      setosa  \n",
       "42      setosa  \n",
       "43      setosa  \n",
       "44      setosa  \n",
       "45      setosa  \n",
       "46      setosa  \n",
       "47      setosa  \n",
       "48      setosa  \n",
       "49      setosa  \n",
       "50  versicolor  \n",
       "51  versicolor  \n",
       "52  versicolor  \n",
       "53  versicolor  \n",
       "54  versicolor  \n",
       "55  versicolor  \n",
       "56  versicolor  \n",
       "57  versicolor  \n",
       "58  versicolor  \n",
       "59  versicolor  "
      ]
     },
     "execution_count": 13,
     "metadata": {},
     "output_type": "execute_result"
    }
   ],
   "source": [
    "iris_df.head(60)"
   ]
  },
  {
   "cell_type": "markdown",
   "id": "legitimate-popularity",
   "metadata": {
    "slideshow": {
     "slide_type": "slide"
    }
   },
   "source": [
    "## Train the linear model"
   ]
  },
  {
   "cell_type": "code",
   "execution_count": 15,
   "id": "catholic-cancer",
   "metadata": {
    "slideshow": {
     "slide_type": "slide"
    }
   },
   "outputs": [
    {
     "data": {
      "text/plain": [
       "(array([[0., 0., 0., 0.]]), 0.0)"
      ]
     },
     "execution_count": 15,
     "metadata": {},
     "output_type": "execute_result"
    }
   ],
   "source": [
    "W_init = np.zeros((1, 4))\n",
    "b_init = 0.0\n",
    "W_init, b_init"
   ]
  },
  {
   "cell_type": "code",
   "execution_count": 16,
   "id": "temporal-light",
   "metadata": {
    "scrolled": true,
    "slideshow": {
     "slide_type": "slide"
    }
   },
   "outputs": [
    {
     "name": "stdout",
     "output_type": "stream",
     "text": [
      "Gradients self.model.grad_W=array([-6.37066667, -2.906     , -5.12133333, -1.79266667]), self.model.grad_b=array([-1.])\n",
      "Interation 0 cost = 0.8333333333333334\n",
      "Gradients self.model.grad_W=array([ 0.03844531,  0.03890585, -0.07014823, -0.05477468]), self.model.grad_b=array([0.01170741])\n",
      "Interation 10000 cost = 0.031392199374461416\n",
      "Gradients self.model.grad_W=array([ 0.01329575, -0.00775922, -0.00649314, -0.02279944]), self.model.grad_b=array([0.00092103])\n",
      "Interation 20000 cost = 0.02830789312492165\n",
      "Gradients self.model.grad_W=array([ 0.00955248, -0.01221357,  0.0010629 , -0.0180234 ]), self.model.grad_b=array([-0.00042095])\n",
      "Interation 30000 cost = 0.027665652325304425\n",
      "Gradients self.model.grad_W=array([ 0.00840383, -0.01175753,  0.00197472, -0.01653627]), self.model.grad_b=array([-0.00063961])\n",
      "Interation 40000 cost = 0.027140628060191387\n",
      "Gradients self.model.grad_W=array([ 0.00761889, -0.01079854,  0.00209518, -0.01550333]), self.model.grad_b=array([-0.00072006])\n",
      "Interation 50000 cost = 0.02668823251668061\n",
      "Gradients self.model.grad_W=array([ 0.00692923, -0.0098521 ,  0.00211738, -0.01458426]), self.model.grad_b=array([-0.0007793])\n",
      "Interation 60000 cost = 0.02629757786271455\n",
      "Gradients self.model.grad_W=array([ 0.00629904, -0.00897361,  0.00212377, -0.0137343 ]), self.model.grad_b=array([-0.00083154])\n",
      "Interation 70000 cost = 0.025959755238998634\n",
      "Gradients self.model.grad_W=array([ 0.00572029, -0.00816447,  0.00212451, -0.012944  ]), self.model.grad_b=array([-0.00087882])\n",
      "Interation 80000 cost = 0.025667168187409\n",
      "Gradients self.model.grad_W=array([ 0.00518859, -0.00742007,  0.00212119, -0.01220843]), self.model.grad_b=array([-0.0009217])\n",
      "Interation 90000 cost = 0.025413333813675568\n",
      "Gradients self.model.grad_W=array([ 0.0047002 , -0.00673546,  0.00211432, -0.01152344]), self.model.grad_b=array([-0.00096054])\n",
      "Interation 100000 cost = 0.02519271850064981\n",
      "Gradients self.model.grad_W=array([ 0.00425172, -0.006106  ,  0.00210429, -0.0108853 ]), self.model.grad_b=array([-0.00099565])\n",
      "Interation 110000 cost = 0.025000597966496736\n",
      "Gradients self.model.grad_W=array([ 0.00384004, -0.0055274 ,  0.00209143, -0.01029052]), self.model.grad_b=array([-0.00102733])\n",
      "Interation 120000 cost = 0.024832937997462886\n",
      "Gradients self.model.grad_W=array([ 0.00346227, -0.00499568,  0.00207604, -0.0097359 ]), self.model.grad_b=array([-0.00105585])\n",
      "Interation 130000 cost = 0.024686292797953546\n",
      "Gradients self.model.grad_W=array([ 0.00311574, -0.00450719,  0.00205839, -0.0092185 ]), self.model.grad_b=array([-0.00108146])\n",
      "Interation 140000 cost = 0.02455771835367949\n",
      "Gradients self.model.grad_W=array([ 0.00279799, -0.00405854,  0.00203874, -0.00873557]), self.model.grad_b=array([-0.00110437])\n",
      "Interation 150000 cost = 0.02444469858870001\n",
      "Gradients self.model.grad_W=array([ 0.00250677, -0.00364663,  0.00201732, -0.00828458]), self.model.grad_b=array([-0.0011248])\n",
      "Interation 160000 cost = 0.024345082425303654\n",
      "Gradients self.model.grad_W=array([ 0.00223999, -0.00326858,  0.00199435, -0.0078632 ]), self.model.grad_b=array([-0.00114295])\n",
      "Interation 170000 cost = 0.02425703013526541\n",
      "Gradients self.model.grad_W=array([ 0.0019957 , -0.00292173,  0.00197002, -0.00746928]), self.model.grad_b=array([-0.001159])\n",
      "Interation 180000 cost = 0.02417896760927348\n",
      "Gradients self.model.grad_W=array([ 0.00177215, -0.00260363,  0.00194451, -0.00710081]), self.model.grad_b=array([-0.0011731])\n",
      "Interation 190000 cost = 0.02410954737434385\n",
      "Gradients self.model.grad_W=array([ 0.00156767, -0.00231203,  0.00191798, -0.00675595]), self.model.grad_b=array([-0.00118542])\n",
      "Interation 200000 cost = 0.02404761536204576\n",
      "Gradients self.model.grad_W=array([ 0.00138077, -0.00204485,  0.00189058, -0.006433  ]), self.model.grad_b=array([-0.0011961])\n",
      "Interation 210000 cost = 0.02399218257778436\n",
      "Gradients self.model.grad_W=array([ 0.00121004, -0.00180015,  0.00186244, -0.00613038]), self.model.grad_b=array([-0.00120525])\n",
      "Interation 220000 cost = 0.023942400947013418\n",
      "Gradients self.model.grad_W=array([ 0.0010542 , -0.00157617,  0.00183369, -0.00584662]), self.model.grad_b=array([-0.00121302])\n",
      "Interation 230000 cost = 0.0238975427213003\n",
      "Gradients self.model.grad_W=array([ 0.00091206, -0.00137127,  0.00180444, -0.00558039]), self.model.grad_b=array([-0.0012195])\n",
      "Interation 240000 cost = 0.02385698291838729\n",
      "Gradients self.model.grad_W=array([ 0.00078252, -0.00118394,  0.0017748 , -0.00533043]), self.model.grad_b=array([-0.0012248])\n",
      "Interation 250000 cost = 0.02382018434812802\n",
      "Gradients self.model.grad_W=array([ 0.00066458, -0.00101279,  0.00174484, -0.00509559]), self.model.grad_b=array([-0.00122901])\n",
      "Interation 260000 cost = 0.023786684842417503\n",
      "Gradients self.model.grad_W=array([ 0.0005573 , -0.00085654,  0.00171467, -0.00487481]), self.model.grad_b=array([-0.00123223])\n",
      "Interation 270000 cost = 0.023756086363681095\n",
      "Gradients self.model.grad_W=array([ 0.00045982, -0.00071399,  0.00168436, -0.00466708]), self.model.grad_b=array([-0.00123453])\n",
      "Interation 280000 cost = 0.02372804571458828\n",
      "Gradients self.model.grad_W=array([ 0.00037135, -0.00058405,  0.00165396, -0.00447151]), self.model.grad_b=array([-0.00123598])\n",
      "Interation 290000 cost = 0.023702266612646294\n",
      "Gradients self.model.grad_W=array([ 0.00029116, -0.00046573,  0.00162356, -0.00428725]), self.model.grad_b=array([-0.00123666])\n",
      "Interation 300000 cost = 0.02367849292825725\n",
      "Gradients self.model.grad_W=array([ 0.00021859, -0.00035808,  0.0015932 , -0.00411351]), self.model.grad_b=array([-0.00123662])\n",
      "Interation 310000 cost = 0.023656502914587423\n",
      "Gradients self.model.grad_W=array([ 0.000153  , -0.00026026,  0.00156293, -0.00394957]), self.model.grad_b=array([-0.00123593])\n",
      "Interation 320000 cost = 0.0236361042829613\n",
      "Gradients self.model.grad_W=array([ 9.38210541e-05, -1.71465437e-04,  1.53279708e-03, -3.79475368e-03]), self.model.grad_b=array([-0.00123465])\n",
      "Interation 330000 cost = 0.023617129999107964\n",
      "Gradients self.model.grad_W=array([ 4.05350407e-05, -9.09752894e-05,  1.50284760e-03, -3.64844657e-03]), self.model.grad_b=array([-0.00123281])\n",
      "Interation 340000 cost = 0.023599434694005803\n",
      "Gradients self.model.grad_W=array([-7.34821121e-06, -1.81158051e-05,  1.47311445e-03, -3.51007112e-03]), self.model.grad_b=array([-0.00123047])\n",
      "Interation 350000 cost = 0.02358289159876846\n",
      "Gradients self.model.grad_W=array([-5.02763612e-05,  4.77325140e-05,  1.44363005e-03, -3.37909447e-03]), self.model.grad_b=array([-0.00122767])\n",
      "Interation 360000 cost = 0.02356738992639008\n",
      "Gradients self.model.grad_W=array([-8.86618807e-05,  1.07140772e-04,  1.41442317e-03, -3.25502296e-03]), self.model.grad_b=array([-0.00122445])\n",
      "Interation 370000 cost = 0.02355283263456727\n",
      "Gradients self.model.grad_W=array([-0.00012288,  0.00016064,  0.00138552, -0.0031374 ]), self.model.grad_b=array([-0.00122084])\n",
      "Interation 380000 cost = 0.023539134513528456\n",
      "Gradients self.model.grad_W=array([-0.0001533 ,  0.0002087 ,  0.00135694, -0.0030258 ]), self.model.grad_b=array([-0.00121688])\n",
      "Interation 390000 cost = 0.023526220551079734\n",
      "Iteration 399999: W=array([[0.1, 0.2]]) b=4.0\n"
     ]
    }
   ],
   "source": [
    "model = Linear(W_init, b_init)\n",
    "trainer = Trainer(model, lr=0.0001, n_iters=400000, tl=10000)\n",
    "y_preds, cs = trainer.fit(X, y)"
   ]
  },
  {
   "cell_type": "code",
   "execution_count": 22,
   "id": "incident-junction",
   "metadata": {
    "slideshow": {
     "slide_type": "slide"
    }
   },
   "outputs": [],
   "source": [
    "def plot_data(*data:np.ndarray):\n",
    "    plt.subplots(figsize=(15, 5))\n",
    "    plt.plot(*data)\n",
    "    plt.xlabel('X')\n",
    "    plt.ylabel('y')\n",
    "    plt.show()\n",
    "    plt.close()"
   ]
  },
  {
   "cell_type": "code",
   "execution_count": 21,
   "id": "blind-science",
   "metadata": {},
   "outputs": [],
   "source": [
    "cs = np.array(cs)"
   ]
  },
  {
   "cell_type": "code",
   "execution_count": 24,
   "id": "cleared-nightmare",
   "metadata": {
    "slideshow": {
     "slide_type": "slide"
    }
   },
   "outputs": [
    {
     "data": {
      "image/png": "[encoded data removed]",
      "text/plain": [
       "<Figure size 1080x360 with 1 Axes>"
      ]
     },
     "metadata": {
      "needs_background": "light"
     },
     "output_type": "display_data"
    }
   ],
   "source": [
    "plot_data(cs)"
   ]
  },
  {
   "cell_type": "markdown",
   "id": "designing-nudist",
   "metadata": {
    "slideshow": {
     "slide_type": "slide"
    }
   },
   "source": [
    "## Logistic Regression (classification)"
   ]
  },
  {
   "cell_type": "markdown",
   "id": "divided-surgery",
   "metadata": {
    "slideshow": {
     "slide_type": "slide"
    }
   },
   "source": [
    "Consoder function:\n",
    "$$\n",
    "\\sigma : \\mathbb{R}^1 \\to \\mathbb{R}^1\n",
    "$$\n",
    "where:\n",
    "$$\n",
    "\\sigma(z) = \\frac{1}{1 + e^{-z}}\n",
    "$$\n",
    "<br>\n",
    "\n",
    "This function is called sigmopid\n",
    "<br>\n",
    "\n",
    "Let's investigate this function"
   ]
  },
  {
   "cell_type": "code",
   "execution_count": 25,
   "id": "adjacent-entry",
   "metadata": {
    "slideshow": {
     "slide_type": "slide"
    }
   },
   "outputs": [],
   "source": [
    "def sigmoid(Z:np.ndarray) -> np.ndarray:\n",
    "    return 1 / (1 + np.exp(-Z))"
   ]
  },
  {
   "cell_type": "code",
   "execution_count": 26,
   "id": "scheduled-editor",
   "metadata": {
    "slideshow": {
     "slide_type": "slide"
    }
   },
   "outputs": [
    {
     "data": {
      "text/plain": [
       "(array([-10.        ,  -9.76470588,  -9.52941176,  -9.29411765,\n",
       "         -9.05882353,  -8.82352941,  -8.58823529,  -8.35294118,\n",
       "         -8.11764706,  -7.88235294,  -7.64705882,  -7.41176471,\n",
       "         -7.17647059,  -6.94117647,  -6.70588235,  -6.47058824,\n",
       "         -6.23529412,  -6.        ,  -5.76470588,  -5.52941176,\n",
       "         -5.29411765,  -5.05882353,  -4.82352941,  -4.58823529,\n",
       "         -4.35294118,  -4.11764706,  -3.88235294,  -3.64705882,\n",
       "         -3.41176471,  -3.17647059,  -2.94117647,  -2.70588235,\n",
       "         -2.47058824,  -2.23529412,  -2.        ,  -1.76470588,\n",
       "         -1.52941176,  -1.29411765,  -1.05882353,  -0.82352941,\n",
       "         -0.58823529,  -0.35294118,  -0.11764706,   0.11764706,\n",
       "          0.35294118,   0.58823529,   0.82352941,   1.05882353,\n",
       "          1.29411765,   1.52941176,   1.76470588,   2.        ,\n",
       "          2.23529412,   2.47058824,   2.70588235,   2.94117647,\n",
       "          3.17647059,   3.41176471,   3.64705882,   3.88235294,\n",
       "          4.11764706,   4.35294118,   4.58823529,   4.82352941,\n",
       "          5.05882353,   5.29411765,   5.52941176,   5.76470588,\n",
       "          6.        ,   6.23529412,   6.47058824,   6.70588235,\n",
       "          6.94117647,   7.17647059,   7.41176471,   7.64705882,\n",
       "          7.88235294,   8.11764706,   8.35294118,   8.58823529,\n",
       "          8.82352941,   9.05882353,   9.29411765,   9.52941176,\n",
       "          9.76470588,  10.        ]),\n",
       " array([4.53978687e-05, 5.74403624e-05, 7.26770834e-05, 9.19551494e-05,\n",
       "        1.16346252e-04, 1.47206142e-04, 1.86249840e-04, 2.35646714e-04,\n",
       "        2.98140638e-04, 3.77201808e-04, 4.77218474e-04, 6.03738967e-04,\n",
       "        7.63777030e-04, 9.66196687e-04, 1.22219691e-03, 1.54592112e-03,\n",
       "        1.95522255e-03, 2.47262316e-03, 3.12651194e-03, 3.95263737e-03,\n",
       "        4.99595784e-03, 6.31292309e-03, 7.97426624e-03, 1.00683875e-02,\n",
       "        1.27054025e-02, 1.60219007e-02, 2.01864059e-02, 2.54054252e-02,\n",
       "        3.19298048e-02, 4.00608408e-02, 5.01551969e-02, 6.26271429e-02,\n",
       "        7.79459479e-02, 9.66255346e-02, 1.19202922e-01, 1.46201940e-01,\n",
       "        1.78079768e-01, 2.15156672e-01, 2.57534344e-01, 3.05014978e-01,\n",
       "        3.57039862e-01, 4.12669376e-01, 4.70622112e-01, 5.29377888e-01,\n",
       "        5.87330624e-01, 6.42960138e-01, 6.94985022e-01, 7.42465656e-01,\n",
       "        7.84843328e-01, 8.21920232e-01, 8.53798060e-01, 8.80797078e-01,\n",
       "        9.03374465e-01, 9.22054052e-01, 9.37372857e-01, 9.49844803e-01,\n",
       "        9.59939159e-01, 9.68070195e-01, 9.74594575e-01, 9.79813594e-01,\n",
       "        9.83978099e-01, 9.87294598e-01, 9.89931612e-01, 9.92025734e-01,\n",
       "        9.93687077e-01, 9.95004042e-01, 9.96047363e-01, 9.96873488e-01,\n",
       "        9.97527377e-01, 9.98044777e-01, 9.98454079e-01, 9.98777803e-01,\n",
       "        9.99033803e-01, 9.99236223e-01, 9.99396261e-01, 9.99522782e-01,\n",
       "        9.99622798e-01, 9.99701859e-01, 9.99764353e-01, 9.99813750e-01,\n",
       "        9.99852794e-01, 9.99883654e-01, 9.99908045e-01, 9.99927323e-01,\n",
       "        9.99942560e-01, 9.99954602e-01]))"
      ]
     },
     "execution_count": 26,
     "metadata": {},
     "output_type": "execute_result"
    }
   ],
   "source": [
    "Z = np.linspace(-10, 10, num=86)\n",
    "y = sigmoid(Z)\n",
    "Z, y"
   ]
  },
  {
   "cell_type": "code",
   "execution_count": 27,
   "id": "bulgarian-maine",
   "metadata": {
    "scrolled": true,
    "slideshow": {
     "slide_type": "slide"
    }
   },
   "outputs": [
    {
     "data": {
      "image/png": "[encoded data removed]",
      "text/plain": [
       "<Figure size 1080x360 with 1 Axes>"
      ]
     },
     "metadata": {
      "needs_background": "light"
     },
     "output_type": "display_data"
    }
   ],
   "source": [
    "plot_data(Z, y)"
   ]
  },
  {
   "cell_type": "markdown",
   "id": "digital-victoria",
   "metadata": {
    "slideshow": {
     "slide_type": "slide"
    }
   },
   "source": [
    "Create a model $m : \\mathbb{R}^n \\to (0, 1)$ which will return:\n",
    "$$\n",
    "m = \\sigma \\circ f\n",
    "$$\n",
    "where\n",
    "$$\n",
    "f(X) = W \\cdot X + b\n",
    "$$\n",
    "<br>\n",
    "\n",
    "So\n",
    "$$\n",
    "m(X) = \\sigma(W \\cdot X + b)\n",
    "$$\n",
    "<br>\n",
    "\n",
    "Composition of our linear model with **sigmoid** function\n",
    "$$\n",
    "m(X) = \\frac{1}{1 + e^{-f(X)}}\n",
    "$$\n",
    "<br>\n",
    "\n",
    "or\n",
    "$$\n",
    "m(X) = \\frac{1}{1 + e^{-(W \\cdot X + b)}}\n",
    "$$\n",
    "Which we call **Logistic regression** model"
   ]
  },
  {
   "cell_type": "markdown",
   "id": "tamil-harrison",
   "metadata": {
    "slideshow": {
     "slide_type": "slide"
    }
   },
   "source": [
    "#### Binary classificarion and cross-entropy"
   ]
  },
  {
   "cell_type": "markdown",
   "id": "employed-separation",
   "metadata": {
    "slideshow": {
     "slide_type": "slide"
    }
   },
   "source": [
    "Consider $y \\in \\{0, 1\\}$ and our model should return something which will close to $y$ per appropriate $X$ value\n",
    "<br>\n",
    "\n",
    "Recall that sigmoid function values fall in $(0, 1)$ segment and we can put threshold (for instance $0.5$ by default) there:\n",
    "$$\n",
    "d(m(X)) = \\begin{cases} \n",
    "      0 & m(X) \\leq 0.5 \\\\\n",
    "      1 & m(X) \\gt 0.5 \n",
    "   \\end{cases}\n",
    "$$\n",
    "<br>\n",
    "\n",
    "Or more general for threshold $t \\in (0, 1)$ define:\n",
    "$$\n",
    "d(m(X)) = \\begin{cases} \n",
    "      0 & m(X) \\leq t \\\\\n",
    "      1 & m(X) \\gt t \n",
    "   \\end{cases}\n",
    "$$\n",
    "\n",
    "What will happen if we make our threshold $t$ near $0$, near $1$?"
   ]
  },
  {
   "cell_type": "code",
   "execution_count": 28,
   "id": "classified-collar",
   "metadata": {
    "slideshow": {
     "slide_type": "slide"
    }
   },
   "outputs": [],
   "source": [
    "Z = np.linspace(0, 1, num=86)\n",
    "y = -np.log(Z + 1e-5)"
   ]
  },
  {
   "cell_type": "code",
   "execution_count": 29,
   "id": "painted-purchase",
   "metadata": {
    "slideshow": {
     "slide_type": "slide"
    }
   },
   "outputs": [
    {
     "data": {
      "image/png": "[encoded data removed]",
      "text/plain": [
       "<Figure size 1080x360 with 1 Axes>"
      ]
     },
     "metadata": {
      "needs_background": "light"
     },
     "output_type": "display_data"
    }
   ],
   "source": [
    "plot_data(Z, y)"
   ]
  },
  {
   "cell_type": "markdown",
   "id": "insured-metabolism",
   "metadata": {
    "slideshow": {
     "slide_type": "slide"
    }
   },
   "source": [
    "For loss function we can define cross-entropy function (recall Shanon's entropy from information theory) which will fit our model provided distribution to the target distribution:\n",
    "$$\n",
    "l(X, y, W, b) = -(y \\cdot \\log(m(X)) + (1 - y) \\cdot \\log(1 - m(X))\n",
    "$$\n",
    "<br>\n",
    "\n",
    "Or in general for two discret probability distributions $p$ and $q$:\n",
    "$$\n",
    "l(p, q) = -\\sum_{i=1}^{n}p_i \\cdot \\log(q_i)\n",
    "$$\n",
    "<br>\n",
    "\n",
    "In our case our target distribution is $\\{0, 1\\}$ and our model provides $\\{m(X), 1 - m(X)\\}$, because of nature of sigmoid function\n",
    "<br>\n",
    "\n",
    "When our label is $0$ loss will be $-\\log(1 - m(X))$ and it will be minimal when $1$ which implies that $m(X)$ will converge to $0$ or to the label value\n",
    "<br>\n",
    "\n",
    "When our label is $1$ loss will be $-\\log(m(X))$ and it will be minimal when $1$ which implies that $m(X)$ will converge to $1$ or to the label value\n",
    "<br>\n",
    "\n",
    "So we can define the cost function as we did before:\n",
    "$$\n",
    "C(X, y, W, b) = \\frac{1}{m}\\sum_{i=1}^{m}{l(X^{(i)}, y^{(i)}, W, b)} = -\\frac{1}{m}\\sum_{i=1}^{m}{(y^{(i)}\\log(m(X^{(i)})) + (1 - y^{(i)})\\log(1 - m(X^{(i)})))}\n",
    "$$"
   ]
  },
  {
   "cell_type": "markdown",
   "id": "major-thursday",
   "metadata": {
    "slideshow": {
     "slide_type": "slide"
    }
   },
   "source": [
    "#### Gradient of cross-entropy based cost function"
   ]
  },
  {
   "cell_type": "markdown",
   "id": "given-corruption",
   "metadata": {
    "slideshow": {
     "slide_type": "slide"
    }
   },
   "source": [
    "1) Excersize:\n",
    "<br>\n",
    "Proove that for sigmoid:\n",
    "$$\n",
    "\\sigma(z)' = \\sigma(z) \\cdot (1 - \\sigma(z))\n",
    "$$\n",
    "<br>\n",
    "\n",
    "2) Excersize:\n",
    "<br>\n",
    "Proove that for cross-entropy based cost function:\n",
    "<br>\n",
    "$$\n",
    "\\frac{\\partial C(W, b)}{\\partial w_j} = \\frac{1}{m}\\sum_{i=1}^{m} \\cdot ((R(W, X^{(i)}, y) \\cdot X_j^{(i)}) = \\frac{1}{m}\\sum_{i=1}^{m} ( (f(X^{(i)}) - y^{(i)}) \\cdot X_j^{(i)}) = \\frac{1}{m}\\sum_{i=1}^{m} (\\sigma(W^T \\cdot X^{i} + b) - y^{(i)}) \\cdot X_j^{(i)}\n",
    "$$\n",
    "<br>\n",
    "\n",
    "and\n",
    "$$\n",
    "\\frac{\\partial C(W, b)}{\\partial b} = \\frac{1}{m}\\sum_{i=1}^{m} \\cdot R(W, X^{(i)}, y) = \\frac{1}{m}\\sum_{i=1}^{m} (f(X^{(i)}) - y^{(i)}) = \\frac{1}{m}\\sum_{i=1}^{m} (\\sigma(W^T \\cdot X^{i} + b) - y^{(i)})\n",
    "$$\n",
    "<br>\n",
    "\n",
    "So the gradient calculation is similar to the **linear regression** model"
   ]
  },
  {
   "cell_type": "code",
   "execution_count": null,
   "id": "accessory-edward",
   "metadata": {
    "slideshow": {
     "slide_type": "slide"
    }
   },
   "outputs": [],
   "source": [
    "W = np.array([0.1, 0.2])\n",
    "b = 4\n",
    "X = np.array([1, 2])\n",
    "Z = W @ X.T + b\n",
    "print(f'{Z=}')\n",
    "y_h = 1 / (1 + np.exp(-Z))\n",
    "print(f'{y_h=}')\n",
    "y_s = sigmoid(Z)\n",
    "print(f'{y_s=}')\n",
    "model = Logistic(W, b)\n",
    "y_m = model(X)\n",
    "print(f'{y_m=}')\n"
   ]
  },
  {
   "cell_type": "code",
   "execution_count": 30,
   "id": "contained-apple",
   "metadata": {
    "slideshow": {
     "slide_type": "slide"
    }
   },
   "outputs": [],
   "source": [
    "from sklearn.datasets import make_classification"
   ]
  },
  {
   "cell_type": "code",
   "execution_count": 31,
   "id": "miniature-pension",
   "metadata": {
    "slideshow": {
     "slide_type": "slide"
    }
   },
   "outputs": [
    {
     "name": "stdout",
     "output_type": "stream",
     "text": [
      "X.shape=(500, 2) y.shape=(500, 1)\n"
     ]
    }
   ],
   "source": [
    "X, y = make_classification(n_samples=500, n_features=2, n_redundant=0, n_informative=1,\n",
    "                             n_clusters_per_class=1, random_state=14)\n",
    "y = np.expand_dims(y, axis=1)\n",
    "print(f'{X.shape=} {y.shape=}')"
   ]
  },
  {
   "cell_type": "code",
   "execution_count": 32,
   "id": "numerous-milwaukee",
   "metadata": {
    "slideshow": {
     "slide_type": "slide"
    }
   },
   "outputs": [
    {
     "name": "stderr",
     "output_type": "stream",
     "text": [
      "/Users/levan/anaconda3/envs/edu/lib/python3.9/site-packages/seaborn/_decorators.py:36: FutureWarning: Pass the following variables as keyword args: x, y. From version 0.12, the only valid positional argument will be `data`, and passing other arguments without an explicit keyword will result in an error or misinterpretation.\n",
      "  warnings.warn(\n"
     ]
    },
    {
     "data": {
      "image/png": "[encoded data removed]",
      "text/plain": [
       "<Figure size 432x288 with 1 Axes>"
      ]
     },
     "metadata": {},
     "output_type": "display_data"
    }
   ],
   "source": [
    "sns.set_style('white')\n",
    "sns.scatterplot(X[:,0], X[:,1], hue=y.reshape(-1));"
   ]
  },
  {
   "cell_type": "code",
   "execution_count": 35,
   "id": "productive-digest",
   "metadata": {
    "slideshow": {
     "slide_type": "slide"
    }
   },
   "outputs": [
    {
     "name": "stdout",
     "output_type": "stream",
     "text": [
      "[[0.01891352]\n",
      " [3.88321273]\n",
      " [3.64961295]\n",
      " [0.01585796]\n",
      " [3.62196191]\n",
      " [4.13342492]\n",
      " [0.01698971]\n",
      " [3.33818713]\n",
      " [0.01130164]\n",
      " [4.14746753]\n",
      " [3.66489037]\n",
      " [4.0852489 ]\n",
      " [0.01127345]\n",
      " [4.10110933]\n",
      " [3.73190646]\n",
      " [0.02223837]\n",
      " [3.51765631]\n",
      " [4.12643798]\n",
      " [0.01266177]\n",
      " [3.95315381]\n",
      " [0.01306981]\n",
      " [0.01190628]\n",
      " [0.01364954]\n",
      " [0.01600209]\n",
      " [0.0167935 ]\n",
      " [0.01979108]\n",
      " [0.02103964]\n",
      " [3.81346813]\n",
      " [4.01789799]\n",
      " [3.71589105]\n",
      " [0.02032808]\n",
      " [0.01655522]\n",
      " [0.01812429]\n",
      " [0.02099633]\n",
      " [3.68938546]\n",
      " [3.31475227]\n",
      " [0.01221147]\n",
      " [0.01533739]\n",
      " [0.01564788]\n",
      " [0.01143264]\n",
      " [3.89314233]\n",
      " [0.02082354]\n",
      " [3.84092314]\n",
      " [3.77947024]\n",
      " [0.01974634]\n",
      " [0.0142955 ]\n",
      " [0.01643396]\n",
      " [0.02567026]\n",
      " [3.58299573]\n",
      " [3.80202969]\n",
      " [0.0160423 ]\n",
      " [3.75847451]\n",
      " [0.01520101]\n",
      " [0.01261161]\n",
      " [4.0117035 ]\n",
      " [3.67941084]\n",
      " [0.01546252]\n",
      " [0.02401348]\n",
      " [0.01495097]\n",
      " [4.21745553]\n",
      " [0.01186982]\n",
      " [3.87286044]\n",
      " [3.9619825 ]\n",
      " [0.01976239]\n",
      " [4.22012437]\n",
      " [0.01734974]\n",
      " [4.17568484]\n",
      " [0.01388162]\n",
      " [4.04519497]\n",
      " [0.00966744]\n",
      " [4.03186015]\n",
      " [0.02156689]\n",
      " [0.01591904]\n",
      " [3.7055826 ]\n",
      " [0.01632672]\n",
      " [0.01852514]\n",
      " [0.01597969]\n",
      " [0.01178265]\n",
      " [4.16567263]\n",
      " [0.01079273]\n",
      " [3.79866235]\n",
      " [3.73966405]\n",
      " [4.11015133]\n",
      " [4.05432665]\n",
      " [0.01840228]\n",
      " [0.01473656]\n",
      " [0.01743586]\n",
      " [3.88056256]\n",
      " [0.01800541]\n",
      " [3.67007702]\n",
      " [0.01612006]\n",
      " [0.01428889]\n",
      " [3.58910736]\n",
      " [3.54828854]\n",
      " [3.58457502]\n",
      " [0.0125699 ]\n",
      " [0.01449442]\n",
      " [0.02113595]\n",
      " [3.80309223]\n",
      " [3.69506028]\n",
      " [0.01503342]\n",
      " [3.59821368]\n",
      " [0.01325431]\n",
      " [0.01551161]\n",
      " [0.01277718]\n",
      " [0.01335449]\n",
      " [3.79545682]\n",
      " [4.20084551]\n",
      " [3.74671505]\n",
      " [0.01870479]\n",
      " [3.95164189]\n",
      " [0.01577449]\n",
      " [3.69315682]\n",
      " [0.01620126]\n",
      " [0.00912459]\n",
      " [3.84155179]\n",
      " [4.09309804]\n",
      " [0.01721964]\n",
      " [4.13790661]\n",
      " [4.27526689]\n",
      " [3.51608307]\n",
      " [3.57661258]\n",
      " [3.97863005]\n",
      " [3.66792041]\n",
      " [0.01653307]\n",
      " [4.08559524]\n",
      " [0.01518392]\n",
      " [0.01810711]\n",
      " [3.66168165]\n",
      " [4.07827464]\n",
      " [0.02402127]\n",
      " [0.01400035]\n",
      " [3.74610379]\n",
      " [3.51008233]\n",
      " [0.01776305]\n",
      " [0.01925525]\n",
      " [3.852052  ]\n",
      " [0.01337251]\n",
      " [3.96213338]\n",
      " [4.02384121]\n",
      " [0.01584897]\n",
      " [4.11386493]\n",
      " [0.01768198]\n",
      " [0.01550474]\n",
      " [3.96427884]\n",
      " [3.80863866]\n",
      " [0.01923889]\n",
      " [3.56598284]\n",
      " [4.00131595]\n",
      " [0.01762267]\n",
      " [0.01772089]\n",
      " [0.01562021]\n",
      " [3.97235466]\n",
      " [0.01419521]\n",
      " [3.796824  ]\n",
      " [4.00000918]\n",
      " [0.01889836]\n",
      " [0.01518536]\n",
      " [0.01633353]\n",
      " [0.01841911]\n",
      " [4.2867483 ]\n",
      " [3.57939594]\n",
      " [0.01435588]\n",
      " [0.01393505]\n",
      " [0.01166099]\n",
      " [0.01820141]\n",
      " [3.81683609]\n",
      " [3.58407561]\n",
      " [3.74458665]\n",
      " [0.01672919]\n",
      " [4.19173375]\n",
      " [4.25969496]\n",
      " [3.9092193 ]\n",
      " [0.02069073]\n",
      " [0.01179383]\n",
      " [0.01218833]\n",
      " [0.02001393]\n",
      " [0.02107516]\n",
      " [4.05526904]\n",
      " [3.82165002]\n",
      " [3.44939185]\n",
      " [0.01812061]\n",
      " [3.64732157]\n",
      " [4.01826793]\n",
      " [0.02129879]\n",
      " [0.01524723]\n",
      " [4.18297648]\n",
      " [0.01744797]\n",
      " [3.95443271]\n",
      " [3.8902756 ]\n",
      " [0.01669212]\n",
      " [0.01652782]\n",
      " [0.02014029]\n",
      " [4.02029458]\n",
      " [0.01946592]\n",
      " [3.70565953]\n",
      " [0.02026845]\n",
      " [0.0123662 ]\n",
      " [0.0183677 ]\n",
      " [3.56741592]\n",
      " [3.74075739]\n",
      " [4.21180967]\n",
      " [4.0816676 ]\n",
      " [4.21316201]\n",
      " [3.67279564]\n",
      " [0.01827217]\n",
      " [0.01854004]\n",
      " [0.01134971]\n",
      " [0.01893989]\n",
      " [3.92465808]\n",
      " [3.53488326]\n",
      " [3.68317434]\n",
      " [3.98247208]\n",
      " [4.11961546]\n",
      " [4.12144886]\n",
      " [0.01429576]\n",
      " [0.01726341]\n",
      " [0.01702518]\n",
      " [0.01490787]\n",
      " [0.02124978]\n",
      " [0.01647391]\n",
      " [4.00800599]\n",
      " [0.01850589]\n",
      " [0.01171352]\n",
      " [3.8585582 ]\n",
      " [4.02143   ]\n",
      " [3.96038263]\n",
      " [0.02375286]\n",
      " [4.16376417]\n",
      " [3.88176453]\n",
      " [0.01839931]\n",
      " [0.02101218]\n",
      " [3.54342207]\n",
      " [0.01347797]\n",
      " [4.11006404]\n",
      " [0.01459474]\n",
      " [0.01791777]\n",
      " [0.0106655 ]\n",
      " [3.79398916]\n",
      " [0.02454709]\n",
      " [4.14727794]\n",
      " [0.016461  ]\n",
      " [0.01857239]\n",
      " [4.01791887]\n",
      " [0.01793026]\n",
      " [0.01505688]\n",
      " [3.72634136]\n",
      " [0.01980451]\n",
      " [0.01750636]\n",
      " [3.79755008]\n",
      " [3.8890654 ]\n",
      " [4.14383887]\n",
      " [4.05975454]\n",
      " [0.01470754]\n",
      " [4.06071604]\n",
      " [0.01467228]\n",
      " [0.01971744]\n",
      " [3.79829948]\n",
      " [3.51515315]\n",
      " [0.02153887]\n",
      " [3.9934487 ]\n",
      " [3.8846923 ]\n",
      " [3.93875878]\n",
      " [0.01587247]\n",
      " [0.01472467]\n",
      " [0.01629909]\n",
      " [3.74507297]\n",
      " [3.94226942]\n",
      " [4.16019527]\n",
      " [0.01295543]\n",
      " [0.01219419]\n",
      " [4.2277949 ]\n",
      " [3.94520397]\n",
      " [0.01531192]\n",
      " [0.01271441]\n",
      " [4.30997179]\n",
      " [0.02433639]\n",
      " [0.01318125]\n",
      " [3.88705307]\n",
      " [0.01287043]\n",
      " [3.94354974]\n",
      " [0.01424856]\n",
      " [3.5827818 ]\n",
      " [3.91726476]\n",
      " [0.0172325 ]\n",
      " [4.16559171]\n",
      " [3.64996751]\n",
      " [0.01727792]\n",
      " [0.02054478]\n",
      " [3.87209306]\n",
      " [3.73046468]\n",
      " [4.21143176]\n",
      " [0.02245259]\n",
      " [0.01382093]\n",
      " [0.01599215]\n",
      " [3.9803669 ]\n",
      " [4.00926659]\n",
      " [0.01977993]\n",
      " [4.28674203]\n",
      " [0.01522798]\n",
      " [3.94480237]\n",
      " [0.019374  ]\n",
      " [0.01709321]\n",
      " [0.0178906 ]\n",
      " [4.01454034]\n",
      " [0.01614239]\n",
      " [3.72174468]\n",
      " [0.0157891 ]\n",
      " [3.99717603]\n",
      " [0.01335085]\n",
      " [3.73747786]\n",
      " [0.01734654]\n",
      " [3.88505525]\n",
      " [0.01170072]\n",
      " [3.96403593]\n",
      " [3.80383351]\n",
      " [0.0140582 ]\n",
      " [0.02041194]\n",
      " [0.01449662]\n",
      " [3.88082908]\n",
      " [4.03485439]\n",
      " [0.01531943]\n",
      " [0.0154756 ]\n",
      " [3.62989605]\n",
      " [0.01429569]\n",
      " [4.23573264]\n",
      " [3.83746429]\n",
      " [3.97944181]\n",
      " [0.01535692]\n",
      " [3.62270071]\n",
      " [3.64843101]\n",
      " [0.02073476]\n",
      " [0.01850354]\n",
      " [3.75295537]\n",
      " [0.0205765 ]\n",
      " [3.92420614]\n",
      " [0.01327662]\n",
      " [0.01362576]\n",
      " [3.50099927]\n",
      " [3.81763998]\n",
      " [0.019223  ]\n",
      " [4.13798997]\n",
      " [3.68009186]\n",
      " [0.01804265]\n",
      " [0.01626817]\n",
      " [0.01762681]\n",
      " [0.01939569]\n",
      " [0.0133737 ]\n",
      " [0.02406721]\n",
      " [3.93036863]\n",
      " [0.01735887]\n",
      " [4.13375791]\n",
      " [0.01901749]\n",
      " [0.01362527]\n",
      " [0.01460958]\n",
      " [4.04771257]\n",
      " [0.01641269]\n",
      " [0.02253751]\n",
      " [0.02527859]\n",
      " [0.02473874]\n",
      " [3.98783379]\n",
      " [4.0107524 ]\n",
      " [0.01982736]\n",
      " [0.01060531]\n",
      " [0.01408956]\n",
      " [4.21541986]\n",
      " [0.01910235]\n",
      " [0.01720401]\n",
      " [4.0485245 ]\n",
      " [0.01693538]\n",
      " [4.07108914]\n",
      " [4.1015861 ]\n",
      " [0.01733948]\n",
      " [0.02011323]\n",
      " [0.01337048]\n",
      " [4.1449793 ]\n",
      " [4.37614988]\n",
      " [0.03059782]\n",
      " [3.80666752]\n",
      " [4.01668113]\n",
      " [3.90018542]\n",
      " [3.90236897]\n",
      " [3.64799047]\n",
      " [4.14159618]\n",
      " [4.21946095]\n",
      " [4.00049402]\n",
      " [0.01694571]\n",
      " [4.17991099]\n",
      " [0.01659132]\n",
      " [0.02116411]\n",
      " [0.01351525]\n",
      " [3.97118318]\n",
      " [3.75603058]\n",
      " [3.91795987]\n",
      " [4.05612453]\n",
      " [0.01805262]\n",
      " [3.50670779]\n",
      " [0.01537228]\n",
      " [3.94635288]\n",
      " [4.04055494]\n",
      " [3.75710548]\n",
      " [0.01963575]\n",
      " [4.12494279]\n",
      " [4.05695293]\n",
      " [3.8190265 ]\n",
      " [4.41933912]\n",
      " [3.54402874]\n",
      " [0.01935355]\n",
      " [3.50210492]\n",
      " [0.02274306]\n",
      " [4.0711584 ]\n",
      " [0.01605063]\n",
      " [0.01693051]\n",
      " [0.01569695]\n",
      " [0.01783467]\n",
      " [0.01170385]\n",
      " [0.02033198]\n",
      " [4.20975434]\n",
      " [3.85218953]\n",
      " [3.7721656 ]\n",
      " [4.40147179]\n",
      " [0.01959394]\n",
      " [0.01780842]\n",
      " [3.66863058]\n",
      " [3.88731703]\n",
      " [0.01480616]\n",
      " [0.02218025]\n",
      " [3.82402955]\n",
      " [3.85125137]\n",
      " [3.72716443]\n",
      " [0.01853205]\n",
      " [4.48369305]\n",
      " [3.83527473]\n",
      " [3.64617801]\n",
      " [4.0010099 ]\n",
      " [4.17586857]\n",
      " [4.06780706]\n",
      " [0.01225945]\n",
      " [3.5786412 ]\n",
      " [0.01556228]\n",
      " [4.10874434]\n",
      " [4.20700323]\n",
      " [3.92337406]\n",
      " [3.94930676]\n",
      " [0.03059667]\n",
      " [0.02097107]\n",
      " [0.016752  ]\n",
      " [4.04478127]\n",
      " [3.85844321]\n",
      " [0.01388241]\n",
      " [4.01252707]\n",
      " [0.01722784]\n",
      " [0.01369198]\n",
      " [3.98794987]\n",
      " [0.01476816]\n",
      " [4.0657375 ]\n",
      " [4.24634542]\n",
      " [3.74527538]\n",
      " [4.0513024 ]\n",
      " [3.36859746]\n",
      " [4.00597794]\n",
      " [3.62613338]\n",
      " [3.75552781]\n",
      " [3.91667475]\n",
      " [3.70583983]\n",
      " [0.01397607]\n",
      " [0.01424434]\n",
      " [3.6301657 ]\n",
      " [0.01379486]\n",
      " [3.94026694]\n",
      " [3.71275521]\n",
      " [0.01926518]\n",
      " [3.99307402]\n",
      " [3.8647519 ]\n",
      " [0.01857977]\n",
      " [0.01327997]\n",
      " [3.79664165]\n",
      " [0.01399918]\n",
      " [0.01518459]\n",
      " [0.01374145]\n",
      " [0.01899425]\n",
      " [0.01352751]\n",
      " [3.88524711]\n",
      " [3.59342212]\n",
      " [3.54498487]\n",
      " [0.01648303]\n",
      " [3.69798711]\n",
      " [3.82505056]\n",
      " [3.78093355]\n",
      " [0.01243105]\n",
      " [0.01617793]\n",
      " [3.7620182 ]\n",
      " [0.0139823 ]\n",
      " [3.72505976]\n",
      " [4.00425352]\n",
      " [4.18573607]\n",
      " [0.02261112]\n",
      " [0.02005344]\n",
      " [0.01469699]\n",
      " [3.93532186]]\n",
      "cs=1.9889733297884786\n"
     ]
    }
   ],
   "source": [
    "epsilon = 1e-8\n",
    "y_pred = sigmoid(X @ W.T + b)\n",
    "lss = -(y * np.log(y_pred + epsilon) + (1 - y) * np.log(1 - y_pred + epsilon))\n",
    "print(f'{lss}')\n",
    "cs = (1 / X.shape[0]) * np.sum(lss)\n",
    "print(f'{cs=}')"
   ]
  },
  {
   "cell_type": "code",
   "execution_count": 47,
   "id": "outer-telephone",
   "metadata": {},
   "outputs": [],
   "source": [
    "?? Linear"
   ]
  },
  {
   "cell_type": "code",
   "execution_count": 70,
   "id": "ecological-broadway",
   "metadata": {
    "slideshow": {
     "slide_type": "slide"
    }
   },
   "outputs": [],
   "source": [
    "class Logistic(Linear):\n",
    "    \"\"\"Implementation of logistic regression model\"\"\"\n",
    "    \n",
    "    epsilon = 1e-8\n",
    "    \n",
    "    def __init__(self, W:np.ndarray, b:np.ndarray):\n",
    "        super().__init__(W, b)\n",
    "        \n",
    "    @staticmethod\n",
    "    def sigmoid(Z:np.ndarray) -> np.ndarray:\n",
    "        return 1 / (1 + np.exp(-Z))\n",
    "        \n",
    "    def forward(self, X:np.ndarray) -> np.ndarray:\n",
    "        return self.sigmoid(super().forward(X))\n",
    "    \n",
    "    def loss(self, X:np.ndarray, y:np.ndarray) -> np.ndarray:\n",
    "        y_pred = self.forward(X)\n",
    "        lss = -(y * np.log(y_pred + self.epsilon) + (1 - y) * np.log(1 - y_pred + self.epsilon))\n",
    "        \n",
    "        return lss\n",
    "    \n",
    "    def gradient(self, X:np.ndarray, y:np.ndarray) -> np.ndarray:\n",
    "        lss = self.loss(X, y)\n",
    "        coef = 1.0 / X.shape[0]\n",
    "        self.dl_W = coef * np.sum(X * lss, axis=0)\n",
    "        self.dl_b = coef * np.sum(lss, axis=0)\n",
    "    \n",
    "        return self.dl_W, self.dl_b\n",
    "        \n",
    "\n",
    "    def cost(self, X:np.ndarray, y:np.ndarray) -> float:\n",
    "        lss = self.loss(X, y)\n",
    "        cs = (1.0 / X.shape[0]) * np.sum(lss)\n",
    "    \n",
    "        return cs"
   ]
  },
  {
   "cell_type": "code",
   "execution_count": 71,
   "id": "textile-simple",
   "metadata": {
    "slideshow": {
     "slide_type": "slide"
    }
   },
   "outputs": [
    {
     "data": {
      "text/plain": [
       "array([[0., 0.]])"
      ]
     },
     "execution_count": 71,
     "metadata": {},
     "output_type": "execute_result"
    }
   ],
   "source": [
    "W_init = np.zeros((1, X.shape[1]))\n",
    "b_init = 0.0\n",
    "W_init"
   ]
  },
  {
   "cell_type": "code",
   "execution_count": 72,
   "id": "posted-solution",
   "metadata": {
    "scrolled": false,
    "slideshow": {
     "slide_type": "slide"
    }
   },
   "outputs": [
    {
     "name": "stdout",
     "output_type": "stream",
     "text": [
      "Gradients self.model.grad_W=array([0.04150851, 0.02414871]), self.model.grad_b=array([-0.69314716])\n",
      "Interation 0 cost = 0.6931471605599454\n",
      "Gradients self.model.grad_W=array([0.07986004, 0.02516041]), self.model.grad_b=array([-0.69757472])\n",
      "Interation 10000 cost = 0.6975747165377715\n",
      "Gradients self.model.grad_W=array([0.11988169, 0.02638796]), self.model.grad_b=array([-0.70538028])\n",
      "Interation 20000 cost = 0.7053802777739874\n",
      "Gradients self.model.grad_W=array([0.16216103, 0.02785816]), self.model.grad_b=array([-0.7167761])\n",
      "Interation 30000 cost = 0.7167761040147075\n",
      "Gradients self.model.grad_W=array([0.20736098, 0.02960387]), self.model.grad_b=array([-0.7320538])\n",
      "Interation 40000 cost = 0.7320537987201864\n",
      "Gradients self.model.grad_W=array([0.25623928, 0.03166492]), self.model.grad_b=array([-0.7515953])\n",
      "Interation 50000 cost = 0.7515952950503965\n",
      "Gradients self.model.grad_W=array([0.30967024, 0.03408911]), self.model.grad_b=array([-0.77588637])\n",
      "Interation 60000 cost = 0.7758863722825877\n",
      "Gradients self.model.grad_W=array([0.36866848, 0.03693334]), self.model.grad_b=array([-0.80553271])\n",
      "Interation 70000 cost = 0.8055327129740665\n",
      "Gradients self.model.grad_W=array([0.43441396, 0.04026459]), self.model.grad_b=array([-0.8412783])\n",
      "Interation 80000 cost = 0.8412783042191719\n",
      "Gradients self.model.grad_W=array([0.50827698, 0.04416082]), self.model.grad_b=array([-0.88402569])\n",
      "Interation 90000 cost = 0.8840256893608662\n",
      "Gradients self.model.grad_W=array([0.59184154, 0.04871145]), self.model.grad_b=array([-0.93485722])\n",
      "Interation 100000 cost = 0.9348572157980055\n",
      "Gradients self.model.grad_W=array([0.68692469, 0.05401736]), self.model.grad_b=array([-0.99505608])\n",
      "Interation 110000 cost = 0.9950560806630724\n",
      "Gradients self.model.grad_W=array([0.79558984, 0.06019014]), self.model.grad_b=array([-1.0661258])\n",
      "Interation 120000 cost = 1.0661257989807646\n",
      "Gradients self.model.grad_W=array([0.92015274, 0.06735059]), self.model.grad_b=array([-1.14980692])\n",
      "Interation 130000 cost = 1.1498069158216362\n",
      "Gradients self.model.grad_W=array([1.0631803 , 0.07562646]), self.model.grad_b=array([-1.24809056])\n",
      "Interation 140000 cost = 1.2480905600796042\n",
      "Gradients self.model.grad_W=array([1.22748528, 0.08515008]), self.model.grad_b=array([-1.36322988])\n",
      "Interation 150000 cost = 1.3632298808309897\n",
      "Gradients self.model.grad_W=array([1.41612201, 0.09605625]), self.model.grad_b=array([-1.49775235])\n",
      "Interation 160000 cost = 1.497752346401135\n",
      "Gradients self.model.grad_W=array([1.63239063, 0.10848153]), self.model.grad_b=array([-1.6544778])\n",
      "Interation 170000 cost = 1.6544777975050473\n",
      "Gradients self.model.grad_W=array([1.87985736, 0.12256534]), self.model.grad_b=array([-1.83654822])\n",
      "Interation 180000 cost = 1.8365482187156932\n",
      "Gradients self.model.grad_W=array([2.16239665, 0.13845357]), self.model.grad_b=array([-2.04747463])\n",
      "Interation 190000 cost = 2.0474746279460296\n",
      "Iteration 199999: W=array([[0.1, 0.2]]) b=4.0\n"
     ]
    }
   ],
   "source": [
    "model = Logistic(W_init, b_init)\n",
    "trainer = Trainer(model, lr=0.00001, n_iters=200000, tl=10000)\n",
    "cs, y_preds = trainer.fit(X, y)"
   ]
  },
  {
   "cell_type": "code",
   "execution_count": 74,
   "id": "elementary-renaissance",
   "metadata": {},
   "outputs": [],
   "source": [
    "y_preds, cs = cs, y_preds"
   ]
  },
  {
   "cell_type": "code",
   "execution_count": 75,
   "id": "suffering-priest",
   "metadata": {
    "scrolled": false,
    "slideshow": {
     "slide_type": "slide"
    }
   },
   "outputs": [
    {
     "name": "stdout",
     "output_type": "stream",
     "text": [
      "cs.shape=(200000,)\n"
     ]
    },
    {
     "data": {
      "image/png": "[encoded data removed]",
      "text/plain": [
       "<Figure size 1080x360 with 1 Axes>"
      ]
     },
     "metadata": {},
     "output_type": "display_data"
    }
   ],
   "source": [
    "cs = np.array(cs, dtype=float)\n",
    "print(f'{cs.shape=}')\n",
    "plot_data(cs)"
   ]
  },
  {
   "cell_type": "markdown",
   "id": "monetary-nepal",
   "metadata": {
    "slideshow": {
     "slide_type": "slide"
    }
   },
   "source": [
    "## Thank you"
   ]
  },
  {
   "cell_type": "markdown",
   "id": "occupational-lewis",
   "metadata": {
    "slideshow": {
     "slide_type": "slide"
    }
   },
   "source": [
    "## Questions\n",
    "\n",
    "<img src=\"images/intro2/questions_2.jpg\" height=\"800\" width=\"800\">"
   ]
  },
  {
   "cell_type": "markdown",
   "id": "touched-aspect",
   "metadata": {
    "slideshow": {
     "slide_type": "slide"
    }
   },
   "source": [
    "## Thank you"
   ]
  },
  {
   "cell_type": "code",
   "execution_count": null,
   "id": "asian-briefs",
   "metadata": {},
   "outputs": [],
   "source": []
  }
 ],
 "metadata": {
  "celltoolbar": "Slideshow",
  "kernelspec": {
   "display_name": "Python 3",
   "language": "python",
   "name": "python3"
  },
  "language_info": {
   "codemirror_mode": {
    "name": "ipython",
    "version": 3
   },
   "file_extension": ".py",
   "mimetype": "text/x-python",
   "name": "python",
   "nbconvert_exporter": "python",
   "pygments_lexer": "ipython3",
   "version": "3.9.2"
  }
 },
 "nbformat": 4,
 "nbformat_minor": 5
}
