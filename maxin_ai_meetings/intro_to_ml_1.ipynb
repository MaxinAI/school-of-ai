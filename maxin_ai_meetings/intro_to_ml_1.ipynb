{
 "cells": [
  {
   "cell_type": "code",
   "execution_count": null,
   "id": "parallel-example",
   "metadata": {
    "slideshow": {
     "slide_type": "slide"
    }
   },
   "outputs": [],
   "source": [
    "%load_ext autoreload\n",
    "%autoreload 2\n",
    "\n",
    "%matplotlib inline"
   ]
  },
  {
   "cell_type": "markdown",
   "id": "hungry-classic",
   "metadata": {
    "slideshow": {
     "slide_type": "slide"
    }
   },
   "source": [
    "## Machine Learning (introduction)"
   ]
  },
  {
   "cell_type": "markdown",
   "id": "seventh-adolescent",
   "metadata": {
    "slideshow": {
     "slide_type": "slide"
    }
   },
   "source": [
    "- AI and Machine learning\n",
    "- Features and Labels\n",
    "- Error estimation (loss and cost)\n",
    "- Generalization (population and sample)\n",
    "- Approaches: supervised learning, unsupervised learning, self-supervised leatrning, dimensionality reduction, reinforecement learning\n",
    "- Representation learning and deep models\n",
    "- Learning types: regression, classification, clustering, etc. "
   ]
  },
  {
   "cell_type": "markdown",
   "id": "insured-alarm",
   "metadata": {
    "slideshow": {
     "slide_type": "slide"
    }
   },
   "source": [
    "## AI and Machine learning"
   ]
  },
  {
   "cell_type": "markdown",
   "id": "electrical-sydney",
   "metadata": {
    "slideshow": {
     "slide_type": "slide"
    }
   },
   "source": [
    "AI in an general notion and has many sub-fields or directions, one of them is a Machine Learning\n",
    "<br>\n",
    "Machine Learning: \"Machine learning (ML) is the study of computer algorithms that improve automatically through experience and by the use of data\" <a ref=\"https://en.wikipedia.org/wiki/Machine_learning\">(Wikipedia)</a>"
   ]
  },
  {
   "cell_type": "markdown",
   "id": "impaired-lesson",
   "metadata": {
    "slideshow": {
     "slide_type": "slide"
    }
   },
   "source": [
    "Machine learning approximation of function: \n",
    "$$\n",
    "f:(X, P_x) -> (Y, P_y)\n",
    "$$\n",
    "We have suple of data $X = (X^1, X^2, \\dots, X^m)$ and we need to find right function $f$ (often from function class $\\mathcal{F}$) which maps our data to the destination domain $Y$\n",
    "$$\n",
    "f:X \\to Y\n",
    "$$\n",
    "Sometimes $Y = X$"
   ]
  },
  {
   "cell_type": "markdown",
   "id": "planned-morrison",
   "metadata": {
    "slideshow": {
     "slide_type": "slide"
    }
   },
   "source": [
    "## Features and labels"
   ]
  },
  {
   "cell_type": "markdown",
   "id": "substantial-print",
   "metadata": {
    "slideshow": {
     "slide_type": "slide"
    }
   },
   "source": [
    "Inpiut data, should be converted in machematical objects (often Euclidean vectors, or elements of manifolds)\n",
    "<br>\n",
    "Predict sentiment on text - is Facebook, Twitter, LinkedIn comment is positive, negative or neutral\n",
    "<br>\n",
    "Classify images: is human, cat, dog on image or not\n",
    "<br>\n",
    "Predict house prices by it's features, rooms, square meters, location etc"
   ]
  },
  {
   "cell_type": "markdown",
   "id": "attractive-server",
   "metadata": {
    "slideshow": {
     "slide_type": "slide"
    }
   },
   "source": [
    "#### Features"
   ]
  },
  {
   "cell_type": "markdown",
   "id": "third-sample",
   "metadata": {
    "slideshow": {
     "slide_type": "slide"
    }
   },
   "source": [
    "Tabula data: we have information about each dimension"
   ]
  },
  {
   "cell_type": "code",
   "execution_count": 39,
   "id": "fleet-yugoslavia",
   "metadata": {
    "slideshow": {
     "slide_type": "slide"
    }
   },
   "outputs": [],
   "source": [
    "from pathlib import Path"
   ]
  },
  {
   "cell_type": "code",
   "execution_count": 40,
   "id": "anonymous-prerequisite",
   "metadata": {
    "slideshow": {
     "slide_type": "slide"
    }
   },
   "outputs": [
    {
     "name": "stdout",
     "output_type": "stream",
     "text": [
      "Requirement already satisfied: pandas in /Users/levan/anaconda3/envs/edu/lib/python3.9/site-packages (1.2.4)\n",
      "Requirement already satisfied: python-dateutil>=2.7.3 in /Users/levan/anaconda3/envs/edu/lib/python3.9/site-packages (from pandas) (2.8.1)\n",
      "Requirement already satisfied: pytz>=2017.3 in /Users/levan/anaconda3/envs/edu/lib/python3.9/site-packages (from pandas) (2021.1)\n",
      "Requirement already satisfied: numpy>=1.16.5 in /Users/levan/anaconda3/envs/edu/lib/python3.9/site-packages (from pandas) (1.20.1)\n",
      "Requirement already satisfied: six>=1.5 in /Users/levan/anaconda3/envs/edu/lib/python3.9/site-packages (from python-dateutil>=2.7.3->pandas) (1.15.0)\n"
     ]
    }
   ],
   "source": [
    "! pip install -U pandas"
   ]
  },
  {
   "cell_type": "code",
   "execution_count": 41,
   "id": "sudden-sharing",
   "metadata": {
    "slideshow": {
     "slide_type": "slide"
    }
   },
   "outputs": [],
   "source": [
    "import pandas as pd"
   ]
  },
  {
   "cell_type": "code",
   "execution_count": 42,
   "id": "empirical-greek",
   "metadata": {
    "slideshow": {
     "slide_type": "slide"
    }
   },
   "outputs": [
    {
     "name": "stdout",
     "output_type": "stream",
     "text": [
      "Requirement already satisfied: scikit-learn in /Users/levan/anaconda3/envs/edu/lib/python3.9/site-packages (0.24.2)\n",
      "Requirement already satisfied: joblib>=0.11 in /Users/levan/anaconda3/envs/edu/lib/python3.9/site-packages (from scikit-learn) (1.0.1)\n",
      "Requirement already satisfied: scipy>=0.19.1 in /Users/levan/anaconda3/envs/edu/lib/python3.9/site-packages (from scikit-learn) (1.6.1)\n",
      "Requirement already satisfied: numpy>=1.13.3 in /Users/levan/anaconda3/envs/edu/lib/python3.9/site-packages (from scikit-learn) (1.20.1)\n",
      "Requirement already satisfied: threadpoolctl>=2.0.0 in /Users/levan/anaconda3/envs/edu/lib/python3.9/site-packages (from scikit-learn) (2.1.0)\n"
     ]
    }
   ],
   "source": [
    "! pip install -U scikit-learn"
   ]
  },
  {
   "cell_type": "code",
   "execution_count": 43,
   "id": "average-auditor",
   "metadata": {
    "slideshow": {
     "slide_type": "slide"
    }
   },
   "outputs": [],
   "source": [
    "from sklearn import datasets as ds"
   ]
  },
  {
   "cell_type": "code",
   "execution_count": 44,
   "id": "integrated-neighbor",
   "metadata": {
    "slideshow": {
     "slide_type": "slide"
    }
   },
   "outputs": [
    {
     "data": {
      "text/plain": [
       "array(['CRIM', 'ZN', 'INDUS', 'CHAS', 'NOX', 'RM', 'AGE', 'DIS', 'RAD',\n",
       "       'TAX', 'PTRATIO', 'B', 'LSTAT'], dtype='<U7')"
      ]
     },
     "execution_count": 44,
     "metadata": {},
     "output_type": "execute_result"
    }
   ],
   "source": [
    "boston = ds.load_boston()\n",
    "boston_cols = boston.feature_names\n",
    "boston_cols"
   ]
  },
  {
   "cell_type": "code",
   "execution_count": 45,
   "id": "democratic-layer",
   "metadata": {
    "slideshow": {
     "slide_type": "slide"
    }
   },
   "outputs": [
    {
     "data": {
      "text/html": [
       "<div>\n",
       "<style scoped>\n",
       "    .dataframe tbody tr th:only-of-type {\n",
       "        vertical-align: middle;\n",
       "    }\n",
       "\n",
       "    .dataframe tbody tr th {\n",
       "        vertical-align: top;\n",
       "    }\n",
       "\n",
       "    .dataframe thead th {\n",
       "        text-align: right;\n",
       "    }\n",
       "</style>\n",
       "<table border=\"1\" class=\"dataframe\">\n",
       "  <thead>\n",
       "    <tr style=\"text-align: right;\">\n",
       "      <th></th>\n",
       "      <th>CRIM</th>\n",
       "      <th>ZN</th>\n",
       "      <th>INDUS</th>\n",
       "      <th>CHAS</th>\n",
       "      <th>NOX</th>\n",
       "      <th>RM</th>\n",
       "      <th>AGE</th>\n",
       "      <th>DIS</th>\n",
       "      <th>RAD</th>\n",
       "      <th>TAX</th>\n",
       "      <th>PTRATIO</th>\n",
       "      <th>B</th>\n",
       "      <th>LSTAT</th>\n",
       "    </tr>\n",
       "  </thead>\n",
       "  <tbody>\n",
       "    <tr>\n",
       "      <th>0</th>\n",
       "      <td>0.00632</td>\n",
       "      <td>18.0</td>\n",
       "      <td>2.31</td>\n",
       "      <td>0.0</td>\n",
       "      <td>0.538</td>\n",
       "      <td>6.575</td>\n",
       "      <td>65.2</td>\n",
       "      <td>4.0900</td>\n",
       "      <td>1.0</td>\n",
       "      <td>296.0</td>\n",
       "      <td>15.3</td>\n",
       "      <td>396.90</td>\n",
       "      <td>4.98</td>\n",
       "    </tr>\n",
       "    <tr>\n",
       "      <th>1</th>\n",
       "      <td>0.02731</td>\n",
       "      <td>0.0</td>\n",
       "      <td>7.07</td>\n",
       "      <td>0.0</td>\n",
       "      <td>0.469</td>\n",
       "      <td>6.421</td>\n",
       "      <td>78.9</td>\n",
       "      <td>4.9671</td>\n",
       "      <td>2.0</td>\n",
       "      <td>242.0</td>\n",
       "      <td>17.8</td>\n",
       "      <td>396.90</td>\n",
       "      <td>9.14</td>\n",
       "    </tr>\n",
       "    <tr>\n",
       "      <th>2</th>\n",
       "      <td>0.02729</td>\n",
       "      <td>0.0</td>\n",
       "      <td>7.07</td>\n",
       "      <td>0.0</td>\n",
       "      <td>0.469</td>\n",
       "      <td>7.185</td>\n",
       "      <td>61.1</td>\n",
       "      <td>4.9671</td>\n",
       "      <td>2.0</td>\n",
       "      <td>242.0</td>\n",
       "      <td>17.8</td>\n",
       "      <td>392.83</td>\n",
       "      <td>4.03</td>\n",
       "    </tr>\n",
       "    <tr>\n",
       "      <th>3</th>\n",
       "      <td>0.03237</td>\n",
       "      <td>0.0</td>\n",
       "      <td>2.18</td>\n",
       "      <td>0.0</td>\n",
       "      <td>0.458</td>\n",
       "      <td>6.998</td>\n",
       "      <td>45.8</td>\n",
       "      <td>6.0622</td>\n",
       "      <td>3.0</td>\n",
       "      <td>222.0</td>\n",
       "      <td>18.7</td>\n",
       "      <td>394.63</td>\n",
       "      <td>2.94</td>\n",
       "    </tr>\n",
       "    <tr>\n",
       "      <th>4</th>\n",
       "      <td>0.06905</td>\n",
       "      <td>0.0</td>\n",
       "      <td>2.18</td>\n",
       "      <td>0.0</td>\n",
       "      <td>0.458</td>\n",
       "      <td>7.147</td>\n",
       "      <td>54.2</td>\n",
       "      <td>6.0622</td>\n",
       "      <td>3.0</td>\n",
       "      <td>222.0</td>\n",
       "      <td>18.7</td>\n",
       "      <td>396.90</td>\n",
       "      <td>5.33</td>\n",
       "    </tr>\n",
       "    <tr>\n",
       "      <th>5</th>\n",
       "      <td>0.02985</td>\n",
       "      <td>0.0</td>\n",
       "      <td>2.18</td>\n",
       "      <td>0.0</td>\n",
       "      <td>0.458</td>\n",
       "      <td>6.430</td>\n",
       "      <td>58.7</td>\n",
       "      <td>6.0622</td>\n",
       "      <td>3.0</td>\n",
       "      <td>222.0</td>\n",
       "      <td>18.7</td>\n",
       "      <td>394.12</td>\n",
       "      <td>5.21</td>\n",
       "    </tr>\n",
       "    <tr>\n",
       "      <th>6</th>\n",
       "      <td>0.08829</td>\n",
       "      <td>12.5</td>\n",
       "      <td>7.87</td>\n",
       "      <td>0.0</td>\n",
       "      <td>0.524</td>\n",
       "      <td>6.012</td>\n",
       "      <td>66.6</td>\n",
       "      <td>5.5605</td>\n",
       "      <td>5.0</td>\n",
       "      <td>311.0</td>\n",
       "      <td>15.2</td>\n",
       "      <td>395.60</td>\n",
       "      <td>12.43</td>\n",
       "    </tr>\n",
       "    <tr>\n",
       "      <th>7</th>\n",
       "      <td>0.14455</td>\n",
       "      <td>12.5</td>\n",
       "      <td>7.87</td>\n",
       "      <td>0.0</td>\n",
       "      <td>0.524</td>\n",
       "      <td>6.172</td>\n",
       "      <td>96.1</td>\n",
       "      <td>5.9505</td>\n",
       "      <td>5.0</td>\n",
       "      <td>311.0</td>\n",
       "      <td>15.2</td>\n",
       "      <td>396.90</td>\n",
       "      <td>19.15</td>\n",
       "    </tr>\n",
       "    <tr>\n",
       "      <th>8</th>\n",
       "      <td>0.21124</td>\n",
       "      <td>12.5</td>\n",
       "      <td>7.87</td>\n",
       "      <td>0.0</td>\n",
       "      <td>0.524</td>\n",
       "      <td>5.631</td>\n",
       "      <td>100.0</td>\n",
       "      <td>6.0821</td>\n",
       "      <td>5.0</td>\n",
       "      <td>311.0</td>\n",
       "      <td>15.2</td>\n",
       "      <td>386.63</td>\n",
       "      <td>29.93</td>\n",
       "    </tr>\n",
       "    <tr>\n",
       "      <th>9</th>\n",
       "      <td>0.17004</td>\n",
       "      <td>12.5</td>\n",
       "      <td>7.87</td>\n",
       "      <td>0.0</td>\n",
       "      <td>0.524</td>\n",
       "      <td>6.004</td>\n",
       "      <td>85.9</td>\n",
       "      <td>6.5921</td>\n",
       "      <td>5.0</td>\n",
       "      <td>311.0</td>\n",
       "      <td>15.2</td>\n",
       "      <td>386.71</td>\n",
       "      <td>17.10</td>\n",
       "    </tr>\n",
       "  </tbody>\n",
       "</table>\n",
       "</div>"
      ],
      "text/plain": [
       "      CRIM    ZN  INDUS  CHAS    NOX     RM    AGE     DIS  RAD    TAX  \\\n",
       "0  0.00632  18.0   2.31   0.0  0.538  6.575   65.2  4.0900  1.0  296.0   \n",
       "1  0.02731   0.0   7.07   0.0  0.469  6.421   78.9  4.9671  2.0  242.0   \n",
       "2  0.02729   0.0   7.07   0.0  0.469  7.185   61.1  4.9671  2.0  242.0   \n",
       "3  0.03237   0.0   2.18   0.0  0.458  6.998   45.8  6.0622  3.0  222.0   \n",
       "4  0.06905   0.0   2.18   0.0  0.458  7.147   54.2  6.0622  3.0  222.0   \n",
       "5  0.02985   0.0   2.18   0.0  0.458  6.430   58.7  6.0622  3.0  222.0   \n",
       "6  0.08829  12.5   7.87   0.0  0.524  6.012   66.6  5.5605  5.0  311.0   \n",
       "7  0.14455  12.5   7.87   0.0  0.524  6.172   96.1  5.9505  5.0  311.0   \n",
       "8  0.21124  12.5   7.87   0.0  0.524  5.631  100.0  6.0821  5.0  311.0   \n",
       "9  0.17004  12.5   7.87   0.0  0.524  6.004   85.9  6.5921  5.0  311.0   \n",
       "\n",
       "   PTRATIO       B  LSTAT  \n",
       "0     15.3  396.90   4.98  \n",
       "1     17.8  396.90   9.14  \n",
       "2     17.8  392.83   4.03  \n",
       "3     18.7  394.63   2.94  \n",
       "4     18.7  396.90   5.33  \n",
       "5     18.7  394.12   5.21  \n",
       "6     15.2  395.60  12.43  \n",
       "7     15.2  396.90  19.15  \n",
       "8     15.2  386.63  29.93  \n",
       "9     15.2  386.71  17.10  "
      ]
     },
     "execution_count": 45,
     "metadata": {},
     "output_type": "execute_result"
    }
   ],
   "source": [
    "bpston_data = pd.DataFrame(boston.data)\n",
    "bpston_data.columns = boston.feature_names\n",
    "bpston_data.head(10)"
   ]
  },
  {
   "cell_type": "code",
   "execution_count": 46,
   "id": "biological-switzerland",
   "metadata": {
    "slideshow": {
     "slide_type": "slide"
    }
   },
   "outputs": [
    {
     "name": "stdout",
     "output_type": "stream",
     "text": [
      "Requirement already satisfied: matplotlib in /Users/levan/anaconda3/envs/edu/lib/python3.9/site-packages (3.3.4)\r\n",
      "Requirement already satisfied: kiwisolver>=1.0.1 in /Users/levan/anaconda3/envs/edu/lib/python3.9/site-packages (from matplotlib) (1.3.1)\r\n",
      "Requirement already satisfied: python-dateutil>=2.1 in /Users/levan/anaconda3/envs/edu/lib/python3.9/site-packages (from matplotlib) (2.8.1)\r\n",
      "Requirement already satisfied: cycler>=0.10 in /Users/levan/anaconda3/envs/edu/lib/python3.9/site-packages (from matplotlib) (0.10.0)\r\n",
      "Requirement already satisfied: pillow>=6.2.0 in /Users/levan/anaconda3/envs/edu/lib/python3.9/site-packages (from matplotlib) (8.1.2)\r\n",
      "Requirement already satisfied: pyparsing!=2.0.4,!=2.1.2,!=2.1.6,>=2.0.3 in /Users/levan/anaconda3/envs/edu/lib/python3.9/site-packages (from matplotlib) (2.4.7)\r\n",
      "Requirement already satisfied: numpy>=1.15 in /Users/levan/anaconda3/envs/edu/lib/python3.9/site-packages (from matplotlib) (1.20.1)\r\n",
      "Requirement already satisfied: six in /Users/levan/anaconda3/envs/edu/lib/python3.9/site-packages (from cycler>=0.10->matplotlib) (1.15.0)\r\n"
     ]
    }
   ],
   "source": [
    "! pip install matplotlib"
   ]
  },
  {
   "cell_type": "code",
   "execution_count": 47,
   "id": "sixth-change",
   "metadata": {
    "slideshow": {
     "slide_type": "slide"
    }
   },
   "outputs": [],
   "source": [
    "import matplotlib.pyplot as plt"
   ]
  },
  {
   "cell_type": "code",
   "execution_count": 48,
   "id": "interesting-guess",
   "metadata": {
    "slideshow": {
     "slide_type": "slide"
    }
   },
   "outputs": [
    {
     "data": {
      "image/png": "[encoded data removed]",
      "text/plain": [
       "<Figure size 1440x360 with 2 Axes>"
      ]
     },
     "metadata": {
      "needs_background": "light"
     },
     "output_type": "display_data"
    }
   ],
   "source": [
    "plt.figure(figsize=(20, 5))\n",
    "\n",
    "features = ['AGE', 'RM']\n",
    "target = boston['target']\n",
    "\n",
    "for i, col in enumerate(features):\n",
    "    plt.subplot(1, len(features) , i+1)\n",
    "    x = bpston_data[col]\n",
    "    y = target\n",
    "    plt.scatter(x, y, marker='o')\n",
    "    plt.title(col)\n",
    "    plt.xlabel(col)\n",
    "    plt.ylabel('PRICE')"
   ]
  },
  {
   "cell_type": "markdown",
   "id": "earned-anaheim",
   "metadata": {
    "slideshow": {
     "slide_type": "slide"
    }
   },
   "source": [
    "Feature types:\n",
    "- Categorical\n",
    "- Numerical"
   ]
  },
  {
   "cell_type": "markdown",
   "id": "prepared-monte",
   "metadata": {
    "slideshow": {
     "slide_type": "slide"
    }
   },
   "source": [
    "#### General data"
   ]
  },
  {
   "cell_type": "markdown",
   "id": "standard-plain",
   "metadata": {
    "slideshow": {
     "slide_type": "slide"
    }
   },
   "source": [
    "Images and text for instance does not have particulad features"
   ]
  },
  {
   "cell_type": "markdown",
   "id": "square-perspective",
   "metadata": {
    "slideshow": {
     "slide_type": "slide"
    }
   },
   "source": [
    "For text each word is converted in vector from \n",
    "$$\n",
    "\\mathbb{R}^n\n",
    "$$\n",
    "<br>\n",
    "For images \n",
    "$$\n",
    "X^i \\in \\mathbb{R}^{c \\times h \\times w}\n",
    "$$\n",
    "<br>\n",
    "There might be input data of mixed types, for instance \n",
    "$$\n",
    "G^i = (X^i, A)\n",
    "$$\n",
    "where$X^i \\in \\mathbb{R}^d$ and $A \\in \\mathbb{R}^{n \\times n}$\n"
   ]
  },
  {
   "cell_type": "markdown",
   "id": "frequent-barrel",
   "metadata": {
    "slideshow": {
     "slide_type": "slide"
    }
   },
   "source": [
    "#### Labels"
   ]
  },
  {
   "cell_type": "markdown",
   "id": "leading-remark",
   "metadata": {
    "slideshow": {
     "slide_type": "slide"
    }
   },
   "source": [
    "labels are predefined values $Y^i$ for each $X^i$\n",
    "$$\n",
    "\\text{Labels: } (Y^1, Y^2, \\dots, Y^m)\n",
    "$$\n",
    "Labels might be any mathematical objects, often Euclidean vectors or elements of manifolds as well as input data\n",
    "<br>\n",
    "For instance targets in boston house prices\n",
    "<br>\n",
    "Learning means - find appropriated function $f:X \\to Y$ for which $f(X^i)$ as as closeas possible to $Y^i$"
   ]
  },
  {
   "cell_type": "markdown",
   "id": "amateur-neighbor",
   "metadata": {},
   "source": [
    "## Parametrized model"
   ]
  },
  {
   "cell_type": "markdown",
   "id": "sought-multimedia",
   "metadata": {},
   "source": [
    "Oftem ML models $f:X \\to Y$ are class of parametrized functions:\n",
    "- Linear function:\n",
    "$$\n",
    "f(X) = W \\dot X + b\n",
    "$$\n",
    "with parameters $W \\in \\mathbb{R}^d$ and $b \\in \\mathbb{R}^1$\n",
    "- Logistic function (Logitic regression):\n",
    "$$\n",
    "f(X) = \\sigma(W \\dot X + b)\n",
    "$$\n",
    "with parameters $W \\in \\mathbb{R}^d$ and $b \\in \\mathbb{R}^1$\n",
    "- Neural networks (Multi-layer perceptron):\n",
    "$$\n",
    "f(X) = f^L \\circ f^{L-1} \\circ \\dots \\circ f^1\n",
    "$$\n",
    "Where $f^l(Z^l) = a(W^l \\dot Z^l + b^l)$\n",
    "with parameters $W^l \\in \\mathbb{R}^{n^l \\times m^l}$ and $b^l \\in \\mathbb{R}^{m^l}$"
   ]
  },
  {
   "cell_type": "markdown",
   "id": "operational-sussex",
   "metadata": {
    "slideshow": {
     "slide_type": "slide"
    }
   },
   "source": [
    "## Loss and cost"
   ]
  },
  {
   "cell_type": "markdown",
   "id": "sporting-addition",
   "metadata": {
    "slideshow": {
     "slide_type": "slide"
    }
   },
   "source": [
    "Loss is the estimation of the error for each point $X^i$ with respect of $Y^i$\n",
    "$$\n",
    "L(f(X^i), Y^i)\n",
    "$$\n",
    "for instance\n",
    "$$\n",
    "L(f(X^i), Y^i) = ||f(X^i) - Y^i||_2^2\n",
    "$$\n",
    "Euclidean distance"
   ]
  },
  {
   "cell_type": "markdown",
   "id": "broad-extreme",
   "metadata": {
    "slideshow": {
     "slide_type": "slide"
    }
   },
   "source": [
    "Cost is the aggreagtion our loss for entire $X = (X^1, X^2, \\dots, X^m)$\n",
    "$$\n",
    "C = \\text{aggr}_{i=1}^m(L(f(X^i), Y^i))\n",
    "$$\n",
    "For instance calculate the mean\n",
    "$$\n",
    "C = \\frac{1}{m}\\sum_{i=1}^m(L(f(X^i), Y^i))\n",
    "$$\n",
    "More concrete:\n",
    "$$\n",
    "C = \\frac{1}{m}\\sum_{i=1}^m(||f(X^i) - Y^i||_2^2)\n",
    "$$"
   ]
  },
  {
   "cell_type": "markdown",
   "id": "patient-catch",
   "metadata": {
    "slideshow": {
     "slide_type": "slide"
    }
   },
   "source": [
    "Now if we consider our data points $X = (X^1, X^2, \\dots, X^m)$ and labels $Y = (Y^1, Y^2, \\dots, Y^m)$ static and variables our parameters, we gen a function:\n",
    "$$\n",
    "L = L(W, b)\n",
    "$$\n",
    "<br>\n",
    "and\n",
    "$$\n",
    "C(W, b) = \\text{aggr}_{i=1}^m(L(f(X^i), Y^i))\n",
    "$$\n",
    "For instance calculate the mean\n",
    "$$\n",
    "C(W, b) = \\frac{1}{m}\\sum_{i=1}^m(L(f(X^i), Y^i))\n",
    "$$\n",
    "<br>\n",
    "All we need is to minimize $C(W, b)$ or find $\\text{min}_{W\\in \\mathcal{W}} C(W)$"
   ]
  },
  {
   "cell_type": "markdown",
   "id": "owned-direction",
   "metadata": {
    "slideshow": {
     "slide_type": "slide"
    }
   },
   "source": [
    "Question, how can we find this minimum point?"
   ]
  },
  {
   "cell_type": "markdown",
   "id": "underlying-david",
   "metadata": {
    "slideshow": {
     "slide_type": "slide"
    }
   },
   "source": [
    "Don't forget that we use all $X$ not for particular $X^i$"
   ]
  },
  {
   "cell_type": "markdown",
   "id": "exact-ferry",
   "metadata": {
    "slideshow": {
     "slide_type": "slide"
    }
   },
   "source": [
    "## Types of machine learning"
   ]
  },
  {
   "cell_type": "markdown",
   "id": "ideal-beatles",
   "metadata": {
    "slideshow": {
     "slide_type": "slide"
    }
   },
   "source": [
    "Clasification vs regression:\n",
    "<img src=\"images/intro1/regression_class_1.png\" height=\"800\" width=\"800\">"
   ]
  },
  {
   "cell_type": "markdown",
   "id": "piano-gathering",
   "metadata": {
    "slideshow": {
     "slide_type": "slide"
    }
   },
   "source": [
    "- Predicting sentiments\n",
    "- Predicting prices\n",
    "- Object on images"
   ]
  },
  {
   "cell_type": "code",
   "execution_count": null,
   "id": "divine-lingerie",
   "metadata": {
    "slideshow": {
     "slide_type": "slide"
    }
   },
   "outputs": [],
   "source": []
  }
 ],
 "metadata": {
  "celltoolbar": "Slideshow",
  "kernelspec": {
   "display_name": "Python 3",
   "language": "python",
   "name": "python3"
  },
  "language_info": {
   "codemirror_mode": {
    "name": "ipython",
    "version": 3
   },
   "file_extension": ".py",
   "mimetype": "text/x-python",
   "name": "python",
   "nbconvert_exporter": "python",
   "pygments_lexer": "ipython3",
   "version": "3.9.2"
  }
 },
 "nbformat": 4,
 "nbformat_minor": 5
}
