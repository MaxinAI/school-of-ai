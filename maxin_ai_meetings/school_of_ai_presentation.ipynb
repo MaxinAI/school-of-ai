{
 "cells": [
  {
   "cell_type": "code",
   "execution_count": 1,
   "id": "enhanced-constraint",
   "metadata": {
    "slideshow": {
     "slide_type": "slide"
    }
   },
   "outputs": [],
   "source": [
    "%load_ext autoreload\n",
    "%autoreload 2\n",
    "\n",
    "%matplotlib inline"
   ]
  },
  {
   "cell_type": "markdown",
   "id": "daily-camera",
   "metadata": {
    "slideshow": {
     "slide_type": "slide"
    }
   },
   "source": [
    "## School of AI"
   ]
  },
  {
   "cell_type": "markdown",
   "id": "reflected-gravity",
   "metadata": {
    "slideshow": {
     "slide_type": "slide"
    }
   },
   "source": [
    "#### Topics"
   ]
  },
  {
   "cell_type": "markdown",
   "id": "sweet-cross",
   "metadata": {
    "slideshow": {
     "slide_type": "slide"
    }
   },
   "source": [
    "###### Part 1 - Introduction to genaral machine / statistical learning\n",
    "\n",
    "- Introduction to Machine Learning\n",
    " * Why Machine Learning\n",
    " * Supervised, Self-supervised (Unsupervised) and Reinforcement Learning\n",
    " * Machine Learning in Industry and Research\n",
    " * Regression vs Classification\n",
    " * Linear regression and loss function\n",
    " * Training linear regression using Pandas and NumPy\n",
    " * Logistic regression\n",
    " * Data organization and hyperparameters optimization\n",
    "- Regularization in ML, Intro to Scikit-Learn\n",
    " * Model Generalization, Overfitting and Underfitting\n",
    " * Expected Test Error, Cross-Validation, Bias-Variance Trade-Off\n",
    " * L1 and L2 Regularizations\n",
    " * Introduction to Scikit-Learn, example use-cases\n",
    " * Other libraries in ML\n",
    "- Support Vector Machines\n",
    " * SVM from Logistic Regression\n",
    " * Geometry of SVM\n",
    " * SVM using scikit-learn and Pandas\n",
    " * Different types of kernels\n",
    "- Naive Bayes\n",
    " * Bayes Theorem\n",
    " * Spam Classifier\n",
    " * Naive Bayes\n",
    " * Implementation for Spam classification\n",
    "- Decision Trees and Ensembles\n",
    " * Decision Trees\n",
    " * Decision Trees using scikit-learn and Pandas\n",
    " * Ensemble methods\n",
    " * Bagging and Boosting\n",
    " * Random Forest\n",
    "   - Random Forest using scikit-learn and Pandas\n",
    "   - Hyperparameters optimization\n",
    "   - Classification and Regression\n",
    " * AdaBoost and Gradient Boosting\n",
    "   - AdaBoost\n",
    "   - Gradient Boosting\n",
    "   - XGBoost library\n",
    "   - Training Gradient Boosting model using XGBoost library and Pandas\n",
    "- Clusterization\n",
    " * k-Means clusterization\n",
    " * Hierarchical clusterization\n",
    " * Implementation using scikit-learn\n",
    " * Other techniques of clusterization\n",
    " * Gaussian Mixture Models  \n"
   ]
  },
  {
   "cell_type": "markdown",
   "id": "forced-puppy",
   "metadata": {
    "slideshow": {
     "slide_type": "slide"
    }
   },
   "source": [
    "###### Partt 2 - Deep learning\n",
    "<br>\n",
    "\n",
    "- Introduction to Neural Networks\n",
    " * Lecture\n",
    "    - Simple Neural Networks\n",
    "     * Reverse mode differentiation\n",
    "     * Backpropagation\n",
    " * Workshop: Develop first neural network\n",
    "    - Develop neural network with backpropagation applying NumPy only\n",
    "    - Train neural network\n",
    "- Optimization Algorithms\n",
    "  * Lecture:\n",
    "    - Optimizations:\n",
    "     * SGD, (Nesterov) Momentum\n",
    "     * AdaGrad, AdaDelta, RMSProp\n",
    "     * Adam, AdamW, RAdam\n",
    "     * Future reading/learning\n",
    "  * Workshop:\n",
    "    - Develop optimization algorithms using NumPy only\n",
    "     * Introduction to PyTorch\n",
    "     * Train models with PyTorch\n",
    "     * Train model with one-cycle policy using FastAI library\n",
    "- Regularizations\n",
    " * Lecture:\n",
    "    - Regularizations: \n",
    "    - Dropout\n",
    "    - Weights Decay\n",
    "    - Normalizations:\n",
    "    - Batch Normalization\n",
    "    - Weight Normalization\n",
    "    - Layer Normalization\n",
    "    - Data augmentation\n",
    "    - Early Stoppling\n",
    "    - Weight / Bias Initialization\n",
    " * Workshop:\n",
    "    - Python for web - Introduction with Flask\n",
    "    - REST API for inference\n",
    "- Introduction to Convolutional Neural Networks\n",
    " * Lecture:\n",
    "    - Convolutional Neural Networks\n",
    "    - Image Classification\n",
    "    - Feature maps visualization\n",
    "    - Features extraction\n",
    "    - VGG16, Inception v3, ResNet, Inception-ResNet v2 architectures\n",
    " * Workshop:\n",
    "    - Train Georgian character recognition model\n",
    "    - Try residual connections\n",
    "    - Deploy trained model as a service\n",
    "    - Fine-tune model using FastAI library\n",
    "- Backpropagation for Convolution\n",
    "    * Lecture\n",
    "        - Backpropagation for Convolutional Layers\n",
    "        - Backpropagation for Pooling Layers\n",
    "        - Retraining and fine-tuning\n",
    "        - Fine-tuning with Discriminative Learning Rate\n",
    "\n",
    "\n",
    "- Semantic Segmentation and Object Detection:\n",
    "    * Lecture:\n",
    "        - Semantic Segmentation\n",
    "        - Learnable Up-sampling Layers\n",
    "        - UNet Architecture\n",
    "        - One-shot Object Detection YOLO / YOLO v3, \n",
    "        - Anchor Boxes\n",
    "        - Non-max suppression\n",
    "    * Workshop:\n",
    "        - Cloud computing on AWS systems\n",
    "        - Data scraping\n",
    "        \n",
    "- Object Detection Models\n",
    "    * Lecture:\n",
    "        - SSD\n",
    "        - RetinaNet\n",
    "        - Region Proposals and RCNN\n",
    "        - Fast-RCNN, Faster-RCNN\n",
    "        - Mask-RCNN, Cascade-RCNN\n",
    "        - Other Models\n",
    "  \n",
    "- Self-supervised and Semi-supervised Learning, Generative Models\n",
    "    * Lecture:\n",
    "        - Self-supervised learning for Image Representations\n",
    "        - Semi-supervised learning\n",
    "        - Auto-encoders, Variational Auto-encoders, Image Super-resolution\n",
    "        - Generative Adversarial Networks, \n",
    "        - Different additional GAN Algorithms: Wasserstein GAN, BigBiGAN, CycleGAN\n",
    "    * Workshop:\n",
    "        - Train Faster-RCNN model using Detectron2 library\n",
    "        - Train UNet for super-resolution\n",
    "        - Image retrieval\n",
    "        - Face recognition systems\n",
    "        \n",
    "- Natural Language Processing - Part 1\n",
    "    * Brief overview of common NLP Tasks: NER, POS, etc...\n",
    "    * Text Representation - BOW, TF-IDF\n",
    "    * Word Embeddings - Word2Vec, FastText\n",
    "    * LDA\n",
    "    \n",
    "- Natural Language Processing - Part 2\n",
    "    * Recurrent Neural Networks, LSTM, GRU\n",
    "    * Seq-to-Seq Framework \n",
    "    * Language Modelling (Next Token Prediction, Masked Language Modelling) \n",
    "    * Advanced Models - GPT, BERT, ALBERT, ELECTRA...\n",
    "    \n",
    "- Deep Learning for Graphs\n",
    "    * Lecture:\n",
    "        - Introduction to Graphs, Graph Spectral Analysis, Graph Kernels Machine Learning on Graph Kernels\n",
    "    * Workshop:\n",
    "        - Graph classification with different kernels and classifiers using GraKel and scikit-learn\n",
    "    * Lecture:\n",
    "        - Graph Neural Networks, GCN, Graph Classification, Node Classification, Graph Embeddings\n",
    "    * Workshop:\n",
    "        - Node classification with GCN models using PyTorch-geometric\n",
    "        - Graph classification with GCN models using PyTorch-geometric\n",
    "\n",
    "\n",
    "\n",
    "\n",
    "\n",
    "\n",
    "\n"
   ]
  },
  {
   "cell_type": "markdown",
   "id": "consolidated-absence",
   "metadata": {
    "slideshow": {
     "slide_type": "slide"
    }
   },
   "source": [
    "3"
   ]
  },
  {
   "cell_type": "markdown",
   "id": "extended-conservative",
   "metadata": {
    "slideshow": {
     "slide_type": "slide"
    }
   },
   "source": [
    "4"
   ]
  },
  {
   "cell_type": "markdown",
   "id": "crazy-atlas",
   "metadata": {
    "slideshow": {
     "slide_type": "slide"
    }
   },
   "source": [
    "5"
   ]
  },
  {
   "cell_type": "markdown",
   "id": "current-probe",
   "metadata": {
    "slideshow": {
     "slide_type": "slide"
    }
   },
   "source": [
    "6"
   ]
  },
  {
   "cell_type": "markdown",
   "id": "attached-school",
   "metadata": {
    "slideshow": {
     "slide_type": "slide"
    }
   },
   "source": [
    "7"
   ]
  },
  {
   "cell_type": "markdown",
   "id": "comic-crawford",
   "metadata": {
    "slideshow": {
     "slide_type": "slide"
    }
   },
   "source": [
    "8"
   ]
  },
  {
   "cell_type": "markdown",
   "id": "ideal-mechanics",
   "metadata": {
    "slideshow": {
     "slide_type": "slide"
    }
   },
   "source": [
    "9"
   ]
  },
  {
   "cell_type": "markdown",
   "id": "processed-watershed",
   "metadata": {
    "slideshow": {
     "slide_type": "slide"
    }
   },
   "source": [
    "0"
   ]
  },
  {
   "cell_type": "markdown",
   "id": "behind-moisture",
   "metadata": {
    "slideshow": {
     "slide_type": "slide"
    }
   },
   "source": [
    "1"
   ]
  },
  {
   "cell_type": "markdown",
   "id": "above-packaging",
   "metadata": {
    "slideshow": {
     "slide_type": "slide"
    }
   },
   "source": [
    "1"
   ]
  },
  {
   "cell_type": "markdown",
   "id": "varied-aberdeen",
   "metadata": {
    "slideshow": {
     "slide_type": "slide"
    }
   },
   "source": [
    "1"
   ]
  },
  {
   "cell_type": "markdown",
   "id": "micro-kelly",
   "metadata": {
    "slideshow": {
     "slide_type": "slide"
    }
   },
   "source": [
    "1"
   ]
  },
  {
   "cell_type": "markdown",
   "id": "featured-paste",
   "metadata": {
    "slideshow": {
     "slide_type": "slide"
    }
   },
   "source": [
    "1"
   ]
  },
  {
   "cell_type": "markdown",
   "id": "extraordinary-processing",
   "metadata": {
    "slideshow": {
     "slide_type": "slide"
    }
   },
   "source": [
    "1"
   ]
  },
  {
   "cell_type": "markdown",
   "id": "roman-involvement",
   "metadata": {
    "slideshow": {
     "slide_type": "slide"
    }
   },
   "source": [
    "1"
   ]
  },
  {
   "cell_type": "markdown",
   "id": "continental-brunswick",
   "metadata": {
    "slideshow": {
     "slide_type": "slide"
    }
   },
   "source": [
    "1"
   ]
  }
 ],
 "metadata": {
  "celltoolbar": "Slideshow",
  "kernelspec": {
   "display_name": "Python 3",
   "language": "python",
   "name": "python3"
  },
  "language_info": {
   "codemirror_mode": {
    "name": "ipython",
    "version": 3
   },
   "file_extension": ".py",
   "mimetype": "text/x-python",
   "name": "python",
   "nbconvert_exporter": "python",
   "pygments_lexer": "ipython3",
   "version": "3.9.2"
  }
 },
 "nbformat": 4,
 "nbformat_minor": 5
}
