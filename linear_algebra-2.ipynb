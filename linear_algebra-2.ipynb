{
 "cells": [
  {
   "cell_type": "code",
   "execution_count": 1,
   "metadata": {},
   "outputs": [],
   "source": [
    "%load_ext autoreload\n",
    "%autoreload 2\n",
    "\n",
    "%matplotlib inline"
   ]
  },
  {
   "cell_type": "markdown",
   "metadata": {},
   "source": [
    "## Basic setup"
   ]
  },
  {
   "cell_type": "markdown",
   "metadata": {},
   "source": [
    "Create anaconda environnement\n",
    "<br>\n",
    "```bash\n",
    "conda create -n ml python=3.7.4 jupyter\n",
    "```\n",
    "Install fastai library\n",
    "<br>\n",
    "```bash\n",
    "conda install -c pytorch -c fastai fastai\n",
    "```"
   ]
  },
  {
   "cell_type": "markdown",
   "metadata": {},
   "source": [
    "# Special types of matrices"
   ]
  },
  {
   "cell_type": "markdown",
   "metadata": {},
   "source": [
    "Identity matrix $I_{n} \\in \\mathbb{R}^{n \\times n}$ is a matrix which does not changes other matric after multiplication. This kind of matrices contain ones on main diagonal and zero everywhere else \n",
    "$$\\begin{align} I_{n} &= \\begin{pmatrix}\n",
    "           1, 0, \\dots, 0 \\\\\n",
    "           0, 1, \\dots, 0 \\\\\n",
    "           \\vdots \\\\\n",
    "           0, 0, \\dots, 1 \\\\\n",
    "         \\end{pmatrix}\n",
    "  \\end{align}$$\n",
    "<br>\n",
    "or we can define it with property $\\forall a \\in \\mathbb{R}^{1 \\times n}$ holds $aI_{n} = a$ or $\\forall a \\in \\mathbb{R}^{n \\times 1}$ holds $I_{n}a =a$"
   ]
  },
  {
   "cell_type": "code",
   "execution_count": 2,
   "metadata": {},
   "outputs": [],
   "source": [
    "import numpy as np"
   ]
  },
  {
   "cell_type": "code",
   "execution_count": 3,
   "metadata": {},
   "outputs": [],
   "source": [
    "I = np.identity(4)"
   ]
  },
  {
   "cell_type": "code",
   "execution_count": 4,
   "metadata": {},
   "outputs": [
    {
     "data": {
      "text/plain": [
       "array([[1., 0., 0., 0.],\n",
       "       [0., 1., 0., 0.],\n",
       "       [0., 0., 1., 0.],\n",
       "       [0., 0., 0., 1.]])"
      ]
     },
     "execution_count": 4,
     "metadata": {},
     "output_type": "execute_result"
    }
   ],
   "source": [
    "I"
   ]
  },
  {
   "cell_type": "code",
   "execution_count": 5,
   "metadata": {},
   "outputs": [],
   "source": [
    "A = np.random.random(size=(4, 5))\n",
    "B = np.random.random(size=(6, 4))"
   ]
  },
  {
   "cell_type": "code",
   "execution_count": 6,
   "metadata": {},
   "outputs": [
    {
     "data": {
      "text/plain": [
       "array([[0.06408966, 0.63815018, 0.98566118, 0.60040464, 0.26895881],\n",
       "       [0.56413004, 0.80495305, 0.42470747, 0.76482401, 0.84452987],\n",
       "       [0.55984012, 0.69449168, 0.88445787, 0.02666495, 0.24918927],\n",
       "       [0.10106618, 0.59648755, 0.70033257, 0.77702948, 0.96643059]])"
      ]
     },
     "execution_count": 6,
     "metadata": {},
     "output_type": "execute_result"
    }
   ],
   "source": [
    "A"
   ]
  },
  {
   "cell_type": "code",
   "execution_count": 7,
   "metadata": {},
   "outputs": [
    {
     "data": {
      "text/plain": [
       "array([[0.76903034, 0.96546203, 0.97486059, 0.7271405 ],\n",
       "       [0.37869849, 0.5219698 , 0.2023284 , 0.1501247 ],\n",
       "       [0.78487406, 0.28200862, 0.05506212, 0.67700607],\n",
       "       [0.9554109 , 0.80970355, 0.70969572, 0.73534259],\n",
       "       [0.69673117, 0.37909922, 0.60046858, 0.08526293],\n",
       "       [0.74982353, 0.89713497, 0.35076501, 0.08630888]])"
      ]
     },
     "execution_count": 7,
     "metadata": {},
     "output_type": "execute_result"
    }
   ],
   "source": [
    "B"
   ]
  },
  {
   "cell_type": "code",
   "execution_count": 8,
   "metadata": {},
   "outputs": [
    {
     "data": {
      "text/plain": [
       "array([[0.06408966, 0.63815018, 0.98566118, 0.60040464, 0.26895881],\n",
       "       [0.56413004, 0.80495305, 0.42470747, 0.76482401, 0.84452987],\n",
       "       [0.55984012, 0.69449168, 0.88445787, 0.02666495, 0.24918927],\n",
       "       [0.10106618, 0.59648755, 0.70033257, 0.77702948, 0.96643059]])"
      ]
     },
     "execution_count": 8,
     "metadata": {},
     "output_type": "execute_result"
    }
   ],
   "source": [
    "I @ A"
   ]
  },
  {
   "cell_type": "code",
   "execution_count": 9,
   "metadata": {},
   "outputs": [
    {
     "data": {
      "text/plain": [
       "array([[0.76903034, 0.96546203, 0.97486059, 0.7271405 ],\n",
       "       [0.37869849, 0.5219698 , 0.2023284 , 0.1501247 ],\n",
       "       [0.78487406, 0.28200862, 0.05506212, 0.67700607],\n",
       "       [0.9554109 , 0.80970355, 0.70969572, 0.73534259],\n",
       "       [0.69673117, 0.37909922, 0.60046858, 0.08526293],\n",
       "       [0.74982353, 0.89713497, 0.35076501, 0.08630888]])"
      ]
     },
     "execution_count": 9,
     "metadata": {},
     "output_type": "execute_result"
    }
   ],
   "source": [
    "B @ I"
   ]
  },
  {
   "cell_type": "markdown",
   "metadata": {},
   "source": [
    "Inverse matrix of $A \\in \\mathbb{R}^{n \\times n}$, is the matrix $A^{-1} \\in \\mathbb{R}^{n \\times n}$ for which $A^{-1}A = I$"
   ]
  },
  {
   "cell_type": "code",
   "execution_count": 10,
   "metadata": {},
   "outputs": [
    {
     "data": {
      "text/plain": [
       "array([[0.6125751 , 0.15888746, 0.02223882, 0.76618076, 0.73241619,\n",
       "        0.6289349 , 0.226645  , 0.65588465],\n",
       "       [0.94065533, 0.58736191, 0.26012329, 0.7874319 , 0.60034295,\n",
       "        0.06654736, 0.08035717, 0.04901165],\n",
       "       [0.89697854, 0.29096958, 0.80725843, 0.64895212, 0.3339324 ,\n",
       "        0.78196143, 0.32624645, 0.8055663 ],\n",
       "       [0.79326052, 0.23051901, 0.92566027, 0.43530543, 0.34541688,\n",
       "        0.89705842, 0.26389673, 0.13180854],\n",
       "       [0.33051925, 0.91756976, 0.72004206, 0.38663996, 0.61841383,\n",
       "        0.82386967, 0.14516633, 0.61626046],\n",
       "       [0.71271661, 0.66551882, 0.28096133, 0.34088832, 0.65400256,\n",
       "        0.48549735, 0.68552684, 0.69690502],\n",
       "       [0.81669031, 0.79964656, 0.3127977 , 0.66943166, 0.84117798,\n",
       "        0.02634866, 0.32596186, 0.32676447],\n",
       "       [0.12712444, 0.55476692, 0.81661922, 0.19491048, 0.19584648,\n",
       "        0.60718235, 0.46769667, 0.82171419]])"
      ]
     },
     "execution_count": 10,
     "metadata": {},
     "output_type": "execute_result"
    }
   ],
   "source": [
    "A = np.random.random(size=(8, 8))\n",
    "A"
   ]
  },
  {
   "cell_type": "code",
   "execution_count": 11,
   "metadata": {},
   "outputs": [
    {
     "data": {
      "text/plain": [
       "array([[-1.2335457 , -0.65363739,  2.11598374, -0.38724683,  0.53059156,\n",
       "         0.96910526,  0.25370425, -2.30941815],\n",
       "       [-0.61513068,  2.52377707, -0.76162407, -0.75500925,  0.84358705,\n",
       "         1.0521448 , -2.22354802,  0.56744522],\n",
       "       [-0.38682318, -1.91169979,  0.60232431,  0.75926954, -0.30995406,\n",
       "        -1.49729754,  2.49048166,  0.22246454],\n",
       "       [ 1.60950774,  3.76061659, -2.28501426,  0.05283267, -1.35486093,\n",
       "        -0.75005324, -2.3954056 ,  3.32743158],\n",
       "       [ 0.45913076, -4.14241846,  0.42817648,  0.87833232,  0.39960581,\n",
       "        -1.14464426,  4.20210662, -1.67997384],\n",
       "       [ 0.51578528,  1.38777084, -0.93476681,  0.412884  ,  0.62467068,\n",
       "         0.93994577, -2.44229189,  0.06124253],\n",
       "       [ 0.74598108,  1.79319836, -2.48813005,  0.92901548, -1.90996197,\n",
       "         1.07365698, -1.37184952,  2.65518742],\n",
       "       [-0.30636255, -1.6537287 ,  2.13509933, -1.24065116,  0.50805762,\n",
       "        -0.22716735,  1.13904757, -0.97531139]])"
      ]
     },
     "execution_count": 11,
     "metadata": {},
     "output_type": "execute_result"
    }
   ],
   "source": [
    "invA = np.linalg.inv(A)\n",
    "invA"
   ]
  },
  {
   "cell_type": "code",
   "execution_count": 12,
   "metadata": {},
   "outputs": [
    {
     "name": "stdout",
     "output_type": "stream",
     "text": [
      "[[ 1.00000000e+00 -9.89908496e-17 -3.79891541e-17  6.39680135e-16\n",
      "   2.87299269e-16  3.42368960e-16  3.58438270e-17 -2.03454327e-16]\n",
      " [ 9.42725243e-17  1.00000000e+00 -4.20154056e-16 -6.42350847e-17\n",
      "   9.38383636e-17 -5.12828326e-16 -1.76038883e-16 -1.69825984e-16]\n",
      " [-8.15130108e-17  1.92389592e-16  1.00000000e+00  2.28034486e-16\n",
      "  -2.97130533e-17  2.16630240e-16  1.45256877e-16  1.99948539e-16]\n",
      " [-3.35591407e-16  4.89921728e-16  4.89333616e-16  1.00000000e+00\n",
      "   1.39395748e-16 -1.19454826e-16 -9.31906842e-17  6.38728856e-18]\n",
      " [-9.64345199e-16 -3.00190048e-16 -3.61757625e-17 -1.09390395e-15\n",
      "   1.00000000e+00 -8.63274299e-17  2.06019002e-16  4.17368185e-16]\n",
      " [-1.50753297e-16 -8.99956809e-17 -2.22058098e-17 -2.21182031e-16\n",
      "  -9.45495772e-17  1.00000000e+00 -1.46093413e-16 -9.55137907e-17]\n",
      " [ 8.88178420e-16  8.88178420e-16  0.00000000e+00 -4.44089210e-16\n",
      "   0.00000000e+00 -4.44089210e-16  1.00000000e+00  4.44089210e-16]\n",
      " [ 0.00000000e+00  0.00000000e+00  0.00000000e+00  4.44089210e-16\n",
      "   0.00000000e+00  2.22044605e-16  0.00000000e+00  1.00000000e+00]]\n"
     ]
    }
   ],
   "source": [
    "Ia = invA @ A\n",
    "print(Ia)"
   ]
  },
  {
   "cell_type": "code",
   "execution_count": 13,
   "metadata": {},
   "outputs": [
    {
     "data": {
      "text/plain": [
       "array([[ 1., -0., -0.,  0.,  0.,  0.,  0., -0.],\n",
       "       [ 0.,  1., -0., -0.,  0., -0., -0., -0.],\n",
       "       [-0.,  0.,  1.,  0., -0.,  0.,  0.,  0.],\n",
       "       [-0.,  0.,  0.,  1.,  0., -0., -0.,  0.],\n",
       "       [-0., -0., -0., -0.,  1., -0.,  0.,  0.],\n",
       "       [-0., -0., -0., -0., -0.,  1., -0., -0.],\n",
       "       [ 0.,  0.,  0., -0.,  0., -0.,  1.,  0.],\n",
       "       [ 0.,  0.,  0.,  0.,  0.,  0.,  0.,  1.]])"
      ]
     },
     "execution_count": 13,
     "metadata": {},
     "output_type": "execute_result"
    }
   ],
   "source": [
    "np.round(Ia)"
   ]
  },
  {
   "cell_type": "markdown",
   "metadata": {},
   "source": [
    "## Vector space "
   ]
  },
  {
   "cell_type": "markdown",
   "metadata": {},
   "source": [
    "$v, u \\in \\mathbb{R}^{n}$ and for every $\\alpha \\in \\mathbb{R}^{1}$ we have $u + v \\in \\mathbb{R}^{n}$ and $\\alpha u \\in \\mathbb{R}^{n}$\n",
    "<br>\n",
    "So we have a sum and multiplication on scalar with properties:\n",
    "- for every $u, v, w \\in \\mathbb{R}^{n}$: $(u + v) + w = u + (u + w)$\n",
    "- for every $u, v \\in \\mathbb{R}^{n}$: u + v = v + u\n",
    "- there exists $0 \\in \\mathbb{R}^{n}$ such that: $0 + u = u = 0 = u$\n",
    "- for every $u \\in \\mathbb{R}^{n}$ there exists $-u \\in \\mathbb{R}^{n}$ such that: $u + (-u) = (-u) + u = 0$\n",
    "- for every $\\alpha, \\beta \\in \\mathbb{R}^{1}$ and every $u \\in \\mathbb{R}^{n}$: $\\alpha(\\beta u) = (\\alpha \\beta u)$\n",
    "- for every $u \\in \\mathbb{R}^{n}$: $1u=u1=u$\n",
    "- for every $u, v \\in \\mathbb{R}^{n}$ and $\\alpha \\in \\mathbb{R}^{1}$: $\\alpha (u + v) = \\alpha u + \\alpha v$\n",
    "- for every $\\alpha, \\beta \\in \\mathbb{R}^{1}$ and every $u \\in \\mathbb{R}^{n}$: $(\\alpha + \\beta)u = \\alpha u + \\beta v$\n",
    "<br>\n",
    "So we can define $-$ and $:$ operations as well\n",
    "If some structure satisfies such properties it's called vector space"
   ]
  },
  {
   "cell_type": "code",
   "execution_count": 14,
   "metadata": {},
   "outputs": [],
   "source": [
    "import random"
   ]
  },
  {
   "cell_type": "code",
   "execution_count": 15,
   "metadata": {},
   "outputs": [
    {
     "data": {
      "text/plain": [
       "(array([0.55092915, 0.66542492, 0.11372875, 0.73760953, 0.41543302]),\n",
       " array([0.57892338, 0.55029794, 0.23984465, 0.84579504, 0.16675286]),\n",
       " 0.005529069115488339,\n",
       " 0.9436957463169117,\n",
       " array([0.54937365, 0.522993  , 0.22696919, 0.80225147, 0.15966093]))"
      ]
     },
     "execution_count": 15,
     "metadata": {},
     "output_type": "execute_result"
    }
   ],
   "source": [
    "u = np.random.random(5)\n",
    "v = np.random.random(5)\n",
    "x = random.random()\n",
    "y = random.random()\n",
    "w = u * x + v * y\n",
    "u, v, x, y, w\n"
   ]
  },
  {
   "cell_type": "markdown",
   "metadata": {},
   "source": [
    "## Linear combination"
   ]
  },
  {
   "cell_type": "markdown",
   "metadata": {},
   "source": [
    "Let $v_1, v_2, \\dots v_n \\in \\mathbb{R}^{n}$ and $\\alpha_{1}, \\alpha_{2} \\dots \\alpha_{n} \\in \\mathbb{R}^{1}$ then linear combination of this vectors is called the vector $w = \\sum_{i=1}^{n}\\alpha_{i} v_{i}$"
   ]
  },
  {
   "cell_type": "markdown",
   "metadata": {},
   "source": [
    "Vectors $v_1, v_2, \\dots v_n \\in \\mathbb{R}^{n}$ are called lineary independent if nan of them can be linear combination of thers, of for each $i \\in (1 \\dots n)$ there is no such $\\alpha_{1}, \\alpha_{2} \\dots \\alpha_{i-1}, \\alpha_{i+1} \\dots \\alpha_{n_1} \\in \\mathbb{R}^{1}$ such that $u_i = \\sum_{k = 1, k \\neq i}^{n}\\alpha_{k}u_k $"
   ]
  },
  {
   "cell_type": "markdown",
   "metadata": {},
   "source": [
    "Maximum amount of lineary independent vectors in vector space is called dimension of this space\n",
    "<br>\n",
    "Every vector space has basis, lineary independent vectors $e_1, e_2 \\dots e_n $ such that every other vector from this space can be achived by the linear combination of this basis $u = \\sum_{i=1}^n\\alpha_{i}e_i$ and $(\\alpha_{1}, \\alpha_{2}, \\dots, \\alpha_{n})$ are called the coordinants of the vector $u$\n",
    "<br>\n",
    "For $\\mathbb{R}^{n}$ basis is $e_1 = (1, 0, \\dots, 0), e_2 = (0, 1, \\dots, 0), \\dots e_i = (0, 0, \\dots, 1, \\dots, 0), e_n = (0, 0, \\dots, 1)$\n",
    "Or for $\\mathbb{R}^{2}$ basis is $e_1=(1, 0), e_2=(0, 1)$ and for $\\in \\mathbb{R}^{3}$: $e_1=(1, 0, 0), e_2 = (0, 1, 0), e_3=(0, 0, 1)$\n",
    "<br>"
   ]
  },
  {
   "cell_type": "markdown",
   "metadata": {},
   "source": [
    "## Linear maps"
   ]
  },
  {
   "cell_type": "markdown",
   "metadata": {},
   "source": [
    "Map $f:X \\to Y$ between vector spaces $\\mathbb{U}$ and $\\mathbb{V}$ is called linear (or linear transformation) if for every $u, v \\in \\mathbb(U)$ and every scalar $\\alpha in \\in \\mathbb{R}^{1}$ we have:\n",
    "- $f(u + v) = f(u) + f(v)$\n",
    "- $f(\\alpha u) = \\alpha f(u)$"
   ]
  },
  {
   "cell_type": "markdown",
   "metadata": {},
   "source": [
    "Let $e_1, e_2, \\dots, e_n$ be a basis for linear space $\\mathbb{U}$ and $l_1, l_2, \\dots, l_m$ basis for $\\mathbb{V}$\n",
    "then $f(e_i) = a_1{li}_1 + a_{2i}l_2 + \\dots + a_{mi}l_m$ for some $a_1, \\dots, a_m \\in \\in \\mathbb{R}^{1}$\n",
    "for we have the following matrix:\n",
    "$$\\begin{align} T &= \\begin{pmatrix}\n",
    "           a_{11}, a_{12}, \\dots, a_{1n} \\\\\n",
    "           a_{21}, a_{22}, \\dots, a_{2n} \\\\\n",
    "           \\vdots \\\\\n",
    "           a_{m1}, a_{n2}, \\dots, a_{mn} \\\\\n",
    "         \\end{pmatrix}\n",
    "  \\end{align}$$\n",
    "<br>\n",
    "which is called the transformation matrix\n",
    "<br>\n",
    "For each $u \\in \\mathbb{U}$ there exists $b_1, b_2, \\dots, b_n \\in \\mathbb{R}^{1}$ such that: $u = b_1e_1 + b_2e_2 + \\dots + b_ne_n$ and for $f(u)$ (from linear property) we have $$f(u) = b_1f(e_1) + b_2f(e_2) + \\dots + b_nf(e_n)$$\n",
    "then from the property - $f(e_i) = a_{1i}1_1 + a_{2i}l_2 + \\dots + a_{mi}l_m$, we get:\n",
    "$$f(u) = Tb$$"
   ]
  },
  {
   "cell_type": "markdown",
   "metadata": {},
   "source": [
    "## Eigenvectors and Eigenvalues"
   ]
  },
  {
   "cell_type": "markdown",
   "metadata": {},
   "source": [
    "If for some linear transformation $T:\\mathbb{U} \\to \\mathbb{V}$ with transformation matrix $M$, there exists nonzero vector $u \\in \\mathbb{U}$ and scalar $\\lambda \\in \\mathbb{R}^{1}$ such that $T(u) = Mu = \\lambda u$, thsi vector is called eigenvector for the transformation $T$ and $\\lambda$ is called eigenvalue"
   ]
  },
  {
   "cell_type": "markdown",
   "metadata": {},
   "source": [
    "$Mu = \\lambda u$ then $Mu - \\lambda u = 0$ and \n",
    "$$(M - I\\lambda)u = 0$$"
   ]
  },
  {
   "cell_type": "markdown",
   "metadata": {},
   "source": [
    "This equasion has a solution if $|M - I\\lambda|=0$ so we can calculate eigenvector and eigenvalue for linear transformation"
   ]
  },
  {
   "cell_type": "markdown",
   "metadata": {},
   "source": [
    "Consider eigenvectors $v_1, v_2, \\dots, e_n$ and eihenvalues $\\lambda_{1}, \\lambda_{2}, \\dots, \\lambda_{n}$ from basis $e_1, e_2, \\dots, e_n$ of transformation matrix $A$, let $Q = (v_1, v_2 \\dots, v_n)$ then:\n",
    "$$AQ = (\\lambda_{1}v_1, \\lambda_{2}v_2, \\dots, \\lambda_{n}v_n)$$\n",
    "define:\n",
    "$$\\begin{align} \\Lambda &= \\begin{pmatrix}\n",
    "           \\lambda_{11}, 0, \\dots, 0 \\\\\n",
    "           0, \\lambda_{22}, \\dots, 0 \\\\\n",
    "           \\vdots \\\\\n",
    "           0, 0, \\dots, \\lambda_{nn} \\\\\n",
    "         \\end{pmatrix}\n",
    "  \\end{align}$$\n",
    "<br>\n",
    "$$AQ = Q\\Lambda$$\n",
    "<br>\n",
    "$$AQQ^{-1}=Q\\Lambda Q^{-1}$$\n",
    "<br>\n",
    "$$AI=Q\\Lambda Q^{-1}$$\n",
    "<br>\n",
    "$$A=Q\\Lambda Q_{-1}$$\n",
    "<br>\n",
    "This is called eigendecomposition of matrix $A$"
   ]
  },
  {
   "cell_type": "markdown",
   "metadata": {},
   "source": [
    "## Visualisation of Eigenvalues and Eigenvectors"
   ]
  },
  {
   "cell_type": "markdown",
   "metadata": {},
   "source": [
    "If we consider transformation matrix A again, and we take bunch of vectors (as much as possible) from given vector \n",
    "space where that matrix is doing transformations, we can find some vectors that never change their orientation but maybe they are scaled with some factor. \n",
    "\n",
    "Each such vector is called Eigenvector of matrix A which direction isn't affected by transformation, but scale is affected. Scale of that vector will be eigenvalue of that vector.\n",
    "\n",
    "Each eigenvector has it's eigenvalue and these can be multiple because of several axis of transformation."
   ]
  },
  {
   "cell_type": "markdown",
   "metadata": {},
   "source": [
    "### Eigenvalues and Eigenvectors example"
   ]
  },
  {
   "cell_type": "markdown",
   "metadata": {},
   "source": [
    "![SegmentLocal](images/la2/eigenvalues_and_vectors.gif)"
   ]
  },
  {
   "cell_type": "markdown",
   "metadata": {},
   "source": [
    "### Non-Eigenvalues and Eigenvectors example"
   ]
  },
  {
   "cell_type": "markdown",
   "metadata": {},
   "source": [
    "![SegmentLocal](images/la2/non_eigenvalues_and_vectors.gif)"
   ]
  },
  {
   "cell_type": "markdown",
   "metadata": {},
   "source": [
    "## Vector (Matrix) norm"
   ]
  },
  {
   "cell_type": "markdown",
   "metadata": {},
   "source": [
    "$$||x||_{p} = \\sqrt[p]{\\sum_{i=1}^{n}x^{p}}$$\n",
    "$$||x||_{p} = (\\sum_{i=1}^{n}x^{p})^{1/p}$$\n",
    "<br>\n",
    "$L_2$ norm\n",
    "$$||x||_{2} = (\\sum_{i=1}^{n}x^{2})^{1/2}$$\n",
    "$L_1$ norm\n",
    "$$||x||_{1} = \\sum_{i=1}^{n}|x|$$\n",
    "<br>\n",
    "$$||x||_{\\infty} = max|x|$$\n",
    "\n",
    "For matrices Frobenius norm:\n",
    "$$||A||_{F} = (\\sum_{i=1, j=1}^{n, m}a_{ij})^2$$"
   ]
  },
  {
   "cell_type": "markdown",
   "metadata": {},
   "source": [
    "## Determinant as a scaling factor"
   ]
  },
  {
   "cell_type": "markdown",
   "metadata": {},
   "source": [
    "Here is a link to the [video](https://www.youtube.com/watch?v=Ip3X9LOh2dk) about determinants"
   ]
  },
  {
   "cell_type": "markdown",
   "metadata": {},
   "source": [
    "Given two vectors x,y in space and some transformation matrix A. \n",
    "If we multiply these vectors by given transformation matrix, we will get transformed vectors. \n",
    "Area value before and after transformation will be changed with exactly the value of determinant of A."
   ]
  },
  {
   "cell_type": "markdown",
   "metadata": {},
   "source": [
    "![SegmentLocal](images/la2/determinant_as_scaling_factor.gif)"
   ]
  },
  {
   "cell_type": "markdown",
   "metadata": {},
   "source": [
    "## SVD"
   ]
  },
  {
   "cell_type": "markdown",
   "metadata": {},
   "source": [
    "For eny $A \\in \\mathbb{R}^{n \\times m} (\\mathbb{C}^{n \\times m})$ there exists decomposition:\n",
    "$$A = U \\Sigma V^{T}$$ \n",
    "where $U \\in \\mathbb{R}^{n \\times n}(\\mathbb{C}^{n \\times n})$ is a square matrix, $\\Sigma \\in \\mathbb{R}^{n \\times m} (\\mathbb{C}^{n \\times m})$ ia a diagonal matrix and  $V \\in \\mathbb{R}^{n \\times n} (\\mathbb{C}^{n \\times n})$ is also a square matrix\n",
    "#### Note: We only discuss real valued vectors, matrices and tensors in this course"
   ]
  },
  {
   "cell_type": "markdown",
   "metadata": {},
   "source": [
    "![title](images/la2/svg1.png)"
   ]
  },
  {
   "cell_type": "markdown",
   "metadata": {},
   "source": [
    "short [tutorial](http://web.mit.edu/be.400/www/SVD/Singular_Value_Decomposition.htm) on SVD from MIT"
   ]
  },
  {
   "cell_type": "markdown",
   "metadata": {},
   "source": [
    "very interesting medium [blog](https://medium.com/@jonathan_hui/machine-learning-singular-value-decomposition-svd-principal-component-analysis-pca-1d45e885e491) on SVD & PCA "
   ]
  },
  {
   "cell_type": "markdown",
   "metadata": {},
   "source": [
    "![title](images/la2/svd_steps.jpeg)"
   ]
  },
  {
   "cell_type": "code",
   "execution_count": 16,
   "metadata": {},
   "outputs": [
    {
     "data": {
      "text/plain": [
       "(array([[ 1,  2,  3],\n",
       "        [ 4,  5,  6],\n",
       "        [ 7,  8,  9],\n",
       "        [10, 11, 12]]), (4, 3))"
      ]
     },
     "execution_count": 16,
     "metadata": {},
     "output_type": "execute_result"
    }
   ],
   "source": [
    "A = np.array([[1, 2, 3], [4, 5, 6], [7, 8, 9], [10, 11, 12]])\n",
    "A, A.shape"
   ]
  },
  {
   "cell_type": "code",
   "execution_count": 17,
   "metadata": {},
   "outputs": [
    {
     "data": {
      "text/plain": [
       "(array([[-0.14087668,  0.82471435,  0.53358462,  0.12364244],\n",
       "        [-0.34394629,  0.42626394, -0.8036038 ,  0.2328539 ],\n",
       "        [-0.54701591,  0.02781353,  0.00645373, -0.83663514],\n",
       "        [-0.75008553, -0.37063688,  0.26356544,  0.48013879]]),\n",
       " array([2.54624074e+01, 1.29066168e+00, 1.38648772e-15]),\n",
       " array([[-0.50453315, -0.5745157 , -0.64449826],\n",
       "        [-0.76077568, -0.05714052,  0.64649464],\n",
       "        [-0.40824829,  0.81649658, -0.40824829]]),\n",
       " (4, 4),\n",
       " (3,),\n",
       " (3, 3))"
      ]
     },
     "execution_count": 17,
     "metadata": {},
     "output_type": "execute_result"
    }
   ],
   "source": [
    "U, S, V_T = np.linalg.svd(A)\n",
    "U, S, V_T, U.shape, S.shape, V_T.shape"
   ]
  },
  {
   "cell_type": "code",
   "execution_count": 18,
   "metadata": {},
   "outputs": [
    {
     "data": {
      "text/plain": [
       "(array([[2.54624074e+01, 0.00000000e+00, 0.00000000e+00],\n",
       "        [0.00000000e+00, 1.29066168e+00, 0.00000000e+00],\n",
       "        [0.00000000e+00, 0.00000000e+00, 1.38648772e-15]]), (3, 3))"
      ]
     },
     "execution_count": 18,
     "metadata": {},
     "output_type": "execute_result"
    }
   ],
   "source": [
    "Sg = np.diag(S)\n",
    "Sg, Sg.shape"
   ]
  },
  {
   "cell_type": "code",
   "execution_count": 19,
   "metadata": {},
   "outputs": [
    {
     "data": {
      "text/plain": [
       "(25.495097567963924, -0.0, 1.0, 1.7320508075688772)"
      ]
     },
     "execution_count": 19,
     "metadata": {},
     "output_type": "execute_result"
    }
   ],
   "source": [
    "np.linalg.norm(A), np.round(U[:, 0] @ U[:, 1].T), np.linalg.norm(U[2, :]), np.linalg.norm(V_T)"
   ]
  },
  {
   "cell_type": "markdown",
   "metadata": {},
   "source": [
    "# Matrix Decompositions"
   ]
  },
  {
   "cell_type": "markdown",
   "metadata": {},
   "source": [
    "[fastai LA](https://nbviewer.jupyter.org/github/fastai/numerical-linear-algebra/blob/master/nbs/1.%20Why%20are%20we%20here.ipynb#Matrix-Decompositions)"
   ]
  },
  {
   "cell_type": "markdown",
   "metadata": {},
   "source": [
    "[advanced matrix decompositions](https://sites.google.com/site/igorcarron2/matrixfactorizations)"
   ]
  },
  {
   "cell_type": "markdown",
   "metadata": {},
   "source": [
    "[nfm tutorial](https://perso.telecom-paristech.fr/essid/teach/NMF_tutorial_ICME-2014.pdf)"
   ]
  },
  {
   "cell_type": "markdown",
   "metadata": {},
   "source": [
    "[topic modeling](https://medium.com/@nixalo/comp-linalg-l2-topic-modeling-with-nmf-svd-78c94330d45f)"
   ]
  },
  {
   "cell_type": "markdown",
   "metadata": {},
   "source": [
    "[background removal using svd](https://medium.com/@siavashmortezavi/fast-randomized-svd-singular-value-decomposition-using-pytorch-and-gpus-46b627511a6d)"
   ]
  },
  {
   "cell_type": "markdown",
   "metadata": {},
   "source": [
    "## PCA"
   ]
  },
  {
   "cell_type": "markdown",
   "metadata": {},
   "source": [
    "### Data Reduction\n",
    "- PCA is most commonly used to condense the information contained in a large number of original variables into a smaller set of new composite dimensions, with a minimum loss of information."
   ]
  },
  {
   "cell_type": "markdown",
   "metadata": {},
   "source": [
    "[Example](https://www.projectrhea.org/rhea/index.php/PCA_Theory_Examples) of using PCA on image compression"
   ]
  },
  {
   "cell_type": "markdown",
   "metadata": {},
   "source": [
    "#### Mapping of 2D points into 1D. \n",
    "PCA Takes the most optimal 1d axis to save data information better, reducing memory by factor of 2. "
   ]
  },
  {
   "cell_type": "markdown",
   "metadata": {},
   "source": [
    "![SegmentLocal](images/la2/pca_1d.gif)"
   ]
  },
  {
   "cell_type": "markdown",
   "metadata": {},
   "source": [
    "### Interpretation\n",
    "- PCA can be used to discover important features of a large data set. It often reveals relationships that were previously unsuspected, thereby allowing interpretations that would not ordinarily result.\n",
    "PCA is typically used as an intermediate step in data analysis when the number of input variables is otherwise too large for useful analysis."
   ]
  },
  {
   "cell_type": "markdown",
   "metadata": {},
   "source": [
    "[example](https://towardsdatascience.com/visualising-high-dimensional-datasets-using-pca-and-t-sne-in-python-8ef87e7915b) usage of pca (and t-SNE) for data visualization"
   ]
  },
  {
   "cell_type": "markdown",
   "metadata": {},
   "source": [
    "[example](https://github.com/aviolante/sas-python-work/blob/master/tSneExampleBlogPost.ipynb) notebook for comparing PCA and t-SNE for visualizing MNIST data "
   ]
  },
  {
   "cell_type": "markdown",
   "metadata": {},
   "source": [
    "Let $X = (x^{1}, x^{2}, \\dots x^{m})$ is our data where $x^{i} = (x_1^{i}, x_2^{i}, \\dots, x_n^{i}) \\in \\mathbb{R}^{n}$ for each $i \\in (1, 2, \\dots, m)$\n",
    "<br>\n",
    "Normalize data with mean $x^{i} = x^{i} - \\frac{1}{m}\\sum_{i=1}^{m}x^{i}$\n",
    "<br>\n",
    "compute the covariance matrix:\n",
    "$$A = \\frac{1}{m} \\sum_{i=1}^{m}(x^{i})(x^{i})^{T}$$\n",
    "<br>\n",
    "take SVD from $X$:\n",
    "$$ A = U\\Sigma V^{T}$$\n",
    "and consider first $k \\leq n$ columns of $U \\in \\mathbb{R}^{n\\times n}$: \n",
    "$$u_1, u_2, \\dots, u_k \\in \\mathbb{R}^{n}$$\n",
    "now consider the matrix $U_{r} = (u_1, u_2, \\dots, u_k)$ and \n",
    "$$z^{i} = U_{r}^{T}x^{i}$$\n",
    "<br>\n",
    "$U_{r}^{T} \\in \\mathbb{R}^{k \\times n}$ and $x^{i} \\in \\mathbb{R}^{n \\times 1}$ thus $z^{i} \\in \\mathbb{R}^{k \\times 1}$"
   ]
  },
  {
   "cell_type": "markdown",
   "metadata": {},
   "source": [
    "### Reconstruction"
   ]
  },
  {
   "cell_type": "markdown",
   "metadata": {},
   "source": [
    "We can approximate the reconstruction of the original value of $x^{i}$ as \n",
    "$$x_{a}^{i} = U_{r}z^{i}$$\n",
    "<br>\n",
    "$z^{i} \\in \\mathbb{R}^{n \\times 1}$"
   ]
  },
  {
   "cell_type": "markdown",
   "metadata": {},
   "source": [
    "to check our method we should compare original value to approximation:\n",
    "$$\\frac{\n",
    "\\frac{1}{m}\\sum_{i=1}^{m}||x^{i} - x_{a}^{i}||^{2}\n",
    "}{\n",
    "\\frac{1}{m}\\sum_{i=1}^{m}||x^{i}||^{2}\n",
    "} \\leq \\epsilon$$\n",
    "<br>\n",
    "$\\epsilon$ might be any value, e.g $\\epsilon = 0.01$"
   ]
  },
  {
   "cell_type": "markdown",
   "metadata": {},
   "source": [
    "$$\\frac{\n",
    "\\frac{1}{m}\\sum_{i=1}^{m}||x^{i} - x_{a}^{i}||^{2}\n",
    "}{\n",
    "\\frac{1}{m}\\sum_{i=1}^{m}||x^{i}||^{2}\n",
    "} \\leq  = 1 -\n",
    "\\frac{\n",
    "\\sum_{i=1}^{k}S_{ii}\n",
    "}{\n",
    "\\sum_{j=1}^{n}S_{jj}\n",
    "}$$\n",
    "<br>\n",
    "So we can calculate\n",
    "$$\\frac{\n",
    "\\sum_{i=1}^{k}S_{ii}\n",
    "}{\n",
    "\\sum_{j=1}^{n}S_{jj}\n",
    "} \\geq \\epsilon$$\n",
    "<br>\n",
    "Only one decomposition is enough"
   ]
  },
  {
   "cell_type": "markdown",
   "metadata": {},
   "source": [
    "[pca](https://www.coursera.org/learn/machine-learning/lecture/GBFTt/principal-component-analysis-problem-formulation)"
   ]
  },
  {
   "cell_type": "markdown",
   "metadata": {},
   "source": [
    "# Additional Materials"
   ]
  },
  {
   "cell_type": "markdown",
   "metadata": {},
   "source": [
    "[jupyter-notebook tips&tricks&shortcuts](https://www.dataquest.io/blog/jupyter-notebook-tips-tricks-shortcuts/)"
   ]
  },
  {
   "cell_type": "code",
   "execution_count": null,
   "metadata": {},
   "outputs": [],
   "source": []
  },
  {
   "cell_type": "code",
   "execution_count": null,
   "metadata": {},
   "outputs": [],
   "source": []
  }
 ],
 "metadata": {
  "kernelspec": {
   "display_name": "Python 3",
   "language": "python",
   "name": "python3"
  },
  "language_info": {
   "codemirror_mode": {
    "name": "ipython",
    "version": 3
   },
   "file_extension": ".py",
   "mimetype": "text/x-python",
   "name": "python",
   "nbconvert_exporter": "python",
   "pygments_lexer": "ipython3",
   "version": "3.7.3"
  }
 },
 "nbformat": 4,
 "nbformat_minor": 2
}
