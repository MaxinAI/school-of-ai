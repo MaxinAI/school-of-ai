{
 "cells": [
  {
   "cell_type": "markdown",
   "id": "58429359",
   "metadata": {
    "slideshow": {
     "slide_type": "slide"
    }
   },
   "source": [
    "## კონცეპტუალური ამოცანები"
   ]
  },
  {
   "cell_type": "markdown",
   "id": "f6fec0e9",
   "metadata": {
    "jp-MarkdownHeadingCollapsed": true,
    "slideshow": {
     "slide_type": "slide"
    }
   },
   "source": [
    "#### 1) რომელი რეგულარიზაცია უფრო შეიძლება იყოს გამოყენებული მახასიათებლების შესარჩევად: \n",
    "- Lasso ($l_1$)\n",
    "- Ridge ($l_2$)\n",
    "- ორივე\n",
    "\n",
    "#### 2) თუ რეგულარიზაციის კოეფიციენტი $\\lambda \\to \\infty$ (უბრალოდ იზრდება) ($\\hat{C}(X, \\beta)= C(X, \\beta) + \\lambda \\dot ||\\beta||$) მაშინ:\n",
    "- იზრდება გადახრა (bias), მცირდება ვარიაცია (variance)\n",
    "- მცირდება გადახრა (bias), იზრდება ვარიაცია (variance)\n",
    "- მცირდება გადახრა (bias), მცირდება ვარიაცია (variance)\n",
    "- იზრდება გადახრა (bias), იზრდება ვარიაცია (variance)\n",
    "- არცერთი ზემოთ ჩამოთვლითაგან\n",
    "\n",
    "#### 3) რომელი ამათგანი არ არის უწყვეტი ფუნქცია:\n",
    "- გადაწყვეტილების ხე\n",
    "- ლოგისტიკური რეგრესია\n",
    "- პოილინომიალური რეგრესია\n",
    "- საფეხურა (stepwise) ფუნქციებით შედგენილი განზოგადებული ადიციური მოდელი (Generalized Additive Model)\n",
    "- ყველა უწყვეტი ფუნცქციაა\n",
    "\n",
    "#### 4) რომელ ალგორითმს აქვს დეკორეელაციის თვისება:\n",
    "- გრადიენტის გამაძლიერებელს (Gradient Boosting)\n",
    "- Ada გამაძლიერებელს (Ada Boosting)\n",
    "- ბუთსტრაპინგს (Bootstraping)\n",
    "- შემთხვევით ტყეს (Random Forest)\n",
    "- არცერთს\n",
    "\n",
    "#### 5) რომელი არის მიმდევრობითი და \"სწავლობს შეცდომებზე\": \n",
    "- გრადიენტის გამაძლიერებელი (Gradient Boosting)\n",
    "- Ada გამაძლიერებელი (Ada Boosting)\n",
    "- ბუთსტრაპინგი (Bootstraping)\n",
    "- შემთხვევით ტყე (Random Forest)\n",
    "- არცერთი\n",
    "\n",
    "#### 6) ვთქვათ გვაქვს SVM მოდელი ბირთვით (kernel) - $K : X \\times X \\to \\mathbb{R}^1$ იქნება თუ არა $-K$ (მინუს $K$) ასევე ბირთვი:\n",
    "- დიახ (დაასაბუთეთ)\n",
    "- არა (დაასაბუთეთ)\n",
    "\n",
    "#### 7) რომელ ალგორითმი იყენებს მეტრიკას (მანძილის ფუნქციას):\n",
    "- K-means\n",
    "- იერარქიული კლასტერიზაცია\n",
    "- ორივე\n",
    "- არცერთი\n",
    "#### 8) რომელ ალგორითმი გამოიყენება თითოეული მონაცემის მახასიათებლების განზომილების დაწევისათვის:\n",
    "- K-means\n",
    "- იერარქიული კლასტერიზაცია\n",
    "- PCA\n",
    "- არცერთი\n",
    "- ყველა"
   ]
  },
  {
   "cell_type": "markdown",
   "id": "ae59fd53",
   "metadata": {
    "slideshow": {
     "slide_type": "skip"
    }
   },
   "source": [
    " ===================================================="
   ]
  },
  {
   "cell_type": "markdown",
   "id": "a51ff40c",
   "metadata": {
    "slideshow": {
     "slide_type": "slide"
    }
   },
   "source": [
    "## გისურვეებთ წარმატებებს !!"
   ]
  },
  {
   "cell_type": "code",
   "execution_count": null,
   "id": "2988c064",
   "metadata": {},
   "outputs": [],
   "source": []
  }
 ],
 "metadata": {
  "kernelspec": {
   "display_name": "Python 3 (ipykernel)",
   "language": "python",
   "name": "python3"
  },
  "language_info": {
   "codemirror_mode": {
    "name": "ipython",
    "version": 3
   },
   "file_extension": ".py",
   "mimetype": "text/x-python",
   "name": "python",
   "nbconvert_exporter": "python",
   "pygments_lexer": "ipython3",
   "version": "3.11.7"
  }
 },
 "nbformat": 4,
 "nbformat_minor": 5
}
