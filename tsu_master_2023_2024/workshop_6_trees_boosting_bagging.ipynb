{
 "cells": [
  {
   "cell_type": "code",
   "execution_count": null,
   "id": "71ce37e9",
   "metadata": {},
   "outputs": [],
   "source": [
    "%load_ext autoreload\n",
    "%autoreload 2\n",
    "\n",
    "%matplotlib inline"
   ]
  },
  {
   "cell_type": "markdown",
   "id": "5b560092",
   "metadata": {},
   "source": [
    "## Install libraries"
   ]
  },
  {
   "cell_type": "markdown",
   "id": "89885fa7",
   "metadata": {},
   "source": [
    "```bash\n",
    "conda create -n edu4 python=3.11 jupyter matplotlib\n",
    "```"
   ]
  },
  {
   "cell_type": "markdown",
   "id": "cd23589d",
   "metadata": {},
   "source": [
    "```bash \n",
    "! pip install -U -r requirements.txt\n",
    "```"
   ]
  },
  {
   "cell_type": "markdown",
   "id": "9d16321f",
   "metadata": {},
   "source": [
    "```bash\n",
    "! pip install -U numpy\n",
    "! pip install -U scikit-learn\n",
    "```"
   ]
  },
  {
   "cell_type": "code",
   "execution_count": null,
   "id": "cf179611",
   "metadata": {},
   "outputs": [],
   "source": [
    "! ls"
   ]
  },
  {
   "cell_type": "code",
   "execution_count": null,
   "id": "d0126ab9",
   "metadata": {
    "scrolled": true
   },
   "outputs": [],
   "source": [
    "! pip install -U -r requirements.txt"
   ]
  },
  {
   "cell_type": "markdown",
   "id": "b4cab43a",
   "metadata": {},
   "source": [
    "## Update repository"
   ]
  },
  {
   "cell_type": "code",
   "execution_count": null,
   "id": "46bcb5dc",
   "metadata": {},
   "outputs": [],
   "source": [
    "! git pull"
   ]
  },
  {
   "cell_type": "markdown",
   "id": "bad216da",
   "metadata": {},
   "source": [
    "## Add import path"
   ]
  },
  {
   "cell_type": "code",
   "execution_count": null,
   "id": "baafb705",
   "metadata": {},
   "outputs": [],
   "source": [
    "import os\n",
    "import sys\n",
    "import gc"
   ]
  },
  {
   "cell_type": "code",
   "execution_count": null,
   "id": "b2930983",
   "metadata": {},
   "outputs": [],
   "source": [
    "module_path = os.path.abspath(os.path.join('..'))\n",
    "if module_path not in sys.path:\n",
    "    sys.path.append(module_path)"
   ]
  },
  {
   "cell_type": "code",
   "execution_count": null,
   "id": "7984d32f",
   "metadata": {},
   "outputs": [],
   "source": [
    "del module_path"
   ]
  },
  {
   "cell_type": "markdown",
   "id": "07a1e9c8",
   "metadata": {},
   "source": [
    "## Organize imports"
   ]
  },
  {
   "cell_type": "code",
   "execution_count": null,
   "id": "ae177357",
   "metadata": {},
   "outputs": [],
   "source": [
    "import multiprocessing\n",
    "from pathlib import Path"
   ]
  },
  {
   "cell_type": "code",
   "execution_count": null,
   "id": "a523557a",
   "metadata": {},
   "outputs": [],
   "source": [
    "import seaborn as sns"
   ]
  },
  {
   "cell_type": "code",
   "execution_count": null,
   "id": "25750a3d",
   "metadata": {},
   "outputs": [],
   "source": [
    "import matplotlib.pyplot as plt\n",
    "import numpy as np\n",
    "import pandas as pd\n",
    "import sklearn\n",
    "from sklearn.model_selection import train_test_split\n",
    "from sklearn.preprocessing import (StandardScaler, PolynomialFeatures, \n",
    "                                   SplineTransformer, LabelEncoder)\n",
    "from sklearn.feature_selection import (SequentialFeatureSelector as SFS, \n",
    "                                       SelectFromModel)\n",
    "from sklearn.discriminant_analysis import (LinearDiscriminantAnalysis, \n",
    "                                           QuadraticDiscriminantAnalysis)\n",
    "from sklearn.linear_model import LinearRegression, Ridge, Lasso, LogisticRegression\n",
    "from sklearn.tree import DecisionTreeRegressor, DecisionTreeClassifier, plot_tree\n",
    "from sklearn.ensemble import RandomForestRegressor, RandomForestClassifier\n",
    "import xgboost as xgb\n",
    "from xgboost import XGBRegressor, XGBClassifier\n",
    "from sklearn.metrics import (mean_absolute_error, mean_squared_error, \n",
    "                             classification_report, confusion_matrix)"
   ]
  },
  {
   "cell_type": "markdown",
   "id": "65f31e93",
   "metadata": {},
   "source": [
    "#### Number of CPU cores"
   ]
  },
  {
   "cell_type": "code",
   "execution_count": null,
   "id": "b41c30f2",
   "metadata": {
    "scrolled": false
   },
   "outputs": [],
   "source": [
    "workers = multiprocessing.cpu_count()\n",
    "workers"
   ]
  },
  {
   "cell_type": "markdown",
   "id": "3423f1a9",
   "metadata": {},
   "source": [
    "## Initialize path"
   ]
  },
  {
   "cell_type": "code",
   "execution_count": null,
   "id": "ccfb1c16",
   "metadata": {},
   "outputs": [],
   "source": [
    "DATA = Path('data')\n",
    "PATH = DATA / 'log_regr_lda_qda_np'\n",
    "LR_PATH = DATA / 'linear_regression'\n",
    "PUMPKIN_DIR = PATH / 'Pumpkin_Seeds_Dataset'\n",
    "IRIS_DIR = PATH / 'iris'\n",
    "PUMPKIN_DIR.mkdir(exist_ok=True, parents=True)\n",
    "IRIS_DIR.mkdir(exist_ok=True, parents=True)"
   ]
  },
  {
   "cell_type": "code",
   "execution_count": null,
   "id": "8f8156f5",
   "metadata": {},
   "outputs": [],
   "source": [
    "! ls"
   ]
  },
  {
   "cell_type": "markdown",
   "id": "0b803688",
   "metadata": {},
   "source": [
    "## Load IRIS dataset"
   ]
  },
  {
   "cell_type": "code",
   "execution_count": null,
   "id": "af4f5f24",
   "metadata": {},
   "outputs": [],
   "source": [
    "SEED = 2024"
   ]
  },
  {
   "cell_type": "code",
   "execution_count": null,
   "id": "543fde41",
   "metadata": {},
   "outputs": [],
   "source": [
    "iris_url = 'https://www.kaggle.com/datasets/uciml/iris/download?datasetVersionNumber=2'"
   ]
  },
  {
   "cell_type": "markdown",
   "id": "9cd4a02a",
   "metadata": {},
   "source": [
    "#### Load dataset"
   ]
  },
  {
   "cell_type": "code",
   "execution_count": null,
   "id": "fd6ea5ca",
   "metadata": {},
   "outputs": [],
   "source": [
    "! ls {IRIS_DIR}"
   ]
  },
  {
   "cell_type": "code",
   "execution_count": null,
   "id": "bfbc6afa",
   "metadata": {},
   "outputs": [],
   "source": [
    "df = pd.read_csv(IRIS_DIR / 'Iris.csv')"
   ]
  },
  {
   "cell_type": "code",
   "execution_count": null,
   "id": "9ed249b3",
   "metadata": {},
   "outputs": [],
   "source": [
    "df"
   ]
  },
  {
   "cell_type": "code",
   "execution_count": null,
   "id": "06f5b76c",
   "metadata": {},
   "outputs": [],
   "source": [
    "df['Species'].value_counts()"
   ]
  },
  {
   "cell_type": "code",
   "execution_count": null,
   "id": "422a7f40",
   "metadata": {},
   "outputs": [],
   "source": [
    "le = LabelEncoder()"
   ]
  },
  {
   "cell_type": "code",
   "execution_count": null,
   "id": "809014cc",
   "metadata": {},
   "outputs": [],
   "source": [
    "iris_labels = le.fit_transform(df.Species)"
   ]
  },
  {
   "cell_type": "code",
   "execution_count": null,
   "id": "34891366",
   "metadata": {},
   "outputs": [],
   "source": [
    "df.loc[:, 'labels'] = iris_labels"
   ]
  },
  {
   "cell_type": "code",
   "execution_count": null,
   "id": "9ac2b55a",
   "metadata": {},
   "outputs": [],
   "source": [
    "df"
   ]
  },
  {
   "cell_type": "code",
   "execution_count": null,
   "id": "ddca9a2f",
   "metadata": {},
   "outputs": [],
   "source": [
    "y = df['labels']\n",
    "X = df.drop(columns=['Id', 'Species', 'labels'], axis=1)\n",
    "X.shape, y.shape, df['Species'].value_counts()"
   ]
  },
  {
   "cell_type": "code",
   "execution_count": null,
   "id": "5325e934",
   "metadata": {},
   "outputs": [],
   "source": [
    "X_train, X_test, y_train, y_test = train_test_split(\n",
    "    X, y, test_size=0.2, random_state=SEED)"
   ]
  },
  {
   "cell_type": "code",
   "execution_count": null,
   "id": "73c2f5cb",
   "metadata": {},
   "outputs": [],
   "source": [
    "y_train"
   ]
  },
  {
   "cell_type": "markdown",
   "id": "9bf348a2",
   "metadata": {},
   "source": [
    "## Classification trees"
   ]
  },
  {
   "cell_type": "code",
   "execution_count": null,
   "id": "f315dc3b",
   "metadata": {},
   "outputs": [],
   "source": [
    "cls_tr = DecisionTreeClassifier(random_state=2022)\n",
    "cls_rf = RandomForestClassifier(n_estimators=128, \n",
    "                                max_depth=64, \n",
    "                                n_jobs=workers,\n",
    "                                random_state=SEED,\n",
    "                                verbose=True)\n",
    "cls_xb = XGBClassifier(n_estimators=1000, \n",
    "                       max_depth=1, \n",
    "                       n_jobs=workers,\n",
    "                       device='gpu',\n",
    "                       random_state=SEED,\n",
    "                       verbosity=3)"
   ]
  },
  {
   "cell_type": "markdown",
   "id": "6eb436cf",
   "metadata": {},
   "source": [
    "## Train models"
   ]
  },
  {
   "cell_type": "code",
   "execution_count": null,
   "id": "138db93d",
   "metadata": {},
   "outputs": [],
   "source": [
    "cls_tr = cls_tr.fit(X_train, y_train)"
   ]
  },
  {
   "cell_type": "code",
   "execution_count": null,
   "id": "c019922c",
   "metadata": {},
   "outputs": [],
   "source": [
    "y_pred = cls_tr.predict(X_test)"
   ]
  },
  {
   "cell_type": "code",
   "execution_count": null,
   "id": "53e01461",
   "metadata": {},
   "outputs": [],
   "source": [
    "cr = classification_report(y_test, y_pred)\n",
    "print(cr)"
   ]
  },
  {
   "cell_type": "code",
   "execution_count": null,
   "id": "518abc08",
   "metadata": {},
   "outputs": [],
   "source": [
    "cm = confusion_matrix(y_test, y_pred)\n",
    "sns.heatmap(cm, annot=True, fmt='d')"
   ]
  },
  {
   "cell_type": "code",
   "execution_count": null,
   "id": "25f71932",
   "metadata": {},
   "outputs": [],
   "source": [
    "cls_rf = cls_rf.fit(X_train, y_train)"
   ]
  },
  {
   "cell_type": "code",
   "execution_count": null,
   "id": "25e9cc1a",
   "metadata": {},
   "outputs": [],
   "source": [
    "y_pred = cls_rf.predict(X_test)"
   ]
  },
  {
   "cell_type": "code",
   "execution_count": null,
   "id": "d68ba409",
   "metadata": {},
   "outputs": [],
   "source": [
    "cr = classification_report(y_test, y_pred)\n",
    "print(cr)"
   ]
  },
  {
   "cell_type": "code",
   "execution_count": null,
   "id": "e89f337d",
   "metadata": {},
   "outputs": [],
   "source": [
    "cm = confusion_matrix(y_test, y_pred)\n",
    "sns.heatmap(cm, annot=True, fmt='d')"
   ]
  },
  {
   "cell_type": "code",
   "execution_count": null,
   "id": "1d3f2e0e",
   "metadata": {},
   "outputs": [],
   "source": [
    "cls_xb = cls_xb.fit(X_train, y_train)"
   ]
  },
  {
   "cell_type": "code",
   "execution_count": null,
   "id": "804d901d",
   "metadata": {},
   "outputs": [],
   "source": [
    "y_pred = cls_xb.predict(X_test)"
   ]
  },
  {
   "cell_type": "code",
   "execution_count": null,
   "id": "7ca5e009",
   "metadata": {},
   "outputs": [],
   "source": [
    "cr = classification_report(y_test, y_pred)\n",
    "print(cr)"
   ]
  },
  {
   "cell_type": "code",
   "execution_count": null,
   "id": "48121c50",
   "metadata": {},
   "outputs": [],
   "source": [
    "cm = confusion_matrix(y_test, y_pred)\n",
    "sns.heatmap(cm, annot=True, fmt='d')"
   ]
  },
  {
   "cell_type": "markdown",
   "id": "88976c0a",
   "metadata": {},
   "source": [
    "#### Feature importance"
   ]
  },
  {
   "cell_type": "code",
   "execution_count": null,
   "id": "f6a2b9be",
   "metadata": {},
   "outputs": [],
   "source": [
    "cls_rf.feature_importances_"
   ]
  },
  {
   "cell_type": "code",
   "execution_count": null,
   "id": "bf96d300",
   "metadata": {},
   "outputs": [],
   "source": [
    "forest_importances = pd.Series(cls_rf.feature_importances_, index=list(X_train.columns))\n",
    "\n",
    "std = np.std([tree.feature_importances_ for tree in cls_rf.estimators_], axis=0)\n",
    "fig, ax = plt.subplots()\n",
    "forest_importances.plot.bar(yerr=std, ax=ax)\n",
    "ax.set_title(\"Feature importances using MDI\")\n",
    "ax.set_ylabel(\"Mean decrease in impurity\")\n",
    "fig.tight_layout()"
   ]
  },
  {
   "cell_type": "code",
   "execution_count": null,
   "id": "463a7140",
   "metadata": {},
   "outputs": [],
   "source": [
    "list(X_train.columns)"
   ]
  },
  {
   "cell_type": "code",
   "execution_count": null,
   "id": "18f6f26b",
   "metadata": {},
   "outputs": [],
   "source": [
    "rf_feat = SelectFromModel(cls_rf, prefit=True)"
   ]
  },
  {
   "cell_type": "code",
   "execution_count": null,
   "id": "90522ef5",
   "metadata": {},
   "outputs": [],
   "source": [
    "rf_feat.get_feature_names_out(input_features=list(X_train.columns))"
   ]
  },
  {
   "cell_type": "code",
   "execution_count": null,
   "id": "4c635897",
   "metadata": {},
   "outputs": [],
   "source": [
    "rf_feat.get_support()"
   ]
  },
  {
   "cell_type": "code",
   "execution_count": null,
   "id": "f292d56b",
   "metadata": {},
   "outputs": [],
   "source": [
    "X_train_rd = rf_feat.transform(X_train)\n",
    "X_test_rd = rf_feat.transform(X_test)\n",
    "X_train.shape, X_train_rd.shape, X_test.shape, X_test_rd.shape"
   ]
  },
  {
   "cell_type": "code",
   "execution_count": null,
   "id": "d9d9e729",
   "metadata": {},
   "outputs": [],
   "source": [
    "cls_rf_rd = RandomForestClassifier(n_estimators=128, \n",
    "                                   max_depth=64, \n",
    "                                   n_jobs=workers, \n",
    "                                   verbose=True)"
   ]
  },
  {
   "cell_type": "code",
   "execution_count": null,
   "id": "5bdc5926",
   "metadata": {},
   "outputs": [],
   "source": [
    "cls_rf_rd.fit(X_train_rd, y_train)"
   ]
  },
  {
   "cell_type": "code",
   "execution_count": null,
   "id": "0d1d0ac9",
   "metadata": {},
   "outputs": [],
   "source": [
    "y_pred = cls_rf_rd.predict(X_test_rd)"
   ]
  },
  {
   "cell_type": "code",
   "execution_count": null,
   "id": "089b2f9f",
   "metadata": {
    "scrolled": true
   },
   "outputs": [],
   "source": [
    "cr = classification_report(y_test, y_pred)\n",
    "print(cr)"
   ]
  },
  {
   "cell_type": "code",
   "execution_count": null,
   "id": "84f09048",
   "metadata": {},
   "outputs": [],
   "source": [
    "cm = confusion_matrix(y_test, y_pred)\n",
    "sns.heatmap(cm, annot=True, fmt='d')"
   ]
  },
  {
   "cell_type": "code",
   "execution_count": null,
   "id": "2f974e1f",
   "metadata": {},
   "outputs": [],
   "source": [
    "xgb.plot_importance(cls_xb)"
   ]
  },
  {
   "cell_type": "code",
   "execution_count": null,
   "id": "7eafa6e7",
   "metadata": {},
   "outputs": [],
   "source": [
    "xgb.plot_tree(cls_xb)"
   ]
  },
  {
   "cell_type": "code",
   "execution_count": null,
   "id": "5a40fd12",
   "metadata": {},
   "outputs": [],
   "source": [
    "plot_tree(cls_tr)"
   ]
  },
  {
   "cell_type": "code",
   "execution_count": null,
   "id": "789494e3",
   "metadata": {},
   "outputs": [],
   "source": [
    "plot_tree(cls_rf.estimators_[64])"
   ]
  },
  {
   "cell_type": "markdown",
   "id": "96eafea9",
   "metadata": {},
   "source": [
    "## Regression trees"
   ]
  },
  {
   "cell_type": "code",
   "execution_count": null,
   "id": "5ace429c",
   "metadata": {},
   "outputs": [],
   "source": [
    "pertol_consumption_path = LR_PATH / 'petrol_consumption.csv'"
   ]
  },
  {
   "cell_type": "code",
   "execution_count": null,
   "id": "ab6c7d0c",
   "metadata": {},
   "outputs": [],
   "source": [
    "df = pd.read_csv(pertol_consumption_path)\n",
    "df"
   ]
  },
  {
   "cell_type": "code",
   "execution_count": null,
   "id": "4fed031a",
   "metadata": {},
   "outputs": [],
   "source": [
    "df.shape"
   ]
  },
  {
   "cell_type": "code",
   "execution_count": null,
   "id": "8c0dfd57",
   "metadata": {
    "scrolled": true
   },
   "outputs": [],
   "source": [
    "print(df.describe().round(2).T)"
   ]
  },
  {
   "cell_type": "markdown",
   "id": "ab94640f",
   "metadata": {},
   "source": [
    "#### Prepare dataset"
   ]
  },
  {
   "cell_type": "code",
   "execution_count": null,
   "id": "7de21c50",
   "metadata": {},
   "outputs": [],
   "source": [
    "y = df['Petrol_Consumption']\n",
    "X = df[['Average_income', 'Paved_Highways',\n",
    "       'Population_Driver_licence(%)', 'Petrol_tax']]"
   ]
  },
  {
   "cell_type": "code",
   "execution_count": null,
   "id": "4c61c11f",
   "metadata": {},
   "outputs": [],
   "source": [
    "X_train, X_test, y_train, y_test = train_test_split(X, y, \n",
    "                                                    test_size=0.2, \n",
    "                                                    random_state=SEED)"
   ]
  },
  {
   "cell_type": "markdown",
   "id": "45738d3b",
   "metadata": {},
   "source": [
    "## Initialize and fit"
   ]
  },
  {
   "cell_type": "code",
   "execution_count": null,
   "id": "86cfcf93",
   "metadata": {},
   "outputs": [],
   "source": [
    "reg_tr = DecisionTreeRegressor(random_state=SEED)\n",
    "reg_rf = RandomForestRegressor(n_estimators=128, \n",
    "                               max_depth=64, \n",
    "                               n_jobs=workers,\n",
    "                               random_state=SEED,\n",
    "                               verbose=True)\n",
    "reg_xb = XGBRegressor(n_estimators=1000, \n",
    "                      max_depth=1, \n",
    "                      n_jobs=workers,\n",
    "                      device='gpu',\n",
    "                      random_state=SEED,\n",
    "                      verbosity=3)"
   ]
  },
  {
   "cell_type": "markdown",
   "id": "704c8812",
   "metadata": {},
   "source": [
    "## Train models"
   ]
  },
  {
   "cell_type": "code",
   "execution_count": null,
   "id": "95a4f829",
   "metadata": {},
   "outputs": [],
   "source": [
    "reg_tr = reg_tr.fit(X_train, y_train)"
   ]
  },
  {
   "cell_type": "code",
   "execution_count": null,
   "id": "73da2589",
   "metadata": {},
   "outputs": [],
   "source": [
    "y_pred = reg_tr.predict(X_test)"
   ]
  },
  {
   "cell_type": "code",
   "execution_count": null,
   "id": "2d8f6542",
   "metadata": {},
   "outputs": [],
   "source": [
    "mae = mean_absolute_error(y_test, y_pred)\n",
    "mse = mean_squared_error(y_test, y_pred)\n",
    "rmse = np.sqrt(mse)\n",
    "\n",
    "print(f'Mean absolute error: {mae:.2f}')\n",
    "print(f'Mean squared error: {mse:.2f}')\n",
    "print(f'Root mean squared error: {rmse:.2f}')"
   ]
  },
  {
   "cell_type": "code",
   "execution_count": null,
   "id": "40aa3708",
   "metadata": {},
   "outputs": [],
   "source": [
    "reg_rf = reg_rf.fit(X_train, y_train)"
   ]
  },
  {
   "cell_type": "code",
   "execution_count": null,
   "id": "5eed8d3e",
   "metadata": {},
   "outputs": [],
   "source": [
    "y_pred = reg_rf.predict(X_test)"
   ]
  },
  {
   "cell_type": "code",
   "execution_count": null,
   "id": "330ad44c",
   "metadata": {},
   "outputs": [],
   "source": [
    "mae = mean_absolute_error(y_test, y_pred)\n",
    "mse = mean_squared_error(y_test, y_pred)\n",
    "rmse = np.sqrt(mse)\n",
    "\n",
    "print(f'Mean absolute error: {mae:.2f}')\n",
    "print(f'Mean squared error: {mse:.2f}')\n",
    "print(f'Root mean squared error: {rmse:.2f}')"
   ]
  },
  {
   "cell_type": "code",
   "execution_count": null,
   "id": "040c11a5",
   "metadata": {},
   "outputs": [],
   "source": [
    "reg_xb = reg_xb.fit(X_train, y_train)"
   ]
  },
  {
   "cell_type": "code",
   "execution_count": null,
   "id": "7cb6b5e9",
   "metadata": {},
   "outputs": [],
   "source": [
    "y_pred = reg_xb.predict(X_test)"
   ]
  },
  {
   "cell_type": "code",
   "execution_count": null,
   "id": "d2fb679a",
   "metadata": {},
   "outputs": [],
   "source": [
    "mae = mean_absolute_error(y_test, y_pred)\n",
    "mse = mean_squared_error(y_test, y_pred)\n",
    "rmse = np.sqrt(mse)\n",
    "\n",
    "print(f'Mean absolute error: {mae:.2f}')\n",
    "print(f'Mean squared error: {mse:.2f}')\n",
    "print(f'Root mean squared error: {rmse:.2f}')"
   ]
  },
  {
   "cell_type": "markdown",
   "id": "f4d0c9ed",
   "metadata": {},
   "source": [
    "#### Feature importance"
   ]
  },
  {
   "cell_type": "code",
   "execution_count": null,
   "id": "1259ad98",
   "metadata": {},
   "outputs": [],
   "source": [
    "reg_rf.feature_importances_"
   ]
  },
  {
   "cell_type": "code",
   "execution_count": null,
   "id": "3d3d04b0",
   "metadata": {},
   "outputs": [],
   "source": [
    "list(X_train.columns)"
   ]
  },
  {
   "cell_type": "code",
   "execution_count": null,
   "id": "655f8b14",
   "metadata": {},
   "outputs": [],
   "source": [
    "rf_feat = SelectFromModel(cls_rf, prefit=True)\n",
    "# rf_feat.get_feature_names_out(input_features=list(X_train.columns))"
   ]
  },
  {
   "cell_type": "code",
   "execution_count": null,
   "id": "ab03fec7",
   "metadata": {},
   "outputs": [],
   "source": [
    "X_train_rd = rf_feat.transform(X_train)\n",
    "X_test_rd = rf_feat.transform(X_test)\n",
    "X_train.shape, X_train_rd.shape, X_test.shape, X_test_rd.shape"
   ]
  },
  {
   "cell_type": "code",
   "execution_count": null,
   "id": "a8f516a1",
   "metadata": {},
   "outputs": [],
   "source": [
    "cls_rf_rd = RandomForestClassifier(n_estimators=128, \n",
    "                                   max_depth=64, \n",
    "                                   n_jobs=workers, \n",
    "                                   verbose=True)"
   ]
  },
  {
   "cell_type": "code",
   "execution_count": null,
   "id": "b9288d17",
   "metadata": {},
   "outputs": [],
   "source": [
    "cls_rf_rd.fit(X_train_rd, y_train)"
   ]
  },
  {
   "cell_type": "code",
   "execution_count": null,
   "id": "66fc3d4f",
   "metadata": {},
   "outputs": [],
   "source": [
    "y_pred = cls_rf_rd.predict(X_test_rd)"
   ]
  },
  {
   "cell_type": "code",
   "execution_count": null,
   "id": "0314e5fe",
   "metadata": {},
   "outputs": [],
   "source": [
    "mae = mean_absolute_error(y_test, y_pred)\n",
    "mse = mean_squared_error(y_test, y_pred)\n",
    "rmse = np.sqrt(mse)\n",
    "\n",
    "print(f'Mean absolute error: {mae:.2f}')\n",
    "print(f'Mean squared error: {mse:.2f}')\n",
    "print(f'Root mean squared error: {rmse:.2f}')"
   ]
  },
  {
   "cell_type": "code",
   "execution_count": null,
   "id": "c8e6a2e3",
   "metadata": {},
   "outputs": [],
   "source": [
    "xgb.plot_importance(reg_xb)"
   ]
  },
  {
   "cell_type": "code",
   "execution_count": null,
   "id": "f129da94",
   "metadata": {},
   "outputs": [],
   "source": [
    "xgb.plot_tree(reg_xb)"
   ]
  },
  {
   "cell_type": "code",
   "execution_count": null,
   "id": "9f5a3987",
   "metadata": {},
   "outputs": [],
   "source": [
    "plot_tree(reg_tr)"
   ]
  },
  {
   "cell_type": "code",
   "execution_count": null,
   "id": "73df8e79",
   "metadata": {},
   "outputs": [],
   "source": [
    "plot_tree(reg_rf.estimators_[64])"
   ]
  },
  {
   "cell_type": "code",
   "execution_count": null,
   "id": "8977a771",
   "metadata": {},
   "outputs": [],
   "source": []
  }
 ],
 "metadata": {
  "kernelspec": {
   "display_name": "Python 3 (ipykernel)",
   "language": "python",
   "name": "python3"
  },
  "language_info": {
   "codemirror_mode": {
    "name": "ipython",
    "version": 3
   },
   "file_extension": ".py",
   "mimetype": "text/x-python",
   "name": "python",
   "nbconvert_exporter": "python",
   "pygments_lexer": "ipython3",
   "version": "3.10.9"
  }
 },
 "nbformat": 4,
 "nbformat_minor": 5
}
