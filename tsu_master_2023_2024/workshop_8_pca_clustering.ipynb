{
 "cells": [
  {
   "cell_type": "code",
   "execution_count": null,
   "id": "71ce37e9",
   "metadata": {},
   "outputs": [],
   "source": [
    "%load_ext autoreload\n",
    "%autoreload 2\n",
    "\n",
    "%matplotlib inline"
   ]
  },
  {
   "cell_type": "markdown",
   "id": "5b560092",
   "metadata": {},
   "source": [
    "## Install libraries"
   ]
  },
  {
   "cell_type": "markdown",
   "id": "89885fa7",
   "metadata": {},
   "source": [
    "```bash\n",
    "conda create -n edu4 python=3.11 jupyter matplotlib\n",
    "```"
   ]
  },
  {
   "cell_type": "markdown",
   "id": "cd23589d",
   "metadata": {},
   "source": [
    "```bash \n",
    "! pip install -U -r requirements.txt\n",
    "```"
   ]
  },
  {
   "cell_type": "markdown",
   "id": "9d16321f",
   "metadata": {},
   "source": [
    "```bash\n",
    "! pip install -U numpy\n",
    "! pip install -U scikit-learn\n",
    "```"
   ]
  },
  {
   "cell_type": "code",
   "execution_count": null,
   "id": "cf179611",
   "metadata": {},
   "outputs": [],
   "source": [
    "! ls"
   ]
  },
  {
   "cell_type": "code",
   "execution_count": null,
   "id": "d0126ab9",
   "metadata": {
    "scrolled": true
   },
   "outputs": [
    {
     "name": "stdout",
     "output_type": "stream",
     "text": [
      "Requirement already satisfied: sniffio>=1.1 in /Users/levan/anaconda3/envs/edu4/lib/python3.10/site-packages (from anyio<4,>=3.1.0->jupyter-server>=1.8->nbclassic>=0.4.7->notebook->jupyter->-r requirements.txt (line 1)) (1.2.0)\n",
      "Requirement already satisfied: idna>=2.8 in /Users/levan/anaconda3/envs/edu4/lib/python3.10/site-packages (from anyio<4,>=3.1.0->jupyter-server>=1.8->nbclassic>=0.4.7->notebook->jupyter->-r requirements.txt (line 1)) (3.4)\n",
      "Requirement already satisfied: pycparser in /Users/levan/anaconda3/envs/edu4/lib/python3.10/site-packages (from cffi>=1.0.1->argon2-cffi-bindings->argon2-cffi->notebook->jupyter->-r requirements.txt (line 1)) (2.21)\n"
     ]
    }
   ],
   "source": [
    "! pip install -U -r requirements.txt"
   ]
  },
  {
   "cell_type": "markdown",
   "id": "b4cab43a",
   "metadata": {},
   "source": [
    "## Update repository"
   ]
  },
  {
   "cell_type": "code",
   "execution_count": null,
   "id": "46bcb5dc",
   "metadata": {},
   "outputs": [],
   "source": [
    "! git pull"
   ]
  },
  {
   "cell_type": "markdown",
   "id": "bad216da",
   "metadata": {},
   "source": [
    "## Add import path"
   ]
  },
  {
   "cell_type": "code",
   "execution_count": null,
   "id": "baafb705",
   "metadata": {},
   "outputs": [],
   "source": [
    "import os\n",
    "import sys\n",
    "import gc"
   ]
  },
  {
   "cell_type": "code",
   "execution_count": null,
   "id": "b2930983",
   "metadata": {},
   "outputs": [],
   "source": [
    "module_path = os.path.abspath(os.path.join('..'))\n",
    "if module_path not in sys.path:\n",
    "    sys.path.append(module_path)"
   ]
  },
  {
   "cell_type": "code",
   "execution_count": null,
   "id": "7984d32f",
   "metadata": {},
   "outputs": [],
   "source": [
    "del module_path"
   ]
  },
  {
   "cell_type": "markdown",
   "id": "07a1e9c8",
   "metadata": {},
   "source": [
    "## Organize imports"
   ]
  },
  {
   "cell_type": "code",
   "execution_count": null,
   "id": "ae177357",
   "metadata": {},
   "outputs": [],
   "source": [
    "import multiprocessing\n",
    "from pathlib import Path"
   ]
  },
  {
   "cell_type": "code",
   "execution_count": null,
   "id": "a523557a",
   "metadata": {},
   "outputs": [],
   "source": [
    "import seaborn as sns"
   ]
  },
  {
   "cell_type": "code",
   "execution_count": null,
   "id": "25750a3d",
   "metadata": {},
   "outputs": [],
   "source": [
    "import matplotlib.pyplot as plt\n",
    "import mpl_toolkits.mplot3d\n",
    "import numpy as np\n",
    "import pandas as pd\n",
    "import sklearn\n",
    "from sklearn.model_selection import train_test_split\n",
    "from sklearn.preprocessing import (StandardScaler, PolynomialFeatures, \n",
    "                                   SplineTransformer, LabelEncoder)\n",
    "from sklearn.feature_selection import (SequentialFeatureSelector as SFS, \n",
    "                                       SelectFromModel)\n",
    "from sklearn.discriminant_analysis import (LinearDiscriminantAnalysis, \n",
    "                                           QuadraticDiscriminantAnalysis)\n",
    "from sklearn.linear_model import LinearRegression, Ridge, Lasso, LogisticRegression\n",
    "from sklearn.tree import DecisionTreeRegressor, DecisionTreeClassifier, plot_tree\n",
    "from sklearn.ensemble import RandomForestRegressor, RandomForestClassifier\n",
    "from sklearn.svm import SVC, LinearSVC, SVR, LinearSVR\n",
    "\n",
    "from sklearn.decomposition import PCA\n",
    "from scipy.cluster.hierarchy import dendrogram\n",
    "from sklearn.cluster import KMeans, AgglomerativeClustering\n",
    "\n",
    "import xgboost as xgb\n",
    "from xgboost import XGBRegressor, XGBClassifier\n",
    "from sklearn.metrics import (mean_absolute_error, mean_squared_error, \n",
    "                             classification_report, confusion_matrix)"
   ]
  },
  {
   "cell_type": "markdown",
   "id": "65f31e93",
   "metadata": {},
   "source": [
    "\n",
    "#### Number of CPU cores"
   ]
  },
  {
   "cell_type": "code",
   "execution_count": null,
   "id": "b41c30f2",
   "metadata": {},
   "outputs": [],
   "source": [
    "workers = multiprocessing.cpu_count()\n",
    "workers"
   ]
  },
  {
   "cell_type": "markdown",
   "id": "3423f1a9",
   "metadata": {},
   "source": [
    "## Initialize path"
   ]
  },
  {
   "cell_type": "code",
   "execution_count": null,
   "id": "ccfb1c16",
   "metadata": {},
   "outputs": [],
   "source": [
    "DATA = Path('data')\n",
    "PATH = DATA / 'log_regr_lda_qda_np'\n",
    "LR_PATH = DATA / 'linear_regression'\n",
    "PUMPKIN_DIR = PATH / 'Pumpkin_Seeds_Dataset'\n",
    "IRIS_DIR = PATH / 'iris'\n",
    "PUMPKIN_DIR.mkdir(exist_ok=True, parents=True)\n",
    "IRIS_DIR.mkdir(exist_ok=True, parents=True)"
   ]
  },
  {
   "cell_type": "code",
   "execution_count": null,
   "id": "2b624cb6",
   "metadata": {},
   "outputs": [],
   "source": [
    "SEED = 2024"
   ]
  },
  {
   "cell_type": "code",
   "execution_count": null,
   "id": "8f8156f5",
   "metadata": {},
   "outputs": [],
   "source": [
    "! ls"
   ]
  },
  {
   "cell_type": "markdown",
   "id": "0b803688",
   "metadata": {},
   "source": [
    "## Load IRIS dataset"
   ]
  },
  {
   "cell_type": "markdown",
   "id": "9cd4a02a",
   "metadata": {},
   "source": [
    "#### Load dataset"
   ]
  },
  {
   "cell_type": "code",
   "execution_count": null,
   "id": "fd6ea5ca",
   "metadata": {},
   "outputs": [],
   "source": [
    "! ls {IRIS_DIR}"
   ]
  },
  {
   "cell_type": "code",
   "execution_count": null,
   "id": "bfbc6afa",
   "metadata": {},
   "outputs": [],
   "source": [
    "df = pd.read_csv(IRIS_DIR / 'Iris.csv')"
   ]
  },
  {
   "cell_type": "code",
   "execution_count": null,
   "id": "9ed249b3",
   "metadata": {},
   "outputs": [],
   "source": [
    "df"
   ]
  },
  {
   "cell_type": "code",
   "execution_count": null,
   "id": "06f5b76c",
   "metadata": {},
   "outputs": [],
   "source": [
    "df['Species'].value_counts()"
   ]
  },
  {
   "cell_type": "code",
   "execution_count": null,
   "id": "ddca9a2f",
   "metadata": {},
   "outputs": [],
   "source": [
    "y = df['Species']\n",
    "X = df.drop(columns=['Id', 'Species'], axis=1)\n",
    "X.shape, y.shape, df['Species'].value_counts()"
   ]
  },
  {
   "cell_type": "code",
   "execution_count": null,
   "id": "5325e934",
   "metadata": {},
   "outputs": [],
   "source": [
    "X_train, X_test, y_train, y_test = train_test_split(\n",
    "    X, y, test_size=0.2, random_state=SEED)"
   ]
  },
  {
   "cell_type": "code",
   "execution_count": null,
   "id": "73c2f5cb",
   "metadata": {},
   "outputs": [],
   "source": [
    "y_train"
   ]
  },
  {
   "cell_type": "code",
   "execution_count": null,
   "id": "a454059d",
   "metadata": {},
   "outputs": [],
   "source": [
    "LB_DCT = dict(Setosa=0, \n",
    "              Versicolor=1, \n",
    "              Virginica=2)"
   ]
  },
  {
   "cell_type": "code",
   "execution_count": null,
   "id": "b604efc5",
   "metadata": {},
   "outputs": [],
   "source": [
    "y_train_ch = [LB_DCT[yt.replace('Iris-', '').title()] for yt in y_train]\n",
    "y_train_ch = np.array(y_train_ch)\n",
    "y_train_ch"
   ]
  },
  {
   "cell_type": "code",
   "execution_count": null,
   "id": "4fe7796f",
   "metadata": {},
   "outputs": [],
   "source": [
    "y_test_ch = [LB_DCT[yt.replace('Iris-', '').title()] for yt in y_test]\n",
    "y_test_ch = np.array(y_test_ch)\n",
    "y_test_ch"
   ]
  },
  {
   "cell_type": "markdown",
   "id": "4ed63253",
   "metadata": {},
   "source": [
    "## Scaling / standartizing the parameters"
   ]
  },
  {
   "cell_type": "code",
   "execution_count": null,
   "id": "c2c355ef",
   "metadata": {},
   "outputs": [],
   "source": [
    "scaler = StandardScaler().fit(X_train)"
   ]
  },
  {
   "cell_type": "code",
   "execution_count": null,
   "id": "5a66e487",
   "metadata": {},
   "outputs": [],
   "source": [
    "X_train = scaler.transform(X_train)\n",
    "X_test = scaler.transform(X_test)"
   ]
  },
  {
   "cell_type": "markdown",
   "id": "b4a020d2",
   "metadata": {},
   "source": [
    "## PCA Decomposition on IRIS dataset"
   ]
  },
  {
   "cell_type": "code",
   "execution_count": null,
   "id": "c7df2b14",
   "metadata": {},
   "outputs": [],
   "source": [
    "pca = PCA(n_components=3)\n",
    "pca.fit(X_train)\n",
    "X_train_pc = pca.transform(X_train)\n",
    "X_test_pc = pca.transform(X_test)"
   ]
  },
  {
   "cell_type": "markdown",
   "id": "ca47130c",
   "metadata": {},
   "source": [
    "## Plotting the results"
   ]
  },
  {
   "cell_type": "code",
   "execution_count": null,
   "id": "f397f3ae",
   "metadata": {},
   "outputs": [],
   "source": [
    "def plot_clusters(X_pc, y_ch):\n",
    "    fig = plt.figure(1, figsize=(4, 3))\n",
    "    plt.clf()\n",
    "\n",
    "    ax = fig.add_subplot(111, projection=\"3d\", elev=48, azim=134)\n",
    "    ax.set_position([0, 0, 0.95, 1])\n",
    "    plt.cla()\n",
    "    for name, label in [('Setosa', 0), ('Versicolor', 1), ('Virginica', 2)]:\n",
    "        ax.text3D(\n",
    "            X_pc[y_ch == label, 0].mean(),\n",
    "            X_pc[y_ch == label, 1].mean() + 1.5,\n",
    "            X_pc[y_ch == label, 2].mean(),\n",
    "            name,\n",
    "            horizontalalignment=\"center\",\n",
    "            bbox=dict(alpha=0.5, edgecolor=\"w\", facecolor=\"w\"),\n",
    "        )\n",
    "    # Reorder the labels to have colors matching the cluster results\n",
    "    y_chf = np.choose(y_ch, [1, 2, 0]).astype(float)\n",
    "    ax.scatter(\n",
    "        X_pc[:, 0], X_pc[:, 1], X_pc[:, 2], \n",
    "        c=y_chf, cmap=plt.cm.nipy_spectral, edgecolor=\"k\")\n",
    "\n",
    "    ax.xaxis.set_ticklabels([])\n",
    "    ax.yaxis.set_ticklabels([])\n",
    "    ax.zaxis.set_ticklabels([])\n",
    "\n",
    "    plt.show()"
   ]
  },
  {
   "cell_type": "code",
   "execution_count": null,
   "id": "e5c2eb7c",
   "metadata": {},
   "outputs": [],
   "source": [
    "plot_clusters(X_train_pc, y_train_ch)"
   ]
  },
  {
   "cell_type": "code",
   "execution_count": null,
   "id": "f3fed932",
   "metadata": {},
   "outputs": [],
   "source": [
    "plot_clusters(X_test_pc, y_test_ch)"
   ]
  },
  {
   "cell_type": "markdown",
   "id": "8411a6a5",
   "metadata": {},
   "source": [
    "```python\n",
    "fig = plt.figure(1, figsize=(4, 3))\n",
    "plt.clf()\n",
    "\n",
    "ax = fig.add_subplot(111, projection=\"3d\", elev=48, azim=134)\n",
    "ax.set_position([0, 0, 0.95, 1])\n",
    "plt.cla()\n",
    "for name, label in [('Setosa', 0), ('Versicolor', 1), ('Virginica', 2)]:\n",
    "    ax.text3D(\n",
    "        X_train_pc[y_train_ch == label, 0].mean(),\n",
    "        X_train_pc[y_train_ch == label, 1].mean() + 1.5,\n",
    "        X_train_pc[y_train_ch == label, 2].mean(),\n",
    "        name,\n",
    "        horizontalalignment=\"center\",\n",
    "        bbox=dict(alpha=0.5, edgecolor=\"w\", facecolor=\"w\"),\n",
    "    )\n",
    "# Reorder the labels to have colors matching the cluster results\n",
    "y_train_chf = np.choose(y_train_ch, [1, 2, 0]).astype(float)\n",
    "ax.scatter(\n",
    "    X_train_pc[:, 0], X_train_pc[:, 1], X_train_pc[:, 2], \n",
    "    c=y_train_chf, cmap=plt.cm.nipy_spectral, edgecolor=\"k\")\n",
    "\n",
    "ax.xaxis.set_ticklabels([])\n",
    "ax.yaxis.set_ticklabels([])\n",
    "ax.zaxis.set_ticklabels([])\n",
    "\n",
    "plt.show()\n",
    "```"
   ]
  },
  {
   "cell_type": "markdown",
   "id": "6db06776",
   "metadata": {},
   "source": [
    "$$ \n",
    " \\sigma^2 = \\frac{1}{N - 1} \\sum_{i=1}^{N}(x - \\mu)^2\n",
    "$$"
   ]
  },
  {
   "cell_type": "markdown",
   "id": "9bf348a2",
   "metadata": {},
   "source": [
    "## Classification SVM"
   ]
  },
  {
   "cell_type": "code",
   "execution_count": null,
   "id": "d8633531",
   "metadata": {},
   "outputs": [],
   "source": [
    "cls_rbf = SVC(C=1.0, \n",
    "              kernel='rbf', \n",
    "              verbose=True,\n",
    "              decision_function_shape='ovr',\n",
    "              random_state=2022)"
   ]
  },
  {
   "cell_type": "markdown",
   "id": "6eb436cf",
   "metadata": {},
   "source": [
    "## Train models"
   ]
  },
  {
   "cell_type": "code",
   "execution_count": null,
   "id": "138db93d",
   "metadata": {},
   "outputs": [],
   "source": [
    "cls_rbf = cls_rbf.fit(X_train_pc, y_train)\n",
    "cls_rbf"
   ]
  },
  {
   "cell_type": "code",
   "execution_count": null,
   "id": "c019922c",
   "metadata": {},
   "outputs": [],
   "source": [
    "y_pred = cls_rbf.predict(X_test_pc)"
   ]
  },
  {
   "cell_type": "code",
   "execution_count": null,
   "id": "53e01461",
   "metadata": {},
   "outputs": [],
   "source": [
    "cr = classification_report(y_test, y_pred)\n",
    "print(cr)"
   ]
  },
  {
   "cell_type": "code",
   "execution_count": null,
   "id": "ebcf146a",
   "metadata": {},
   "outputs": [],
   "source": [
    "cm = confusion_matrix(y_test, y_pred)\n",
    "sns.heatmap(cm, annot=True, fmt='d')"
   ]
  },
  {
   "cell_type": "markdown",
   "id": "27108153",
   "metadata": {},
   "source": [
    "## Clustering for high dimensional features"
   ]
  },
  {
   "cell_type": "markdown",
   "id": "d4f9e858",
   "metadata": {},
   "source": [
    "Clustering of the hig dimensional feature with K-means"
   ]
  },
  {
   "cell_type": "markdown",
   "id": "2353cab5",
   "metadata": {},
   "source": [
    "#### Initialize model"
   ]
  },
  {
   "cell_type": "code",
   "execution_count": null,
   "id": "d816bc77",
   "metadata": {},
   "outputs": [],
   "source": [
    "kmns = KMeans(\n",
    "    n_clusters=3, \n",
    "    init='random',\n",
    "    n_init=10, \n",
    "    max_iter=300, \n",
    "    tol=1e-04, \n",
    "    random_state=SEED,\n",
    ")"
   ]
  },
  {
   "cell_type": "markdown",
   "id": "d6e866be",
   "metadata": {},
   "source": [
    "#### Prepare data"
   ]
  },
  {
   "cell_type": "code",
   "execution_count": null,
   "id": "faccb1b3",
   "metadata": {},
   "outputs": [],
   "source": [
    "SEED = 2024"
   ]
  },
  {
   "cell_type": "code",
   "execution_count": null,
   "id": "8858b5ff",
   "metadata": {},
   "outputs": [],
   "source": [
    "studen_scores_path = PUMPKIN_DIR / 'Pumpkin_Seeds_Dataset.xlsx'"
   ]
  },
  {
   "cell_type": "code",
   "execution_count": null,
   "id": "6a695f6d",
   "metadata": {},
   "outputs": [],
   "source": [
    "df = pd.read_excel(studen_scores_path)\n",
    "df"
   ]
  },
  {
   "cell_type": "code",
   "execution_count": null,
   "id": "9d5a9389",
   "metadata": {},
   "outputs": [],
   "source": [
    "df.shape"
   ]
  },
  {
   "cell_type": "markdown",
   "id": "d1e4b945",
   "metadata": {},
   "source": [
    "## Data analysis"
   ]
  },
  {
   "cell_type": "code",
   "execution_count": null,
   "id": "7977c089",
   "metadata": {},
   "outputs": [],
   "source": [
    "df['Class'].value_counts() "
   ]
  },
  {
   "cell_type": "code",
   "execution_count": null,
   "id": "ac612463",
   "metadata": {
    "scrolled": true
   },
   "outputs": [],
   "source": [
    "df.describe().T"
   ]
  },
  {
   "cell_type": "code",
   "execution_count": null,
   "id": "036c662d",
   "metadata": {},
   "outputs": [],
   "source": [
    "y = df['Class']\n",
    "X = df.drop(columns=['Class'], axis=1)"
   ]
  },
  {
   "cell_type": "code",
   "execution_count": null,
   "id": "3d71ac6b",
   "metadata": {},
   "outputs": [],
   "source": [
    "y = y.replace('Çerçevelik', 0).replace('Ürgüp Sivrisi', 1)"
   ]
  },
  {
   "cell_type": "code",
   "execution_count": null,
   "id": "e1fbd757",
   "metadata": {},
   "outputs": [],
   "source": [
    "X_train, X_test, y_train, y_test = train_test_split(X, y, \n",
    "                                                    test_size=.25, \n",
    "                                                    random_state=SEED)"
   ]
  },
  {
   "cell_type": "code",
   "execution_count": null,
   "id": "a433d46b",
   "metadata": {},
   "outputs": [],
   "source": [
    "X_train.shape, y_train.shape, X_test.shape, y_test.shape"
   ]
  },
  {
   "cell_type": "markdown",
   "id": "5c7103af",
   "metadata": {},
   "source": [
    "#### Scaling Data"
   ]
  },
  {
   "cell_type": "code",
   "execution_count": null,
   "id": "95ff5fdc",
   "metadata": {},
   "outputs": [],
   "source": [
    "scaler = StandardScaler()\n",
    "X_train = scaler.fit_transform(X_train)\n",
    "X_test = scaler.transform(X_test)"
   ]
  },
  {
   "cell_type": "markdown",
   "id": "3efe3796",
   "metadata": {},
   "source": [
    "#### Fit the model"
   ]
  },
  {
   "cell_type": "code",
   "execution_count": null,
   "id": "8977a771",
   "metadata": {},
   "outputs": [],
   "source": [
    "y_km_train = kmns.fit_predict(X_train)"
   ]
  },
  {
   "cell_type": "code",
   "execution_count": null,
   "id": "ff3bd47a",
   "metadata": {},
   "outputs": [],
   "source": [
    "y_pred = kmns.predict(X_test)"
   ]
  },
  {
   "cell_type": "code",
   "execution_count": null,
   "id": "8e9cfe02",
   "metadata": {},
   "outputs": [],
   "source": [
    "y_pred"
   ]
  },
  {
   "cell_type": "markdown",
   "id": "c5b22843",
   "metadata": {},
   "source": [
    "#### Elbow method"
   ]
  },
  {
   "cell_type": "code",
   "execution_count": null,
   "id": "a9aa999c",
   "metadata": {},
   "outputs": [],
   "source": [
    "distortions = []\n",
    "for i in range(1, 11):\n",
    "    kmns_i = KMeans(\n",
    "        n_clusters=i, \n",
    "        init='random',\n",
    "        n_init=10, \n",
    "        max_iter=300,\n",
    "        tol=1e-04, \n",
    "        random_state=0\n",
    "    )\n",
    "    kmns_i.fit(X_train)\n",
    "    distortions.append(kmns_i.inertia_)\n",
    "\n",
    "# plot\n",
    "plt.plot(range(1, 11), distortions, marker='o')\n",
    "plt.xlabel('Number of clusters')\n",
    "plt.ylabel('Distortion')\n",
    "plt.show()"
   ]
  },
  {
   "cell_type": "code",
   "execution_count": null,
   "id": "33329bf1",
   "metadata": {},
   "outputs": [],
   "source": [
    "kmns_ch = KMeans(\n",
    "    n_clusters=8, \n",
    "    init='random',\n",
    "    n_init=10, \n",
    "    max_iter=300,\n",
    "    tol=1e-04, \n",
    "    random_state=0\n",
    ")"
   ]
  },
  {
   "cell_type": "code",
   "execution_count": null,
   "id": "6d839da0",
   "metadata": {},
   "outputs": [],
   "source": [
    "kmns_ch = kmns_ch.fit(X_train)\n",
    "y_km_train = kmns_ch.predict(X_train)\n",
    "y_km_test = kmns_ch.predict(X_test)"
   ]
  },
  {
   "cell_type": "code",
   "execution_count": null,
   "id": "fc0ffac0",
   "metadata": {},
   "outputs": [],
   "source": [
    "y_km_train"
   ]
  },
  {
   "cell_type": "code",
   "execution_count": null,
   "id": "b9a32bb1",
   "metadata": {},
   "outputs": [],
   "source": [
    "y_km_test"
   ]
  },
  {
   "cell_type": "code",
   "execution_count": null,
   "id": "dce9f5cd",
   "metadata": {},
   "outputs": [],
   "source": [
    "y_km_test.shape, y_test.shape"
   ]
  },
  {
   "cell_type": "code",
   "execution_count": null,
   "id": "d21084d9",
   "metadata": {},
   "outputs": [],
   "source": [
    "for idx, cl in enumerate(y_km_test):\n",
    "    print(idx, cl)"
   ]
  },
  {
   "cell_type": "code",
   "execution_count": null,
   "id": "5baa4b18",
   "metadata": {},
   "outputs": [],
   "source": [
    "clust_dict = dict()\n",
    "for idx, (cl, y_tst) in enumerate(zip(y_km_test, y_test)):\n",
    "    clust_dict.setdefault(cl, list())\n",
    "    clust_dict[cl].append(y_tst)"
   ]
  },
  {
   "cell_type": "code",
   "execution_count": null,
   "id": "fc46557d",
   "metadata": {},
   "outputs": [],
   "source": [
    "clust_dict"
   ]
  },
  {
   "cell_type": "code",
   "execution_count": null,
   "id": "07c2a332",
   "metadata": {},
   "outputs": [],
   "source": [
    "cl_i = np.array(clust_dict[2])\n",
    "un, ct = np.unique(cl_i, return_counts=True)\n",
    "ct[0] / (cl_i.shape[0]), ct[1] / (cl_i.shape[0])"
   ]
  },
  {
   "cell_type": "code",
   "execution_count": null,
   "id": "343996a1",
   "metadata": {},
   "outputs": [],
   "source": [
    "cl_i = np.array(clust_dict[3])\n",
    "un, ct = np.unique(cl_i, return_counts=True)\n",
    "ct[0] / (cl_i.shape[0]), ct[1] / (cl_i.shape[0])"
   ]
  },
  {
   "cell_type": "markdown",
   "id": "28db5115",
   "metadata": {},
   "source": [
    "## Hyerarchial clustering"
   ]
  },
  {
   "cell_type": "markdown",
   "id": "7f5efa3a",
   "metadata": {},
   "source": [
    "Hyerarchial clustering on high dimensional data"
   ]
  },
  {
   "cell_type": "markdown",
   "id": "54b2c536",
   "metadata": {},
   "source": [
    "#### Initialize model"
   ]
  },
  {
   "cell_type": "code",
   "execution_count": null,
   "id": "ff0bd1fe",
   "metadata": {},
   "outputs": [],
   "source": [
    "hrch = AgglomerativeClustering(\n",
    "    n_clusters=None, \n",
    "    distance_threshold=0.02,\n",
    ")"
   ]
  },
  {
   "cell_type": "code",
   "execution_count": null,
   "id": "9bf531c3",
   "metadata": {},
   "outputs": [],
   "source": [
    "hrch = hrch.fit(X_train)"
   ]
  },
  {
   "cell_type": "code",
   "execution_count": null,
   "id": "f7e1dd36",
   "metadata": {},
   "outputs": [],
   "source": [
    "y_hr_train = hrch.fit_predict(X_train)"
   ]
  },
  {
   "cell_type": "code",
   "execution_count": null,
   "id": "75691ee1",
   "metadata": {},
   "outputs": [],
   "source": [
    "y_hr_train"
   ]
  },
  {
   "cell_type": "code",
   "execution_count": null,
   "id": "4d54f05f",
   "metadata": {},
   "outputs": [],
   "source": [
    "def plot_dendrogram(model, **kwargs):\n",
    "    # Create linkage matrix and then plot the dendrogram\n",
    "\n",
    "    # create the counts of samples under each node\n",
    "    counts = np.zeros(model.children_.shape[0])\n",
    "    n_samples = len(model.labels_)\n",
    "    for i, merge in enumerate(model.children_):\n",
    "        current_count = 0\n",
    "        for child_idx in merge:\n",
    "            if child_idx < n_samples:\n",
    "                current_count += 1  # leaf node\n",
    "            else:\n",
    "                current_count += counts[child_idx - n_samples]\n",
    "        counts[i] = current_count\n",
    "\n",
    "    linkage_matrix = np.column_stack(\n",
    "        [model.children_, model.distances_, counts]\n",
    "    ).astype(float)\n",
    "\n",
    "    # Plot the corresponding dendrogram\n",
    "    dendrogram(linkage_matrix, **kwargs)"
   ]
  },
  {
   "cell_type": "code",
   "execution_count": null,
   "id": "9a53fa99",
   "metadata": {},
   "outputs": [],
   "source": [
    "plt.title(\"Hierarchical Clustering Dendrogram\")\n",
    "# plot the top three levels of the dendrogram\n",
    "plot_dendrogram(hrch, truncate_mode=\"level\", p=3)\n",
    "plt.xlabel(\"Number of points in node (or index of point if no parenthesis).\")\n",
    "plt.show()"
   ]
  },
  {
   "cell_type": "markdown",
   "id": "aea67624",
   "metadata": {},
   "source": [
    "## Test on images"
   ]
  },
  {
   "cell_type": "markdown",
   "id": "e00a4809",
   "metadata": {},
   "source": [
    "```python\n",
    "! pip install -U scikit-image\n",
    "```"
   ]
  },
  {
   "cell_type": "code",
   "execution_count": null,
   "id": "def73c0a",
   "metadata": {},
   "outputs": [],
   "source": [
    "from skimage.data import coins\n",
    "\n",
    "orig_coins = coins()"
   ]
  },
  {
   "cell_type": "code",
   "execution_count": null,
   "id": "c95d68b2",
   "metadata": {},
   "outputs": [],
   "source": [
    "from scipy.ndimage import gaussian_filter\n",
    "from skimage.transform import rescale\n",
    "\n",
    "smoothened_coins = gaussian_filter(orig_coins, sigma=2)\n",
    "rescaled_coins = rescale(\n",
    "    smoothened_coins,\n",
    "    0.2,\n",
    "    mode=\"reflect\",\n",
    "    anti_aliasing=False,\n",
    ")\n",
    "\n",
    "X = np.reshape(rescaled_coins, (-1, 1))"
   ]
  },
  {
   "cell_type": "code",
   "execution_count": null,
   "id": "3fc74238",
   "metadata": {},
   "outputs": [],
   "source": [
    "from sklearn.feature_extraction.image import grid_to_graph\n",
    "\n",
    "connectivity = grid_to_graph(*rescaled_coins.shape)"
   ]
  },
  {
   "cell_type": "code",
   "execution_count": null,
   "id": "77789c58",
   "metadata": {},
   "outputs": [],
   "source": [
    "import time as time\n",
    "\n",
    "from sklearn.cluster import AgglomerativeClustering\n",
    "\n",
    "print(\"Compute structured hierarchical clustering...\")\n",
    "st = time.time()\n",
    "n_clusters = 27  # number of regions\n",
    "ward = AgglomerativeClustering(\n",
    "    n_clusters=n_clusters, linkage=\"ward\", connectivity=connectivity\n",
    ")\n",
    "ward = ward.fit(X)\n",
    "y_ward = ward.fit_predict(X)\n",
    "label = np.reshape(ward.labels_, rescaled_coins.shape)\n",
    "print(f\"Elapsed time: {time.time() - st:.3f}s\")\n",
    "print(f\"Number of pixels: {label.size}\")\n",
    "print(f\"Number of clusters: {np.unique(label).size}\")"
   ]
  },
  {
   "cell_type": "code",
   "execution_count": null,
   "id": "6bacec28",
   "metadata": {},
   "outputs": [],
   "source": [
    "import matplotlib.pyplot as plt\n",
    "\n",
    "plt.figure(figsize=(5, 5))\n",
    "plt.imshow(rescaled_coins, cmap=plt.cm.gray)\n",
    "for l in range(n_clusters):\n",
    "    plt.contour(\n",
    "        label == l,\n",
    "        colors=[\n",
    "            plt.cm.nipy_spectral(l / float(n_clusters)),\n",
    "        ],\n",
    "    )\n",
    "plt.axis(\"off\")\n",
    "plt.show()"
   ]
  },
  {
   "cell_type": "code",
   "execution_count": null,
   "id": "9c1c07e9-1a88-4026-88cc-2240d582079b",
   "metadata": {},
   "outputs": [],
   "source": [
    "hrch.distances_"
   ]
  },
  {
   "cell_type": "code",
   "execution_count": null,
   "id": "8a5e600d-b664-4128-812f-b171f71d63a4",
   "metadata": {},
   "outputs": [],
   "source": [
    "ward.distances_"
   ]
  },
  {
   "cell_type": "code",
   "execution_count": null,
   "id": "390ad5f5-9433-4d52-9513-628b893a9a58",
   "metadata": {},
   "outputs": [],
   "source": [
    "plt.title(\"Hierarchical Clustering Dendrogram\")\n",
    "# plot the top three levels of the dendrogram\n",
    "plot_dendrogram(ward, truncate_mode=\"level\", p=3)\n",
    "plt.xlabel(\"Number of points in node (or index of point if no parenthesis).\")\n",
    "plt.show()"
   ]
  },
  {
   "cell_type": "code",
   "execution_count": null,
   "id": "85480683-baf4-46cc-90cd-18a07f5f9740",
   "metadata": {},
   "outputs": [],
   "source": []
  }
 ],
 "metadata": {
  "kernelspec": {
   "display_name": "Python 3 (ipykernel)",
   "language": "python",
   "name": "python3"
  },
  "language_info": {
   "codemirror_mode": {
    "name": "ipython",
    "version": 3
   },
   "file_extension": ".py",
   "mimetype": "text/x-python",
   "name": "python",
   "nbconvert_exporter": "python",
   "pygments_lexer": "ipython3",
   "version": "3.11.7"
  }
 },
 "nbformat": 4,
 "nbformat_minor": 5
}
