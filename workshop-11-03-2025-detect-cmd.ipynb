{
 "cells": [
  {
   "cell_type": "markdown",
   "id": "fb98c4fd",
   "metadata": {},
   "source": [
    "# Workshop: Training Object Detection Models with MMDetection\n",
    "\n",
    "In this workshop we will demonstrate how to train several popular object detection models using MMDetection – a PyTorch-based detection toolbox. The models covered include:\n",
    "\n",
    "- **YOLOv3**\n",
    "- **SSD**\n",
    "- **RetinaNet**\n",
    "- **Faster R-CNN**\n",
    "\n",
    "Before proceeding, ensure that:\n",
    "\n",
    "1. You have a CUDA-enabled GPU.\n",
    "2. Your dataset (e.g., COCO) is properly set up and configured in the MMDetection config files.\n",
    "3. Your environment meets the requirements for MMDetection (e.g., PyTorch, MMCV, etc.).\n",
    "\n",
    "Let's get started!"
   ]
  },
  {
   "cell_type": "code",
   "execution_count": null,
   "id": "d00cc6e5",
   "metadata": {},
   "outputs": [],
   "source": [
    "# Clone the MMDetection repository if not already cloned\n",
    "!git clone https://github.com/open-mmlab/mmdetection.git\n",
    "%cd mmdetection"
   ]
  },
  {
   "cell_type": "code",
   "execution_count": null,
   "id": "b10ba157",
   "metadata": {},
   "outputs": [],
   "source": [
    "# Install MMDetection and its dependencies\n",
    "# Adjust the MMCV version and CUDA/torch links as necessary for your environment\n",
    "!pip install mmcv-full==1.7.0 -f https://download.openmmlab.com/mmcv/dist/cu113/torch1.10/index.html\n",
    "!pip install -e ."
   ]
  },
  {
   "cell_type": "markdown",
   "id": "2d597c1a",
   "metadata": {},
   "source": [
    "## Training YOLOv3\n",
    "\n",
    "We will begin by training the YOLOv3 model. The configuration file for YOLOv3 is located in the `configs/yolov3` folder. Make sure that the dataset paths and other hyperparameters in the config file match your setup."
   ]
  },
  {
   "cell_type": "code",
   "execution_count": null,
   "id": "dab0937c",
   "metadata": {},
   "outputs": [],
   "source": [
    "# Train YOLOv3 (this may take some time depending on your GPU and dataset size)\n",
    "!python tools/train.py configs/yolov3/yolov3_d53_mstrain-608_273e_coco.py"
   ]
  },
  {
   "cell_type": "markdown",
   "id": "93656c60",
   "metadata": {},
   "source": [
    "## Training SSD\n",
    "\n",
    "Next, we train the SSD model using its configuration file from the `configs/ssd` directory."
   ]
  },
  {
   "cell_type": "code",
   "execution_count": null,
   "id": "449a770d",
   "metadata": {},
   "outputs": [],
   "source": [
    "# Train SSD model\n",
    "!python tools/train.py configs/ssd/ssd300_coco.py"
   ]
  },
  {
   "cell_type": "markdown",
   "id": "69c8de63",
   "metadata": {},
   "source": [
    "## Training RetinaNet\n",
    "\n",
    "Now, we will train the RetinaNet model. Its configuration file can be found in the `configs/retinanet` folder."
   ]
  },
  {
   "cell_type": "code",
   "execution_count": null,
   "id": "34f5a9c0",
   "metadata": {},
   "outputs": [],
   "source": [
    "# Train RetinaNet model\n",
    "!python tools/train.py configs/retinanet/retinanet_r50_fpn_1x_coco.py"
   ]
  },
  {
   "cell_type": "markdown",
   "id": "faae7499",
   "metadata": {},
   "source": [
    "## Training Faster R-CNN\n",
    "\n",
    "Finally, we train the Faster R-CNN model. Its configuration is located in the `configs/faster_rcnn` folder."
   ]
  },
  {
   "cell_type": "code",
   "execution_count": null,
   "id": "4817dd9a",
   "metadata": {},
   "outputs": [],
   "source": [
    "# Train Faster R-CNN model\n",
    "!python tools/train.py configs/faster_rcnn/faster_rcnn_r50_fpn_1x_coco.py"
   ]
  },
  {
   "cell_type": "markdown",
   "id": "55af0289",
   "metadata": {},
   "source": [
    "## Evaluation and Next Steps\n",
    "\n",
    "After training, you can evaluate your models using MMDetection's test script. For example, to evaluate a trained model, run:\n",
    "\n",
    "```bash\n",
    "!python tools/test.py <config_file> <checkpoint_file> --out results.pkl\n",
    "```\n",
    "\n",
    "You can also use the visualization tools provided by MMDetection to inspect detection results. For further details, consult the [MMDetection documentation](https://mmdetection.readthedocs.io/)."
   ]
  }
 ],
 "metadata": {
  "kernelspec": {
   "display_name": "Python 3 (ipykernel)",
   "language": "python",
   "name": "python3"
  },
  "language_info": {
   "codemirror_mode": {
    "name": "ipython",
    "version": 3
   },
   "file_extension": ".py",
   "mimetype": "text/x-python",
   "name": "python",
   "nbconvert_exporter": "python",
   "pygments_lexer": "ipython3",
   "version": "3.12.8"
  }
 },
 "nbformat": 4,
 "nbformat_minor": 5
}
