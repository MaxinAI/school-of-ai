{
 "cells": [
  {
   "cell_type": "code",
   "execution_count": 1,
   "metadata": {},
   "outputs": [],
   "source": [
    "%load_ext autoreload\n",
    "%autoreload 2\n",
    "\n",
    "%matplotlib inline"
   ]
  },
  {
   "cell_type": "markdown",
   "metadata": {},
   "source": [
    "## Basic setup"
   ]
  },
  {
   "cell_type": "markdown",
   "metadata": {},
   "source": [
    "Install SymPy library\n",
    "<br>\n",
    "```bash\n",
    "conda install sympy\n",
    "```"
   ]
  },
  {
   "cell_type": "markdown",
   "metadata": {},
   "source": [
    "# Initialize symbols"
   ]
  },
  {
   "cell_type": "markdown",
   "metadata": {},
   "source": [
    "SymPy is the library for symbolic calculations"
   ]
  },
  {
   "cell_type": "code",
   "execution_count": 2,
   "metadata": {},
   "outputs": [],
   "source": [
    "from sympy import *"
   ]
  },
  {
   "cell_type": "code",
   "execution_count": 3,
   "metadata": {},
   "outputs": [],
   "source": [
    "a11, a12, a13, a21, a22, a23, a31, a32, a33 = symbols('a11 a12 a13 a21 a22 a23 a31 a32 a33')"
   ]
  },
  {
   "cell_type": "code",
   "execution_count": 4,
   "metadata": {},
   "outputs": [
    {
     "data": {
      "text/plain": [
       "(a11, a12, a13, a21, a22, a23, a31, a32, a33)"
      ]
     },
     "execution_count": 4,
     "metadata": {},
     "output_type": "execute_result"
    }
   ],
   "source": [
    "a11, a12, a13, a21, a22, a23, a31, a32, a33"
   ]
  },
  {
   "cell_type": "markdown",
   "metadata": {},
   "source": [
    "Initialize matrix with symbols"
   ]
  },
  {
   "cell_type": "code",
   "execution_count": 5,
   "metadata": {},
   "outputs": [],
   "source": [
    "M = Matrix([[a11, a12, a13], [a21, a22, a23], [a31, a32, a33]])"
   ]
  },
  {
   "cell_type": "code",
   "execution_count": 6,
   "metadata": {},
   "outputs": [
    {
     "data": {
      "text/latex": [
       "$\\displaystyle \\left[\\begin{matrix}a_{11} & a_{12} & a_{13}\\\\a_{21} & a_{22} & a_{23}\\\\a_{31} & a_{32} & a_{33}\\end{matrix}\\right]$"
      ],
      "text/plain": [
       "Matrix([\n",
       "[a11, a12, a13],\n",
       "[a21, a22, a23],\n",
       "[a31, a32, a33]])"
      ]
     },
     "execution_count": 6,
     "metadata": {},
     "output_type": "execute_result"
    }
   ],
   "source": [
    "M"
   ]
  },
  {
   "cell_type": "code",
   "execution_count": 7,
   "metadata": {},
   "outputs": [
    {
     "data": {
      "text/latex": [
       "$\\displaystyle a_{11} a_{22} a_{33} - a_{11} a_{23} a_{32} - a_{12} a_{21} a_{33} + a_{12} a_{23} a_{31} + a_{13} a_{21} a_{32} - a_{13} a_{22} a_{31}$"
      ],
      "text/plain": [
       "a11*a22*a33 - a11*a23*a32 - a12*a21*a33 + a12*a23*a31 + a13*a21*a32 - a13*a22*a31"
      ]
     },
     "execution_count": 7,
     "metadata": {},
     "output_type": "execute_result"
    }
   ],
   "source": [
    "M.det()"
   ]
  },
  {
   "cell_type": "code",
   "execution_count": 8,
   "metadata": {
    "scrolled": true
   },
   "outputs": [
    {
     "data": {
      "text/latex": [
       "$\\displaystyle \\left[\\begin{matrix}a_{11} & a_{21} & a_{31}\\\\a_{12} & a_{22} & a_{32}\\\\a_{13} & a_{23} & a_{33}\\end{matrix}\\right]$"
      ],
      "text/plain": [
       "Matrix([\n",
       "[a11, a21, a31],\n",
       "[a12, a22, a32],\n",
       "[a13, a23, a33]])"
      ]
     },
     "execution_count": 8,
     "metadata": {},
     "output_type": "execute_result"
    }
   ],
   "source": [
    "M.T"
   ]
  },
  {
   "cell_type": "markdown",
   "metadata": {},
   "source": [
    "Define second other simbolsm and other matrix"
   ]
  },
  {
   "cell_type": "code",
   "execution_count": 9,
   "metadata": {},
   "outputs": [],
   "source": [
    "b11, b12, b13, b21, b22, b23, b31, b32, b33 = symbols('b11 b12 b13 b21 b22 b23 b31 b32 b33')"
   ]
  },
  {
   "cell_type": "code",
   "execution_count": 10,
   "metadata": {},
   "outputs": [],
   "source": [
    "M1 = M\n",
    "M2 = Matrix([[b11, b12, b13], [b21, b22, b23], [b31, b32, b33]])"
   ]
  },
  {
   "cell_type": "code",
   "execution_count": 11,
   "metadata": {},
   "outputs": [
    {
     "data": {
      "text/latex": [
       "$\\displaystyle \\left[\\begin{matrix}b_{11} & b_{12} & b_{13}\\\\b_{21} & b_{22} & b_{23}\\\\b_{31} & b_{32} & b_{33}\\end{matrix}\\right]$"
      ],
      "text/plain": [
       "Matrix([\n",
       "[b11, b12, b13],\n",
       "[b21, b22, b23],\n",
       "[b31, b32, b33]])"
      ]
     },
     "execution_count": 11,
     "metadata": {},
     "output_type": "execute_result"
    }
   ],
   "source": [
    "M2"
   ]
  },
  {
   "cell_type": "code",
   "execution_count": 12,
   "metadata": {},
   "outputs": [
    {
     "data": {
      "text/latex": [
       "$\\displaystyle \\left[\\begin{matrix}a_{11} b_{11} + a_{12} b_{21} + a_{13} b_{31} & a_{11} b_{12} + a_{12} b_{22} + a_{13} b_{32} & a_{11} b_{13} + a_{12} b_{23} + a_{13} b_{33}\\\\a_{21} b_{11} + a_{22} b_{21} + a_{23} b_{31} & a_{21} b_{12} + a_{22} b_{22} + a_{23} b_{32} & a_{21} b_{13} + a_{22} b_{23} + a_{23} b_{33}\\\\a_{31} b_{11} + a_{32} b_{21} + a_{33} b_{31} & a_{31} b_{12} + a_{32} b_{22} + a_{33} b_{32} & a_{31} b_{13} + a_{32} b_{23} + a_{33} b_{33}\\end{matrix}\\right]$"
      ],
      "text/plain": [
       "Matrix([\n",
       "[a11*b11 + a12*b21 + a13*b31, a11*b12 + a12*b22 + a13*b32, a11*b13 + a12*b23 + a13*b33],\n",
       "[a21*b11 + a22*b21 + a23*b31, a21*b12 + a22*b22 + a23*b32, a21*b13 + a22*b23 + a23*b33],\n",
       "[a31*b11 + a32*b21 + a33*b31, a31*b12 + a32*b22 + a33*b32, a31*b13 + a32*b23 + a33*b33]])"
      ]
     },
     "execution_count": 12,
     "metadata": {},
     "output_type": "execute_result"
    }
   ],
   "source": [
    "M1 * M2"
   ]
  },
  {
   "cell_type": "markdown",
   "metadata": {},
   "source": [
    "Inverse matrix of $M \\in \\mathbb{R}^{n \\times n}$, is the matrix $M^{-1} \\in \\mathbb{R}^{n \\times n}$ for which $M^{-1}M = I$"
   ]
  },
  {
   "cell_type": "code",
   "execution_count": 13,
   "metadata": {},
   "outputs": [],
   "source": [
    "M3 = Matrix([[1, 2, 3], [4.5, 5, 6], [a11, 7, 8]])"
   ]
  },
  {
   "cell_type": "code",
   "execution_count": 14,
   "metadata": {},
   "outputs": [
    {
     "data": {
      "text/latex": [
       "$\\displaystyle \\left[\\begin{matrix}3 a_{11} + 10.0 & 33 & 39\\\\6 a_{11} + 27.0 & 76.0 & 91.5\\\\9 a_{11} + 31.5 & 2 a_{11} + 91 & 3 a_{11} + 106\\end{matrix}\\right]$"
      ],
      "text/plain": [
       "Matrix([\n",
       "[3*a11 + 10.0,         33,          39],\n",
       "[6*a11 + 27.0,       76.0,        91.5],\n",
       "[9*a11 + 31.5, 2*a11 + 91, 3*a11 + 106]])"
      ]
     },
     "execution_count": 14,
     "metadata": {},
     "output_type": "execute_result"
    }
   ],
   "source": [
    "M3 * M3"
   ]
  },
  {
   "cell_type": "code",
   "execution_count": 15,
   "metadata": {},
   "outputs": [],
   "source": [
    "a, b, c = symbols('a, b, c')"
   ]
  },
  {
   "cell_type": "code",
   "execution_count": 16,
   "metadata": {},
   "outputs": [
    {
     "data": {
      "text/latex": [
       "$\\displaystyle \\frac{a^{2} - b^{2}}{a - b}$"
      ],
      "text/plain": [
       "(a**2 - b**2)/(a - b)"
      ]
     },
     "execution_count": 16,
     "metadata": {},
     "output_type": "execute_result"
    }
   ],
   "source": [
    "(a**2 - b**2) / (a - b)"
   ]
  },
  {
   "cell_type": "code",
   "execution_count": 20,
   "metadata": {},
   "outputs": [],
   "source": [
    "invM = M**-1"
   ]
  },
  {
   "cell_type": "code",
   "execution_count": 21,
   "metadata": {},
   "outputs": [
    {
     "data": {
      "text/latex": [
       "$\\displaystyle \\left[\\begin{matrix}\\frac{a_{11} a_{22} \\left(\\left(a_{11} a_{22} - a_{12} a_{21}\\right) \\left(a_{11} a_{33} - a_{13} a_{31}\\right) - \\left(a_{11} a_{23} - a_{13} a_{21}\\right) \\left(a_{11} a_{32} - a_{12} a_{31}\\right)\\right) - \\left(- a_{12} \\left(a_{11} a_{23} - a_{13} a_{21}\\right) + a_{13} \\left(a_{11} a_{22} - a_{12} a_{21}\\right)\\right) \\left(a_{21} \\left(a_{11} a_{32} - a_{12} a_{31}\\right) - a_{31} \\left(a_{11} a_{22} - a_{12} a_{21}\\right)\\right)}{a_{11} \\left(a_{11} a_{22} - a_{12} a_{21}\\right) \\left(\\left(a_{11} a_{22} - a_{12} a_{21}\\right) \\left(a_{11} a_{33} - a_{13} a_{31}\\right) - \\left(a_{11} a_{23} - a_{13} a_{21}\\right) \\left(a_{11} a_{32} - a_{12} a_{31}\\right)\\right)} & \\frac{- a_{11} a_{12} \\left(\\left(a_{11} a_{22} - a_{12} a_{21}\\right) \\left(a_{11} a_{33} - a_{13} a_{31}\\right) - \\left(a_{11} a_{23} - a_{13} a_{21}\\right) \\left(a_{11} a_{32} - a_{12} a_{31}\\right)\\right) + a_{11} \\left(a_{11} a_{32} - a_{12} a_{31}\\right) \\left(- a_{12} \\left(a_{11} a_{23} - a_{13} a_{21}\\right) + a_{13} \\left(a_{11} a_{22} - a_{12} a_{21}\\right)\\right)}{a_{11} \\left(a_{11} a_{22} - a_{12} a_{21}\\right) \\left(\\left(a_{11} a_{22} - a_{12} a_{21}\\right) \\left(a_{11} a_{33} - a_{13} a_{31}\\right) - \\left(a_{11} a_{23} - a_{13} a_{21}\\right) \\left(a_{11} a_{32} - a_{12} a_{31}\\right)\\right)} & - \\frac{- a_{12} \\left(a_{11} a_{23} - a_{13} a_{21}\\right) + a_{13} \\left(a_{11} a_{22} - a_{12} a_{21}\\right)}{\\left(a_{11} a_{22} - a_{12} a_{21}\\right) \\left(a_{11} a_{33} - a_{13} a_{31}\\right) - \\left(a_{11} a_{23} - a_{13} a_{21}\\right) \\left(a_{11} a_{32} - a_{12} a_{31}\\right)}\\\\\\frac{- a_{21} \\left(\\left(a_{11} a_{22} - a_{12} a_{21}\\right) \\left(a_{11} a_{33} - a_{13} a_{31}\\right) - \\left(a_{11} a_{23} - a_{13} a_{21}\\right) \\left(a_{11} a_{32} - a_{12} a_{31}\\right)\\right) - \\left(a_{11} a_{23} - a_{13} a_{21}\\right) \\left(a_{21} \\left(a_{11} a_{32} - a_{12} a_{31}\\right) - a_{31} \\left(a_{11} a_{22} - a_{12} a_{21}\\right)\\right)}{\\left(a_{11} a_{22} - a_{12} a_{21}\\right) \\left(\\left(a_{11} a_{22} - a_{12} a_{21}\\right) \\left(a_{11} a_{33} - a_{13} a_{31}\\right) - \\left(a_{11} a_{23} - a_{13} a_{21}\\right) \\left(a_{11} a_{32} - a_{12} a_{31}\\right)\\right)} & \\frac{a_{11} \\left(a_{11} a_{23} - a_{13} a_{21}\\right) \\left(a_{11} a_{32} - a_{12} a_{31}\\right) + a_{11} \\left(\\left(a_{11} a_{22} - a_{12} a_{21}\\right) \\left(a_{11} a_{33} - a_{13} a_{31}\\right) - \\left(a_{11} a_{23} - a_{13} a_{21}\\right) \\left(a_{11} a_{32} - a_{12} a_{31}\\right)\\right)}{\\left(a_{11} a_{22} - a_{12} a_{21}\\right) \\left(\\left(a_{11} a_{22} - a_{12} a_{21}\\right) \\left(a_{11} a_{33} - a_{13} a_{31}\\right) - \\left(a_{11} a_{23} - a_{13} a_{21}\\right) \\left(a_{11} a_{32} - a_{12} a_{31}\\right)\\right)} & - \\frac{a_{11} \\left(a_{11} a_{23} - a_{13} a_{21}\\right)}{\\left(a_{11} a_{22} - a_{12} a_{21}\\right) \\left(a_{11} a_{33} - a_{13} a_{31}\\right) - \\left(a_{11} a_{23} - a_{13} a_{21}\\right) \\left(a_{11} a_{32} - a_{12} a_{31}\\right)}\\\\\\frac{a_{21} \\left(a_{11} a_{32} - a_{12} a_{31}\\right) - a_{31} \\left(a_{11} a_{22} - a_{12} a_{21}\\right)}{\\left(a_{11} a_{22} - a_{12} a_{21}\\right) \\left(a_{11} a_{33} - a_{13} a_{31}\\right) - \\left(a_{11} a_{23} - a_{13} a_{21}\\right) \\left(a_{11} a_{32} - a_{12} a_{31}\\right)} & - \\frac{a_{11} \\left(a_{11} a_{32} - a_{12} a_{31}\\right)}{\\left(a_{11} a_{22} - a_{12} a_{21}\\right) \\left(a_{11} a_{33} - a_{13} a_{31}\\right) - \\left(a_{11} a_{23} - a_{13} a_{21}\\right) \\left(a_{11} a_{32} - a_{12} a_{31}\\right)} & \\frac{a_{11} \\left(a_{11} a_{22} - a_{12} a_{21}\\right)}{\\left(a_{11} a_{22} - a_{12} a_{21}\\right) \\left(a_{11} a_{33} - a_{13} a_{31}\\right) - \\left(a_{11} a_{23} - a_{13} a_{21}\\right) \\left(a_{11} a_{32} - a_{12} a_{31}\\right)}\\end{matrix}\\right]$"
      ],
      "text/plain": [
       "Matrix([\n",
       "[(a11*a22*((a11*a22 - a12*a21)*(a11*a33 - a13*a31) - (a11*a23 - a13*a21)*(a11*a32 - a12*a31)) - (-a12*(a11*a23 - a13*a21) + a13*(a11*a22 - a12*a21))*(a21*(a11*a32 - a12*a31) - a31*(a11*a22 - a12*a21)))/(a11*(a11*a22 - a12*a21)*((a11*a22 - a12*a21)*(a11*a33 - a13*a31) - (a11*a23 - a13*a21)*(a11*a32 - a12*a31))), (-a11*a12*((a11*a22 - a12*a21)*(a11*a33 - a13*a31) - (a11*a23 - a13*a21)*(a11*a32 - a12*a31)) + a11*(a11*a32 - a12*a31)*(-a12*(a11*a23 - a13*a21) + a13*(a11*a22 - a12*a21)))/(a11*(a11*a22 - a12*a21)*((a11*a22 - a12*a21)*(a11*a33 - a13*a31) - (a11*a23 - a13*a21)*(a11*a32 - a12*a31))), -(-a12*(a11*a23 - a13*a21) + a13*(a11*a22 - a12*a21))/((a11*a22 - a12*a21)*(a11*a33 - a13*a31) - (a11*a23 - a13*a21)*(a11*a32 - a12*a31))],\n",
       "[                                        (-a21*((a11*a22 - a12*a21)*(a11*a33 - a13*a31) - (a11*a23 - a13*a21)*(a11*a32 - a12*a31)) - (a11*a23 - a13*a21)*(a21*(a11*a32 - a12*a31) - a31*(a11*a22 - a12*a21)))/((a11*a22 - a12*a21)*((a11*a22 - a12*a21)*(a11*a33 - a13*a31) - (a11*a23 - a13*a21)*(a11*a32 - a12*a31))),                                           (a11*(a11*a23 - a13*a21)*(a11*a32 - a12*a31) + a11*((a11*a22 - a12*a21)*(a11*a33 - a13*a31) - (a11*a23 - a13*a21)*(a11*a32 - a12*a31)))/((a11*a22 - a12*a21)*((a11*a22 - a12*a21)*(a11*a33 - a13*a31) - (a11*a23 - a13*a21)*(a11*a32 - a12*a31))),                              -a11*(a11*a23 - a13*a21)/((a11*a22 - a12*a21)*(a11*a33 - a13*a31) - (a11*a23 - a13*a21)*(a11*a32 - a12*a31))],\n",
       "[                                                                                                                                                                               (a21*(a11*a32 - a12*a31) - a31*(a11*a22 - a12*a21))/((a11*a22 - a12*a21)*(a11*a33 - a13*a31) - (a11*a23 - a13*a21)*(a11*a32 - a12*a31)),                                                                                                                                                                                -a11*(a11*a32 - a12*a31)/((a11*a22 - a12*a21)*(a11*a33 - a13*a31) - (a11*a23 - a13*a21)*(a11*a32 - a12*a31)),                               a11*(a11*a22 - a12*a21)/((a11*a22 - a12*a21)*(a11*a33 - a13*a31) - (a11*a23 - a13*a21)*(a11*a32 - a12*a31))]])"
      ]
     },
     "execution_count": 21,
     "metadata": {},
     "output_type": "execute_result"
    }
   ],
   "source": [
    "invM"
   ]
  },
  {
   "cell_type": "code",
   "execution_count": null,
   "metadata": {
    "scrolled": false
   },
   "outputs": [],
   "source": [
    "M * invM * M * invM"
   ]
  },
  {
   "cell_type": "markdown",
   "metadata": {},
   "source": [
    "Identity matrix"
   ]
  },
  {
   "cell_type": "code",
   "execution_count": 22,
   "metadata": {},
   "outputs": [],
   "source": [
    "I = eye(3)"
   ]
  },
  {
   "cell_type": "code",
   "execution_count": 23,
   "metadata": {},
   "outputs": [
    {
     "data": {
      "text/latex": [
       "$\\displaystyle \\left[\\begin{matrix}1 & 0 & 0\\\\0 & 1 & 0\\\\0 & 0 & 1\\end{matrix}\\right]$"
      ],
      "text/plain": [
       "Matrix([\n",
       "[1, 0, 0],\n",
       "[0, 1, 0],\n",
       "[0, 0, 1]])"
      ]
     },
     "execution_count": 23,
     "metadata": {},
     "output_type": "execute_result"
    }
   ],
   "source": [
    "I"
   ]
  },
  {
   "cell_type": "code",
   "execution_count": 24,
   "metadata": {
    "scrolled": true
   },
   "outputs": [],
   "source": [
    "P = 2 * I"
   ]
  },
  {
   "cell_type": "code",
   "execution_count": 25,
   "metadata": {},
   "outputs": [
    {
     "data": {
      "text/latex": [
       "$\\displaystyle \\left[\\begin{matrix}1 & 0 & 0\\\\0 & 1 & 0\\\\0 & 0 & 1\\end{matrix}\\right]$"
      ],
      "text/plain": [
       "Matrix([\n",
       "[1, 0, 0],\n",
       "[0, 1, 0],\n",
       "[0, 0, 1]])"
      ]
     },
     "execution_count": 25,
     "metadata": {},
     "output_type": "execute_result"
    }
   ],
   "source": [
    "I"
   ]
  },
  {
   "cell_type": "code",
   "execution_count": 26,
   "metadata": {},
   "outputs": [
    {
     "data": {
      "text/latex": [
       "$\\displaystyle \\left[\\begin{matrix}a_{11} & a_{12} & a_{13}\\\\a_{21} & a_{22} & a_{23}\\\\a_{31} & a_{32} & a_{33}\\end{matrix}\\right]$"
      ],
      "text/plain": [
       "Matrix([\n",
       "[a11, a12, a13],\n",
       "[a21, a22, a23],\n",
       "[a31, a32, a33]])"
      ]
     },
     "execution_count": 26,
     "metadata": {},
     "output_type": "execute_result"
    }
   ],
   "source": [
    "I * M"
   ]
  },
  {
   "cell_type": "code",
   "execution_count": 27,
   "metadata": {},
   "outputs": [
    {
     "data": {
      "text/latex": [
       "$\\displaystyle \\left[\\begin{matrix}a_{11} & a_{12} & a_{13}\\\\a_{21} & a_{22} & a_{23}\\\\a_{31} & a_{32} & a_{33}\\end{matrix}\\right]$"
      ],
      "text/plain": [
       "Matrix([\n",
       "[a11, a12, a13],\n",
       "[a21, a22, a23],\n",
       "[a31, a32, a33]])"
      ]
     },
     "execution_count": 27,
     "metadata": {},
     "output_type": "execute_result"
    }
   ],
   "source": [
    "M * I"
   ]
  },
  {
   "cell_type": "code",
   "execution_count": 28,
   "metadata": {},
   "outputs": [
    {
     "data": {
      "text/latex": [
       "$\\displaystyle \\left[\\begin{matrix}2 a_{11} & 2 a_{12} & 2 a_{13}\\\\2 a_{21} & 2 a_{22} & 2 a_{23}\\\\2 a_{31} & 2 a_{32} & 2 a_{33}\\end{matrix}\\right]$"
      ],
      "text/plain": [
       "Matrix([\n",
       "[2*a11, 2*a12, 2*a13],\n",
       "[2*a21, 2*a22, 2*a23],\n",
       "[2*a31, 2*a32, 2*a33]])"
      ]
     },
     "execution_count": 28,
     "metadata": {},
     "output_type": "execute_result"
    }
   ],
   "source": [
    "P * M"
   ]
  },
  {
   "cell_type": "code",
   "execution_count": 29,
   "metadata": {},
   "outputs": [
    {
     "data": {
      "text/latex": [
       "$\\displaystyle \\left[\\begin{matrix}2 a_{11} & 2 a_{12} & 2 a_{13}\\\\2 a_{21} & 2 a_{22} & 2 a_{23}\\\\2 a_{31} & 2 a_{32} & 2 a_{33}\\end{matrix}\\right]$"
      ],
      "text/plain": [
       "Matrix([\n",
       "[2*a11, 2*a12, 2*a13],\n",
       "[2*a21, 2*a22, 2*a23],\n",
       "[2*a31, 2*a32, 2*a33]])"
      ]
     },
     "execution_count": 29,
     "metadata": {},
     "output_type": "execute_result"
    }
   ],
   "source": [
    "M * P"
   ]
  },
  {
   "cell_type": "code",
   "execution_count": 30,
   "metadata": {},
   "outputs": [
    {
     "data": {
      "text/latex": [
       "$\\displaystyle \\left[\\begin{matrix}1 & 0 & 0\\\\0 & 1 & 0\\\\0 & 0 & 1\\end{matrix}\\right]$"
      ],
      "text/plain": [
       "Matrix([\n",
       "[1, 0, 0],\n",
       "[0, 1, 0],\n",
       "[0, 0, 1]])"
      ]
     },
     "execution_count": 30,
     "metadata": {},
     "output_type": "execute_result"
    }
   ],
   "source": [
    "simplify(M * invM)"
   ]
  },
  {
   "cell_type": "code",
   "execution_count": 35,
   "metadata": {},
   "outputs": [
    {
     "data": {
      "text/latex": [
       "$\\displaystyle a + b$"
      ],
      "text/plain": [
       "a + b"
      ]
     },
     "execution_count": 35,
     "metadata": {},
     "output_type": "execute_result"
    }
   ],
   "source": [
    "simplify((a**2 - b**2) / (a - b))"
   ]
  },
  {
   "cell_type": "code",
   "execution_count": 33,
   "metadata": {},
   "outputs": [],
   "source": [
    "n = symbols('n')"
   ]
  },
  {
   "cell_type": "code",
   "execution_count": 34,
   "metadata": {},
   "outputs": [
    {
     "data": {
      "text/latex": [
       "$\\displaystyle \\frac{a^{3} - b^{3}}{a - b}$"
      ],
      "text/plain": [
       "(a**3 - b**3)/(a - b)"
      ]
     },
     "execution_count": 34,
     "metadata": {},
     "output_type": "execute_result"
    }
   ],
   "source": [
    "simplify((a**3 - b**3) / (a - b))"
   ]
  },
  {
   "cell_type": "code",
   "execution_count": 39,
   "metadata": {},
   "outputs": [
    {
     "data": {
      "text/latex": [
       "$\\displaystyle \\left(a - b\\right)^{3}$"
      ],
      "text/plain": [
       "(a - b)**3"
      ]
     },
     "execution_count": 39,
     "metadata": {},
     "output_type": "execute_result"
    }
   ],
   "source": [
    "simplify((a - b)**3, inverse=False)"
   ]
  },
  {
   "cell_type": "code",
   "execution_count": 42,
   "metadata": {},
   "outputs": [],
   "source": [
    "?simplify"
   ]
  },
  {
   "cell_type": "code",
   "execution_count": null,
   "metadata": {},
   "outputs": [],
   "source": []
  }
 ],
 "metadata": {
  "kernelspec": {
   "display_name": "Python 3",
   "language": "python",
   "name": "python3"
  },
  "language_info": {
   "codemirror_mode": {
    "name": "ipython",
    "version": 3
   },
   "file_extension": ".py",
   "mimetype": "text/x-python",
   "name": "python",
   "nbconvert_exporter": "python",
   "pygments_lexer": "ipython3",
   "version": "3.7.4"
  }
 },
 "nbformat": 4,
 "nbformat_minor": 4
}
