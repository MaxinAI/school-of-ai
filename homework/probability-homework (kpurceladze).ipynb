{
 "cells": [
  {
   "cell_type": "code",
   "execution_count": null,
   "metadata": {},
   "outputs": [],
   "source": [
    "%load_ext autoreload\n",
    "%autoreload 2\n",
    "\n",
    "%matplotlib inline"
   ]
  },
  {
   "cell_type": "markdown",
   "metadata": {},
   "source": [
    "## Basic setup"
   ]
  },
  {
   "cell_type": "markdown",
   "metadata": {},
   "source": [
    "Create anaconda environment\n",
    "<br>\n",
    "```bash\n",
    "conda create -n ml python=3.7.4 jupyter\n",
    "```\n",
    "Install fastai library\n",
    "<br>\n",
    "```bash\n",
    "conda install -c pytorch -c fastai fastai\n",
    "```"
   ]
  },
  {
   "cell_type": "markdown",
   "metadata": {},
   "source": [
    "# Sigma-algebras"
   ]
  },
  {
   "cell_type": "markdown",
   "metadata": {},
   "source": [
    "#### Prove that:\n",
    "Composition of mesurable functions is a mesurable function"
   ]
  },
  {
   "cell_type": "markdown",
   "metadata": {},
   "source": [
    "## Mesure"
   ]
  },
  {
   "cell_type": "markdown",
   "metadata": {},
   "source": [
    "#### Prove the following mesure properties:\n",
    "- if $A \\subset B$ then $\\mu(A) \\le \\mu(B)$\n",
    "<br>\n",
    "Proof: $(B - A) \\cup (A \\cap B) = (B - A) \\cup A = B$ and $(B - A) \\cap (A \\cap B) = \\emptyset$ so $\\mu((B - A) \\cup (A \\cap B)) = \\mu(B - A) + \\mu(A \\cap B) = \\mu(B - A) + \\mu(A) = \\mu(B)$ so $\\mu(A) \\le \\mu(B)$"
   ]
  },
  {
   "cell_type": "markdown",
   "metadata": {},
   "source": [
    "## Probability"
   ]
  },
  {
   "cell_type": "markdown",
   "metadata": {},
   "source": [
    "#### Prove that:\n",
    "For probability mesure $P$ and events $A, B, C \\subset \\Omega$\n",
    "- $P(A \\cup B) = P(A) + P(B) - P(A \\cap B)$\n",
    "<br>"
   ]
  },
  {
   "cell_type": "markdown",
   "metadata": {},
   "source": [
    "დამტკიცება:\n",
    "    \n",
    "$A = (A-B) \\cup(A \\cap B)$\n",
    "\n",
    "$B = (B-A) \\cup(A \\cap B)$\n",
    "\n",
    "$A \\cup B =(A-B) \\cup (B-A) \\cup (A \\cap B)$\n",
    "\n",
    "სამივე ტოლობის მარჯვენა მხარეს წყვილ-წყვილად თანაუკვეთი სიმრავლეებია, ამიტომ:\n",
    "\n",
    "$P(A) = P(A-B) + P(A \\cap B)$\n",
    "\n",
    "$P(B) = P(B-A) + P(A \\cap B)$\n",
    "\n",
    "$P(A \\cup B) =P(A-B) + P(B-A) + P(A \\cap B)$\n",
    "\n",
    "მესამე ტოლობას გამოვაკლოთ პირველის და მეორეს ჯამი. მივიღებთ:\n",
    "\n",
    "$P(A \\cup B) - (P(A) + P(B)) = - P(A \\cap B)$\n",
    "\n",
    "$P(A \\cup B) = P(A) + P(B) - P(A \\cap B)$\n",
    "\n",
    "\n",
    "                                    რ. დ. გ.\n",
    "\n",
    "\n",
    "\n"
   ]
  },
  {
   "cell_type": "markdown",
   "metadata": {},
   "source": [
    "## Random variable"
   ]
  },
  {
   "cell_type": "markdown",
   "metadata": {},
   "source": [
    "#### Prove that:\n",
    "$$\n",
    "\\sigma^2 = \\operatorname{E}[X^2] - (\\operatorname{E}[X])^2\n",
    "$$\n",
    "Assuming that expectation exists\n",
    "<br>\n",
    "Denoted by $\\sigma^2$\n",
    "<br>"
   ]
  },
  {
   "cell_type": "markdown",
   "metadata": {},
   "source": [
    "დამტკიცება:\n",
    "\n",
    "\n",
    "   $\\sigma^2 =  \\operatorname{E}[X - \\operatorname{E}[X]]^2 = \\operatorname{E}[X^2 - 2 \\operatorname{E}[X]X + ( \\operatorname{E}[X])^2] = \\operatorname{E}[X])^2 - 2\\operatorname{E}[X] \\operatorname{E}[X] + (\\operatorname{E}[X])^2 = \\operatorname{E}[X^2] - (\\operatorname{E}[X])^2$\n",
    "   \n",
    "   \n",
    "                               რ. დ. გ.\n"
   ]
  }
 ],
 "metadata": {
  "kernelspec": {
   "display_name": "Python 3",
   "language": "python",
   "name": "python3"
  },
  "language_info": {
   "codemirror_mode": {
    "name": "ipython",
    "version": 3
   },
   "file_extension": ".py",
   "mimetype": "text/x-python",
   "name": "python",
   "nbconvert_exporter": "python",
   "pygments_lexer": "ipython3",
   "version": "3.7.3"
  }
 },
 "nbformat": 4,
 "nbformat_minor": 4
}
