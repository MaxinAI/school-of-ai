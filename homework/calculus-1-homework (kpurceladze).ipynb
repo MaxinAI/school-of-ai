{
 "cells": [
  {
   "cell_type": "code",
   "execution_count": null,
   "metadata": {},
   "outputs": [],
   "source": [
    "%load_ext autoreload\n",
    "%autoreload 2\n",
    "\n",
    "%matplotlib inline"
   ]
  },
  {
   "cell_type": "markdown",
   "metadata": {},
   "source": [
    "## Basic setup"
   ]
  },
  {
   "cell_type": "markdown",
   "metadata": {},
   "source": [
    "Create anaconda environment\n",
    "<br>\n",
    "```bash\n",
    "conda create -n ml python=3.7.4 jupyter\n",
    "```\n",
    "Install fastai library\n",
    "<br>\n",
    "```bash\n",
    "conda install -c pytorch -c fastai fastai\n",
    "```"
   ]
  },
  {
   "cell_type": "markdown",
   "metadata": {},
   "source": [
    "!pip install https://github.com/ipython-contrib/jupyter_contrib_nbextensions/tarball/master\n",
    "!pip install jupyter_nbextensions_configurator\n",
    "!jupyter contrib nbextension install --user\n",
    "!jupyter nbextensions_configurator enable --user"
   ]
  },
  {
   "cell_type": "markdown",
   "metadata": {},
   "source": [
    "# Metric spaces"
   ]
  },
  {
   "cell_type": "markdown",
   "metadata": {},
   "source": [
    "#### Prove that:\n",
    "For every metric space (X, d):\n",
    "\n",
    "1)- For eny $\\mathcal{U} = \\{U | U$ is open in $(X, d)\\}$ holds $\\bigcup_{U \\in \\mathcal{U}} U$ is open in $(X, d)$\n",
    "\n",
    "2)- For eny two $U, V \\subset X$ open in $(X, d)$ holds: $U \\cap V$ is open in $(X, d)$\n",
    "\n",
    "3)- $X$ is open in $(X, d)$\n",
    "\n",
    "4)- $\\emptyset$ is open in $(X, d)$\n"
   ]
  },
  {
   "cell_type": "markdown",
   "metadata": {},
   "source": [
    "დამტკიცება:\n",
    "\n",
    "1) თუ $x \\in\\mathcal{U}$, მაშინ $x \\in U$ (რომელიმე U-ს).  $U$ არის ღია in $(X, d)$-ში, ამიტომ ყოველი $x \\in U$-თვის არსებობს $r \\in R$, ისეთი რომ: $B(x,r) \\subset U \\to B(x,r) \\subset \\mathcal{U}$ \n",
    "\n",
    "                  რ. დ. გ."
   ]
  },
  {
   "cell_type": "markdown",
   "metadata": {},
   "source": [
    "2) ავიღოთ ნებისმიერი $x \\in U \\cap V$, \n",
    "\n",
    "მაშინ $x \\in U$ და $x \\in V$. \n",
    "რადგან U და V ღია სიმრავლეებია, არსებობს $r_{1} \\in R$  და $r_{2} \\in R$, რომ $B(x,r_{1}) \\subset U$ და $B(x,r_{2}) \\subset V$. $r_{1}$-სა და $r_{2}$-ს შორის უმცირესი აღვნიშნოთ r-ით. ცხადია, $B(x,r) \\subset U \\cap V.$\n",
    "                                \n",
    "                                რ. დ. გ.\n",
    "                    "
   ]
  },
  {
   "cell_type": "markdown",
   "metadata": {},
   "source": [
    "#### Prove that:\n",
    "- For eny finity set $(U)_{i=1}^{n}$ of open sets in $(X, d)$, $\\bigcap_{i=1}^{n}U$ is open in $(X, d)$"
   ]
  },
  {
   "cell_type": "markdown",
   "metadata": {},
   "source": [
    " თეორემა:\n",
    "        \n",
    "        სასრული რაოდენობის ღია სიმრავლეების თანაკვეთა ღიაა.\n",
    "        \n",
    "დამტკიცება: გამომდინარეობს წინა თეორემის 2) პუნქტიდან. მათემატიკური ინდუქციის მეთოდით."
   ]
  },
  {
   "cell_type": "markdown",
   "metadata": {},
   "source": [
    "#### Prove that for set $U \\subset X$ is open if and only if for each point $x \\in U$ there exists the open neighbourhood $V$ of $x$ such that $V \\subset U$"
   ]
  },
  {
   "cell_type": "markdown",
   "metadata": {},
   "source": [
    "    დამტკიცება: \n",
    "    \n",
    "   საკმარისობა:  \n",
    "  $U \\subset X$ ღია სიმრავლეა, მაშინ ნებისმიერი $x \\in X$, მოიძებნება $r \\in R$, ისეთი, რომ:   $B(x, r) \\subset U$. $B(x,r)$ ღია სიმრავლეა. $V=B(x,r)$\n",
    "  \n",
    "  აუცილებლობა: რადგან ნებისმიერი $x \\in X$, მოიძებნება $V x$-ის ღია მიდამო, $V \\subset U$ და $V$ ღია სიმრავლის ყოველი წერტილისთვის, მოიძებნება r, რომ: $B(x,r) \\subset V \\subset U$, ამიტომ $U$ ღიაა.\n",
    "  \n",
    "                                 რ. დ. გ.\n",
    "    \n",
    "    \n",
    " "
   ]
  },
  {
   "cell_type": "markdown",
   "metadata": {},
   "source": [
    "#### Prove that, closed ball is closed subset in $(X, d)$\n"
   ]
  },
  {
   "cell_type": "markdown",
   "metadata": {},
   "source": [
    "თეორემა: $\\bar{B}(x, r) = \\{y | d(x, y) \\le r \\}$ (X,R)-ის ჩაკეტილი ქვესიმრავლეა.\n",
    "\n",
    "დამტკიცება: ამ სიმრავლის დამატება: $M = \\{y | d(x,y) \\gt r \\}$ ღიაა, რადგან M-ის ნებისმიერი y წეტილისთვის, მოიძებნება $B(y,r) \\subset M$ მართლაც \n",
    "ვთქვათ,  M არ არის ღია, მაშინ არსებობს $y \\in M$, რომ ნებისმიერი $r_1$-თვის არსებობს ისეთი $z \\in B(y,r_1)$, რომ: \n",
    "$d(x,z) \\le r_1$.\n",
    "ვიღებთ $d(x,y) \\le r$, რაც შეუძლებელია.\n",
    "\n",
    "\n",
    "\n",
    "\n",
    "\n",
    "                რ. დ. გ."
   ]
  },
  {
   "cell_type": "markdown",
   "metadata": {},
   "source": [
    "#### Prove that\n",
    "For every metric space (X, d):\n",
    "- 1) For eny $\\mathcal{F} = \\{F | F$ is closed in $(X, d)\\}$ holds $\\bigcap_{F \\in \\mathcal{F}} F$ is closed in $(X, d)$\n",
    "\n",
    "- 2) For eny two $F_1, F_2 \\subset X$ closed in $(X, d)$ holds: $F_1 \\cup F_2$ is closed in $(X, d)$\n",
    "\n",
    "- 3) $X$ is closed in $(X, d)$\n",
    "\n",
    "- 4) $\\emptyset$ is closed in $(X, d)$"
   ]
  },
  {
   "cell_type": "markdown",
   "metadata": {},
   "source": [
    " დამტკიცება:\n",
    "        \n",
    "   1) $\\overline {\\cap_{F \\in \\mathcal{F}}} = \\cup_{F \\in \\mathcal{F}} \\overline{F}$\n",
    "   \n",
    "   სიმრავლე ღიაა, უკვე დამტკიცებულის თანახმად. ე. ი. $\\bigcap_{F \\in \\mathcal{F}} F$ ჩაკეტილია."
   ]
  },
  {
   "cell_type": "markdown",
   "metadata": {},
   "source": [
    " 2) $\\overline {F_1 \\cup F_2}$ = $\\overline {F_1} \\cap \\overline {F_2}$\n",
    " \n",
    " მივიღეთ ორი ღია სიმრავლის თანაკვეთა, რომელიც ღიაა უკვე დამტკიცებულის თანახმად.\n",
    " \n",
    " $F_1 \\cup F_2$  სიმრავლე ჩაკეტილია."
   ]
  },
  {
   "cell_type": "markdown",
   "metadata": {},
   "source": [
    "3) $ \\overline{X} = \\emptyset$ ღიაა, ამიტომ $X$ ჩაკეტილია."
   ]
  },
  {
   "cell_type": "markdown",
   "metadata": {},
   "source": [
    "4) $ \\emptyset$ ღიაა, ამიტომ $X$ ჩაკეტილია."
   ]
  },
  {
   "cell_type": "markdown",
   "metadata": {},
   "source": [
    "#### Prove that:\n",
    "- For eny finity set $(F)_{i=1}^{n}$ of closed sets in $(X, d)$, $\\bigcup_{i=1}^{n}F$ is closed in $(X, d)$"
   ]
  },
  {
   "cell_type": "markdown",
   "metadata": {},
   "source": [
    "#### Prove that, if $F \\subset X$ is closed then $X - F$ is open in $(X, d)$ "
   ]
  },
  {
   "cell_type": "markdown",
   "metadata": {},
   "source": [
    "ორი სიმრავლისთვის დამტკიცებულია, n-თვის დამტკიცდება მათემატიკური ინდუქციის მეთოდით."
   ]
  },
  {
   "cell_type": "markdown",
   "metadata": {},
   "source": [
    "# Metrics in Euclidean spaces"
   ]
  },
  {
   "cell_type": "markdown",
   "metadata": {},
   "source": [
    "#### Prove that:\n",
    "-1) for every $u, v \\in \\mathbb{R}^{n}$: $d(u, v) \\geq 0$\n",
    "\n",
    "-2) for every $v \\in \\mathbb{R}^{n}$: $d(v, v) = 0$\n",
    "\n",
    "-3) for every $u, v \\in \\mathbb{R}^{n}$: $d(u, v) = d(v, u)$ (symmetry)\n",
    "\n",
    "-4) for every $u, v, w \\in \\mathbb{R}^{n}$: $d(u, w) \\leq d(v, u) + d(v, w)$ (triangle inequality)"
   ]
  },
  {
   "cell_type": "markdown",
   "metadata": {},
   "source": [
    "დამტკიცება:\n",
    "    \n",
    "  1) $u, v \\in \\mathbb{R}^{n}:  d(u, v) =  \\sqrt{\\sum_{i=1}^{n}(u-v)^{2}} \\geq 0$\n",
    "  \n",
    "  2) $v \\in \\mathbb{R}^{n}$: $d(v,v) =  \\sqrt{\\sum_{i=1}^{n}(v-v)^{2}} = 0$\n",
    "  \n",
    "  3) $u, v \\in \\mathbb{R}^{n}$: $d(u, v) = \\sqrt{\\sum_{i=1}^{n}(u-v)^{2}} = \\sqrt{\\sum_{i=1}^{n}(v-u)^{2}} = d(v,u)$\n",
    "  \n",
    "  4) $u, v, w \\in \\mathbb{R}^{n}$:$ \\sqrt{\\sum_{i=1}^{n}(u-w)^{2}} \\leq \\sqrt{\\sum_{i=1}^{n}(v-u)^{2}}+  \\sqrt{\\sum_{i=1}^{n}(v-w)^{2}}$ დავამტკიცოთ ინდუქციი მეთოდით.\n",
    "  \n",
    "  1) n=1: \n",
    "  \n",
    "  $ \\sqrt{(u-w)^{2}} \\leq \\sqrt{(v-u)^{2}}+  \\sqrt{(v-w)^{2}}$, ან რაც იგივეა:\n",
    "  \n",
    "  $ \\ |u-w| \\leq|v-u|+|v-w|$ \n",
    "  \n",
    "  2) ვთქვათ, $ \\sqrt{\\sum_{i=1}^{k}(u-w)^{2}} \\leq \\sqrt{\\sum_{i=1}^{k}(v-u)^{2}}+  \\sqrt{\\sum_{i=1}^{k}(v-w)^{2}}$ სრულდება ნებისმიერი k-თვის. დავამტკიცოთ, რომ:\n",
    "  \n",
    "  $ \\sqrt{\\sum_{i=1}^{k+1}(u-w)^{2}} \\leq \\sqrt{\\sum_{i=1}^{k+1}(v-u)^{2}}+  \\sqrt{\\sum_{i=1}^{k+1}(v-w)^{2}}$ \n",
    "  \n",
    "  $ \\sqrt{\\sum_{i=1}^{k+1}(u-w)^{2}}\\leq\\sqrt{\\sum_{i=1}^{k}(u-w)^{2}}$+ $\\sqrt{(u_{k+1}-w_{k+1})^{2}} \\leq \\sqrt{(v_{k+1}-u_{k+1})^{2}} +\\sqrt{(v_{k+1}-w_{k+1})^{2}} + \\sqrt{\\sum_{i=1}^{k}(v-u)^{2}}+  \\sqrt{\\sum_{i=1}^{k}(v-w)^{2}}\\leq \\sqrt{\\sum_{i=1}^{k+1}(v-u)^{2}}+  \\sqrt{\\sum_{i=1}^{k+1}(v-w)^{2}}$\n",
    " \n",
    "  "
   ]
  },
  {
   "cell_type": "markdown",
   "metadata": {},
   "source": [
    "#### Prove the same properties hold for $d(u, v) = ||u-v||_1$ ($||u-v||_1 = \\sum_{i = 1}^{n}|u_i - v_i|$)"
   ]
  },
  {
   "cell_type": "markdown",
   "metadata": {},
   "source": [
    "დამტკიცება: \n",
    "\n",
    "1)$d(u,v) = \\sum_{i = 1}^{n}|u_i - v_i| \\geq 0$\n",
    "\n",
    " 2)  $d(u,u)=0$\n",
    " \n",
    " 3) $d(u,v)= \\sum_{i = 1}^{n}|u_i - v_i| =  \\sum_{i = 1}^{n}|v_i - u_i|$ \n",
    " \n",
    " 4) დამტკიცდება წინა თეორემის ანალოგიურად. ინდუქციით.\n",
    " "
   ]
  },
  {
   "cell_type": "markdown",
   "metadata": {},
   "source": [
    "## Sequences and limits"
   ]
  },
  {
   "cell_type": "markdown",
   "metadata": {},
   "source": [
    "#### Prove that $x = \\lim_{n\\to\\infty}{x_n}$ in $(X, d)$ if and only if (iff) for every $r \\in \\mathbb{R}$ there exists $n_0 \\in \\mathbb{N}$ such that: $x_i \\in B(x, r)$ for every $i \\gt n_0$"
   ]
  },
  {
   "cell_type": "markdown",
   "metadata": {},
   "source": [
    "დამტკიცება:\n",
    "\n",
    " $\\lim_{n \\to \\infty}{x_n} = x$ ნიშნავს, რომ: ყოველი ღია სიმრავლისთვის $U \\subset X$,  $x \\in U$, მოიძებნება $n_0 \\in \\mathbb{N}$ ისეთი, რომ: $x_i \\in U$ ყოველი $i \\gt n_0$-თვის.\n",
    " დამტკიცებული გვაქვს, რომ სიმრავლე ღიაა, მაშინ და მხოლოდ მაშინ, თუ მისი ნებისმიერი წერტილისთვის არსებობს მოცემული სიმრავლის ღია ქვესიმრავლე, რომელსაც ეს წერტილი ეკუთვნის. ღია ბირთვი ღია სიმრავლეა. ამიტომ თეორემა დამტკიცებულია."
   ]
  },
  {
   "cell_type": "markdown",
   "metadata": {},
   "source": [
    "#### Prove that if $x = \\lim_{n\\to\\infty}{x_n}$ and $x \\notin \\{-\\infty, \\infty\\}$ then $(x_i)_{i=1}^{\\infty} = (x_1, x_2, \\dots, x_n)$ is a Cauchy sequence\n",
    "<br>\n"
   ]
  },
  {
   "cell_type": "markdown",
   "metadata": {},
   "source": [
    "დამტკიცება: \n",
    "\n",
    "თუ $x = \\lim_{n\\to\\infty}{x_n}$, მაშინ ნებისმიერი $r \\in \\mathbb{R}$ არსებობს $n_1$ და $n_2$ $\\in \\mathbb{N}$ რომ:  $d(x_i,x) \\lt r/2$ და  $d(x_j,x) \\lt r/2$ ყოველი $i \\gt n_1$ და $j \\gt n_2$.\n",
    "\n",
    "$n_1$-სა და $n_2$-ს შორის უდიდესი აღვნიშნოთ $n_0$-ით. მაშინ ნებისმიერი  $i \\gt n_0$ და $j \\gt n_0$\n",
    "\n",
    "$d(x_i, x_j) \\leq d(x_i, x) + d(x_j, x) \\lt r/2 + r/2 = r$\n",
    "\n",
    "                                    რ. დ. გ."
   ]
  },
  {
   "cell_type": "markdown",
   "metadata": {},
   "source": [
    "For closed set $F \\subset \\mathbb{R}^n$ and convergent sequence $(x_i)_{i=1}^{\\infty} = (x_1, x_2, \\dots, x_n)$ such that there exists $n_0 \\in \\mathbb{N}$ such that $x_i \\in F$ for each $i \\gt n_0$ then: $\\lim_{n\\to\\infty}{x_n} \\in F$"
   ]
  },
  {
   "cell_type": "markdown",
   "metadata": {},
   "source": [
    "დავუშვათ საწინააღმდეგო.\n",
    "ვთქვათ, $\\lim_{n\\to\\infty}{x_n}=x$ და $x$ არ ეკუთვნის $F$-ს. $x \\in \\overline{F}$\n",
    " თუ $F \\subset \\mathbb{R}^n$ ჩაკეტილი სიმრავლეა, მაშინ მისი დამატება $\\overline{F}$ ღიაა. და ნებისმიერი $x \\in \\overline{F}$  წერტილისთვის, მოიძებნება $B(x,r) \\subset \\overline{F}$, რაც ნიშნავს, რომ $x$ არ არის ზღვარი. მივიღეთ წინააღმდეგობა.\n",
    "                                     \n",
    "                                     რ. დ. გ."
   ]
  },
  {
   "cell_type": "markdown",
   "metadata": {},
   "source": [
    "#### Prove that if $F$ is open from previous example, statement does not hold. "
   ]
  },
  {
   "cell_type": "markdown",
   "metadata": {},
   "source": [
    "თუ $F$ ღია სიმრავლეა, მაშინ შესაძლებელია, რომ $\\lim_{n\\to\\infty}{x_n}$ არ ეკუთვნოდეს $F$-ს.\n",
    "\n",
    "მაგალითად $F= (0; \\infty)$ ღია სიმრავლეა\n",
    "\n",
    "მიმდევრობა: $x_n =1 /n$,\n",
    "\n",
    "$x_n \\in F$ ნებისმიერი n-თვის და \n",
    "\n",
    "$\\lim_{n\\to\\infty}{x_n} = 0 \\notin F$"
   ]
  },
  {
   "cell_type": "markdown",
   "metadata": {},
   "source": [
    "#### Prove that inherited metric is a metric"
   ]
  },
  {
   "cell_type": "markdown",
   "metadata": {},
   "source": [
    "## Limits of functions"
   ]
  },
  {
   "cell_type": "markdown",
   "metadata": {},
   "source": [
    "Let $f:S \\to Y$ is function between subset $S \\subset X$ of a metric space $(X, d_x)$ and metric space $(Y, d_Y)$\n",
    "- We say that the limit of function $f:(S, d_x) \\to (Y, d_Y)$ between metric spaces in some limit point $c \\in X$ of the subset $S$ is $y \\in Y $if for each open neighborhood of $y \\in V \\subset Y$ there exists the open seighborhood of $c \\in U \\subset X$ such that $f(U \\cap S) \\subset V$\n",
    "<br>\n",
    "This definition is equiualent of definition:\n",
    "<br>\n",
    "- The limit of function $f:(S, d_X) \\to (Y, d_Y)$ between metric spaces in limit point $c \\in X$ of the subset $S$ is $y \\in Y $ if for each open ball $B(x, r) \\subset Y$ there exists the ball $B(c, l) \\subset X$ such that $f(B(c, l) \\cap S) \\subset B(y, r)$\n",
    "<br>\n",
    "or\n",
    "<br>\n",
    "- The limit of function $f:(S, d_X) \\to (Y, d_Y)$ between metric spaces in limit point $c \\in X$ of subset $S$ is $y \\in Y $ if for any $r \\in \\mathbb{R}$ there exists $l \\in \\mathbb{R}$ such that for every $x \\in S$ with $d_X(x, c) < l$ implies that $d_Y(f(x), y) < r$"
   ]
  },
  {
   "cell_type": "markdown",
   "metadata": {},
   "source": [
    "#### Prove that this three definitions are equiualent for eny function between eny two metric spaces"
   ]
  },
  {
   "cell_type": "markdown",
   "metadata": {},
   "source": [
    "1) და 2) განმარტებები ექვივალენტურია, რადგან ყოველი არაცარიელი ღია სიმრავლისთვის არსებობს ღია ბირთვი. რომელიც შედის ამ სიმრავლეში.\n",
    "\n",
    "2) და 3) ექვივალენტურია, რადგან თუ $x \\in S$  $d_X(x, c) < l$ მაშინ $d_Y(f(x), y) < r$, იგივეა,რაც:\n",
    "\n",
    "$B(c, l) \\subset X$,  $f(B(c, l) \\cap S) \\subset B(y, r)$ \n",
    "\n"
   ]
  },
  {
   "cell_type": "markdown",
   "metadata": {},
   "source": [
    "## Continuous functions "
   ]
  },
  {
   "cell_type": "markdown",
   "metadata": {},
   "source": [
    "#### Prove that function is continuous in $c$ if for eny sequence $(x_n)_{n=1}^{\\infty} \\subset X$ such that $\\lim_{n \\to \\infty}x_n = c$ we have $\\lim_{n \\to \\infty}f(x_n) = f(c)$"
   ]
  },
  {
   "cell_type": "markdown",
   "metadata": {},
   "source": [
    "დამტკიცება: თუ ყოველი მიმდევრობისთვის\n",
    "\n",
    "  $(x_n)_{n=1}^{\\infty} \\subset X$ $\\lim_{n \\to \\infty}x_n = c$ გვაქვს $\\lim_{n \\to \\infty}f(x_n) = f(c)$,\n",
    "  \n",
    "  მაშინ მიმდევრობის ზღვრის განმარტების თანახმად: ყოველი ღია სიმრავლისთვის $f(c) \\in U \\subset X$,  $f(x) \\in U$, მოიძებნება $n_0 \\in \\mathbb{N}$ ისეთი, რომ: $f(x_i)\\in U$ ყოველი $i \\gt n_0$-თვის. რადგან c დაგროვების წერტილია, ზოგადობის შეუზღუდავად შეგვიძლია ვიგულისხმოთ, რომ თუ $i \\gt n_0$, $x_i \\in V$ \n",
    "  \n",
    "  \n",
    "                              რ. დ. გ.\n",
    "        \n",
    "    \n",
    "    \n",
    "   "
   ]
  },
  {
   "cell_type": "markdown",
   "metadata": {},
   "source": [
    "#### Prove that function is continuous if for every open set $V \\subset Y$ the $f^{-1}(V)$ is open in $X$"
   ]
  },
  {
   "cell_type": "markdown",
   "metadata": {},
   "source": [
    "დამტკიცება:\n",
    "    \n",
    "    \n",
    "   თუ ნებისმიერი ღია  $V \\subset Y$-თვის  $f^{-1}(V)$ ღიაა, მაშინ $b$-ს ($b \\in V$, ვთქვათ $a=f(b)$) ნებისმიერი ღია $U$ მიდამოსთვის მოიძებნება, $a$-ს $a \\in f^{-1}(U)$  მიდამო, რომ: $f(f^{-1}(U))=U$ ღია სიმრავლეა.\n",
    "   \n",
    "                       \n",
    "                       რ. დ. გ."
   ]
  },
  {
   "cell_type": "markdown",
   "metadata": {},
   "source": [
    "#### Prove that function is continuous if for every closed set $F \\subset Y$ the $f^{-1}(F)$ is closed  in $X$"
   ]
  },
  {
   "cell_type": "markdown",
   "metadata": {},
   "source": [
    "დამტკიცება: \n",
    "\n",
    "   თუ $F \\subset Y$ ჩაკეტილია, მაშინ მისი დამატება ღიაა. მივედით წინა თეორემაზე.\n",
    "   \n",
    "                      რ. დ. გ."
   ]
  },
  {
   "cell_type": "markdown",
   "metadata": {},
   "source": [
    "#### Prove that any composition of continous functions is continous"
   ]
  },
  {
   "cell_type": "markdown",
   "metadata": {},
   "source": [
    "დამტკიცება:\n",
    "    \n",
    "    \n",
    "   ვთქვათ, $f$ და $g$ უწყვეტი ფუნქციებია. განვიხილოთ კრებადი მიმდევრობა $x_n$ და ვთქვათ, $\\lim_{n\\to\\infty}{x_n} = c$, მაშინ $f$-ის უწყვეტობიდან გამომდინარე:  $\\lim_{n\\to\\infty}{f(x_n)} = f(c)$ \n",
    "   \n",
    "   $f(x_n)$ მიმდევრობაა  $g$-ს  განსაზღვრის არიდან, რომელიც მიისწრაფის $f(c)$-კენ. $g$-ს უწყვეტობიდან გამომდინარე:  $\\lim_{n\\to\\infty}{g(f(x_n))} = g(f(c))$\n",
    "   \n",
    "                                   რ. დ. გ."
   ]
  }
 ],
 "metadata": {
  "kernelspec": {
   "display_name": "Python 3",
   "language": "python",
   "name": "python3"
  },
  "language_info": {
   "codemirror_mode": {
    "name": "ipython",
    "version": 3
   },
   "file_extension": ".py",
   "mimetype": "text/x-python",
   "name": "python",
   "nbconvert_exporter": "python",
   "pygments_lexer": "ipython3",
   "version": "3.7.3"
  }
 },
 "nbformat": 4,
 "nbformat_minor": 4
}
