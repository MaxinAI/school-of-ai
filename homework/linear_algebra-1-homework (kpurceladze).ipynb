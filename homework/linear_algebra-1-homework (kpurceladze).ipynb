{
 "cells": [
  {
   "cell_type": "code",
   "execution_count": null,
   "metadata": {},
   "outputs": [],
   "source": [
    "%load_ext autoreload\n",
    "%autoreload 2\n",
    "\n",
    "%matplotlib inline"
   ]
  },
  {
   "cell_type": "markdown",
   "metadata": {},
   "source": [
    "## Basic setup"
   ]
  },
  {
   "cell_type": "markdown",
   "metadata": {},
   "source": [
    "Create anaconda environment\n",
    "<br>\n",
    "```bash\n",
    "conda create -n ml python=3.7.4 jupyter\n",
    "```\n",
    "Install fastai library\n",
    "<br>\n",
    "```bash\n",
    "conda install -c pytorch -c fastai fastai\n",
    "```"
   ]
  },
  {
   "cell_type": "markdown",
   "metadata": {},
   "source": [
    "# Set theory basics"
   ]
  },
  {
   "cell_type": "markdown",
   "metadata": {},
   "source": [
    "#### Prove that:\n",
    "<br>\n",
    "$A \\subseteq A$\n",
    "\n",
    "დამტკიცება:\n",
    "$A \\subseteq A$ ნიშნავს, რომ ნებისმიერი $x$-თვის  $A$-დან, $x \\in A$\n",
    "\n",
    "რ. დ. გ."
   ]
  },
  {
   "cell_type": "markdown",
   "metadata": {},
   "source": [
    "#### Prove that:\n",
    "<br>\n",
    "If $A \\subseteq B$ and $B \\subseteq A$ $\\to$ $A = B$"
   ]
  },
  {
   "cell_type": "markdown",
   "metadata": {},
   "source": [
    "დამტკიცება:"
   ]
  },
  {
   "cell_type": "markdown",
   "metadata": {},
   "source": [
    "დავუშვათ საწინააღმდეგო. ვთქვათ, A არ უდრის B-ს. მაშინ რომელიმე სიმრავლეში არსებობს ელემენტი, რომელიც არ ეკუთვნის მეორე სიმრავლეს. ვთქვათ, ასეთი ელემენტია x. ვთქვათ, $x \\in A$ და $x \\notin B$. მაშინ A არ არის B-ს ქვესიმრავლე. მივიღეთ წინააღმდეგობა. \n",
    "\n",
    "                        რ. დ. გ."
   ]
  },
  {
   "cell_type": "markdown",
   "metadata": {},
   "source": [
    "#### Prove that:\n",
    "<br>\n",
    "if $B \\subset A$ then $A \\cap B = B$"
   ]
  },
  {
   "cell_type": "markdown",
   "metadata": {},
   "source": [
    "დამტკიცება:"
   ]
  },
  {
   "cell_type": "markdown",
   "metadata": {},
   "source": [
    "განმარტების თანახმად, $A \\cap B \\subseteq B$. რადგან $B \\subseteq A$, ამიტომ $B \\subseteq A \\cap B$.\n",
    "\n",
    "$A \\cap B \\subseteq B$ და $B \\subseteq A \\cap B$. ამიტომ:$A \\cap B = B$.\n",
    "\n",
    "                        რ. დ. გ."
   ]
  },
  {
   "cell_type": "markdown",
   "metadata": {},
   "source": [
    "#### Prove that:\n",
    "<br>\n",
    "$A \\cap B = B \\cap A$"
   ]
  },
  {
   "cell_type": "markdown",
   "metadata": {},
   "source": [
    "დამტკიცება:  $x \\in A \\cap B \\to x\\in B$ და $x \\in A \\to x \\in B \\cap A \\to A \\cap B \\subseteq B \\cap A$. \n",
    "\n",
    "ანალოგიურად:\n",
    "\n",
    "$B \\cap A \\subseteq A \\cap B$.\n",
    "\n",
    "ამიტომ $A \\cap B = B \\cap A$. \n",
    "    \n",
    "                        რ. დ. გ."
   ]
  },
  {
   "cell_type": "markdown",
   "metadata": {},
   "source": [
    "#### Prove that:\n",
    "<br>\n",
    "if $B \\subset A$ then $A \\cup B = A$"
   ]
  },
  {
   "cell_type": "markdown",
   "metadata": {},
   "source": [
    "დამტკიცება:\n",
    "\n",
    "ნებისმიერი $D$ სიმრავლისთვის:\n",
    " \n",
    " $A \\subseteq D$ და $B \\subseteq D \\to A \\cup B \\subseteq D$"
   ]
  },
  {
   "cell_type": "markdown",
   "metadata": {},
   "source": [
    "ავიღოთ D=A სიმრავლე.  "
   ]
  },
  {
   "cell_type": "markdown",
   "metadata": {},
   "source": [
    " $A \\subseteq A$ და $B \\subseteq A \\to A \\cup B \\subseteq A$"
   ]
  },
  {
   "cell_type": "markdown",
   "metadata": {},
   "source": [
    "ამასთან: $A \\subseteq A \\cup B$, ამიტომ $A \\cup B = A$\n",
    "\n",
    "                    რ. დ. გ."
   ]
  },
  {
   "cell_type": "markdown",
   "metadata": {},
   "source": [
    "#### Prove that:\n",
    "<br>\n",
    "$A \\cup B = B \\cup A$\n",
    "\n",
    "დამტკიცება ტრივიალურია და გამომდინარეობს განმარტებიდან."
   ]
  },
  {
   "cell_type": "markdown",
   "metadata": {},
   "source": [
    "#### Prove that:\n",
    "-1) for every injection $m:A \\to B$ and pair of functions $f, g :C \\to A$: if $m \\circ f = m \\circ g$ then $f = g$ and vice-versa\n",
    "\n",
    "\n",
    "-2) for every surjection $e:A \\to B$ and every pair of functions $f, g :B \\to C$: if $f \\circ e = g \\circ e$ then $f = g$ and vice-versa"
   ]
  },
  {
   "cell_type": "markdown",
   "metadata": {},
   "source": [
    "დამტკიცება: 1) თუ m ინექციაა: $m:A \\to B$, მაშინ ყოველი  $a^{'}, a^{''} \\in A$:  $m(a^{'}) = m(a^{''})$ $\\to$ $a^{'} = a^{''}$.\n",
    "\n",
    "ამიტომ თუ $m \\circ f = m \\circ g$, ანუ $m(f(a)) = m(g(a)) \\to f(a) = g(a)$.\n",
    "\n",
    "                რ. დ. გ."
   ]
  },
  {
   "cell_type": "markdown",
   "metadata": {},
   "source": [
    "#### Prove that \n",
    "-1) composition of injections is injection itself\n",
    "\n",
    "-2) composition of surjections is surjection itself\n",
    "\n",
    "-3) composition of bijections is bijection itself\n",
    "\n",
    "<br>\n",
    "or give a counterexamples"
   ]
  },
  {
   "cell_type": "markdown",
   "metadata": {},
   "source": [
    " დამტკიცება:\n",
    " \n",
    " 1) ვთქვათ, $f$ და $g$ ინექციებია და გვაქვს  $f \\circ g$ კომპოზიცია, მაშინ ნებისმიერი $a^{'}, a^{''} \\in A$: $f(g(a^{'})) = f( g(a^{''}))$ $\\to$ $g(a^{'}) = g(a^{''}) \\to a^{'}= a^{''} $.\n",
    " \n",
    " 2) თუ f da g სურექციებია, მაშინ ნებისმიერი $c \\in C$-თვის, არსებობს $b \\in B$ ისეთი, რომ $f(b)=c$ და \n",
    " ამ b-თვის არსებობს $a \\in A$ ისეთი, რომ: $g(a)=b$.\n",
    " \n",
    " 3) თუ f და g ბიექციებია, მაშინ ინექციებიცაა და სურექციებიც, ამიტომ 1)-ის და 2)-ის თანახმად მათი კომპოზიცია ინექციაც იქნება და სურექციაც.\n",
    " \n",
    "                     რ. დ. გ."
   ]
  },
  {
   "cell_type": "markdown",
   "metadata": {},
   "source": [
    "#### Prove that for each set $A$:\n",
    "- $A \\cong A$\n",
    "- if $B \\cong A$ then $B \\cong A$ for every pair of sets $A$ and $B$\n",
    "- if $A \\cong B$ and $B \\cong C$ then $A \\cong C$ for every triplet $A$, $B$ and $C$"
   ]
  },
  {
   "cell_type": "markdown",
   "metadata": {},
   "source": [
    "Prove that for each set $A$:\n",
    "- $A \\cong A$\n",
    "\n",
    "განვიხილოთ ბიექცია $f(x)=x$, ნებისმიერი $x$-თვის $A$-დან.\n",
    "\n",
    "- if $A \\cong B$ then $B \\cong A$ for every pair of sets $A$ and $B$\n",
    "\n",
    "არსებობს ბიექცია $f:A \\to B$, განვიხილოთ შექცეული ფუნქცია, ისიც ბიექციაა, ოღონდ $B$-დან $A$-ში.\n",
    "\n",
    "- if $A \\cong B$ and $B \\cong C$ then $A \\cong C$ for every triplet $A$, $B$ and $C$\n",
    "\n",
    "განვიხილოთ $f: A \\to B,  g: B \\to C$ ბიექციები და მათი კომპოზიცია, რომელიც ასევე ბიექციაა. $g \\circ f: A \\to C$"
   ]
  },
  {
   "cell_type": "markdown",
   "metadata": {},
   "source": [
    "#### Prove that:\n",
    "<br>\n",
    "there exists a bijection between set of natural and even numbers"
   ]
  },
  {
   "cell_type": "markdown",
   "metadata": {},
   "source": [
    "განვიხილოთ ბიექცია: $f: n\\to 2n$, $n \\in N$"
   ]
  },
  {
   "cell_type": "markdown",
   "metadata": {},
   "source": [
    "#### Prove that:\n",
    "<br>\n",
    "if we have a bijection between two finite sets than they have an equal number of elements"
   ]
  },
  {
   "cell_type": "markdown",
   "metadata": {},
   "source": [
    "თუ A და B სასრული სიმრავლეებია და არსებობს ბიექცია  𝑓:𝐴→𝐵 \n",
    "\n",
    "გადავნომროთ A-ს ელემენტები, ანუ შევქმნათ g ბიექცია ნატურალურ რიცხვთა რაღაც M ქვესიმრავლესა და A-ს შორის. განვიხილოთ კომპოზიცია  𝑓∘𝑔:𝑀→𝐵 , რომელიც ასევე ბიექციაა. B-ს ელემენტები გადანომრილია M-ის ელემენტებით, ამასთან გამოყენებულია M-ის ყველა ელემენტი."
   ]
  },
  {
   "cell_type": "markdown",
   "metadata": {},
   "source": [
    "#### Prove that:\n",
    "<br>\n",
    "$A \\times B \\cong B \\times A$"
   ]
  },
  {
   "cell_type": "markdown",
   "metadata": {},
   "source": [
    "განვიხილოთ f: $A \\times B \\to B \\times A$\n",
    "    \n",
    "    f(a,b)=(b,a)\n",
    "    \n",
    "    ცხადია, f ბიექციაა."
   ]
  },
  {
   "cell_type": "markdown",
   "metadata": {},
   "source": [
    "$\\cap_{i\\in I}A_i$ and $\\cup_{i\\in I}A_i$"
   ]
  },
  {
   "cell_type": "markdown",
   "metadata": {},
   "source": [
    "\n",
    "სიმრავლეთა თანაკვეთა"
   ]
  },
  {
   "cell_type": "code",
   "execution_count": 257,
   "metadata": {},
   "outputs": [
    {
     "name": "stdout",
     "output_type": "stream",
     "text": [
      "მოცემულ სიმრავლეთა თანაკვეთაა\n",
      "{2, 3, 5, 7, 11, 13, 17, 19, 23, 29, 31, 37, 41, 43, 47, 53, 59, 61, 67, 71, 73, 79, 83, 89, 97}\n"
     ]
    }
   ],
   "source": [
    "import numpy as np\n",
    "\n",
    "#მარტივ რიცხვთა სიმრავლე\n",
    "\n",
    "\n",
    "#   ვქმნით სიმრავლეებს 1-დან 100-ის ჩათვლით იმ ნატურალური რიცხვებისა, რომლებიც:\n",
    "#   1) უდრის 2-ს, ან არ არის 2-ის ჯერადი, \n",
    "#   2) უდრის 3-ს, ან არ არის 3-ის ჯერადი,...\n",
    "#    ...................................................\n",
    "# ვპოულობთ მათ თანაკვეთას და ვიღებთ [1; 100] შუალედში მარტივ რიცხვებს.\n",
    "\n",
    "def tanakveta(A):\n",
    "    n = len(A)\n",
    "    for i in range (0, n-1):\n",
    "        B = (A[i]).intersection(A[i+1])\n",
    "        A[i+1]= B\n",
    "        \n",
    "    return B\n",
    "\n",
    "n=10\n",
    "for k in range(2,n**2+1):\n",
    "    B.add(k)\n",
    "    \n",
    "N = list()\n",
    "\n",
    "for j in range(0,n):\n",
    "    A=set()\n",
    "\n",
    "    for i in range(1, n**2//(j+2)+1):\n",
    "        A.add((i+1)*(j+2))\n",
    "        \n",
    "    \n",
    "    \n",
    "    \n",
    "    M =B- {a for a in A}\n",
    "    N.append(M)\n",
    "    \n",
    "#print('მოცემული სიმრავლეებია')\n",
    "#for i in range(0,n):\n",
    "    #print (N[i])\n",
    "print( 'მოცემულ სიმრავლეთა თანაკვეთაა')\n",
    "print(tanakveta(N))\n",
    "\n",
    "\n",
    "\n",
    "\n",
    "\n",
    "\n",
    "\n",
    "\n",
    "\n"
   ]
  },
  {
   "cell_type": "markdown",
   "metadata": {},
   "source": [
    "                სიმრავლეთა გაერთიანება\n",
    "                "
   ]
  },
  {
   "cell_type": "markdown",
   "metadata": {},
   "source": [
    "ვიპოვოთ წინა ამოცანაში შექმნილი სიმრავლეების გაერთიანება."
   ]
  },
  {
   "cell_type": "code",
   "execution_count": 249,
   "metadata": {},
   "outputs": [
    {
     "name": "stdout",
     "output_type": "stream",
     "text": [
      "{2, 3, 5, 7, 9, 11, 13, 15, 17, 19, 21, 23, 25, 27, 29, 31, 33, 35, 37, 39, 41, 43, 45, 47, 49, 51, 53, 55, 57, 59, 61, 63, 65, 67, 69, 71, 73, 75, 77, 79, 81, 83, 85, 87, 89, 91, 93, 95, 97, 99}\n"
     ]
    }
   ],
   "source": [
    "def gaertianeba(A):\n",
    "    n=len(A)\n",
    "    for i in range(0,n-1):\n",
    "        U =(A[i]).union(A[i+1])\n",
    "        A[i+1]=U\n",
    "\n",
    "    return U\n",
    "\n",
    "\n",
    "\n",
    "\n",
    "\n",
    "print(gaertianeba(N))"
   ]
  },
  {
   "cell_type": "markdown",
   "metadata": {},
   "source": [
    "We can also define cartesian product of any \"number\" of sets $\\prod_{i \\in I}{A_i}$"
   ]
  },
  {
   "cell_type": "markdown",
   "metadata": {},
   "source": [
    "             დეკარტული ნამრავლი"
   ]
  },
  {
   "cell_type": "code",
   "execution_count": 1,
   "metadata": {},
   "outputs": [
    {
     "data": {
      "text/plain": [
       "[[101, 1001],\n",
       " [101, 1002],\n",
       " [102, 1001],\n",
       " [102, 1002],\n",
       " [103, 1001],\n",
       " [103, 1002],\n",
       " {1001, 1002},\n",
       " {-3, -2}]"
      ]
     },
     "execution_count": 1,
     "metadata": {},
     "output_type": "execute_result"
    }
   ],
   "source": [
    "A = {1, 2, 3}\n",
    "B = {101, 102, 103}\n",
    "C = {1001, 1002}\n",
    "D = {-2, -3}\n",
    "E = {1000000, 2000000}\n",
    "\n",
    "simravleebi = [A, B, C, D, E]\n",
    "   \n",
    "def dec_prod(A):\n",
    "    n = len(A)\n",
    "    for i in range (0, n-1):\n",
    "        dec = [[a,b] for a in A[i]\n",
    "        for b in A[i+1]]\n",
    "        A[i+1] = dec\n",
    "    return dec\n",
    "\n",
    "M = dec_prod(simravleebi)\n",
    "\n",
    "M"
   ]
  },
  {
   "cell_type": "markdown",
   "metadata": {},
   "source": [
    "#### Prove that:\n",
    "<br>\n",
    "$$A \\cap (B \\cup C)=(A \\cap B) \\cup (A\\cap C)$$\n",
    "$$A \\cup (B \\cap C)=(A \\cup B) \\cap (A\\cup C)$$"
   ]
  },
  {
   "cell_type": "markdown",
   "metadata": {},
   "source": [
    "$1) A \\cap (B \\cup C)=(A \\cap B) \\cup (A\\cap C)$\n",
    "\n",
    "თუ x $\\in A \\cap (B \\cup C)$, მაშინ  $x \\in A$ და $x \\in B \\cup C$, რაც ნიშნავს, რომ:\n",
    "\n",
    "($x \\in A$ და $x \\in B$) ან ($x \\in A$ და $x \\in C$)\n",
    "                       \n",
    "ე. ი.  $A \\cap (B \\cup C)=(A \\cap B) \\cup (A\\cap C)$"
   ]
  },
  {
   "cell_type": "markdown",
   "metadata": {},
   "source": [
    "ანალოგიურად დამტკიცდება 2) დებულებაც."
   ]
  },
  {
   "cell_type": "markdown",
   "metadata": {},
   "source": [
    "# Linear Algebra"
   ]
  },
  {
   "cell_type": "markdown",
   "metadata": {},
   "source": [
    "#### Prove that:\n",
    "<br>\n",
    "$(AB)^{T} = B^{T}A^{T}$ for each pair of matrices $A, B \\in \\mathbb{R}^{n \\times m}$"
   ]
  },
  {
   "cell_type": "markdown",
   "metadata": {},
   "source": [
    "დამტკიცება: \n",
    "\n",
    "\n",
    "$(AB)^T_{i,j}= (\\sum_{k=1}^n A_{i,k}B_{k,J})^T= \\sum_{k=1}^n A_{j,k}B_{k,i}= \\sum_{k=1}^n B^T_{i,k}A^T_{k,j}=(B^TA^T)_{i,j}$\n",
    "\n",
    "\n",
    "                                რ. დ. გ."
   ]
  },
  {
   "cell_type": "markdown",
   "metadata": {},
   "source": [
    "## Functions on tensors"
   ]
  },
  {
   "cell_type": "markdown",
   "metadata": {},
   "source": [
    "#### Write combination for $XOR$ calculation"
   ]
  },
  {
   "cell_type": "code",
   "execution_count": 7,
   "metadata": {},
   "outputs": [
    {
     "name": "stdout",
     "output_type": "stream",
     "text": [
      "[[0 0 0 0 1 0 1 0 0 0 1 1 0 0 0 0 1 1 1 1 0 0 1 0 0 1 1 1 1 0 0 0 0 0 1]]\n",
      "[[0 1 1 1 1 1 1 1 0 0 1 0 1 1 0 1 1 1 0 1 1 1 1 1 0 0 1 0 0 0 0 1 1 0 1]]\n",
      "[[0 1 1 1 0 1 0 1 0 0 0 1 1 1 0 1 0 0 1 0 1 1 0 1 0 1 0 1 1 0 0 1 1 0 0]]\n"
     ]
    }
   ],
   "source": [
    "def XOR_calc(A,B):\n",
    "    \n",
    "    if A.shape != B.shape:\n",
    "        \n",
    "        return 'შეცდომა: მატრიცების განზომილებები ერთმანეთს არ ემთხვევა'\n",
    "    \n",
    "    for i in range(A.shape[0]):\n",
    "        \n",
    "        for j in range(A.shape[1]):\n",
    "            \n",
    "            if (A[i,j] !=0 and A[i,j] !=1) or (B[i,j] !=0 and B[i,j] !=1):\n",
    "                \n",
    "                return 'შეცდომა: რომელიღაც მატრიცა შეიცავს 0-სგან და 1-სგან განსხვავებულ ელემენტ(ებ)ს'\n",
    "            \n",
    "            C[i,j]=0\n",
    "            \n",
    "            if A[i,j]==1 and B[i,j]==0:\n",
    "                C[i,j]=1\n",
    "            \n",
    "            if A[i,j]==0 and B[i,j]==1:\n",
    "                C[i,j]=1\n",
    "                \n",
    "    return C\n",
    "\n",
    "n=1\n",
    "m=35\n",
    "A=np.random.randint(0,2, size=(n, m))\n",
    "B=np.random.randint(0,2, size=(n, m))\n",
    "C=np.random.randint(0,2, size=(n, m))\n",
    "\n",
    "\n",
    "\n",
    "\n",
    "print (A)\n",
    "print (B)\n",
    "print(XOR_calc(A,B))\n",
    " "
   ]
  },
  {
   "cell_type": "code",
   "execution_count": null,
   "metadata": {},
   "outputs": [],
   "source": []
  }
 ],
 "metadata": {
  "kernelspec": {
   "display_name": "Python 3",
   "language": "python",
   "name": "python3"
  },
  "language_info": {
   "codemirror_mode": {
    "name": "ipython",
    "version": 3
   },
   "file_extension": ".py",
   "mimetype": "text/x-python",
   "name": "python",
   "nbconvert_exporter": "python",
   "pygments_lexer": "ipython3",
   "version": "3.7.3"
  }
 },
 "nbformat": 4,
 "nbformat_minor": 4
}
