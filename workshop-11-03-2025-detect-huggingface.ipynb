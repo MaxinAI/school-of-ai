{
 "cells": [
  {
   "cell_type": "code",
   "execution_count": null,
   "id": "31b1e5fa-2a90-48d9-9169-d717a09467b2",
   "metadata": {},
   "outputs": [],
   "source": [
    "%load_ext autoreload\n",
    "%autoreload 2\n",
    "\n",
    "%matplotlib inline"
   ]
  },
  {
   "cell_type": "markdown",
   "id": "fd93e1ed",
   "metadata": {},
   "source": [
    "# Workshop: Object Detection with Hugging Face Transformers and Ultralytics YOLOv8\n",
    "\n",
    "In this workshop we will explore two approaches for object detection using PyTorch:\n",
    "\n",
    "1. **Hugging Face Transformers** – Using the pre-trained DETR model (e.g. `facebook/detr-resnet-50`) via a pipeline for object detection.\n",
    "2. **Ultralytics YOLOv8** – Leveraging the latest YOLOv8 model for fast and efficient object detection.\n",
    "\n",
    "Both methods are easy to use, and each has its own advantages. Follow along to see example code for inference on a sample image."
   ]
  },
  {
   "cell_type": "markdown",
   "id": "a61242b7",
   "metadata": {},
   "source": [
    "## Installation and Setup\n",
    "\n",
    "First, install the necessary dependencies. We'll need `transformers` and `ultralytics` along with some basic libraries like `Pillow` and `matplotlib`.\n",
    "\n",
    "Run the cell below to install these packages."
   ]
  },
  {
   "cell_type": "code",
   "execution_count": null,
   "id": "c4857086",
   "metadata": {},
   "outputs": [],
   "source": [
    "# !pip install -U transformers pillow matplotlib ultralytics timm"
   ]
  },
  {
   "cell_type": "markdown",
   "id": "11e34bd4",
   "metadata": {},
   "source": [
    "## Hugging Face Object Detection Example\n",
    "\n",
    "In this section we use Hugging Face’s `pipeline` to load a pre-trained DETR model for object detection. We then download a sample image and run inference. The DETR model outputs a list of detected objects with their bounding boxes, scores, and labels."
   ]
  },
  {
   "cell_type": "code",
   "execution_count": null,
   "id": "ab09360f",
   "metadata": {},
   "outputs": [],
   "source": [
    "from transformers import pipeline\n",
    "import requests\n",
    "from PIL import Image\n",
    "from IPython.display import display\n",
    "\n",
    "# Download an example image\n",
    "url = \"https://ultralytics.com/images/bus.jpg\"\n",
    "image = Image.open(requests.get(url, stream=True).raw)\n",
    "\n",
    "# Initialize the Hugging Face object detection pipeline with DETR\n",
    "detr_detector = pipeline(\"object-detection\", model=\"facebook/detr-resnet-50\")\n",
    "\n",
    "# Run object detection on the image\n",
    "results = detr_detector(image)\n",
    "\n",
    "print(\"Hugging Face DETR Results:\")\n",
    "for r in results:\n",
    "    print(r)\n",
    "\n",
    "# Display the original image\n",
    "display(image)"
   ]
  },
  {
   "cell_type": "markdown",
   "id": "01ef3d5c",
   "metadata": {},
   "source": [
    "## Ultralytics YOLOv8 Object Detection Example\n",
    "\n",
    "Next, we use Ultralytics YOLOv8 – a very fast and modern object detector. We load a pre-trained YOLOv8n (nano) model and run inference on the same image. The model returns results that include bounding boxes and class labels, which we plot using matplotlib."
   ]
  },
  {
   "cell_type": "code",
   "execution_count": null,
   "id": "74b2fd3c",
   "metadata": {
    "scrolled": true
   },
   "outputs": [],
   "source": [
    "from ultralytics import YOLO\n",
    "import matplotlib.pyplot as plt\n",
    "\n",
    "# Load the pre-trained YOLOv8n model\n",
    "yolo_model = YOLO(\"yolov8n.pt\")\n",
    "\n",
    "# Run inference on the sample image\n",
    "results_yolo = yolo_model(\"https://ultralytics.com/images/bus.jpg\")\n",
    "\n",
    "# Print the YOLOv8 results\n",
    "print(results_yolo)\n",
    "\n",
    "# Plot the results (results_yolo[0].plot() returns a numpy array with bounding boxes drawn)\n",
    "plt.figure(figsize=(10, 10))\n",
    "plt.imshow(results_yolo[0].plot())\n",
    "plt.axis(\"off\")\n",
    "plt.title(\"Ultralytics YOLOv8 Inference\")\n",
    "plt.show()"
   ]
  },
  {
   "cell_type": "markdown",
   "id": "efbed10e",
   "metadata": {},
   "source": [
    "## Conclusion\n",
    "\n",
    "In this workshop notebook, we've seen two ways to perform object detection in PyTorch:\n",
    "\n",
    "- Using the Hugging Face Transformers pipeline with the DETR model, which simplifies the detection process and lets you easily switch models via the Hugging Face Hub.\n",
    "- Using Ultralytics YOLOv8, which is optimized for real-time performance and is very fast while still delivering good accuracy.\n",
    "\n",
    "Feel free to experiment further by swapping images, adjusting thresholds, or exploring additional models on the Hugging Face Hub and from Ultralytics.\n",
    "\n",
    "Happy detecting!"
   ]
  },
  {
   "cell_type": "code",
   "execution_count": null,
   "id": "15bbb9c0-5ee0-4e5e-9db6-a164fbab0e5e",
   "metadata": {},
   "outputs": [],
   "source": []
  }
 ],
 "metadata": {
  "kernelspec": {
   "display_name": "Python 3 (ipykernel)",
   "language": "python",
   "name": "python3"
  },
  "language_info": {
   "codemirror_mode": {
    "name": "ipython",
    "version": 3
   },
   "file_extension": ".py",
   "mimetype": "text/x-python",
   "name": "python",
   "nbconvert_exporter": "python",
   "pygments_lexer": "ipython3",
   "version": "3.12.9"
  }
 },
 "nbformat": 4,
 "nbformat_minor": 5
}
